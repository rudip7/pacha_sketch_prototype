{
 "cells": [
  {
   "cell_type": "code",
   "execution_count": 1,
   "metadata": {},
   "outputs": [],
   "source": [
    "import sys\n",
    "# append the path of the parent directory\n",
    "sys.path.append(\"..\")"
   ]
  },
  {
   "cell_type": "code",
   "execution_count": 15,
   "metadata": {},
   "outputs": [],
   "source": [
    "import math\n",
    "import os\n",
    "\n",
    "import numpy as np\n",
    "import matplotlib.pyplot as plt\n",
    "from matplotlib.patches import Rectangle\n",
    "import matplotlib.patches as patches\n",
    "\n",
    "import seaborn as sns\n",
    "import time\n",
    "import json\n",
    "import pandas as pd\n",
    "from ctypes import c_int32\n",
    "from itertools import product\n",
    "\n",
    "from scipy.stats import pearsonr\n",
    "from importlib import reload\n",
    "\n",
    "from lib import sketches\n",
    "from lib import visualization_utils\n",
    "from lib import encoders\n",
    "from lib import pacha_sketch\n",
    "reload(sketches)\n",
    "reload(visualization_utils)\n",
    "reload(encoders)\n",
    "reload(pacha_sketch)\n",
    "\n",
    "from lib.sketches import BloomFilter, CountMinSketch, H3HashFunctions, HashFunctionFamily\n",
    "from lib.visualization_utils import visualize_badic_cover, plot_b_adic_cubes\n",
    "from lib.encoders import minimal_b_adic_cover, minimal_spatial_b_adic_cover\n",
    "from lib.pacha_sketch import PachaSketch, CMParameters, BFParameters"
   ]
  },
  {
   "cell_type": "code",
   "execution_count": 3,
   "metadata": {},
   "outputs": [],
   "source": [
    "df = pd.read_parquet(\"data/normal_3d_100k.parquet\")"
   ]
  },
  {
   "cell_type": "code",
   "execution_count": 16,
   "metadata": {},
   "outputs": [],
   "source": [
    "cm_params = CMParameters(width=300000, depth=5)\n",
    "bf_params = BFParameters(n_values=len(df), p=0.01)"
   ]
  },
  {
   "cell_type": "code",
   "execution_count": 17,
   "metadata": {},
   "outputs": [],
   "source": [
    "pacha_sketch = PachaSketch(dimensions=3, base=5, levels=4, cm_params=cm_params, bf_params=bf_params, sketch_type=[\"bf\", \"cm\", \"cm\", \"cm\"])    "
   ]
  },
  {
   "cell_type": "code",
   "execution_count": 19,
   "metadata": {},
   "outputs": [
    {
     "data": {
      "text/plain": [
       "<lib.pacha_sketch.PachaSketch at 0x7f4792305280>"
      ]
     },
     "execution_count": 19,
     "metadata": {},
     "output_type": "execute_result"
    }
   ],
   "source": [
    "pacha_sketch.update_data_frame(df)"
   ]
  },
  {
   "cell_type": "markdown",
   "metadata": {},
   "source": [
    "# Evaluation"
   ]
  },
  {
   "cell_type": "code",
   "execution_count": 20,
   "metadata": {},
   "outputs": [],
   "source": [
    "levels = 4\n",
    "base = 5\n",
    "dimensions = 3\n",
    "\n",
    "# Create queries\n",
    "lower_bound = 4800\n",
    "upper_bound = 5200 - base ** (levels-1)\n",
    "n_samples = 20\n",
    "\n",
    "queries = []\n",
    "\n",
    "for l in range(levels):\n",
    "    l_queries = []\n",
    "    for i in range(n_samples):\n",
    "        start = np.random.randint(lower_bound, upper_bound)\n",
    "        end = start + base**l - 1\n",
    "        query = [(int(start), int(end))] * dimensions\n",
    "        l_queries.append(query)\n",
    "    queries.append(l_queries)"
   ]
  },
  {
   "cell_type": "code",
   "execution_count": null,
   "metadata": {},
   "outputs": [
    {
     "name": "stdout",
     "output_type": "stream",
     "text": [
      "level compleated: 0\n",
      "level compleated: 1\n",
      "level compleated: 2\n",
      "level compleated: 3\n"
     ]
    }
   ],
   "source": [
    "base = 5\n",
    "dimensions = 3\n",
    "pacha_sketch = pacha_sketch\n",
    "\n",
    "true_results = []\n",
    "estimates = []\n",
    "absolute_errors = []\n",
    "relative_errors = []\n",
    "\n",
    "for l in range(levels):\n",
    "    l_true_results = []\n",
    "    l_estimates = []\n",
    "    l_absolute_errors = []\n",
    "    l_relative_errors = []\n",
    "\n",
    "    for i in range(n_samples):\n",
    "        query = queries[l][i]\n",
    "\n",
    "        true_result = df.query(\" and \".join([f\"d_{i} >= {query[i][0]} and d_{i} <= {query[i][1]}\" for i in range(dimensions)])).shape[0]\n",
    "        estimate = pacha_sketch.query(query)\n",
    "\n",
    "        l_true_results.append(true_result)\n",
    "        l_estimates.append(int(estimate))\n",
    "\n",
    "        l_absolute_errors.append(int(abs(true_result - estimate)))\n",
    "        if true_result != 0:\n",
    "            l_relative_errors.append(abs(true_result - estimate) / true_result)\n",
    "        else:\n",
    "            l_relative_errors.append(abs(true_result - estimate))\n",
    "    \n",
    "    print(f\"level compleated: {l}\")\n",
    "    true_results.append(l_true_results)\n",
    "    estimates.append(l_estimates)\n",
    "    absolute_errors.append(l_absolute_errors)\n",
    "    relative_errors.append(l_relative_errors)\n",
    "\n",
    "    \n",
    "    flat_true_results = np.array(true_results).flatten()\n",
    "    flat_estimates = np.array(estimates).flatten()\n",
    "    flat_relative_errors = np.array(relative_errors).flatten()\n",
    "    flat_absolute_errors = np.array(absolute_errors).flatten()\n"
   ]
  },
  {
   "cell_type": "code",
   "execution_count": null,
   "metadata": {},
   "outputs": [
    {
     "data": {
      "image/png": "[encoded data removed]",
      "text/plain": [
       "<Figure size 432x288 with 1 Axes>"
      ]
     },
     "metadata": {
      "needs_background": "light"
     },
     "output_type": "display_data"
    }
   ],
   "source": [
    "# Plot the histogram\n",
    "plt.hist(flat_relative_errors, bins=50, edgecolor='black')\n",
    "plt.xlabel('Relative Errors')\n",
    "plt.ylabel('Frequency')\n",
    "plt.title('Histogram of Relative Errors')\n",
    "plt.show()"
   ]
  },
  {
   "cell_type": "code",
   "execution_count": 33,
   "metadata": {},
   "outputs": [
    {
     "data": {
      "text/plain": [
       "np.int64(57)"
      ]
     },
     "execution_count": 33,
     "metadata": {},
     "output_type": "execute_result"
    }
   ],
   "source": [
    "np.argmax(flat_relative_errors)"
   ]
  },
  {
   "cell_type": "code",
   "execution_count": 37,
   "metadata": {},
   "outputs": [
    {
     "name": "stdout",
     "output_type": "stream",
     "text": [
      "True result: 0\n",
      "Estimate: 778\n",
      "Relative error: 778.0\n",
      "Absolute error: 778\n"
     ]
    }
   ],
   "source": [
    "i = np.argmax(flat_relative_errors)\n",
    "\n",
    "print(f\"True result: {flat_true_results[i]}\")\n",
    "print(f\"Estimate: {flat_estimates[i]}\")\n",
    "print(f\"Relative error: {flat_relative_errors[i]}\")\n",
    "print(f\"Absolute error: {flat_absolute_errors[i]}\")"
   ]
  },
  {
   "cell_type": "code",
   "execution_count": 41,
   "metadata": {},
   "outputs": [],
   "source": [
    "results = np.asarray([flat_true_results, flat_estimates, flat_relative_errors, flat_absolute_errors]).T"
   ]
  },
  {
   "cell_type": "code",
   "execution_count": 43,
   "metadata": {},
   "outputs": [],
   "source": [
    "sorted_results = results[results[:, 0].argsort()[::-1]]"
   ]
  },
  {
   "cell_type": "code",
   "execution_count": 51,
   "metadata": {},
   "outputs": [],
   "source": [
    "query_sizes = []\n",
    "\n",
    "for l in range(levels):\n",
    "    query_sizes.append([l] * n_samples)\n",
    "\n",
    "query_sizes = np.array(query_sizes).flatten()"
   ]
  },
  {
   "cell_type": "code",
   "execution_count": 52,
   "metadata": {
    "vscode": {
     "languageId": "javascript"
    }
   },
   "outputs": [
    {
     "data": {
      "text/html": [
       "<div>\n",
       "<style scoped>\n",
       "    .dataframe tbody tr th:only-of-type {\n",
       "        vertical-align: middle;\n",
       "    }\n",
       "\n",
       "    .dataframe tbody tr th {\n",
       "        vertical-align: top;\n",
       "    }\n",
       "\n",
       "    .dataframe thead th {\n",
       "        text-align: right;\n",
       "    }\n",
       "</style>\n",
       "<table border=\"1\" class=\"dataframe\">\n",
       "  <thead>\n",
       "    <tr style=\"text-align: right;\">\n",
       "      <th></th>\n",
       "      <th>Query Size</th>\n",
       "      <th>True Results</th>\n",
       "      <th>Estimates</th>\n",
       "      <th>Relative Errors</th>\n",
       "      <th>Absolute Errors</th>\n",
       "    </tr>\n",
       "  </thead>\n",
       "  <tbody>\n",
       "    <tr>\n",
       "      <th>0</th>\n",
       "      <td>0</td>\n",
       "      <td>0</td>\n",
       "      <td>0</td>\n",
       "      <td>0.0</td>\n",
       "      <td>0</td>\n",
       "    </tr>\n",
       "    <tr>\n",
       "      <th>1</th>\n",
       "      <td>0</td>\n",
       "      <td>0</td>\n",
       "      <td>0</td>\n",
       "      <td>0.0</td>\n",
       "      <td>0</td>\n",
       "    </tr>\n",
       "    <tr>\n",
       "      <th>2</th>\n",
       "      <td>0</td>\n",
       "      <td>0</td>\n",
       "      <td>0</td>\n",
       "      <td>0.0</td>\n",
       "      <td>0</td>\n",
       "    </tr>\n",
       "    <tr>\n",
       "      <th>3</th>\n",
       "      <td>0</td>\n",
       "      <td>0</td>\n",
       "      <td>0</td>\n",
       "      <td>0.0</td>\n",
       "      <td>0</td>\n",
       "    </tr>\n",
       "    <tr>\n",
       "      <th>4</th>\n",
       "      <td>0</td>\n",
       "      <td>0</td>\n",
       "      <td>0</td>\n",
       "      <td>0.0</td>\n",
       "      <td>0</td>\n",
       "    </tr>\n",
       "  </tbody>\n",
       "</table>\n",
       "</div>"
      ],
      "text/plain": [
       "   Query Size  True Results  Estimates  Relative Errors  Absolute Errors\n",
       "0           0             0          0              0.0                0\n",
       "1           0             0          0              0.0                0\n",
       "2           0             0          0              0.0                0\n",
       "3           0             0          0              0.0                0\n",
       "4           0             0          0              0.0                0"
      ]
     },
     "execution_count": 52,
     "metadata": {},
     "output_type": "execute_result"
    }
   ],
   "source": [
    "data = {\n",
    "    'Query Size': query_sizes,\n",
    "    'True Results': flat_true_results,\n",
    "    'Estimates': flat_estimates,\n",
    "    'Relative Errors': flat_relative_errors,\n",
    "    'Absolute Errors': flat_absolute_errors\n",
    "}\n",
    "\n",
    "df_results = pd.DataFrame(data)\n",
    "df_results = df_results.sort_values(by='Relative Errors', ascending=True)\n",
    "df_results.head()"
   ]
  },
  {
   "cell_type": "code",
   "execution_count": 53,
   "metadata": {
    "vscode": {
     "languageId": "javascript"
    }
   },
   "outputs": [
    {
     "name": "stdout",
     "output_type": "stream",
     "text": [
      "    Query Size  True Results  Estimates  Relative Errors  Absolute Errors\n",
      "0            0             0          0         0.000000                0\n",
      "1            0             0          0         0.000000                0\n",
      "2            0             0          0         0.000000                0\n",
      "3            0             0          0         0.000000                0\n",
      "4            0             0          0         0.000000                0\n",
      "5            0             0          0         0.000000                0\n",
      "7            0             0          0         0.000000                0\n",
      "8            0             0          0         0.000000                0\n",
      "14           0             0          0         0.000000                0\n",
      "9            0             0          0         0.000000                0\n",
      "11           0             0          0         0.000000                0\n",
      "12           0             0          0         0.000000                0\n",
      "15           0             0          0         0.000000                0\n",
      "13           0             0          0         0.000000                0\n",
      "17           0             0          0         0.000000                0\n",
      "16           0             0          0         0.000000                0\n",
      "20           1             0          0         0.000000                0\n",
      "27           1             2          2         0.000000                0\n",
      "18           0             0          0         0.000000                0\n",
      "19           0             0          0         0.000000                0\n",
      "26           1             2          2         0.000000                0\n",
      "38           1             2          2         0.000000                0\n",
      "35           1             1          1         0.000000                0\n",
      "33           1             0          0         0.000000                0\n",
      "56           2             7          7         0.000000                0\n",
      "66           3         30084      30086         0.000066                2\n",
      "62           3         46956      46962         0.000128                6\n",
      "59           2           563        583         0.035524               20\n",
      "55           2           718        747         0.040390               29\n",
      "69           3         41565      43279         0.041237             1714\n",
      "65           3         38049      39639         0.041788             1590\n",
      "40           2           491        515         0.048880               24\n",
      "67           3         22035      23691         0.075153             1656\n",
      "73           3         14854      16350         0.100714             1496\n",
      "71           3         36507      60132         0.647136            23625\n",
      "64           3         34577      58564         0.693727            23987\n",
      "60           3         29302      53318         0.819603            24016\n",
      "72           3         28286      52519         0.856714            24233\n",
      "47           2           744       1474         0.981183              730\n",
      "6            0             0          1         1.000000                1\n",
      "32           1             0          1         1.000000                1\n",
      "10           0             0          1         1.000000                1\n",
      "37           1             9         19         1.111111               10\n",
      "51           2           691       1464         1.118669              773\n",
      "70           3         20527      44817         1.183320            24290\n",
      "49           2           592       1371         1.315878              779\n",
      "45           2           544       1338         1.459559              794\n",
      "50           2           422       1206         1.857820              784\n",
      "75           3         12613      36843         1.921034            24230\n",
      "31           1             5         16         2.200000               11\n",
      "39           1             4         14         2.500000               10\n",
      "58           2           301       1110         2.687708              809\n",
      "29           1             4         16         3.000000               12\n",
      "63           3          4556      28416         5.237050            23860\n",
      "48           2           131        926         6.068702              795\n",
      "34           1             0          7         7.000000                7\n",
      "25           1             2         17         7.500000               15\n",
      "21           1             0          8         8.000000                8\n",
      "46           2            89        949         9.662921              860\n",
      "28           1             1         12        11.000000               11\n",
      "76           3          1894      25812        12.628300            23918\n",
      "79           3          1552      24332        14.677835            22780\n",
      "24           1             0         15        15.000000               15\n",
      "77           3           141       2311        15.390071             2170\n",
      "23           1             1         17        16.000000               16\n",
      "36           1             0         18        18.000000               18\n",
      "22           1             0         18        18.000000               18\n",
      "30           1             0         21        21.000000               21\n",
      "44           2             0         28        28.000000               28\n",
      "74           3           413      23688        56.355932            23275\n",
      "68           3           340      23914        69.335294            23574\n",
      "43           2             0        701       701.000000              701\n",
      "78           3            35      24870       709.571429            24835\n",
      "52           2             0        721       721.000000              721\n",
      "54           2             0        725       725.000000              725\n",
      "53           2             0        733       733.000000              733\n",
      "41           2             1        745       744.000000              744\n",
      "42           2             0        764       764.000000              764\n",
      "61           3            32      24818       774.562500            24786\n",
      "57           2             0        778       778.000000              778\n"
     ]
    }
   ],
   "source": [
    "print(df_results.to_string())\n"
   ]
  },
  {
   "cell_type": "code",
   "execution_count": 44,
   "metadata": {},
   "outputs": [
    {
     "data": {
      "text/plain": [
       "array([[4.69560000e+04, 4.69620000e+04, 1.27779198e-04, 6.00000000e+00],\n",
       "       [4.15650000e+04, 4.32790000e+04, 4.12366173e-02, 1.71400000e+03],\n",
       "       [3.80490000e+04, 3.96390000e+04, 4.17882205e-02, 1.59000000e+03],\n",
       "       [3.65070000e+04, 6.01320000e+04, 6.47136166e-01, 2.36250000e+04],\n",
       "       [3.45770000e+04, 5.85640000e+04, 6.93727044e-01, 2.39870000e+04],\n",
       "       [3.00840000e+04, 3.00860000e+04, 6.64805212e-05, 2.00000000e+00],\n",
       "       [2.93020000e+04, 5.33180000e+04, 8.19602757e-01, 2.40160000e+04],\n",
       "       [2.82860000e+04, 5.25190000e+04, 8.56713569e-01, 2.42330000e+04],\n",
       "       [2.20350000e+04, 2.36910000e+04, 7.51531654e-02, 1.65600000e+03],\n",
       "       [2.05270000e+04, 4.48170000e+04, 1.18331953e+00, 2.42900000e+04],\n",
       "       [1.48540000e+04, 1.63500000e+04, 1.00713612e-01, 1.49600000e+03],\n",
       "       [1.26130000e+04, 3.68430000e+04, 1.92103385e+00, 2.42300000e+04],\n",
       "       [4.55600000e+03, 2.84160000e+04, 5.23705004e+00, 2.38600000e+04],\n",
       "       [1.89400000e+03, 2.58120000e+04, 1.26282999e+01, 2.39180000e+04],\n",
       "       [1.55200000e+03, 2.43320000e+04, 1.46778351e+01, 2.27800000e+04],\n",
       "       [7.44000000e+02, 1.47400000e+03, 9.81182796e-01, 7.30000000e+02],\n",
       "       [7.18000000e+02, 7.47000000e+02, 4.03899721e-02, 2.90000000e+01],\n",
       "       [6.91000000e+02, 1.46400000e+03, 1.11866860e+00, 7.73000000e+02],\n",
       "       [5.92000000e+02, 1.37100000e+03, 1.31587838e+00, 7.79000000e+02],\n",
       "       [5.63000000e+02, 5.83000000e+02, 3.55239787e-02, 2.00000000e+01],\n",
       "       [5.44000000e+02, 1.33800000e+03, 1.45955882e+00, 7.94000000e+02],\n",
       "       [4.91000000e+02, 5.15000000e+02, 4.88798371e-02, 2.40000000e+01],\n",
       "       [4.22000000e+02, 1.20600000e+03, 1.85781991e+00, 7.84000000e+02],\n",
       "       [4.13000000e+02, 2.36880000e+04, 5.63559322e+01, 2.32750000e+04],\n",
       "       [3.40000000e+02, 2.39140000e+04, 6.93352941e+01, 2.35740000e+04],\n",
       "       [3.01000000e+02, 1.11000000e+03, 2.68770764e+00, 8.09000000e+02],\n",
       "       [1.41000000e+02, 2.31100000e+03, 1.53900709e+01, 2.17000000e+03],\n",
       "       [1.31000000e+02, 9.26000000e+02, 6.06870229e+00, 7.95000000e+02],\n",
       "       [8.90000000e+01, 9.49000000e+02, 9.66292135e+00, 8.60000000e+02],\n",
       "       [3.50000000e+01, 2.48700000e+04, 7.09571429e+02, 2.48350000e+04],\n",
       "       [3.20000000e+01, 2.48180000e+04, 7.74562500e+02, 2.47860000e+04],\n",
       "       [9.00000000e+00, 1.90000000e+01, 1.11111111e+00, 1.00000000e+01],\n",
       "       [7.00000000e+00, 7.00000000e+00, 0.00000000e+00, 0.00000000e+00],\n",
       "       [5.00000000e+00, 1.60000000e+01, 2.20000000e+00, 1.10000000e+01],\n",
       "       [4.00000000e+00, 1.60000000e+01, 3.00000000e+00, 1.20000000e+01],\n",
       "       [4.00000000e+00, 1.40000000e+01, 2.50000000e+00, 1.00000000e+01],\n",
       "       [2.00000000e+00, 2.00000000e+00, 0.00000000e+00, 0.00000000e+00],\n",
       "       [2.00000000e+00, 2.00000000e+00, 0.00000000e+00, 0.00000000e+00],\n",
       "       [2.00000000e+00, 2.00000000e+00, 0.00000000e+00, 0.00000000e+00],\n",
       "       [2.00000000e+00, 1.70000000e+01, 7.50000000e+00, 1.50000000e+01],\n",
       "       [1.00000000e+00, 1.00000000e+00, 0.00000000e+00, 0.00000000e+00],\n",
       "       [1.00000000e+00, 1.70000000e+01, 1.60000000e+01, 1.60000000e+01],\n",
       "       [1.00000000e+00, 1.20000000e+01, 1.10000000e+01, 1.10000000e+01],\n",
       "       [1.00000000e+00, 7.45000000e+02, 7.44000000e+02, 7.44000000e+02],\n",
       "       [0.00000000e+00, 7.33000000e+02, 7.33000000e+02, 7.33000000e+02],\n",
       "       [0.00000000e+00, 7.25000000e+02, 7.25000000e+02, 7.25000000e+02],\n",
       "       [0.00000000e+00, 7.21000000e+02, 7.21000000e+02, 7.21000000e+02],\n",
       "       [0.00000000e+00, 7.78000000e+02, 7.78000000e+02, 7.78000000e+02],\n",
       "       [0.00000000e+00, 1.00000000e+00, 1.00000000e+00, 1.00000000e+00],\n",
       "       [0.00000000e+00, 0.00000000e+00, 0.00000000e+00, 0.00000000e+00],\n",
       "       [0.00000000e+00, 7.00000000e+00, 7.00000000e+00, 7.00000000e+00],\n",
       "       [0.00000000e+00, 1.80000000e+01, 1.80000000e+01, 1.80000000e+01],\n",
       "       [0.00000000e+00, 7.64000000e+02, 7.64000000e+02, 7.64000000e+02],\n",
       "       [0.00000000e+00, 2.80000000e+01, 2.80000000e+01, 2.80000000e+01],\n",
       "       [0.00000000e+00, 7.01000000e+02, 7.01000000e+02, 7.01000000e+02],\n",
       "       [0.00000000e+00, 2.10000000e+01, 2.10000000e+01, 2.10000000e+01],\n",
       "       [0.00000000e+00, 1.50000000e+01, 1.50000000e+01, 1.50000000e+01],\n",
       "       [0.00000000e+00, 1.80000000e+01, 1.80000000e+01, 1.80000000e+01],\n",
       "       [0.00000000e+00, 8.00000000e+00, 8.00000000e+00, 8.00000000e+00],\n",
       "       [0.00000000e+00, 0.00000000e+00, 0.00000000e+00, 0.00000000e+00],\n",
       "       [0.00000000e+00, 0.00000000e+00, 0.00000000e+00, 0.00000000e+00],\n",
       "       [0.00000000e+00, 0.00000000e+00, 0.00000000e+00, 0.00000000e+00],\n",
       "       [0.00000000e+00, 0.00000000e+00, 0.00000000e+00, 0.00000000e+00],\n",
       "       [0.00000000e+00, 0.00000000e+00, 0.00000000e+00, 0.00000000e+00],\n",
       "       [0.00000000e+00, 0.00000000e+00, 0.00000000e+00, 0.00000000e+00],\n",
       "       [0.00000000e+00, 0.00000000e+00, 0.00000000e+00, 0.00000000e+00],\n",
       "       [0.00000000e+00, 0.00000000e+00, 0.00000000e+00, 0.00000000e+00],\n",
       "       [0.00000000e+00, 0.00000000e+00, 0.00000000e+00, 0.00000000e+00],\n",
       "       [0.00000000e+00, 0.00000000e+00, 0.00000000e+00, 0.00000000e+00],\n",
       "       [0.00000000e+00, 1.00000000e+00, 1.00000000e+00, 1.00000000e+00],\n",
       "       [0.00000000e+00, 0.00000000e+00, 0.00000000e+00, 0.00000000e+00],\n",
       "       [0.00000000e+00, 0.00000000e+00, 0.00000000e+00, 0.00000000e+00],\n",
       "       [0.00000000e+00, 0.00000000e+00, 0.00000000e+00, 0.00000000e+00],\n",
       "       [0.00000000e+00, 1.00000000e+00, 1.00000000e+00, 1.00000000e+00],\n",
       "       [0.00000000e+00, 0.00000000e+00, 0.00000000e+00, 0.00000000e+00],\n",
       "       [0.00000000e+00, 0.00000000e+00, 0.00000000e+00, 0.00000000e+00],\n",
       "       [0.00000000e+00, 0.00000000e+00, 0.00000000e+00, 0.00000000e+00],\n",
       "       [0.00000000e+00, 0.00000000e+00, 0.00000000e+00, 0.00000000e+00],\n",
       "       [0.00000000e+00, 0.00000000e+00, 0.00000000e+00, 0.00000000e+00],\n",
       "       [0.00000000e+00, 0.00000000e+00, 0.00000000e+00, 0.00000000e+00]])"
      ]
     },
     "execution_count": 44,
     "metadata": {},
     "output_type": "execute_result"
    }
   ],
   "source": [
    "sorted_results"
   ]
  },
  {
   "cell_type": "code",
   "execution_count": 28,
   "metadata": {},
   "outputs": [
    {
     "name": "stdout",
     "output_type": "stream",
     "text": [
      "Space size: 125000000\n",
      "Level space: 1000000\n",
      "Ratio: 125.0\n"
     ]
    }
   ],
   "source": [
    "r = 500\n",
    "d = 3\n",
    "\n",
    "space_size = r ** d\n",
    "\n",
    "b = 5\n",
    "l = 1\n",
    "\n",
    "level_space = (r // (b ** l)) ** d\n",
    "\n",
    "print(f\"Space size: {space_size}\")\n",
    "print(f\"Level space: {level_space}\")\n",
    "print(f\"Ratio: {space_size / level_space}\")"
   ]
  }
 ],
 "metadata": {
  "kernelspec": {
   "display_name": "Python 3",
   "language": "python",
   "name": "python3"
  },
  "language_info": {
   "codemirror_mode": {
    "name": "ipython",
    "version": 3
   },
   "file_extension": ".py",
   "mimetype": "text/x-python",
   "name": "python",
   "nbconvert_exporter": "python",
   "pygments_lexer": "ipython3",
   "version": "3.12.3"
  }
 },
 "nbformat": 4,
 "nbformat_minor": 2
}
