{
 "cells": [
  {
   "cell_type": "code",
   "execution_count": 1,
   "metadata": {},
   "outputs": [],
   "source": [
    "import sys\n",
    "# append the path of the parent directory\n",
    "sys.path.append(\"..\")"
   ]
  },
  {
   "cell_type": "code",
   "execution_count": 28,
   "metadata": {},
   "outputs": [],
   "source": [
    "import math\n",
    "import os\n",
    "import time\n",
    "\n",
    "\n",
    "import numpy as np\n",
    "import matplotlib.pyplot as plt\n",
    "from matplotlib.patches import Rectangle\n",
    "import matplotlib.patches as patches\n",
    "\n",
    "import seaborn as sns\n",
    "import time\n",
    "import json\n",
    "import pandas as pd\n",
    "from ctypes import c_int32\n",
    "from itertools import product\n",
    "\n",
    "from scipy.stats import pearsonr\n",
    "from importlib import reload\n",
    "\n",
    "from lib import sketches, visualization_utils, encoders, pacha_sketch, ploting\n",
    "reload(ploting)\n",
    "reload(sketches)\n",
    "reload(visualization_utils)\n",
    "reload(encoders)\n",
    "reload(pacha_sketch)\n",
    "\n",
    "from lib.sketches import BloomFilter, CountMinSketch, H3HashFunctions, HashFunctionFamily\n",
    "from lib.visualization_utils import visualize_badic_cover, plot_b_adic_cubes\n",
    "from lib.encoders import minimal_b_adic_cover, minimal_spatial_b_adic_cover\n",
    "from lib.pacha_sketch import PachaSketch, SpatialPachaSketch, HilbertPachaSketch, CMParameters, BFParameters, BaselineSketch\n",
    "\n",
    "from lib.ploting import set_style, plot_ylabel, plot_legend\n",
    "\n",
    "set_style()"
   ]
  },
  {
   "cell_type": "code",
   "execution_count": 3,
   "metadata": {},
   "outputs": [],
   "source": [
    "df = pd.read_parquet(\"data/normal_3d_100k.parquet\")"
   ]
  },
  {
   "cell_type": "code",
   "execution_count": 5,
   "metadata": {},
   "outputs": [
    {
     "data": {
      "text/html": [
       "<div>\n",
       "<style scoped>\n",
       "    .dataframe tbody tr th:only-of-type {\n",
       "        vertical-align: middle;\n",
       "    }\n",
       "\n",
       "    .dataframe tbody tr th {\n",
       "        vertical-align: top;\n",
       "    }\n",
       "\n",
       "    .dataframe thead th {\n",
       "        text-align: right;\n",
       "    }\n",
       "</style>\n",
       "<table border=\"1\" class=\"dataframe\">\n",
       "  <thead>\n",
       "    <tr style=\"text-align: right;\">\n",
       "      <th></th>\n",
       "      <th>d_0</th>\n",
       "      <th>d_1</th>\n",
       "      <th>d_2</th>\n",
       "    </tr>\n",
       "  </thead>\n",
       "  <tbody>\n",
       "    <tr>\n",
       "      <th>count</th>\n",
       "      <td>100000.000000</td>\n",
       "      <td>100000.000000</td>\n",
       "      <td>100000.000000</td>\n",
       "    </tr>\n",
       "    <tr>\n",
       "      <th>mean</th>\n",
       "      <td>4999.381370</td>\n",
       "      <td>4999.287520</td>\n",
       "      <td>4999.427570</td>\n",
       "    </tr>\n",
       "    <tr>\n",
       "      <th>std</th>\n",
       "      <td>49.816793</td>\n",
       "      <td>50.016921</td>\n",
       "      <td>49.733705</td>\n",
       "    </tr>\n",
       "    <tr>\n",
       "      <th>min</th>\n",
       "      <td>4788.000000</td>\n",
       "      <td>4783.000000</td>\n",
       "      <td>4780.000000</td>\n",
       "    </tr>\n",
       "    <tr>\n",
       "      <th>25%</th>\n",
       "      <td>4966.000000</td>\n",
       "      <td>4966.000000</td>\n",
       "      <td>4966.000000</td>\n",
       "    </tr>\n",
       "    <tr>\n",
       "      <th>50%</th>\n",
       "      <td>5000.000000</td>\n",
       "      <td>4999.000000</td>\n",
       "      <td>4999.000000</td>\n",
       "    </tr>\n",
       "    <tr>\n",
       "      <th>75%</th>\n",
       "      <td>5033.000000</td>\n",
       "      <td>5033.000000</td>\n",
       "      <td>5033.000000</td>\n",
       "    </tr>\n",
       "    <tr>\n",
       "      <th>max</th>\n",
       "      <td>5241.000000</td>\n",
       "      <td>5219.000000</td>\n",
       "      <td>5217.000000</td>\n",
       "    </tr>\n",
       "  </tbody>\n",
       "</table>\n",
       "</div>"
      ],
      "text/plain": [
       "                 d_0            d_1            d_2\n",
       "count  100000.000000  100000.000000  100000.000000\n",
       "mean     4999.381370    4999.287520    4999.427570\n",
       "std        49.816793      50.016921      49.733705\n",
       "min      4788.000000    4783.000000    4780.000000\n",
       "25%      4966.000000    4966.000000    4966.000000\n",
       "50%      5000.000000    4999.000000    4999.000000\n",
       "75%      5033.000000    5033.000000    5033.000000\n",
       "max      5241.000000    5219.000000    5217.000000"
      ]
     },
     "execution_count": 5,
     "metadata": {},
     "output_type": "execute_result"
    }
   ],
   "source": [
    "df.describe()"
   ]
  },
  {
   "cell_type": "markdown",
   "metadata": {},
   "source": [
    "# Building Sketches"
   ]
  },
  {
   "cell_type": "markdown",
   "metadata": {},
   "source": [
    "## Building Spatial Pacha-Sketches"
   ]
  },
  {
   "cell_type": "code",
   "execution_count": 15,
   "metadata": {},
   "outputs": [],
   "source": [
    "cm_params = CMParameters(width=300000, depth=5)\n",
    "bf_params = BFParameters(n_values=len(df), p=0.01)"
   ]
  },
  {
   "cell_type": "code",
   "execution_count": 16,
   "metadata": {},
   "outputs": [],
   "source": [
    "spatial_pacha_sketch_5 = SpatialPachaSketch(num_dimensions=3, base=5, levels=4, cm_params=cm_params, bf_params=bf_params, sketch_type=[\"bf\", \"cm\", \"cm\", \"cm\"])    "
   ]
  },
  {
   "cell_type": "code",
   "execution_count": 17,
   "metadata": {},
   "outputs": [
    {
     "data": {
      "text/plain": [
       "<lib.pacha_sketch.SpatialPachaSketch at 0x7fc6f13f1550>"
      ]
     },
     "execution_count": 17,
     "metadata": {},
     "output_type": "execute_result"
    }
   ],
   "source": [
    "spatial_pacha_sketch_5.update_data_frame(df)"
   ]
  },
  {
   "cell_type": "code",
   "execution_count": 29,
   "metadata": {},
   "outputs": [
    {
     "data": {
      "text/plain": [
       "<lib.pacha_sketch.SpatialPachaSketch at 0x7fd1c4b97c50>"
      ]
     },
     "execution_count": 29,
     "metadata": {},
     "output_type": "execute_result"
    }
   ],
   "source": [
    "spatial_pacha_sketch_2 = SpatialPachaSketch(num_dimensions=3, base=2, levels=9, cm_params=cm_params, bf_params=bf_params, sketch_type=[\"bf\"]+[\"cm\"]*8)    \n",
    "spatial_pacha_sketch_2.update_data_frame(df)"
   ]
  },
  {
   "cell_type": "markdown",
   "metadata": {},
   "source": [
    "## Building Hilbert Pacha-Sketches"
   ]
  },
  {
   "cell_type": "code",
   "execution_count": 18,
   "metadata": {},
   "outputs": [],
   "source": [
    "cm_params = CMParameters(width=300000, depth=5)\n",
    "bf_params = BFParameters(n_values=len(df), p=0.01)"
   ]
  },
  {
   "cell_type": "code",
   "execution_count": 19,
   "metadata": {},
   "outputs": [],
   "source": [
    "hilbert_pacha_sketch_5 = HilbertPachaSketch(num_dimensions=3, num_bits=13, base=5, levels=10, cm_params=cm_params, bf_params=bf_params, sketch_type=[\"bf\"]*2+[\"cm\"]*8)"
   ]
  },
  {
   "cell_type": "code",
   "execution_count": 20,
   "metadata": {},
   "outputs": [
    {
     "data": {
      "text/plain": [
       "<lib.pacha_sketch.HilbertPachaSketch at 0x7fc6f13f12e0>"
      ]
     },
     "execution_count": 20,
     "metadata": {},
     "output_type": "execute_result"
    }
   ],
   "source": [
    "hilbert_pacha_sketch_5.update_data_frame(df)"
   ]
  },
  {
   "cell_type": "code",
   "execution_count": 34,
   "metadata": {},
   "outputs": [
    {
     "data": {
      "text/plain": [
       "<lib.pacha_sketch.HilbertPachaSketch at 0x7fc6b6952c90>"
      ]
     },
     "execution_count": 34,
     "metadata": {},
     "output_type": "execute_result"
    }
   ],
   "source": [
    "hilbert_pacha_sketch_5_v2 = HilbertPachaSketch(num_dimensions=3, num_bits=13, base=5, levels=10, cm_params=cm_params, bf_params=bf_params, sketch_type=[\"bf\"]+[\"cm\"]*9)\n",
    "hilbert_pacha_sketch_5_v2.update_data_frame(df)"
   ]
  },
  {
   "cell_type": "code",
   "execution_count": 42,
   "metadata": {},
   "outputs": [
    {
     "data": {
      "text/plain": [
       "<lib.pacha_sketch.HilbertPachaSketch at 0x7fd1c4d83740>"
      ]
     },
     "execution_count": 42,
     "metadata": {},
     "output_type": "execute_result"
    }
   ],
   "source": [
    "hilbert_pacha_sketch_2 = HilbertPachaSketch(num_dimensions=3, num_bits=13, base=2, levels=24, cm_params=cm_params, bf_params=bf_params, sketch_type=[\"bf\"]+[\"cm\"]*23)\n",
    "hilbert_pacha_sketch_2.update_data_frame(df)"
   ]
  },
  {
   "cell_type": "markdown",
   "metadata": {},
   "source": [
    "## Baseline Count-Min Sketch"
   ]
  },
  {
   "cell_type": "code",
   "execution_count": 29,
   "metadata": {},
   "outputs": [
    {
     "data": {
      "text/plain": [
       "<lib.pacha_sketch.BaselineSketch at 0x7fc6f13f1070>"
      ]
     },
     "execution_count": 29,
     "metadata": {},
     "output_type": "execute_result"
    }
   ],
   "source": [
    "cm_params = CMParameters(width=300000, depth=5)\n",
    "cm_baseline = BaselineSketch(num_dimensions=3, cm_params=cm_params, sketch_type=\"cm\")\n",
    "cm_baseline.update_data_frame(df)"
   ]
  },
  {
   "cell_type": "markdown",
   "metadata": {},
   "source": [
    "# Evaluation"
   ]
  },
  {
   "cell_type": "markdown",
   "metadata": {},
   "source": [
    "## General Functions and Query Generation"
   ]
  },
  {
   "cell_type": "code",
   "execution_count": 4,
   "metadata": {},
   "outputs": [],
   "source": [
    "levels = 4\n",
    "base = 5\n",
    "dimensions = 3\n",
    "\n",
    "# Create queries\n",
    "lower_bound = 4800\n",
    "upper_bound = 5200 - base ** (levels-1)\n",
    "n_samples = 20\n",
    "\n",
    "queries_5 = []\n",
    "\n",
    "for l in range(levels):\n",
    "    l_queries = []\n",
    "    for i in range(n_samples):\n",
    "        start = np.random.randint(lower_bound, upper_bound)\n",
    "        end = start + base**l - 1\n",
    "        query = [(int(start), int(end))] * dimensions\n",
    "        l_queries.append(query)\n",
    "    queries_5.append(l_queries)"
   ]
  },
  {
   "cell_type": "code",
   "execution_count": 11,
   "metadata": {},
   "outputs": [],
   "source": [
    "queries_df = pd.DataFrame(queries_5)\n",
    "queries_df.to_parquet(\"queries/queries_5.parquet\")"
   ]
  },
  {
   "cell_type": "code",
   "execution_count": 30,
   "metadata": {},
   "outputs": [],
   "source": [
    "def evaluate_queries(pacha_sketch: PachaSketch, queries: list, flat_results: bool = True):\n",
    "    true_results = []\n",
    "    estimates = []\n",
    "    absolute_errors = []\n",
    "    relative_errors = []\n",
    "    times = []\n",
    "\n",
    "    for l in range(levels):\n",
    "        l_true_results = []\n",
    "        l_estimates = []\n",
    "        l_absolute_errors = []\n",
    "        l_relative_errors = []\n",
    "        l_times = []\n",
    "\n",
    "        for i in range(n_samples):\n",
    "            query = queries[l][i]\n",
    "\n",
    "            true_result = df.query(\" and \".join([f\"d_{i} >= {query[i][0]} and d_{i} <= {query[i][1]}\" for i in range(dimensions)])).shape[0]\n",
    "            \n",
    "            start = time.time()\n",
    "            estimate = pacha_sketch.query(query)\n",
    "            end = time.time()\n",
    "            l_times.append(end - start)\n",
    "\n",
    "            l_true_results.append(true_result)\n",
    "            l_estimates.append(int(estimate))\n",
    "\n",
    "            l_absolute_errors.append(int(abs(true_result - estimate)))\n",
    "            if true_result != 0:\n",
    "                l_relative_errors.append(abs(true_result - estimate) / true_result)\n",
    "            else:\n",
    "                l_relative_errors.append(abs(true_result - estimate))\n",
    "    \n",
    "        print(f\"level compleated: {l}\")\n",
    "        true_results.append(l_true_results)\n",
    "        estimates.append(l_estimates)\n",
    "        absolute_errors.append(l_absolute_errors)\n",
    "        relative_errors.append(l_relative_errors)\n",
    "        times.append(l_times)\n",
    "\n",
    "    if flat_results:\n",
    "        true_results = np.array(true_results).flatten()\n",
    "        estimates = np.array(estimates).flatten()\n",
    "        relative_errors = np.array(relative_errors).flatten()\n",
    "        absolute_errors = np.array(absolute_errors).flatten()\n",
    "        times = np.array(l_times).flatten()\n",
    "\n",
    "    return true_results, estimates, absolute_errors, relative_errors, times\n",
    "        "
   ]
  },
  {
   "cell_type": "markdown",
   "metadata": {},
   "source": [
    "## Evaluating B-Adic Space Cover"
   ]
  },
  {
   "cell_type": "code",
   "execution_count": 19,
   "metadata": {},
   "outputs": [
    {
     "name": "stdout",
     "output_type": "stream",
     "text": [
      "level compleated: 0\n",
      "level compleated: 1\n",
      "level compleated: 2\n",
      "level compleated: 3\n"
     ]
    }
   ],
   "source": [
    "true_results_s_5, estimates_s_5, absolute_errors_s_5, relative_errors_s_5 = evaluate_queries(pacha_sketch=spatial_pacha_sketch_5, queries=queries_5)\n"
   ]
  },
  {
   "cell_type": "code",
   "execution_count": 30,
   "metadata": {},
   "outputs": [
    {
     "name": "stdout",
     "output_type": "stream",
     "text": [
      "level compleated: 0\n",
      "level compleated: 1\n",
      "level compleated: 2\n",
      "level compleated: 3\n"
     ]
    }
   ],
   "source": [
    "true_results_s_2, estimates_s_2, absolute_errors_s_2, relative_errors_s_2 = evaluate_queries(pacha_sketch=spatial_pacha_sketch_2, queries=queries_5)"
   ]
  },
  {
   "cell_type": "code",
   "execution_count": null,
   "metadata": {},
   "outputs": [
    {
     "data": {
      "image/png": "[encoded data removed]",
      "text/plain": [
       "<Figure size 720x360 with 2 Axes>"
      ]
     },
     "metadata": {
      "needs_background": "light"
     },
     "output_type": "display_data"
    }
   ],
   "source": [
    "plt.figure(figsize=(10, 5))\n",
    "plt.suptitle('Spatial Pacha Sketch')\n",
    "\n",
    "plt.subplot(1, 2, 1)\n",
    "plt.hist(relative_errors_s_5, bins=50, edgecolor='black', color='blue')\n",
    "plt.xlabel('Relative Errors')\n",
    "plt.ylabel('Frequency')\n",
    "plt.title('Histogram of Relative Errors - Base 5')\n",
    "\n",
    "plt.subplot(1, 2, 2)\n",
    "plt.hist(relative_errors_s_2, bins=50, edgecolor='black', color='orange')\n",
    "plt.xlabel('Relative Errors')\n",
    "plt.ylabel('Frequency')\n",
    "plt.title('Histogram of Relative Errors - Base 2')\n",
    "\n",
    "plt.show()"
   ]
  },
  {
   "cell_type": "code",
   "execution_count": 23,
   "metadata": {},
   "outputs": [
    {
     "data": {
      "text/plain": [
       "np.int64(41)"
      ]
     },
     "execution_count": 23,
     "metadata": {},
     "output_type": "execute_result"
    }
   ],
   "source": [
    "np.argmax(relative_errors)"
   ]
  },
  {
   "cell_type": "code",
   "execution_count": 25,
   "metadata": {},
   "outputs": [
    {
     "name": "stdout",
     "output_type": "stream",
     "text": [
      "True result: 0\n",
      "Estimate: 755\n",
      "Relative error: 755.0\n",
      "Absolute error: 755\n"
     ]
    }
   ],
   "source": [
    "i = np.argmax(relative_errors)\n",
    "\n",
    "print(f\"True result: {true_results[i]}\")\n",
    "print(f\"Estimate: {estimates[i]}\")\n",
    "print(f\"Relative error: {relative_errors[i]}\")\n",
    "print(f\"Absolute error: {absolute_errors[i]}\")"
   ]
  },
  {
   "cell_type": "code",
   "execution_count": 26,
   "metadata": {},
   "outputs": [],
   "source": [
    "results = np.asarray([true_results, estimates, relative_errors, absolute_errors]).T"
   ]
  },
  {
   "cell_type": "code",
   "execution_count": 27,
   "metadata": {},
   "outputs": [],
   "source": [
    "sorted_results = results[results[:, 0].argsort()[::-1]]"
   ]
  },
  {
   "cell_type": "code",
   "execution_count": 28,
   "metadata": {},
   "outputs": [],
   "source": [
    "query_sizes = []\n",
    "\n",
    "for l in range(levels):\n",
    "    query_sizes.append([l] * n_samples)\n",
    "\n",
    "query_sizes = np.array(query_sizes).flatten()"
   ]
  },
  {
   "cell_type": "code",
   "execution_count": 30,
   "metadata": {
    "vscode": {
     "languageId": "javascript"
    }
   },
   "outputs": [
    {
     "data": {
      "text/html": [
       "<div>\n",
       "<style scoped>\n",
       "    .dataframe tbody tr th:only-of-type {\n",
       "        vertical-align: middle;\n",
       "    }\n",
       "\n",
       "    .dataframe tbody tr th {\n",
       "        vertical-align: top;\n",
       "    }\n",
       "\n",
       "    .dataframe thead th {\n",
       "        text-align: right;\n",
       "    }\n",
       "</style>\n",
       "<table border=\"1\" class=\"dataframe\">\n",
       "  <thead>\n",
       "    <tr style=\"text-align: right;\">\n",
       "      <th></th>\n",
       "      <th>Query Size</th>\n",
       "      <th>True Results</th>\n",
       "      <th>Estimates</th>\n",
       "      <th>Relative Errors</th>\n",
       "      <th>Absolute Errors</th>\n",
       "    </tr>\n",
       "  </thead>\n",
       "  <tbody>\n",
       "    <tr>\n",
       "      <th>0</th>\n",
       "      <td>0</td>\n",
       "      <td>0</td>\n",
       "      <td>0</td>\n",
       "      <td>0.0</td>\n",
       "      <td>0</td>\n",
       "    </tr>\n",
       "    <tr>\n",
       "      <th>1</th>\n",
       "      <td>0</td>\n",
       "      <td>0</td>\n",
       "      <td>0</td>\n",
       "      <td>0.0</td>\n",
       "      <td>0</td>\n",
       "    </tr>\n",
       "    <tr>\n",
       "      <th>2</th>\n",
       "      <td>0</td>\n",
       "      <td>0</td>\n",
       "      <td>0</td>\n",
       "      <td>0.0</td>\n",
       "      <td>0</td>\n",
       "    </tr>\n",
       "    <tr>\n",
       "      <th>3</th>\n",
       "      <td>0</td>\n",
       "      <td>0</td>\n",
       "      <td>0</td>\n",
       "      <td>0.0</td>\n",
       "      <td>0</td>\n",
       "    </tr>\n",
       "    <tr>\n",
       "      <th>4</th>\n",
       "      <td>0</td>\n",
       "      <td>0</td>\n",
       "      <td>0</td>\n",
       "      <td>0.0</td>\n",
       "      <td>0</td>\n",
       "    </tr>\n",
       "  </tbody>\n",
       "</table>\n",
       "</div>"
      ],
      "text/plain": [
       "   Query Size  True Results  Estimates  Relative Errors  Absolute Errors\n",
       "0           0             0          0              0.0                0\n",
       "1           0             0          0              0.0                0\n",
       "2           0             0          0              0.0                0\n",
       "3           0             0          0              0.0                0\n",
       "4           0             0          0              0.0                0"
      ]
     },
     "execution_count": 30,
     "metadata": {},
     "output_type": "execute_result"
    }
   ],
   "source": [
    "data = {\n",
    "    'Query Size': query_sizes,\n",
    "    'True Results': true_results,\n",
    "    'Estimates': estimates,\n",
    "    'Relative Errors': relative_errors,\n",
    "    'Absolute Errors': absolute_errors\n",
    "}\n",
    "\n",
    "df_results = pd.DataFrame(data)\n",
    "df_results = df_results.sort_values(by='Relative Errors', ascending=True)\n",
    "df_results.head()"
   ]
  },
  {
   "cell_type": "code",
   "execution_count": 32,
   "metadata": {
    "vscode": {
     "languageId": "javascript"
    }
   },
   "outputs": [
    {
     "name": "stdout",
     "output_type": "stream",
     "text": [
      "    Query Size  True Results  Estimates  Relative Errors  Absolute Errors\n",
      "0            0             0          0         0.000000                0\n",
      "1            0             0          0         0.000000                0\n",
      "2            0             0          0         0.000000                0\n",
      "3            0             0          0         0.000000                0\n",
      "4            0             0          0         0.000000                0\n",
      "5            0             1          1         0.000000                0\n",
      "7            0             0          0         0.000000                0\n",
      "8            0             0          0         0.000000                0\n",
      "12           0             0          0         0.000000                0\n",
      "9            0             0          0         0.000000                0\n",
      "10           0             0          0         0.000000                0\n",
      "11           0             0          0         0.000000                0\n",
      "14           0             0          0         0.000000                0\n",
      "13           0             0          0         0.000000                0\n",
      "15           0             0          0         0.000000                0\n",
      "16           0             0          0         0.000000                0\n",
      "23           1             0          0         0.000000                0\n",
      "17           0             0          0         0.000000                0\n",
      "18           0             0          0         0.000000                0\n",
      "19           0             0          0         0.000000                0\n",
      "39           1             5          5         0.000000                0\n",
      "63           3         11881      11881         0.000000                0\n",
      "32           1             5          5         0.000000                0\n",
      "51           2           746        769         0.030831               23\n",
      "50           2           285        296         0.038596               11\n",
      "64           3         22035      23691         0.075153             1656\n",
      "65           3          3978       5629         0.415033             1651\n",
      "60           3         49423      73204         0.481173            23781\n",
      "71           3         47934      71774         0.497351            23840\n",
      "76           3         40493      64327         0.588596            23834\n",
      "69           3         33058      56409         0.706365            23351\n",
      "6            0             0          1         1.000000                1\n",
      "34           1             0          1         1.000000                1\n",
      "43           2           693       1412         1.037518              719\n",
      "57           2           693       1412         1.037518              719\n",
      "52           2           675       1419         1.102222              744\n",
      "78           3         18963      42529         1.242736            23566\n",
      "48           2           618       1392         1.252427              774\n",
      "54           2           545       1280         1.348624              735\n",
      "61           3         17657      42027         1.380189            24370\n",
      "79           3         13836      37960         1.743568            24124\n",
      "58           2           379       1186         2.129288              807\n",
      "46           2           366       1153         2.150273              787\n",
      "68           3         10818      34960         2.231651            24142\n",
      "62           3         10515      34652         2.295483            24137\n",
      "40           2           325       1078         2.316923              753\n",
      "29           1             5         20         3.000000               15\n",
      "70           3          7963      32017         3.020721            24054\n",
      "55           2           267       1077         3.033708              810\n",
      "45           2           251       1047         3.171315              796\n",
      "24           1             4         17         3.250000               13\n",
      "35           1             4         18         3.500000               14\n",
      "59           2            12         56         3.666667               44\n",
      "27           1             4         19         3.750000               15\n",
      "38           1             4         19         3.750000               15\n",
      "47           2           182        961         4.280220              779\n",
      "67           3          4465      28850         5.461366            24385\n",
      "26           1             2         14         6.000000               12\n",
      "73           3          3731      27776         6.444653            24045\n",
      "66           3          3731      27776         6.444653            24045\n",
      "36           1             0          7         7.000000                7\n",
      "53           2           113        932         7.247788              819\n",
      "30           1             2         17         7.500000               15\n",
      "31           1             0          9         9.000000                9\n",
      "22           1             0         11        11.000000               11\n",
      "21           1             0         11        11.000000               11\n",
      "20           1             0         11        11.000000               11\n",
      "25           1             0         13        13.000000               13\n",
      "33           1             1         14        13.000000               13\n",
      "49           2            59        868        13.711864              809\n",
      "42           2            59        880        13.915254              821\n",
      "37           1             0         16        16.000000               16\n",
      "44           2            43        818        18.023256              775\n",
      "74           3          1082      24346        21.500924            23264\n",
      "28           1             0         22        22.000000               22\n",
      "75           3           557      25095        44.053860            24538\n",
      "72           3           464      24525        51.855603            24061\n",
      "56           2            13        769        58.153846              756\n",
      "77           3            87      23432       268.333333            23345\n",
      "41           2             0        755       755.000000              755\n"
     ]
    }
   ],
   "source": [
    "print(df_results.to_string())\n"
   ]
  },
  {
   "cell_type": "code",
   "execution_count": 31,
   "metadata": {},
   "outputs": [
    {
     "data": {
      "text/plain": [
       "array([[4.94230000e+04, 7.32040000e+04, 4.81172733e-01, 2.37810000e+04],\n",
       "       [4.79340000e+04, 7.17740000e+04, 4.97350524e-01, 2.38400000e+04],\n",
       "       [4.04930000e+04, 6.43270000e+04, 5.88595560e-01, 2.38340000e+04],\n",
       "       [3.30580000e+04, 5.64090000e+04, 7.06364571e-01, 2.33510000e+04],\n",
       "       [2.20350000e+04, 2.36910000e+04, 7.51531654e-02, 1.65600000e+03],\n",
       "       [1.89630000e+04, 4.25290000e+04, 1.24273585e+00, 2.35660000e+04],\n",
       "       [1.76570000e+04, 4.20270000e+04, 1.38018916e+00, 2.43700000e+04],\n",
       "       [1.38360000e+04, 3.79600000e+04, 1.74356751e+00, 2.41240000e+04],\n",
       "       [1.18810000e+04, 1.18810000e+04, 0.00000000e+00, 0.00000000e+00],\n",
       "       [1.08180000e+04, 3.49600000e+04, 2.23165095e+00, 2.41420000e+04],\n",
       "       [1.05150000e+04, 3.46520000e+04, 2.29548264e+00, 2.41370000e+04],\n",
       "       [7.96300000e+03, 3.20170000e+04, 3.02072083e+00, 2.40540000e+04],\n",
       "       [4.46500000e+03, 2.88500000e+04, 5.46136618e+00, 2.43850000e+04],\n",
       "       [3.97800000e+03, 5.62900000e+03, 4.15032680e-01, 1.65100000e+03],\n",
       "       [3.73100000e+03, 2.77760000e+04, 6.44465291e+00, 2.40450000e+04],\n",
       "       [3.73100000e+03, 2.77760000e+04, 6.44465291e+00, 2.40450000e+04],\n",
       "       [1.08200000e+03, 2.43460000e+04, 2.15009242e+01, 2.32640000e+04],\n",
       "       [7.46000000e+02, 7.69000000e+02, 3.08310992e-02, 2.30000000e+01],\n",
       "       [6.93000000e+02, 1.41200000e+03, 1.03751804e+00, 7.19000000e+02],\n",
       "       [6.93000000e+02, 1.41200000e+03, 1.03751804e+00, 7.19000000e+02],\n",
       "       [6.75000000e+02, 1.41900000e+03, 1.10222222e+00, 7.44000000e+02],\n",
       "       [6.18000000e+02, 1.39200000e+03, 1.25242718e+00, 7.74000000e+02],\n",
       "       [5.57000000e+02, 2.50950000e+04, 4.40538600e+01, 2.45380000e+04],\n",
       "       [5.45000000e+02, 1.28000000e+03, 1.34862385e+00, 7.35000000e+02],\n",
       "       [4.64000000e+02, 2.45250000e+04, 5.18556034e+01, 2.40610000e+04],\n",
       "       [3.79000000e+02, 1.18600000e+03, 2.12928760e+00, 8.07000000e+02],\n",
       "       [3.66000000e+02, 1.15300000e+03, 2.15027322e+00, 7.87000000e+02],\n",
       "       [3.25000000e+02, 1.07800000e+03, 2.31692308e+00, 7.53000000e+02],\n",
       "       [2.85000000e+02, 2.96000000e+02, 3.85964912e-02, 1.10000000e+01],\n",
       "       [2.67000000e+02, 1.07700000e+03, 3.03370787e+00, 8.10000000e+02],\n",
       "       [2.51000000e+02, 1.04700000e+03, 3.17131474e+00, 7.96000000e+02],\n",
       "       [1.82000000e+02, 9.61000000e+02, 4.28021978e+00, 7.79000000e+02],\n",
       "       [1.13000000e+02, 9.32000000e+02, 7.24778761e+00, 8.19000000e+02],\n",
       "       [8.70000000e+01, 2.34320000e+04, 2.68333333e+02, 2.33450000e+04],\n",
       "       [5.90000000e+01, 8.68000000e+02, 1.37118644e+01, 8.09000000e+02],\n",
       "       [5.90000000e+01, 8.80000000e+02, 1.39152542e+01, 8.21000000e+02],\n",
       "       [4.30000000e+01, 8.18000000e+02, 1.80232558e+01, 7.75000000e+02],\n",
       "       [1.30000000e+01, 7.69000000e+02, 5.81538462e+01, 7.56000000e+02],\n",
       "       [1.20000000e+01, 5.60000000e+01, 3.66666667e+00, 4.40000000e+01],\n",
       "       [5.00000000e+00, 5.00000000e+00, 0.00000000e+00, 0.00000000e+00],\n",
       "       [5.00000000e+00, 5.00000000e+00, 0.00000000e+00, 0.00000000e+00],\n",
       "       [5.00000000e+00, 2.00000000e+01, 3.00000000e+00, 1.50000000e+01],\n",
       "       [4.00000000e+00, 1.90000000e+01, 3.75000000e+00, 1.50000000e+01],\n",
       "       [4.00000000e+00, 1.80000000e+01, 3.50000000e+00, 1.40000000e+01],\n",
       "       [4.00000000e+00, 1.90000000e+01, 3.75000000e+00, 1.50000000e+01],\n",
       "       [4.00000000e+00, 1.70000000e+01, 3.25000000e+00, 1.30000000e+01],\n",
       "       [2.00000000e+00, 1.70000000e+01, 7.50000000e+00, 1.50000000e+01],\n",
       "       [2.00000000e+00, 1.40000000e+01, 6.00000000e+00, 1.20000000e+01],\n",
       "       [1.00000000e+00, 1.40000000e+01, 1.30000000e+01, 1.30000000e+01],\n",
       "       [1.00000000e+00, 1.00000000e+00, 0.00000000e+00, 0.00000000e+00],\n",
       "       [0.00000000e+00, 1.60000000e+01, 1.60000000e+01, 1.60000000e+01],\n",
       "       [0.00000000e+00, 7.55000000e+02, 7.55000000e+02, 7.55000000e+02],\n",
       "       [0.00000000e+00, 1.00000000e+00, 1.00000000e+00, 1.00000000e+00],\n",
       "       [0.00000000e+00, 7.00000000e+00, 7.00000000e+00, 7.00000000e+00],\n",
       "       [0.00000000e+00, 2.20000000e+01, 2.20000000e+01, 2.20000000e+01],\n",
       "       [0.00000000e+00, 9.00000000e+00, 9.00000000e+00, 9.00000000e+00],\n",
       "       [0.00000000e+00, 0.00000000e+00, 0.00000000e+00, 0.00000000e+00],\n",
       "       [0.00000000e+00, 1.10000000e+01, 1.10000000e+01, 1.10000000e+01],\n",
       "       [0.00000000e+00, 1.10000000e+01, 1.10000000e+01, 1.10000000e+01],\n",
       "       [0.00000000e+00, 1.10000000e+01, 1.10000000e+01, 1.10000000e+01],\n",
       "       [0.00000000e+00, 0.00000000e+00, 0.00000000e+00, 0.00000000e+00],\n",
       "       [0.00000000e+00, 0.00000000e+00, 0.00000000e+00, 0.00000000e+00],\n",
       "       [0.00000000e+00, 0.00000000e+00, 0.00000000e+00, 0.00000000e+00],\n",
       "       [0.00000000e+00, 1.30000000e+01, 1.30000000e+01, 1.30000000e+01],\n",
       "       [0.00000000e+00, 0.00000000e+00, 0.00000000e+00, 0.00000000e+00],\n",
       "       [0.00000000e+00, 0.00000000e+00, 0.00000000e+00, 0.00000000e+00],\n",
       "       [0.00000000e+00, 0.00000000e+00, 0.00000000e+00, 0.00000000e+00],\n",
       "       [0.00000000e+00, 0.00000000e+00, 0.00000000e+00, 0.00000000e+00],\n",
       "       [0.00000000e+00, 0.00000000e+00, 0.00000000e+00, 0.00000000e+00],\n",
       "       [0.00000000e+00, 0.00000000e+00, 0.00000000e+00, 0.00000000e+00],\n",
       "       [0.00000000e+00, 0.00000000e+00, 0.00000000e+00, 0.00000000e+00],\n",
       "       [0.00000000e+00, 0.00000000e+00, 0.00000000e+00, 0.00000000e+00],\n",
       "       [0.00000000e+00, 0.00000000e+00, 0.00000000e+00, 0.00000000e+00],\n",
       "       [0.00000000e+00, 0.00000000e+00, 0.00000000e+00, 0.00000000e+00],\n",
       "       [0.00000000e+00, 1.00000000e+00, 1.00000000e+00, 1.00000000e+00],\n",
       "       [0.00000000e+00, 0.00000000e+00, 0.00000000e+00, 0.00000000e+00],\n",
       "       [0.00000000e+00, 0.00000000e+00, 0.00000000e+00, 0.00000000e+00],\n",
       "       [0.00000000e+00, 0.00000000e+00, 0.00000000e+00, 0.00000000e+00],\n",
       "       [0.00000000e+00, 0.00000000e+00, 0.00000000e+00, 0.00000000e+00],\n",
       "       [0.00000000e+00, 0.00000000e+00, 0.00000000e+00, 0.00000000e+00]])"
      ]
     },
     "execution_count": 31,
     "metadata": {},
     "output_type": "execute_result"
    }
   ],
   "source": [
    "sorted_results"
   ]
  },
  {
   "cell_type": "code",
   "execution_count": 28,
   "metadata": {},
   "outputs": [
    {
     "name": "stdout",
     "output_type": "stream",
     "text": [
      "Space size: 125000000\n",
      "Level space: 1000000\n",
      "Ratio: 125.0\n"
     ]
    }
   ],
   "source": [
    "r = 500\n",
    "d = 3\n",
    "\n",
    "space_size = r ** d\n",
    "\n",
    "b = 5\n",
    "l = 1\n",
    "\n",
    "level_space = (r // (b ** l)) ** d\n",
    "\n",
    "print(f\"Space size: {space_size}\")\n",
    "print(f\"Level space: {level_space}\")\n",
    "print(f\"Ratio: {space_size / level_space}\")"
   ]
  },
  {
   "cell_type": "markdown",
   "metadata": {},
   "source": [
    "## Evaluating Hilbert Curves"
   ]
  },
  {
   "cell_type": "code",
   "execution_count": 38,
   "metadata": {},
   "outputs": [
    {
     "name": "stdout",
     "output_type": "stream",
     "text": [
      "level compleated: 0\n",
      "level compleated: 1\n",
      "level compleated: 2\n",
      "level compleated: 3\n"
     ]
    }
   ],
   "source": [
    "true_results_h_5, estimates_h_5, absolute_errors_h_5, relative_errors_h_5 = evaluate_queries(pacha_sketch=hilbert_pacha_sketch_5_v2, queries=queries_5)\n"
   ]
  },
  {
   "cell_type": "code",
   "execution_count": 43,
   "metadata": {},
   "outputs": [
    {
     "name": "stdout",
     "output_type": "stream",
     "text": [
      "level compleated: 0\n",
      "level compleated: 1\n",
      "level compleated: 2\n",
      "level compleated: 3\n"
     ]
    }
   ],
   "source": [
    "true_results_h_2, estimates_h_2, absolute_errors_h_2, relative_errors_h_2 = evaluate_queries(pacha_sketch=hilbert_pacha_sketch_2, queries=queries_5)"
   ]
  },
  {
   "cell_type": "code",
   "execution_count": 44,
   "metadata": {},
   "outputs": [
    {
     "data": {
      "image/png": "[encoded data removed]",
      "text/plain": [
       "<Figure size 720x360 with 2 Axes>"
      ]
     },
     "metadata": {
      "needs_background": "light"
     },
     "output_type": "display_data"
    }
   ],
   "source": [
    "plt.figure(figsize=(10, 5))\n",
    "plt.suptitle('Hilbert Pacha Sketch')\n",
    "\n",
    "plt.subplot(1, 2, 1)\n",
    "plt.hist(relative_errors_h_5, bins=50, edgecolor='black', color='blue')\n",
    "plt.xlabel('Relative Errors')\n",
    "plt.ylabel('Frequency')\n",
    "plt.title('Histogram of Relative Errors - Base 5')\n",
    "\n",
    "plt.subplot(1, 2, 2)\n",
    "plt.hist(relative_errors_h_2, bins=50, edgecolor='black', color='orange')\n",
    "plt.xlabel('Relative Errors')\n",
    "plt.ylabel('Frequency')\n",
    "plt.title('Histogram of Relative Errors - Base 2')\n",
    "\n",
    "plt.show()"
   ]
  },
  {
   "cell_type": "code",
   "execution_count": 46,
   "metadata": {},
   "outputs": [
    {
     "name": "stdout",
     "output_type": "stream",
     "text": [
      "level compleated: 0\n",
      "level compleated: 1\n",
      "level compleated: 2\n",
      "level compleated: 3\n"
     ]
    }
   ],
   "source": [
    "true_results_v2, estimates_v2, absolute_errors_v2, relative_errors_v2 = evaluate_queries(pacha_sketch=hilbert_pacha_sketch_5_v2, queries=queries_5)"
   ]
  },
  {
   "cell_type": "code",
   "execution_count": 1,
   "metadata": {},
   "outputs": [
    {
     "ename": "NameError",
     "evalue": "name 'plt' is not defined",
     "output_type": "error",
     "traceback": [
      "\u001b[0;31m---------------------------------------------------------------------------\u001b[0m",
      "\u001b[0;31mNameError\u001b[0m                                 Traceback (most recent call last)",
      "\u001b[0;32m/tmp/ipykernel_303660/1975560382.py\u001b[0m in \u001b[0;36m<module>\u001b[0;34m\u001b[0m\n\u001b[1;32m      1\u001b[0m \u001b[0;31m# Plot the histogram\u001b[0m\u001b[0;34m\u001b[0m\u001b[0;34m\u001b[0m\u001b[0m\n\u001b[0;32m----> 2\u001b[0;31m \u001b[0mplt\u001b[0m\u001b[0;34m.\u001b[0m\u001b[0mhist\u001b[0m\u001b[0;34m(\u001b[0m\u001b[0mrelative_errors_v2\u001b[0m\u001b[0;34m,\u001b[0m \u001b[0mbins\u001b[0m\u001b[0;34m=\u001b[0m\u001b[0;36m50\u001b[0m\u001b[0;34m,\u001b[0m \u001b[0medgecolor\u001b[0m\u001b[0;34m=\u001b[0m\u001b[0;34m'black'\u001b[0m\u001b[0;34m)\u001b[0m\u001b[0;34m\u001b[0m\u001b[0;34m\u001b[0m\u001b[0m\n\u001b[0m\u001b[1;32m      3\u001b[0m \u001b[0mplt\u001b[0m\u001b[0;34m.\u001b[0m\u001b[0mxlabel\u001b[0m\u001b[0;34m(\u001b[0m\u001b[0;34m'Relative Errors'\u001b[0m\u001b[0;34m)\u001b[0m\u001b[0;34m\u001b[0m\u001b[0;34m\u001b[0m\u001b[0m\n\u001b[1;32m      4\u001b[0m \u001b[0mplt\u001b[0m\u001b[0;34m.\u001b[0m\u001b[0mylabel\u001b[0m\u001b[0;34m(\u001b[0m\u001b[0;34m'Frequency'\u001b[0m\u001b[0;34m)\u001b[0m\u001b[0;34m\u001b[0m\u001b[0;34m\u001b[0m\u001b[0m\n\u001b[1;32m      5\u001b[0m \u001b[0mplt\u001b[0m\u001b[0;34m.\u001b[0m\u001b[0mtitle\u001b[0m\u001b[0;34m(\u001b[0m\u001b[0;34m'Histogram of Relative Errors'\u001b[0m\u001b[0;34m)\u001b[0m\u001b[0;34m\u001b[0m\u001b[0;34m\u001b[0m\u001b[0m\n",
      "\u001b[0;31mNameError\u001b[0m: name 'plt' is not defined"
     ]
    }
   ],
   "source": [
    "# Plot the histogram\n",
    "plt.hist(relative_errors_v2, bins=50, edgecolor='black')\n",
    "plt.xlabel('Relative Errors')\n",
    "plt.ylabel('Frequency')\n",
    "plt.title('Histogram of Relative Errors')\n",
    "plt.show()"
   ]
  },
  {
   "cell_type": "markdown",
   "metadata": {},
   "source": [
    "## Plots Presentation"
   ]
  },
  {
   "cell_type": "code",
   "execution_count": 32,
   "metadata": {},
   "outputs": [
    {
     "name": "stdout",
     "output_type": "stream",
     "text": [
      "level compleated: 0\n",
      "level compleated: 1\n",
      "level compleated: 2\n",
      "level compleated: 3\n"
     ]
    }
   ],
   "source": [
    "true_results_s_5, estimates_s_5, absolute_errors_s_5, relative_errors_s_5, times_s_5 = evaluate_queries(pacha_sketch=spatial_pacha_sketch_5, queries=queries_5, flat_results=False)\n"
   ]
  },
  {
   "cell_type": "code",
   "execution_count": 36,
   "metadata": {},
   "outputs": [
    {
     "name": "stdout",
     "output_type": "stream",
     "text": [
      "level compleated: 0\n",
      "level compleated: 1\n",
      "level compleated: 2\n",
      "level compleated: 3\n"
     ]
    }
   ],
   "source": [
    "true_results_h_5, estimates_h_5, absolute_errors_h_5, relative_errors_h_5, times_h_5 = evaluate_queries(pacha_sketch=hilbert_pacha_sketch_5_v2, queries=queries_5, flat_results=False)\n"
   ]
  },
  {
   "cell_type": "code",
   "execution_count": 37,
   "metadata": {},
   "outputs": [
    {
     "name": "stdout",
     "output_type": "stream",
     "text": [
      "level compleated: 0\n",
      "level compleated: 1\n",
      "level compleated: 2\n",
      "level compleated: 3\n"
     ]
    }
   ],
   "source": [
    "true_results_cm, estimates_cm, absolute_errors_cm, relative_errors_cm, times_cm = evaluate_queries(pacha_sketch=cm_baseline, queries=queries_5, flat_results=False)\n"
   ]
  },
  {
   "cell_type": "code",
   "execution_count": 39,
   "metadata": {},
   "outputs": [
    {
     "data": {
      "text/plain": [
       "[[0.0006353855133056641,\n",
       "  0.0006430149078369141,\n",
       "  0.0005514621734619141,\n",
       "  0.0005676746368408203,\n",
       "  0.0006058216094970703,\n",
       "  0.0005438327789306641,\n",
       "  0.0005376338958740234,\n",
       "  0.0004782676696777344,\n",
       "  0.0003654956817626953,\n",
       "  0.000484466552734375,\n",
       "  0.0009419918060302734,\n",
       "  0.00039458274841308594,\n",
       "  0.0003635883331298828,\n",
       "  0.00034427642822265625,\n",
       "  0.000385284423828125,\n",
       "  0.0003879070281982422,\n",
       "  0.00036334991455078125,\n",
       "  0.0003352165222167969,\n",
       "  0.0003368854522705078,\n",
       "  0.0004394054412841797],\n",
       " [0.01005864143371582,\n",
       "  0.007860898971557617,\n",
       "  0.010951757431030273,\n",
       "  0.007661104202270508,\n",
       "  0.008176803588867188,\n",
       "  0.007842779159545898,\n",
       "  0.007303476333618164,\n",
       "  0.008158445358276367,\n",
       "  0.007548093795776367,\n",
       "  0.008395671844482422,\n",
       "  0.00731658935546875,\n",
       "  0.009090423583984375,\n",
       "  0.007738828659057617,\n",
       "  0.006775379180908203,\n",
       "  0.008074522018432617,\n",
       "  0.008491992950439453,\n",
       "  0.009389877319335938,\n",
       "  0.007536172866821289,\n",
       "  0.008028030395507812,\n",
       "  0.011589527130126953],\n",
       " [0.32161760330200195,\n",
       "  0.30611419677734375,\n",
       "  0.3786435127258301,\n",
       "  0.27770209312438965,\n",
       "  0.3649861812591553,\n",
       "  0.27094244956970215,\n",
       "  0.3105504512786865,\n",
       "  0.34659337997436523,\n",
       "  0.4500732421875,\n",
       "  0.361065149307251,\n",
       "  0.31139636039733887,\n",
       "  0.3316667079925537,\n",
       "  0.27870702743530273,\n",
       "  0.27762651443481445,\n",
       "  0.36969852447509766,\n",
       "  0.2553229331970215,\n",
       "  0.34246182441711426,\n",
       "  0.3972969055175781,\n",
       "  0.30318164825439453,\n",
       "  0.38643717765808105],\n",
       " [12.003274917602539,\n",
       "  12.504697322845459,\n",
       "  13.091085433959961,\n",
       "  12.654417514801025,\n",
       "  13.249258756637573,\n",
       "  10.43914270401001,\n",
       "  12.884562730789185,\n",
       "  10.715759038925171,\n",
       "  11.496827602386475,\n",
       "  12.621510744094849,\n",
       "  11.795186519622803,\n",
       "  9.462143421173096,\n",
       "  11.574540138244629,\n",
       "  10.328985214233398,\n",
       "  9.901723861694336,\n",
       "  12.549474477767944,\n",
       "  12.192806959152222,\n",
       "  10.904561519622803,\n",
       "  10.634441137313843,\n",
       "  10.337659120559692]]"
      ]
     },
     "execution_count": 39,
     "metadata": {},
     "output_type": "execute_result"
    }
   ],
   "source": [
    "times_h_5"
   ]
  },
  {
   "cell_type": "code",
   "execution_count": 38,
   "metadata": {},
   "outputs": [
    {
     "data": {
      "text/plain": [
       "[[3.075599670410156e-05,\n",
       "  2.7894973754882812e-05,\n",
       "  3.457069396972656e-05,\n",
       "  2.7179718017578125e-05,\n",
       "  2.5510787963867188e-05,\n",
       "  2.193450927734375e-05,\n",
       "  2.3603439331054688e-05,\n",
       "  2.0503997802734375e-05,\n",
       "  1.9311904907226562e-05,\n",
       "  1.6927719116210938e-05,\n",
       "  1.8358230590820312e-05,\n",
       "  1.3589859008789062e-05,\n",
       "  1.5497207641601562e-05,\n",
       "  2.002716064453125e-05,\n",
       "  1.6689300537109375e-05,\n",
       "  1.2636184692382812e-05,\n",
       "  1.1682510375976562e-05,\n",
       "  1.239776611328125e-05,\n",
       "  1.1444091796875e-05,\n",
       "  1.9073486328125e-05],\n",
       " [0.0004649162292480469,\n",
       "  0.0006086826324462891,\n",
       "  0.0004305839538574219,\n",
       "  0.00043582916259765625,\n",
       "  0.0004241466522216797,\n",
       "  0.00045228004455566406,\n",
       "  0.0004055500030517578,\n",
       "  0.00043892860412597656,\n",
       "  0.0003616809844970703,\n",
       "  0.0004379749298095703,\n",
       "  0.0003261566162109375,\n",
       "  0.0003333091735839844,\n",
       "  0.0003190040588378906,\n",
       "  0.00034332275390625,\n",
       "  0.0003361701965332031,\n",
       "  0.00033593177795410156,\n",
       "  0.00030612945556640625,\n",
       "  0.0002951622009277344,\n",
       "  0.0002930164337158203,\n",
       "  0.0002903938293457031],\n",
       " [0.035953521728515625,\n",
       "  0.03579401969909668,\n",
       "  0.03676271438598633,\n",
       "  0.03497171401977539,\n",
       "  0.03873085975646973,\n",
       "  0.0399630069732666,\n",
       "  0.03571796417236328,\n",
       "  0.03628253936767578,\n",
       "  0.03477931022644043,\n",
       "  0.03572535514831543,\n",
       "  0.05019068717956543,\n",
       "  0.0364995002746582,\n",
       "  0.03458595275878906,\n",
       "  0.03673529624938965,\n",
       "  0.03509926795959473,\n",
       "  0.03524470329284668,\n",
       "  0.03572893142700195,\n",
       "  0.03739666938781738,\n",
       "  0.035550832748413086,\n",
       "  0.03583931922912598],\n",
       " [4.276671648025513,\n",
       "  4.291761875152588,\n",
       "  4.285958290100098,\n",
       "  4.202640056610107,\n",
       "  4.280847787857056,\n",
       "  4.194224834442139,\n",
       "  4.210693120956421,\n",
       "  4.192855358123779,\n",
       "  4.321398496627808,\n",
       "  4.399189472198486,\n",
       "  4.413010358810425,\n",
       "  4.346035003662109,\n",
       "  4.624964237213135,\n",
       "  4.540209770202637,\n",
       "  5.135531902313232,\n",
       "  4.619145631790161,\n",
       "  4.563672065734863,\n",
       "  4.672314882278442,\n",
       "  4.878549814224243,\n",
       "  4.4681878089904785]]"
      ]
     },
     "execution_count": 38,
     "metadata": {},
     "output_type": "execute_result"
    }
   ],
   "source": [
    "times_cm"
   ]
  },
  {
   "cell_type": "code",
   "execution_count": 47,
   "metadata": {},
   "outputs": [],
   "source": [
    "relative_errors_cm_flat = np.array(relative_errors_cm).flatten()\n",
    "relative_errors_h_5_flat = np.array(relative_errors_h_5).flatten()\n",
    "relative_errors_s_5_flat = np.array(relative_errors_s_5).flatten()"
   ]
  },
  {
   "cell_type": "code",
   "execution_count": 70,
   "metadata": {},
   "outputs": [
    {
     "data": {
      "text/plain": [
       "4"
      ]
     },
     "execution_count": 70,
     "metadata": {},
     "output_type": "execute_result"
    }
   ],
   "source": [
    "len(relative_errors_h_5)"
   ]
  },
  {
   "cell_type": "code",
   "execution_count": 48,
   "metadata": {},
   "outputs": [],
   "source": [
    "bins = np.histogram(np.hstack((relative_errors_cm_flat, relative_errors_h_5_flat, relative_errors_s_5_flat)), bins=50)[1]"
   ]
  },
  {
   "cell_type": "code",
   "execution_count": 52,
   "metadata": {},
   "outputs": [],
   "source": [
    "\n",
    "# Flattened relative error arrays\n",
    "all_values = np.hstack((relative_errors_cm_flat, relative_errors_h_5_flat, relative_errors_s_5_flat))\n",
    "\n",
    "# Avoid issues with zero values by setting a small positive lower bound\n",
    "min_val = np.min(all_values[all_values > 0])  # Minimum non-zero value\n",
    "max_val = np.max(all_values)\n",
    "\n",
    "# Define log-spaced bins\n",
    "num_bins = 50\n",
    "bins = np.logspace(np.log10(min_val), np.log10(max_val), num_bins)\n"
   ]
  },
  {
   "cell_type": "code",
   "execution_count": 58,
   "metadata": {},
   "outputs": [],
   "source": [
    "bins[0] = 0.0"
   ]
  },
  {
   "cell_type": "code",
   "execution_count": 59,
   "metadata": {},
   "outputs": [
    {
     "data": {
      "image/png": "[encoded data removed]",
      "text/plain": [
       "<Figure size 432x288 with 1 Axes>"
      ]
     },
     "metadata": {
      "needs_background": "light"
     },
     "output_type": "display_data"
    }
   ],
   "source": [
    "# plt.figure(figsize=(2.0, 1.2))\n",
    "plt.hist(relative_errors_cm_flat, bins=bins, edgecolor='black', color='orange')\n",
    "plt.xscale('log')\n",
    "plt.xlabel('Relative Errors')\n",
    "plt.ylabel('Frequency')\n",
    "plt.title('Histogram of Relative Errors - Base 2')\n",
    "\n",
    "plt.show()"
   ]
  },
  {
   "cell_type": "code",
   "execution_count": 60,
   "metadata": {},
   "outputs": [
    {
     "data": {
      "image/png": "[encoded data removed]",
      "text/plain": [
       "<Figure size 432x288 with 1 Axes>"
      ]
     },
     "metadata": {
      "needs_background": "light"
     },
     "output_type": "display_data"
    }
   ],
   "source": [
    "# plt.figure(figsize=(2.0, 1.2))\n",
    "plt.hist(relative_errors_h_5_flat, bins=bins, edgecolor='black', color='orange')\n",
    "plt.xscale('log')\n",
    "plt.xlabel('Relative Errors')\n",
    "plt.ylabel('Frequency')\n",
    "plt.title('Histogram of Relative Errors - Base 2')\n",
    "\n",
    "plt.show()"
   ]
  },
  {
   "cell_type": "code",
   "execution_count": 61,
   "metadata": {},
   "outputs": [
    {
     "data": {
      "image/png": "[encoded data removed]",
      "text/plain": [
       "<Figure size 432x288 with 1 Axes>"
      ]
     },
     "metadata": {
      "needs_background": "light"
     },
     "output_type": "display_data"
    }
   ],
   "source": [
    "# plt.figure(figsize=(2.0, 1.2))\n",
    "plt.hist(relative_errors_s_5_flat, bins=bins, edgecolor='black', color='orange')\n",
    "plt.xscale('log')\n",
    "plt.xlabel('Relative Errors')\n",
    "plt.ylabel('Frequency')\n",
    "plt.title('Histogram of Relative Errors - Base 2')\n",
    "\n",
    "plt.show()"
   ]
  },
  {
   "cell_type": "code",
   "execution_count": 50,
   "metadata": {},
   "outputs": [
    {
     "data": {
      "image/png": "[encoded data removed]",
      "text/plain": [
       "<Figure size 432x288 with 1 Axes>"
      ]
     },
     "metadata": {
      "needs_background": "light"
     },
     "output_type": "display_data"
    }
   ],
   "source": [
    "plt.hist(relative_errors_h_5_flat, bins=bins, edgecolor='black', color='orange')\n",
    "plt.xlabel('Relative Errors')\n",
    "plt.ylabel('Frequency')\n",
    "plt.title('Histogram of Relative Errors - Base 2')\n",
    "\n",
    "plt.show()"
   ]
  },
  {
   "cell_type": "code",
   "execution_count": 69,
   "metadata": {},
   "outputs": [
    {
     "name": "stderr",
     "output_type": "stream",
     "text": [
      "/tmp/ipykernel_923/1150102398.py:18: UserWarning: Attempt to set non-positive ylim on a log-scaled axis will be ignored.\n",
      "  plt.ylim(0.0, 1000)\n"
     ]
    },
    {
     "data": {
      "image/png": "[encoded data removed]",
      "text/plain": [
       "<Figure size 576x432 with 1 Axes>"
      ]
     },
     "metadata": {
      "needs_background": "light"
     },
     "output_type": "display_data"
    }
   ],
   "source": [
    "\n",
    "# Combine the data into a list for plotting\n",
    "data = [\n",
    "    relative_errors_cm_flat,\n",
    "    relative_errors_h_5_flat,\n",
    "    relative_errors_s_5_flat\n",
    "]\n",
    "\n",
    "# Define labels for each distribution\n",
    "labels = [\"CM\", \"H_5\", \"S_5\"]\n",
    "\n",
    "# Create the boxplot\n",
    "plt.figure(figsize=(8, 6))\n",
    "sns.boxplot(data=data)\n",
    "plt.xticks(ticks=range(len(labels)), labels=labels)\n",
    "plt.yscale(\"log\")\n",
    "plt.ylabel(\"Relative Error\")\n",
    "plt.title(\"Distribution of Relative Errors\")\n",
    "plt.ylim(0.0, 1000)\n",
    "\n",
    "# Show the plot\n",
    "plt.show()\n"
   ]
  },
  {
   "cell_type": "code",
   "execution_count": 67,
   "metadata": {},
   "outputs": [
    {
     "name": "stderr",
     "output_type": "stream",
     "text": [
      "/tmp/ipykernel_923/324075824.py:18: UserWarning: Attempt to set non-positive ylim on a log-scaled axis will be ignored.\n",
      "  plt.ylim(0.0, 1000)\n"
     ]
    },
    {
     "data": {
      "image/png": "[encoded data removed]",
      "text/plain": [
       "<Figure size 576x432 with 1 Axes>"
      ]
     },
     "metadata": {
      "needs_background": "light"
     },
     "output_type": "display_data"
    }
   ],
   "source": [
    "# Combine the data into a list for plotting\n",
    "data = [\n",
    "    relative_errors_cm[-1],\n",
    "    relative_errors_h_5[-1],\n",
    "    relative_errors_s_5[-1]\n",
    "]\n",
    "\n",
    "# Define labels for each distribution\n",
    "labels = [\"CM\", \"H_5\", \"S_5\"]\n",
    "\n",
    "# Create the boxplot\n",
    "plt.figure(figsize=(8, 6))\n",
    "sns.boxplot(data=data)\n",
    "plt.xticks(ticks=range(len(labels)), labels=labels)\n",
    "plt.yscale(\"log\")\n",
    "plt.ylabel(\"Relative Error\")\n",
    "plt.title(\"Distribution of Relative Errors\")\n",
    "plt.ylim(0.0, 1000)\n",
    "# Show the plot\n",
    "plt.show()"
   ]
  },
  {
   "cell_type": "code",
   "execution_count": 101,
   "metadata": {},
   "outputs": [
    {
     "data": {
      "image/png": "[encoded data removed]",
      "text/plain": [
       "<Figure size 216x144 with 1 Axes>"
      ]
     },
     "metadata": {
      "needs_background": "light"
     },
     "output_type": "display_data"
    }
   ],
   "source": [
    "plt.figure(figsize=(3.0, 2.0))\n",
    "# Convert lists to numpy arrays for easier computation\n",
    "cm_array = np.array(relative_errors_cm)  # Shape (4, 20)\n",
    "h_5_array = np.array(relative_errors_h_5)  # Shape (4, 20)\n",
    "s_5_array = np.array(relative_errors_s_5)  # Shape (4, 20)\n",
    "\n",
    "# Function to compute median, Q1 (25th percentile), and Q3 (75th percentile)\n",
    "def compute_stats(array):\n",
    "    median = np.median(array, axis=1)  # Median per group\n",
    "    q1 = np.percentile(array, 25, axis=1)  # 1st quartile\n",
    "    q3 = np.percentile(array, 75, axis=1)  # 3rd quartile\n",
    "    return median, q1, q3\n",
    "\n",
    "cm_median, cm_q1, cm_q3 = compute_stats(cm_array)\n",
    "h_5_median, h_5_q1, h_5_q3 = compute_stats(h_5_array)\n",
    "s_5_median, s_5_q1, s_5_q3 = compute_stats(s_5_array)\n",
    "\n",
    "# X-axis positions\n",
    "x = np.arange(1, 5)\n",
    "\n",
    "# Plot median lines with vertical error bars (Q1 to Q3)\n",
    "plt.plot(x, cm_median, marker=\"o\", label=\"CM\", color=\"tab:blue\")\n",
    "plt.plot(x, h_5_median, marker=\"o\", label=\"Hilbert PS\", color=\"tab:orange\")\n",
    "plt.plot(x, s_5_median, marker=\"o\", label=\"Spatial PS\", color=\"tab:green\")\n",
    "\n",
    "# Labels and title\n",
    "plt.xlabel(\"Query size\")\n",
    "plt.ylabel(\"Relative Error\")\n",
    "plt.title(\"Comparison of Relative Errors w.r.t. Query Size\")\n",
    "plt.xticks(x, labels=[f\"{5**i}\" for i in range(0, 4)])  # Custom x-axis labels\n",
    "plt.legend()\n",
    "\n",
    "# plt.ylim(0.0, 200)\n",
    "\n",
    "\n",
    "# Show the plot\n",
    "# plt.savefig(\"figures/relative_error_query_size.png\", bbox_inches = 'tight', pad_inches = 0.05, dpi=199)\n",
    "plt.show()\n"
   ]
  },
  {
   "cell_type": "code",
   "execution_count": 106,
   "metadata": {},
   "outputs": [
    {
     "data": {
      "text/plain": [
       "array([0.26567657, 0.1998378 , 1.34896982, 5.2062996 ])"
      ]
     },
     "execution_count": 106,
     "metadata": {},
     "output_type": "execute_result"
    }
   ],
   "source": [
    "cm_median / s_5_median"
   ]
  },
  {
   "cell_type": "code",
   "execution_count": 105,
   "metadata": {},
   "outputs": [
    {
     "data": {
      "image/png": "[encoded data removed]",
      "text/plain": [
       "<Figure size 216x144 with 1 Axes>"
      ]
     },
     "metadata": {
      "needs_background": "light"
     },
     "output_type": "display_data"
    }
   ],
   "source": [
    "plt.figure(figsize=(3.0, 2.0))\n",
    "cm_array = np.array(times_cm)  # Shape (4, 20)\n",
    "h_5_array = np.array(times_h_5)  # Shape (4, 20)\n",
    "s_5_array = np.array(times_s_5)  # Shape (4, 20)\n",
    "\n",
    "# Function to compute median, Q1 (25th percentile), and Q3 (75th percentile)\n",
    "def compute_stats(array):\n",
    "    median = np.median(array, axis=1)  # Median per group\n",
    "    q1 = np.percentile(array, 25, axis=1)  # 1st quartile\n",
    "    q3 = np.percentile(array, 75, axis=1)  # 3rd quartile\n",
    "    return median, q1, q3\n",
    "\n",
    "cm_median, cm_q1, cm_q3 = compute_stats(cm_array)\n",
    "h_5_median, h_5_q1, h_5_q3 = compute_stats(h_5_array)\n",
    "s_5_median, s_5_q1, s_5_q3 = compute_stats(s_5_array)\n",
    "\n",
    "# X-axis positions\n",
    "x = np.arange(1, 5)\n",
    "\n",
    "# Plot median lines with vertical error bars (Q1 to Q3)\n",
    "plt.plot(x, cm_median, marker=\"o\", label=\"CM\", color=\"tab:blue\")\n",
    "plt.plot(x, h_5_median, marker=\"o\", label=\"Hilbert PS\", color=\"tab:orange\")\n",
    "plt.plot(x, s_5_median, marker=\"o\", label=\"Spatial PS\", color=\"tab:green\")\n",
    "\n",
    "# Labels and title\n",
    "plt.xlabel(\"Query size\")\n",
    "plt.ylabel(\"Time (s)\")\n",
    "plt.title(\"Comparison of Query Time w.r.t. Query Size\")\n",
    "plt.xticks(x, labels=[f\"{5**i}\" for i in range(0, 4)])  # Custom x-axis labels\n",
    "plt.legend()\n",
    "\n",
    "# plt.ylim(0.0, 200)\n",
    "\n",
    "# plt.savefig(\"figures/query_time_query_size.png\", bbox_inches = 'tight', pad_inches = 0.05, dpi=199)\n",
    "\n",
    "# Show the plot\n",
    "plt.show()\n"
   ]
  },
  {
   "cell_type": "code",
   "execution_count": null,
   "metadata": {},
   "outputs": [],
   "source": []
  }
 ],
 "metadata": {
  "kernelspec": {
   "display_name": "Python 3",
   "language": "python",
   "name": "python3"
  },
  "language_info": {
   "codemirror_mode": {
    "name": "ipython",
    "version": 3
   },
   "file_extension": ".py",
   "mimetype": "text/x-python",
   "name": "python",
   "nbconvert_exporter": "python",
   "pygments_lexer": "ipython3",
   "version": "3.12.3"
  }
 },
 "nbformat": 4,
 "nbformat_minor": 2
}
