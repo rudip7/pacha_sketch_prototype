{
 "cells": [
  {
   "cell_type": "code",
   "execution_count": 1,
   "metadata": {},
   "outputs": [],
   "source": [
    "import sys\n",
    "# append the path of the parent directory\n",
    "sys.path.append(\"..\")"
   ]
  },
  {
   "cell_type": "code",
   "execution_count": 102,
   "metadata": {},
   "outputs": [],
   "source": [
    "import math\n",
    "import os\n",
    "\n",
    "import numpy as np\n",
    "import matplotlib.pyplot as plt\n",
    "from matplotlib.patches import Rectangle\n",
    "import matplotlib.patches as patches\n",
    "\n",
    "import seaborn as sns\n",
    "import time\n",
    "import json\n",
    "import pandas as pd\n",
    "from ctypes import c_int32\n",
    "from itertools import product\n",
    "\n",
    "from scipy.stats import pearsonr\n",
    "from importlib import reload\n",
    "\n",
    "from lib import sketches\n",
    "from lib import visualization_utils\n",
    "reload(sketches)\n",
    "\n",
    "from lib.sketches import BloomFilter, CountMinSketch, minimal_b_adic_cover, sort_b_adic_ranges, BAdicRange, BAdicCube, minimal_spatial_b_adic_cover, H3HashFunctions, HashFunctionFamily\n",
    "from lib.visualization_utils import visualize_badic_cover, plot_b_adic_cubes"
   ]
  },
  {
   "cell_type": "code",
   "execution_count": 95,
   "metadata": {},
   "outputs": [
    {
     "name": "stdout",
     "output_type": "stream",
     "text": [
      "H3HashFunctions.hash_values execution time: 0.026682371011702344 seconds\n",
      "HashFunctionFamily.hash_values execution time: 0.00040630699368193746 seconds\n",
      "Custom hash function execution time: 5.5980999604798853e-05 seconds\n"
     ]
    }
   ],
   "source": [
    "import timeit\n",
    "import hashlib\n",
    "\n",
    "\n",
    "def _hashes(item, hash_count, limit):\n",
    "    \"\"\"\n",
    "    Generate hash values for the item.\n",
    "    \"\"\"\n",
    "    for i in range(hash_count):\n",
    "        hash_value = int(hashlib.md5((str(item) + str(i)).encode()).hexdigest(), 16)\n",
    "        yield hash_value % limit\n",
    "\n",
    "# Create instances of the classes\n",
    "h3_hash_functions = H3HashFunctions(n_functions=3, limit=50000)\n",
    "hash_function_family = HashFunctionFamily(num_hashes=3, max_range=50000)\n",
    "\n",
    "# Define a sample input for the hash_values method\n",
    "sample_input = (12345, 67890, 54321)\n",
    "\n",
    "# Measure the execution time of H3HashFunctions.hash_values\n",
    "h3_time = timeit.timeit(lambda: h3_hash_functions.hash_value(892927), number=1000)\n",
    "\n",
    "# Measure the execution time of HashFunctionFamily.hash_values\n",
    "hash_family_time = timeit.timeit(lambda: hash_function_family.hash_value(892927), number=1000)\n",
    "\n",
    "hashes_time = timeit.timeit(lambda: _hashes(892927, 3, 50000), number=1000)\n",
    "\n",
    "print(f\"H3HashFunctions.hash_values execution time: {h3_time} seconds\")\n",
    "print(f\"HashFunctionFamily.hash_values execution time: {hash_family_time} seconds\")\n",
    "print(f\"Custom hash function execution time: {hashes_time} seconds\")"
   ]
  },
  {
   "cell_type": "markdown",
   "metadata": {},
   "source": [
    "# Data Generation"
   ]
  },
  {
   "cell_type": "code",
   "execution_count": 14,
   "metadata": {},
   "outputs": [],
   "source": [
    "def generate_normal_dataset(size, num_columns, mean, std_dev, output_path=None):\n",
    "    \"\"\"\n",
    "    Generates a dataset with the specified parameters where each column\n",
    "    contains integer values following a normal distribution.\n",
    "\n",
    "    Parameters:\n",
    "    - size (int): Number of rows in the dataset.\n",
    "    - num_columns (int): Number of columns in the dataset.\n",
    "    - mean (float): Mean of the normal distribution.\n",
    "    - std_dev (float): Standard deviation of the normal distribution.\n",
    "    - output_dir (str, optional): Directory to save the dataset in Parquet format. Defaults to None.\n",
    "\n",
    "    Returns:\n",
    "    - pd.DataFrame: Generated dataset as a pandas DataFrame.\n",
    "    \"\"\"\n",
    "    # Generate random data for each column\n",
    "    data = {\n",
    "        f\"d_{i}\": np.random.normal(loc=mean, scale=std_dev, size=size).astype(int)\n",
    "        for i in range(num_columns)\n",
    "    }\n",
    "\n",
    "    # Create DataFrame\n",
    "    df = pd.DataFrame(data)\n",
    "\n",
    "    # Save to output directory if specified\n",
    "    if output_path:\n",
    "        df.to_parquet(output_path, index=False)\n",
    "        print(f\"Dataset saved to {output_path}\")\n",
    "\n",
    "    return df\n"
   ]
  },
  {
   "cell_type": "code",
   "execution_count": 15,
   "metadata": {},
   "outputs": [
    {
     "name": "stdout",
     "output_type": "stream",
     "text": [
      "Dataset saved to data/normal_3d_100k.parquet\n"
     ]
    }
   ],
   "source": [
    "df = generate_normal_dataset(size=100000, num_columns=3, mean=5000, std_dev=50, output_path=\"data/normal_3d_100k.parquet\")"
   ]
  },
  {
   "cell_type": "code",
   "execution_count": 16,
   "metadata": {},
   "outputs": [],
   "source": [
    "df = pd.read_parquet(\"data/normal_3d_100k.parquet\")"
   ]
  },
  {
   "cell_type": "code",
   "execution_count": 1,
   "metadata": {},
   "outputs": [
    {
     "ename": "NameError",
     "evalue": "name 'df' is not defined",
     "output_type": "error",
     "traceback": [
      "\u001b[0;31m---------------------------------------------------------------------------\u001b[0m",
      "\u001b[0;31mNameError\u001b[0m                                 Traceback (most recent call last)",
      "\u001b[0;32m/tmp/ipykernel_15511/3627053830.py\u001b[0m in \u001b[0;36m<module>\u001b[0;34m\u001b[0m\n\u001b[0;32m----> 1\u001b[0;31m \u001b[0mdf\u001b[0m\u001b[0;34m.\u001b[0m\u001b[0mdescribe\u001b[0m\u001b[0;34m(\u001b[0m\u001b[0;34m)\u001b[0m\u001b[0;34m\u001b[0m\u001b[0;34m\u001b[0m\u001b[0m\n\u001b[0m",
      "\u001b[0;31mNameError\u001b[0m: name 'df' is not defined"
     ]
    }
   ],
   "source": [
    "df.describe()"
   ]
  },
  {
   "cell_type": "code",
   "execution_count": 19,
   "metadata": {},
   "outputs": [
    {
     "data": {
      "text/plain": [
       "np.float64(8.965784284662087)"
      ]
     },
     "execution_count": 19,
     "metadata": {},
     "output_type": "execute_result"
    }
   ],
   "source": [
    "np.log2(500)"
   ]
  },
  {
   "cell_type": "markdown",
   "metadata": {},
   "source": [
    "# Build Count-Min Sketches"
   ]
  },
  {
   "cell_type": "code",
   "execution_count": 20,
   "metadata": {},
   "outputs": [],
   "source": [
    "base = 2\n",
    "levels = 9\n",
    "dimensions = 3"
   ]
  },
  {
   "cell_type": "code",
   "execution_count": 5,
   "metadata": {},
   "outputs": [],
   "source": [
    "def encode(tuple_value):\n",
    "    return c_int32(hash(tuple_value)).value"
   ]
  },
  {
   "cell_type": "code",
   "execution_count": 41,
   "metadata": {},
   "outputs": [],
   "source": [
    "def build_sketches(df, base, levels, dimensions):\n",
    "    cm_sketches = []\n",
    "    for i in range(levels):\n",
    "        cm_sketches.append(CountMinSketch(300000, 5))\n",
    "\n",
    "    for index, row in df.iterrows():\n",
    "        # Encode the tuple as a 32-bit integer\n",
    "        row = tuple(row)\n",
    "        for l in range(levels):\n",
    "            cube = []\n",
    "            for d in range(dimensions):\n",
    "                cube.append(row[d] // base**l)\n",
    "            cube = tuple(cube)\n",
    "            # encoded_value = encode(cube)\n",
    "            cm_sketches[l].update(cube)\n",
    "\n",
    "    return cm_sketches"
   ]
  },
  {
   "cell_type": "code",
   "execution_count": 24,
   "metadata": {},
   "outputs": [],
   "source": [
    "cm_sketches_2 = build_sketches(df, base=2, levels=9, dimensions=3)"
   ]
  },
  {
   "cell_type": "code",
   "execution_count": 43,
   "metadata": {},
   "outputs": [],
   "source": [
    "cm_sketches_5 = build_sketches(df, base=5, levels=4, dimensions=3)"
   ]
  },
  {
   "cell_type": "code",
   "execution_count": 25,
   "metadata": {},
   "outputs": [
    {
     "data": {
      "text/plain": [
       "np.float64(3.8613531161467862)"
      ]
     },
     "execution_count": 25,
     "metadata": {},
     "output_type": "execute_result"
    }
   ],
   "source": [
    "np.log(500)/np.log(5)"
   ]
  },
  {
   "cell_type": "markdown",
   "metadata": {},
   "source": [
    "# Evaluation"
   ]
  },
  {
   "cell_type": "markdown",
   "metadata": {},
   "source": [
    "## Base = 5  :  Levels = 4"
   ]
  },
  {
   "cell_type": "code",
   "execution_count": 110,
   "metadata": {},
   "outputs": [],
   "source": [
    "levels = 4\n",
    "\n",
    "# Create queries\n",
    "lower_bound = 4800\n",
    "upper_bound = 5200 - base ** (levels-1)\n",
    "n_samples = 20\n",
    "\n",
    "queries = []\n",
    "\n",
    "for l in range(levels):\n",
    "    l_queries = []\n",
    "    for i in range(n_samples):\n",
    "        start = np.random.randint(lower_bound, upper_bound)\n",
    "        end = start + base**l - 1\n",
    "        query = [(int(start), int(end))] * dimensions\n",
    "        l_queries.append(query)\n",
    "    queries.append(l_queries)"
   ]
  },
  {
   "cell_type": "code",
   "execution_count": null,
   "metadata": {},
   "outputs": [
    {
     "name": "stdout",
     "output_type": "stream",
     "text": [
      "level compleated: 0\n",
      "level compleated: 1\n",
      "level compleated: 2\n"
     ]
    },
    {
     "ename": "KeyboardInterrupt",
     "evalue": "",
     "output_type": "error",
     "traceback": [
      "\u001b[0;31m---------------------------------------------------------------------------\u001b[0m",
      "\u001b[0;31mKeyboardInterrupt\u001b[0m                         Traceback (most recent call last)",
      "\u001b[0;32m/tmp/ipykernel_888/3053966941.py\u001b[0m in \u001b[0;36m<module>\u001b[0;34m\u001b[0m\n\u001b[1;32m     36\u001b[0m             \u001b[0mestimate\u001b[0m \u001b[0;34m+=\u001b[0m \u001b[0mcube_extimate\u001b[0m\u001b[0;34m\u001b[0m\u001b[0;34m\u001b[0m\u001b[0m\n\u001b[1;32m     37\u001b[0m \u001b[0;34m\u001b[0m\u001b[0m\n\u001b[0;32m---> 38\u001b[0;31m             \u001b[0mcube_result\u001b[0m \u001b[0;34m=\u001b[0m \u001b[0mdf\u001b[0m\u001b[0;34m.\u001b[0m\u001b[0mquery\u001b[0m\u001b[0;34m(\u001b[0m\u001b[0;34m\" and \"\u001b[0m\u001b[0;34m.\u001b[0m\u001b[0mjoin\u001b[0m\u001b[0;34m(\u001b[0m\u001b[0;34m[\u001b[0m\u001b[0;34mf\"\u001b[0m\u001b[0;34md_\u001b[0m\u001b[0;34m{\u001b[0m\u001b[0mi\u001b[0m\u001b[0;34m}\u001b[0m\u001b[0;34m >= \u001b[0m\u001b[0;34m{\u001b[0m\u001b[0mcube\u001b[0m\u001b[0;34m.\u001b[0m\u001b[0mb_adic_ranges\u001b[0m\u001b[0;34m[\u001b[0m\u001b[0mi\u001b[0m\u001b[0;34m]\u001b[0m\u001b[0;34m.\u001b[0m\u001b[0mlow\u001b[0m\u001b[0;34m}\u001b[0m\u001b[0;34m and d_\u001b[0m\u001b[0;34m{\u001b[0m\u001b[0mi\u001b[0m\u001b[0;34m}\u001b[0m\u001b[0;34m < \u001b[0m\u001b[0;34m{\u001b[0m\u001b[0mcube\u001b[0m\u001b[0;34m.\u001b[0m\u001b[0mb_adic_ranges\u001b[0m\u001b[0;34m[\u001b[0m\u001b[0mi\u001b[0m\u001b[0;34m]\u001b[0m\u001b[0;34m.\u001b[0m\u001b[0mhigh\u001b[0m\u001b[0;34m}\u001b[0m\u001b[0;34m\"\u001b[0m \u001b[0;32mfor\u001b[0m \u001b[0mi\u001b[0m \u001b[0;32min\u001b[0m \u001b[0mrange\u001b[0m\u001b[0;34m(\u001b[0m\u001b[0mlen\u001b[0m\u001b[0;34m(\u001b[0m\u001b[0mcube\u001b[0m\u001b[0;34m.\u001b[0m\u001b[0mb_adic_ranges\u001b[0m\u001b[0;34m)\u001b[0m\u001b[0;34m)\u001b[0m\u001b[0;34m]\u001b[0m\u001b[0;34m)\u001b[0m\u001b[0;34m)\u001b[0m\u001b[0;34m.\u001b[0m\u001b[0mshape\u001b[0m\u001b[0;34m[\u001b[0m\u001b[0;36m0\u001b[0m\u001b[0;34m]\u001b[0m\u001b[0;34m\u001b[0m\u001b[0;34m\u001b[0m\u001b[0m\n\u001b[0m\u001b[1;32m     39\u001b[0m             \u001b[0mlevel_errors\u001b[0m\u001b[0;34m[\u001b[0m\u001b[0mcube\u001b[0m\u001b[0;34m.\u001b[0m\u001b[0mlevel\u001b[0m\u001b[0;34m]\u001b[0m \u001b[0;34m+=\u001b[0m \u001b[0mabs\u001b[0m\u001b[0;34m(\u001b[0m\u001b[0mcube_result\u001b[0m \u001b[0;34m-\u001b[0m \u001b[0mcube_extimate\u001b[0m\u001b[0;34m)\u001b[0m\u001b[0;34m\u001b[0m\u001b[0;34m\u001b[0m\u001b[0m\n\u001b[1;32m     40\u001b[0m             \u001b[0mlevel_queries\u001b[0m\u001b[0;34m[\u001b[0m\u001b[0mcube\u001b[0m\u001b[0;34m.\u001b[0m\u001b[0mlevel\u001b[0m\u001b[0;34m]\u001b[0m \u001b[0;34m+=\u001b[0m \u001b[0;36m1\u001b[0m\u001b[0;34m\u001b[0m\u001b[0;34m\u001b[0m\u001b[0m\n",
      "\u001b[0;32m~/.local/lib/python3.12/site-packages/pandas/core/frame.py\u001b[0m in \u001b[0;36mquery\u001b[0;34m(self, expr, inplace, **kwargs)\u001b[0m\n\u001b[1;32m   4821\u001b[0m         \u001b[0mkwargs\u001b[0m\u001b[0;34m[\u001b[0m\u001b[0;34m\"level\"\u001b[0m\u001b[0;34m]\u001b[0m \u001b[0;34m=\u001b[0m \u001b[0mkwargs\u001b[0m\u001b[0;34m.\u001b[0m\u001b[0mpop\u001b[0m\u001b[0;34m(\u001b[0m\u001b[0;34m\"level\"\u001b[0m\u001b[0;34m,\u001b[0m \u001b[0;36m0\u001b[0m\u001b[0;34m)\u001b[0m \u001b[0;34m+\u001b[0m \u001b[0;36m1\u001b[0m\u001b[0;34m\u001b[0m\u001b[0;34m\u001b[0m\u001b[0m\n\u001b[1;32m   4822\u001b[0m         \u001b[0mkwargs\u001b[0m\u001b[0;34m[\u001b[0m\u001b[0;34m\"target\"\u001b[0m\u001b[0;34m]\u001b[0m \u001b[0;34m=\u001b[0m \u001b[0;32mNone\u001b[0m\u001b[0;34m\u001b[0m\u001b[0;34m\u001b[0m\u001b[0m\n\u001b[0;32m-> 4823\u001b[0;31m         \u001b[0mres\u001b[0m \u001b[0;34m=\u001b[0m \u001b[0mself\u001b[0m\u001b[0;34m.\u001b[0m\u001b[0meval\u001b[0m\u001b[0;34m(\u001b[0m\u001b[0mexpr\u001b[0m\u001b[0;34m,\u001b[0m \u001b[0;34m**\u001b[0m\u001b[0mkwargs\u001b[0m\u001b[0;34m)\u001b[0m\u001b[0;34m\u001b[0m\u001b[0;34m\u001b[0m\u001b[0m\n\u001b[0m\u001b[1;32m   4824\u001b[0m \u001b[0;34m\u001b[0m\u001b[0m\n\u001b[1;32m   4825\u001b[0m         \u001b[0;32mtry\u001b[0m\u001b[0;34m:\u001b[0m\u001b[0;34m\u001b[0m\u001b[0;34m\u001b[0m\u001b[0m\n",
      "\u001b[0;32m~/.local/lib/python3.12/site-packages/pandas/core/frame.py\u001b[0m in \u001b[0;36meval\u001b[0;34m(self, expr, inplace, **kwargs)\u001b[0m\n\u001b[1;32m   4947\u001b[0m         \u001b[0mkwargs\u001b[0m\u001b[0;34m[\u001b[0m\u001b[0;34m\"resolvers\"\u001b[0m\u001b[0;34m]\u001b[0m \u001b[0;34m=\u001b[0m \u001b[0mtuple\u001b[0m\u001b[0;34m(\u001b[0m\u001b[0mkwargs\u001b[0m\u001b[0;34m.\u001b[0m\u001b[0mget\u001b[0m\u001b[0;34m(\u001b[0m\u001b[0;34m\"resolvers\"\u001b[0m\u001b[0;34m,\u001b[0m \u001b[0;34m(\u001b[0m\u001b[0;34m)\u001b[0m\u001b[0;34m)\u001b[0m\u001b[0;34m)\u001b[0m \u001b[0;34m+\u001b[0m \u001b[0mresolvers\u001b[0m\u001b[0;34m\u001b[0m\u001b[0;34m\u001b[0m\u001b[0m\n\u001b[1;32m   4948\u001b[0m \u001b[0;34m\u001b[0m\u001b[0m\n\u001b[0;32m-> 4949\u001b[0;31m         \u001b[0;32mreturn\u001b[0m \u001b[0m_eval\u001b[0m\u001b[0;34m(\u001b[0m\u001b[0mexpr\u001b[0m\u001b[0;34m,\u001b[0m \u001b[0minplace\u001b[0m\u001b[0;34m=\u001b[0m\u001b[0minplace\u001b[0m\u001b[0;34m,\u001b[0m \u001b[0;34m**\u001b[0m\u001b[0mkwargs\u001b[0m\u001b[0;34m)\u001b[0m\u001b[0;34m\u001b[0m\u001b[0;34m\u001b[0m\u001b[0m\n\u001b[0m\u001b[1;32m   4950\u001b[0m \u001b[0;34m\u001b[0m\u001b[0m\n\u001b[1;32m   4951\u001b[0m     \u001b[0;32mdef\u001b[0m \u001b[0mselect_dtypes\u001b[0m\u001b[0;34m(\u001b[0m\u001b[0mself\u001b[0m\u001b[0;34m,\u001b[0m \u001b[0minclude\u001b[0m\u001b[0;34m=\u001b[0m\u001b[0;32mNone\u001b[0m\u001b[0;34m,\u001b[0m \u001b[0mexclude\u001b[0m\u001b[0;34m=\u001b[0m\u001b[0;32mNone\u001b[0m\u001b[0;34m)\u001b[0m \u001b[0;34m->\u001b[0m \u001b[0mSelf\u001b[0m\u001b[0;34m:\u001b[0m\u001b[0;34m\u001b[0m\u001b[0;34m\u001b[0m\u001b[0m\n",
      "\u001b[0;32m~/.local/lib/python3.12/site-packages/pandas/core/computation/eval.py\u001b[0m in \u001b[0;36meval\u001b[0;34m(expr, parser, engine, local_dict, global_dict, resolvers, level, target, inplace)\u001b[0m\n\u001b[1;32m    355\u001b[0m         \u001b[0meng\u001b[0m \u001b[0;34m=\u001b[0m \u001b[0mENGINES\u001b[0m\u001b[0;34m[\u001b[0m\u001b[0mengine\u001b[0m\u001b[0;34m]\u001b[0m\u001b[0;34m\u001b[0m\u001b[0;34m\u001b[0m\u001b[0m\n\u001b[1;32m    356\u001b[0m         \u001b[0meng_inst\u001b[0m \u001b[0;34m=\u001b[0m \u001b[0meng\u001b[0m\u001b[0;34m(\u001b[0m\u001b[0mparsed_expr\u001b[0m\u001b[0;34m)\u001b[0m\u001b[0;34m\u001b[0m\u001b[0;34m\u001b[0m\u001b[0m\n\u001b[0;32m--> 357\u001b[0;31m         \u001b[0mret\u001b[0m \u001b[0;34m=\u001b[0m \u001b[0meng_inst\u001b[0m\u001b[0;34m.\u001b[0m\u001b[0mevaluate\u001b[0m\u001b[0;34m(\u001b[0m\u001b[0;34m)\u001b[0m\u001b[0;34m\u001b[0m\u001b[0;34m\u001b[0m\u001b[0m\n\u001b[0m\u001b[1;32m    358\u001b[0m \u001b[0;34m\u001b[0m\u001b[0m\n\u001b[1;32m    359\u001b[0m         \u001b[0;32mif\u001b[0m \u001b[0mparsed_expr\u001b[0m\u001b[0;34m.\u001b[0m\u001b[0massigner\u001b[0m \u001b[0;32mis\u001b[0m \u001b[0;32mNone\u001b[0m\u001b[0;34m:\u001b[0m\u001b[0;34m\u001b[0m\u001b[0;34m\u001b[0m\u001b[0m\n",
      "\u001b[0;32m~/.local/lib/python3.12/site-packages/pandas/core/computation/engines.py\u001b[0m in \u001b[0;36mevaluate\u001b[0;34m(self)\u001b[0m\n\u001b[1;32m    132\u001b[0m \u001b[0;34m\u001b[0m\u001b[0m\n\u001b[1;32m    133\u001b[0m     \u001b[0;32mdef\u001b[0m \u001b[0mevaluate\u001b[0m\u001b[0;34m(\u001b[0m\u001b[0mself\u001b[0m\u001b[0;34m)\u001b[0m\u001b[0;34m:\u001b[0m\u001b[0;34m\u001b[0m\u001b[0;34m\u001b[0m\u001b[0m\n\u001b[0;32m--> 134\u001b[0;31m         \u001b[0;32mreturn\u001b[0m \u001b[0mself\u001b[0m\u001b[0;34m.\u001b[0m\u001b[0mexpr\u001b[0m\u001b[0;34m(\u001b[0m\u001b[0;34m)\u001b[0m\u001b[0;34m\u001b[0m\u001b[0;34m\u001b[0m\u001b[0m\n\u001b[0m\u001b[1;32m    135\u001b[0m \u001b[0;34m\u001b[0m\u001b[0m\n\u001b[1;32m    136\u001b[0m     \u001b[0;32mdef\u001b[0m \u001b[0m_evaluate\u001b[0m\u001b[0;34m(\u001b[0m\u001b[0mself\u001b[0m\u001b[0;34m)\u001b[0m \u001b[0;34m->\u001b[0m \u001b[0;32mNone\u001b[0m\u001b[0;34m:\u001b[0m\u001b[0;34m\u001b[0m\u001b[0;34m\u001b[0m\u001b[0m\n",
      "\u001b[0;32m~/.local/lib/python3.12/site-packages/pandas/core/computation/expr.py\u001b[0m in \u001b[0;36m__call__\u001b[0;34m(self)\u001b[0m\n\u001b[1;32m    814\u001b[0m \u001b[0;34m\u001b[0m\u001b[0m\n\u001b[1;32m    815\u001b[0m     \u001b[0;32mdef\u001b[0m \u001b[0m__call__\u001b[0m\u001b[0;34m(\u001b[0m\u001b[0mself\u001b[0m\u001b[0;34m)\u001b[0m\u001b[0;34m:\u001b[0m\u001b[0;34m\u001b[0m\u001b[0;34m\u001b[0m\u001b[0m\n\u001b[0;32m--> 816\u001b[0;31m         \u001b[0;32mreturn\u001b[0m \u001b[0mself\u001b[0m\u001b[0;34m.\u001b[0m\u001b[0mterms\u001b[0m\u001b[0;34m(\u001b[0m\u001b[0mself\u001b[0m\u001b[0;34m.\u001b[0m\u001b[0menv\u001b[0m\u001b[0;34m)\u001b[0m\u001b[0;34m\u001b[0m\u001b[0;34m\u001b[0m\u001b[0m\n\u001b[0m\u001b[1;32m    817\u001b[0m \u001b[0;34m\u001b[0m\u001b[0m\n\u001b[1;32m    818\u001b[0m     \u001b[0;32mdef\u001b[0m \u001b[0m__repr__\u001b[0m\u001b[0;34m(\u001b[0m\u001b[0mself\u001b[0m\u001b[0;34m)\u001b[0m \u001b[0;34m->\u001b[0m \u001b[0mstr\u001b[0m\u001b[0;34m:\u001b[0m\u001b[0;34m\u001b[0m\u001b[0;34m\u001b[0m\u001b[0m\n",
      "\u001b[0;32m~/.local/lib/python3.12/site-packages/pandas/core/computation/ops.py\u001b[0m in \u001b[0;36m__call__\u001b[0;34m(self, env)\u001b[0m\n\u001b[1;32m    405\u001b[0m         \"\"\"\n\u001b[1;32m    406\u001b[0m         \u001b[0;31m# recurse over the left/right nodes\u001b[0m\u001b[0;34m\u001b[0m\u001b[0;34m\u001b[0m\u001b[0m\n\u001b[0;32m--> 407\u001b[0;31m         \u001b[0mleft\u001b[0m \u001b[0;34m=\u001b[0m \u001b[0mself\u001b[0m\u001b[0;34m.\u001b[0m\u001b[0mlhs\u001b[0m\u001b[0;34m(\u001b[0m\u001b[0menv\u001b[0m\u001b[0;34m)\u001b[0m\u001b[0;34m\u001b[0m\u001b[0;34m\u001b[0m\u001b[0m\n\u001b[0m\u001b[1;32m    408\u001b[0m         \u001b[0mright\u001b[0m \u001b[0;34m=\u001b[0m \u001b[0mself\u001b[0m\u001b[0;34m.\u001b[0m\u001b[0mrhs\u001b[0m\u001b[0;34m(\u001b[0m\u001b[0menv\u001b[0m\u001b[0;34m)\u001b[0m\u001b[0;34m\u001b[0m\u001b[0;34m\u001b[0m\u001b[0m\n\u001b[1;32m    409\u001b[0m \u001b[0;34m\u001b[0m\u001b[0m\n",
      "\u001b[0;32m~/.local/lib/python3.12/site-packages/pandas/core/computation/ops.py\u001b[0m in \u001b[0;36m__call__\u001b[0;34m(self, env)\u001b[0m\n\u001b[1;32m    406\u001b[0m         \u001b[0;31m# recurse over the left/right nodes\u001b[0m\u001b[0;34m\u001b[0m\u001b[0;34m\u001b[0m\u001b[0m\n\u001b[1;32m    407\u001b[0m         \u001b[0mleft\u001b[0m \u001b[0;34m=\u001b[0m \u001b[0mself\u001b[0m\u001b[0;34m.\u001b[0m\u001b[0mlhs\u001b[0m\u001b[0;34m(\u001b[0m\u001b[0menv\u001b[0m\u001b[0;34m)\u001b[0m\u001b[0;34m\u001b[0m\u001b[0;34m\u001b[0m\u001b[0m\n\u001b[0;32m--> 408\u001b[0;31m         \u001b[0mright\u001b[0m \u001b[0;34m=\u001b[0m \u001b[0mself\u001b[0m\u001b[0;34m.\u001b[0m\u001b[0mrhs\u001b[0m\u001b[0;34m(\u001b[0m\u001b[0menv\u001b[0m\u001b[0;34m)\u001b[0m\u001b[0;34m\u001b[0m\u001b[0;34m\u001b[0m\u001b[0m\n\u001b[0m\u001b[1;32m    409\u001b[0m \u001b[0;34m\u001b[0m\u001b[0m\n\u001b[1;32m    410\u001b[0m         \u001b[0;32mreturn\u001b[0m \u001b[0mself\u001b[0m\u001b[0;34m.\u001b[0m\u001b[0mfunc\u001b[0m\u001b[0;34m(\u001b[0m\u001b[0mleft\u001b[0m\u001b[0;34m,\u001b[0m \u001b[0mright\u001b[0m\u001b[0;34m)\u001b[0m\u001b[0;34m\u001b[0m\u001b[0;34m\u001b[0m\u001b[0m\n",
      "\u001b[0;32m~/.local/lib/python3.12/site-packages/pandas/core/computation/ops.py\u001b[0m in \u001b[0;36m__call__\u001b[0;34m(self, env)\u001b[0m\n\u001b[1;32m    408\u001b[0m         \u001b[0mright\u001b[0m \u001b[0;34m=\u001b[0m \u001b[0mself\u001b[0m\u001b[0;34m.\u001b[0m\u001b[0mrhs\u001b[0m\u001b[0;34m(\u001b[0m\u001b[0menv\u001b[0m\u001b[0;34m)\u001b[0m\u001b[0;34m\u001b[0m\u001b[0;34m\u001b[0m\u001b[0m\n\u001b[1;32m    409\u001b[0m \u001b[0;34m\u001b[0m\u001b[0m\n\u001b[0;32m--> 410\u001b[0;31m         \u001b[0;32mreturn\u001b[0m \u001b[0mself\u001b[0m\u001b[0;34m.\u001b[0m\u001b[0mfunc\u001b[0m\u001b[0;34m(\u001b[0m\u001b[0mleft\u001b[0m\u001b[0;34m,\u001b[0m \u001b[0mright\u001b[0m\u001b[0;34m)\u001b[0m\u001b[0;34m\u001b[0m\u001b[0;34m\u001b[0m\u001b[0m\n\u001b[0m\u001b[1;32m    411\u001b[0m \u001b[0;34m\u001b[0m\u001b[0m\n\u001b[1;32m    412\u001b[0m     \u001b[0;32mdef\u001b[0m \u001b[0mevaluate\u001b[0m\u001b[0;34m(\u001b[0m\u001b[0mself\u001b[0m\u001b[0;34m,\u001b[0m \u001b[0menv\u001b[0m\u001b[0;34m,\u001b[0m \u001b[0mengine\u001b[0m\u001b[0;34m:\u001b[0m \u001b[0mstr\u001b[0m\u001b[0;34m,\u001b[0m \u001b[0mparser\u001b[0m\u001b[0;34m,\u001b[0m \u001b[0mterm_type\u001b[0m\u001b[0;34m,\u001b[0m \u001b[0meval_in_python\u001b[0m\u001b[0;34m)\u001b[0m\u001b[0;34m:\u001b[0m\u001b[0;34m\u001b[0m\u001b[0;34m\u001b[0m\u001b[0m\n",
      "\u001b[0;32m~/.local/lib/python3.12/site-packages/pandas/core/ops/common.py\u001b[0m in \u001b[0;36mnew_method\u001b[0;34m(self, other)\u001b[0m\n\u001b[1;32m     74\u001b[0m         \u001b[0mother\u001b[0m \u001b[0;34m=\u001b[0m \u001b[0mitem_from_zerodim\u001b[0m\u001b[0;34m(\u001b[0m\u001b[0mother\u001b[0m\u001b[0;34m)\u001b[0m\u001b[0;34m\u001b[0m\u001b[0;34m\u001b[0m\u001b[0m\n\u001b[1;32m     75\u001b[0m \u001b[0;34m\u001b[0m\u001b[0m\n\u001b[0;32m---> 76\u001b[0;31m         \u001b[0;32mreturn\u001b[0m \u001b[0mmethod\u001b[0m\u001b[0;34m(\u001b[0m\u001b[0mself\u001b[0m\u001b[0;34m,\u001b[0m \u001b[0mother\u001b[0m\u001b[0;34m)\u001b[0m\u001b[0;34m\u001b[0m\u001b[0;34m\u001b[0m\u001b[0m\n\u001b[0m\u001b[1;32m     77\u001b[0m \u001b[0;34m\u001b[0m\u001b[0m\n\u001b[1;32m     78\u001b[0m     \u001b[0;32mreturn\u001b[0m \u001b[0mnew_method\u001b[0m\u001b[0;34m\u001b[0m\u001b[0;34m\u001b[0m\u001b[0m\n",
      "\u001b[0;32m~/.local/lib/python3.12/site-packages/pandas/core/arraylike.py\u001b[0m in \u001b[0;36m__ge__\u001b[0;34m(self, other)\u001b[0m\n\u001b[1;32m     58\u001b[0m     \u001b[0;34m@\u001b[0m\u001b[0munpack_zerodim_and_defer\u001b[0m\u001b[0;34m(\u001b[0m\u001b[0;34m\"__ge__\"\u001b[0m\u001b[0;34m)\u001b[0m\u001b[0;34m\u001b[0m\u001b[0;34m\u001b[0m\u001b[0m\n\u001b[1;32m     59\u001b[0m     \u001b[0;32mdef\u001b[0m \u001b[0m__ge__\u001b[0m\u001b[0;34m(\u001b[0m\u001b[0mself\u001b[0m\u001b[0;34m,\u001b[0m \u001b[0mother\u001b[0m\u001b[0;34m)\u001b[0m\u001b[0;34m:\u001b[0m\u001b[0;34m\u001b[0m\u001b[0;34m\u001b[0m\u001b[0m\n\u001b[0;32m---> 60\u001b[0;31m         \u001b[0;32mreturn\u001b[0m \u001b[0mself\u001b[0m\u001b[0;34m.\u001b[0m\u001b[0m_cmp_method\u001b[0m\u001b[0;34m(\u001b[0m\u001b[0mother\u001b[0m\u001b[0;34m,\u001b[0m \u001b[0moperator\u001b[0m\u001b[0;34m.\u001b[0m\u001b[0mge\u001b[0m\u001b[0;34m)\u001b[0m\u001b[0;34m\u001b[0m\u001b[0;34m\u001b[0m\u001b[0m\n\u001b[0m\u001b[1;32m     61\u001b[0m \u001b[0;34m\u001b[0m\u001b[0m\n\u001b[1;32m     62\u001b[0m     \u001b[0;31m# -------------------------------------------------------------\u001b[0m\u001b[0;34m\u001b[0m\u001b[0;34m\u001b[0m\u001b[0m\n",
      "\u001b[0;32m~/.local/lib/python3.12/site-packages/pandas/core/series.py\u001b[0m in \u001b[0;36m_cmp_method\u001b[0;34m(self, other, op)\u001b[0m\n\u001b[1;32m   6119\u001b[0m         \u001b[0mres_values\u001b[0m \u001b[0;34m=\u001b[0m \u001b[0mops\u001b[0m\u001b[0;34m.\u001b[0m\u001b[0mcomparison_op\u001b[0m\u001b[0;34m(\u001b[0m\u001b[0mlvalues\u001b[0m\u001b[0;34m,\u001b[0m \u001b[0mrvalues\u001b[0m\u001b[0;34m,\u001b[0m \u001b[0mop\u001b[0m\u001b[0;34m)\u001b[0m\u001b[0;34m\u001b[0m\u001b[0;34m\u001b[0m\u001b[0m\n\u001b[1;32m   6120\u001b[0m \u001b[0;34m\u001b[0m\u001b[0m\n\u001b[0;32m-> 6121\u001b[0;31m         \u001b[0;32mreturn\u001b[0m \u001b[0mself\u001b[0m\u001b[0;34m.\u001b[0m\u001b[0m_construct_result\u001b[0m\u001b[0;34m(\u001b[0m\u001b[0mres_values\u001b[0m\u001b[0;34m,\u001b[0m \u001b[0mname\u001b[0m\u001b[0;34m=\u001b[0m\u001b[0mres_name\u001b[0m\u001b[0;34m)\u001b[0m\u001b[0;34m\u001b[0m\u001b[0;34m\u001b[0m\u001b[0m\n\u001b[0m\u001b[1;32m   6122\u001b[0m \u001b[0;34m\u001b[0m\u001b[0m\n\u001b[1;32m   6123\u001b[0m     \u001b[0;32mdef\u001b[0m \u001b[0m_logical_method\u001b[0m\u001b[0;34m(\u001b[0m\u001b[0mself\u001b[0m\u001b[0;34m,\u001b[0m \u001b[0mother\u001b[0m\u001b[0;34m,\u001b[0m \u001b[0mop\u001b[0m\u001b[0;34m)\u001b[0m\u001b[0;34m:\u001b[0m\u001b[0;34m\u001b[0m\u001b[0;34m\u001b[0m\u001b[0m\n",
      "\u001b[0;32m~/.local/lib/python3.12/site-packages/pandas/core/series.py\u001b[0m in \u001b[0;36m_construct_result\u001b[0;34m(self, result, name)\u001b[0m\n\u001b[1;32m   6229\u001b[0m         \u001b[0;31m#  JSONArray tests\u001b[0m\u001b[0;34m\u001b[0m\u001b[0;34m\u001b[0m\u001b[0m\n\u001b[1;32m   6230\u001b[0m         \u001b[0mdtype\u001b[0m \u001b[0;34m=\u001b[0m \u001b[0mgetattr\u001b[0m\u001b[0;34m(\u001b[0m\u001b[0mresult\u001b[0m\u001b[0;34m,\u001b[0m \u001b[0;34m\"dtype\"\u001b[0m\u001b[0;34m,\u001b[0m \u001b[0;32mNone\u001b[0m\u001b[0;34m)\u001b[0m\u001b[0;34m\u001b[0m\u001b[0;34m\u001b[0m\u001b[0m\n\u001b[0;32m-> 6231\u001b[0;31m         \u001b[0mout\u001b[0m \u001b[0;34m=\u001b[0m \u001b[0mself\u001b[0m\u001b[0;34m.\u001b[0m\u001b[0m_constructor\u001b[0m\u001b[0;34m(\u001b[0m\u001b[0mresult\u001b[0m\u001b[0;34m,\u001b[0m \u001b[0mindex\u001b[0m\u001b[0;34m=\u001b[0m\u001b[0mself\u001b[0m\u001b[0;34m.\u001b[0m\u001b[0mindex\u001b[0m\u001b[0;34m,\u001b[0m \u001b[0mdtype\u001b[0m\u001b[0;34m=\u001b[0m\u001b[0mdtype\u001b[0m\u001b[0;34m,\u001b[0m \u001b[0mcopy\u001b[0m\u001b[0;34m=\u001b[0m\u001b[0;32mFalse\u001b[0m\u001b[0;34m)\u001b[0m\u001b[0;34m\u001b[0m\u001b[0;34m\u001b[0m\u001b[0m\n\u001b[0m\u001b[1;32m   6232\u001b[0m         \u001b[0mout\u001b[0m \u001b[0;34m=\u001b[0m \u001b[0mout\u001b[0m\u001b[0;34m.\u001b[0m\u001b[0m__finalize__\u001b[0m\u001b[0;34m(\u001b[0m\u001b[0mself\u001b[0m\u001b[0;34m)\u001b[0m\u001b[0;34m\u001b[0m\u001b[0;34m\u001b[0m\u001b[0m\n\u001b[1;32m   6233\u001b[0m \u001b[0;34m\u001b[0m\u001b[0m\n",
      "\u001b[0;32m~/.local/lib/python3.12/site-packages/pandas/core/series.py\u001b[0m in \u001b[0;36m__init__\u001b[0;34m(self, data, index, dtype, name, copy, fastpath)\u001b[0m\n\u001b[1;32m    584\u001b[0m             \u001b[0mdata\u001b[0m \u001b[0;34m=\u001b[0m \u001b[0msanitize_array\u001b[0m\u001b[0;34m(\u001b[0m\u001b[0mdata\u001b[0m\u001b[0;34m,\u001b[0m \u001b[0mindex\u001b[0m\u001b[0;34m,\u001b[0m \u001b[0mdtype\u001b[0m\u001b[0;34m,\u001b[0m \u001b[0mcopy\u001b[0m\u001b[0;34m)\u001b[0m\u001b[0;34m\u001b[0m\u001b[0;34m\u001b[0m\u001b[0m\n\u001b[1;32m    585\u001b[0m \u001b[0;34m\u001b[0m\u001b[0m\n\u001b[0;32m--> 586\u001b[0;31m             \u001b[0mmanager\u001b[0m \u001b[0;34m=\u001b[0m \u001b[0m_get_option\u001b[0m\u001b[0;34m(\u001b[0m\u001b[0;34m\"mode.data_manager\"\u001b[0m\u001b[0;34m,\u001b[0m \u001b[0msilent\u001b[0m\u001b[0;34m=\u001b[0m\u001b[0;32mTrue\u001b[0m\u001b[0;34m)\u001b[0m\u001b[0;34m\u001b[0m\u001b[0;34m\u001b[0m\u001b[0m\n\u001b[0m\u001b[1;32m    587\u001b[0m             \u001b[0;32mif\u001b[0m \u001b[0mmanager\u001b[0m \u001b[0;34m==\u001b[0m \u001b[0;34m\"block\"\u001b[0m\u001b[0;34m:\u001b[0m\u001b[0;34m\u001b[0m\u001b[0;34m\u001b[0m\u001b[0m\n\u001b[1;32m    588\u001b[0m                 \u001b[0mdata\u001b[0m \u001b[0;34m=\u001b[0m \u001b[0mSingleBlockManager\u001b[0m\u001b[0;34m.\u001b[0m\u001b[0mfrom_array\u001b[0m\u001b[0;34m(\u001b[0m\u001b[0mdata\u001b[0m\u001b[0;34m,\u001b[0m \u001b[0mindex\u001b[0m\u001b[0;34m,\u001b[0m \u001b[0mrefs\u001b[0m\u001b[0;34m=\u001b[0m\u001b[0mrefs\u001b[0m\u001b[0;34m)\u001b[0m\u001b[0;34m\u001b[0m\u001b[0;34m\u001b[0m\u001b[0m\n",
      "\u001b[0;32m~/.local/lib/python3.12/site-packages/pandas/_config/config.py\u001b[0m in \u001b[0;36m_get_option\u001b[0;34m(pat, silent)\u001b[0m\n\u001b[1;32m    143\u001b[0m \u001b[0;34m\u001b[0m\u001b[0m\n\u001b[1;32m    144\u001b[0m \u001b[0;34m\u001b[0m\u001b[0m\n\u001b[0;32m--> 145\u001b[0;31m \u001b[0;32mdef\u001b[0m \u001b[0m_get_option\u001b[0m\u001b[0;34m(\u001b[0m\u001b[0mpat\u001b[0m\u001b[0;34m:\u001b[0m \u001b[0mstr\u001b[0m\u001b[0;34m,\u001b[0m \u001b[0msilent\u001b[0m\u001b[0;34m:\u001b[0m \u001b[0mbool\u001b[0m \u001b[0;34m=\u001b[0m \u001b[0;32mFalse\u001b[0m\u001b[0;34m)\u001b[0m \u001b[0;34m->\u001b[0m \u001b[0mAny\u001b[0m\u001b[0;34m:\u001b[0m\u001b[0;34m\u001b[0m\u001b[0;34m\u001b[0m\u001b[0m\n\u001b[0m\u001b[1;32m    146\u001b[0m     \u001b[0mkey\u001b[0m \u001b[0;34m=\u001b[0m \u001b[0m_get_single_key\u001b[0m\u001b[0;34m(\u001b[0m\u001b[0mpat\u001b[0m\u001b[0;34m,\u001b[0m \u001b[0msilent\u001b[0m\u001b[0;34m)\u001b[0m\u001b[0;34m\u001b[0m\u001b[0;34m\u001b[0m\u001b[0m\n\u001b[1;32m    147\u001b[0m \u001b[0;34m\u001b[0m\u001b[0m\n",
      "\u001b[0;32m~/.local/lib/python3.12/site-packages/debugpy/_vendored/pydevd/_pydevd_bundle/pydevd_trace_dispatch_regular.py\u001b[0m in \u001b[0;36m__call__\u001b[0;34m(self, frame, event, arg)\u001b[0m\n\u001b[1;32m    324\u001b[0m \u001b[0;31m# ENDIF\u001b[0m\u001b[0;34m\u001b[0m\u001b[0;34m\u001b[0m\u001b[0m\n\u001b[1;32m    325\u001b[0m \u001b[0;34m\u001b[0m\u001b[0m\n\u001b[0;32m--> 326\u001b[0;31m     \u001b[0;32mdef\u001b[0m \u001b[0m__call__\u001b[0m\u001b[0;34m(\u001b[0m\u001b[0mself\u001b[0m\u001b[0;34m,\u001b[0m \u001b[0mframe\u001b[0m\u001b[0;34m,\u001b[0m \u001b[0mevent\u001b[0m\u001b[0;34m,\u001b[0m \u001b[0marg\u001b[0m\u001b[0;34m)\u001b[0m\u001b[0;34m:\u001b[0m\u001b[0;34m\u001b[0m\u001b[0;34m\u001b[0m\u001b[0m\n\u001b[0m\u001b[1;32m    327\u001b[0m         ''' This is the callback used when we enter some context in the debugger.\n\u001b[1;32m    328\u001b[0m \u001b[0;34m\u001b[0m\u001b[0m\n",
      "\u001b[0;31mKeyboardInterrupt\u001b[0m: "
     ]
    }
   ],
   "source": [
    "base = 5\n",
    "dimensions = 3\n",
    "cm_sketches = cm_sketches_5\n",
    "\n",
    "true_results = []\n",
    "estimates = []\n",
    "n_cubes = []\n",
    "absolute_errors = []\n",
    "relative_errors = []\n",
    "n_level_0_cubes = []\n",
    "\n",
    "# level_errors = [0]*levels\n",
    "# level_queries = [0]*levels\n",
    "\n",
    "for l in range(levels):\n",
    "    l_true_results = []\n",
    "    l_estimates = []\n",
    "    l_n_cubes = []\n",
    "    l_absolute_errors = []\n",
    "    l_relative_errors = []\n",
    "    l_n_level_0_cubes = []\n",
    "\n",
    "    for i in range(n_samples):\n",
    "        query = queries[l][i]\n",
    "\n",
    "        true_result = df.query(\" and \".join([f\"d_{i} >= {query[i][0]} and d_{i} <= {query[i][1]}\" for i in range(dimensions)])).shape[0]\n",
    "        bases = [base] * dimensions\n",
    "        cubes = minimal_spatial_b_adic_cover(query, bases)\n",
    "        estimate = 0\n",
    "        n_level_0 = 0\n",
    "        for cube in cubes:\n",
    "            if cube.level == 0:\n",
    "                n_level_0 += 1\n",
    "            tuple_value = tuple([r.index for r in cube.b_adic_ranges])\n",
    "            cube_extimate = cm_sketches[cube.level].query(tuple_value)\n",
    "            estimate += cube_extimate\n",
    "\n",
    "            # cube_result = df.query(\" and \".join([f\"d_{i} >= {cube.b_adic_ranges[i].low} and d_{i} < {cube.b_adic_ranges[i].high}\" for i in range(len(cube.b_adic_ranges))])).shape[0]\n",
    "            # level_errors[cube.level] += abs(cube_result - cube_extimate)\n",
    "            # level_queries[cube.level] += 1\n",
    "\n",
    "        l_n_level_0_cubes.append(n_level_0)\n",
    "        l_true_results.append(true_result)\n",
    "        l_estimates.append(int(estimate))\n",
    "        l_n_cubes.append(len(cubes))\n",
    "        l_absolute_errors.append(int(abs(true_result - estimate)))\n",
    "        if true_result != 0:\n",
    "            l_relative_errors.append(abs(true_result - estimate) / true_result)\n",
    "        else:\n",
    "            l_relative_errors.append(abs(true_result - estimate))\n",
    "    \n",
    "    print(f\"level compleated: {l}\")\n",
    "    true_results.append(l_true_results)\n",
    "    estimates.append(l_estimates)\n",
    "    n_cubes.append(l_n_cubes)\n",
    "    absolute_errors.append(l_absolute_errors)\n",
    "    relative_errors.append(l_relative_errors)\n",
    "    n_level_0_cubes.append(l_n_level_0_cubes)"
   ]
  },
  {
   "cell_type": "code",
   "execution_count": 152,
   "metadata": {},
   "outputs": [
    {
     "data": {
      "text/plain": [
       "'d_0 >= 4951 and d_0 < 4952 and d_1 >= 4951 and d_1 < 4952 and d_2 >= 4951 and d_2 < 4952'"
      ]
     },
     "execution_count": 152,
     "metadata": {},
     "output_type": "execute_result"
    }
   ],
   "source": [
    "\" and \".join([f\"d_{i} >= {cube.b_adic_ranges[i].low} and d_{i} < {cube.b_adic_ranges[i].high}\" for i in range(len(cube.b_adic_ranges))])"
   ]
  },
  {
   "cell_type": "code",
   "execution_count": 112,
   "metadata": {},
   "outputs": [
    {
     "name": "stdout",
     "output_type": "stream",
     "text": [
      "[[0, 1, 0, 1, 2, 0, 0, 1, 0, 0, 0, 0, 0, 1, 1, 0, 1, 0, 0, 0], [38, 35, 45, 46, 48, 48, 46, 33, 44, 28, 38, 34, 37, 27, 0, 0, 32, 41, 35, 0], [2624, 2364, 2499, 2528, 2620, 2537, 2501, 2557, 2446, 2432, 2378, 2658, 41, 2462, 2640, 14, 2472, 2553, 2541, 2561], [74827, 76240, 75528, 1668, 76365, 76125, 1575, 1820, 76804, 75304, 74976, 73882, 75356, 77565, 74587, 76136, 76397, 76419, 76040, 76618]]\n",
      "[[1, 1, 1, 1, 1, 1, 1, 1, 1, 1, 1, 1, 1, 1, 1, 1, 1, 1, 1, 1], [125, 125, 125, 125, 125, 125, 125, 125, 125, 125, 125, 125, 125, 125, 0, 0, 125, 125, 125, 0], [7625, 7625, 7625, 7625, 7625, 7625, 7625, 7625, 7625, 7625, 7625, 7625, 0, 7625, 7625, 0, 7625, 7625, 7625, 7625], [225125, 225125, 225125, 0, 225125, 225125, 0, 0, 225125, 225125, 225125, 225125, 225125, 225125, 225125, 225125, 225125, 225125, 225125, 225125]]\n"
     ]
    }
   ],
   "source": [
    "print(absolute_errors)\n",
    "print(n_level_0_cubes)"
   ]
  },
  {
   "cell_type": "code",
   "execution_count": 113,
   "metadata": {},
   "outputs": [
    {
     "name": "stderr",
     "output_type": "stream",
     "text": [
      "/tmp/ipykernel_888/162705037.py:1: RuntimeWarning: divide by zero encountered in divide\n",
      "  np.array(absolute_errors)/np.array(n_level_0_cubes)\n",
      "/tmp/ipykernel_888/162705037.py:1: RuntimeWarning: invalid value encountered in divide\n",
      "  np.array(absolute_errors)/np.array(n_level_0_cubes)\n"
     ]
    },
    {
     "data": {
      "text/plain": [
       "array([[0.        , 1.        , 0.        , 1.        , 2.        ,\n",
       "        0.        , 0.        , 1.        , 0.        , 0.        ,\n",
       "        0.        , 0.        , 0.        , 1.        , 1.        ,\n",
       "        0.        , 1.        , 0.        , 0.        , 0.        ],\n",
       "       [0.304     , 0.28      , 0.36      , 0.368     , 0.384     ,\n",
       "        0.384     , 0.368     , 0.264     , 0.352     , 0.224     ,\n",
       "        0.304     , 0.272     , 0.296     , 0.216     ,        nan,\n",
       "               nan, 0.256     , 0.328     , 0.28      ,        nan],\n",
       "       [0.34413115, 0.31003279, 0.3277377 , 0.33154098, 0.34360656,\n",
       "        0.33272131, 0.328     , 0.33534426, 0.32078689, 0.31895082,\n",
       "        0.31186885, 0.34859016,        inf, 0.32288525, 0.34622951,\n",
       "               inf, 0.32419672, 0.33481967, 0.3332459 , 0.33586885],\n",
       "       [0.33237979, 0.3386563 , 0.33549361,        inf, 0.33921155,\n",
       "        0.33814547,        inf,        inf, 0.34116158, 0.33449861,\n",
       "        0.33304164, 0.32818212, 0.33472959, 0.34454192, 0.33131371,\n",
       "        0.33819434, 0.33935369, 0.33945142, 0.33776791, 0.34033537]])"
      ]
     },
     "execution_count": 113,
     "metadata": {},
     "output_type": "execute_result"
    }
   ],
   "source": [
    "np.array(absolute_errors)/np.array(n_level_0_cubes)"
   ]
  },
  {
   "cell_type": "code",
   "execution_count": 114,
   "metadata": {},
   "outputs": [
    {
     "data": {
      "image/png": "[encoded data removed]",
      "text/plain": [
       "<Figure size 432x288 with 1 Axes>"
      ]
     },
     "metadata": {
      "needs_background": "light"
     },
     "output_type": "display_data"
    },
    {
     "name": "stdout",
     "output_type": "stream",
     "text": [
      "Pearson correlation coefficient: 0.9998538679320456\n",
      "P-value: 1.3139251259185166e-139\n"
     ]
    }
   ],
   "source": [
    "flat_absolute_errors = np.array(absolute_errors).flatten()\n",
    "flat_n_level_0_cubes = np.array(n_level_0_cubes).flatten()\n",
    "\n",
    "# Plot the correlation plot\n",
    "sns.scatterplot(x=flat_absolute_errors, y=flat_n_level_0_cubes)\n",
    "plt.xlabel('Absolute Errors')\n",
    "plt.ylabel('Number of Level 0 Cubes')\n",
    "plt.title('Correlation Plot between Absolute Errors and Number of Level 0 Cubes')\n",
    "plt.show()\n",
    "\n",
    "# Calculate the Pearson correlation coefficient\n",
    "correlation_coefficient, p_value = pearsonr(flat_absolute_errors, flat_n_level_0_cubes)\n",
    "print(f'Pearson correlation coefficient: {correlation_coefficient}')\n",
    "print(f'P-value: {p_value}')"
   ]
  },
  {
   "cell_type": "code",
   "execution_count": 133,
   "metadata": {},
   "outputs": [
    {
     "data": {
      "image/png": "[encoded data removed]",
      "text/plain": [
       "<Figure size 432x288 with 1 Axes>"
      ]
     },
     "metadata": {
      "needs_background": "light"
     },
     "output_type": "display_data"
    }
   ],
   "source": [
    "flat_relative_errors = np.array(relative_errors).flatten()\n",
    "\n",
    "# Plot the histogram\n",
    "plt.hist(flat_relative_errors, bins=50, edgecolor='black')\n",
    "plt.xlabel('Relative Errors')\n",
    "plt.ylabel('Frequency')\n",
    "plt.title('Histogram of Relative Errors')\n",
    "plt.show()"
   ]
  },
  {
   "cell_type": "code",
   "execution_count": 116,
   "metadata": {},
   "outputs": [
    {
     "data": {
      "image/png": "[encoded data removed]",
      "text/plain": [
       "<Figure size 432x288 with 1 Axes>"
      ]
     },
     "metadata": {
      "needs_background": "light"
     },
     "output_type": "display_data"
    },
    {
     "name": "stdout",
     "output_type": "stream",
     "text": [
      "Pearson correlation coefficient: 0.9998538679320456\n",
      "P-value: 1.3139251259185166e-139\n"
     ]
    }
   ],
   "source": [
    "flat_n_cubes = np.array(n_cubes).flatten()\n",
    "ratio_n_level_0_cubes = flat_n_level_0_cubes / flat_n_cubes\n",
    "\n",
    "# Plot the correlation plot\n",
    "sns.scatterplot(x=ratio_n_level_0_cubes, y=flat_relative_errors)\n",
    "plt.xlabel('Ratio of Level 0 Cubes')\n",
    "plt.ylabel('Relative Errors')\n",
    "plt.title('Correlation Plot between Ratio of Level 0 Cubes and Relative Errors')\n",
    "plt.show()\n",
    "\n",
    "correlation_coefficient, p_value = pearsonr(flat_absolute_errors, flat_n_level_0_cubes)\n",
    "print(f'Pearson correlation coefficient: {correlation_coefficient}')\n",
    "print(f'P-value: {p_value}')"
   ]
  },
  {
   "cell_type": "code",
   "execution_count": 144,
   "metadata": {},
   "outputs": [
    {
     "name": "stdout",
     "output_type": "stream",
     "text": [
      "Query index: 54\n",
      "Max relative error: 2640.0\n",
      "Absolute error: 2640\n",
      "Ratio of level 0 cubes: 0.9916764208609702\n",
      "Number of cubes: 7689\n"
     ]
    }
   ],
   "source": [
    "max_index = np.argmax(flat_relative_errors)\n",
    "print(f\"Query index: {max_index}\")\n",
    "print(f\"Max relative error: {np.max(flat_relative_errors)}\")\n",
    "print(f\"Absolute error: {flat_absolute_errors[max_index]}\")\n",
    "print(f\"Ratio of level 0 cubes: {ratio_n_level_0_cubes[max_index]}\")\n",
    "print(f\"Number of cubes: {flat_n_cubes[max_index]}\")\n"
   ]
  },
  {
   "cell_type": "markdown",
   "metadata": {},
   "source": [
    "# Bloom Filter Optimization"
   ]
  },
  {
   "cell_type": "code",
   "execution_count": 107,
   "metadata": {},
   "outputs": [],
   "source": [
    "n = len(df)  # Number of expected elements\n",
    "p = 0.01  # Desired false positive probability\n",
    "bloom = BloomFilter(n_values=n, p=p)\n",
    "\n",
    "for index, row in df.iterrows():\n",
    "    row = tuple(row)\n",
    "    bloom.update(row)"
   ]
  },
  {
   "cell_type": "code",
   "execution_count": 119,
   "metadata": {},
   "outputs": [
    {
     "name": "stdout",
     "output_type": "stream",
     "text": [
      "level compleated: 0\n",
      "level compleated: 1\n",
      "level compleated: 2\n",
      "level compleated: 3\n"
     ]
    }
   ],
   "source": [
    "base = 5\n",
    "dimensions = 3\n",
    "cm_sketches = cm_sketches_5\n",
    "\n",
    "estimates_b = []\n",
    "n_cubes_b = []\n",
    "absolute_errors_b = []\n",
    "relative_errors_b = []\n",
    "n_level_0_cubes_b = []\n",
    "\n",
    "for l in range(levels):\n",
    "    l_true_results = []\n",
    "    l_estimates = []\n",
    "    l_n_cubes = []\n",
    "    l_absolute_errors = []\n",
    "    l_relative_errors = []\n",
    "    l_n_level_0_cubes = []\n",
    "\n",
    "    for i in range(n_samples):\n",
    "        query = queries[l][i]\n",
    "\n",
    "        true_result = true_results[l][i]\n",
    "        bases = [base] * dimensions\n",
    "        cubes = minimal_spatial_b_adic_cover(query, bases)\n",
    "        estimate = 0\n",
    "        n_level_0 = 0\n",
    "        for cube in cubes:\n",
    "            if cube.level == 0:\n",
    "                n_level_0 += 1\n",
    "                tuple_value = tuple([r.index for r in cube.b_adic_ranges])\n",
    "                estimate += bloom.query(tuple_value)\n",
    "            else:\n",
    "                tuple_value = tuple([r.index for r in cube.b_adic_ranges])\n",
    "                estimate += cm_sketches[cube.level].query(tuple_value)\n",
    "\n",
    "        l_n_level_0_cubes.append(n_level_0)\n",
    "        l_true_results.append(true_result)\n",
    "        l_estimates.append(int(estimate))\n",
    "        l_n_cubes.append(len(cubes))\n",
    "        l_absolute_errors.append(int(abs(true_result - estimate)))\n",
    "        if true_result != 0:\n",
    "            l_relative_errors.append(abs(true_result - estimate) / true_result)\n",
    "        else:\n",
    "            l_relative_errors.append(abs(true_result - estimate))\n",
    "    \n",
    "    print(f\"level compleated: {l}\")\n",
    "    estimates_b.append(l_estimates)\n",
    "    n_cubes_b.append(l_n_cubes)\n",
    "    absolute_errors_b.append(l_absolute_errors)\n",
    "    relative_errors_b.append(l_relative_errors)\n",
    "    n_level_0_cubes_b.append(l_n_level_0_cubes)"
   ]
  },
  {
   "cell_type": "code",
   "execution_count": 150,
   "metadata": {},
   "outputs": [
    {
     "data": {
      "text/plain": [
       "[0, 0, 0, 0]"
      ]
     },
     "execution_count": 150,
     "metadata": {},
     "output_type": "execute_result"
    }
   ],
   "source": [
    "[0]*4"
   ]
  },
  {
   "cell_type": "code",
   "execution_count": 120,
   "metadata": {},
   "outputs": [
    {
     "name": "stdout",
     "output_type": "stream",
     "text": [
      "[[0, 0, 0, 0, 0, 0, 0, 0, 0, 0, 0, 0, 0, 0, 0, 0, 0, 0, 0, 0], [17, 11, 14, 7, 10, 12, 12, 14, 19, 11, 14, 17, 13, 9, 0, 0, 13, 13, 11, 0], [783, 785, 805, 806, 705, 809, 725, 788, 748, 742, 782, 813, 41, 772, 712, 14, 756, 836, 698, 809], [23649, 24405, 23512, 1668, 23314, 24286, 1575, 1820, 23414, 24050, 24017, 23354, 24397, 24215, 23877, 24071, 23189, 24341, 24656, 23722]]\n",
      "[[1, 1, 1, 1, 1, 1, 1, 1, 1, 1, 1, 1, 1, 1, 1, 1, 1, 1, 1, 1], [125, 125, 125, 125, 125, 125, 125, 125, 125, 125, 125, 125, 125, 125, 0, 0, 125, 125, 125, 0], [7625, 7625, 7625, 7625, 7625, 7625, 7625, 7625, 7625, 7625, 7625, 7625, 0, 7625, 7625, 0, 7625, 7625, 7625, 7625], [225125, 225125, 225125, 0, 225125, 225125, 0, 0, 225125, 225125, 225125, 225125, 225125, 225125, 225125, 225125, 225125, 225125, 225125, 225125]]\n"
     ]
    }
   ],
   "source": [
    "print(absolute_errors_b)\n",
    "print(n_level_0_cubes_b)"
   ]
  },
  {
   "cell_type": "code",
   "execution_count": 122,
   "metadata": {},
   "outputs": [
    {
     "name": "stderr",
     "output_type": "stream",
     "text": [
      "/tmp/ipykernel_888/2450666678.py:1: RuntimeWarning: divide by zero encountered in divide\n",
      "  np.array(absolute_errors_b)/np.array(n_level_0_cubes_b)\n",
      "/tmp/ipykernel_888/2450666678.py:1: RuntimeWarning: invalid value encountered in divide\n",
      "  np.array(absolute_errors_b)/np.array(n_level_0_cubes_b)\n"
     ]
    },
    {
     "data": {
      "text/plain": [
       "array([[0.        , 0.        , 0.        , 0.        , 0.        ,\n",
       "        0.        , 0.        , 0.        , 0.        , 0.        ,\n",
       "        0.        , 0.        , 0.        , 0.        , 0.        ,\n",
       "        0.        , 0.        , 0.        , 0.        , 0.        ],\n",
       "       [0.136     , 0.088     , 0.112     , 0.056     , 0.08      ,\n",
       "        0.096     , 0.096     , 0.112     , 0.152     , 0.088     ,\n",
       "        0.112     , 0.136     , 0.104     , 0.072     ,        nan,\n",
       "               nan, 0.104     , 0.104     , 0.088     ,        nan],\n",
       "       [0.10268852, 0.10295082, 0.10557377, 0.10570492, 0.09245902,\n",
       "        0.10609836, 0.09508197, 0.10334426, 0.09809836, 0.09731148,\n",
       "        0.10255738, 0.10662295,        inf, 0.1012459 , 0.09337705,\n",
       "               inf, 0.09914754, 0.10963934, 0.09154098, 0.10609836],\n",
       "       [0.10504831, 0.10840644, 0.10443976,        inf, 0.10356024,\n",
       "        0.10787785,        inf,        inf, 0.10400444, 0.10682954,\n",
       "        0.10668295, 0.10373792, 0.10837091, 0.10756247, 0.10606108,\n",
       "        0.10692282, 0.103005  , 0.10812215, 0.10952138, 0.10537257]])"
      ]
     },
     "execution_count": 122,
     "metadata": {},
     "output_type": "execute_result"
    }
   ],
   "source": [
    "np.array(absolute_errors_b)/np.array(n_level_0_cubes_b)"
   ]
  },
  {
   "cell_type": "code",
   "execution_count": 123,
   "metadata": {},
   "outputs": [
    {
     "data": {
      "image/png": "[encoded data removed]",
      "text/plain": [
       "<Figure size 432x288 with 1 Axes>"
      ]
     },
     "metadata": {
      "needs_background": "light"
     },
     "output_type": "display_data"
    },
    {
     "name": "stdout",
     "output_type": "stream",
     "text": [
      "Pearson correlation coefficient: 0.9992289173883164\n",
      "P-value: 1.929307277200963e-111\n"
     ]
    }
   ],
   "source": [
    "flat_absolute_errors_b = np.array(absolute_errors_b).flatten()\n",
    "flat_n_level_0_cubes_b = np.array(n_level_0_cubes_b).flatten()\n",
    "\n",
    "# Plot the correlation plot\n",
    "sns.scatterplot(x=flat_absolute_errors_b, y=flat_n_level_0_cubes_b)\n",
    "plt.xlabel('Absolute Errors')\n",
    "plt.ylabel('Number of Level 0 Cubes')\n",
    "plt.title('Correlation Plot between Absolute Errors and Number of Level 0 Cubes')\n",
    "plt.show()\n",
    "\n",
    "# Calculate the Pearson correlation coefficient\n",
    "correlation_coefficient, p_value = pearsonr(flat_absolute_errors_b, flat_n_level_0_cubes_b)\n",
    "print(f'Pearson correlation coefficient: {correlation_coefficient}')\n",
    "print(f'P-value: {p_value}')"
   ]
  },
  {
   "cell_type": "code",
   "execution_count": 146,
   "metadata": {},
   "outputs": [
    {
     "data": {
      "image/png": "[encoded data removed]",
      "text/plain": [
       "<Figure size 432x288 with 1 Axes>"
      ]
     },
     "metadata": {
      "needs_background": "light"
     },
     "output_type": "display_data"
    }
   ],
   "source": [
    "\n",
    "flat_relative_errors_b = np.array(relative_errors_b).flatten()\n",
    "flat_relative_errors = np.array(relative_errors).flatten()\n",
    "\n",
    "# flat_relative_errors_b = flat_relative_errors_b[flat_relative_errors_b < 1]\n",
    "# flat_relative_errors = flat_relative_errors[flat_relative_errors < 1]\n",
    "\n",
    "# Align the bars' boundaries of both histograms\n",
    "bins = np.linspace(0, max(flat_relative_errors.max(), flat_relative_errors_b.max()), 50)\n",
    "\n",
    "# Compute the bin centers\n",
    "bin_width = bins[1] - bins[0]\n",
    "bin_centers = bins[:-1] + bin_width / 2\n",
    "\n",
    "# Calculate the histogram data\n",
    "hist_a, _ = np.histogram(flat_relative_errors, bins=bins)\n",
    "hist_b, _ = np.histogram(flat_relative_errors_b, bins=bins)\n",
    "\n",
    "# Plot the histograms side by side\n",
    "plt.bar(bin_centers - bin_width / 4, hist_a, width=bin_width / 2, edgecolor='black', alpha=0.5, label='Without Bloom Filter')\n",
    "plt.bar(bin_centers + bin_width / 4, hist_b, width=bin_width / 2, edgecolor='black', alpha=0.5, label='With Bloom Filter')\n",
    "\n",
    "plt.xlabel('Relative Errors')\n",
    "plt.ylabel('Frequency')\n",
    "plt.title('Histogram of Relative Errors')\n",
    "plt.legend()\n",
    "plt.show()\n"
   ]
  },
  {
   "cell_type": "code",
   "execution_count": 140,
   "metadata": {},
   "outputs": [
    {
     "data": {
      "image/png": "[encoded data removed]",
      "text/plain": [
       "<Figure size 432x288 with 1 Axes>"
      ]
     },
     "metadata": {
      "needs_background": "light"
     },
     "output_type": "display_data"
    },
    {
     "name": "stdout",
     "output_type": "stream",
     "text": [
      "Pearson correlation coefficient: 0.9992289173883164\n",
      "P-value: 1.929307277200963e-111\n"
     ]
    }
   ],
   "source": [
    "flat_n_cubes_b = np.array(n_cubes_b).flatten()\n",
    "ratio_n_level_0_cubes_b = flat_n_level_0_cubes_b / flat_n_cubes_b\n",
    "\n",
    "# Plot the correlation plot\n",
    "sns.scatterplot(x=ratio_n_level_0_cubes_b, y=flat_relative_errors_b)\n",
    "plt.xlabel('Ratio of Level 0 Cubes')\n",
    "plt.ylabel('Relative Errors')\n",
    "plt.title('Correlation Plot between Ratio of Level 0 Cubes and Relative Errors')\n",
    "plt.show()\n",
    "\n",
    "correlation_coefficient, p_value = pearsonr(flat_absolute_errors_b, flat_n_level_0_cubes_b)\n",
    "print(f'Pearson correlation coefficient: {correlation_coefficient}')\n",
    "print(f'P-value: {p_value}')"
   ]
  },
  {
   "cell_type": "code",
   "execution_count": 142,
   "metadata": {},
   "outputs": [
    {
     "name": "stdout",
     "output_type": "stream",
     "text": [
      "Query index: 54\n",
      "Max relative error: 712.0\n",
      "Absolute error: 712\n",
      "Ratio of level 0 cubes: 0.9916764208609702\n",
      "Number of cubes: 7689\n"
     ]
    }
   ],
   "source": [
    "max_index = np.argmax(flat_relative_errors_b)\n",
    "print(f\"Query index: {max_index}\")\n",
    "print(f\"Max relative error: {np.max(flat_relative_errors_b)}\")\n",
    "print(f\"Absolute error: {flat_absolute_errors_b[max_index]}\")\n",
    "print(f\"Ratio of level 0 cubes: {ratio_n_level_0_cubes_b[max_index]}\")\n",
    "print(f\"Number of cubes: {flat_n_cubes_b[max_index]}\")\n"
   ]
  },
  {
   "cell_type": "code",
   "execution_count": 54,
   "metadata": {},
   "outputs": [
    {
     "name": "stdout",
     "output_type": "stream",
     "text": [
      "84653\n",
      "84653\n",
      "84653\n",
      "84653\n",
      "84651\n"
     ]
    }
   ],
   "source": [
    "for l in range(cm_sketches[0].depth):\n",
    "    count = 0 \n",
    "    for i in range(cm_sketches[0].width):\n",
    "        if cm_sketches[0].counters[l][i] != 0:\n",
    "            count += 1\n",
    "    print(count) "
   ]
  },
  {
   "cell_type": "code",
   "execution_count": 55,
   "metadata": {},
   "outputs": [
    {
     "data": {
      "text/plain": [
       "300000"
      ]
     },
     "execution_count": 55,
     "metadata": {},
     "output_type": "execute_result"
    }
   ],
   "source": [
    "cm_sketches[0].width"
   ]
  },
  {
   "cell_type": "code",
   "execution_count": 50,
   "metadata": {},
   "outputs": [
    {
     "name": "stdout",
     "output_type": "stream",
     "text": [
      "Count-Min Sketch\n",
      "depth = 5 width = 300000 ; processed elements = 100000\n",
      "[[2 0 0 ... 1 0 1]\n",
      " [1 0 0 ... 1 0 0]\n",
      " [1 0 0 ... 0 0 2]\n",
      " [1 0 0 ... 0 1 0]\n",
      " [1 2 0 ... 0 0 0]]\n"
     ]
    }
   ],
   "source": [
    "print(cm_sketches[0].to_string())"
   ]
  }
 ],
 "metadata": {
  "kernelspec": {
   "display_name": "Python 3",
   "language": "python",
   "name": "python3"
  },
  "language_info": {
   "codemirror_mode": {
    "name": "ipython",
    "version": 3
   },
   "file_extension": ".py",
   "mimetype": "text/x-python",
   "name": "python",
   "nbconvert_exporter": "python",
   "pygments_lexer": "ipython3",
   "version": "3.12.3"
  }
 },
 "nbformat": 4,
 "nbformat_minor": 2
}
