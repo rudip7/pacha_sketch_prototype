{
 "cells": [
  {
   "cell_type": "code",
   "execution_count": 1,
   "id": "3b7ebc45",
   "metadata": {},
   "outputs": [],
   "source": [
    "import sys\n",
    "# append the path of the parent directory\n",
    "sys.path.append(\"..\")"
   ]
  },
  {
   "cell_type": "code",
   "execution_count": 64,
   "id": "ae3916e0",
   "metadata": {},
   "outputs": [],
   "source": [
    "import math\n",
    "import os\n",
    "import time\n",
    "\n",
    "\n",
    "import numpy as np\n",
    "import matplotlib.pyplot as plt\n",
    "from matplotlib.patches import Rectangle\n",
    "import matplotlib.patches as patches\n",
    "\n",
    "import seaborn as sns\n",
    "import time\n",
    "import json\n",
    "import pandas as pd\n",
    "from ctypes import c_int32\n",
    "from itertools import product\n",
    "\n",
    "from scipy.stats import pearsonr\n",
    "from importlib import reload\n",
    "\n",
    "from lib import baselines\n",
    "reload(baselines)\n",
    "\n",
    "from lib.baselines import CentralDPServer, LDPServer, LDPEncoderGRR, query_df, infer_domains_and_ranges\n",
    "\n",
    "\n",
    "# set_style()"
   ]
  },
  {
   "cell_type": "code",
   "execution_count": 23,
   "id": "5678bcec",
   "metadata": {},
   "outputs": [
    {
     "name": "stdout",
     "output_type": "stream",
     "text": [
      "Noisy Count: 121542\n",
      "Remaining Budget: 9.0\n"
     ]
    }
   ],
   "source": [
    "# Central Differential Privacy (CDP) example:\n",
    "df = pd.read_parquet(\"data/clean/online_retail.parquet\")\n",
    "server = CentralDPServer(df, epsilon=10.0)\n",
    "query = ['*', {'United Kingdom'}, '*', (140, 217), '*', '*']\n",
    "result = server.query(query, per_query_epsilon=1.0)\n",
    "print(\"Noisy Count:\", result)\n",
    "print(\"Remaining Budget:\", server.get_remaining_budget())"
   ]
  },
  {
   "cell_type": "code",
   "execution_count": 25,
   "id": "9077c92a",
   "metadata": {},
   "outputs": [
    {
     "name": "stdout",
     "output_type": "stream",
     "text": [
      "Federated LDP Noisy Count: 121530\n",
      "Remaining Budgets: [9.8, 9.8, 9.8, 9.8]\n"
     ]
    }
   ],
   "source": [
    "# Federated Local Differential Privacy (LDP) example:\n",
    "df = pd.read_parquet(\"data/clean/online_retail.parquet\")\n",
    "server = LDPServer(df, epsilon=10.0, number_of_partitions=4)\n",
    "query = ['*', ['United Kingdom'], '*', (140, 217), '*', '*']\n",
    "result = server.query(query, per_query_epsilon=0.2)\n",
    "print(\"Federated LDP Noisy Count:\", result)\n",
    "print(\"Remaining Budgets:\", server.get_remaining_budgets())"
   ]
  },
  {
   "cell_type": "code",
   "execution_count": 49,
   "id": "d8b5ffe6",
   "metadata": {},
   "outputs": [
    {
     "name": "stderr",
     "output_type": "stream",
     "text": [
      "Privatizing rows: 100%|██████████| 541909/541909 [00:48<00:00, 11133.96it/s]\n"
     ]
    },
    {
     "name": "stdout",
     "output_type": "stream",
     "text": [
      "Noisy Count: 334\n"
     ]
    }
   ],
   "source": [
    "# LDP Encoder with GRR example:\n",
    "df = pd.read_parquet(\"data/clean/online_retail.parquet\")\n",
    "categorical_domains, numerical_ranges = infer_domains_and_ranges(df)\n",
    "\n",
    "encoder = LDPEncoderGRR(df=df, epsilon=1.0, categorical_domains=categorical_domains, numerical_ranges=numerical_ranges)\n",
    "query = ['*', ['United Kingdom'], '*', (140, 217), '*', '*']\n",
    "result = encoder.query(query)\n",
    "print(\"Noisy Count:\", result)"
   ]
  },
  {
   "cell_type": "code",
   "execution_count": 55,
   "id": "d791c8f8",
   "metadata": {},
   "outputs": [],
   "source": [
    "encoder.save_to_file(file_path=\"baselines/ldp_encoder_grr.json\", data_path=\"baselines/ldp_encoder_grr_data.parquet\")"
   ]
  },
  {
   "cell_type": "code",
   "execution_count": 65,
   "id": "70492939",
   "metadata": {},
   "outputs": [],
   "source": [
    "encoder2 = LDPEncoderGRR.load_from_file(file_path=\"baselines/ldp_encoder_grr.json\")"
   ]
  }
 ],
 "metadata": {
  "kernelspec": {
   "display_name": "Python 3",
   "language": "python",
   "name": "python3"
  },
  "language_info": {
   "codemirror_mode": {
    "name": "ipython",
    "version": 3
   },
   "file_extension": ".py",
   "mimetype": "text/x-python",
   "name": "python",
   "nbconvert_exporter": "python",
   "pygments_lexer": "ipython3",
   "version": "3.12.3"
  }
 },
 "nbformat": 4,
 "nbformat_minor": 5
}
