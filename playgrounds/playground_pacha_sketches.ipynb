{
 "cells": [
  {
   "cell_type": "code",
   "execution_count": 15,
   "metadata": {},
   "outputs": [],
   "source": [
    "import sys\n",
    "# append the path of the parent directory\n",
    "sys.path.append(\"..\")"
   ]
  },
  {
   "cell_type": "code",
   "execution_count": 42,
   "metadata": {},
   "outputs": [],
   "source": [
    "import math\n",
    "import os\n",
    "import time\n",
    "\n",
    "\n",
    "import numpy as np\n",
    "import matplotlib.pyplot as plt\n",
    "from matplotlib.patches import Rectangle\n",
    "import matplotlib.patches as patches\n",
    "\n",
    "import seaborn as sns\n",
    "import time\n",
    "import json\n",
    "import pandas as pd\n",
    "from ctypes import c_int32\n",
    "from itertools import product\n",
    "\n",
    "from scipy.stats import pearsonr\n",
    "from importlib import reload\n",
    "\n",
    "from lib import sketches, visualization_utils, encoders, ploting, pacha_sketch_new\n",
    "reload(ploting)\n",
    "reload(sketches)\n",
    "reload(visualization_utils)\n",
    "reload(encoders)\n",
    "\n",
    "reload(pacha_sketch_new)\n",
    "\n",
    "from lib.sketches import BloomFilter, CountMinSketch, H3HashFunctions, HashFunctionFamily\n",
    "from lib.visualization_utils import visualize_badic_cover, plot_b_adic_cubes\n",
    "from lib.encoders import minimal_b_adic_cover, minimal_spatial_b_adic_cover, BAdicCube, BAdicRange\n",
    "from lib.pacha_sketch_new import PachaSketch, ADTree, BFParameters, CMParameters, build_pacha_sketch_uniform_size, \\\n",
    "    build_pacha_sketch_from_json_file\n",
    "\n",
    "from lib.ploting import set_style, plot_ylabel, plot_legend\n",
    "\n",
    "# set_style()"
   ]
  },
  {
   "cell_type": "markdown",
   "metadata": {},
   "source": [
    "# Playground Export and Import Pacha Sketch"
   ]
  },
  {
   "cell_type": "code",
   "execution_count": 43,
   "metadata": {},
   "outputs": [],
   "source": [
    "ad_tree = ADTree()\n",
    "ad_tree.add_dimension({\"m\",\"f\",\"d\"})\n",
    "ad_tree.add_dimension({\"Baden-Württemberg\", \"Bavaria\", \"Berlin\", \"Brandenburg\", \"Bremen\", \n",
    "        \"Hamburg\", \"Hesse\", \"Lower Saxony\", \"Mecklenburg-Vorpommern\", \n",
    "        \"North Rhine-Westphalia\", \"Rhineland-Palatinate\", \"Saarland\", \n",
    "        \"Saxony\", \"Saxony-Anhalt\", \"Schleswig-Holstein\", \"Thuringia\"\n",
    "    })\n",
    "ad_tree.add_dimension({chr(i) for i in range(97, 123)})"
   ]
  },
  {
   "cell_type": "code",
   "execution_count": 5,
   "metadata": {},
   "outputs": [],
   "source": [
    "input_data = pd.read_parquet(\"data/clean/paper_example_200k.parquet\")"
   ]
  },
  {
   "cell_type": "code",
   "execution_count": 6,
   "metadata": {},
   "outputs": [],
   "source": [
    "pacha_sketch = build_pacha_sketch_uniform_size(\n",
    "    levels=5,\n",
    "    num_dimensions=6,\n",
    "    cat_col_map=[1,0,2],\n",
    "    num_col_map=[3,4,5],\n",
    "    bases=[2,2,2],\n",
    "    ad_tree=ad_tree,\n",
    "    cm_params=CMParameters(delta=0.01, eps=0.00005),\n",
    "    bf_params=BFParameters(p=0.0001, n_values=200000),\n",
    "    cat_index_parameters=BFParameters(p=0.0001, n_values=4*200000),\n",
    "    num_index_parameters=BFParameters(p=0.0001, n_values=10*200000),\n",
    "    n_sparse_levels=2)"
   ]
  },
  {
   "cell_type": "code",
   "execution_count": 53,
   "metadata": {},
   "outputs": [],
   "source": [
    "pacha_sketch = build_pacha_sketch_uniform_size(\n",
    "    levels=5,\n",
    "    num_dimensions=6,\n",
    "    cat_col_map=[1,0,2],\n",
    "    num_col_map=[3,4,5],\n",
    "    bases=[2,2,2],\n",
    "    ad_tree=ad_tree,\n",
    "    cm_params=CMParameters(width=10,depth=3),\n",
    "    bf_params=BFParameters(size=10, hash_count=3),\n",
    "    cat_index_parameters=BFParameters(size=10, hash_count=3),\n",
    "    num_index_parameters=BFParameters(size=10, hash_count=3),\n",
    "    n_sparse_levels=1)"
   ]
  },
  {
   "cell_type": "code",
   "execution_count": 11,
   "metadata": {},
   "outputs": [
    {
     "name": "stdout",
     "output_type": "stream",
     "text": [
      "0.01668548583984375 MB\n"
     ]
    }
   ],
   "source": [
    "from pympler import asizeof\n",
    "print(asizeof.asizeof(pacha_sketch)/1024/1024, \"MB\")"
   ]
  },
  {
   "cell_type": "code",
   "execution_count": 55,
   "metadata": {},
   "outputs": [
    {
     "name": "stderr",
     "output_type": "stream",
     "text": [
      "Updating: 100%|██████████| 1/1 [00:00<00:00, 3615.78it/s]\n"
     ]
    },
    {
     "data": {
      "text/plain": [
       "<lib.pacha_sketch_new.PachaSketch at 0x75450114c350>"
      ]
     },
     "execution_count": 55,
     "metadata": {},
     "output_type": "execute_result"
    }
   ],
   "source": [
    "pacha_sketch.update_data_frame(input_data.head(1), workers=os.cpu_count())"
   ]
  },
  {
   "cell_type": "code",
   "execution_count": 25,
   "metadata": {},
   "outputs": [],
   "source": [
    "pacha_sketch.save_to_file(\"sketches/paper_example_200k.json.gz\")"
   ]
  },
  {
   "cell_type": "code",
   "execution_count": 78,
   "metadata": {},
   "outputs": [],
   "source": [
    "pacha_sketch2 = build_pacha_sketch_from_json_file(\"sketches/paper_example_200k.json.gz\")"
   ]
  },
  {
   "cell_type": "code",
   "execution_count": 69,
   "metadata": {},
   "outputs": [
    {
     "data": {
      "text/plain": [
       "True"
      ]
     },
     "execution_count": 69,
     "metadata": {},
     "output_type": "execute_result"
    }
   ],
   "source": [
    "pacha_sketch == pacha_sketch2"
   ]
  },
  {
   "cell_type": "code",
   "execution_count": 79,
   "metadata": {},
   "outputs": [
    {
     "name": "stdout",
     "output_type": "stream",
     "text": [
      "Categorical regions: 1\n",
      "Indexed categorical regions: 1\n",
      "Numerical regions: 13727\n",
      "Indexed numerical regions: 231\n",
      "Query regions: 231\n",
      "Level 0 queries: 137\n",
      "Level 1 queries: 83\n",
      "Level 3 queries: 11\n"
     ]
    },
    {
     "data": {
      "text/plain": [
       "np.int64(6701)"
      ]
     },
     "execution_count": 79,
     "metadata": {},
     "output_type": "execute_result"
    }
   ],
   "source": [
    "pacha_sketch2.query([\"*\", {\"m\"}, \"*\", \"*\", (0, 100), (30, 40)], debug=True)"
   ]
  },
  {
   "cell_type": "code",
   "execution_count": 54,
   "metadata": {},
   "outputs": [
    {
     "name": "stdout",
     "output_type": "stream",
     "text": [
      "Count: 3263\n"
     ]
    }
   ],
   "source": [
    "filtered_data = input_data[\n",
    "    (input_data['gender'] == 'm') & \n",
    "    (input_data['total'] >= 0) & (input_data['total'] <= 100) & \n",
    "    (input_data['age'] >= 30) & (input_data['age'] <= 40)\n",
    "]\n",
    "\n",
    "count = len(filtered_data)\n",
    "print(\"Count:\", count)"
   ]
  },
  {
   "cell_type": "code",
   "execution_count": 11,
   "metadata": {},
   "outputs": [
    {
     "data": {
      "text/plain": [
       "array([False, False, False, False, False, False, False, False, False,\n",
       "       False])"
      ]
     },
     "execution_count": 11,
     "metadata": {},
     "output_type": "execute_result"
    }
   ],
   "source": [
    "bit_array = np.zeros(10, dtype=bool)\n",
    "bit_array"
   ]
  },
  {
   "cell_type": "code",
   "execution_count": 36,
   "metadata": {},
   "outputs": [],
   "source": [
    "bf = BloomFilter(hash_count=3, size=10, diff_privacy=10)"
   ]
  },
  {
   "cell_type": "code",
   "execution_count": 37,
   "metadata": {},
   "outputs": [
    {
     "data": {
      "text/plain": [
       "array([False, False, False, False, False, False, False, False, False,\n",
       "       False])"
      ]
     },
     "execution_count": 37,
     "metadata": {},
     "output_type": "execute_result"
    }
   ],
   "source": [
    "bf.bit_array"
   ]
  },
  {
   "cell_type": "code",
   "execution_count": 5,
   "metadata": {},
   "outputs": [
    {
     "name": "stdout",
     "output_type": "stream",
     "text": [
      "[[ 6.63159991 -0.26027534  0.16683124  0.08972531  0.42984374 -0.10229674\n",
      "  -0.09912537 -0.24049725  1.0326134  -1.06121831]\n",
      " [-0.50781722  1.40199097  0.65729241  0.45201784  0.61299207 -0.58389718\n",
      "  -0.08472607  0.12234823 -1.43033034 -0.3300511 ]\n",
      " [-0.56999084  2.49500294 -0.12330253 -0.40619295  0.32434932  1.1885241\n",
      "  -1.50645273  0.8759689   1.26800276 -0.48504461]]\n"
     ]
    }
   ],
   "source": [
    "diff_privacy = 1.0  # Set your desired differential privacy parameter here\n",
    "\n",
    "noise = np.random.laplace(loc=0.0, scale=1/diff_privacy, size=counters.shape)\n",
    "counters_noisy = counters + noise\n",
    "print(counters_noisy)"
   ]
  },
  {
   "cell_type": "code",
   "execution_count": 10,
   "metadata": {},
   "outputs": [
    {
     "name": "stdout",
     "output_type": "stream",
     "text": [
      "[[ 7  0  0  0  0  0  0  0  1 -1]\n",
      " [-1  1  1  0  1 -1  0  0 -1  0]\n",
      " [-1  2  0  0  0  1 -2  1  1  0]]\n"
     ]
    }
   ],
   "source": [
    "counters_noisy_rounded = np.round(noise).astype(int)\n",
    "print(counters_noisy_rounded)"
   ]
  },
  {
   "cell_type": "code",
   "execution_count": 7,
   "metadata": {},
   "outputs": [
    {
     "data": {
      "image/png": "[encoded data removed]",
      "text/plain": [
       "<Figure size 432x288 with 1 Axes>"
      ]
     },
     "metadata": {
      "needs_background": "light"
     },
     "output_type": "display_data"
    }
   ],
   "source": [
    "x = np.linspace(-10, 10, 500)  # Generate 500 points between -10 and 10\n",
    "y = np.exp(x/2) / (np.exp(x/2) + 1)  # Compute the function\n",
    "\n",
    "plt.plot(x, y, label=r\"$\\frac{e^x}{e^x + 1}$\")\n",
    "plt.xlabel(\"x\")\n",
    "plt.ylabel(\"y\")\n",
    "plt.title(\"Plot of $\\\\frac{e^x}{e^x + 1}$\")\n",
    "plt.axhline(0, color='black', linewidth=0.5, linestyle='--')\n",
    "plt.axvline(0, color='black', linewidth=0.5, linestyle='--')\n",
    "plt.legend()\n",
    "plt.grid()\n",
    "plt.show()"
   ]
  },
  {
   "cell_type": "code",
   "execution_count": 6,
   "metadata": {},
   "outputs": [
    {
     "data": {
      "text/plain": [
       "np.float64(4.5397868702434395e-05)"
      ]
     },
     "execution_count": 6,
     "metadata": {},
     "output_type": "execute_result"
    }
   ],
   "source": [
    "1 / (np.exp(10) + 1) "
   ]
  },
  {
   "cell_type": "code",
   "execution_count": 4,
   "metadata": {},
   "outputs": [
    {
     "data": {
      "image/png": "[encoded data removed]",
      "text/plain": [
       "<Figure size 432x288 with 1 Axes>"
      ]
     },
     "metadata": {
      "needs_background": "light"
     },
     "output_type": "display_data"
    }
   ],
   "source": [
    "x = np.linspace(-10, 10, 500)  # Generate 500 points between -10 and 10\n",
    "y = 1 / (np.exp(x) + 1)  # Compute the function\n",
    "\n",
    "plt.plot(x, y, label=r\"$\\frac{1}{e^x + 1}$\")\n",
    "plt.xlabel(\"x\")\n",
    "plt.ylabel(\"y\")\n",
    "plt.title(\"Plot of $\\\\frac{e^x}{e^x + 1}$\")\n",
    "plt.axhline(0, color='black', linewidth=0.5, linestyle='--')\n",
    "plt.axvline(0, color='black', linewidth=0.5, linestyle='--')\n",
    "plt.legend()\n",
    "plt.grid()\n",
    "plt.show()"
   ]
  }
 ],
 "metadata": {
  "kernelspec": {
   "display_name": "Python 3",
   "language": "python",
   "name": "python3"
  },
  "language_info": {
   "codemirror_mode": {
    "name": "ipython",
    "version": 3
   },
   "file_extension": ".py",
   "mimetype": "text/x-python",
   "name": "python",
   "nbconvert_exporter": "python",
   "pygments_lexer": "ipython3",
   "version": "3.12.3"
  }
 },
 "nbformat": 4,
 "nbformat_minor": 2
}
