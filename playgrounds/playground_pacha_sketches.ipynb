{
 "cells": [
  {
   "cell_type": "code",
   "execution_count": 1,
   "metadata": {},
   "outputs": [],
   "source": [
    "import sys\n",
    "# append the path of the parent directory\n",
    "sys.path.append(\"..\")"
   ]
  },
  {
   "cell_type": "code",
   "execution_count": 23,
   "metadata": {},
   "outputs": [],
   "source": [
    "import math\n",
    "import os\n",
    "import time\n",
    "\n",
    "\n",
    "import numpy as np\n",
    "import matplotlib.pyplot as plt\n",
    "from matplotlib.patches import Rectangle\n",
    "import matplotlib.patches as patches\n",
    "\n",
    "import seaborn as sns\n",
    "import time\n",
    "import json\n",
    "import pandas as pd\n",
    "from ctypes import c_int32\n",
    "from itertools import product\n",
    "\n",
    "from scipy.stats import pearsonr\n",
    "from importlib import reload\n",
    "\n",
    "from lib import sketches, visualization_utils, encoders, ploting, pacha_sketch_new\n",
    "reload(ploting)\n",
    "reload(sketches)\n",
    "reload(visualization_utils)\n",
    "reload(encoders)\n",
    "\n",
    "reload(pacha_sketch_new)\n",
    "\n",
    "from lib.sketches import BloomFilter, CountMinSketch, H3HashFunctions, HashFunctionFamily, CountMinSketchHadamard, CountMinSketchLocalHashing\n",
    "from lib.visualization_utils import visualize_badic_cover, plot_b_adic_cubes\n",
    "from lib.encoders import minimal_b_adic_cover, minimal_spatial_b_adic_cover, BAdicCube, BAdicRange\n",
    "from lib.pacha_sketch_new import PachaSketch, ADTree, BFParameters, CMParameters, build_pacha_sketch_uniform_size, \\\n",
    "    build_pacha_sketch_from_json_file\n",
    "\n",
    "from lib.ploting import set_style, plot_ylabel, plot_legend\n",
    "\n",
    "# set_style()"
   ]
  },
  {
   "cell_type": "markdown",
   "metadata": {},
   "source": [
    "# Playground Export and Import Pacha Sketch"
   ]
  },
  {
   "cell_type": "code",
   "execution_count": 43,
   "metadata": {},
   "outputs": [],
   "source": [
    "ad_tree = ADTree()\n",
    "ad_tree.add_dimension({\"m\",\"f\",\"d\"})\n",
    "ad_tree.add_dimension({\"Baden-Württemberg\", \"Bavaria\", \"Berlin\", \"Brandenburg\", \"Bremen\", \n",
    "        \"Hamburg\", \"Hesse\", \"Lower Saxony\", \"Mecklenburg-Vorpommern\", \n",
    "        \"North Rhine-Westphalia\", \"Rhineland-Palatinate\", \"Saarland\", \n",
    "        \"Saxony\", \"Saxony-Anhalt\", \"Schleswig-Holstein\", \"Thuringia\"\n",
    "    })\n",
    "ad_tree.add_dimension({chr(i) for i in range(97, 123)})"
   ]
  },
  {
   "cell_type": "code",
   "execution_count": 5,
   "metadata": {},
   "outputs": [],
   "source": [
    "input_data = pd.read_parquet(\"data/clean/paper_example_200k.parquet\")"
   ]
  },
  {
   "cell_type": "code",
   "execution_count": 6,
   "metadata": {},
   "outputs": [],
   "source": [
    "pacha_sketch = build_pacha_sketch_uniform_size(\n",
    "    levels=5,\n",
    "    num_dimensions=6,\n",
    "    cat_col_map=[1,0,2],\n",
    "    num_col_map=[3,4,5],\n",
    "    bases=[2,2,2],\n",
    "    ad_tree=ad_tree,\n",
    "    cm_params=CMParameters(delta=0.01, eps=0.00005),\n",
    "    bf_params=BFParameters(p=0.0001, n_values=200000),\n",
    "    cat_index_parameters=BFParameters(p=0.0001, n_values=4*200000),\n",
    "    num_index_parameters=BFParameters(p=0.0001, n_values=10*200000),\n",
    "    n_sparse_levels=2)"
   ]
  },
  {
   "cell_type": "code",
   "execution_count": 53,
   "metadata": {},
   "outputs": [],
   "source": [
    "pacha_sketch = build_pacha_sketch_uniform_size(\n",
    "    levels=5,\n",
    "    num_dimensions=6,\n",
    "    cat_col_map=[1,0,2],\n",
    "    num_col_map=[3,4,5],\n",
    "    bases=[2,2,2],\n",
    "    ad_tree=ad_tree,\n",
    "    cm_params=CMParameters(width=10,depth=3),\n",
    "    bf_params=BFParameters(size=10, hash_count=3),\n",
    "    cat_index_parameters=BFParameters(size=10, hash_count=3),\n",
    "    num_index_parameters=BFParameters(size=10, hash_count=3),\n",
    "    n_sparse_levels=1)"
   ]
  },
  {
   "cell_type": "code",
   "execution_count": 11,
   "metadata": {},
   "outputs": [
    {
     "name": "stdout",
     "output_type": "stream",
     "text": [
      "0.01668548583984375 MB\n"
     ]
    }
   ],
   "source": [
    "from pympler import asizeof\n",
    "print(asizeof.asizeof(pacha_sketch)/1024/1024, \"MB\")"
   ]
  },
  {
   "cell_type": "code",
   "execution_count": 55,
   "metadata": {},
   "outputs": [
    {
     "name": "stderr",
     "output_type": "stream",
     "text": [
      "Updating: 100%|██████████| 1/1 [00:00<00:00, 3615.78it/s]\n"
     ]
    },
    {
     "data": {
      "text/plain": [
       "<lib.pacha_sketch_new.PachaSketch at 0x75450114c350>"
      ]
     },
     "execution_count": 55,
     "metadata": {},
     "output_type": "execute_result"
    }
   ],
   "source": [
    "pacha_sketch.update_data_frame(input_data.head(1), workers=os.cpu_count())"
   ]
  },
  {
   "cell_type": "code",
   "execution_count": 25,
   "metadata": {},
   "outputs": [],
   "source": [
    "pacha_sketch.save_to_file(\"sketches/paper_example_200k.json.gz\")"
   ]
  },
  {
   "cell_type": "code",
   "execution_count": 78,
   "metadata": {},
   "outputs": [],
   "source": [
    "pacha_sketch2 = build_pacha_sketch_from_json_file(\"sketches/paper_example_200k.json.gz\")"
   ]
  },
  {
   "cell_type": "code",
   "execution_count": 69,
   "metadata": {},
   "outputs": [
    {
     "data": {
      "text/plain": [
       "True"
      ]
     },
     "execution_count": 69,
     "metadata": {},
     "output_type": "execute_result"
    }
   ],
   "source": [
    "pacha_sketch == pacha_sketch2"
   ]
  },
  {
   "cell_type": "code",
   "execution_count": 79,
   "metadata": {},
   "outputs": [
    {
     "name": "stdout",
     "output_type": "stream",
     "text": [
      "Categorical regions: 1\n",
      "Indexed categorical regions: 1\n",
      "Numerical regions: 13727\n",
      "Indexed numerical regions: 231\n",
      "Query regions: 231\n",
      "Level 0 queries: 137\n",
      "Level 1 queries: 83\n",
      "Level 3 queries: 11\n"
     ]
    },
    {
     "data": {
      "text/plain": [
       "np.int64(6701)"
      ]
     },
     "execution_count": 79,
     "metadata": {},
     "output_type": "execute_result"
    }
   ],
   "source": [
    "pacha_sketch2.query([\"*\", {\"m\"}, \"*\", \"*\", (0, 100), (30, 40)], debug=True)"
   ]
  },
  {
   "cell_type": "code",
   "execution_count": 54,
   "metadata": {},
   "outputs": [
    {
     "name": "stdout",
     "output_type": "stream",
     "text": [
      "Count: 3263\n"
     ]
    }
   ],
   "source": [
    "filtered_data = input_data[\n",
    "    (input_data['gender'] == 'm') & \n",
    "    (input_data['total'] >= 0) & (input_data['total'] <= 100) & \n",
    "    (input_data['age'] >= 30) & (input_data['age'] <= 40)\n",
    "]\n",
    "\n",
    "count = len(filtered_data)\n",
    "print(\"Count:\", count)"
   ]
  },
  {
   "cell_type": "code",
   "execution_count": 11,
   "metadata": {},
   "outputs": [
    {
     "data": {
      "text/plain": [
       "array([False, False, False, False, False, False, False, False, False,\n",
       "       False])"
      ]
     },
     "execution_count": 11,
     "metadata": {},
     "output_type": "execute_result"
    }
   ],
   "source": [
    "bit_array = np.zeros(10, dtype=bool)\n",
    "bit_array"
   ]
  },
  {
   "cell_type": "code",
   "execution_count": 36,
   "metadata": {},
   "outputs": [],
   "source": [
    "bf = BloomFilter(hash_count=3, size=10, diff_privacy=10)"
   ]
  },
  {
   "cell_type": "code",
   "execution_count": 37,
   "metadata": {},
   "outputs": [
    {
     "data": {
      "text/plain": [
       "array([False, False, False, False, False, False, False, False, False,\n",
       "       False])"
      ]
     },
     "execution_count": 37,
     "metadata": {},
     "output_type": "execute_result"
    }
   ],
   "source": [
    "bf.bit_array"
   ]
  },
  {
   "cell_type": "code",
   "execution_count": 5,
   "metadata": {},
   "outputs": [
    {
     "name": "stdout",
     "output_type": "stream",
     "text": [
      "[[ 6.63159991 -0.26027534  0.16683124  0.08972531  0.42984374 -0.10229674\n",
      "  -0.09912537 -0.24049725  1.0326134  -1.06121831]\n",
      " [-0.50781722  1.40199097  0.65729241  0.45201784  0.61299207 -0.58389718\n",
      "  -0.08472607  0.12234823 -1.43033034 -0.3300511 ]\n",
      " [-0.56999084  2.49500294 -0.12330253 -0.40619295  0.32434932  1.1885241\n",
      "  -1.50645273  0.8759689   1.26800276 -0.48504461]]\n"
     ]
    }
   ],
   "source": [
    "diff_privacy = 1.0  # Set your desired differential privacy parameter here\n",
    "\n",
    "noise = np.random.laplace(loc=0.0, scale=1/diff_privacy, size=counters.shape)\n",
    "counters_noisy = counters + noise\n",
    "print(counters_noisy)"
   ]
  },
  {
   "cell_type": "code",
   "execution_count": 10,
   "metadata": {},
   "outputs": [
    {
     "name": "stdout",
     "output_type": "stream",
     "text": [
      "[[ 7  0  0  0  0  0  0  0  1 -1]\n",
      " [-1  1  1  0  1 -1  0  0 -1  0]\n",
      " [-1  2  0  0  0  1 -2  1  1  0]]\n"
     ]
    }
   ],
   "source": [
    "counters_noisy_rounded = np.round(noise).astype(int)\n",
    "print(counters_noisy_rounded)"
   ]
  },
  {
   "cell_type": "code",
   "execution_count": 7,
   "metadata": {},
   "outputs": [
    {
     "data": {
      "image/png": "[encoded data removed]",
      "text/plain": [
       "<Figure size 432x288 with 1 Axes>"
      ]
     },
     "metadata": {
      "needs_background": "light"
     },
     "output_type": "display_data"
    }
   ],
   "source": [
    "x = np.linspace(-10, 10, 500)  # Generate 500 points between -10 and 10\n",
    "y = np.exp(x/2) / (np.exp(x/2) + 1)  # Compute the function\n",
    "\n",
    "plt.plot(x, y, label=r\"$\\frac{e^x}{e^x + 1}$\")\n",
    "plt.xlabel(\"x\")\n",
    "plt.ylabel(\"y\")\n",
    "plt.title(\"Plot of $\\\\frac{e^x}{e^x + 1}$\")\n",
    "plt.axhline(0, color='black', linewidth=0.5, linestyle='--')\n",
    "plt.axvline(0, color='black', linewidth=0.5, linestyle='--')\n",
    "plt.legend()\n",
    "plt.grid()\n",
    "plt.show()"
   ]
  },
  {
   "cell_type": "code",
   "execution_count": 6,
   "metadata": {},
   "outputs": [
    {
     "data": {
      "text/plain": [
       "np.float64(4.5397868702434395e-05)"
      ]
     },
     "execution_count": 6,
     "metadata": {},
     "output_type": "execute_result"
    }
   ],
   "source": [
    "1 / (np.exp(10) + 1) "
   ]
  },
  {
   "cell_type": "code",
   "execution_count": 88,
   "metadata": {},
   "outputs": [
    {
     "data": {
      "image/png": "[encoded data removed]",
      "text/plain": [
       "<Figure size 432x288 with 1 Axes>"
      ]
     },
     "metadata": {
      "needs_background": "light"
     },
     "output_type": "display_data"
    }
   ],
   "source": [
    "x = np.linspace(-10, 10, 500)  # Generate 500 points between -10 and 10\n",
    "y = 1 / (np.exp(x / 2) + 1)  # Compute the function\n",
    "\n",
    "plt.plot(x, y, label=r\"$\\frac{1}{e^x + 1}$\")\n",
    "plt.xlabel(\"x\")\n",
    "plt.ylabel(\"y\")\n",
    "plt.title(\"Plot of $\\\\frac{1}{e^x + 1}$\")\n",
    "plt.axhline(0, color='black', linewidth=0.5, linestyle='--')\n",
    "plt.axvline(0, color='black', linewidth=0.5, linestyle='--')\n",
    "plt.legend()\n",
    "plt.grid()\n",
    "plt.show()"
   ]
  },
  {
   "cell_type": "code",
   "execution_count": 38,
   "metadata": {},
   "outputs": [
    {
     "data": {
      "text/plain": [
       "3"
      ]
     },
     "execution_count": 38,
     "metadata": {},
     "output_type": "execute_result"
    }
   ],
   "source": [
    "t = ('*', 'b', '*')\n",
    "(len(t)) - t.index('*')"
   ]
  },
  {
   "cell_type": "markdown",
   "metadata": {},
   "source": [
    "# LDP-Tests"
   ]
  },
  {
   "cell_type": "code",
   "execution_count": 86,
   "metadata": {},
   "outputs": [
    {
     "name": "stdout",
     "output_type": "stream",
     "text": [
      "0.40770524549413595\n",
      "Estimate for 'apple': 93.20406849581985\n",
      "Estimate for 'banana': 0\n"
     ]
    }
   ],
   "source": [
    "cms = CountMinSketchLocalHashing(width=32000, depth=5, epsilon=10.0)\n",
    "for _ in range(100):\n",
    "    cms.update(\"apple\")\n",
    "\n",
    "print(cms.p)\n",
    "print(\"Estimate for 'apple':\", cms.query(\"apple\"))\n",
    "print(\"Estimate for 'banana':\", cms.query(\"banana\"))\n"
   ]
  },
  {
   "cell_type": "code",
   "execution_count": 17,
   "metadata": {},
   "outputs": [],
   "source": [
    "def test_bloom_query(bf: BloomFilter, element):\n",
    "    hash_vals = bf.hash_functions.hash_value(element)\n",
    "    counts = bf.bit_array[hash_vals]\n",
    "    estimates = (counts - bf.processed_elements*bf.q) / (bf.p - bf.q)\n",
    "\n",
    "    return all(estimates >= 1) "
   ]
  },
  {
   "cell_type": "code",
   "execution_count": 25,
   "metadata": {},
   "outputs": [
    {
     "name": "stdout",
     "output_type": "stream",
     "text": [
      "False\n",
      "=== LDP Bloom Filter Test (Zipf) ===\n",
      "Inserted items detected (TP): 11 / 1000\n",
      "Not inserted items flagged (FP): 17 / 1000\n",
      "Estimated FPR: 0.0170\n",
      "Estimated TPR: 0.0110\n",
      "False\n"
     ]
    }
   ],
   "source": [
    "# Parameters\n",
    "n_elements = 1000\n",
    "false_positive_rate = 0.01\n",
    "epsilon = 1.0\n",
    "\n",
    "# Create Bloom Filter\n",
    "bloom = BloomFilter(n_values=n_elements, p=false_positive_rate, epsilon=epsilon, ldp_oue=True)\n",
    "\n",
    "# Elements to insert\n",
    "inserted = [f\"item_{i}\" for i in range(n_elements)]\n",
    "not_inserted = [f\"not_item_{i}\" for i in range(n_elements)]\n",
    "\n",
    "# Generate Zipf-distributed frequencies\n",
    "zipf_param = 2.0  # You can adjust the skewness\n",
    "freqs = np.random.zipf(zipf_param, size=n_elements)\n",
    "freqs = np.clip(freqs, 1, 100)  # Avoid extremely large counts\n",
    "\n",
    "# Update filter using Zipf frequencies\n",
    "for item, count in zip(inserted, freqs):\n",
    "    for _ in range(count):\n",
    "        bloom.update(item)\n",
    "\n",
    "print(test_bloom_query(bloom, \"item_0\"))  # Query an inserted item\n",
    "\n",
    "# Test detection rate\n",
    "true_positives = sum(test_bloom_query(bloom, item) for item in inserted)\n",
    "false_positives = sum(test_bloom_query(bloom, item) for item in not_inserted)\n",
    "\n",
    "# Print results\n",
    "print(\"=== LDP Bloom Filter Test (Zipf) ===\")\n",
    "print(f\"Inserted items detected (TP): {true_positives} / {n_elements}\")\n",
    "print(f\"Not inserted items flagged (FP): {false_positives} / {n_elements}\")\n",
    "print(f\"Estimated FPR: {false_positives / n_elements:.4f}\")\n",
    "print(f\"Estimated TPR: {true_positives / n_elements:.4f}\")\n",
    "\n",
    "for i in range(10):\n",
    "    bloom.update(\"item_0\")\n",
    "\n",
    "print(test_bloom_query(bloom, \"item_0\"))  # Query an inserted item\n"
   ]
  },
  {
   "cell_type": "markdown",
   "metadata": {},
   "source": [
    "# Numerical Bitmaps Test"
   ]
  },
  {
   "cell_type": "code",
   "execution_count": null,
   "metadata": {},
   "outputs": [],
   "source": [
    "# Test NumericalBitmap functionalities\n",
    "\n",
    "# Create a NumericalBitmap with base 2 and default size\n",
    "bitmap = NumericalBitmap(base=2, size_per_side=8)\n",
    "\n",
    "# Test updating with positive and negative values\n",
    "bitmap.update(3)\n",
    "bitmap.update(-4)\n",
    "bitmap.update(0)\n",
    "bitmap.update(7)\n",
    "bitmap.update(-1)\n",
    "\n",
    "# Test querying existing and non-existing values\n",
    "assert bitmap.query(3) == True, \"3 should be set\"\n",
    "assert bitmap.query(-4) == True, \"-4 should be set\"\n",
    "assert bitmap.query(0) == True, \"0 should be set\"\n",
    "assert bitmap.query(7) == True, \"7 should be set\"\n",
    "assert bitmap.query(-1) == True, \"-1 should be set\"\n",
    "assert bitmap.query(2) == False, \"2 should not be set\"\n",
    "assert bitmap.query(-2) == False, \"-2 should not be set\"\n",
    "\n",
    "# print(bitmap.positive_bitmap)\n",
    "# Test increasing exponent and querying larger values\n",
    "bitmap.update(12)  # This should trigger an increase in exponent\n",
    "assert bitmap.query(12) == True, \"12 should be set after increasing exponent\"\n",
    "assert bitmap.query(15) == False, \"15 should not be set yet\"\n",
    "assert bitmap.query(6) == True, \"6 should be set after increasing exponent\"\n",
    "# print(bitmap.positive_bitmap)\n",
    "\n",
    "# Test BAdicRange queries\n",
    "range1 = BAdicRange(base=2, level=0, index=3)\n",
    "range2 = BAdicRange(base=2, level=1, index=-2)\n",
    "assert bitmap.query_b_adic_range(range1) == True, \"BAdicRange for 3 should be set\"\n",
    "assert bitmap.query_b_adic_range(range2) == True, \"BAdicRange for -4 should be set\"\n",
    "\n",
    "# Test merge\n",
    "bitmap2 = NumericalBitmap(base=2, size_per_side=8)\n",
    "bitmap2.update(5)\n",
    "bitmap2.update(-6)\n",
    "merged = bitmap.merge(bitmap2)\n",
    "assert merged.query(3) == True\n",
    "assert merged.query(5) == True\n",
    "assert merged.query(-6) == True\n",
    "\n",
    "print(\"All NumericalBitmap tests passed.\")"
   ]
  },
  {
   "cell_type": "code",
   "execution_count": null,
   "metadata": {},
   "outputs": [],
   "source": [
    "# Test NumericalBitmap functionalities with base 5\n",
    "\n",
    "# Create a NumericalBitmap with base 5 and default size\n",
    "bitmap_base5 = NumericalBitmap(base=5, size_per_side=10)\n",
    "\n",
    "# Test updating with positive and negative values\n",
    "bitmap_base5.update(4)\n",
    "bitmap_base5.update(-9)\n",
    "bitmap_base5.update(0)\n",
    "bitmap_base5.update(9)\n",
    "bitmap_base5.update(-1)\n",
    "\n",
    "# Test querying existing and non-existing values\n",
    "assert bitmap_base5.query(4) == True, \"4 should be set\"\n",
    "assert bitmap_base5.query(-9) == True, \"-9 should be set\"\n",
    "assert bitmap_base5.query(0) == True, \"0 should be set\"\n",
    "assert bitmap_base5.query(9) == True, \"9 should be set\"\n",
    "assert bitmap_base5.query(-1) == True, \"-1 should be set\"\n",
    "assert bitmap_base5.query(2) == False, \"2 should not be set\"\n",
    "assert bitmap_base5.query(-2) == False, \"-2 should not be set\"\n",
    "\n",
    "# Test increasing exponent and querying larger values\n",
    "bitmap_base5.update(22)  # This should trigger an increase in exponent\n",
    "assert bitmap_base5.query(22) == True, \"22 should be set after increasing exponent\"\n",
    "assert bitmap_base5.query(18) == False, \"21 should not be set yet\"\n",
    "assert bitmap_base5.query(9) == True, \"9 should be set after increasing exponent\"\n",
    "\n",
    "# Test BAdicRange queries\n",
    "range1_5 = BAdicRange(base=5, level=0, index=4)\n",
    "range2_5 = BAdicRange(base=5, level=1, index=-2)\n",
    "assert bitmap_base5.query_b_adic_range(range1_5) == True, \"BAdicRange for 4 should be set\"\n",
    "assert bitmap_base5.query_b_adic_range(range2_5) == True, \"BAdicRange for -9 should be set\"\n",
    "\n",
    "# Test merge\n",
    "bitmap2_base5 = NumericalBitmap(base=5, size_per_side=10)\n",
    "bitmap2_base5.update(7)\n",
    "bitmap2_base5.update(-11)\n",
    "merged_base5 = bitmap_base5.merge(bitmap2_base5)\n",
    "assert merged_base5.query(4) == True\n",
    "assert merged_base5.query(7) == True\n",
    "assert merged_base5.query(-11) == True\n",
    "\n",
    "print(\"All NumericalBitmap base 5 tests passed.\")"
   ]
  }
 ],
 "metadata": {
  "kernelspec": {
   "display_name": "Python 3",
   "language": "python",
   "name": "python3"
  },
  "language_info": {
   "codemirror_mode": {
    "name": "ipython",
    "version": 3
   },
   "file_extension": ".py",
   "mimetype": "text/x-python",
   "name": "python",
   "nbconvert_exporter": "python",
   "pygments_lexer": "ipython3",
   "version": "3.12.3"
  }
 },
 "nbformat": 4,
 "nbformat_minor": 2
}
