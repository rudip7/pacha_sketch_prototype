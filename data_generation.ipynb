{
 "cells": [
  {
   "cell_type": "code",
   "execution_count": null,
   "metadata": {},
   "outputs": [],
   "source": [
    "import sys\n",
    "# append the path of the parent directory\n",
    "sys.path.append(\"..\")"
   ]
  },
  {
   "cell_type": "code",
   "execution_count": 1,
   "metadata": {},
   "outputs": [
    {
     "name": "stderr",
     "output_type": "stream",
     "text": [
      "/home/rudi/.local/lib/python3.12/site-packages/matplotlib/projections/__init__.py:63: UserWarning: Unable to import Axes3D. This may be due to multiple versions of Matplotlib being installed (e.g. as a system package and as a pip package). As a result, the 3D projection is not available.\n",
      "  warnings.warn(\"Unable to import Axes3D. This may be due to multiple versions of \"\n",
      "/usr/lib/python3/dist-packages/pytz/__init__.py:31: SyntaxWarning: invalid escape sequence '\\s'\n",
      "  match = re.match(\"^#\\s*version\\s*([0-9a-z]*)\\s*$\", line)\n"
     ]
    }
   ],
   "source": [
    "import math\n",
    "import os\n",
    "\n",
    "import numpy as np\n",
    "import matplotlib.pyplot as plt\n",
    "\n",
    "import seaborn as sns\n",
    "import pandas as pd"
   ]
  },
  {
   "cell_type": "markdown",
   "metadata": {},
   "source": [
    "# Self-Generated Datasets"
   ]
  },
  {
   "cell_type": "code",
   "execution_count": null,
   "metadata": {},
   "outputs": [],
   "source": [
    "def generate_normal_dataset(size, num_columns, mean, std_dev, output_path=None):\n",
    "    \"\"\"\n",
    "    Generates a dataset with the specified parameters where each column\n",
    "    contains integer values following a normal distribution.\n",
    "\n",
    "    Parameters:\n",
    "    - size (int): Number of rows in the dataset.\n",
    "    - num_columns (int): Number of columns in the dataset.\n",
    "    - mean (float): Mean of the normal distribution.\n",
    "    - std_dev (float): Standard deviation of the normal distribution.\n",
    "    - output_dir (str, optional): Directory to save the dataset in Parquet format. Defaults to None.\n",
    "\n",
    "    Returns:\n",
    "    - pd.DataFrame: Generated dataset as a pandas DataFrame.\n",
    "    \"\"\"\n",
    "    # Generate random data for each column\n",
    "    data = {\n",
    "        f\"d_{i}\": np.random.normal(loc=mean, scale=std_dev, size=size).astype(int)\n",
    "        for i in range(num_columns)\n",
    "    }\n",
    "\n",
    "    # Create DataFrame\n",
    "    df = pd.DataFrame(data)\n",
    "\n",
    "    # Save to output directory if specified\n",
    "    if output_path:\n",
    "        df.to_parquet(output_path, index=False)\n",
    "        print(f\"Dataset saved to {output_path}\")\n",
    "\n",
    "    return df\n"
   ]
  },
  {
   "cell_type": "code",
   "execution_count": null,
   "metadata": {},
   "outputs": [
    {
     "name": "stdout",
     "output_type": "stream",
     "text": [
      "Dataset saved to data/normal_3d_100k.parquet\n"
     ]
    }
   ],
   "source": [
    "df = generate_normal_dataset(size=100000, num_columns=3, mean=5000, std_dev=50, output_path=\"data/normal_3d_100k.parquet\")"
   ]
  },
  {
   "cell_type": "code",
   "execution_count": null,
   "metadata": {},
   "outputs": [],
   "source": [
    "df = pd.read_parquet(\"data/normal_3d_100k.parquet\")"
   ]
  },
  {
   "cell_type": "code",
   "execution_count": null,
   "metadata": {},
   "outputs": [
    {
     "ename": "NameError",
     "evalue": "name 'df' is not defined",
     "output_type": "error",
     "traceback": [
      "\u001b[0;31m---------------------------------------------------------------------------\u001b[0m\n",
      "\u001b[0;31mNameError\u001b[0m                                 Traceback (most recent call last)\n",
      "\u001b[0;32m/tmp/ipykernel_15511/3627053830.py\u001b[0m in \u001b[0;36m<module>\u001b[0;34m\u001b[0m\n",
      "\u001b[0;32m----> 1\u001b[0;31m \u001b[0mdf\u001b[0m\u001b[0;34m.\u001b[0m\u001b[0mdescribe\u001b[0m\u001b[0;34m(\u001b[0m\u001b[0;34m)\u001b[0m\u001b[0;34m\u001b[0m\u001b[0;34m\u001b[0m\u001b[0m\n",
      "\u001b[0m\n",
      "\u001b[0;31mNameError\u001b[0m: name 'df' is not defined"
     ]
    }
   ],
   "source": [
    "df.describe()"
   ]
  },
  {
   "cell_type": "markdown",
   "metadata": {},
   "source": [
    "## 6 Dimensions Dataset"
   ]
  },
  {
   "cell_type": "code",
   "execution_count": 76,
   "metadata": {},
   "outputs": [],
   "source": [
    "def generate_bounded_normal(loc, scale, size, low, high):\n",
    "    result = []\n",
    "    while len(result) < size:\n",
    "        samples = np.random.normal(loc=loc, scale=scale, size=size)\n",
    "        valid_samples = samples[(samples >= low) & (samples <= high)]\n",
    "        result.extend(valid_samples.astype(int))\n",
    "    return np.array(result[:size])"
   ]
  },
  {
   "cell_type": "code",
   "execution_count": 77,
   "metadata": {},
   "outputs": [],
   "source": [
    "def generate_fake_dataset(size, output_path=None):\n",
    "\n",
    "    regions = [\n",
    "        \"Baden-Württemberg\", \"Bavaria\", \"Berlin\", \"Brandenburg\", \"Bremen\", \n",
    "        \"Hamburg\", \"Hesse\", \"Lower Saxony\", \"Mecklenburg-Vorpommern\", \n",
    "        \"North Rhine-Westphalia\", \"Rhineland-Palatinate\", \"Saarland\", \n",
    "        \"Saxony\", \"Saxony-Anhalt\", \"Schleswig-Holstein\", \"Thuringia\"\n",
    "    ]\n",
    "    gender = [\"m\",\"f\",\"d\"]\n",
    "    product_category = [chr(i) for i in range(97, 123)]\n",
    "\n",
    "    p_product_category = np.random.zipf(1.5, len(product_category))\n",
    "    p_product_category = p_product_category / np.sum(p_product_category)\n",
    "\n",
    "    reference_dist = pd.read_parquet(\"data/reference_dist.parquet\")\n",
    "\n",
    "    ages_array = generate_bounded_normal(loc=35, scale=10, size=size, low=18, high=76)\n",
    "\n",
    "    data = {\n",
    "        \"region\": np.random.choice(regions, size=size, replace=True),\n",
    "        \"gender\": np.random.choice(gender, size=size, replace=True, p=[0.48, 0.49, 0.03]),\n",
    "        \"category\": np.random.choice(product_category, size=size, replace=True, p=p_product_category),\n",
    "        \"date\": np.random.choice(reference_dist['date'], size=size, replace=True),\n",
    "        \"total\": np.random.choice(reference_dist['total'], size=size, replace=True),\n",
    "        \"age\": ages_array      \n",
    "    }\n",
    "\n",
    "    # Create DataFrame\n",
    "    df = pd.DataFrame(data)\n",
    "\n",
    "    # Save to output directory if specified\n",
    "    if output_path:\n",
    "        df.to_parquet(output_path, index=False)\n",
    "        print(f\"Dataset saved to {output_path}\")\n",
    "\n",
    "    return df\n"
   ]
  },
  {
   "cell_type": "code",
   "execution_count": 80,
   "metadata": {},
   "outputs": [
    {
     "name": "stdout",
     "output_type": "stream",
     "text": [
      "Dataset saved to data/paper_example_200k.parquet\n"
     ]
    }
   ],
   "source": [
    "df = generate_fake_dataset(size=200000, output_path=\"data/paper_example_200k.parquet\")"
   ]
  },
  {
   "cell_type": "code",
   "execution_count": 81,
   "metadata": {},
   "outputs": [
    {
     "data": {
      "image/png": "[encoded data removed]",
      "text/plain": [
       "<Figure size 720x432 with 1 Axes>"
      ]
     },
     "metadata": {
      "needs_background": "light"
     },
     "output_type": "display_data"
    }
   ],
   "source": [
    "plt.figure(figsize=(10, 6))\n",
    "sns.histplot(df['age'], bins=30, kde=True, color='blue')\n",
    "plt.title('Age Distribution')\n",
    "plt.xlabel('Age')\n",
    "plt.ylabel('Frequency')\n",
    "plt.show()"
   ]
  },
  {
   "cell_type": "code",
   "execution_count": null,
   "metadata": {},
   "outputs": [
    {
     "data": {
      "text/html": [
       "<div>\n",
       "<style scoped>\n",
       "    .dataframe tbody tr th:only-of-type {\n",
       "        vertical-align: middle;\n",
       "    }\n",
       "\n",
       "    .dataframe tbody tr th {\n",
       "        vertical-align: top;\n",
       "    }\n",
       "\n",
       "    .dataframe thead th {\n",
       "        text-align: right;\n",
       "    }\n",
       "</style>\n",
       "<table border=\"1\" class=\"dataframe\">\n",
       "  <thead>\n",
       "    <tr style=\"text-align: right;\">\n",
       "      <th></th>\n",
       "      <th>date</th>\n",
       "      <th>total</th>\n",
       "    </tr>\n",
       "  </thead>\n",
       "  <tbody>\n",
       "    <tr>\n",
       "      <th>0</th>\n",
       "      <td>30</td>\n",
       "      <td>647</td>\n",
       "    </tr>\n",
       "    <tr>\n",
       "      <th>1</th>\n",
       "      <td>30</td>\n",
       "      <td>406</td>\n",
       "    </tr>\n",
       "    <tr>\n",
       "      <th>2</th>\n",
       "      <td>30</td>\n",
       "      <td>329</td>\n",
       "    </tr>\n",
       "    <tr>\n",
       "      <th>3</th>\n",
       "      <td>30</td>\n",
       "      <td>753</td>\n",
       "    </tr>\n",
       "    <tr>\n",
       "      <th>4</th>\n",
       "      <td>30</td>\n",
       "      <td>574</td>\n",
       "    </tr>\n",
       "    <tr>\n",
       "      <th>...</th>\n",
       "      <td>...</td>\n",
       "      <td>...</td>\n",
       "    </tr>\n",
       "    <tr>\n",
       "      <th>128970</th>\n",
       "      <td>61</td>\n",
       "      <td>517</td>\n",
       "    </tr>\n",
       "    <tr>\n",
       "      <th>128971</th>\n",
       "      <td>61</td>\n",
       "      <td>999</td>\n",
       "    </tr>\n",
       "    <tr>\n",
       "      <th>128972</th>\n",
       "      <td>61</td>\n",
       "      <td>690</td>\n",
       "    </tr>\n",
       "    <tr>\n",
       "      <th>128973</th>\n",
       "      <td>61</td>\n",
       "      <td>1199</td>\n",
       "    </tr>\n",
       "    <tr>\n",
       "      <th>128974</th>\n",
       "      <td>61</td>\n",
       "      <td>696</td>\n",
       "    </tr>\n",
       "  </tbody>\n",
       "</table>\n",
       "<p>128975 rows × 2 columns</p>\n",
       "</div>"
      ],
      "text/plain": [
       "        date  total\n",
       "0         30    647\n",
       "1         30    406\n",
       "2         30    329\n",
       "3         30    753\n",
       "4         30    574\n",
       "...      ...    ...\n",
       "128970    61    517\n",
       "128971    61    999\n",
       "128972    61    690\n",
       "128973    61   1199\n",
       "128974    61    696\n",
       "\n",
       "[128975 rows x 2 columns]"
      ]
     },
     "execution_count": 71,
     "metadata": {},
     "output_type": "execute_result"
    }
   ],
   "source": [
    "# Generate random ages with a normal distribution\n",
    "ages_array = np.random.normal(loc=35, scale=10, size=1000).astype(int)\n",
    "\n",
    "# Clip the ages to ensure they fall within the range of 18 to 76\n",
    "ages_array = np.clip(ages_array, 18, 76)"
   ]
  },
  {
   "cell_type": "markdown",
   "metadata": {},
   "source": [
    "# Kaggle"
   ]
  },
  {
   "cell_type": "markdown",
   "metadata": {},
   "source": [
    "## E-Commerce Sales Dataset"
   ]
  },
  {
   "cell_type": "code",
   "execution_count": 4,
   "metadata": {},
   "outputs": [],
   "source": [
    "df = pd.read_csv(\"data/raw/amazon_sale_report.csv\", low_memory=False)\n",
    "df.to_parquet(\"data/raw/amazon_sale_report.parquet\", index=False)"
   ]
  },
  {
   "cell_type": "code",
   "execution_count": 5,
   "metadata": {},
   "outputs": [],
   "source": [
    "df = pd.read_parquet(\"data/raw/amazon_sale_report.parquet\")"
   ]
  },
  {
   "cell_type": "code",
   "execution_count": 11,
   "metadata": {},
   "outputs": [
    {
     "data": {
      "text/plain": [
       "Index(['index', 'Order ID', 'Date', 'Status', 'Fulfilment', 'Sales Channel ',\n",
       "       'ship-service-level', 'Style', 'SKU', 'Category', 'Size', 'ASIN',\n",
       "       'Courier Status', 'Qty', 'currency', 'Amount', 'ship-city',\n",
       "       'ship-state', 'ship-postal-code', 'ship-country', 'promotion-ids',\n",
       "       'B2B', 'fulfilled-by', 'Unnamed: 22'],\n",
       "      dtype='object')"
      ]
     },
     "execution_count": 11,
     "metadata": {},
     "output_type": "execute_result"
    }
   ],
   "source": [
    "df.columns"
   ]
  },
  {
   "cell_type": "code",
   "execution_count": 15,
   "metadata": {},
   "outputs": [],
   "source": [
    "df_column_subset = df[['Date', 'Status',\n",
    "       'Style', 'Category', 'Size',\n",
    "       'Qty', 'Amount',\n",
    "       'ship-state']].copy()"
   ]
  },
  {
   "cell_type": "code",
   "execution_count": 66,
   "metadata": {},
   "outputs": [],
   "source": [
    "df_column_subset['total'] = df_column_subset['Amount'].fillna(0).astype(int)"
   ]
  },
  {
   "cell_type": "code",
   "execution_count": 67,
   "metadata": {},
   "outputs": [],
   "source": [
    "df_column_subset['date'] = pd.to_datetime(df_column_subset['Date'], format='%m-%d-%y').rank(method='dense').astype(int) - 1"
   ]
  },
  {
   "cell_type": "code",
   "execution_count": 68,
   "metadata": {},
   "outputs": [],
   "source": [
    "df_column_subset[['date', 'total']].to_parquet(\"data/raw/reference_dist.parquet\", index=False)"
   ]
  },
  {
   "cell_type": "code",
   "execution_count": 58,
   "metadata": {},
   "outputs": [
    {
     "data": {
      "text/plain": [
       "Date            91\n",
       "Status          13\n",
       "Style         1377\n",
       "Category         9\n",
       "Size            11\n",
       "Qty             10\n",
       "Amount        1002\n",
       "ship-state      69\n",
       "dtype: int64"
      ]
     },
     "execution_count": 58,
     "metadata": {},
     "output_type": "execute_result"
    }
   ],
   "source": [
    "df_column_subset.nunique()"
   ]
  }
 ],
 "metadata": {
  "kernelspec": {
   "display_name": "Python 3",
   "language": "python",
   "name": "python3"
  },
  "language_info": {
   "codemirror_mode": {
    "name": "ipython",
    "version": 3
   },
   "file_extension": ".py",
   "mimetype": "text/x-python",
   "name": "python",
   "nbconvert_exporter": "python",
   "pygments_lexer": "ipython3",
   "version": "3.12.3"
  }
 },
 "nbformat": 4,
 "nbformat_minor": 2
}
