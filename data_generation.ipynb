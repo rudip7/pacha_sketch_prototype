{
 "cells": [
  {
   "cell_type": "code",
   "execution_count": null,
   "metadata": {},
   "outputs": [],
   "source": [
    "import sys\n",
    "# append the path of the parent directory\n",
    "sys.path.append(\"..\")"
   ]
  },
  {
   "cell_type": "code",
   "execution_count": null,
   "metadata": {},
   "outputs": [],
   "source": [
    "import math\n",
    "import os\n",
    "\n",
    "import numpy as np\n",
    "import matplotlib.pyplot as plt\n",
    "from matplotlib.patches import Rectangle\n",
    "import matplotlib.patches as patches\n",
    "\n",
    "import seaborn as sns\n",
    "import time\n",
    "import json\n",
    "import pandas as pd\n",
    "from ctypes import c_int32\n",
    "from itertools import product\n",
    "\n",
    "from importlib import reload\n",
    "\n",
    "from lib import sketches\n",
    "from lib import visualization_utils\n",
    "reload(sketches)\n",
    "\n",
    "from lib.sketches import BloomFilter, CountMinSketch, minimal_b_adic_cover, sort_b_adic_ranges, BAdicRange, BAdicCube, minimal_spatial_b_adic_cover, H3HashFunctions, HashFunctionFamily\n",
    "from lib.visualization_utils import visualize_badic_cover, plot_b_adic_cubes"
   ]
  },
  {
   "cell_type": "code",
   "execution_count": null,
   "metadata": {},
   "outputs": [],
   "source": [
    "def generate_normal_dataset(size, num_columns, mean, std_dev, output_path=None):\n",
    "    \"\"\"\n",
    "    Generates a dataset with the specified parameters where each column\n",
    "    contains integer values following a normal distribution.\n",
    "\n",
    "    Parameters:\n",
    "    - size (int): Number of rows in the dataset.\n",
    "    - num_columns (int): Number of columns in the dataset.\n",
    "    - mean (float): Mean of the normal distribution.\n",
    "    - std_dev (float): Standard deviation of the normal distribution.\n",
    "    - output_dir (str, optional): Directory to save the dataset in Parquet format. Defaults to None.\n",
    "\n",
    "    Returns:\n",
    "    - pd.DataFrame: Generated dataset as a pandas DataFrame.\n",
    "    \"\"\"\n",
    "    # Generate random data for each column\n",
    "    data = {\n",
    "        f\"d_{i}\": np.random.normal(loc=mean, scale=std_dev, size=size).astype(int)\n",
    "        for i in range(num_columns)\n",
    "    }\n",
    "\n",
    "    # Create DataFrame\n",
    "    df = pd.DataFrame(data)\n",
    "\n",
    "    # Save to output directory if specified\n",
    "    if output_path:\n",
    "        df.to_parquet(output_path, index=False)\n",
    "        print(f\"Dataset saved to {output_path}\")\n",
    "\n",
    "    return df\n"
   ]
  },
  {
   "cell_type": "code",
   "execution_count": null,
   "metadata": {},
   "outputs": [
    {
     "name": "stdout",
     "output_type": "stream",
     "text": [
      "Dataset saved to data/normal_3d_100k.parquet\n"
     ]
    }
   ],
   "source": [
    "df = generate_normal_dataset(size=100000, num_columns=3, mean=5000, std_dev=50, output_path=\"data/normal_3d_100k.parquet\")"
   ]
  },
  {
   "cell_type": "code",
   "execution_count": null,
   "metadata": {},
   "outputs": [],
   "source": [
    "df = pd.read_parquet(\"data/normal_3d_100k.parquet\")"
   ]
  },
  {
   "cell_type": "code",
   "execution_count": null,
   "metadata": {},
   "outputs": [
    {
     "ename": "NameError",
     "evalue": "name 'df' is not defined",
     "output_type": "error",
     "traceback": [
      "\u001b[0;31m---------------------------------------------------------------------------\u001b[0m\n",
      "\u001b[0;31mNameError\u001b[0m                                 Traceback (most recent call last)\n",
      "\u001b[0;32m/tmp/ipykernel_15511/3627053830.py\u001b[0m in \u001b[0;36m<module>\u001b[0;34m\u001b[0m\n",
      "\u001b[0;32m----> 1\u001b[0;31m \u001b[0mdf\u001b[0m\u001b[0;34m.\u001b[0m\u001b[0mdescribe\u001b[0m\u001b[0;34m(\u001b[0m\u001b[0;34m)\u001b[0m\u001b[0;34m\u001b[0m\u001b[0;34m\u001b[0m\u001b[0m\n",
      "\u001b[0m\n",
      "\u001b[0;31mNameError\u001b[0m: name 'df' is not defined"
     ]
    }
   ],
   "source": [
    "df.describe()"
   ]
  }
 ],
 "metadata": {
  "language_info": {
   "name": "python"
  }
 },
 "nbformat": 4,
 "nbformat_minor": 2
}
