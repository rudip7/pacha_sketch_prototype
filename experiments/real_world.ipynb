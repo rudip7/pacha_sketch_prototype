{
 "cells": [
  {
   "cell_type": "code",
   "execution_count": 1,
   "id": "63b27858",
   "metadata": {},
   "outputs": [],
   "source": [
    "import sys\n",
    "# append the path of the parent directory\n",
    "sys.path.append(\"..\")"
   ]
  },
  {
   "cell_type": "code",
   "execution_count": 80,
   "id": "98217a93",
   "metadata": {},
   "outputs": [],
   "source": [
    "import math\n",
    "import os\n",
    "import time\n",
    "\n",
    "\n",
    "import numpy as np\n",
    "import matplotlib.pyplot as plt\n",
    "from matplotlib.patches import Rectangle\n",
    "import matplotlib.patches as patches\n",
    "\n",
    "import seaborn as sns\n",
    "import time\n",
    "import json\n",
    "import pandas as pd\n",
    "from ctypes import c_int32\n",
    "from itertools import product\n",
    "\n",
    "from scipy.stats import pearsonr\n",
    "from importlib import reload\n",
    "\n",
    "import orjson\n",
    "import gzip\n",
    "\n",
    "\n",
    "\n",
    "from lib import sketches, visualization_utils, encoders, ploting, pacha_sketch_new\n",
    "reload(ploting)\n",
    "reload(sketches)\n",
    "reload(visualization_utils)\n",
    "reload(encoders)\n",
    "\n",
    "reload(pacha_sketch_new)\n",
    "\n",
    "from lib.sketches import BloomFilter, CountMinSketch, H3HashFunctions, HashFunctionFamily, CountMinSketchHadamard, CountMinSketchLocalHashing\n",
    "from lib.visualization_utils import visualize_badic_cover, plot_b_adic_cubes\n",
    "from lib.encoders import minimal_b_adic_cover, minimal_spatial_b_adic_cover, BAdicCube, BAdicRange\n",
    "from lib.pacha_sketch_new import PachaSketch, ADTree, BFParameters, CMParameters, build_pacha_sketch_uniform_size, \\\n",
    "    build_pacha_sketch_from_json_file\n",
    "\n",
    "from lib.ploting import set_style, plot_ylabel, plot_legend\n",
    "\n",
    "from lib import baselines\n",
    "reload(baselines)\n",
    "\n",
    "from lib.baselines import CentralDPServer, LDPServer, LDPEncoderGRR, query_df, infer_domains_and_ranges\n",
    "\n",
    "# set_style()"
   ]
  },
  {
   "cell_type": "code",
   "execution_count": 28,
   "id": "09ff309f",
   "metadata": {},
   "outputs": [],
   "source": [
    "delta = 0.05\n",
    "abs_error_eps = 1.0"
   ]
  },
  {
   "cell_type": "markdown",
   "id": "857f97a6",
   "metadata": {},
   "source": [
    "# Online Retail"
   ]
  },
  {
   "cell_type": "code",
   "execution_count": null,
   "id": "91ec14ce",
   "metadata": {},
   "outputs": [],
   "source": [
    "retail_df = pd.read_parquet(\"../data/clean/online_retail.parquet\")"
   ]
  },
  {
   "cell_type": "code",
   "execution_count": 51,
   "id": "70a5b915",
   "metadata": {},
   "outputs": [
    {
     "data": {
      "text/plain": [
       "541909"
      ]
     },
     "execution_count": 51,
     "metadata": {},
     "output_type": "execute_result"
    }
   ],
   "source": [
    "len(retail_df)"
   ]
  },
  {
   "cell_type": "code",
   "execution_count": 10,
   "id": "5adead49",
   "metadata": {},
   "outputs": [],
   "source": [
    "query_path = \"../queries/online_retail_2_cols.json\"\n",
    "with open(query_path, 'rb') as f:\n",
    "    queries = orjson.loads(f.read())\n",
    "\n",
    "ad_tree = ADTree.from_json(\"../sketches/ad_trees/online_retail.json\")\n"
   ]
  },
  {
   "cell_type": "code",
   "execution_count": 21,
   "id": "4de42e11",
   "metadata": {},
   "outputs": [
    {
     "data": {
      "text/plain": [
       "['category', 'region', 'gender']"
      ]
     },
     "execution_count": 21,
     "metadata": {},
     "output_type": "execute_result"
    }
   ],
   "source": [
    "ad_tree.names"
   ]
  },
  {
   "cell_type": "code",
   "execution_count": 22,
   "id": "3dddd547",
   "metadata": {},
   "outputs": [
    {
     "data": {
      "text/plain": [
       "Index(['category', 'region', 'gender', 'date', 'age', 'total'], dtype='object')"
      ]
     },
     "execution_count": 22,
     "metadata": {},
     "output_type": "execute_result"
    }
   ],
   "source": [
    "retail_df.columns"
   ]
  },
  {
   "cell_type": "code",
   "execution_count": 84,
   "id": "221d454b",
   "metadata": {},
   "outputs": [],
   "source": [
    "p_sketch = build_pacha_sketch_uniform_size(\n",
    "    levels=5,\n",
    "    num_dimensions=6,\n",
    "    cat_col_map=[0,1,2],\n",
    "    num_col_map=[3,4,5],\n",
    "    bases=[2,2,2],\n",
    "    ad_tree=ad_tree,\n",
    "    cm_params=CMParameters(delta=delta, error_eps=abs_error_eps / len(retail_df)),\n",
    "    cat_index_parameters=BFParameters(n_values=len(retail_df)*4, p=0.001),\n",
    "    num_index_parameters=BFParameters(n_values=len(retail_df)*5, p=0.001))"
   ]
  },
  {
   "cell_type": "code",
   "execution_count": 85,
   "id": "b841b413",
   "metadata": {},
   "outputs": [
    {
     "data": {
      "text/plain": [
       "235.4842987060547"
      ]
     },
     "execution_count": 85,
     "metadata": {},
     "output_type": "execute_result"
    }
   ],
   "source": [
    "p_sketch.get_size()"
   ]
  },
  {
   "cell_type": "code",
   "execution_count": 86,
   "id": "459cb769",
   "metadata": {},
   "outputs": [
    {
     "name": "stderr",
     "output_type": "stream",
     "text": [
      "Updating: 100%|██████████| 541909/541909 [03:42<00:00, 2436.16it/s]\n"
     ]
    },
    {
     "data": {
      "text/plain": [
       "<lib.pacha_sketch_new.PachaSketch at 0x75db4c81df10>"
      ]
     },
     "execution_count": 86,
     "metadata": {},
     "output_type": "execute_result"
    }
   ],
   "source": [
    "p_sketch.update_data_frame(retail_df, workers=os.cpu_count())"
   ]
  },
  {
   "cell_type": "code",
   "execution_count": 33,
   "id": "be8b1ea2",
   "metadata": {},
   "outputs": [],
   "source": [
    "p_sketch.save_to_file(\"../sketches/online_retail.json.gz\")"
   ]
  },
  {
   "cell_type": "code",
   "execution_count": 49,
   "id": "ec40b350",
   "metadata": {},
   "outputs": [],
   "source": [
    "p_sketch2 = build_pacha_sketch_from_json_file(\"../sketches/online_retail.json.gz\")"
   ]
  },
  {
   "cell_type": "code",
   "execution_count": 45,
   "id": "61443792",
   "metadata": {},
   "outputs": [
    {
     "data": {
      "text/plain": [
       "True"
      ]
     },
     "execution_count": 45,
     "metadata": {},
     "output_type": "execute_result"
    }
   ],
   "source": [
    "p_sketch == p_sketch2"
   ]
  },
  {
   "cell_type": "code",
   "execution_count": null,
   "id": "ae1a8582",
   "metadata": {},
   "outputs": [
    {
     "name": "stdout",
     "output_type": "stream",
     "text": [
      "Categorical regions: 125\n",
      "Indexed categorical regions: 125\n",
      "Numerical regions: 1420\n",
      "Indexed numerical regions: 967\n",
      "Query regions: 120875\n",
      "Level 0 queries: 18000\n",
      "Level 1 queries: 58875\n",
      "Level 2 queries: 19000\n",
      "Level 3 queries: 25000\n"
     ]
    }
   ],
   "source": [
    "est, details = p_sketch2.query(queries[\"queries\"][0], debug=True, detailed=True)"
   ]
  },
  {
   "cell_type": "code",
   "execution_count": 87,
   "id": "a291de70",
   "metadata": {},
   "outputs": [
    {
     "name": "stdout",
     "output_type": "stream",
     "text": [
      "Categorical regions: 125\n",
      "Indexed categorical regions: 125\n",
      "Numerical regions: 1420\n",
      "Indexed numerical regions: 949\n",
      "Query regions: 118625\n",
      "Level 0 queries: 16000\n",
      "Level 1 queries: 58625\n",
      "Level 2 queries: 19000\n",
      "Level 3 queries: 25000\n"
     ]
    }
   ],
   "source": [
    "est, details = p_sketch.query(queries[\"queries\"][0], debug=True, detailed=True)"
   ]
  },
  {
   "cell_type": "code",
   "execution_count": 74,
   "id": "00668da4",
   "metadata": {},
   "outputs": [
    {
     "name": "stdout",
     "output_type": "stream",
     "text": [
      "Level 0: 144.0\n",
      "Level 1: 471.0\n",
      "Level 2: 152.0\n",
      "Level 3: 200.0\n",
      "Level 4: 0.0\n"
     ]
    }
   ],
   "source": [
    "for i in range(len(details['queries_per_level'])):\n",
    "    print(f\"Level {i}: {details['queries_per_level'][i]/details['cat_regions']}\")"
   ]
  },
  {
   "cell_type": "code",
   "execution_count": 76,
   "id": "9afc642a",
   "metadata": {},
   "outputs": [
    {
     "name": "stdout",
     "output_type": "stream",
     "text": [
      "[0, 18, 0]\n",
      "[304, 71, 168469]\n"
     ]
    }
   ],
   "source": [
    "print(p_sketch2.min_values)\n",
    "print(p_sketch2.max_values)"
   ]
  },
  {
   "cell_type": "code",
   "execution_count": 54,
   "id": "75c2cdfb",
   "metadata": {},
   "outputs": [
    {
     "data": {
      "text/plain": [
       "49540"
      ]
     },
     "execution_count": 54,
     "metadata": {},
     "output_type": "execute_result"
    }
   ],
   "source": [
    "query_df(retail_df, queries[\"queries\"][0])"
   ]
  },
  {
   "cell_type": "code",
   "execution_count": 75,
   "id": "5f1f554f",
   "metadata": {},
   "outputs": [
    {
     "name": "stdout",
     "output_type": "stream",
     "text": [
      "3.0\n",
      "3.9068905956085187\n"
     ]
    }
   ],
   "source": [
    "print(np.log2(15-8+1)) \n",
    "\n",
    "print(np.log2(15))"
   ]
  },
  {
   "cell_type": "code",
   "execution_count": 42,
   "id": "fac51920",
   "metadata": {},
   "outputs": [
    {
     "data": {
      "text/plain": [
       "['*', ['United Kingdom'], '*', '*', '*', [8, 15]]"
      ]
     },
     "execution_count": 42,
     "metadata": {},
     "output_type": "execute_result"
    }
   ],
   "source": [
    "queries[\"queries\"][0]"
   ]
  },
  {
   "cell_type": "code",
   "execution_count": 62,
   "id": "09d510bb",
   "metadata": {},
   "outputs": [],
   "source": [
    "domain_sizes = np.asarray([len(ad_tree.possible_values[dim]) for dim in range(ad_tree.num_dimensions)])"
   ]
  },
  {
   "cell_type": "code",
   "execution_count": 63,
   "id": "ea23e571",
   "metadata": {},
   "outputs": [
    {
     "data": {
      "text/plain": [
       "array([125,  38,   3])"
      ]
     },
     "execution_count": 63,
     "metadata": {},
     "output_type": "execute_result"
    }
   ],
   "source": [
    "domain_sizes"
   ]
  },
  {
   "cell_type": "code",
   "execution_count": 64,
   "id": "c7c13bca",
   "metadata": {},
   "outputs": [],
   "source": [
    "with_wildcard = domain_sizes +1 "
   ]
  },
  {
   "cell_type": "code",
   "execution_count": 60,
   "id": "1da88605",
   "metadata": {},
   "outputs": [
    {
     "data": {
      "text/plain": [
       "np.int64(14250)"
      ]
     },
     "execution_count": 60,
     "metadata": {},
     "output_type": "execute_result"
    }
   ],
   "source": [
    "np.prod(domain_sizes)"
   ]
  },
  {
   "cell_type": "code",
   "execution_count": 65,
   "id": "c3c3b5c0",
   "metadata": {},
   "outputs": [
    {
     "data": {
      "text/plain": [
       "np.int64(19656)"
      ]
     },
     "execution_count": 65,
     "metadata": {},
     "output_type": "execute_result"
    }
   ],
   "source": [
    "np.prod(with_wildcard)"
   ]
  },
  {
   "cell_type": "code",
   "execution_count": 66,
   "id": "31db493d",
   "metadata": {},
   "outputs": [
    {
     "data": {
      "text/plain": [
       "np.int64(156)"
      ]
     },
     "execution_count": 66,
     "metadata": {},
     "output_type": "execute_result"
    }
   ],
   "source": [
    "np.prod(with_wildcard[1:])"
   ]
  }
 ],
 "metadata": {
  "kernelspec": {
   "display_name": "Python 3",
   "language": "python",
   "name": "python3"
  },
  "language_info": {
   "codemirror_mode": {
    "name": "ipython",
    "version": 3
   },
   "file_extension": ".py",
   "mimetype": "text/x-python",
   "name": "python",
   "nbconvert_exporter": "python",
   "pygments_lexer": "ipython3",
   "version": "3.12.3"
  }
 },
 "nbformat": 4,
 "nbformat_minor": 5
}
