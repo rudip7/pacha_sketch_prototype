{
 "cells": [
  {
   "cell_type": "code",
   "execution_count": 11,
   "id": "63b27858",
   "metadata": {},
   "outputs": [],
   "source": [
    "import sys\n",
    "# append the path of the parent directory\n",
    "sys.path.append(\"..\")"
   ]
  },
  {
   "cell_type": "code",
   "execution_count": 175,
   "id": "98217a93",
   "metadata": {},
   "outputs": [],
   "source": [
    "import math\n",
    "import os\n",
    "import time\n",
    "\n",
    "\n",
    "import numpy as np\n",
    "np.set_printoptions(legacy='1.25')\n",
    "\n",
    "import matplotlib.pyplot as plt\n",
    "from matplotlib.patches import Rectangle\n",
    "import matplotlib.patches as patches\n",
    "\n",
    "import seaborn as sns\n",
    "import time\n",
    "import json\n",
    "import pandas as pd\n",
    "from ctypes import c_int32\n",
    "from itertools import product\n",
    "import copy\n",
    "\n",
    "\n",
    "from tqdm import tqdm\n",
    "\n",
    "from scipy.stats import pearsonr\n",
    "from importlib import reload\n",
    "\n",
    "import orjson\n",
    "import gzip\n",
    "\n",
    "\n",
    "\n",
    "from lib import sketches, visualization_utils, encoders, ploting, pacha_sketch\n",
    "reload(ploting)\n",
    "reload(sketches)\n",
    "reload(visualization_utils)\n",
    "reload(encoders)\n",
    "\n",
    "reload(pacha_sketch)\n",
    "\n",
    "from lib.sketches import BloomFilter, CountMinSketch, H3HashFunctions, HashFunctionFamily,\\\n",
    "      CountMinSketchHadamard, CountMinSketchLocalHashing, deterministic_hash, simple_deterministic_hash\n",
    "from lib.visualization_utils import visualize_badic_cover, plot_b_adic_cubes\n",
    "from lib.encoders import minimal_b_adic_cover, minimal_spatial_b_adic_cover, BAdicCube, BAdicRange\n",
    "from lib.pacha_sketch import PachaSketch, ADTree, BFParameters, CMParameters\n",
    "\n",
    "from lib.ploting import set_style, plot_ylabel, plot_legend\n",
    "\n",
    "from lib import baselines\n",
    "reload(baselines)\n",
    "\n",
    "from lib.baselines import CentralDPServer, LDPServer, LDPEncoderGRR, filter_df, query_df, \\\n",
    "      infer_domains_and_ranges, translate_query_region, evaluate_queries, check_accruracy, \\\n",
    "      evaluate_queries_baselines\n",
    "\n",
    "# set_style()"
   ]
  },
  {
   "cell_type": "code",
   "execution_count": 13,
   "id": "09ff309f",
   "metadata": {},
   "outputs": [],
   "source": [
    "delta = 0.05\n",
    "abs_error_eps = 1.0"
   ]
  },
  {
   "cell_type": "markdown",
   "id": "857f97a6",
   "metadata": {},
   "source": [
    "# Online Retail"
   ]
  },
  {
   "cell_type": "code",
   "execution_count": 14,
   "id": "91ec14ce",
   "metadata": {},
   "outputs": [],
   "source": [
    "retail_df = pd.read_parquet(\"../data/clean/online_retail.parquet\")"
   ]
  },
  {
   "cell_type": "code",
   "execution_count": null,
   "id": "5adead49",
   "metadata": {},
   "outputs": [],
   "source": [
    "query_path = \"../queries/online_retail_2_cols.json\"\n",
    "with open(query_path, 'rb') as f:\n",
    "    queries = orjson.loads(f.read())\n",
    "\n",
    "query_path = \"../queries/online_retail_4_cols.json\"\n",
    "with open(query_path, 'rb') as f:\n",
    "    queries_4 = orjson.loads(f.read())\n",
    "\n",
    "ad_tree = ADTree.from_json(\"../sketches/ad_trees/online_retail.json\")\n"
   ]
  },
  {
   "cell_type": "markdown",
   "id": "f6b497dc",
   "metadata": {},
   "source": [
    "# Pacha Sketches"
   ]
  },
  {
   "cell_type": "markdown",
   "id": "965cb93a",
   "metadata": {},
   "source": [
    "## Normal"
   ]
  },
  {
   "cell_type": "code",
   "execution_count": 21,
   "id": "221d454b",
   "metadata": {},
   "outputs": [
    {
     "data": {
      "text/plain": [
       "95.50641822814941"
      ]
     },
     "execution_count": 21,
     "metadata": {},
     "output_type": "execute_result"
    }
   ],
   "source": [
    "p_sketch = PachaSketch.build_with_uniform_size(\n",
    "    levels=5,\n",
    "    num_dimensions=6,\n",
    "    cat_col_map=[0,1,2],\n",
    "    num_col_map=[3,4,5],\n",
    "    bases=[2,2,2],\n",
    "    ad_tree=ad_tree,\n",
    "    cm_params=CMParameters(delta=delta, error_eps=abs_error_eps / len(retail_df)),\n",
    "    cat_index_parameters=BFParameters(n_values=len(retail_df)*4, p=0.01),\n",
    "    num_index_parameters=BFParameters(n_values=len(retail_df)*5, p=0.01),\n",
    "    region_index_parameters= BFParameters(n_values=len(retail_df)*(5+4), p=0.01))\n",
    "p_sketch.get_size()"
   ]
  },
  {
   "cell_type": "code",
   "execution_count": 22,
   "id": "459cb769",
   "metadata": {},
   "outputs": [
    {
     "name": "stderr",
     "output_type": "stream",
     "text": [
      "Updating: 100%|██████████| 541909/541909 [04:18<00:00, 2093.36it/s]\n"
     ]
    },
    {
     "data": {
      "text/plain": [
       "<lib.pacha_sketch.PachaSketch at 0x77a6f4a3b7d0>"
      ]
     },
     "execution_count": 22,
     "metadata": {},
     "output_type": "execute_result"
    }
   ],
   "source": [
    "p_sketch.update_data_frame(retail_df, workers=os.cpu_count())"
   ]
  },
  {
   "cell_type": "code",
   "execution_count": 44,
   "id": "be8b1ea2",
   "metadata": {},
   "outputs": [],
   "source": [
    "p_sketch.save_to_file(\"../sketches/real_world/online_retail_uniform.json.gz\")"
   ]
  },
  {
   "cell_type": "code",
   "execution_count": null,
   "id": "ec40b350",
   "metadata": {},
   "outputs": [],
   "source": [
    "p_sketch2 = PachaSketch.from_json(\"../sketches/real_world/online_retail_uniform.json.gz\")"
   ]
  },
  {
   "cell_type": "code",
   "execution_count": 28,
   "id": "fbae23fd",
   "metadata": {},
   "outputs": [
    {
     "name": "stdout",
     "output_type": "stream",
     "text": [
      "Computing true counts...\n"
     ]
    },
    {
     "name": "stderr",
     "output_type": "stream",
     "text": [
      "True Count: 100%|██████████| 200/200 [00:04<00:00, 43.34it/s]\n"
     ]
    },
    {
     "name": "stdout",
     "output_type": "stream",
     "text": [
      "Computing estimates...\n"
     ]
    },
    {
     "name": "stderr",
     "output_type": "stream",
     "text": [
      "Estimates: 100%|██████████| 200/200 [23:24<00:00,  7.02s/it]\n"
     ]
    }
   ],
   "source": [
    "results_df = evaluate_queries(retail_df, queries[\"queries\"], p_sketch, path_to_file=\"../results/real_world/online_retail_2_p_sketch_uniform.csv\")"
   ]
  },
  {
   "cell_type": "code",
   "execution_count": 64,
   "id": "0dd2f38e",
   "metadata": {},
   "outputs": [
    {
     "data": {
      "text/html": [
       "<div>\n",
       "<style scoped>\n",
       "    .dataframe tbody tr th:only-of-type {\n",
       "        vertical-align: middle;\n",
       "    }\n",
       "\n",
       "    .dataframe tbody tr th {\n",
       "        vertical-align: top;\n",
       "    }\n",
       "\n",
       "    .dataframe thead th {\n",
       "        text-align: right;\n",
       "    }\n",
       "</style>\n",
       "<table border=\"1\" class=\"dataframe\">\n",
       "  <thead>\n",
       "    <tr style=\"text-align: right;\">\n",
       "      <th></th>\n",
       "      <th>absolute_error</th>\n",
       "      <th>normalized_error</th>\n",
       "      <th>relative_error</th>\n",
       "      <th>query_regions</th>\n",
       "    </tr>\n",
       "  </thead>\n",
       "  <tbody>\n",
       "    <tr>\n",
       "      <th>count</th>\n",
       "      <td>200.000000</td>\n",
       "      <td>200.000000</td>\n",
       "      <td>200.000000</td>\n",
       "      <td>200.000000</td>\n",
       "    </tr>\n",
       "    <tr>\n",
       "      <th>mean</th>\n",
       "      <td>1495.020000</td>\n",
       "      <td>0.002759</td>\n",
       "      <td>0.030890</td>\n",
       "      <td>13075.100000</td>\n",
       "    </tr>\n",
       "    <tr>\n",
       "      <th>std</th>\n",
       "      <td>3284.357086</td>\n",
       "      <td>0.006061</td>\n",
       "      <td>0.039216</td>\n",
       "      <td>22529.014215</td>\n",
       "    </tr>\n",
       "    <tr>\n",
       "      <th>min</th>\n",
       "      <td>3.000000</td>\n",
       "      <td>0.000006</td>\n",
       "      <td>0.003227</td>\n",
       "      <td>113.000000</td>\n",
       "    </tr>\n",
       "    <tr>\n",
       "      <th>25%</th>\n",
       "      <td>34.750000</td>\n",
       "      <td>0.000064</td>\n",
       "      <td>0.007233</td>\n",
       "      <td>546.750000</td>\n",
       "    </tr>\n",
       "    <tr>\n",
       "      <th>50%</th>\n",
       "      <td>206.000000</td>\n",
       "      <td>0.000380</td>\n",
       "      <td>0.012420</td>\n",
       "      <td>1768.000000</td>\n",
       "    </tr>\n",
       "    <tr>\n",
       "      <th>75%</th>\n",
       "      <td>862.250000</td>\n",
       "      <td>0.001591</td>\n",
       "      <td>0.052554</td>\n",
       "      <td>16739.500000</td>\n",
       "    </tr>\n",
       "    <tr>\n",
       "      <th>max</th>\n",
       "      <td>16057.000000</td>\n",
       "      <td>0.029630</td>\n",
       "      <td>0.247638</td>\n",
       "      <td>103413.000000</td>\n",
       "    </tr>\n",
       "  </tbody>\n",
       "</table>\n",
       "</div>"
      ],
      "text/plain": [
       "       absolute_error  normalized_error  relative_error  query_regions\n",
       "count      200.000000        200.000000      200.000000     200.000000\n",
       "mean      1495.020000          0.002759        0.030890   13075.100000\n",
       "std       3284.357086          0.006061        0.039216   22529.014215\n",
       "min          3.000000          0.000006        0.003227     113.000000\n",
       "25%         34.750000          0.000064        0.007233     546.750000\n",
       "50%        206.000000          0.000380        0.012420    1768.000000\n",
       "75%        862.250000          0.001591        0.052554   16739.500000\n",
       "max      16057.000000          0.029630        0.247638  103413.000000"
      ]
     },
     "execution_count": 64,
     "metadata": {},
     "output_type": "execute_result"
    }
   ],
   "source": [
    "results_df[[\"absolute_error\",\"normalized_error\",\"relative_error\",\"query_regions\"]].describe()"
   ]
  },
  {
   "cell_type": "code",
   "execution_count": 46,
   "id": "78b0f1d7",
   "metadata": {},
   "outputs": [
    {
     "name": "stdout",
     "output_type": "stream",
     "text": [
      "Computing true counts...\n"
     ]
    },
    {
     "name": "stderr",
     "output_type": "stream",
     "text": [
      "True Count: 100%|██████████| 200/200 [00:06<00:00, 30.75it/s]\n"
     ]
    },
    {
     "name": "stdout",
     "output_type": "stream",
     "text": [
      "Computing estimates...\n"
     ]
    },
    {
     "name": "stderr",
     "output_type": "stream",
     "text": [
      "Estimates: 100%|██████████| 200/200 [03:31<00:00,  1.06s/it]\n"
     ]
    }
   ],
   "source": [
    "results_df_4 = evaluate_queries(retail_df, queries_4[\"queries\"], p_sketch, path_to_file=\"../results/real_world/online_retail_4_p_sketch_uniform.csv\")"
   ]
  },
  {
   "cell_type": "code",
   "execution_count": 65,
   "id": "57b0aef6",
   "metadata": {},
   "outputs": [
    {
     "name": "stderr",
     "output_type": "stream",
     "text": [
      "/home/rudi/.local/lib/python3.12/site-packages/pandas/core/nanops.py:1016: RuntimeWarning: invalid value encountered in subtract\n",
      "  sqr = _ensure_numeric((avg - values) ** 2)\n"
     ]
    },
    {
     "data": {
      "text/html": [
       "<div>\n",
       "<style scoped>\n",
       "    .dataframe tbody tr th:only-of-type {\n",
       "        vertical-align: middle;\n",
       "    }\n",
       "\n",
       "    .dataframe tbody tr th {\n",
       "        vertical-align: top;\n",
       "    }\n",
       "\n",
       "    .dataframe thead th {\n",
       "        text-align: right;\n",
       "    }\n",
       "</style>\n",
       "<table border=\"1\" class=\"dataframe\">\n",
       "  <thead>\n",
       "    <tr style=\"text-align: right;\">\n",
       "      <th></th>\n",
       "      <th>absolute_error</th>\n",
       "      <th>normalized_error</th>\n",
       "      <th>relative_error</th>\n",
       "      <th>query_regions</th>\n",
       "    </tr>\n",
       "  </thead>\n",
       "  <tbody>\n",
       "    <tr>\n",
       "      <th>count</th>\n",
       "      <td>200.000000</td>\n",
       "      <td>200.000000</td>\n",
       "      <td>195.000000</td>\n",
       "      <td>200.000000</td>\n",
       "    </tr>\n",
       "    <tr>\n",
       "      <th>mean</th>\n",
       "      <td>164.525000</td>\n",
       "      <td>0.000304</td>\n",
       "      <td>inf</td>\n",
       "      <td>1186.780000</td>\n",
       "    </tr>\n",
       "    <tr>\n",
       "      <th>std</th>\n",
       "      <td>438.239671</td>\n",
       "      <td>0.000809</td>\n",
       "      <td>NaN</td>\n",
       "      <td>3040.415082</td>\n",
       "    </tr>\n",
       "    <tr>\n",
       "      <th>min</th>\n",
       "      <td>0.000000</td>\n",
       "      <td>0.000000</td>\n",
       "      <td>0.000000</td>\n",
       "      <td>0.000000</td>\n",
       "    </tr>\n",
       "    <tr>\n",
       "      <th>25%</th>\n",
       "      <td>24.750000</td>\n",
       "      <td>0.000046</td>\n",
       "      <td>0.041999</td>\n",
       "      <td>212.000000</td>\n",
       "    </tr>\n",
       "    <tr>\n",
       "      <th>50%</th>\n",
       "      <td>45.500000</td>\n",
       "      <td>0.000084</td>\n",
       "      <td>0.063565</td>\n",
       "      <td>352.000000</td>\n",
       "    </tr>\n",
       "    <tr>\n",
       "      <th>75%</th>\n",
       "      <td>96.250000</td>\n",
       "      <td>0.000178</td>\n",
       "      <td>0.087964</td>\n",
       "      <td>597.750000</td>\n",
       "    </tr>\n",
       "    <tr>\n",
       "      <th>max</th>\n",
       "      <td>2792.000000</td>\n",
       "      <td>0.005152</td>\n",
       "      <td>inf</td>\n",
       "      <td>18121.000000</td>\n",
       "    </tr>\n",
       "  </tbody>\n",
       "</table>\n",
       "</div>"
      ],
      "text/plain": [
       "       absolute_error  normalized_error  relative_error  query_regions\n",
       "count      200.000000        200.000000      195.000000     200.000000\n",
       "mean       164.525000          0.000304             inf    1186.780000\n",
       "std        438.239671          0.000809             NaN    3040.415082\n",
       "min          0.000000          0.000000        0.000000       0.000000\n",
       "25%         24.750000          0.000046        0.041999     212.000000\n",
       "50%         45.500000          0.000084        0.063565     352.000000\n",
       "75%         96.250000          0.000178        0.087964     597.750000\n",
       "max       2792.000000          0.005152             inf   18121.000000"
      ]
     },
     "execution_count": 65,
     "metadata": {},
     "output_type": "execute_result"
    }
   ],
   "source": [
    "results_df_4[[\"absolute_error\",\"normalized_error\",\"relative_error\",\"query_regions\"]].describe()"
   ]
  },
  {
   "cell_type": "markdown",
   "id": "3e264929",
   "metadata": {},
   "source": [
    "## Differentially Private"
   ]
  },
  {
   "cell_type": "code",
   "execution_count": 103,
   "id": "6fe44028",
   "metadata": {},
   "outputs": [
    {
     "data": {
      "text/plain": [
       "95.50641822814941"
      ]
     },
     "execution_count": 103,
     "metadata": {},
     "output_type": "execute_result"
    }
   ],
   "source": [
    "p_sketch_dp = PachaSketch.build_with_uniform_size(\n",
    "    levels=5,\n",
    "    num_dimensions=6,\n",
    "    cat_col_map=[0,1,2],\n",
    "    num_col_map=[3,4,5],\n",
    "    bases=[2,2,2],\n",
    "    ad_tree=ad_tree,\n",
    "    cm_params=CMParameters(delta=delta, error_eps=abs_error_eps / len(retail_df)),\n",
    "    cat_index_parameters=BFParameters(n_values=len(retail_df)*4, p=0.01),\n",
    "    num_index_parameters=BFParameters(n_values=len(retail_df)*5, p=0.01),\n",
    "    region_index_parameters= BFParameters(n_values=len(retail_df)*(5+4), p=0.01),\n",
    "    epsilon=5.0\n",
    "    )\n",
    "p_sketch_dp.get_size()"
   ]
  },
  {
   "cell_type": "code",
   "execution_count": 110,
   "id": "caa19173",
   "metadata": {},
   "outputs": [
    {
     "name": "stderr",
     "output_type": "stream",
     "text": [
      "Updating: 100%|██████████| 541909/541909 [09:16<00:00, 973.82it/s] \n"
     ]
    },
    {
     "data": {
      "text/plain": [
       "<lib.pacha_sketch.PachaSketch at 0x77a5a3b581a0>"
      ]
     },
     "execution_count": 110,
     "metadata": {},
     "output_type": "execute_result"
    }
   ],
   "source": [
    "p_sketch_dp.update_data_frame(retail_df, workers=os.cpu_count())"
   ]
  },
  {
   "cell_type": "code",
   "execution_count": 111,
   "id": "08079df9",
   "metadata": {},
   "outputs": [
    {
     "name": "stdout",
     "output_type": "stream",
     "text": [
      "Computing true counts...\n"
     ]
    },
    {
     "name": "stderr",
     "output_type": "stream",
     "text": [
      "True Count: 100%|██████████| 200/200 [00:04<00:00, 40.12it/s]\n"
     ]
    },
    {
     "name": "stdout",
     "output_type": "stream",
     "text": [
      "Computing estimates...\n"
     ]
    },
    {
     "name": "stderr",
     "output_type": "stream",
     "text": [
      "Estimates: 100%|██████████| 200/200 [1:37:04<00:00, 29.12s/it]  \n"
     ]
    }
   ],
   "source": [
    "ps_results_2 = evaluate_queries(retail_df, queries[\"queries\"], p_sketch_dp, path_to_file=\"../results/real_world/online_retail_2_p_sketch_uniform_dp_5.csv\")"
   ]
  },
  {
   "cell_type": "code",
   "execution_count": null,
   "id": "465d0879",
   "metadata": {},
   "outputs": [],
   "source": [
    "ps_results_4 = evaluate_queries(retail_df, queries_4[\"queries\"], p_sketch_dp, path_to_file=\"../results/real_world/online_retail_4_p_sketch_uniform_dp_5.csv\")"
   ]
  },
  {
   "cell_type": "markdown",
   "id": "16a2ee13",
   "metadata": {},
   "source": [
    "# Baselines"
   ]
  },
  {
   "cell_type": "markdown",
   "id": "4c5bcdaf",
   "metadata": {},
   "source": [
    "## Central DP"
   ]
  },
  {
   "cell_type": "code",
   "execution_count": 89,
   "id": "9460bd02",
   "metadata": {},
   "outputs": [
    {
     "name": "stdout",
     "output_type": "stream",
     "text": [
      "Computing true counts...\n"
     ]
    },
    {
     "name": "stderr",
     "output_type": "stream",
     "text": [
      "True Count: 100%|██████████| 200/200 [00:05<00:00, 36.90it/s]\n"
     ]
    },
    {
     "name": "stdout",
     "output_type": "stream",
     "text": [
      "Computing estimates...\n"
     ]
    },
    {
     "name": "stderr",
     "output_type": "stream",
     "text": [
      "Estimates: 100%|██████████| 200/200 [00:05<00:00, 36.51it/s]\n"
     ]
    },
    {
     "name": "stdout",
     "output_type": "stream",
     "text": [
      "Computing true counts...\n"
     ]
    },
    {
     "name": "stderr",
     "output_type": "stream",
     "text": [
      "True Count: 100%|██████████| 200/200 [00:08<00:00, 22.98it/s]\n"
     ]
    },
    {
     "name": "stdout",
     "output_type": "stream",
     "text": [
      "Computing estimates...\n"
     ]
    },
    {
     "name": "stderr",
     "output_type": "stream",
     "text": [
      "Estimates: 100%|██████████| 200/200 [00:08<00:00, 24.92it/s]\n"
     ]
    }
   ],
   "source": [
    "epsilon = 5.0\n",
    "per_query_epsilon=epsilon/(len(queries[\"queries\"])+1)\n",
    "central_dp = CentralDPServer(retail_df, epsilon=epsilon, per_query_epsilon=per_query_epsilon)\n",
    "\n",
    "central_dp_results_2 = evaluate_queries_baselines(df=retail_df, queries=queries[\"queries\"], baseline=central_dp, path_to_file=\"../results/real_world/online_retail_2_central_dp_5.csv\")\n",
    "central_dp.reset_budget()\n",
    "central_dp_results_4 = evaluate_queries_baselines(df=retail_df, queries=queries_4[\"queries\"], baseline=central_dp, path_to_file=\"../results/real_world/online_retail_4_central_dp_5.csv\")\n",
    "central_dp.reset_budget()"
   ]
  },
  {
   "cell_type": "code",
   "execution_count": 90,
   "id": "7860951b",
   "metadata": {},
   "outputs": [
    {
     "data": {
      "text/html": [
       "<div>\n",
       "<style scoped>\n",
       "    .dataframe tbody tr th:only-of-type {\n",
       "        vertical-align: middle;\n",
       "    }\n",
       "\n",
       "    .dataframe tbody tr th {\n",
       "        vertical-align: top;\n",
       "    }\n",
       "\n",
       "    .dataframe thead th {\n",
       "        text-align: right;\n",
       "    }\n",
       "</style>\n",
       "<table border=\"1\" class=\"dataframe\">\n",
       "  <thead>\n",
       "    <tr style=\"text-align: right;\">\n",
       "      <th></th>\n",
       "      <th>absolute_error</th>\n",
       "      <th>normalized_error</th>\n",
       "      <th>relative_error</th>\n",
       "    </tr>\n",
       "  </thead>\n",
       "  <tbody>\n",
       "    <tr>\n",
       "      <th>count</th>\n",
       "      <td>200.000000</td>\n",
       "      <td>200.000000</td>\n",
       "      <td>200.000000</td>\n",
       "    </tr>\n",
       "    <tr>\n",
       "      <th>mean</th>\n",
       "      <td>41.945000</td>\n",
       "      <td>0.000077</td>\n",
       "      <td>0.010200</td>\n",
       "    </tr>\n",
       "    <tr>\n",
       "      <th>std</th>\n",
       "      <td>43.599271</td>\n",
       "      <td>0.000080</td>\n",
       "      <td>0.025772</td>\n",
       "    </tr>\n",
       "    <tr>\n",
       "      <th>min</th>\n",
       "      <td>0.000000</td>\n",
       "      <td>0.000000</td>\n",
       "      <td>0.000000</td>\n",
       "    </tr>\n",
       "    <tr>\n",
       "      <th>25%</th>\n",
       "      <td>12.000000</td>\n",
       "      <td>0.000022</td>\n",
       "      <td>0.000342</td>\n",
       "    </tr>\n",
       "    <tr>\n",
       "      <th>50%</th>\n",
       "      <td>32.000000</td>\n",
       "      <td>0.000059</td>\n",
       "      <td>0.002145</td>\n",
       "    </tr>\n",
       "    <tr>\n",
       "      <th>75%</th>\n",
       "      <td>58.250000</td>\n",
       "      <td>0.000107</td>\n",
       "      <td>0.009703</td>\n",
       "    </tr>\n",
       "    <tr>\n",
       "      <th>max</th>\n",
       "      <td>267.000000</td>\n",
       "      <td>0.000493</td>\n",
       "      <td>0.261324</td>\n",
       "    </tr>\n",
       "  </tbody>\n",
       "</table>\n",
       "</div>"
      ],
      "text/plain": [
       "       absolute_error  normalized_error  relative_error\n",
       "count      200.000000        200.000000      200.000000\n",
       "mean        41.945000          0.000077        0.010200\n",
       "std         43.599271          0.000080        0.025772\n",
       "min          0.000000          0.000000        0.000000\n",
       "25%         12.000000          0.000022        0.000342\n",
       "50%         32.000000          0.000059        0.002145\n",
       "75%         58.250000          0.000107        0.009703\n",
       "max        267.000000          0.000493        0.261324"
      ]
     },
     "execution_count": 90,
     "metadata": {},
     "output_type": "execute_result"
    }
   ],
   "source": [
    "central_dp_results_2[[\"absolute_error\",\"normalized_error\",\"relative_error\"]].describe()"
   ]
  },
  {
   "cell_type": "code",
   "execution_count": 91,
   "id": "052aff41",
   "metadata": {},
   "outputs": [
    {
     "name": "stderr",
     "output_type": "stream",
     "text": [
      "/home/rudi/.local/lib/python3.12/site-packages/pandas/core/nanops.py:1016: RuntimeWarning: invalid value encountered in subtract\n",
      "  sqr = _ensure_numeric((avg - values) ** 2)\n"
     ]
    },
    {
     "data": {
      "text/html": [
       "<div>\n",
       "<style scoped>\n",
       "    .dataframe tbody tr th:only-of-type {\n",
       "        vertical-align: middle;\n",
       "    }\n",
       "\n",
       "    .dataframe tbody tr th {\n",
       "        vertical-align: top;\n",
       "    }\n",
       "\n",
       "    .dataframe thead th {\n",
       "        text-align: right;\n",
       "    }\n",
       "</style>\n",
       "<table border=\"1\" class=\"dataframe\">\n",
       "  <thead>\n",
       "    <tr style=\"text-align: right;\">\n",
       "      <th></th>\n",
       "      <th>absolute_error</th>\n",
       "      <th>normalized_error</th>\n",
       "      <th>relative_error</th>\n",
       "    </tr>\n",
       "  </thead>\n",
       "  <tbody>\n",
       "    <tr>\n",
       "      <th>count</th>\n",
       "      <td>200.000000</td>\n",
       "      <td>200.000000</td>\n",
       "      <td>196.000000</td>\n",
       "    </tr>\n",
       "    <tr>\n",
       "      <th>mean</th>\n",
       "      <td>42.135000</td>\n",
       "      <td>0.000078</td>\n",
       "      <td>inf</td>\n",
       "    </tr>\n",
       "    <tr>\n",
       "      <th>std</th>\n",
       "      <td>41.330836</td>\n",
       "      <td>0.000076</td>\n",
       "      <td>NaN</td>\n",
       "    </tr>\n",
       "    <tr>\n",
       "      <th>min</th>\n",
       "      <td>0.000000</td>\n",
       "      <td>0.000000</td>\n",
       "      <td>0.000045</td>\n",
       "    </tr>\n",
       "    <tr>\n",
       "      <th>25%</th>\n",
       "      <td>11.750000</td>\n",
       "      <td>0.000022</td>\n",
       "      <td>0.010163</td>\n",
       "    </tr>\n",
       "    <tr>\n",
       "      <th>50%</th>\n",
       "      <td>28.000000</td>\n",
       "      <td>0.000052</td>\n",
       "      <td>0.029956</td>\n",
       "    </tr>\n",
       "    <tr>\n",
       "      <th>75%</th>\n",
       "      <td>60.000000</td>\n",
       "      <td>0.000111</td>\n",
       "      <td>0.092788</td>\n",
       "    </tr>\n",
       "    <tr>\n",
       "      <th>max</th>\n",
       "      <td>229.000000</td>\n",
       "      <td>0.000423</td>\n",
       "      <td>inf</td>\n",
       "    </tr>\n",
       "  </tbody>\n",
       "</table>\n",
       "</div>"
      ],
      "text/plain": [
       "       absolute_error  normalized_error  relative_error\n",
       "count      200.000000        200.000000      196.000000\n",
       "mean        42.135000          0.000078             inf\n",
       "std         41.330836          0.000076             NaN\n",
       "min          0.000000          0.000000        0.000045\n",
       "25%         11.750000          0.000022        0.010163\n",
       "50%         28.000000          0.000052        0.029956\n",
       "75%         60.000000          0.000111        0.092788\n",
       "max        229.000000          0.000423             inf"
      ]
     },
     "execution_count": 91,
     "metadata": {},
     "output_type": "execute_result"
    }
   ],
   "source": [
    "central_dp_results_4[[\"absolute_error\",\"normalized_error\",\"relative_error\"]].describe()"
   ]
  },
  {
   "cell_type": "markdown",
   "id": "1cf5d034",
   "metadata": {},
   "source": [
    "## Local DP"
   ]
  },
  {
   "cell_type": "code",
   "execution_count": 92,
   "id": "bc8d06f1",
   "metadata": {},
   "outputs": [
    {
     "name": "stdout",
     "output_type": "stream",
     "text": [
      "Computing true counts...\n"
     ]
    },
    {
     "name": "stderr",
     "output_type": "stream",
     "text": [
      "True Count:   0%|          | 0/200 [00:00<?, ?it/s]"
     ]
    },
    {
     "name": "stderr",
     "output_type": "stream",
     "text": [
      "True Count: 100%|██████████| 200/200 [00:04<00:00, 42.02it/s]\n"
     ]
    },
    {
     "name": "stdout",
     "output_type": "stream",
     "text": [
      "Computing estimates...\n"
     ]
    },
    {
     "name": "stderr",
     "output_type": "stream",
     "text": [
      "Estimates: 100%|██████████| 200/200 [00:06<00:00, 31.73it/s]\n"
     ]
    },
    {
     "name": "stdout",
     "output_type": "stream",
     "text": [
      "Computing true counts...\n"
     ]
    },
    {
     "name": "stderr",
     "output_type": "stream",
     "text": [
      "True Count: 100%|██████████| 200/200 [00:06<00:00, 29.51it/s]\n"
     ]
    },
    {
     "name": "stdout",
     "output_type": "stream",
     "text": [
      "Computing estimates...\n"
     ]
    },
    {
     "name": "stderr",
     "output_type": "stream",
     "text": [
      "Estimates: 100%|██████████| 200/200 [00:09<00:00, 21.67it/s]\n"
     ]
    }
   ],
   "source": [
    "epsilon = 5.0\n",
    "per_query_epsilon=epsilon/(len(queries[\"queries\"])+1)\n",
    "ldp = LDPServer(retail_df, epsilon=epsilon, number_of_partitions=10, per_query_epsilon=per_query_epsilon)\n",
    "\n",
    "ldp_results_2 = evaluate_queries_baselines(df=retail_df, queries=queries[\"queries\"], baseline=ldp, path_to_file=\"../results/real_world/online_retail_2_ldp_5.csv\")\n",
    "ldp.reset_budget()\n",
    "ldp_results_4 = evaluate_queries_baselines(df=retail_df, queries=queries_4[\"queries\"], baseline=ldp, path_to_file=\"../results/real_world/online_retail_4_ldp_5.csv\")\n",
    "ldp.reset_budget()"
   ]
  },
  {
   "cell_type": "code",
   "execution_count": 93,
   "id": "141e349d",
   "metadata": {},
   "outputs": [
    {
     "data": {
      "text/html": [
       "<div>\n",
       "<style scoped>\n",
       "    .dataframe tbody tr th:only-of-type {\n",
       "        vertical-align: middle;\n",
       "    }\n",
       "\n",
       "    .dataframe tbody tr th {\n",
       "        vertical-align: top;\n",
       "    }\n",
       "\n",
       "    .dataframe thead th {\n",
       "        text-align: right;\n",
       "    }\n",
       "</style>\n",
       "<table border=\"1\" class=\"dataframe\">\n",
       "  <thead>\n",
       "    <tr style=\"text-align: right;\">\n",
       "      <th></th>\n",
       "      <th>absolute_error</th>\n",
       "      <th>normalized_error</th>\n",
       "      <th>relative_error</th>\n",
       "    </tr>\n",
       "  </thead>\n",
       "  <tbody>\n",
       "    <tr>\n",
       "      <th>count</th>\n",
       "      <td>200.000000</td>\n",
       "      <td>200.000000</td>\n",
       "      <td>200.000000</td>\n",
       "    </tr>\n",
       "    <tr>\n",
       "      <th>mean</th>\n",
       "      <td>39521.200000</td>\n",
       "      <td>0.072930</td>\n",
       "      <td>0.840484</td>\n",
       "    </tr>\n",
       "    <tr>\n",
       "      <th>std</th>\n",
       "      <td>54223.788555</td>\n",
       "      <td>0.100061</td>\n",
       "      <td>0.209928</td>\n",
       "    </tr>\n",
       "    <tr>\n",
       "      <th>min</th>\n",
       "      <td>56.000000</td>\n",
       "      <td>0.000103</td>\n",
       "      <td>0.050088</td>\n",
       "    </tr>\n",
       "    <tr>\n",
       "      <th>25%</th>\n",
       "      <td>2936.250000</td>\n",
       "      <td>0.005418</td>\n",
       "      <td>0.794086</td>\n",
       "    </tr>\n",
       "    <tr>\n",
       "      <th>50%</th>\n",
       "      <td>5668.500000</td>\n",
       "      <td>0.010460</td>\n",
       "      <td>0.930375</td>\n",
       "    </tr>\n",
       "    <tr>\n",
       "      <th>75%</th>\n",
       "      <td>79390.000000</td>\n",
       "      <td>0.146501</td>\n",
       "      <td>0.977298</td>\n",
       "    </tr>\n",
       "    <tr>\n",
       "      <th>max</th>\n",
       "      <td>191591.000000</td>\n",
       "      <td>0.353548</td>\n",
       "      <td>1.000000</td>\n",
       "    </tr>\n",
       "  </tbody>\n",
       "</table>\n",
       "</div>"
      ],
      "text/plain": [
       "       absolute_error  normalized_error  relative_error\n",
       "count      200.000000        200.000000      200.000000\n",
       "mean     39521.200000          0.072930        0.840484\n",
       "std      54223.788555          0.100061        0.209928\n",
       "min         56.000000          0.000103        0.050088\n",
       "25%       2936.250000          0.005418        0.794086\n",
       "50%       5668.500000          0.010460        0.930375\n",
       "75%      79390.000000          0.146501        0.977298\n",
       "max     191591.000000          0.353548        1.000000"
      ]
     },
     "execution_count": 93,
     "metadata": {},
     "output_type": "execute_result"
    }
   ],
   "source": [
    "ldp_results_2[[\"absolute_error\",\"normalized_error\",\"relative_error\"]].describe()"
   ]
  },
  {
   "cell_type": "code",
   "execution_count": 94,
   "id": "0070971e",
   "metadata": {},
   "outputs": [
    {
     "name": "stderr",
     "output_type": "stream",
     "text": [
      "/home/rudi/.local/lib/python3.12/site-packages/pandas/core/nanops.py:1016: RuntimeWarning: invalid value encountered in subtract\n",
      "  sqr = _ensure_numeric((avg - values) ** 2)\n"
     ]
    },
    {
     "data": {
      "text/html": [
       "<div>\n",
       "<style scoped>\n",
       "    .dataframe tbody tr th:only-of-type {\n",
       "        vertical-align: middle;\n",
       "    }\n",
       "\n",
       "    .dataframe tbody tr th {\n",
       "        vertical-align: top;\n",
       "    }\n",
       "\n",
       "    .dataframe thead th {\n",
       "        text-align: right;\n",
       "    }\n",
       "</style>\n",
       "<table border=\"1\" class=\"dataframe\">\n",
       "  <thead>\n",
       "    <tr style=\"text-align: right;\">\n",
       "      <th></th>\n",
       "      <th>absolute_error</th>\n",
       "      <th>normalized_error</th>\n",
       "      <th>relative_error</th>\n",
       "    </tr>\n",
       "  </thead>\n",
       "  <tbody>\n",
       "    <tr>\n",
       "      <th>count</th>\n",
       "      <td>200.000000</td>\n",
       "      <td>200.000000</td>\n",
       "      <td>198.000000</td>\n",
       "    </tr>\n",
       "    <tr>\n",
       "      <th>mean</th>\n",
       "      <td>2883.770000</td>\n",
       "      <td>0.005322</td>\n",
       "      <td>inf</td>\n",
       "    </tr>\n",
       "    <tr>\n",
       "      <th>std</th>\n",
       "      <td>7874.113824</td>\n",
       "      <td>0.014530</td>\n",
       "      <td>NaN</td>\n",
       "    </tr>\n",
       "    <tr>\n",
       "      <th>min</th>\n",
       "      <td>0.000000</td>\n",
       "      <td>0.000000</td>\n",
       "      <td>0.141414</td>\n",
       "    </tr>\n",
       "    <tr>\n",
       "      <th>25%</th>\n",
       "      <td>347.750000</td>\n",
       "      <td>0.000642</td>\n",
       "      <td>0.885487</td>\n",
       "    </tr>\n",
       "    <tr>\n",
       "      <th>50%</th>\n",
       "      <td>836.500000</td>\n",
       "      <td>0.001544</td>\n",
       "      <td>0.998182</td>\n",
       "    </tr>\n",
       "    <tr>\n",
       "      <th>75%</th>\n",
       "      <td>1569.500000</td>\n",
       "      <td>0.002896</td>\n",
       "      <td>1.000000</td>\n",
       "    </tr>\n",
       "    <tr>\n",
       "      <th>max</th>\n",
       "      <td>45603.000000</td>\n",
       "      <td>0.084153</td>\n",
       "      <td>inf</td>\n",
       "    </tr>\n",
       "  </tbody>\n",
       "</table>\n",
       "</div>"
      ],
      "text/plain": [
       "       absolute_error  normalized_error  relative_error\n",
       "count      200.000000        200.000000      198.000000\n",
       "mean      2883.770000          0.005322             inf\n",
       "std       7874.113824          0.014530             NaN\n",
       "min          0.000000          0.000000        0.141414\n",
       "25%        347.750000          0.000642        0.885487\n",
       "50%        836.500000          0.001544        0.998182\n",
       "75%       1569.500000          0.002896        1.000000\n",
       "max      45603.000000          0.084153             inf"
      ]
     },
     "execution_count": 94,
     "metadata": {},
     "output_type": "execute_result"
    }
   ],
   "source": [
    "ldp_results_4[[\"absolute_error\",\"normalized_error\",\"relative_error\"]].describe()"
   ]
  },
  {
   "cell_type": "markdown",
   "id": "1aa65f9d",
   "metadata": {},
   "source": [
    "## Local DP - GRR"
   ]
  },
  {
   "cell_type": "code",
   "execution_count": 95,
   "id": "2fabf48f",
   "metadata": {},
   "outputs": [
    {
     "name": "stderr",
     "output_type": "stream",
     "text": [
      "Privatizing rows: 100%|██████████| 541909/541909 [02:38<00:00, 3429.36it/s]\n"
     ]
    },
    {
     "name": "stdout",
     "output_type": "stream",
     "text": [
      "Computing true counts...\n"
     ]
    },
    {
     "name": "stderr",
     "output_type": "stream",
     "text": [
      "True Count: 100%|██████████| 200/200 [00:05<00:00, 36.36it/s]\n"
     ]
    },
    {
     "name": "stdout",
     "output_type": "stream",
     "text": [
      "Computing estimates...\n"
     ]
    },
    {
     "name": "stderr",
     "output_type": "stream",
     "text": [
      "Estimates: 100%|██████████| 200/200 [00:07<00:00, 27.63it/s]\n"
     ]
    },
    {
     "name": "stdout",
     "output_type": "stream",
     "text": [
      "Computing true counts...\n"
     ]
    },
    {
     "name": "stderr",
     "output_type": "stream",
     "text": [
      "True Count: 100%|██████████| 200/200 [00:07<00:00, 26.52it/s]\n"
     ]
    },
    {
     "name": "stdout",
     "output_type": "stream",
     "text": [
      "Computing estimates...\n"
     ]
    },
    {
     "name": "stderr",
     "output_type": "stream",
     "text": [
      "Estimates: 100%|██████████| 200/200 [00:11<00:00, 17.18it/s]\n"
     ]
    }
   ],
   "source": [
    "epsilon = 5.0\n",
    "categorical_domains, numerical_ranges = infer_domains_and_ranges(retail_df)\n",
    "\n",
    "grr = LDPEncoderGRR(df=retail_df, epsilon=epsilon, categorical_domains=categorical_domains, numerical_ranges=numerical_ranges)\n",
    "\n",
    "grr_results_2 = evaluate_queries_baselines(df=retail_df, queries=queries[\"queries\"], baseline=grr, path_to_file=\"../results/real_world/online_retail_2_grr_5.csv\")\n",
    "grr_results_4 = evaluate_queries_baselines(df=retail_df, queries=queries_4[\"queries\"], baseline=grr, path_to_file=\"../results/real_world/online_retail_4_grr_5.csv\")"
   ]
  },
  {
   "cell_type": "code",
   "execution_count": 96,
   "id": "44b7a5cd",
   "metadata": {},
   "outputs": [
    {
     "data": {
      "text/html": [
       "<div>\n",
       "<style scoped>\n",
       "    .dataframe tbody tr th:only-of-type {\n",
       "        vertical-align: middle;\n",
       "    }\n",
       "\n",
       "    .dataframe tbody tr th {\n",
       "        vertical-align: top;\n",
       "    }\n",
       "\n",
       "    .dataframe thead th {\n",
       "        text-align: right;\n",
       "    }\n",
       "</style>\n",
       "<table border=\"1\" class=\"dataframe\">\n",
       "  <thead>\n",
       "    <tr style=\"text-align: right;\">\n",
       "      <th></th>\n",
       "      <th>absolute_error</th>\n",
       "      <th>normalized_error</th>\n",
       "      <th>relative_error</th>\n",
       "    </tr>\n",
       "  </thead>\n",
       "  <tbody>\n",
       "    <tr>\n",
       "      <th>count</th>\n",
       "      <td>200.000000</td>\n",
       "      <td>200.000000</td>\n",
       "      <td>200.000000</td>\n",
       "    </tr>\n",
       "    <tr>\n",
       "      <th>mean</th>\n",
       "      <td>44468.655000</td>\n",
       "      <td>0.082059</td>\n",
       "      <td>0.930654</td>\n",
       "    </tr>\n",
       "    <tr>\n",
       "      <th>std</th>\n",
       "      <td>62673.184972</td>\n",
       "      <td>0.115653</td>\n",
       "      <td>0.257347</td>\n",
       "    </tr>\n",
       "    <tr>\n",
       "      <th>min</th>\n",
       "      <td>16.000000</td>\n",
       "      <td>0.000030</td>\n",
       "      <td>0.042328</td>\n",
       "    </tr>\n",
       "    <tr>\n",
       "      <th>25%</th>\n",
       "      <td>3323.750000</td>\n",
       "      <td>0.006133</td>\n",
       "      <td>0.887105</td>\n",
       "    </tr>\n",
       "    <tr>\n",
       "      <th>50%</th>\n",
       "      <td>6230.500000</td>\n",
       "      <td>0.011497</td>\n",
       "      <td>0.960060</td>\n",
       "    </tr>\n",
       "    <tr>\n",
       "      <th>75%</th>\n",
       "      <td>83535.000000</td>\n",
       "      <td>0.154149</td>\n",
       "      <td>0.987321</td>\n",
       "    </tr>\n",
       "    <tr>\n",
       "      <th>max</th>\n",
       "      <td>219330.000000</td>\n",
       "      <td>0.404736</td>\n",
       "      <td>4.100422</td>\n",
       "    </tr>\n",
       "  </tbody>\n",
       "</table>\n",
       "</div>"
      ],
      "text/plain": [
       "       absolute_error  normalized_error  relative_error\n",
       "count      200.000000        200.000000      200.000000\n",
       "mean     44468.655000          0.082059        0.930654\n",
       "std      62673.184972          0.115653        0.257347\n",
       "min         16.000000          0.000030        0.042328\n",
       "25%       3323.750000          0.006133        0.887105\n",
       "50%       6230.500000          0.011497        0.960060\n",
       "75%      83535.000000          0.154149        0.987321\n",
       "max     219330.000000          0.404736        4.100422"
      ]
     },
     "execution_count": 96,
     "metadata": {},
     "output_type": "execute_result"
    }
   ],
   "source": [
    "grr_results_2[[\"absolute_error\",\"normalized_error\",\"relative_error\"]].describe()"
   ]
  },
  {
   "cell_type": "code",
   "execution_count": 97,
   "id": "12fdde2c",
   "metadata": {},
   "outputs": [
    {
     "name": "stderr",
     "output_type": "stream",
     "text": [
      "/home/rudi/.local/lib/python3.12/site-packages/pandas/core/nanops.py:1016: RuntimeWarning: invalid value encountered in subtract\n",
      "  sqr = _ensure_numeric((avg - values) ** 2)\n"
     ]
    },
    {
     "data": {
      "text/html": [
       "<div>\n",
       "<style scoped>\n",
       "    .dataframe tbody tr th:only-of-type {\n",
       "        vertical-align: middle;\n",
       "    }\n",
       "\n",
       "    .dataframe tbody tr th {\n",
       "        vertical-align: top;\n",
       "    }\n",
       "\n",
       "    .dataframe thead th {\n",
       "        text-align: right;\n",
       "    }\n",
       "</style>\n",
       "<table border=\"1\" class=\"dataframe\">\n",
       "  <thead>\n",
       "    <tr style=\"text-align: right;\">\n",
       "      <th></th>\n",
       "      <th>absolute_error</th>\n",
       "      <th>normalized_error</th>\n",
       "      <th>relative_error</th>\n",
       "    </tr>\n",
       "  </thead>\n",
       "  <tbody>\n",
       "    <tr>\n",
       "      <th>count</th>\n",
       "      <td>200.000000</td>\n",
       "      <td>200.000000</td>\n",
       "      <td>196.00000</td>\n",
       "    </tr>\n",
       "    <tr>\n",
       "      <th>mean</th>\n",
       "      <td>2962.560000</td>\n",
       "      <td>0.005467</td>\n",
       "      <td>inf</td>\n",
       "    </tr>\n",
       "    <tr>\n",
       "      <th>std</th>\n",
       "      <td>7907.365946</td>\n",
       "      <td>0.014592</td>\n",
       "      <td>NaN</td>\n",
       "    </tr>\n",
       "    <tr>\n",
       "      <th>min</th>\n",
       "      <td>0.000000</td>\n",
       "      <td>0.000000</td>\n",
       "      <td>0.00000</td>\n",
       "    </tr>\n",
       "    <tr>\n",
       "      <th>25%</th>\n",
       "      <td>413.250000</td>\n",
       "      <td>0.000763</td>\n",
       "      <td>0.99875</td>\n",
       "    </tr>\n",
       "    <tr>\n",
       "      <th>50%</th>\n",
       "      <td>963.500000</td>\n",
       "      <td>0.001778</td>\n",
       "      <td>1.00000</td>\n",
       "    </tr>\n",
       "    <tr>\n",
       "      <th>75%</th>\n",
       "      <td>1700.750000</td>\n",
       "      <td>0.003138</td>\n",
       "      <td>1.00000</td>\n",
       "    </tr>\n",
       "    <tr>\n",
       "      <th>max</th>\n",
       "      <td>45572.000000</td>\n",
       "      <td>0.084095</td>\n",
       "      <td>inf</td>\n",
       "    </tr>\n",
       "  </tbody>\n",
       "</table>\n",
       "</div>"
      ],
      "text/plain": [
       "       absolute_error  normalized_error  relative_error\n",
       "count      200.000000        200.000000       196.00000\n",
       "mean      2962.560000          0.005467             inf\n",
       "std       7907.365946          0.014592             NaN\n",
       "min          0.000000          0.000000         0.00000\n",
       "25%        413.250000          0.000763         0.99875\n",
       "50%        963.500000          0.001778         1.00000\n",
       "75%       1700.750000          0.003138         1.00000\n",
       "max      45572.000000          0.084095             inf"
      ]
     },
     "execution_count": 97,
     "metadata": {},
     "output_type": "execute_result"
    }
   ],
   "source": [
    "grr_results_4[[\"absolute_error\",\"normalized_error\",\"relative_error\"]].describe()"
   ]
  },
  {
   "cell_type": "markdown",
   "id": "cc2a9620",
   "metadata": {},
   "source": [
    "# Plots"
   ]
  },
  {
   "cell_type": "code",
   "execution_count": 124,
   "id": "21acbe5b",
   "metadata": {},
   "outputs": [
    {
     "name": "stdout",
     "output_type": "stream",
     "text": [
      "Categorical regions: 125\n",
      "Indexed categorical regions: 125\n",
      "Numerical regions: 1396\n",
      "Indexed numerical regions: 947\n",
      "Candidate regions: 118375\n",
      "Query regions: 15636\n",
      "Level 0 queries: 531\n",
      "Level 1 queries: 2012\n",
      "Level 2 queries: 3145\n",
      "Level 3 queries: 9948\n",
      "Estimate: 122753\n"
     ]
    },
    {
     "data": {
      "text/plain": [
       "(122753,\n",
       " {'cat_regions': 125,\n",
       "  'num_regions': 947,\n",
       "  'query_regions': 15636,\n",
       "  'queries_per_level': [531, 2012, 3145, 9948, 0]})"
      ]
     },
     "execution_count": 124,
     "metadata": {},
     "output_type": "execute_result"
    }
   ],
   "source": [
    "p_sketch.query(queries[\"queries\"][0], True, True)"
   ]
  },
  {
   "cell_type": "code",
   "execution_count": 123,
   "id": "fe075f2a",
   "metadata": {},
   "outputs": [
    {
     "data": {
      "text/plain": [
       "[['226'], '*', '*', [93, 170], '*', '*']"
      ]
     },
     "execution_count": 123,
     "metadata": {},
     "output_type": "execute_result"
    }
   ],
   "source": [
    "queries[\"queries\"][1]"
   ]
  },
  {
   "cell_type": "code",
   "execution_count": 120,
   "id": "7eddce7f",
   "metadata": {},
   "outputs": [
    {
     "data": {
      "text/html": [
       "<div>\n",
       "<style scoped>\n",
       "    .dataframe tbody tr th:only-of-type {\n",
       "        vertical-align: middle;\n",
       "    }\n",
       "\n",
       "    .dataframe tbody tr th {\n",
       "        vertical-align: top;\n",
       "    }\n",
       "\n",
       "    .dataframe thead th {\n",
       "        text-align: right;\n",
       "    }\n",
       "</style>\n",
       "<table border=\"1\" class=\"dataframe\">\n",
       "  <thead>\n",
       "    <tr style=\"text-align: right;\">\n",
       "      <th></th>\n",
       "      <th>date</th>\n",
       "      <th>age</th>\n",
       "      <th>total</th>\n",
       "    </tr>\n",
       "  </thead>\n",
       "  <tbody>\n",
       "    <tr>\n",
       "      <th>count</th>\n",
       "      <td>541909.000000</td>\n",
       "      <td>541909.000000</td>\n",
       "      <td>541909.000000</td>\n",
       "    </tr>\n",
       "    <tr>\n",
       "      <th>mean</th>\n",
       "      <td>151.535738</td>\n",
       "      <td>35.104582</td>\n",
       "      <td>20.881216</td>\n",
       "    </tr>\n",
       "    <tr>\n",
       "      <th>std</th>\n",
       "      <td>88.132067</td>\n",
       "      <td>7.753374</td>\n",
       "      <td>378.638866</td>\n",
       "    </tr>\n",
       "    <tr>\n",
       "      <th>min</th>\n",
       "      <td>0.000000</td>\n",
       "      <td>18.000000</td>\n",
       "      <td>0.000000</td>\n",
       "    </tr>\n",
       "    <tr>\n",
       "      <th>25%</th>\n",
       "      <td>74.000000</td>\n",
       "      <td>31.000000</td>\n",
       "      <td>3.000000</td>\n",
       "    </tr>\n",
       "    <tr>\n",
       "      <th>50%</th>\n",
       "      <td>150.000000</td>\n",
       "      <td>34.000000</td>\n",
       "      <td>9.000000</td>\n",
       "    </tr>\n",
       "    <tr>\n",
       "      <th>75%</th>\n",
       "      <td>228.000000</td>\n",
       "      <td>39.000000</td>\n",
       "      <td>17.000000</td>\n",
       "    </tr>\n",
       "    <tr>\n",
       "      <th>max</th>\n",
       "      <td>304.000000</td>\n",
       "      <td>71.000000</td>\n",
       "      <td>168469.000000</td>\n",
       "    </tr>\n",
       "  </tbody>\n",
       "</table>\n",
       "</div>"
      ],
      "text/plain": [
       "                date            age          total\n",
       "count  541909.000000  541909.000000  541909.000000\n",
       "mean      151.535738      35.104582      20.881216\n",
       "std        88.132067       7.753374     378.638866\n",
       "min         0.000000      18.000000       0.000000\n",
       "25%        74.000000      31.000000       3.000000\n",
       "50%       150.000000      34.000000       9.000000\n",
       "75%       228.000000      39.000000      17.000000\n",
       "max       304.000000      71.000000  168469.000000"
      ]
     },
     "execution_count": 120,
     "metadata": {},
     "output_type": "execute_result"
    }
   ],
   "source": [
    "retail_df.describe()"
   ]
  },
  {
   "cell_type": "code",
   "execution_count": 129,
   "id": "45614ff3",
   "metadata": {},
   "outputs": [
    {
     "data": {
      "image/png": "[encoded data removed]",
      "text/plain": [
       "<Figure size 576x432 with 1 Axes>"
      ]
     },
     "metadata": {
      "needs_background": "light"
     },
     "output_type": "display_data"
    }
   ],
   "source": [
    "# Label the sources as '2' and '4' (corresponding to number of predicates)\n",
    "results_df['approach'] = 'Pacha Sketch'\n",
    "ps_results_2['approach'] = 'Pacha Sketch - DP'\n",
    "central_dp_results_2['approach'] = 'Central DP'\n",
    "ldp_results_2['approach'] = 'Local DP'\n",
    "grr_results_2['approach'] = 'Local DP - GRR'\n",
    "\n",
    "custom_palette = {\n",
    "    'Pacha Sketch': 'tab:blue',\n",
    "    'Pacha Sketch - DP': 'tab:purple', \n",
    "    'Central DP': 'tab:orange',\n",
    "    'Local DP': 'tab:green',\n",
    "    'Local DP - GRR': 'tab:red'\n",
    "    }\n",
    "\n",
    "# Combine the DataFrames\n",
    "combined_df = pd.concat([results_df,ps_results_2, central_dp_results_2, ldp_results_2, grr_results_2], ignore_index=True)\n",
    "\n",
    "# Create the boxplot\n",
    "plt.figure(figsize=(8, 6))\n",
    "sns.boxplot(x='approach', y='normalized_error', hue='approach', data=combined_df, palette=custom_palette)\n",
    "\n",
    "# Set axis labels and title\n",
    "plt.xlabel('Approach')\n",
    "plt.ylabel('Normalized Error')\n",
    "plt.title('Comparison of Normalized Error by Approach')\n",
    "plt.grid(True)\n",
    "plt.tight_layout()\n",
    "# plt.yscale('log')  \n",
    "plt.show()"
   ]
  },
  {
   "cell_type": "code",
   "execution_count": 119,
   "id": "7a4930f1",
   "metadata": {},
   "outputs": [
    {
     "data": {
      "text/plain": [
       "array([[ 125,    3,    0,  -77,  -25,    0,   18,   37,  -11,  -81],\n",
       "       [ -22,   68,  -34,   -4,   79, -120,    9,   92,  -31,    4],\n",
       "       [  68,  -53,    2,   28,   17,   -3,  -36,   -1,  -12,   -2]])"
      ]
     },
     "execution_count": 119,
     "metadata": {},
     "output_type": "execute_result"
    }
   ],
   "source": [
    "CMParameters(width=10, depth=3, epsilon=5.0/200.0).build_sketch().counters"
   ]
  },
  {
   "cell_type": "code",
   "execution_count": 116,
   "id": "e26cec0e",
   "metadata": {},
   "outputs": [
    {
     "data": {
      "image/png": "[encoded data removed]",
      "text/plain": [
       "<Figure size 576x360 with 1 Axes>"
      ]
     },
     "metadata": {
      "needs_background": "light"
     },
     "output_type": "display_data"
    }
   ],
   "source": [
    "from scipy.stats import laplace\n",
    "\n",
    "eps = 0.1  # example epsilon, you can change this value\n",
    "b = 1 / eps\n",
    "x_vals = np.linspace(0, 5, 500)\n",
    "pdf_vals = laplace.pdf(x_vals, loc=0, scale=b)\n",
    "\n",
    "plt.figure(figsize=(8, 5))\n",
    "plt.plot(x_vals, pdf_vals, label=f'Lap(0, 1/ε), ε={eps}')\n",
    "plt.xlabel('x')\n",
    "plt.ylabel('Probability Density')\n",
    "plt.title('Laplace Distribution PDF for Lap(0, 1/ε)')\n",
    "plt.grid(True)\n",
    "plt.legend()\n",
    "plt.show()"
   ]
  },
  {
   "cell_type": "code",
   "execution_count": 100,
   "id": "01629bbc",
   "metadata": {},
   "outputs": [
    {
     "data": {
      "image/png": "[encoded data removed]",
      "text/plain": [
       "<Figure size 576x432 with 1 Axes>"
      ]
     },
     "metadata": {
      "needs_background": "light"
     },
     "output_type": "display_data"
    }
   ],
   "source": [
    "# Label the sources as '2' and '4' (corresponding to number of predicates)\n",
    "results_df_4['approach'] = 'Pacha Sketch'\n",
    "central_dp_results_4['approach'] = 'Central DP'\n",
    "ldp_results_4['approach'] = 'Local DP'\n",
    "grr_results_4['approach'] = 'Local DP - GRR'\n",
    "\n",
    "custom_palette = {\n",
    "    'Pacha Sketch': 'tab:blue', \n",
    "    'Central DP': 'tab:orange',\n",
    "    'Local DP': 'tab:green',\n",
    "    'Local DP - GRR': 'tab:red'\n",
    "    }\n",
    "\n",
    "# Combine the DataFrames\n",
    "combined_df = pd.concat([results_df_4, central_dp_results_4, ldp_results_4, grr_results_4], ignore_index=True)\n",
    "\n",
    "# Create the boxplot\n",
    "plt.figure(figsize=(8, 6))\n",
    "sns.boxplot(x='approach', y='normalized_error', hue='approach', data=combined_df, palette=custom_palette)\n",
    "\n",
    "# Set axis labels and title\n",
    "plt.xlabel('Approach')\n",
    "plt.ylabel('Normalized Error')\n",
    "plt.title('Comparison of Normalized Error by Approach')\n",
    "plt.grid(True)\n",
    "plt.tight_layout()\n",
    "plt.yscale('log')  \n",
    "plt.show()"
   ]
  },
  {
   "cell_type": "markdown",
   "id": "d9c6c93a",
   "metadata": {},
   "source": [
    "# Performance Improvements"
   ]
  },
  {
   "cell_type": "code",
   "execution_count": 176,
   "id": "312dd425",
   "metadata": {},
   "outputs": [],
   "source": [
    "p_sketch_new = PachaSketch.build_with_uniform_size(\n",
    "    levels=5,\n",
    "    num_dimensions=6,\n",
    "    cat_col_map=[0,1,2],\n",
    "    num_col_map=[3,4,5],\n",
    "    bases=[2,2,2],\n",
    "    ad_tree=ad_tree,\n",
    "    cm_params=CMParameters(delta=delta, error_eps=abs_error_eps / len(retail_df)),\n",
    "    cat_index_parameters=BFParameters(n_values=len(retail_df)*4, p=0.01),\n",
    "    num_index_parameters=BFParameters(n_values=len(retail_df)*5, p=0.01),\n",
    "    region_index_parameters= BFParameters(n_values=len(retail_df)*(5+4), p=0.01))"
   ]
  },
  {
   "cell_type": "code",
   "execution_count": 177,
   "id": "874559b0",
   "metadata": {},
   "outputs": [],
   "source": [
    "p_sketch_new.numerical_bitmaps = p_sketch.numerical_bitmaps"
   ]
  },
  {
   "cell_type": "code",
   "execution_count": null,
   "id": "31c0da1e",
   "metadata": {},
   "outputs": [],
   "source": [
    "b_cubes = p_sketch.minimal_spatial_b_adic_cover([[93, 170], (18, 71), (0, 168469)])\n"
   ]
  },
  {
   "cell_type": "code",
   "execution_count": 178,
   "id": "f7b610f6",
   "metadata": {},
   "outputs": [
    {
     "name": "stdout",
     "output_type": "stream",
     "text": [
      "Old method time: 7.675838 seconds\n",
      "New method time: 4.903668 seconds\n",
      "Results equivalent: [ True  True  True ...  True  True  True]\n"
     ]
    }
   ],
   "source": [
    "import time\n",
    "\n",
    "# Define the test input\n",
    "test_region = [[93, 170], (18, 71), (0, 168469)]\n",
    "\n",
    "# Time the original method\n",
    "start_time = time.time()\n",
    "result_old = p_sketch.minimal_spatial_b_adic_cover(test_region)\n",
    "old_time = time.time() - start_time\n",
    "\n",
    "# Time the new method\n",
    "start_time = time.time()\n",
    "result_new = p_sketch_new.new_minimal_spatial_b_adic_cover(test_region)\n",
    "new_time = time.time() - start_time\n",
    "\n",
    "# Compare results for equivalence\n",
    "are_equivalent = (result_old == result_new)\n",
    "\n",
    "print(f\"Old method time: {old_time:.6f} seconds\")\n",
    "print(f\"New method time: {new_time:.6f} seconds\")\n",
    "print(f\"Results equivalent: {are_equivalent}\")\n"
   ]
  },
  {
   "cell_type": "code",
   "execution_count": null,
   "id": "15a1bf51",
   "metadata": {},
   "outputs": [],
   "source": []
  }
 ],
 "metadata": {
  "kernelspec": {
   "display_name": "Python 3",
   "language": "python",
   "name": "python3"
  },
  "language_info": {
   "codemirror_mode": {
    "name": "ipython",
    "version": 3
   },
   "file_extension": ".py",
   "mimetype": "text/x-python",
   "name": "python",
   "nbconvert_exporter": "python",
   "pygments_lexer": "ipython3",
   "version": "3.12.3"
  }
 },
 "nbformat": 4,
 "nbformat_minor": 5
}
