{
 "cells": [
  {
   "cell_type": "code",
   "execution_count": 11,
   "id": "63b27858",
   "metadata": {},
   "outputs": [],
   "source": [
    "import sys\n",
    "# append the path of the parent directory\n",
    "sys.path.append(\"..\")"
   ]
  },
  {
   "cell_type": "code",
   "execution_count": null,
   "id": "98217a93",
   "metadata": {},
   "outputs": [],
   "source": [
    "import math\n",
    "import os\n",
    "import time\n",
    "\n",
    "\n",
    "import numpy as np\n",
    "np.set_printoptions(legacy='1.25')\n",
    "\n",
    "import matplotlib.pyplot as plt\n",
    "from matplotlib.patches import Rectangle\n",
    "import matplotlib.patches as patches\n",
    "\n",
    "import seaborn as sns\n",
    "import time\n",
    "import json\n",
    "import pandas as pd\n",
    "from ctypes import c_int32\n",
    "from itertools import product\n",
    "import copy\n",
    "\n",
    "\n",
    "from tqdm import tqdm\n",
    "\n",
    "from scipy.stats import pearsonr\n",
    "from importlib import reload\n",
    "\n",
    "import orjson\n",
    "import gzip\n",
    "\n",
    "\n",
    "\n",
    "from lib import sketches, visualization_utils, encoders, ploting, pacha_sketch\n",
    "reload(ploting)\n",
    "reload(sketches)\n",
    "reload(visualization_utils)\n",
    "reload(encoders)\n",
    "\n",
    "reload(pacha_sketch)\n",
    "\n",
    "from lib.sketches import BloomFilter, CountMinSketch, H3HashFunctions, HashFunctionFamily,\\\n",
    "      CountMinSketchHadamard, CountMinSketchLocalHashing, deterministic_hash, simple_deterministic_hash\n",
    "from lib.visualization_utils import visualize_badic_cover, plot_b_adic_cubes\n",
    "from lib.encoders import minimal_b_adic_cover, minimal_spatial_b_adic_cover, BAdicCube, BAdicRange\n",
    "from lib.pacha_sketch import PachaSketch, ADTree, BFParameters, CMParameters\n",
    "\n",
    "from lib.ploting import set_style, plot_ylabel, plot_legend\n",
    "\n",
    "from lib import baselines\n",
    "reload(baselines)\n",
    "\n",
    "from lib.baselines import CentralDPServer, LDPServer, LDPEncoderGRR, filter_df, query_df, \\\n",
    "      infer_domains_and_ranges, translate_query_region, evaluate_queries, check_accruracy, \\\n",
    "      evaluate_queries_baselines\n",
    "\n",
    "# set_style()"
   ]
  },
  {
   "cell_type": "code",
   "execution_count": 13,
   "id": "09ff309f",
   "metadata": {},
   "outputs": [],
   "source": [
    "delta = 0.05\n",
    "abs_error_eps = 1.0"
   ]
  },
  {
   "cell_type": "markdown",
   "id": "857f97a6",
   "metadata": {},
   "source": [
    "# Online Retail"
   ]
  },
  {
   "cell_type": "code",
   "execution_count": 14,
   "id": "91ec14ce",
   "metadata": {},
   "outputs": [],
   "source": [
    "retail_df = pd.read_parquet(\"../data/clean/online_retail.parquet\")"
   ]
  },
  {
   "cell_type": "code",
   "execution_count": 15,
   "id": "5adead49",
   "metadata": {},
   "outputs": [],
   "source": [
    "query_path = \"../queries/online_retail_2_cols.json\"\n",
    "with open(query_path, 'rb') as f:\n",
    "    queries = orjson.loads(f.read())\n",
    "\n",
    "ad_tree = ADTree.from_json(\"../sketches/ad_trees/online_retail.json\")\n"
   ]
  },
  {
   "cell_type": "code",
   "execution_count": 21,
   "id": "221d454b",
   "metadata": {},
   "outputs": [
    {
     "data": {
      "text/plain": [
       "95.50641822814941"
      ]
     },
     "execution_count": 21,
     "metadata": {},
     "output_type": "execute_result"
    }
   ],
   "source": [
    "p_sketch = PachaSketch.build_with_uniform_size(\n",
    "    levels=5,\n",
    "    num_dimensions=6,\n",
    "    cat_col_map=[0,1,2],\n",
    "    num_col_map=[3,4,5],\n",
    "    bases=[2,2,2],\n",
    "    ad_tree=ad_tree,\n",
    "    cm_params=CMParameters(delta=delta, error_eps=abs_error_eps / len(retail_df)),\n",
    "    cat_index_parameters=BFParameters(n_values=len(retail_df)*4, p=0.01),\n",
    "    num_index_parameters=BFParameters(n_values=len(retail_df)*5, p=0.01),\n",
    "    region_index_parameters= BFParameters(n_values=len(retail_df)*(5+4), p=0.01))\n",
    "p_sketch.get_size()"
   ]
  },
  {
   "cell_type": "code",
   "execution_count": 22,
   "id": "459cb769",
   "metadata": {},
   "outputs": [
    {
     "name": "stderr",
     "output_type": "stream",
     "text": [
      "Updating: 100%|██████████| 541909/541909 [04:18<00:00, 2093.36it/s]\n"
     ]
    },
    {
     "data": {
      "text/plain": [
       "<lib.pacha_sketch.PachaSketch at 0x77a6f4a3b7d0>"
      ]
     },
     "execution_count": 22,
     "metadata": {},
     "output_type": "execute_result"
    }
   ],
   "source": [
    "p_sketch.update_data_frame(retail_df, workers=os.cpu_count())"
   ]
  },
  {
   "cell_type": "code",
   "execution_count": 44,
   "id": "be8b1ea2",
   "metadata": {},
   "outputs": [],
   "source": [
    "p_sketch.save_to_file(\"../sketches/real_world/online_retail_uniform.json.gz\")"
   ]
  },
  {
   "cell_type": "code",
   "execution_count": null,
   "id": "ec40b350",
   "metadata": {},
   "outputs": [],
   "source": [
    "p_sketch2 = PachaSketch.from_json(\"../sketches/real_world/online_retail_uniform.json.gz\")"
   ]
  },
  {
   "cell_type": "code",
   "execution_count": null,
   "id": "fbae23fd",
   "metadata": {},
   "outputs": [
    {
     "name": "stdout",
     "output_type": "stream",
     "text": [
      "Computing true counts...\n"
     ]
    },
    {
     "name": "stderr",
     "output_type": "stream",
     "text": [
      "True Count: 100%|██████████| 200/200 [00:04<00:00, 43.34it/s]\n"
     ]
    },
    {
     "name": "stdout",
     "output_type": "stream",
     "text": [
      "Computing estimates...\n"
     ]
    },
    {
     "name": "stderr",
     "output_type": "stream",
     "text": [
      "Estimates: 100%|██████████| 200/200 [23:24<00:00,  7.02s/it]\n"
     ]
    }
   ],
   "source": [
    "results_df = evaluate_queries(retail_df, queries[\"queries\"], p_sketch, path_to_file=\"../results/real_world/online_retail_2_p_sketch_uniform.csv\")"
   ]
  },
  {
   "cell_type": "code",
   "execution_count": 64,
   "id": "0dd2f38e",
   "metadata": {},
   "outputs": [
    {
     "data": {
      "text/html": [
       "<div>\n",
       "<style scoped>\n",
       "    .dataframe tbody tr th:only-of-type {\n",
       "        vertical-align: middle;\n",
       "    }\n",
       "\n",
       "    .dataframe tbody tr th {\n",
       "        vertical-align: top;\n",
       "    }\n",
       "\n",
       "    .dataframe thead th {\n",
       "        text-align: right;\n",
       "    }\n",
       "</style>\n",
       "<table border=\"1\" class=\"dataframe\">\n",
       "  <thead>\n",
       "    <tr style=\"text-align: right;\">\n",
       "      <th></th>\n",
       "      <th>absolute_error</th>\n",
       "      <th>normalized_error</th>\n",
       "      <th>relative_error</th>\n",
       "      <th>query_regions</th>\n",
       "    </tr>\n",
       "  </thead>\n",
       "  <tbody>\n",
       "    <tr>\n",
       "      <th>count</th>\n",
       "      <td>200.000000</td>\n",
       "      <td>200.000000</td>\n",
       "      <td>200.000000</td>\n",
       "      <td>200.000000</td>\n",
       "    </tr>\n",
       "    <tr>\n",
       "      <th>mean</th>\n",
       "      <td>1495.020000</td>\n",
       "      <td>0.002759</td>\n",
       "      <td>0.030890</td>\n",
       "      <td>13075.100000</td>\n",
       "    </tr>\n",
       "    <tr>\n",
       "      <th>std</th>\n",
       "      <td>3284.357086</td>\n",
       "      <td>0.006061</td>\n",
       "      <td>0.039216</td>\n",
       "      <td>22529.014215</td>\n",
       "    </tr>\n",
       "    <tr>\n",
       "      <th>min</th>\n",
       "      <td>3.000000</td>\n",
       "      <td>0.000006</td>\n",
       "      <td>0.003227</td>\n",
       "      <td>113.000000</td>\n",
       "    </tr>\n",
       "    <tr>\n",
       "      <th>25%</th>\n",
       "      <td>34.750000</td>\n",
       "      <td>0.000064</td>\n",
       "      <td>0.007233</td>\n",
       "      <td>546.750000</td>\n",
       "    </tr>\n",
       "    <tr>\n",
       "      <th>50%</th>\n",
       "      <td>206.000000</td>\n",
       "      <td>0.000380</td>\n",
       "      <td>0.012420</td>\n",
       "      <td>1768.000000</td>\n",
       "    </tr>\n",
       "    <tr>\n",
       "      <th>75%</th>\n",
       "      <td>862.250000</td>\n",
       "      <td>0.001591</td>\n",
       "      <td>0.052554</td>\n",
       "      <td>16739.500000</td>\n",
       "    </tr>\n",
       "    <tr>\n",
       "      <th>max</th>\n",
       "      <td>16057.000000</td>\n",
       "      <td>0.029630</td>\n",
       "      <td>0.247638</td>\n",
       "      <td>103413.000000</td>\n",
       "    </tr>\n",
       "  </tbody>\n",
       "</table>\n",
       "</div>"
      ],
      "text/plain": [
       "       absolute_error  normalized_error  relative_error  query_regions\n",
       "count      200.000000        200.000000      200.000000     200.000000\n",
       "mean      1495.020000          0.002759        0.030890   13075.100000\n",
       "std       3284.357086          0.006061        0.039216   22529.014215\n",
       "min          3.000000          0.000006        0.003227     113.000000\n",
       "25%         34.750000          0.000064        0.007233     546.750000\n",
       "50%        206.000000          0.000380        0.012420    1768.000000\n",
       "75%        862.250000          0.001591        0.052554   16739.500000\n",
       "max      16057.000000          0.029630        0.247638  103413.000000"
      ]
     },
     "execution_count": 64,
     "metadata": {},
     "output_type": "execute_result"
    }
   ],
   "source": [
    "results_df[[\"absolute_error\",\"normalized_error\",\"relative_error\",\"query_regions\"]].describe()"
   ]
  },
  {
   "cell_type": "code",
   "execution_count": 45,
   "id": "7f10ec35",
   "metadata": {},
   "outputs": [],
   "source": [
    "query_path = \"../queries/online_retail_4_cols.json\"\n",
    "with open(query_path, 'rb') as f:\n",
    "    queries_4 = orjson.loads(f.read())"
   ]
  },
  {
   "cell_type": "code",
   "execution_count": 46,
   "id": "78b0f1d7",
   "metadata": {},
   "outputs": [
    {
     "name": "stdout",
     "output_type": "stream",
     "text": [
      "Computing true counts...\n"
     ]
    },
    {
     "name": "stderr",
     "output_type": "stream",
     "text": [
      "True Count: 100%|██████████| 200/200 [00:06<00:00, 30.75it/s]\n"
     ]
    },
    {
     "name": "stdout",
     "output_type": "stream",
     "text": [
      "Computing estimates...\n"
     ]
    },
    {
     "name": "stderr",
     "output_type": "stream",
     "text": [
      "Estimates: 100%|██████████| 200/200 [03:31<00:00,  1.06s/it]\n"
     ]
    }
   ],
   "source": [
    "results_df_4 = evaluate_queries(retail_df, queries_4[\"queries\"], p_sketch, path_to_file=\"../results/real_world/online_retail_4_p_sketch_uniform.csv\")"
   ]
  },
  {
   "cell_type": "code",
   "execution_count": 65,
   "id": "57b0aef6",
   "metadata": {},
   "outputs": [
    {
     "name": "stderr",
     "output_type": "stream",
     "text": [
      "/home/rudi/.local/lib/python3.12/site-packages/pandas/core/nanops.py:1016: RuntimeWarning: invalid value encountered in subtract\n",
      "  sqr = _ensure_numeric((avg - values) ** 2)\n"
     ]
    },
    {
     "data": {
      "text/html": [
       "<div>\n",
       "<style scoped>\n",
       "    .dataframe tbody tr th:only-of-type {\n",
       "        vertical-align: middle;\n",
       "    }\n",
       "\n",
       "    .dataframe tbody tr th {\n",
       "        vertical-align: top;\n",
       "    }\n",
       "\n",
       "    .dataframe thead th {\n",
       "        text-align: right;\n",
       "    }\n",
       "</style>\n",
       "<table border=\"1\" class=\"dataframe\">\n",
       "  <thead>\n",
       "    <tr style=\"text-align: right;\">\n",
       "      <th></th>\n",
       "      <th>absolute_error</th>\n",
       "      <th>normalized_error</th>\n",
       "      <th>relative_error</th>\n",
       "      <th>query_regions</th>\n",
       "    </tr>\n",
       "  </thead>\n",
       "  <tbody>\n",
       "    <tr>\n",
       "      <th>count</th>\n",
       "      <td>200.000000</td>\n",
       "      <td>200.000000</td>\n",
       "      <td>195.000000</td>\n",
       "      <td>200.000000</td>\n",
       "    </tr>\n",
       "    <tr>\n",
       "      <th>mean</th>\n",
       "      <td>164.525000</td>\n",
       "      <td>0.000304</td>\n",
       "      <td>inf</td>\n",
       "      <td>1186.780000</td>\n",
       "    </tr>\n",
       "    <tr>\n",
       "      <th>std</th>\n",
       "      <td>438.239671</td>\n",
       "      <td>0.000809</td>\n",
       "      <td>NaN</td>\n",
       "      <td>3040.415082</td>\n",
       "    </tr>\n",
       "    <tr>\n",
       "      <th>min</th>\n",
       "      <td>0.000000</td>\n",
       "      <td>0.000000</td>\n",
       "      <td>0.000000</td>\n",
       "      <td>0.000000</td>\n",
       "    </tr>\n",
       "    <tr>\n",
       "      <th>25%</th>\n",
       "      <td>24.750000</td>\n",
       "      <td>0.000046</td>\n",
       "      <td>0.041999</td>\n",
       "      <td>212.000000</td>\n",
       "    </tr>\n",
       "    <tr>\n",
       "      <th>50%</th>\n",
       "      <td>45.500000</td>\n",
       "      <td>0.000084</td>\n",
       "      <td>0.063565</td>\n",
       "      <td>352.000000</td>\n",
       "    </tr>\n",
       "    <tr>\n",
       "      <th>75%</th>\n",
       "      <td>96.250000</td>\n",
       "      <td>0.000178</td>\n",
       "      <td>0.087964</td>\n",
       "      <td>597.750000</td>\n",
       "    </tr>\n",
       "    <tr>\n",
       "      <th>max</th>\n",
       "      <td>2792.000000</td>\n",
       "      <td>0.005152</td>\n",
       "      <td>inf</td>\n",
       "      <td>18121.000000</td>\n",
       "    </tr>\n",
       "  </tbody>\n",
       "</table>\n",
       "</div>"
      ],
      "text/plain": [
       "       absolute_error  normalized_error  relative_error  query_regions\n",
       "count      200.000000        200.000000      195.000000     200.000000\n",
       "mean       164.525000          0.000304             inf    1186.780000\n",
       "std        438.239671          0.000809             NaN    3040.415082\n",
       "min          0.000000          0.000000        0.000000       0.000000\n",
       "25%         24.750000          0.000046        0.041999     212.000000\n",
       "50%         45.500000          0.000084        0.063565     352.000000\n",
       "75%         96.250000          0.000178        0.087964     597.750000\n",
       "max       2792.000000          0.005152             inf   18121.000000"
      ]
     },
     "execution_count": 65,
     "metadata": {},
     "output_type": "execute_result"
    }
   ],
   "source": [
    "results_df_4[[\"absolute_error\",\"normalized_error\",\"relative_error\",\"query_regions\"]].describe()"
   ]
  },
  {
   "cell_type": "code",
   "execution_count": 62,
   "id": "36c580ff",
   "metadata": {},
   "outputs": [
    {
     "data": {
      "image/png": "[encoded data removed]",
      "text/plain": [
       "<Figure size 576x432 with 1 Axes>"
      ]
     },
     "metadata": {
      "needs_background": "light"
     },
     "output_type": "display_data"
    }
   ],
   "source": [
    "# Label the sources as '2' and '4' (corresponding to number of predicates)\n",
    "results_df['num_predicates'] = '2'\n",
    "results_df_4['num_predicates'] = '4'\n",
    "\n",
    "# Combine the DataFrames\n",
    "combined_df = pd.concat([results_df, results_df_4], ignore_index=True)\n",
    "\n",
    "# Create the boxplot\n",
    "plt.figure(figsize=(8, 6))\n",
    "sns.boxplot(x='num_predicates', y='absolute_error', data=combined_df)\n",
    "\n",
    "# Set axis labels and title\n",
    "plt.xlabel('Number of Predicates')\n",
    "plt.ylabel('Normalized Error')\n",
    "plt.title('Comparison of Normalized Error by Number of Predicates')\n",
    "plt.grid(True)\n",
    "plt.tight_layout()\n",
    "plt.yscale('log')  \n",
    "plt.show()"
   ]
  },
  {
   "cell_type": "code",
   "execution_count": null,
   "id": "9460bd02",
   "metadata": {},
   "outputs": [],
   "source": [
    "epsilon = 10.0\n",
    "per_query_epsilon=epsilon/len(queries[\"queries\"])\n",
    "central_dp = CentralDPServer(retail_df, epsilon=epsilon, per_query_epsilon=per_query_epsilon)\n",
    "\n",
    "central_dp_results = evaluate_queries_baselines()"
   ]
  }
 ],
 "metadata": {
  "kernelspec": {
   "display_name": "Python 3",
   "language": "python",
   "name": "python3"
  },
  "language_info": {
   "codemirror_mode": {
    "name": "ipython",
    "version": 3
   },
   "file_extension": ".py",
   "mimetype": "text/x-python",
   "name": "python",
   "nbconvert_exporter": "python",
   "pygments_lexer": "ipython3",
   "version": "3.12.3"
  }
 },
 "nbformat": 4,
 "nbformat_minor": 5
}
