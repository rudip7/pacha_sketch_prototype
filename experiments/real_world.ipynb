{
 "cells": [
  {
   "cell_type": "code",
   "execution_count": 1,
   "id": "63b27858",
   "metadata": {},
   "outputs": [],
   "source": [
    "import sys\n",
    "# append the path of the parent directory\n",
    "sys.path.append(\"..\")"
   ]
  },
  {
   "cell_type": "code",
   "execution_count": 95,
   "id": "98217a93",
   "metadata": {},
   "outputs": [],
   "source": [
    "import math\n",
    "import os\n",
    "import time\n",
    "\n",
    "\n",
    "import numpy as np\n",
    "np.set_printoptions(legacy='1.25')\n",
    "\n",
    "import matplotlib.pyplot as plt\n",
    "from matplotlib.patches import Rectangle\n",
    "import matplotlib.patches as patches\n",
    "\n",
    "import seaborn as sns\n",
    "import time\n",
    "import json\n",
    "import pandas as pd\n",
    "from ctypes import c_int32\n",
    "from itertools import product\n",
    "import copy\n",
    "\n",
    "\n",
    "from tqdm import tqdm\n",
    "\n",
    "from scipy.stats import pearsonr\n",
    "from importlib import reload\n",
    "\n",
    "import orjson\n",
    "import gzip\n",
    "\n",
    "\n",
    "\n",
    "from lib import sketches, visualization_utils, encoders, ploting, pacha_sketch\n",
    "reload(ploting)\n",
    "reload(sketches)\n",
    "reload(visualization_utils)\n",
    "reload(encoders)\n",
    "\n",
    "reload(pacha_sketch)\n",
    "\n",
    "from lib.sketches import BloomFilter, CountMinSketch, H3HashFunctions, HashFunctionFamily, CountMinSketchHadamard, CountMinSketchLocalHashing\n",
    "from lib.visualization_utils import visualize_badic_cover, plot_b_adic_cubes\n",
    "from lib.encoders import minimal_b_adic_cover, minimal_spatial_b_adic_cover, BAdicCube, BAdicRange\n",
    "from lib.pacha_sketch import PachaSketch, ADTree, BFParameters, CMParameters\n",
    "\n",
    "from lib.ploting import set_style, plot_ylabel, plot_legend\n",
    "\n",
    "from lib import baselines\n",
    "reload(baselines)\n",
    "\n",
    "from lib.baselines import CentralDPServer, LDPServer, LDPEncoderGRR, query_df, infer_domains_and_ranges\n",
    "\n",
    "# set_style()"
   ]
  },
  {
   "cell_type": "code",
   "execution_count": 3,
   "id": "09ff309f",
   "metadata": {},
   "outputs": [],
   "source": [
    "delta = 0.05\n",
    "abs_error_eps = 1.0"
   ]
  },
  {
   "cell_type": "markdown",
   "id": "857f97a6",
   "metadata": {},
   "source": [
    "# Online Retail"
   ]
  },
  {
   "cell_type": "code",
   "execution_count": 5,
   "id": "91ec14ce",
   "metadata": {},
   "outputs": [],
   "source": [
    "retail_df = pd.read_parquet(\"../data/clean/online_retail.parquet\")"
   ]
  },
  {
   "cell_type": "code",
   "execution_count": 6,
   "id": "5adead49",
   "metadata": {},
   "outputs": [],
   "source": [
    "query_path = \"../queries/online_retail_2_cols.json\"\n",
    "with open(query_path, 'rb') as f:\n",
    "    queries = orjson.loads(f.read())\n",
    "\n",
    "ad_tree = ADTree.from_json(\"../sketches/ad_trees/online_retail.json\")\n"
   ]
  },
  {
   "cell_type": "code",
   "execution_count": 36,
   "id": "221d454b",
   "metadata": {},
   "outputs": [
    {
     "data": {
      "text/plain": [
       "95.43489265441895"
      ]
     },
     "execution_count": 36,
     "metadata": {},
     "output_type": "execute_result"
    }
   ],
   "source": [
    "p_sketch = PachaSketch.build_with_uniform_size(\n",
    "    levels=5,\n",
    "    num_dimensions=6,\n",
    "    cat_col_map=[0,1,2],\n",
    "    num_col_map=[3,4,5],\n",
    "    bases=[2,2,2],\n",
    "    ad_tree=ad_tree,\n",
    "    cm_params=CMParameters(delta=delta, error_eps=abs_error_eps / len(retail_df)),\n",
    "    cat_index_parameters=BFParameters(n_values=len(retail_df)*4, p=0.01),\n",
    "    num_index_parameters=BFParameters(n_values=len(retail_df)*5, p=0.01),\n",
    "    region_index_parameters= BFParameters(n_values=len(retail_df)*(5+4), p=0.01))\n",
    "p_sketch.get_size()"
   ]
  },
  {
   "cell_type": "code",
   "execution_count": 37,
   "id": "459cb769",
   "metadata": {},
   "outputs": [
    {
     "name": "stderr",
     "output_type": "stream",
     "text": [
      "Updating: 100%|██████████| 541909/541909 [07:27<00:00, 1212.26it/s]\n"
     ]
    },
    {
     "data": {
      "text/plain": [
       "<lib.pacha_sketch.PachaSketch at 0x759d3ab95df0>"
      ]
     },
     "execution_count": 37,
     "metadata": {},
     "output_type": "execute_result"
    }
   ],
   "source": [
    "p_sketch.update_data_frame(retail_df, workers=os.cpu_count())"
   ]
  },
  {
   "cell_type": "code",
   "execution_count": 39,
   "id": "be8b1ea2",
   "metadata": {},
   "outputs": [],
   "source": [
    "p_sketch.save_to_file(\"../sketches/real_world/online_retail_uniform_2.json.gz\")"
   ]
  },
  {
   "cell_type": "code",
   "execution_count": 74,
   "id": "ec40b350",
   "metadata": {},
   "outputs": [],
   "source": [
    "p_sketch2 = PachaSketch.from_json(\"../sketches/real_world/online_retail_uniform_2.json.gz\")"
   ]
  },
  {
   "cell_type": "code",
   "execution_count": 75,
   "id": "bac29ef9",
   "metadata": {},
   "outputs": [
    {
     "data": {
      "text/plain": [
       "True"
      ]
     },
     "execution_count": 75,
     "metadata": {},
     "output_type": "execute_result"
    }
   ],
   "source": [
    "p_sketch2 == p_sketch"
   ]
  },
  {
   "cell_type": "code",
   "execution_count": 62,
   "id": "6d7d3684",
   "metadata": {},
   "outputs": [
    {
     "data": {
      "text/plain": [
       "{'cat_regions': 125,\n",
       " 'num_regions': 947,\n",
       " 'query_regions': 15630,\n",
       " 'queries_per_level': [534, 2000, 3147, 9949, 0]}"
      ]
     },
     "execution_count": 62,
     "metadata": {},
     "output_type": "execute_result"
    }
   ],
   "source": [
    "details"
   ]
  },
  {
   "cell_type": "code",
   "execution_count": 63,
   "id": "558d5e00",
   "metadata": {},
   "outputs": [],
   "source": [
    "def evaluate_queries(df: pd.DataFrame, queries: list, p_sketch: PachaSketch, path_to_file: str = None):\n",
    "    print(\"Computing true counts...\")\n",
    "    true_counts = []\n",
    "    for query in tqdm(queries, desc=\"True Count\"):\n",
    "        true_counts.append(query_df(df, query))\n",
    "    true_counts = np.asarray(true_counts)\n",
    "    \n",
    "    print(\"Computing estimates...\")\n",
    "    estimates = []\n",
    "    cat_regions = []\n",
    "    num_regions = []\n",
    "    query_regions = []\n",
    "    level_queries = []\n",
    "    for i in range(p_sketch.levels):\n",
    "        level_queries.append([])\n",
    "    for query in tqdm(queries, desc=\"Estimates\"):\n",
    "        est, details = p_sketch.query(query, detailed=True)\n",
    "        estimates.append(est)\n",
    "        cat_regions.append(details[\"cat_regions\"])\n",
    "        num_regions.append(details[\"num_regions\"])\n",
    "        query_regions.append(details[\"query_regions\"])\n",
    "        for i, n_queries in enumerate(details[\"queries_per_level\"]):\n",
    "             level_queries[i].append(n_queries)\n",
    "    \n",
    "    measurements = {\n",
    "        \"true_counts\": true_counts,\n",
    "        \"estimates\": estimates,\n",
    "        \"cat_regions\": cat_regions,\n",
    "        \"num_regions\": num_regions,\n",
    "        \"query_regions\": query_regions\n",
    "    }\n",
    "\n",
    "    for i, level_i in enumerate(level_queries):\n",
    "        measurements[f\"level_{i}_queries\"] = level_i\n",
    "\n",
    "    results_df = pd.DataFrame(measurements)\n",
    "\n",
    "    if path_to_file is not None:\n",
    "        results_df.to_csv(path_to_file, index=False)\n",
    "\n",
    "    return results_df\n"
   ]
  },
  {
   "cell_type": "code",
   "execution_count": 78,
   "id": "b7727645",
   "metadata": {},
   "outputs": [
    {
     "data": {
      "text/plain": [
       "1120"
      ]
     },
     "execution_count": 78,
     "metadata": {},
     "output_type": "execute_result"
    }
   ],
   "source": [
    "2**5*5*7"
   ]
  },
  {
   "cell_type": "code",
   "execution_count": 80,
   "id": "5e2c91c6",
   "metadata": {},
   "outputs": [
    {
     "ename": "KeyboardInterrupt",
     "evalue": "",
     "output_type": "error",
     "traceback": [
      "\u001b[0;31m---------------------------------------------------------------------------\u001b[0m",
      "\u001b[0;31mKeyboardInterrupt\u001b[0m                         Traceback (most recent call last)",
      "\u001b[0;32m/tmp/ipykernel_489184/542480828.py\u001b[0m in \u001b[0;36m<module>\u001b[0;34m\u001b[0m\n\u001b[0;32m----> 1\u001b[0;31m \u001b[0mest\u001b[0m\u001b[0;34m,\u001b[0m \u001b[0mdetails\u001b[0m \u001b[0;34m=\u001b[0m \u001b[0mp_sketch2\u001b[0m\u001b[0;34m.\u001b[0m\u001b[0mquery\u001b[0m\u001b[0;34m(\u001b[0m\u001b[0mqueries\u001b[0m\u001b[0;34m[\u001b[0m\u001b[0;34m\"queries\"\u001b[0m\u001b[0;34m]\u001b[0m\u001b[0;34m[\u001b[0m\u001b[0;36m1\u001b[0m\u001b[0;34m]\u001b[0m\u001b[0;34m,\u001b[0m \u001b[0mdebug\u001b[0m\u001b[0;34m=\u001b[0m\u001b[0;32mTrue\u001b[0m\u001b[0;34m,\u001b[0m \u001b[0mdetailed\u001b[0m\u001b[0;34m=\u001b[0m\u001b[0;32mTrue\u001b[0m\u001b[0;34m)\u001b[0m\u001b[0;34m\u001b[0m\u001b[0;34m\u001b[0m\u001b[0m\n\u001b[0m",
      "\u001b[0;32m~/artifacts/pacha_sketch_prototype/experiments/../lib/pacha_sketch.py\u001b[0m in \u001b[0;36mquery\u001b[0;34m(self, query, detailed, debug)\u001b[0m\n\u001b[1;32m    477\u001b[0m \u001b[0;34m\u001b[0m\u001b[0m\n\u001b[1;32m    478\u001b[0m         \u001b[0mrelevant_nodes\u001b[0m \u001b[0;34m=\u001b[0m \u001b[0mself\u001b[0m\u001b[0;34m.\u001b[0m\u001b[0mad_tree\u001b[0m\u001b[0;34m.\u001b[0m\u001b[0mget_relevant_nodes\u001b[0m\u001b[0;34m(\u001b[0m\u001b[0mcat_predicates\u001b[0m\u001b[0;34m,\u001b[0m \u001b[0mfor_query\u001b[0m\u001b[0;34m=\u001b[0m\u001b[0;32mTrue\u001b[0m\u001b[0;34m)\u001b[0m\u001b[0;34m\u001b[0m\u001b[0;34m\u001b[0m\u001b[0m\n\u001b[0;32m--> 479\u001b[0;31m         \u001b[0mb_adic_cubes\u001b[0m \u001b[0;34m=\u001b[0m \u001b[0mminimal_spatial_b_adic_cover\u001b[0m\u001b[0;34m(\u001b[0m\u001b[0mnum_predicates\u001b[0m\u001b[0;34m,\u001b[0m \u001b[0mself\u001b[0m\u001b[0;34m.\u001b[0m\u001b[0mbases\u001b[0m\u001b[0;34m)\u001b[0m\u001b[0;34m\u001b[0m\u001b[0;34m\u001b[0m\u001b[0m\n\u001b[0m\u001b[1;32m    480\u001b[0m \u001b[0;34m\u001b[0m\u001b[0m\n\u001b[1;32m    481\u001b[0m         \u001b[0mcat_regions\u001b[0m \u001b[0;34m=\u001b[0m \u001b[0;34m[\u001b[0m\u001b[0;34m]\u001b[0m\u001b[0;34m\u001b[0m\u001b[0;34m\u001b[0m\u001b[0m\n",
      "\u001b[0;32m~/artifacts/pacha_sketch_prototype/experiments/../lib/encoders.py\u001b[0m in \u001b[0;36mminimal_spatial_b_adic_cover\u001b[0;34m(bounds, bases)\u001b[0m\n\u001b[1;32m    231\u001b[0m             \u001b[0mlocal_combinations\u001b[0m \u001b[0;34m=\u001b[0m \u001b[0mproduct\u001b[0m\u001b[0;34m(\u001b[0m\u001b[0;34m*\u001b[0m\u001b[0mnew_b_adic_ranges\u001b[0m\u001b[0;34m)\u001b[0m\u001b[0;34m\u001b[0m\u001b[0;34m\u001b[0m\u001b[0m\n\u001b[1;32m    232\u001b[0m             \u001b[0;32mfor\u001b[0m \u001b[0mlocal_combination\u001b[0m \u001b[0;32min\u001b[0m \u001b[0mlocal_combinations\u001b[0m\u001b[0;34m:\u001b[0m\u001b[0;34m\u001b[0m\u001b[0;34m\u001b[0m\u001b[0m\n\u001b[0;32m--> 233\u001b[0;31m                 \u001b[0mD\u001b[0m\u001b[0;34m.\u001b[0m\u001b[0mappend\u001b[0m\u001b[0;34m(\u001b[0m\u001b[0mBAdicCube\u001b[0m\u001b[0;34m(\u001b[0m\u001b[0mlocal_combination\u001b[0m\u001b[0;34m)\u001b[0m\u001b[0;34m)\u001b[0m\u001b[0;34m\u001b[0m\u001b[0;34m\u001b[0m\u001b[0m\n\u001b[0m\u001b[1;32m    234\u001b[0m         \u001b[0;32mreturn\u001b[0m \u001b[0mnp\u001b[0m\u001b[0;34m.\u001b[0m\u001b[0masarray\u001b[0m\u001b[0;34m(\u001b[0m\u001b[0mD\u001b[0m\u001b[0;34m)\u001b[0m\u001b[0;34m\u001b[0m\u001b[0;34m\u001b[0m\u001b[0m\n\u001b[1;32m    235\u001b[0m \u001b[0;34m\u001b[0m\u001b[0m\n",
      "\u001b[0;32m~/artifacts/pacha_sketch_prototype/experiments/../lib/encoders.py\u001b[0m in \u001b[0;36m__init__\u001b[0;34m(self, b_adic_ranges)\u001b[0m\n\u001b[1;32m    105\u001b[0m         \u001b[0mself\u001b[0m\u001b[0;34m.\u001b[0m\u001b[0mb_adic_ranges\u001b[0m \u001b[0;34m=\u001b[0m \u001b[0mb_adic_ranges\u001b[0m\u001b[0;34m\u001b[0m\u001b[0;34m\u001b[0m\u001b[0m\n\u001b[1;32m    106\u001b[0m         \u001b[0mself\u001b[0m\u001b[0;34m.\u001b[0m\u001b[0mbases\u001b[0m \u001b[0;34m=\u001b[0m \u001b[0mtuple\u001b[0m\u001b[0;34m(\u001b[0m\u001b[0mr\u001b[0m\u001b[0;34m.\u001b[0m\u001b[0mbase\u001b[0m \u001b[0;32mfor\u001b[0m \u001b[0mr\u001b[0m \u001b[0;32min\u001b[0m \u001b[0mb_adic_ranges\u001b[0m\u001b[0;34m)\u001b[0m\u001b[0;34m\u001b[0m\u001b[0;34m\u001b[0m\u001b[0m\n\u001b[0;32m--> 107\u001b[0;31m         \u001b[0mself\u001b[0m\u001b[0;34m.\u001b[0m\u001b[0mindeces\u001b[0m \u001b[0;34m=\u001b[0m \u001b[0mtuple\u001b[0m\u001b[0;34m(\u001b[0m\u001b[0mr\u001b[0m\u001b[0;34m.\u001b[0m\u001b[0mindex\u001b[0m \u001b[0;32mfor\u001b[0m \u001b[0mr\u001b[0m \u001b[0;32min\u001b[0m \u001b[0mb_adic_ranges\u001b[0m\u001b[0;34m)\u001b[0m\u001b[0;34m\u001b[0m\u001b[0;34m\u001b[0m\u001b[0m\n\u001b[0m\u001b[1;32m    108\u001b[0m \u001b[0;34m\u001b[0m\u001b[0m\n\u001b[1;32m    109\u001b[0m     \u001b[0;32mdef\u001b[0m \u001b[0m__str__\u001b[0m\u001b[0;34m(\u001b[0m\u001b[0mself\u001b[0m\u001b[0;34m)\u001b[0m \u001b[0;34m->\u001b[0m \u001b[0mstr\u001b[0m\u001b[0;34m:\u001b[0m\u001b[0;34m\u001b[0m\u001b[0;34m\u001b[0m\u001b[0m\n",
      "\u001b[0;31mKeyboardInterrupt\u001b[0m: "
     ]
    }
   ],
   "source": [
    "est, details = p_sketch2.query(queries[\"queries\"][1], debug=True, detailed=True)"
   ]
  },
  {
   "cell_type": "code",
   "execution_count": 79,
   "id": "fbae23fd",
   "metadata": {},
   "outputs": [
    {
     "name": "stdout",
     "output_type": "stream",
     "text": [
      "Computing true counts...\n"
     ]
    },
    {
     "name": "stderr",
     "output_type": "stream",
     "text": [
      "True Count:  76%|███████▌  | 152/200 [00:03<00:01, 40.53it/s]\n"
     ]
    },
    {
     "ename": "KeyboardInterrupt",
     "evalue": "",
     "output_type": "error",
     "traceback": [
      "\u001b[0;31m---------------------------------------------------------------------------\u001b[0m",
      "\u001b[0;31mKeyboardInterrupt\u001b[0m                         Traceback (most recent call last)",
      "\u001b[0;32m/tmp/ipykernel_489184/427194492.py\u001b[0m in \u001b[0;36m<module>\u001b[0;34m\u001b[0m\n\u001b[0;32m----> 1\u001b[0;31m \u001b[0mevaluate_queries\u001b[0m\u001b[0;34m(\u001b[0m\u001b[0mretail_df\u001b[0m\u001b[0;34m,\u001b[0m \u001b[0mqueries\u001b[0m\u001b[0;34m[\u001b[0m\u001b[0;34m\"queries\"\u001b[0m\u001b[0;34m]\u001b[0m\u001b[0;34m,\u001b[0m \u001b[0mp_sketch2\u001b[0m\u001b[0;34m,\u001b[0m \u001b[0mpath_to_file\u001b[0m\u001b[0;34m=\u001b[0m\u001b[0;34m\"../results/real_world/online_retail_uniform.csv\"\u001b[0m\u001b[0;34m)\u001b[0m\u001b[0;34m\u001b[0m\u001b[0;34m\u001b[0m\u001b[0m\n\u001b[0m",
      "\u001b[0;32m/tmp/ipykernel_489184/3141806757.py\u001b[0m in \u001b[0;36mevaluate_queries\u001b[0;34m(df, queries, p_sketch, path_to_file)\u001b[0m\n\u001b[1;32m      3\u001b[0m     \u001b[0mtrue_counts\u001b[0m \u001b[0;34m=\u001b[0m \u001b[0;34m[\u001b[0m\u001b[0;34m]\u001b[0m\u001b[0;34m\u001b[0m\u001b[0;34m\u001b[0m\u001b[0m\n\u001b[1;32m      4\u001b[0m     \u001b[0;32mfor\u001b[0m \u001b[0mquery\u001b[0m \u001b[0;32min\u001b[0m \u001b[0mtqdm\u001b[0m\u001b[0;34m(\u001b[0m\u001b[0mqueries\u001b[0m\u001b[0;34m,\u001b[0m \u001b[0mdesc\u001b[0m\u001b[0;34m=\u001b[0m\u001b[0;34m\"True Count\"\u001b[0m\u001b[0;34m)\u001b[0m\u001b[0;34m:\u001b[0m\u001b[0;34m\u001b[0m\u001b[0;34m\u001b[0m\u001b[0m\n\u001b[0;32m----> 5\u001b[0;31m         \u001b[0mtrue_counts\u001b[0m\u001b[0;34m.\u001b[0m\u001b[0mappend\u001b[0m\u001b[0;34m(\u001b[0m\u001b[0mquery_df\u001b[0m\u001b[0;34m(\u001b[0m\u001b[0mdf\u001b[0m\u001b[0;34m,\u001b[0m \u001b[0mquery\u001b[0m\u001b[0;34m)\u001b[0m\u001b[0;34m)\u001b[0m\u001b[0;34m\u001b[0m\u001b[0;34m\u001b[0m\u001b[0m\n\u001b[0m\u001b[1;32m      6\u001b[0m     \u001b[0mtrue_counts\u001b[0m \u001b[0;34m=\u001b[0m \u001b[0mnp\u001b[0m\u001b[0;34m.\u001b[0m\u001b[0masarray\u001b[0m\u001b[0;34m(\u001b[0m\u001b[0mtrue_counts\u001b[0m\u001b[0;34m)\u001b[0m\u001b[0;34m\u001b[0m\u001b[0;34m\u001b[0m\u001b[0m\n\u001b[1;32m      7\u001b[0m \u001b[0;34m\u001b[0m\u001b[0m\n",
      "\u001b[0;32m~/artifacts/pacha_sketch_prototype/experiments/../lib/baselines.py\u001b[0m in \u001b[0;36mquery_df\u001b[0;34m(df, query)\u001b[0m\n\u001b[1;32m     63\u001b[0m             \u001b[0mmask\u001b[0m \u001b[0;34m&=\u001b[0m \u001b[0;34m(\u001b[0m\u001b[0;34m(\u001b[0m\u001b[0mdf\u001b[0m\u001b[0;34m[\u001b[0m\u001b[0mcol\u001b[0m\u001b[0;34m]\u001b[0m \u001b[0;34m>=\u001b[0m \u001b[0mlower\u001b[0m\u001b[0;34m)\u001b[0m \u001b[0;34m&\u001b[0m \u001b[0;34m(\u001b[0m\u001b[0mdf\u001b[0m\u001b[0;34m[\u001b[0m\u001b[0mcol\u001b[0m\u001b[0;34m]\u001b[0m \u001b[0;34m<=\u001b[0m \u001b[0mupper\u001b[0m\u001b[0;34m)\u001b[0m\u001b[0;34m)\u001b[0m\u001b[0;34m\u001b[0m\u001b[0;34m\u001b[0m\u001b[0m\n\u001b[1;32m     64\u001b[0m         \u001b[0;32melif\u001b[0m \u001b[0misinstance\u001b[0m\u001b[0;34m(\u001b[0m\u001b[0mpredicate\u001b[0m\u001b[0;34m,\u001b[0m \u001b[0mlist\u001b[0m\u001b[0;34m)\u001b[0m \u001b[0;32mor\u001b[0m \u001b[0misinstance\u001b[0m\u001b[0;34m(\u001b[0m\u001b[0mpredicate\u001b[0m\u001b[0;34m,\u001b[0m \u001b[0mset\u001b[0m\u001b[0;34m)\u001b[0m\u001b[0;34m:\u001b[0m\u001b[0;34m\u001b[0m\u001b[0;34m\u001b[0m\u001b[0m\n\u001b[0;32m---> 65\u001b[0;31m             \u001b[0mmask\u001b[0m \u001b[0;34m&=\u001b[0m \u001b[0mdf\u001b[0m\u001b[0;34m[\u001b[0m\u001b[0mcol\u001b[0m\u001b[0;34m]\u001b[0m\u001b[0;34m.\u001b[0m\u001b[0misin\u001b[0m\u001b[0;34m(\u001b[0m\u001b[0mpredicate\u001b[0m\u001b[0;34m)\u001b[0m\u001b[0;34m\u001b[0m\u001b[0;34m\u001b[0m\u001b[0m\n\u001b[0m\u001b[1;32m     66\u001b[0m         \u001b[0;32melse\u001b[0m\u001b[0;34m:\u001b[0m\u001b[0;34m\u001b[0m\u001b[0;34m\u001b[0m\u001b[0m\n\u001b[1;32m     67\u001b[0m             \u001b[0;32mraise\u001b[0m \u001b[0mValueError\u001b[0m\u001b[0;34m(\u001b[0m\u001b[0;34mf\"\u001b[0m\u001b[0;34mUnsupported query predicate: \u001b[0m\u001b[0;34m{\u001b[0m\u001b[0mpredicate\u001b[0m\u001b[0;34m}\u001b[0m\u001b[0;34m\"\u001b[0m\u001b[0;34m)\u001b[0m\u001b[0;34m\u001b[0m\u001b[0;34m\u001b[0m\u001b[0m\n",
      "\u001b[0;32m~/.local/lib/python3.12/site-packages/pandas/core/series.py\u001b[0m in \u001b[0;36misin\u001b[0;34m(self, values)\u001b[0m\n\u001b[1;32m   5557\u001b[0m         \u001b[0mdtype\u001b[0m\u001b[0;34m:\u001b[0m \u001b[0mbool\u001b[0m\u001b[0;34m\u001b[0m\u001b[0;34m\u001b[0m\u001b[0m\n\u001b[1;32m   5558\u001b[0m         \"\"\"\n\u001b[0;32m-> 5559\u001b[0;31m         \u001b[0mresult\u001b[0m \u001b[0;34m=\u001b[0m \u001b[0malgorithms\u001b[0m\u001b[0;34m.\u001b[0m\u001b[0misin\u001b[0m\u001b[0;34m(\u001b[0m\u001b[0mself\u001b[0m\u001b[0;34m.\u001b[0m\u001b[0m_values\u001b[0m\u001b[0;34m,\u001b[0m \u001b[0mvalues\u001b[0m\u001b[0;34m)\u001b[0m\u001b[0;34m\u001b[0m\u001b[0;34m\u001b[0m\u001b[0m\n\u001b[0m\u001b[1;32m   5560\u001b[0m         return self._constructor(result, index=self.index, copy=False).__finalize__(\n\u001b[1;32m   5561\u001b[0m             \u001b[0mself\u001b[0m\u001b[0;34m,\u001b[0m \u001b[0mmethod\u001b[0m\u001b[0;34m=\u001b[0m\u001b[0;34m\"isin\"\u001b[0m\u001b[0;34m\u001b[0m\u001b[0;34m\u001b[0m\u001b[0m\n",
      "\u001b[0;32m~/.local/lib/python3.12/site-packages/pandas/core/algorithms.py\u001b[0m in \u001b[0;36misin\u001b[0;34m(comps, values)\u001b[0m\n\u001b[1;32m    543\u001b[0m         \u001b[0mf\u001b[0m \u001b[0;34m=\u001b[0m \u001b[0mhtable\u001b[0m\u001b[0;34m.\u001b[0m\u001b[0mismember\u001b[0m\u001b[0;34m\u001b[0m\u001b[0;34m\u001b[0m\u001b[0m\n\u001b[1;32m    544\u001b[0m \u001b[0;34m\u001b[0m\u001b[0m\n\u001b[0;32m--> 545\u001b[0;31m     \u001b[0;32mreturn\u001b[0m \u001b[0mf\u001b[0m\u001b[0;34m(\u001b[0m\u001b[0mcomps_array\u001b[0m\u001b[0;34m,\u001b[0m \u001b[0mvalues\u001b[0m\u001b[0;34m)\u001b[0m\u001b[0;34m\u001b[0m\u001b[0;34m\u001b[0m\u001b[0m\n\u001b[0m\u001b[1;32m    546\u001b[0m \u001b[0;34m\u001b[0m\u001b[0m\n\u001b[1;32m    547\u001b[0m \u001b[0;34m\u001b[0m\u001b[0m\n",
      "\u001b[0;31mKeyboardInterrupt\u001b[0m: "
     ]
    }
   ],
   "source": [
    "evaluate_queries(retail_df, queries[\"queries\"], p_sketch2, path_to_file=\"../results/real_world/online_retail_uniform.csv\")"
   ]
  },
  {
   "cell_type": "code",
   "execution_count": null,
   "id": "a35cb095",
   "metadata": {},
   "outputs": [],
   "source": [
    "\n",
    "\n",
    "def check_accruracy(sketch, df, query_regions, level):\n",
    "    query_regions_level = [region for region in query_regions if region[1].level == level]\n",
    "    estimates = []\n",
    "    print(\"Estimating with sketch...\")\n",
    "    for region in tqdm(query_regions_level, desc=\"Sketch Query\"):\n",
    "        num_region = region[1]\n",
    "        estimates.append(sketch.base_sketches[num_region.level].query(region))\n",
    "    estimates = np.asarray(estimates)\n",
    "\n",
    "    true_counts = []\n",
    "    print(\"Computing true counts...\")\n",
    "    for region in tqdm(query_regions_level, desc=\"True Count\"):\n",
    "        true_counts.append(query_df(df, translate_query_region(region)))\n",
    "    true_counts = np.asarray(true_counts)\n",
    "\n",
    "    abs_errors = np.abs(estimates - true_counts)\n",
    "    rel_errors = abs_errors / len(df)\n",
    "\n",
    "    print(f\"Level {level}\")\n",
    "    print(f\"Mean Abs Error: {np.mean(abs_errors)}, Mean Rel Error: {np.mean(rel_errors)}\")\n",
    "    print(f\"Max Abs Error: {np.max(abs_errors)}, Max Rel Error: {np.max(rel_errors)}\")\n",
    "    print(f\"Min Abs Error: {np.min(abs_errors)}, Min Rel Error: {np.min(rel_errors)}\")\n",
    "    print(f\"Correct estimates: {np.sum(abs_errors == 0)}\")\n",
    "\n",
    "    return estimates, true_counts, abs_errors, rel_errors"
   ]
  },
  {
   "cell_type": "code",
   "execution_count": 230,
   "id": "584296ef",
   "metadata": {},
   "outputs": [
    {
     "name": "stdout",
     "output_type": "stream",
     "text": [
      "Estimating with sketch...\n"
     ]
    },
    {
     "name": "stderr",
     "output_type": "stream",
     "text": [
      "Sketch Query:   0%|          | 0/10972 [00:00<?, ?it/s]"
     ]
    },
    {
     "name": "stderr",
     "output_type": "stream",
     "text": [
      "Sketch Query: 100%|██████████| 10972/10972 [00:00<00:00, 65984.69it/s]\n"
     ]
    },
    {
     "name": "stdout",
     "output_type": "stream",
     "text": [
      "Computing true counts...\n"
     ]
    },
    {
     "name": "stderr",
     "output_type": "stream",
     "text": [
      "True Count: 100%|██████████| 10972/10972 [09:07<00:00, 20.05it/s]"
     ]
    },
    {
     "name": "stdout",
     "output_type": "stream",
     "text": [
      "Level 3\n",
      "Mean Abs Error: 0.12850893182646736, Mean Rel Error: 2.371411654474596e-07\n",
      "Max Abs Error: 199, Max Rel Error: 0.0003672203266600112\n",
      "Min Abs Error: 0, Min Rel Error: 0.0\n",
      "Correct estimates: 10725\n"
     ]
    },
    {
     "name": "stderr",
     "output_type": "stream",
     "text": [
      "\n"
     ]
    }
   ],
   "source": [
    "estimates, true_counts, abs_errors, rel_errors = check_accruracy(p_sketch1, retail_df, query_regions, 3)"
   ]
  },
  {
   "cell_type": "code",
   "execution_count": 250,
   "id": "6c47fc25",
   "metadata": {},
   "outputs": [
    {
     "name": "stdout",
     "output_type": "stream",
     "text": [
      "Estimating with sketch...\n"
     ]
    },
    {
     "name": "stderr",
     "output_type": "stream",
     "text": [
      "Sketch Query: 100%|██████████| 1630/1630 [00:00<00:00, 7675.61it/s]\n"
     ]
    },
    {
     "name": "stdout",
     "output_type": "stream",
     "text": [
      "Computing true counts...\n"
     ]
    },
    {
     "name": "stderr",
     "output_type": "stream",
     "text": [
      "True Count: 100%|██████████| 1630/1630 [01:18<00:00, 20.73it/s]"
     ]
    },
    {
     "name": "stdout",
     "output_type": "stream",
     "text": [
      "Level 0\n",
      "Mean Abs Error: 0.12699386503067484, Mean Rel Error: 2.3434536985116476e-07\n",
      "Max Abs Error: 8, Max Rel Error: 1.4762626197387384e-05\n",
      "Min Abs Error: 0, Min Rel Error: 0.0\n",
      "Correct estimates: 1501\n"
     ]
    },
    {
     "name": "stderr",
     "output_type": "stream",
     "text": [
      "\n"
     ]
    }
   ],
   "source": [
    "estimates, true_counts, abs_errors, rel_errors = check_accruracy(p_sketch1, retail_df, query_regions, 0)"
   ]
  },
  {
   "cell_type": "code",
   "execution_count": 239,
   "id": "288bb298",
   "metadata": {},
   "outputs": [],
   "source": [
    "query_regions_level_3_cat = [region[0] for region in query_regions if region[1].level == 3]"
   ]
  },
  {
   "cell_type": "code",
   "execution_count": 242,
   "id": "ed74a415",
   "metadata": {},
   "outputs": [],
   "source": [
    "counter =  Counter(query_regions_level_3_cat).items()"
   ]
  },
  {
   "cell_type": "code",
   "execution_count": 243,
   "id": "acacadca",
   "metadata": {},
   "outputs": [
    {
     "data": {
      "text/plain": [
       "dict_items([(('238', 'United Kingdom', '*'), 15), (('825', 'United Kingdom', '*'), 111), (('237', 'United Kingdom', '*'), 15), (('852', 'United Kingdom', '*'), 105), (('851', 'United Kingdom', '*'), 169), (('826', 'United Kingdom', '*'), 79), (('PAD', 'United Kingdom', '*'), 12), (('901', 'United Kingdom', '*'), 93), (('793', 'United Kingdom', '*'), 64), (('902', 'United Kingdom', '*'), 55), (('222', 'United Kingdom', '*'), 173), (('160', 'United Kingdom', '*'), 62), (('842', 'United Kingdom', '*'), 90), (('213', 'United Kingdom', '*'), 161), (('843', 'United Kingdom', '*'), 135), (('216', 'United Kingdom', '*'), 164), (('819', 'United Kingdom', '*'), 13), (('711', 'United Kingdom', '*'), 20), (('218', 'United Kingdom', '*'), 177), (('DCG', 'United Kingdom', '*'), 16), (('354', 'United Kingdom', '*'), 42), (('771', 'United Kingdom', '*'), 16), (('233', 'United Kingdom', '*'), 178), (('727', 'United Kingdom', '*'), 103), (('212', 'United Kingdom', '*'), 165), (('214', 'United Kingdom', '*'), 177), (('470', 'United Kingdom', '*'), 28), (('450', 'United Kingdom', '*'), 28), (('751', 'United Kingdom', '*'), 23), (('231', 'United Kingdom', '*'), 181), (('728', 'United Kingdom', '*'), 99), (('849', 'United Kingdom', '*'), 177), (('374', 'United Kingdom', '*'), 113), (('352', 'United Kingdom', '*'), 32), (('228', 'United Kingdom', '*'), 180), (('620', 'United Kingdom', '*'), 33), (('226', 'United Kingdom', '*'), 180), (('221', 'United Kingdom', '*'), 190), (('720', 'United Kingdom', '*'), 10), (('850', 'United Kingdom', '*'), 170), (('AMA', 'United Kingdom', '*'), 16), (('101', 'United Kingdom', '*'), 80), (('180', 'United Kingdom', '*'), 52), (('770', 'United Kingdom', '*'), 14), (('750', 'United Kingdom', '*'), 39), (('219', 'United Kingdom', '*'), 185), (('473', 'United Kingdom', '*'), 30), (('844', 'United Kingdom', '*'), 66), (('227', 'United Kingdom', '*'), 189), (('400', 'United Kingdom', '*'), 56), (('714', 'United Kingdom', '*'), 131), (('715', 'United Kingdom', '*'), 21), (('373', 'United Kingdom', '*'), 67), (('POS', 'United Kingdom', '*'), 38), (('150', 'United Kingdom', '*'), 142), (('841', 'United Kingdom', '*'), 21), (('DOT', 'United Kingdom', '*'), 19), (('510', 'United Kingdom', '*'), 83), (('467', 'United Kingdom', '*'), 59), (('220', 'United Kingdom', '*'), 170), (('791', 'United Kingdom', '*'), 37), (('359', 'United Kingdom', '*'), 111), (('223', 'United Kingdom', '*'), 180), (('356', 'United Kingdom', '*'), 41), (('210', 'United Kingdom', '*'), 159), (('794', 'United Kingdom', '*'), 22), (('375', 'United Kingdom', '*'), 50), (('211', 'United Kingdom', '*'), 175), (('846', 'United Kingdom', '*'), 109), (('721', 'United Kingdom', '*'), 24), (('700', 'United Kingdom', '*'), 39), (('m', 'United Kingdom', '*'), 12), (('208', 'United Kingdom', '*'), 134), (('475', 'United Kingdom', '*'), 160), (('170', 'United Kingdom', '*'), 100), (('234', 'United Kingdom', '*'), 160), (('CRU', 'United Kingdom', '*'), 13), (('gif', 'United Kingdom', '*'), 17), (('225', 'United Kingdom', '*'), 179), (('710', 'United Kingdom', '*'), 90), (('722', 'United Kingdom', '*'), 22), (('780', 'United Kingdom', '*'), 15), (('461', 'United Kingdom', '*'), 26), (('481', 'United Kingdom', '*'), 151), (('232', 'United Kingdom', '*'), 180), (('236', 'United Kingdom', '*'), 54), (('781', 'United Kingdom', '*'), 21), (('900', 'United Kingdom', '*'), 90), (('D', 'United Kingdom', '*'), 28), (('BAN', 'United Kingdom', '*'), 21), (('171', 'United Kingdom', '*'), 46), (('820', 'United Kingdom', '*'), 47), (('235', 'United Kingdom', '*'), 157), (('440', 'United Kingdom', '*'), 18), (('725', 'United Kingdom', '*'), 28), (('845', 'United Kingdom', '*'), 132), (('824', 'United Kingdom', '*'), 168), (('230', 'United Kingdom', '*'), 171), (('B', 'United Kingdom', '*'), 6), (('712', 'United Kingdom', '*'), 30), (('110', 'United Kingdom', '*'), 21), (('848', 'United Kingdom', '*'), 166), (('442', 'United Kingdom', '*'), 17), (('460', 'United Kingdom', '*'), 60), (('229', 'United Kingdom', '*'), 184), (('217', 'United Kingdom', '*'), 182), (('350', 'United Kingdom', '*'), 52), (('790', 'United Kingdom', '*'), 81), (('474', 'United Kingdom', '*'), 39), (('C2', 'United Kingdom', '*'), 11), (('S', 'United Kingdom', '*'), 19), (('M', 'United Kingdom', '*'), 55), (('215', 'United Kingdom', '*'), 167), (('161', 'United Kingdom', '*'), 152), (('840', 'United Kingdom', '*'), 162), (('355', 'United Kingdom', '*'), 37), (('847', 'United Kingdom', '*'), 153), (('100', 'United Kingdom', '*'), 24), (('224', 'United Kingdom', '*'), 184), (('723', 'United Kingdom', '*'), 62), (('358', 'United Kingdom', '*'), 46), (('207', 'United Kingdom', '*'), 169), (('206', 'United Kingdom', '*'), 148), (('209', 'United Kingdom', '*'), 167), (('162', 'United Kingdom', '*'), 59)])"
      ]
     },
     "execution_count": 243,
     "metadata": {},
     "output_type": "execute_result"
    }
   ],
   "source": [
    "counter"
   ]
  },
  {
   "cell_type": "code",
   "execution_count": 235,
   "id": "5e8d8c40",
   "metadata": {},
   "outputs": [],
   "source": [
    "query_regions_level_3 = [region for region in query_regions if region[1].level == 3]"
   ]
  },
  {
   "cell_type": "code",
   "execution_count": 236,
   "id": "d3e71dd3",
   "metadata": {},
   "outputs": [
    {
     "name": "stdout",
     "output_type": "stream",
     "text": [
      "Query: (('216', 'United Kingdom', '*'), <lib.encoders.BAdicCube object at 0x75db65f73ef0>)\n",
      "Estimate: 203\n",
      "True Count: 4\n"
     ]
    }
   ],
   "source": [
    "idx = np.argmax(abs_errors)\n",
    "print(f\"Query: {query_regions_level_3[idx]}\")\n",
    "print(f\"Estimate: {estimates[idx]}\")\n",
    "print(f\"True Count: {true_counts[idx]}\")"
   ]
  },
  {
   "cell_type": "code",
   "execution_count": null,
   "id": "8b6393d4",
   "metadata": {},
   "outputs": [],
   "source": [
    "def query_subregion(sketch, query_regions, level):\n",
    "    query_regions_level = [region for region in query_regions if region[1].level == level]\n",
    "    results = []\n",
    "    for region in query_regions_level:\n",
    "        num_region = region[1]\n",
    "        results.append(sketch.base_sketches[num_region.level].query(region))\n",
    "    return np.asarray(results)"
   ]
  },
  {
   "cell_type": "code",
   "execution_count": 140,
   "id": "43a99ed1",
   "metadata": {},
   "outputs": [],
   "source": [
    "results_0 = query_subregion(p_sketch1, query_regions, level=0)"
   ]
  },
  {
   "cell_type": "code",
   "execution_count": 147,
   "id": "a3bbf316",
   "metadata": {},
   "outputs": [
    {
     "data": {
      "text/plain": [
       "array([   304,     71, 168469])"
      ]
     },
     "execution_count": 147,
     "metadata": {},
     "output_type": "execute_result"
    }
   ],
   "source": [
    "np.asarray(p_sketch.max_values)"
   ]
  },
  {
   "cell_type": "code",
   "execution_count": 148,
   "id": "6e5e6231",
   "metadata": {},
   "outputs": [
    {
     "data": {
      "text/plain": [
       "1.845328274673423e-07"
      ]
     },
     "execution_count": 148,
     "metadata": {},
     "output_type": "execute_result"
    }
   ],
   "source": [
    "abs_error_eps / (len(retail_df) * 10)"
   ]
  },
  {
   "cell_type": "code",
   "execution_count": 150,
   "id": "90a6bf37",
   "metadata": {},
   "outputs": [],
   "source": [
    "level_results_3 = query_subregion(p_sketch1, query_regions, level=3)"
   ]
  },
  {
   "cell_type": "code",
   "execution_count": 154,
   "id": "e32459c0",
   "metadata": {},
   "outputs": [
    {
     "data": {
      "text/plain": [
       "np.int64(203)"
      ]
     },
     "execution_count": 154,
     "metadata": {},
     "output_type": "execute_result"
    }
   ],
   "source": [
    "level_results_3.max()"
   ]
  },
  {
   "cell_type": "code",
   "execution_count": 59,
   "id": "ae1a8582",
   "metadata": {},
   "outputs": [],
   "source": [
    "est, details = p_sketch2.query(queries[\"queries\"][0], detailed=True)"
   ]
  },
  {
   "cell_type": "code",
   "execution_count": 32,
   "id": "549d4229",
   "metadata": {},
   "outputs": [
    {
     "data": {
      "text/plain": [
       "True"
      ]
     },
     "execution_count": 32,
     "metadata": {},
     "output_type": "execute_result"
    }
   ],
   "source": [
    "test_bf = BFParameters(n_values=100, p=0.01).build_sketch()\n",
    "test_bf.update(\"test\")\n",
    "test_bf.query(\"test\")\n"
   ]
  },
  {
   "cell_type": "code",
   "execution_count": 29,
   "id": "39a5dcac",
   "metadata": {},
   "outputs": [
    {
     "data": {
      "text/plain": [
       "array([ 4812360,  3461465,  7467374, 12085978,  1225608, 18585574,\n",
       "        6931888])"
      ]
     },
     "execution_count": 29,
     "metadata": {},
     "output_type": "execute_result"
    }
   ],
   "source": [
    "# np.sum(p_sketch.cat_index.bit_array)\n",
    "\n",
    "p_sketch.cat_index.hash_functions.b_coefficients"
   ]
  },
  {
   "cell_type": "code",
   "execution_count": 18,
   "id": "391afd96",
   "metadata": {},
   "outputs": [
    {
     "data": {
      "text/plain": [
       "{'cat_regions': 125,\n",
       " 'num_regions': 947,\n",
       " 'query_regions': 15630,\n",
       " 'queries_per_level': [534, 2000, 3147, 9949, 0]}"
      ]
     },
     "execution_count": 18,
     "metadata": {},
     "output_type": "execute_result"
    }
   ],
   "source": [
    "details"
   ]
  },
  {
   "cell_type": "code",
   "execution_count": 45,
   "id": "a291de70",
   "metadata": {},
   "outputs": [
    {
     "name": "stdout",
     "output_type": "stream",
     "text": [
      "Categorical regions: 125\n",
      "Indexed categorical regions: 125\n",
      "Numerical regions: 1420\n",
      "Indexed numerical regions: 947\n",
      "Query regions: 15630\n",
      "Level 0 queries: 534\n",
      "Level 1 queries: 2000\n",
      "Level 2 queries: 3147\n",
      "Level 3 queries: 9949\n"
     ]
    }
   ],
   "source": [
    "est, details = p_sketch2.query(queries[\"queries\"][0], debug=True, detailed=True)"
   ]
  },
  {
   "cell_type": "code",
   "execution_count": 10,
   "id": "6aca75e3",
   "metadata": {},
   "outputs": [],
   "source": [
    "true_result = query_df(retail_df, queries[\"queries\"][0])"
   ]
  },
  {
   "cell_type": "code",
   "execution_count": 30,
   "id": "079142be",
   "metadata": {},
   "outputs": [
    {
     "data": {
      "text/plain": [
       "0.0011238049192761146"
      ]
     },
     "execution_count": 30,
     "metadata": {},
     "output_type": "execute_result"
    }
   ],
   "source": [
    "np.abs(true_result - est) / len(retail_df)"
   ]
  },
  {
   "cell_type": "code",
   "execution_count": 12,
   "id": "47a52faa",
   "metadata": {},
   "outputs": [
    {
     "data": {
      "text/plain": [
       "0.002769837740284808"
      ]
     },
     "execution_count": 12,
     "metadata": {},
     "output_type": "execute_result"
    }
   ],
   "source": [
    "np.abs(true_result - est) / len(retail_df)"
   ]
  },
  {
   "cell_type": "code",
   "execution_count": 13,
   "id": "0ed4a793",
   "metadata": {},
   "outputs": [
    {
     "data": {
      "text/plain": [
       "123575"
      ]
     },
     "execution_count": 13,
     "metadata": {},
     "output_type": "execute_result"
    }
   ],
   "source": [
    "est"
   ]
  },
  {
   "cell_type": "code",
   "execution_count": null,
   "id": "8ed222d5",
   "metadata": {},
   "outputs": [],
   "source": []
  }
 ],
 "metadata": {
  "kernelspec": {
   "display_name": "Python 3",
   "language": "python",
   "name": "python3"
  },
  "language_info": {
   "codemirror_mode": {
    "name": "ipython",
    "version": 3
   },
   "file_extension": ".py",
   "mimetype": "text/x-python",
   "name": "python",
   "nbconvert_exporter": "python",
   "pygments_lexer": "ipython3",
   "version": "3.12.3"
  }
 },
 "nbformat": 4,
 "nbformat_minor": 5
}
