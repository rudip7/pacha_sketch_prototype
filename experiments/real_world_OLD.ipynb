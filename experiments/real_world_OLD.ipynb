{
 "cells": [
  {
   "cell_type": "code",
   "execution_count": 1,
   "id": "63b27858",
   "metadata": {},
   "outputs": [],
   "source": [
    "import sys\n",
    "# append the path of the parent directory\n",
    "sys.path.append(\"..\")"
   ]
  },
  {
   "cell_type": "code",
   "execution_count": 268,
   "id": "98217a93",
   "metadata": {},
   "outputs": [],
   "source": [
    "import math\n",
    "import os\n",
    "import time\n",
    "\n",
    "\n",
    "import numpy as np\n",
    "import matplotlib.pyplot as plt\n",
    "from matplotlib.patches import Rectangle\n",
    "import matplotlib.patches as patches\n",
    "\n",
    "import seaborn as sns\n",
    "import time\n",
    "import json\n",
    "import pandas as pd\n",
    "from ctypes import c_int32\n",
    "from itertools import product\n",
    "\n",
    "from scipy.stats import pearsonr\n",
    "from importlib import reload\n",
    "\n",
    "import orjson\n",
    "import gzip\n",
    "\n",
    "\n",
    "\n",
    "from lib import sketches, visualization_utils, encoders, ploting, pacha_sketch\n",
    "reload(ploting)\n",
    "reload(sketches)\n",
    "reload(visualization_utils)\n",
    "reload(encoders)\n",
    "\n",
    "reload(pacha_sketch)\n",
    "\n",
    "from lib.sketches import BloomFilter, CountMinSketch, H3HashFunctions, HashFunctionFamily, CountMinSketchHadamard, CountMinSketchLocalHashing\n",
    "from lib.visualization_utils import visualize_badic_cover, plot_b_adic_cubes\n",
    "from lib.encoders import minimal_b_adic_cover, minimal_spatial_b_adic_cover, BAdicCube, BAdicRange\n",
    "from lib.pacha_sketch import PachaSketch, ADTree, BFParameters, CMParameters\n",
    "\n",
    "from lib.ploting import set_style, plot_ylabel, plot_legend\n",
    "\n",
    "from lib import baselines\n",
    "reload(baselines)\n",
    "\n",
    "from lib.baselines import CentralDPServer, LDPServer, LDPEncoderGRR, query_df, infer_domains_and_ranges\n",
    "\n",
    "# set_style()"
   ]
  },
  {
   "cell_type": "code",
   "execution_count": 28,
   "id": "09ff309f",
   "metadata": {},
   "outputs": [],
   "source": [
    "delta = 0.05\n",
    "abs_error_eps = 1.0"
   ]
  },
  {
   "cell_type": "markdown",
   "id": "857f97a6",
   "metadata": {},
   "source": [
    "# Online Retail"
   ]
  },
  {
   "cell_type": "code",
   "execution_count": null,
   "id": "91ec14ce",
   "metadata": {},
   "outputs": [],
   "source": [
    "retail_df = pd.read_parquet(\"../data/clean/online_retail.parquet\")"
   ]
  },
  {
   "cell_type": "code",
   "execution_count": 90,
   "id": "70a5b915",
   "metadata": {},
   "outputs": [
    {
     "data": {
      "text/plain": [
       "541909"
      ]
     },
     "execution_count": 90,
     "metadata": {},
     "output_type": "execute_result"
    }
   ],
   "source": [
    "len(retail_df)"
   ]
  },
  {
   "cell_type": "code",
   "execution_count": 100,
   "id": "5adead49",
   "metadata": {},
   "outputs": [],
   "source": [
    "query_path = \"../queries/online_retail_2_cols.json\"\n",
    "with open(query_path, 'rb') as f:\n",
    "    queries = orjson.loads(f.read())\n",
    "\n",
    "ad_tree = ADTree.from_json(\"../sketches/ad_trees/online_retail.json\")\n"
   ]
  },
  {
   "cell_type": "code",
   "execution_count": 118,
   "id": "221d454b",
   "metadata": {},
   "outputs": [],
   "source": [
    "p_sketch = PachaSketch.build_with_uniform_size(\n",
    "    levels=5,\n",
    "    num_dimensions=6,\n",
    "    cat_col_map=[0,1,2],\n",
    "    num_col_map=[3,4,5],\n",
    "    bases=[2,2,2],\n",
    "    ad_tree=ad_tree,\n",
    "    cm_params=CMParameters(delta=delta, error_eps=abs_error_eps / (len(retail_df) * 10)),\n",
    "    cat_index_parameters=BFParameters(n_values=len(retail_df)*4, p=0.01),\n",
    "    num_index_parameters=BFParameters(n_values=len(retail_df)*5, p=0.01),\n",
    "    region_index_parameters= BFParameters(n_values=len(retail_df)*(5+4), p=0.01))"
   ]
  },
  {
   "cell_type": "code",
   "execution_count": null,
   "id": "acb49649",
   "metadata": {},
   "outputs": [],
   "source": [
    "BFParameters(n_values=len(retail_df)*(5+4), p=0.01).peek_size()"
   ]
  },
  {
   "cell_type": "code",
   "execution_count": 119,
   "id": "b841b413",
   "metadata": {},
   "outputs": [
    {
     "data": {
      "text/plain": [
       "1774.9829330444336"
      ]
     },
     "execution_count": 119,
     "metadata": {},
     "output_type": "execute_result"
    }
   ],
   "source": [
    "p_sketch.get_size()"
   ]
  },
  {
   "cell_type": "code",
   "execution_count": 120,
   "id": "459cb769",
   "metadata": {},
   "outputs": [
    {
     "name": "stderr",
     "output_type": "stream",
     "text": [
      "Updating: 100%|██████████| 541909/541909 [08:46<00:00, 1029.51it/s]\n"
     ]
    },
    {
     "data": {
      "text/plain": [
       "<lib.pacha_sketch.PachaSketch at 0x75da99a6d5e0>"
      ]
     },
     "execution_count": 120,
     "metadata": {},
     "output_type": "execute_result"
    }
   ],
   "source": [
    "p_sketch.update_data_frame(retail_df, workers=os.cpu_count())"
   ]
  },
  {
   "cell_type": "code",
   "execution_count": 123,
   "id": "be8b1ea2",
   "metadata": {},
   "outputs": [],
   "source": [
    "p_sketch.save_to_file(\"../sketches/online_retail_extra_index.json.gz\")"
   ]
  },
  {
   "cell_type": "code",
   "execution_count": 125,
   "id": "ec40b350",
   "metadata": {},
   "outputs": [],
   "source": [
    "p_sketch1 = PachaSketch.from_json(\"../sketches/online_retail_extra_index.json.gz\")"
   ]
  },
  {
   "cell_type": "code",
   "execution_count": 270,
   "id": "b0a21a2c",
   "metadata": {},
   "outputs": [
    {
     "data": {
      "text/plain": [
       "122074"
      ]
     },
     "execution_count": 270,
     "metadata": {},
     "output_type": "execute_result"
    }
   ],
   "source": [
    "query_df(retail_df, queries[\"queries\"][0])"
   ]
  },
  {
   "cell_type": "code",
   "execution_count": 227,
   "id": "a35cb095",
   "metadata": {},
   "outputs": [],
   "source": [
    "from tqdm import tqdm\n",
    "\n",
    "def check_accruracy(sketch, df, query_regions, level):\n",
    "    query_regions_level = [region for region in query_regions if region[1].level == level]\n",
    "    estimates = []\n",
    "    print(\"Estimating with sketch...\")\n",
    "    for region in tqdm(query_regions_level, desc=\"Sketch Query\"):\n",
    "        num_region = region[1]\n",
    "        estimates.append(sketch.base_sketches[num_region.level].query(region))\n",
    "    estimates = np.asarray(estimates)\n",
    "\n",
    "    true_counts = []\n",
    "    print(\"Computing true counts...\")\n",
    "    for region in tqdm(query_regions_level, desc=\"True Count\"):\n",
    "        true_counts.append(query_df(df, translate_query_region(region)))\n",
    "    true_counts = np.asarray(true_counts)\n",
    "\n",
    "    abs_errors = np.abs(estimates - true_counts)\n",
    "    rel_errors = abs_errors / len(df)\n",
    "\n",
    "    print(f\"Level {level}\")\n",
    "    print(f\"Mean Abs Error: {np.mean(abs_errors)}, Mean Rel Error: {np.mean(rel_errors)}\")\n",
    "    print(f\"Max Abs Error: {np.max(abs_errors)}, Max Rel Error: {np.max(rel_errors)}\")\n",
    "    print(f\"Min Abs Error: {np.min(abs_errors)}, Min Rel Error: {np.min(rel_errors)}\")\n",
    "    print(f\"Correct estimates: {np.sum(abs_errors == 0)}\")\n",
    "\n",
    "    return estimates, true_counts, abs_errors, rel_errors"
   ]
  },
  {
   "cell_type": "code",
   "execution_count": 230,
   "id": "584296ef",
   "metadata": {},
   "outputs": [
    {
     "name": "stdout",
     "output_type": "stream",
     "text": [
      "Estimating with sketch...\n"
     ]
    },
    {
     "name": "stderr",
     "output_type": "stream",
     "text": [
      "Sketch Query:   0%|          | 0/10972 [00:00<?, ?it/s]"
     ]
    },
    {
     "name": "stderr",
     "output_type": "stream",
     "text": [
      "Sketch Query: 100%|██████████| 10972/10972 [00:00<00:00, 65984.69it/s]\n"
     ]
    },
    {
     "name": "stdout",
     "output_type": "stream",
     "text": [
      "Computing true counts...\n"
     ]
    },
    {
     "name": "stderr",
     "output_type": "stream",
     "text": [
      "True Count: 100%|██████████| 10972/10972 [09:07<00:00, 20.05it/s]"
     ]
    },
    {
     "name": "stdout",
     "output_type": "stream",
     "text": [
      "Level 3\n",
      "Mean Abs Error: 0.12850893182646736, Mean Rel Error: 2.371411654474596e-07\n",
      "Max Abs Error: 199, Max Rel Error: 0.0003672203266600112\n",
      "Min Abs Error: 0, Min Rel Error: 0.0\n",
      "Correct estimates: 10725\n"
     ]
    },
    {
     "name": "stderr",
     "output_type": "stream",
     "text": [
      "\n"
     ]
    }
   ],
   "source": [
    "estimates, true_counts, abs_errors, rel_errors = check_accruracy(p_sketch1, retail_df, query_regions, 3)"
   ]
  },
  {
   "cell_type": "code",
   "execution_count": 250,
   "id": "6c47fc25",
   "metadata": {},
   "outputs": [
    {
     "name": "stdout",
     "output_type": "stream",
     "text": [
      "Estimating with sketch...\n"
     ]
    },
    {
     "name": "stderr",
     "output_type": "stream",
     "text": [
      "Sketch Query: 100%|██████████| 1630/1630 [00:00<00:00, 7675.61it/s]\n"
     ]
    },
    {
     "name": "stdout",
     "output_type": "stream",
     "text": [
      "Computing true counts...\n"
     ]
    },
    {
     "name": "stderr",
     "output_type": "stream",
     "text": [
      "True Count: 100%|██████████| 1630/1630 [01:18<00:00, 20.73it/s]"
     ]
    },
    {
     "name": "stdout",
     "output_type": "stream",
     "text": [
      "Level 0\n",
      "Mean Abs Error: 0.12699386503067484, Mean Rel Error: 2.3434536985116476e-07\n",
      "Max Abs Error: 8, Max Rel Error: 1.4762626197387384e-05\n",
      "Min Abs Error: 0, Min Rel Error: 0.0\n",
      "Correct estimates: 1501\n"
     ]
    },
    {
     "name": "stderr",
     "output_type": "stream",
     "text": [
      "\n"
     ]
    }
   ],
   "source": [
    "estimates, true_counts, abs_errors, rel_errors = check_accruracy(p_sketch1, retail_df, query_regions, 0)"
   ]
  },
  {
   "cell_type": "code",
   "execution_count": 239,
   "id": "288bb298",
   "metadata": {},
   "outputs": [],
   "source": [
    "query_regions_level_3_cat = [region[0] for region in query_regions if region[1].level == 3]"
   ]
  },
  {
   "cell_type": "code",
   "execution_count": 242,
   "id": "ed74a415",
   "metadata": {},
   "outputs": [],
   "source": [
    "counter =  Counter(query_regions_level_3_cat).items()"
   ]
  },
  {
   "cell_type": "code",
   "execution_count": 243,
   "id": "acacadca",
   "metadata": {},
   "outputs": [
    {
     "data": {
      "text/plain": [
       "dict_items([(('238', 'United Kingdom', '*'), 15), (('825', 'United Kingdom', '*'), 111), (('237', 'United Kingdom', '*'), 15), (('852', 'United Kingdom', '*'), 105), (('851', 'United Kingdom', '*'), 169), (('826', 'United Kingdom', '*'), 79), (('PAD', 'United Kingdom', '*'), 12), (('901', 'United Kingdom', '*'), 93), (('793', 'United Kingdom', '*'), 64), (('902', 'United Kingdom', '*'), 55), (('222', 'United Kingdom', '*'), 173), (('160', 'United Kingdom', '*'), 62), (('842', 'United Kingdom', '*'), 90), (('213', 'United Kingdom', '*'), 161), (('843', 'United Kingdom', '*'), 135), (('216', 'United Kingdom', '*'), 164), (('819', 'United Kingdom', '*'), 13), (('711', 'United Kingdom', '*'), 20), (('218', 'United Kingdom', '*'), 177), (('DCG', 'United Kingdom', '*'), 16), (('354', 'United Kingdom', '*'), 42), (('771', 'United Kingdom', '*'), 16), (('233', 'United Kingdom', '*'), 178), (('727', 'United Kingdom', '*'), 103), (('212', 'United Kingdom', '*'), 165), (('214', 'United Kingdom', '*'), 177), (('470', 'United Kingdom', '*'), 28), (('450', 'United Kingdom', '*'), 28), (('751', 'United Kingdom', '*'), 23), (('231', 'United Kingdom', '*'), 181), (('728', 'United Kingdom', '*'), 99), (('849', 'United Kingdom', '*'), 177), (('374', 'United Kingdom', '*'), 113), (('352', 'United Kingdom', '*'), 32), (('228', 'United Kingdom', '*'), 180), (('620', 'United Kingdom', '*'), 33), (('226', 'United Kingdom', '*'), 180), (('221', 'United Kingdom', '*'), 190), (('720', 'United Kingdom', '*'), 10), (('850', 'United Kingdom', '*'), 170), (('AMA', 'United Kingdom', '*'), 16), (('101', 'United Kingdom', '*'), 80), (('180', 'United Kingdom', '*'), 52), (('770', 'United Kingdom', '*'), 14), (('750', 'United Kingdom', '*'), 39), (('219', 'United Kingdom', '*'), 185), (('473', 'United Kingdom', '*'), 30), (('844', 'United Kingdom', '*'), 66), (('227', 'United Kingdom', '*'), 189), (('400', 'United Kingdom', '*'), 56), (('714', 'United Kingdom', '*'), 131), (('715', 'United Kingdom', '*'), 21), (('373', 'United Kingdom', '*'), 67), (('POS', 'United Kingdom', '*'), 38), (('150', 'United Kingdom', '*'), 142), (('841', 'United Kingdom', '*'), 21), (('DOT', 'United Kingdom', '*'), 19), (('510', 'United Kingdom', '*'), 83), (('467', 'United Kingdom', '*'), 59), (('220', 'United Kingdom', '*'), 170), (('791', 'United Kingdom', '*'), 37), (('359', 'United Kingdom', '*'), 111), (('223', 'United Kingdom', '*'), 180), (('356', 'United Kingdom', '*'), 41), (('210', 'United Kingdom', '*'), 159), (('794', 'United Kingdom', '*'), 22), (('375', 'United Kingdom', '*'), 50), (('211', 'United Kingdom', '*'), 175), (('846', 'United Kingdom', '*'), 109), (('721', 'United Kingdom', '*'), 24), (('700', 'United Kingdom', '*'), 39), (('m', 'United Kingdom', '*'), 12), (('208', 'United Kingdom', '*'), 134), (('475', 'United Kingdom', '*'), 160), (('170', 'United Kingdom', '*'), 100), (('234', 'United Kingdom', '*'), 160), (('CRU', 'United Kingdom', '*'), 13), (('gif', 'United Kingdom', '*'), 17), (('225', 'United Kingdom', '*'), 179), (('710', 'United Kingdom', '*'), 90), (('722', 'United Kingdom', '*'), 22), (('780', 'United Kingdom', '*'), 15), (('461', 'United Kingdom', '*'), 26), (('481', 'United Kingdom', '*'), 151), (('232', 'United Kingdom', '*'), 180), (('236', 'United Kingdom', '*'), 54), (('781', 'United Kingdom', '*'), 21), (('900', 'United Kingdom', '*'), 90), (('D', 'United Kingdom', '*'), 28), (('BAN', 'United Kingdom', '*'), 21), (('171', 'United Kingdom', '*'), 46), (('820', 'United Kingdom', '*'), 47), (('235', 'United Kingdom', '*'), 157), (('440', 'United Kingdom', '*'), 18), (('725', 'United Kingdom', '*'), 28), (('845', 'United Kingdom', '*'), 132), (('824', 'United Kingdom', '*'), 168), (('230', 'United Kingdom', '*'), 171), (('B', 'United Kingdom', '*'), 6), (('712', 'United Kingdom', '*'), 30), (('110', 'United Kingdom', '*'), 21), (('848', 'United Kingdom', '*'), 166), (('442', 'United Kingdom', '*'), 17), (('460', 'United Kingdom', '*'), 60), (('229', 'United Kingdom', '*'), 184), (('217', 'United Kingdom', '*'), 182), (('350', 'United Kingdom', '*'), 52), (('790', 'United Kingdom', '*'), 81), (('474', 'United Kingdom', '*'), 39), (('C2', 'United Kingdom', '*'), 11), (('S', 'United Kingdom', '*'), 19), (('M', 'United Kingdom', '*'), 55), (('215', 'United Kingdom', '*'), 167), (('161', 'United Kingdom', '*'), 152), (('840', 'United Kingdom', '*'), 162), (('355', 'United Kingdom', '*'), 37), (('847', 'United Kingdom', '*'), 153), (('100', 'United Kingdom', '*'), 24), (('224', 'United Kingdom', '*'), 184), (('723', 'United Kingdom', '*'), 62), (('358', 'United Kingdom', '*'), 46), (('207', 'United Kingdom', '*'), 169), (('206', 'United Kingdom', '*'), 148), (('209', 'United Kingdom', '*'), 167), (('162', 'United Kingdom', '*'), 59)])"
      ]
     },
     "execution_count": 243,
     "metadata": {},
     "output_type": "execute_result"
    }
   ],
   "source": [
    "counter"
   ]
  },
  {
   "cell_type": "code",
   "execution_count": 235,
   "id": "5e8d8c40",
   "metadata": {},
   "outputs": [],
   "source": [
    "query_regions_level_3 = [region for region in query_regions if region[1].level == 3]"
   ]
  },
  {
   "cell_type": "code",
   "execution_count": 236,
   "id": "d3e71dd3",
   "metadata": {},
   "outputs": [
    {
     "name": "stdout",
     "output_type": "stream",
     "text": [
      "Query: (('216', 'United Kingdom', '*'), <lib.encoders.BAdicCube object at 0x75db65f73ef0>)\n",
      "Estimate: 203\n",
      "True Count: 4\n"
     ]
    }
   ],
   "source": [
    "idx = np.argmax(abs_errors)\n",
    "print(f\"Query: {query_regions_level_3[idx]}\")\n",
    "print(f\"Estimate: {estimates[idx]}\")\n",
    "print(f\"True Count: {true_counts[idx]}\")"
   ]
  },
  {
   "cell_type": "code",
   "execution_count": null,
   "id": "8b6393d4",
   "metadata": {},
   "outputs": [],
   "source": [
    "def query_subregion(sketch, query_regions, level):\n",
    "    query_regions_level = [region for region in query_regions if region[1].level == level]\n",
    "    results = []\n",
    "    for region in query_regions_level:\n",
    "        num_region = region[1]\n",
    "        results.append(sketch.base_sketches[num_region.level].query(region))\n",
    "    return np.asarray(results)"
   ]
  },
  {
   "cell_type": "code",
   "execution_count": 140,
   "id": "43a99ed1",
   "metadata": {},
   "outputs": [],
   "source": [
    "results_0 = query_subregion(p_sketch1, query_regions, level=0)"
   ]
  },
  {
   "cell_type": "code",
   "execution_count": 147,
   "id": "a3bbf316",
   "metadata": {},
   "outputs": [
    {
     "data": {
      "text/plain": [
       "array([   304,     71, 168469])"
      ]
     },
     "execution_count": 147,
     "metadata": {},
     "output_type": "execute_result"
    }
   ],
   "source": [
    "np.asarray(p_sketch.max_values)"
   ]
  },
  {
   "cell_type": "code",
   "execution_count": 148,
   "id": "6e5e6231",
   "metadata": {},
   "outputs": [
    {
     "data": {
      "text/plain": [
       "1.845328274673423e-07"
      ]
     },
     "execution_count": 148,
     "metadata": {},
     "output_type": "execute_result"
    }
   ],
   "source": [
    "abs_error_eps / (len(retail_df) * 10)"
   ]
  },
  {
   "cell_type": "code",
   "execution_count": 150,
   "id": "90a6bf37",
   "metadata": {},
   "outputs": [],
   "source": [
    "level_results_3 = query_subregion(p_sketch1, query_regions, level=3)"
   ]
  },
  {
   "cell_type": "code",
   "execution_count": 154,
   "id": "e32459c0",
   "metadata": {},
   "outputs": [
    {
     "data": {
      "text/plain": [
       "np.int64(203)"
      ]
     },
     "execution_count": 154,
     "metadata": {},
     "output_type": "execute_result"
    }
   ],
   "source": [
    "level_results_3.max()"
   ]
  },
  {
   "cell_type": "code",
   "execution_count": null,
   "id": "ca4970ef",
   "metadata": {},
   "outputs": [],
   "source": [
    "top_10_percent = int(len(level_results_3) * 0.1)\n",
    "highest_10_percent = np.sort(level_results_3)[-top_10_percent:]\n",
    "highest_10_percent"
   ]
  },
  {
   "cell_type": "code",
   "execution_count": 215,
   "id": "dfb78a8e",
   "metadata": {},
   "outputs": [
    {
     "data": {
      "image/png": "[encoded data removed]",
      "text/plain": [
       "<Figure size 576x360 with 1 Axes>"
      ]
     },
     "metadata": {
      "needs_background": "light"
     },
     "output_type": "display_data"
    }
   ],
   "source": [
    "plt.figure(figsize=(8, 5))\n",
    "plt.hist(level_results_3, bins=30, edgecolor='black')\n",
    "cut_index = int(len(level_results_3) * 0.92)\n",
    "threshold = np.partition(level_results_3, cut_index)[cut_index]\n",
    "plt.axvline(threshold, color='red', linestyle='--', label='Top 8% cutoff')\n",
    "plt.title(\"Histogram of level_results_3\")\n",
    "plt.xlabel(\"Value\")\n",
    "plt.ylabel(\"Frequency\")\n",
    "plt.legend()\n",
    "plt.show()"
   ]
  },
  {
   "cell_type": "code",
   "execution_count": null,
   "id": "6605ada0",
   "metadata": {},
   "outputs": [],
   "source": []
  },
  {
   "cell_type": "code",
   "execution_count": 160,
   "id": "4db78a21",
   "metadata": {},
   "outputs": [
    {
     "name": "stdout",
     "output_type": "stream",
     "text": [
      "Level 0:\n",
      "Count 1630\n",
      "Sum 1056\n",
      "Avg 0.6478527607361964\n",
      "Approx 485\n",
      "Level 1:\n",
      "Count 5776\n",
      "Sum 3388\n",
      "Avg 0.5865650969529086\n",
      "Approx 1490\n",
      "Level 2:\n",
      "Count 4154\n",
      "Sum 7557\n",
      "Avg 1.819210399614829\n",
      "Approx 2660\n",
      "Level 3:\n",
      "Count 10972\n",
      "Sum 113277\n",
      "Avg 10.324188844331024\n",
      "Approx 46598\n",
      "Level 4:\n",
      "Count 0\n",
      "Sum 0.0\n",
      "Avg nan\n",
      "Approx 0.0\n",
      "\n",
      "Total Estimate: 51233.0\n"
     ]
    },
    {
     "name": "stderr",
     "output_type": "stream",
     "text": [
      "/tmp/ipykernel_159890/2381918677.py:7: RuntimeWarning: Mean of empty slice.\n",
      "  print(f\"Avg {level_results.mean()}\")\n"
     ]
    }
   ],
   "source": [
    "estimate = 0\n",
    "for i in range(p_sketch1.levels):\n",
    "    level_results = query_subregion(p_sketch1, query_regions, level=i)\n",
    "    print(f\"Level {i}:\")\n",
    "    print(f\"Count {len(level_results)}\")\n",
    "    print(f\"Sum {level_results.sum()}\")\n",
    "    print(f\"Avg {level_results.mean()}\")\n",
    "    # print(f\"Approx {level_results.sum() - ((abs_error_eps / 10) *len(level_results))}\")\n",
    "    top_10_percent = int(len(level_results) * 0.08)\n",
    "    highest_10_percent = np.sort(level_results)[-top_10_percent:]\n",
    "    print(f\"Approx {highest_10_percent.sum()}\")\n",
    "    estimate += highest_10_percent.sum()\n",
    "\n",
    "print(f\"\\nTotal Estimate: {estimate}\")\n"
   ]
  },
  {
   "cell_type": "code",
   "execution_count": 199,
   "id": "61443792",
   "metadata": {},
   "outputs": [
    {
     "data": {
      "text/plain": [
       "903271411722680542"
      ]
     },
     "execution_count": 199,
     "metadata": {},
     "output_type": "execute_result"
    }
   ],
   "source": [
    "hash(query_regions[3][1])"
   ]
  },
  {
   "cell_type": "code",
   "execution_count": 94,
   "id": "ae1a8582",
   "metadata": {},
   "outputs": [
    {
     "name": "stdout",
     "output_type": "stream",
     "text": [
      "Categorical regions: 125\n",
      "Indexed categorical regions: 125\n",
      "Numerical regions: 1420\n",
      "Indexed numerical regions: 967\n",
      "Query regions: 120875\n",
      "Level 0 queries: 18000\n",
      "Level 1 queries: 58875\n",
      "Level 2 queries: 19000\n",
      "Level 3 queries: 25000\n"
     ]
    }
   ],
   "source": [
    "est, details = p_sketch2.query(queries[\"queries\"][0], debug=True, detailed=True)"
   ]
  },
  {
   "cell_type": "code",
   "execution_count": 272,
   "id": "a291de70",
   "metadata": {},
   "outputs": [
    {
     "name": "stdout",
     "output_type": "stream",
     "text": [
      "Categorical regions: 125\n",
      "Indexed categorical regions: 125\n",
      "Numerical regions: 1420\n",
      "Indexed numerical regions: 948\n",
      "Query regions: 22532\n",
      "Level 0 queries: 1630\n",
      "Level 1 queries: 5776\n",
      "Level 2 queries: 4154\n",
      "Level 3 queries: 10972\n"
     ]
    }
   ],
   "source": [
    "est, details = p_sketch1.query(queries[\"queries\"][0], debug=True, detailed=True)"
   ]
  },
  {
   "cell_type": "code",
   "execution_count": 274,
   "id": "6aca75e3",
   "metadata": {},
   "outputs": [],
   "source": [
    "true_result = query_df(retail_df, queries[\"queries\"][0])"
   ]
  },
  {
   "cell_type": "code",
   "execution_count": 276,
   "id": "079142be",
   "metadata": {},
   "outputs": [
    {
     "data": {
      "text/plain": [
       "np.float64(0.005912431792053648)"
      ]
     },
     "execution_count": 276,
     "metadata": {},
     "output_type": "execute_result"
    }
   ],
   "source": [
    "np.abs(true_result - est) / len(retail_df)"
   ]
  }
 ],
 "metadata": {
  "kernelspec": {
   "display_name": "Python 3",
   "language": "python",
   "name": "python3"
  },
  "language_info": {
   "codemirror_mode": {
    "name": "ipython",
    "version": 3
   },
   "file_extension": ".py",
   "mimetype": "text/x-python",
   "name": "python",
   "nbconvert_exporter": "python",
   "pygments_lexer": "ipython3",
   "version": "3.12.3"
  }
 },
 "nbformat": 4,
 "nbformat_minor": 5
}
