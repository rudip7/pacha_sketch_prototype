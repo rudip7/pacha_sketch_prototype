{
 "cells": [
  {
   "cell_type": "code",
   "execution_count": 1,
   "id": "59a3adbe",
   "metadata": {},
   "outputs": [],
   "source": [
    "import sys\n",
    "# append the path of the parent directory\n",
    "sys.path.append(\"..\")"
   ]
  },
  {
   "cell_type": "code",
   "execution_count": 19,
   "id": "c2c6443c",
   "metadata": {},
   "outputs": [],
   "source": [
    "import math\n",
    "import os\n",
    "import time\n",
    "\n",
    "\n",
    "import numpy as np\n",
    "np.set_printoptions(legacy='1.25')\n",
    "\n",
    "import matplotlib.pyplot as plt\n",
    "from matplotlib.patches import Rectangle\n",
    "import matplotlib.patches as patches\n",
    "\n",
    "import seaborn as sns\n",
    "import time\n",
    "import json\n",
    "import pandas as pd\n",
    "from ctypes import c_int32\n",
    "from itertools import product\n",
    "import copy\n",
    "\n",
    "\n",
    "from tqdm import tqdm\n",
    "\n",
    "from scipy.stats import pearsonr\n",
    "from importlib import reload\n",
    "\n",
    "import orjson\n",
    "import gzip\n",
    "\n",
    "from scipy.stats import entropy\n",
    "\n",
    "\n",
    "\n",
    "from lib import sketches, visualization_utils, encoders, ploting, pacha_sketch\n",
    "reload(ploting)\n",
    "reload(sketches)\n",
    "reload(visualization_utils)\n",
    "reload(encoders)\n",
    "\n",
    "reload(pacha_sketch)\n",
    "\n",
    "from lib.sketches import BloomFilter, CountMinSketch, H3HashFunctions, HashFunctionFamily,\\\n",
    "      CountMinSketchHadamard, CountMinSketchLocalHashing, deterministic_hash, simple_deterministic_hash\n",
    "from lib.visualization_utils import visualize_badic_cover, plot_b_adic_cubes\n",
    "from lib.encoders import minimal_b_adic_cover, minimal_spatial_b_adic_cover, BAdicCube, BAdicRange, \\\n",
    "      minimal_b_adic_cover_array, downgrade_b_adic_range_indices\n",
    "from lib.pacha_sketch import PachaSketch, ADTree, BFParameters, CMParameters, cartesian_product\n",
    "\n",
    "from lib.ploting import set_style, plot_ylabel, plot_legend\n",
    "\n",
    "from lib import baselines\n",
    "reload(baselines)\n",
    "\n",
    "from lib.baselines import CentralDPServer, LDPServer, LDPEncoderGRR, filter_df, query_df, \\\n",
    "      infer_domains_and_ranges, translate_query_region, evaluate_queries, check_accruracy, \\\n",
    "      evaluate_queries_baselines, evaluate_equivalent_pacha_sketches\n",
    "\n",
    "# set_style()"
   ]
  },
  {
   "cell_type": "code",
   "execution_count": 3,
   "id": "2389290a",
   "metadata": {},
   "outputs": [],
   "source": [
    "delta = 0.01\n",
    "abs_error_eps = 1.0\n",
    "epsilon = 0.5"
   ]
  },
  {
   "cell_type": "code",
   "execution_count": 4,
   "id": "01cb8abf",
   "metadata": {},
   "outputs": [],
   "source": [
    "epsilon_values = [0.5, 1.0, 2.0, 4.0]\n",
    "n_silos= 5"
   ]
  },
  {
   "cell_type": "markdown",
   "id": "f1b2098e",
   "metadata": {},
   "source": [
    "# Online Retail"
   ]
  },
  {
   "cell_type": "code",
   "execution_count": 40,
   "id": "78260b32",
   "metadata": {},
   "outputs": [],
   "source": [
    "retail_df = pd.read_parquet(\"../data/clean/online_retail_no_outliers.parquet\")"
   ]
  },
  {
   "cell_type": "code",
   "execution_count": 41,
   "id": "8ac18fc7",
   "metadata": {},
   "outputs": [],
   "source": [
    "query_path = \"../queries/online_retail_2_cols.json\"\n",
    "with open(query_path, 'rb') as f:\n",
    "    queries = orjson.loads(f.read())\n",
    "\n",
    "query_path = \"../queries/online_retail_4_cols.json\"\n",
    "with open(query_path, 'rb') as f:\n",
    "    queries_4 = orjson.loads(f.read())\n",
    "\n",
    "queries[\"queries\"] = queries[\"queries\"]\n",
    "queries_4[\"queries\"] = queries_4[\"queries\"]\n",
    "\n",
    "ad_tree = ADTree.from_json(\"../sketches/ad_trees/online_retail.json\")\n"
   ]
  },
  {
   "cell_type": "markdown",
   "id": "c440d7aa",
   "metadata": {},
   "source": [
    "## Pacha Sketch"
   ]
  },
  {
   "cell_type": "markdown",
   "id": "3babaff5",
   "metadata": {},
   "source": [
    "### No differential privacy"
   ]
  },
  {
   "cell_type": "code",
   "execution_count": 42,
   "id": "4c671379",
   "metadata": {},
   "outputs": [
    {
     "data": {
      "text/plain": [
       "177.99975967407227"
      ]
     },
     "execution_count": 42,
     "metadata": {},
     "output_type": "execute_result"
    }
   ],
   "source": [
    "p_sketch = PachaSketch.build_with_uniform_size(\n",
    "    levels=6,\n",
    "    num_dimensions=6,\n",
    "    cat_col_map=[0,1,2],\n",
    "    num_col_map=[3,4,5],\n",
    "    bases=[2,2,2],\n",
    "    ad_tree=ad_tree,\n",
    "    cm_params=CMParameters(delta=delta, error_eps=abs_error_eps / len(retail_df)),\n",
    "    cat_index_parameters=BFParameters(n_values=len(retail_df)*4, p=0.01),\n",
    "    num_index_parameters=BFParameters(n_values=len(retail_df)*5, p=0.01),\n",
    "    region_index_parameters= BFParameters(n_values=len(retail_df)*(5+4), p=0.01))\n",
    "p_sketch.get_size()"
   ]
  },
  {
   "cell_type": "code",
   "execution_count": 20,
   "id": "ac4e2961",
   "metadata": {},
   "outputs": [],
   "source": [
    "p_sketch.save_to_file(\"../sketches/real_world/online_retail_uniform_array.json.gz\")\n",
    "p_sketch = PachaSketch.from_json(\"../sketches/real_world/online_retail_uniform.json.gz\")"
   ]
  },
  {
   "cell_type": "code",
   "execution_count": 43,
   "id": "97abfa44",
   "metadata": {},
   "outputs": [
    {
     "name": "stderr",
     "output_type": "stream",
     "text": [
      "Updating:   0%|          | 0/536494 [00:00<?, ?it/s]/home/rudi/artifacts/pacha_sketch_prototype/experiments/../lib/pacha_sketch.py:623: FutureWarning: Series.__getitem__ treating keys as positions is deprecated. In a future version, integer keys will always be treated as labels (consistent with DataFrame behavior). To access a value by position, use `ser.iloc[pos]`\n",
      "  cat_values = tuple(element[i] for i in self.cat_col_map)\n",
      "/home/rudi/artifacts/pacha_sketch_prototype/experiments/../lib/pacha_sketch.py:624: FutureWarning: Series.__getitem__ treating keys as positions is deprecated. In a future version, integer keys will always be treated as labels (consistent with DataFrame behavior). To access a value by position, use `ser.iloc[pos]`\n",
      "  num_values = tuple(element[i] for i in self.num_col_map)\n",
      "Updating: 100%|██████████| 536494/536494 [02:54<00:00, 3074.29it/s]\n"
     ]
    },
    {
     "data": {
      "text/plain": [
       "<lib.pacha_sketch.PachaSketch at 0x79eb0dfc9580>"
      ]
     },
     "execution_count": 43,
     "metadata": {},
     "output_type": "execute_result"
    }
   ],
   "source": [
    "p_sketch.update_data_frame(retail_df)"
   ]
  },
  {
   "cell_type": "code",
   "execution_count": 11,
   "id": "aec25ca4",
   "metadata": {},
   "outputs": [
    {
     "name": "stdout",
     "output_type": "stream",
     "text": [
      "Computing true counts...\n"
     ]
    },
    {
     "name": "stderr",
     "output_type": "stream",
     "text": [
      "True Count: 100%|██████████| 200/200 [00:04<00:00, 45.66it/s]\n"
     ]
    },
    {
     "name": "stdout",
     "output_type": "stream",
     "text": [
      "Computing estimates...\n"
     ]
    },
    {
     "name": "stderr",
     "output_type": "stream",
     "text": [
      "Estimates: 100%|██████████| 200/200 [08:32<00:00,  2.56s/it]\n"
     ]
    }
   ],
   "source": [
    "ps_results_2 = evaluate_queries(retail_df, queries[\"queries\"], p_sketch, path_to_file=\"../results/accuracy/retail_2_p_sketch.csv\")"
   ]
  },
  {
   "cell_type": "code",
   "execution_count": 124,
   "id": "a8da7dd1",
   "metadata": {},
   "outputs": [
    {
     "name": "stdout",
     "output_type": "stream",
     "text": [
      "Computing true counts...\n"
     ]
    },
    {
     "name": "stderr",
     "output_type": "stream",
     "text": [
      "True Count: 100%|██████████| 200/200 [00:06<00:00, 32.63it/s]\n"
     ]
    },
    {
     "name": "stdout",
     "output_type": "stream",
     "text": [
      "Computing estimates...\n"
     ]
    },
    {
     "name": "stderr",
     "output_type": "stream",
     "text": [
      "Estimates: 100%|██████████| 200/200 [00:24<00:00,  8.09it/s]\n"
     ]
    }
   ],
   "source": [
    "ps_results_4 = evaluate_queries(retail_df, queries_4[\"queries\"], p_sketch, path_to_file=\"../results/accuracy/retail_4_p_sketch.csv\")"
   ]
  },
  {
   "cell_type": "markdown",
   "id": "fe10d3ca",
   "metadata": {},
   "source": [
    "### Central DP"
   ]
  },
  {
   "cell_type": "code",
   "execution_count": 126,
   "id": "5a9198f6",
   "metadata": {},
   "outputs": [],
   "source": [
    "p_sketches_dp = np.empty(len(epsilon_values), dtype=object)\n",
    "for i, eps in enumerate(epsilon_values):\n",
    "    p_sketches_dp[i] = PachaSketch.build_with_uniform_size(\n",
    "        levels=6,\n",
    "        num_dimensions=6,\n",
    "        cat_col_map=[0,1,2],\n",
    "        num_col_map=[3,4,5],\n",
    "        bases=[2,2,2],\n",
    "        ad_tree=ad_tree,\n",
    "        cm_params=CMParameters(delta=delta, error_eps=abs_error_eps / len(retail_df)),\n",
    "        cat_index_parameters=BFParameters(n_values=len(retail_df)*4, p=0.01),\n",
    "        num_index_parameters=BFParameters(n_values=len(retail_df)*5, p=0.01),\n",
    "        region_index_parameters= BFParameters(n_values=len(retail_df)*(5+4), p=0.01), epsilon=eps)"
   ]
  },
  {
   "cell_type": "code",
   "execution_count": 127,
   "id": "96800622",
   "metadata": {},
   "outputs": [
    {
     "name": "stderr",
     "output_type": "stream",
     "text": [
      "Updating:   0%|          | 0/536494 [00:00<?, ?it/s]/home/rudi/artifacts/pacha_sketch_prototype/experiments/../lib/pacha_sketch.py:623: FutureWarning: Series.__getitem__ treating keys as positions is deprecated. In a future version, integer keys will always be treated as labels (consistent with DataFrame behavior). To access a value by position, use `ser.iloc[pos]`\n",
      "  cat_values = tuple(element[i] for i in self.cat_col_map)\n",
      "/home/rudi/artifacts/pacha_sketch_prototype/experiments/../lib/pacha_sketch.py:624: FutureWarning: Series.__getitem__ treating keys as positions is deprecated. In a future version, integer keys will always be treated as labels (consistent with DataFrame behavior). To access a value by position, use `ser.iloc[pos]`\n",
      "  num_values = tuple(element[i] for i in self.num_col_map)\n",
      "Updating: 100%|██████████| 536494/536494 [07:16<00:00, 1229.83it/s]\n",
      "Updating: 100%|██████████| 536494/536494 [07:10<00:00, 1245.31it/s]\n",
      "Updating: 100%|██████████| 536494/536494 [06:58<00:00, 1281.40it/s]\n",
      "Updating: 100%|██████████| 536494/536494 [07:30<00:00, 1191.99it/s]\n"
     ]
    }
   ],
   "source": [
    "for p_sketch_dp in p_sketches_dp:\n",
    "    p_sketch_dp.update_data_frame(retail_df)"
   ]
  },
  {
   "cell_type": "code",
   "execution_count": 29,
   "id": "c1764610",
   "metadata": {},
   "outputs": [
    {
     "name": "stdout",
     "output_type": "stream",
     "text": [
      "Computing true counts...\n"
     ]
    },
    {
     "name": "stderr",
     "output_type": "stream",
     "text": [
      "True Count: 100%|██████████| 200/200 [00:04<00:00, 43.96it/s]\n"
     ]
    },
    {
     "name": "stdout",
     "output_type": "stream",
     "text": [
      "Computing estimates...\n"
     ]
    },
    {
     "name": "stderr",
     "output_type": "stream",
     "text": [
      "Estimates: 100%|██████████| 200/200 [08:55<00:00,  2.68s/it]\n"
     ]
    }
   ],
   "source": [
    "dir_path = \"../results/accuracy\"\n",
    "file_names = [f\"retail_2_p_sketch_dp_{eps}.csv\" for eps in epsilon_values]\n",
    "\n",
    "evaluate_equivalent_pacha_sketches(df=retail_df, \n",
    "                                    p_sketches=p_sketches_dp, \n",
    "                                    queries=queries[\"queries\"], \n",
    "                                    dir_path=dir_path, \n",
    "                                    file_names=file_names)"
   ]
  },
  {
   "cell_type": "code",
   "execution_count": 129,
   "id": "49c869ad",
   "metadata": {},
   "outputs": [
    {
     "name": "stdout",
     "output_type": "stream",
     "text": [
      "Computing true counts...\n"
     ]
    },
    {
     "name": "stderr",
     "output_type": "stream",
     "text": [
      "True Count: 100%|██████████| 200/200 [00:07<00:00, 27.27it/s]\n"
     ]
    },
    {
     "name": "stdout",
     "output_type": "stream",
     "text": [
      "Computing estimates...\n"
     ]
    },
    {
     "name": "stderr",
     "output_type": "stream",
     "text": [
      "Estimates: 100%|██████████| 200/200 [00:27<00:00,  7.36it/s]\n"
     ]
    }
   ],
   "source": [
    "dir_path = \"../results/accuracy\"\n",
    "file_names = [f\"retail_4_p_sketch_dp_{eps}.csv\" for eps in epsilon_values]\n",
    "\n",
    "evaluate_equivalent_pacha_sketches(df=retail_df, \n",
    "                                    p_sketches=p_sketches_dp, \n",
    "                                    queries=queries_4[\"queries\"], \n",
    "                                    dir_path=dir_path, \n",
    "                                    file_names=file_names)"
   ]
  },
  {
   "cell_type": "markdown",
   "id": "ef2a412e",
   "metadata": {},
   "source": [
    "### Local Differentially Private"
   ]
  },
  {
   "cell_type": "markdown",
   "id": "73214eff",
   "metadata": {},
   "source": [
    "##### Increasing Epsilon"
   ]
  },
  {
   "cell_type": "code",
   "execution_count": 18,
   "id": "53e77396",
   "metadata": {},
   "outputs": [],
   "source": [
    "p_sketches_ldp = np.empty(len(epsilon_values), dtype=object)\n",
    "for i, eps in enumerate(epsilon_values):\n",
    "    p_sketches_ldp[i] = PachaSketch.build_with_uniform_size_ldp(\n",
    "        levels=6,\n",
    "        num_dimensions=6,\n",
    "        cat_col_map=[0,1,2],\n",
    "        num_col_map=[3,4,5],\n",
    "        bases=[2,2,2],\n",
    "        ad_tree=ad_tree,\n",
    "        cm_params=CMParameters(delta=delta, error_eps=abs_error_eps / len(retail_df)),\n",
    "        cat_index_parameters=BFParameters(n_values=len(retail_df)*4, p=0.01),\n",
    "        num_index_parameters=BFParameters(n_values=len(retail_df)*5, p=0.01),\n",
    "        region_index_parameters= BFParameters(n_values=len(retail_df)*(5+4), p=0.01),\n",
    "        epsilon=eps,\n",
    "        n_silos=n_silos\n",
    "    )"
   ]
  },
  {
   "cell_type": "code",
   "execution_count": 19,
   "id": "c71e2ab2",
   "metadata": {},
   "outputs": [
    {
     "name": "stderr",
     "output_type": "stream",
     "text": [
      "Updating:   0%|          | 0/536494 [00:00<?, ?it/s]/home/rudi/artifacts/pacha_sketch_prototype/experiments/../lib/pacha_sketch.py:623: FutureWarning: Series.__getitem__ treating keys as positions is deprecated. In a future version, integer keys will always be treated as labels (consistent with DataFrame behavior). To access a value by position, use `ser.iloc[pos]`\n",
      "  cat_values = tuple(element[i] for i in self.cat_col_map)\n",
      "/home/rudi/artifacts/pacha_sketch_prototype/experiments/../lib/pacha_sketch.py:624: FutureWarning: Series.__getitem__ treating keys as positions is deprecated. In a future version, integer keys will always be treated as labels (consistent with DataFrame behavior). To access a value by position, use `ser.iloc[pos]`\n",
      "  num_values = tuple(element[i] for i in self.num_col_map)\n",
      "Updating: 100%|██████████| 536494/536494 [02:58<00:00, 3007.14it/s]\n",
      "Updating: 100%|██████████| 536494/536494 [02:58<00:00, 3013.55it/s]\n",
      "Updating: 100%|██████████| 536494/536494 [03:08<00:00, 2853.38it/s]\n",
      "Updating: 100%|██████████| 536494/536494 [03:06<00:00, 2882.72it/s]\n"
     ]
    }
   ],
   "source": [
    "for p_sketch_ldp in p_sketches_ldp:\n",
    "    p_sketch_ldp.update_data_frame(retail_df)"
   ]
  },
  {
   "cell_type": "code",
   "execution_count": 30,
   "id": "7d6645ca",
   "metadata": {},
   "outputs": [
    {
     "name": "stdout",
     "output_type": "stream",
     "text": [
      "Computing true counts...\n"
     ]
    },
    {
     "name": "stderr",
     "output_type": "stream",
     "text": [
      "True Count: 100%|██████████| 200/200 [00:04<00:00, 43.32it/s]\n"
     ]
    },
    {
     "name": "stdout",
     "output_type": "stream",
     "text": [
      "Computing estimates...\n"
     ]
    },
    {
     "name": "stderr",
     "output_type": "stream",
     "text": [
      "Estimates: 100%|██████████| 200/200 [08:55<00:00,  2.68s/it]\n"
     ]
    }
   ],
   "source": [
    "dir_path = \"../results/accuracy\"\n",
    "file_names = [f\"retail_2_p_sketch_ldp_{eps}.csv\" for eps in epsilon_values]\n",
    "\n",
    "evaluate_equivalent_pacha_sketches(df=retail_df, \n",
    "                                    p_sketches=p_sketches_ldp, \n",
    "                                    queries=queries[\"queries\"], \n",
    "                                    dir_path=dir_path, \n",
    "                                    file_names=file_names)"
   ]
  },
  {
   "cell_type": "code",
   "execution_count": 130,
   "id": "ba87b8ae",
   "metadata": {},
   "outputs": [
    {
     "name": "stdout",
     "output_type": "stream",
     "text": [
      "Computing true counts...\n"
     ]
    },
    {
     "name": "stderr",
     "output_type": "stream",
     "text": [
      "True Count: 100%|██████████| 200/200 [00:06<00:00, 29.14it/s]\n"
     ]
    },
    {
     "name": "stdout",
     "output_type": "stream",
     "text": [
      "Computing estimates...\n"
     ]
    },
    {
     "name": "stderr",
     "output_type": "stream",
     "text": [
      "Estimates: 100%|██████████| 200/200 [00:31<00:00,  6.42it/s]\n"
     ]
    }
   ],
   "source": [
    "dir_path = \"../results/accuracy\"\n",
    "file_names = [f\"retail_4_p_sketch_ldp_{eps}.csv\" for eps in epsilon_values]\n",
    "\n",
    "evaluate_equivalent_pacha_sketches(df=retail_df, \n",
    "                                    p_sketches=p_sketches_ldp, \n",
    "                                    queries=queries_4[\"queries\"], \n",
    "                                    dir_path=dir_path, \n",
    "                                    file_names=file_names)"
   ]
  },
  {
   "cell_type": "markdown",
   "id": "ec8f9d03",
   "metadata": {},
   "source": [
    "##### Increasing N-silos"
   ]
  },
  {
   "cell_type": "code",
   "execution_count": 44,
   "id": "96d05860",
   "metadata": {},
   "outputs": [],
   "source": [
    "silos = [1,5,10,20]\n",
    "epsilon = 1.0\n",
    "p_sketches_ldp_silos = np.empty(len(silos), dtype=object)\n",
    "for i, n_silos in enumerate(silos):\n",
    "    p_sketches_ldp_silos[i] = copy.deepcopy(p_sketch)\n",
    "\n",
    "    for j in range(p_sketches_ldp_silos[i].levels):\n",
    "        p_sketches_ldp_silos[i].base_sketches[j].add_privacy_noise_ldp(epsilon=epsilon, n_silos=n_silos)\n",
    "\n",
    "    p_sketches_ldp_silos[i].epsilon = epsilon"
   ]
  },
  {
   "cell_type": "code",
   "execution_count": 35,
   "id": "8947052a",
   "metadata": {},
   "outputs": [
    {
     "name": "stdout",
     "output_type": "stream",
     "text": [
      "6503345\n",
      "6502211\n",
      "6505537\n",
      "6500400\n"
     ]
    }
   ],
   "source": [
    "print(np.sum(p_sketches_ldp_silos[0].base_sketches[0].counters)) \n",
    "print(np.sum(p_sketches_ldp_silos[1].base_sketches[0].counters))\n",
    "print(np.sum(p_sketches_ldp_silos[2].base_sketches[0].counters))\n",
    "print(np.sum(p_sketches_ldp_silos[3].base_sketches[0].counters))"
   ]
  },
  {
   "cell_type": "code",
   "execution_count": 45,
   "id": "90c39168",
   "metadata": {},
   "outputs": [
    {
     "name": "stdout",
     "output_type": "stream",
     "text": [
      "Computing true counts...\n"
     ]
    },
    {
     "name": "stderr",
     "output_type": "stream",
     "text": [
      "True Count: 100%|██████████| 200/200 [00:04<00:00, 40.96it/s]\n"
     ]
    },
    {
     "name": "stdout",
     "output_type": "stream",
     "text": [
      "Computing estimates...\n"
     ]
    },
    {
     "name": "stderr",
     "output_type": "stream",
     "text": [
      "Estimates: 100%|██████████| 200/200 [09:30<00:00,  2.85s/it]\n"
     ]
    }
   ],
   "source": [
    "dir_path = \"../results/accuracy\"\n",
    "file_names = [f\"retail_2_p_sketch_ldp_1.0_{n_silos}.csv\" for n_silos in silos]\n",
    "\n",
    "evaluate_equivalent_pacha_sketches(df=retail_df, \n",
    "                                    p_sketches=p_sketches_ldp_silos, \n",
    "                                    queries=queries[\"queries\"], \n",
    "                                    dir_path=dir_path, \n",
    "                                    file_names=file_names)"
   ]
  },
  {
   "cell_type": "markdown",
   "id": "d06e6d0e",
   "metadata": {},
   "source": [
    "## Baselines"
   ]
  },
  {
   "cell_type": "markdown",
   "id": "586741c2",
   "metadata": {},
   "source": [
    "### LDP"
   ]
  },
  {
   "cell_type": "markdown",
   "id": "ab51d3dc",
   "metadata": {},
   "source": [
    "#### Increasing epsilon"
   ]
  },
  {
   "cell_type": "code",
   "execution_count": 31,
   "id": "49cd4bed",
   "metadata": {},
   "outputs": [
    {
     "name": "stdout",
     "output_type": "stream",
     "text": [
      "Computing true counts...\n"
     ]
    },
    {
     "name": "stderr",
     "output_type": "stream",
     "text": [
      "True Count: 100%|██████████| 200/200 [00:04<00:00, 42.54it/s]\n"
     ]
    },
    {
     "name": "stdout",
     "output_type": "stream",
     "text": [
      "Computing estimates...\n"
     ]
    },
    {
     "name": "stderr",
     "output_type": "stream",
     "text": [
      "Estimates: 100%|██████████| 200/200 [00:05<00:00, 34.50it/s]\n"
     ]
    },
    {
     "name": "stdout",
     "output_type": "stream",
     "text": [
      "Computing true counts...\n"
     ]
    },
    {
     "name": "stderr",
     "output_type": "stream",
     "text": [
      "True Count: 100%|██████████| 200/200 [00:04<00:00, 40.40it/s]\n"
     ]
    },
    {
     "name": "stdout",
     "output_type": "stream",
     "text": [
      "Computing estimates...\n"
     ]
    },
    {
     "name": "stderr",
     "output_type": "stream",
     "text": [
      "Estimates: 100%|██████████| 200/200 [00:05<00:00, 35.01it/s]\n"
     ]
    },
    {
     "name": "stdout",
     "output_type": "stream",
     "text": [
      "Computing true counts...\n"
     ]
    },
    {
     "name": "stderr",
     "output_type": "stream",
     "text": [
      "True Count: 100%|██████████| 200/200 [00:04<00:00, 40.20it/s]\n"
     ]
    },
    {
     "name": "stdout",
     "output_type": "stream",
     "text": [
      "Computing estimates...\n"
     ]
    },
    {
     "name": "stderr",
     "output_type": "stream",
     "text": [
      "Estimates: 100%|██████████| 200/200 [00:05<00:00, 35.88it/s]\n"
     ]
    },
    {
     "name": "stdout",
     "output_type": "stream",
     "text": [
      "Computing true counts...\n"
     ]
    },
    {
     "name": "stderr",
     "output_type": "stream",
     "text": [
      "True Count: 100%|██████████| 200/200 [00:04<00:00, 40.06it/s]\n"
     ]
    },
    {
     "name": "stdout",
     "output_type": "stream",
     "text": [
      "Computing estimates...\n"
     ]
    },
    {
     "name": "stderr",
     "output_type": "stream",
     "text": [
      "Estimates: 100%|██████████| 200/200 [00:05<00:00, 35.67it/s]\n"
     ]
    }
   ],
   "source": [
    "ldp_servers = np.empty(len(epsilon_values), dtype=object)\n",
    "for i, eps in enumerate(epsilon_values):\n",
    "    per_query_epsilon = eps / (len(queries[\"queries\"]) + 1)\n",
    "    ldp_servers[i] = LDPServer(retail_df, epsilon=eps, number_of_partitions=n_silos, per_query_epsilon=per_query_epsilon)\n",
    "\n",
    "for i, ldp in enumerate(ldp_servers):\n",
    "    file_name = f\"../results/accuracy/retail_2_ldp_{epsilon_values[i]}.csv\"\n",
    "    evaluate_queries_baselines(df=retail_df, queries=queries[\"queries\"], baseline=ldp, path_to_file=file_name)\n",
    "    ldp.reset_budget()\n"
   ]
  },
  {
   "cell_type": "code",
   "execution_count": 131,
   "id": "8d32f727",
   "metadata": {},
   "outputs": [
    {
     "name": "stdout",
     "output_type": "stream",
     "text": [
      "Computing true counts...\n"
     ]
    },
    {
     "name": "stderr",
     "output_type": "stream",
     "text": [
      "True Count: 100%|██████████| 200/200 [00:06<00:00, 31.14it/s]\n"
     ]
    },
    {
     "name": "stdout",
     "output_type": "stream",
     "text": [
      "Computing estimates...\n"
     ]
    },
    {
     "name": "stderr",
     "output_type": "stream",
     "text": [
      "Estimates: 100%|██████████| 200/200 [00:08<00:00, 24.74it/s]\n"
     ]
    },
    {
     "name": "stdout",
     "output_type": "stream",
     "text": [
      "Computing true counts...\n"
     ]
    },
    {
     "name": "stderr",
     "output_type": "stream",
     "text": [
      "True Count: 100%|██████████| 200/200 [00:06<00:00, 28.79it/s]\n"
     ]
    },
    {
     "name": "stdout",
     "output_type": "stream",
     "text": [
      "Computing estimates...\n"
     ]
    },
    {
     "name": "stderr",
     "output_type": "stream",
     "text": [
      "Estimates: 100%|██████████| 200/200 [00:08<00:00, 22.76it/s]\n"
     ]
    },
    {
     "name": "stdout",
     "output_type": "stream",
     "text": [
      "Computing true counts...\n"
     ]
    },
    {
     "name": "stderr",
     "output_type": "stream",
     "text": [
      "True Count: 100%|██████████| 200/200 [00:06<00:00, 29.66it/s]\n"
     ]
    },
    {
     "name": "stdout",
     "output_type": "stream",
     "text": [
      "Computing estimates...\n"
     ]
    },
    {
     "name": "stderr",
     "output_type": "stream",
     "text": [
      "Estimates: 100%|██████████| 200/200 [00:08<00:00, 24.55it/s]\n"
     ]
    },
    {
     "name": "stdout",
     "output_type": "stream",
     "text": [
      "Computing true counts...\n"
     ]
    },
    {
     "name": "stderr",
     "output_type": "stream",
     "text": [
      "True Count: 100%|██████████| 200/200 [00:06<00:00, 30.25it/s]\n"
     ]
    },
    {
     "name": "stdout",
     "output_type": "stream",
     "text": [
      "Computing estimates...\n"
     ]
    },
    {
     "name": "stderr",
     "output_type": "stream",
     "text": [
      "Estimates: 100%|██████████| 200/200 [00:08<00:00, 24.73it/s]\n"
     ]
    }
   ],
   "source": [
    "ldp_servers = np.empty(len(epsilon_values), dtype=object)\n",
    "for i, eps in enumerate(epsilon_values):\n",
    "    per_query_epsilon = eps / (len(queries_4[\"queries\"]) + 1)\n",
    "    ldp_servers[i] = LDPServer(retail_df, epsilon=eps, number_of_partitions=n_silos, per_query_epsilon=per_query_epsilon)\n",
    "\n",
    "for i, ldp in enumerate(ldp_servers):\n",
    "    file_name = f\"../results/accuracy/retail_4_ldp_{epsilon_values[i]}.csv\"\n",
    "    evaluate_queries_baselines(df=retail_df, queries=queries_4[\"queries\"], baseline=ldp, path_to_file=file_name)\n",
    "    ldp.reset_budget()"
   ]
  },
  {
   "cell_type": "markdown",
   "id": "dc90f8af",
   "metadata": {},
   "source": [
    "#### Increasing number of queries"
   ]
  },
  {
   "cell_type": "code",
   "execution_count": 140,
   "id": "1d9cacb7",
   "metadata": {},
   "outputs": [
    {
     "data": {
      "text/plain": [
       "array([2048, 4096])"
      ]
     },
     "execution_count": 140,
     "metadata": {},
     "output_type": "execute_result"
    }
   ],
   "source": [
    "2**np.arange(11, 13) "
   ]
  },
  {
   "cell_type": "code",
   "execution_count": 141,
   "id": "9168a5f2",
   "metadata": {},
   "outputs": [
    {
     "name": "stdout",
     "output_type": "stream",
     "text": [
      "Computing true counts...\n"
     ]
    },
    {
     "name": "stderr",
     "output_type": "stream",
     "text": [
      "True Count: 100%|██████████| 200/200 [00:04<00:00, 43.24it/s]\n"
     ]
    },
    {
     "name": "stdout",
     "output_type": "stream",
     "text": [
      "Computing estimates...\n"
     ]
    },
    {
     "name": "stderr",
     "output_type": "stream",
     "text": [
      "Estimates: 100%|██████████| 200/200 [00:05<00:00, 37.12it/s]\n"
     ]
    },
    {
     "name": "stdout",
     "output_type": "stream",
     "text": [
      "Computing true counts...\n"
     ]
    },
    {
     "name": "stderr",
     "output_type": "stream",
     "text": [
      "True Count: 100%|██████████| 200/200 [00:04<00:00, 42.10it/s]\n"
     ]
    },
    {
     "name": "stdout",
     "output_type": "stream",
     "text": [
      "Computing estimates...\n"
     ]
    },
    {
     "name": "stderr",
     "output_type": "stream",
     "text": [
      "Estimates: 100%|██████████| 200/200 [00:05<00:00, 36.75it/s]\n"
     ]
    }
   ],
   "source": [
    "epsilon_total = 1.0\n",
    "# n_queries = 2**np.arange(0, 11) \n",
    "n_queries = 2**np.arange(11, 13) \n",
    "\n",
    "ldp_servers = np.empty(len(n_queries), dtype=object)\n",
    "for i, n in enumerate(n_queries):\n",
    "    per_query_epsilon = epsilon_total / n\n",
    "    eps = per_query_epsilon * n\n",
    "    ldp_servers[i] = LDPServer(retail_df, epsilon=eps, number_of_partitions=n_silos, per_query_epsilon=per_query_epsilon)\n",
    "\n",
    "for i, ldp in enumerate(ldp_servers):\n",
    "    file_name = f\"../results/accuracy/retail_2_ldp_nq_{n_queries[i]}.csv\"\n",
    "    evaluate_queries_baselines(df=retail_df, queries=queries[\"queries\"], baseline=ldp, path_to_file=file_name)\n",
    "    ldp.reset_budget()"
   ]
  },
  {
   "cell_type": "code",
   "execution_count": 165,
   "id": "de3dbe4e",
   "metadata": {},
   "outputs": [
    {
     "name": "stdout",
     "output_type": "stream",
     "text": [
      "Computing true counts...\n"
     ]
    },
    {
     "name": "stderr",
     "output_type": "stream",
     "text": [
      "True Count: 100%|██████████| 200/200 [00:07<00:00, 27.66it/s]\n"
     ]
    },
    {
     "name": "stdout",
     "output_type": "stream",
     "text": [
      "Computing estimates...\n"
     ]
    },
    {
     "name": "stderr",
     "output_type": "stream",
     "text": [
      "Estimates: 100%|██████████| 200/200 [00:08<00:00, 22.82it/s]\n"
     ]
    },
    {
     "name": "stdout",
     "output_type": "stream",
     "text": [
      "Computing true counts...\n"
     ]
    },
    {
     "name": "stderr",
     "output_type": "stream",
     "text": [
      "True Count: 100%|██████████| 200/200 [00:07<00:00, 26.38it/s]\n"
     ]
    },
    {
     "name": "stdout",
     "output_type": "stream",
     "text": [
      "Computing estimates...\n"
     ]
    },
    {
     "name": "stderr",
     "output_type": "stream",
     "text": [
      "Estimates: 100%|██████████| 200/200 [00:09<00:00, 22.19it/s]\n"
     ]
    },
    {
     "name": "stdout",
     "output_type": "stream",
     "text": [
      "Computing true counts...\n"
     ]
    },
    {
     "name": "stderr",
     "output_type": "stream",
     "text": [
      "True Count: 100%|██████████| 200/200 [00:07<00:00, 27.36it/s]\n"
     ]
    },
    {
     "name": "stdout",
     "output_type": "stream",
     "text": [
      "Computing estimates...\n"
     ]
    },
    {
     "name": "stderr",
     "output_type": "stream",
     "text": [
      "Estimates: 100%|██████████| 200/200 [00:09<00:00, 22.12it/s]\n"
     ]
    },
    {
     "name": "stdout",
     "output_type": "stream",
     "text": [
      "Computing true counts...\n"
     ]
    },
    {
     "name": "stderr",
     "output_type": "stream",
     "text": [
      "True Count: 100%|██████████| 200/200 [00:07<00:00, 27.46it/s]\n"
     ]
    },
    {
     "name": "stdout",
     "output_type": "stream",
     "text": [
      "Computing estimates...\n"
     ]
    },
    {
     "name": "stderr",
     "output_type": "stream",
     "text": [
      "Estimates: 100%|██████████| 200/200 [00:08<00:00, 22.58it/s]\n"
     ]
    },
    {
     "name": "stdout",
     "output_type": "stream",
     "text": [
      "Computing true counts...\n"
     ]
    },
    {
     "name": "stderr",
     "output_type": "stream",
     "text": [
      "True Count: 100%|██████████| 200/200 [00:07<00:00, 26.19it/s]\n"
     ]
    },
    {
     "name": "stdout",
     "output_type": "stream",
     "text": [
      "Computing estimates...\n"
     ]
    },
    {
     "name": "stderr",
     "output_type": "stream",
     "text": [
      "Estimates: 100%|██████████| 200/200 [00:08<00:00, 23.44it/s]\n"
     ]
    },
    {
     "name": "stdout",
     "output_type": "stream",
     "text": [
      "Computing true counts...\n"
     ]
    },
    {
     "name": "stderr",
     "output_type": "stream",
     "text": [
      "True Count: 100%|██████████| 200/200 [00:07<00:00, 27.88it/s]\n"
     ]
    },
    {
     "name": "stdout",
     "output_type": "stream",
     "text": [
      "Computing estimates...\n"
     ]
    },
    {
     "name": "stderr",
     "output_type": "stream",
     "text": [
      "Estimates: 100%|██████████| 200/200 [00:08<00:00, 22.66it/s]\n"
     ]
    },
    {
     "name": "stdout",
     "output_type": "stream",
     "text": [
      "Computing true counts...\n"
     ]
    },
    {
     "name": "stderr",
     "output_type": "stream",
     "text": [
      "True Count: 100%|██████████| 200/200 [00:07<00:00, 28.13it/s]\n"
     ]
    },
    {
     "name": "stdout",
     "output_type": "stream",
     "text": [
      "Computing estimates...\n"
     ]
    },
    {
     "name": "stderr",
     "output_type": "stream",
     "text": [
      "Estimates: 100%|██████████| 200/200 [00:08<00:00, 23.39it/s]\n"
     ]
    },
    {
     "name": "stdout",
     "output_type": "stream",
     "text": [
      "Computing true counts...\n"
     ]
    },
    {
     "name": "stderr",
     "output_type": "stream",
     "text": [
      "True Count: 100%|██████████| 200/200 [00:07<00:00, 27.91it/s]\n"
     ]
    },
    {
     "name": "stdout",
     "output_type": "stream",
     "text": [
      "Computing estimates...\n"
     ]
    },
    {
     "name": "stderr",
     "output_type": "stream",
     "text": [
      "Estimates: 100%|██████████| 200/200 [00:08<00:00, 22.57it/s]\n"
     ]
    },
    {
     "name": "stdout",
     "output_type": "stream",
     "text": [
      "Computing true counts...\n"
     ]
    },
    {
     "name": "stderr",
     "output_type": "stream",
     "text": [
      "True Count: 100%|██████████| 200/200 [00:07<00:00, 27.54it/s]\n"
     ]
    },
    {
     "name": "stdout",
     "output_type": "stream",
     "text": [
      "Computing estimates...\n"
     ]
    },
    {
     "name": "stderr",
     "output_type": "stream",
     "text": [
      "Estimates: 100%|██████████| 200/200 [00:08<00:00, 22.73it/s]\n"
     ]
    },
    {
     "name": "stdout",
     "output_type": "stream",
     "text": [
      "Computing true counts...\n"
     ]
    },
    {
     "name": "stderr",
     "output_type": "stream",
     "text": [
      "True Count: 100%|██████████| 200/200 [00:07<00:00, 25.97it/s]\n"
     ]
    },
    {
     "name": "stdout",
     "output_type": "stream",
     "text": [
      "Computing estimates...\n"
     ]
    },
    {
     "name": "stderr",
     "output_type": "stream",
     "text": [
      "Estimates: 100%|██████████| 200/200 [00:09<00:00, 21.43it/s]\n"
     ]
    },
    {
     "name": "stdout",
     "output_type": "stream",
     "text": [
      "Computing true counts...\n"
     ]
    },
    {
     "name": "stderr",
     "output_type": "stream",
     "text": [
      "True Count: 100%|██████████| 200/200 [00:07<00:00, 27.22it/s]\n"
     ]
    },
    {
     "name": "stdout",
     "output_type": "stream",
     "text": [
      "Computing estimates...\n"
     ]
    },
    {
     "name": "stderr",
     "output_type": "stream",
     "text": [
      "Estimates: 100%|██████████| 200/200 [00:08<00:00, 22.70it/s]\n"
     ]
    },
    {
     "name": "stdout",
     "output_type": "stream",
     "text": [
      "Computing true counts...\n"
     ]
    },
    {
     "name": "stderr",
     "output_type": "stream",
     "text": [
      "True Count: 100%|██████████| 200/200 [00:07<00:00, 27.75it/s]\n"
     ]
    },
    {
     "name": "stdout",
     "output_type": "stream",
     "text": [
      "Computing estimates...\n"
     ]
    },
    {
     "name": "stderr",
     "output_type": "stream",
     "text": [
      "Estimates: 100%|██████████| 200/200 [00:09<00:00, 22.14it/s]\n"
     ]
    },
    {
     "name": "stdout",
     "output_type": "stream",
     "text": [
      "Computing true counts...\n"
     ]
    },
    {
     "name": "stderr",
     "output_type": "stream",
     "text": [
      "True Count: 100%|██████████| 200/200 [00:07<00:00, 27.68it/s]\n"
     ]
    },
    {
     "name": "stdout",
     "output_type": "stream",
     "text": [
      "Computing estimates...\n"
     ]
    },
    {
     "name": "stderr",
     "output_type": "stream",
     "text": [
      "Estimates: 100%|██████████| 200/200 [00:08<00:00, 23.09it/s]\n"
     ]
    }
   ],
   "source": [
    "epsilon_total = 0.5\n",
    "# n_queries = 2**np.arange(0, 11) \n",
    "n_queries = 2**np.arange(0, 13) \n",
    "\n",
    "ldp_servers = np.empty(len(n_queries), dtype=object)\n",
    "for i, n in enumerate(n_queries):\n",
    "    per_query_epsilon = epsilon_total / n\n",
    "    eps = per_query_epsilon * n\n",
    "    ldp_servers[i] = LDPServer(retail_df, epsilon=eps, number_of_partitions=n_silos, per_query_epsilon=per_query_epsilon)\n",
    "\n",
    "for i, ldp in enumerate(ldp_servers):\n",
    "    file_name = f\"../results/accuracy/retail_2_ldp_0.5_nq_{n_queries[i]}.csv\"\n",
    "    evaluate_queries_baselines(df=retail_df, queries=queries[\"queries\"], baseline=ldp, path_to_file=file_name)\n",
    "    ldp.reset_budget()"
   ]
  },
  {
   "cell_type": "markdown",
   "id": "76819db7",
   "metadata": {},
   "source": [
    "#### Increasing N-Silos"
   ]
  },
  {
   "cell_type": "code",
   "execution_count": 51,
   "id": "a12d443e",
   "metadata": {},
   "outputs": [
    {
     "name": "stdout",
     "output_type": "stream",
     "text": [
      "Computing true counts...\n"
     ]
    },
    {
     "name": "stderr",
     "output_type": "stream",
     "text": [
      "True Count: 100%|██████████| 200/200 [00:04<00:00, 42.90it/s]\n"
     ]
    },
    {
     "name": "stdout",
     "output_type": "stream",
     "text": [
      "Computing estimates...\n"
     ]
    },
    {
     "name": "stderr",
     "output_type": "stream",
     "text": [
      "Estimates: 100%|██████████| 200/200 [00:04<00:00, 42.68it/s]\n"
     ]
    },
    {
     "name": "stdout",
     "output_type": "stream",
     "text": [
      "Computing true counts...\n"
     ]
    },
    {
     "name": "stderr",
     "output_type": "stream",
     "text": [
      "True Count: 100%|██████████| 200/200 [00:04<00:00, 41.79it/s]\n"
     ]
    },
    {
     "name": "stdout",
     "output_type": "stream",
     "text": [
      "Computing estimates...\n"
     ]
    },
    {
     "name": "stderr",
     "output_type": "stream",
     "text": [
      "Estimates: 100%|██████████| 200/200 [00:04<00:00, 42.13it/s]\n"
     ]
    },
    {
     "name": "stdout",
     "output_type": "stream",
     "text": [
      "Computing true counts...\n"
     ]
    },
    {
     "name": "stderr",
     "output_type": "stream",
     "text": [
      "True Count: 100%|██████████| 200/200 [00:04<00:00, 42.19it/s]\n"
     ]
    },
    {
     "name": "stdout",
     "output_type": "stream",
     "text": [
      "Computing estimates...\n"
     ]
    },
    {
     "name": "stderr",
     "output_type": "stream",
     "text": [
      "Estimates: 100%|██████████| 200/200 [00:05<00:00, 38.95it/s]\n"
     ]
    },
    {
     "name": "stdout",
     "output_type": "stream",
     "text": [
      "Computing true counts...\n"
     ]
    },
    {
     "name": "stderr",
     "output_type": "stream",
     "text": [
      "True Count: 100%|██████████| 200/200 [00:04<00:00, 42.56it/s]\n"
     ]
    },
    {
     "name": "stdout",
     "output_type": "stream",
     "text": [
      "Computing estimates...\n"
     ]
    },
    {
     "name": "stderr",
     "output_type": "stream",
     "text": [
      "Estimates: 100%|██████████| 200/200 [00:05<00:00, 36.73it/s]\n"
     ]
    }
   ],
   "source": [
    "silos = [1,5,10,20]\n",
    "epsilon = 1.0\n",
    "ldp_servers_silos = np.empty(len(silos), dtype=object)\n",
    "for i, n_silos in enumerate(silos):\n",
    "    per_query_epsilon = epsilon / (len(queries[\"queries\"]) + 1)\n",
    "    ldp_servers_silos[i] = LDPServer(retail_df, epsilon=epsilon, number_of_partitions=n_silos, per_query_epsilon=per_query_epsilon)\n",
    "\n",
    "for i, ldp in enumerate(ldp_servers_silos):\n",
    "    file_name = f\"../results/accuracy/retail_2_ldp_1.0_{silos[i]}.csv\"\n",
    "    evaluate_queries_baselines(df=retail_df, queries=queries[\"queries\"], baseline=ldp, path_to_file=file_name)\n",
    "    ldp.reset_budget()\n"
   ]
  },
  {
   "cell_type": "markdown",
   "id": "adeb402d",
   "metadata": {},
   "source": [
    "### GRR"
   ]
  },
  {
   "cell_type": "code",
   "execution_count": 33,
   "id": "cde48a91",
   "metadata": {},
   "outputs": [
    {
     "name": "stderr",
     "output_type": "stream",
     "text": [
      "Privatizing rows: 100%|██████████| 536494/536494 [02:29<00:00, 3599.66it/s]\n",
      "Privatizing rows: 100%|██████████| 536494/536494 [02:27<00:00, 3633.48it/s]\n",
      "Privatizing rows: 100%|██████████| 536494/536494 [02:27<00:00, 3625.72it/s]\n",
      "Privatizing rows: 100%|██████████| 536494/536494 [02:26<00:00, 3661.22it/s]\n"
     ]
    },
    {
     "name": "stdout",
     "output_type": "stream",
     "text": [
      "Computing true counts...\n"
     ]
    },
    {
     "name": "stderr",
     "output_type": "stream",
     "text": [
      "True Count: 100%|██████████| 200/200 [00:05<00:00, 38.63it/s]\n"
     ]
    },
    {
     "name": "stdout",
     "output_type": "stream",
     "text": [
      "Computing estimates...\n"
     ]
    },
    {
     "name": "stderr",
     "output_type": "stream",
     "text": [
      "Estimates: 100%|██████████| 200/200 [00:06<00:00, 31.12it/s]\n"
     ]
    },
    {
     "name": "stdout",
     "output_type": "stream",
     "text": [
      "Computing true counts...\n"
     ]
    },
    {
     "name": "stderr",
     "output_type": "stream",
     "text": [
      "True Count: 100%|██████████| 200/200 [00:05<00:00, 38.84it/s]\n"
     ]
    },
    {
     "name": "stdout",
     "output_type": "stream",
     "text": [
      "Computing estimates...\n"
     ]
    },
    {
     "name": "stderr",
     "output_type": "stream",
     "text": [
      "Estimates: 100%|██████████| 200/200 [00:06<00:00, 30.42it/s]\n"
     ]
    },
    {
     "name": "stdout",
     "output_type": "stream",
     "text": [
      "Computing true counts...\n"
     ]
    },
    {
     "name": "stderr",
     "output_type": "stream",
     "text": [
      "True Count: 100%|██████████| 200/200 [00:05<00:00, 39.50it/s]\n"
     ]
    },
    {
     "name": "stdout",
     "output_type": "stream",
     "text": [
      "Computing estimates...\n"
     ]
    },
    {
     "name": "stderr",
     "output_type": "stream",
     "text": [
      "Estimates: 100%|██████████| 200/200 [00:06<00:00, 29.05it/s]\n"
     ]
    },
    {
     "name": "stdout",
     "output_type": "stream",
     "text": [
      "Computing true counts...\n"
     ]
    },
    {
     "name": "stderr",
     "output_type": "stream",
     "text": [
      "True Count: 100%|██████████| 200/200 [00:05<00:00, 39.80it/s]\n"
     ]
    },
    {
     "name": "stdout",
     "output_type": "stream",
     "text": [
      "Computing estimates...\n"
     ]
    },
    {
     "name": "stderr",
     "output_type": "stream",
     "text": [
      "Estimates: 100%|██████████| 200/200 [00:06<00:00, 32.05it/s]\n"
     ]
    }
   ],
   "source": [
    "grr_servers = np.empty(len(epsilon_values), dtype=object)\n",
    "categorical_domains, numerical_ranges = infer_domains_and_ranges(retail_df)\n",
    "for i, eps in enumerate(epsilon_values):\n",
    "    grr_servers[i] = LDPEncoderGRR(df=retail_df, epsilon=eps, categorical_domains=categorical_domains, numerical_ranges=numerical_ranges)\n",
    "\n",
    "for i, grr in enumerate(grr_servers):\n",
    "    file_name = f\"../results/accuracy/retail_2_grr_{epsilon_values[i]}.csv\"\n",
    "    evaluate_queries_baselines(df=retail_df, queries=queries[\"queries\"], baseline=grr, path_to_file=file_name)"
   ]
  },
  {
   "cell_type": "code",
   "execution_count": 133,
   "id": "3b926d3e",
   "metadata": {},
   "outputs": [
    {
     "name": "stdout",
     "output_type": "stream",
     "text": [
      "Computing true counts...\n"
     ]
    },
    {
     "name": "stderr",
     "output_type": "stream",
     "text": [
      "True Count: 100%|██████████| 200/200 [00:07<00:00, 27.08it/s]\n"
     ]
    },
    {
     "name": "stdout",
     "output_type": "stream",
     "text": [
      "Computing estimates...\n"
     ]
    },
    {
     "name": "stderr",
     "output_type": "stream",
     "text": [
      "Estimates: 100%|██████████| 200/200 [00:10<00:00, 19.50it/s]\n"
     ]
    },
    {
     "name": "stdout",
     "output_type": "stream",
     "text": [
      "Computing true counts...\n"
     ]
    },
    {
     "name": "stderr",
     "output_type": "stream",
     "text": [
      "True Count: 100%|██████████| 200/200 [00:07<00:00, 26.90it/s]\n"
     ]
    },
    {
     "name": "stdout",
     "output_type": "stream",
     "text": [
      "Computing estimates...\n"
     ]
    },
    {
     "name": "stderr",
     "output_type": "stream",
     "text": [
      "Estimates: 100%|██████████| 200/200 [00:10<00:00, 19.00it/s]\n"
     ]
    },
    {
     "name": "stdout",
     "output_type": "stream",
     "text": [
      "Computing true counts...\n"
     ]
    },
    {
     "name": "stderr",
     "output_type": "stream",
     "text": [
      "True Count: 100%|██████████| 200/200 [00:06<00:00, 29.37it/s]\n"
     ]
    },
    {
     "name": "stdout",
     "output_type": "stream",
     "text": [
      "Computing estimates...\n"
     ]
    },
    {
     "name": "stderr",
     "output_type": "stream",
     "text": [
      "Estimates: 100%|██████████| 200/200 [00:10<00:00, 18.57it/s]\n"
     ]
    },
    {
     "name": "stdout",
     "output_type": "stream",
     "text": [
      "Computing true counts...\n"
     ]
    },
    {
     "name": "stderr",
     "output_type": "stream",
     "text": [
      "True Count: 100%|██████████| 200/200 [00:06<00:00, 30.09it/s]\n"
     ]
    },
    {
     "name": "stdout",
     "output_type": "stream",
     "text": [
      "Computing estimates...\n"
     ]
    },
    {
     "name": "stderr",
     "output_type": "stream",
     "text": [
      "Estimates: 100%|██████████| 200/200 [00:09<00:00, 20.20it/s]\n"
     ]
    }
   ],
   "source": [
    "for i, grr in enumerate(grr_servers):\n",
    "    file_name = f\"../results/accuracy/retail_4_grr_{epsilon_values[i]}.csv\"\n",
    "    evaluate_queries_baselines(df=retail_df, queries=queries_4[\"queries\"], baseline=grr, path_to_file=file_name)"
   ]
  },
  {
   "cell_type": "markdown",
   "id": "7ce1e362",
   "metadata": {},
   "source": [
    "# Plots"
   ]
  },
  {
   "cell_type": "code",
   "execution_count": 29,
   "id": "77e3de4b",
   "metadata": {},
   "outputs": [],
   "source": [
    "def repeat_results(field_to_collect, n_repetitions, file_name):\n",
    "    results_df = pd.read_csv(file_name)\n",
    "    median = results_df[field_to_collect].median()\n",
    "    q25 = results_df[field_to_collect].quantile(0.25)\n",
    "    q75 = results_df[field_to_collect].quantile(0.75)\n",
    "\n",
    "    median = np.full(n_repetitions, median)\n",
    "    q25 = np.full(n_repetitions, q25)\n",
    "    q75 = np.full(n_repetitions, q75)\n",
    "\n",
    "    return median, q25, q75"
   ]
  },
  {
   "cell_type": "code",
   "execution_count": 24,
   "id": "bf642b61",
   "metadata": {},
   "outputs": [],
   "source": [
    "def collect_results(field_to_collect, file_names, dir_path=\"../results/accuracy\"):\n",
    "    res_medians = np.empty(len(file_names), dtype=float)\n",
    "    res_q25 = np.empty(len(file_names), dtype=float)\n",
    "    res_q75 = np.empty(len(file_names), dtype=float)\n",
    "    for i, file_name in enumerate(file_names):\n",
    "        results_df = pd.read_csv(f\"{dir_path}/{file_name}\")\n",
    "        res_medians[i] = results_df[field_to_collect].median()\n",
    "        res_q25[i] = results_df[field_to_collect].quantile(0.25)\n",
    "        res_q75[i] = results_df[field_to_collect].quantile(0.75)\n",
    "    return res_medians, res_q25, res_q75"
   ]
  },
  {
   "cell_type": "code",
   "execution_count": 25,
   "id": "76ec26bb",
   "metadata": {},
   "outputs": [],
   "source": [
    "def compute_relative_entropy(results_df: pd.DataFrame) -> float:\n",
    "    # Ensure no negative or zero values for entropy calculation\n",
    "    true_counts = results_df['true_counts'].clip(lower=1).astype(float)\n",
    "    estimates = results_df['estimates'].clip(lower=1).astype(float)\n",
    "\n",
    "    # Normalize to probability distributions\n",
    "    true_dist = true_counts / true_counts.sum()\n",
    "    est_dist = estimates / estimates.sum()\n",
    "\n",
    "    # Compute relative entropy (Kullback-Leibler divergence)\n",
    "    relative_entropy = entropy(true_dist, est_dist)\n",
    "    return relative_entropy"
   ]
  },
  {
   "cell_type": "code",
   "execution_count": 26,
   "id": "4d73382a",
   "metadata": {},
   "outputs": [],
   "source": [
    "def collect_relative_entropies(file_names, dir_path=\"../results/accuracy\"):\n",
    "    relative_entropies = np.empty(len(file_names), dtype=float)\n",
    "    for i, file_name in enumerate(file_names):\n",
    "        results_df = pd.read_csv(f\"{dir_path}/{file_name}\")\n",
    "        relative_entropies[i] = compute_relative_entropy(results_df)\n",
    "    return relative_entropies"
   ]
  },
  {
   "cell_type": "markdown",
   "id": "b71b240a",
   "metadata": {},
   "source": [
    "## Accuracy increasing epsilon"
   ]
  },
  {
   "cell_type": "code",
   "execution_count": 153,
   "id": "e18c0607",
   "metadata": {},
   "outputs": [],
   "source": [
    "epsilon_values = [0.5, 1.0, 2.0, 4.0]\n",
    "# type_of_error = \"relative_error\"\n",
    "type_of_error = \"normalized_error\"\n",
    "\n",
    "# Normal Pacha Sketch results\n",
    "p_sketch_results_2_df = pd.read_csv(\"../results/accuracy/retail_2_p_sketch.csv\")\n",
    "p_sketch_median = p_sketch_results_2_df[type_of_error].median()\n",
    "p_sketch_q25 = p_sketch_results_2_df[type_of_error].quantile(0.25)\n",
    "p_sketch_q75 = p_sketch_results_2_df[type_of_error].quantile(0.75)\n",
    "\n",
    "p_sketch_median = np.full(len(epsilon_values), p_sketch_median)\n",
    "p_sketch_q25 = np.full(len(epsilon_values), p_sketch_q25)\n",
    "p_sketch_q75 = np.full(len(epsilon_values), p_sketch_q75)\n",
    "\n",
    "# Pacha Sketch DP results\n",
    "p_sketch_dp_files = [f\"retail_2_p_sketch_dp_{eps}.csv\" for eps in epsilon_values]\n",
    "p_sketch_dp_median, p_sketch_dp_q25, p_sketch_dp_q75 = collect_results(\n",
    "    field_to_collect=type_of_error,\n",
    "    file_names=p_sketch_dp_files,\n",
    "    dir_path=\"../results/accuracy\"\n",
    ")\n",
    "\n",
    "# Pacha Sketch LDP results\n",
    "p_sketch_ldp_files = [f\"retail_2_p_sketch_ldp_{eps}.csv\" for eps in epsilon_values]\n",
    "p_sketch_ldp_median, p_sketch_ldp_q25, p_sketch_ldp_q75 = collect_results(\n",
    "    field_to_collect=type_of_error,\n",
    "    file_names=p_sketch_ldp_files,\n",
    "    dir_path=\"../results/accuracy\"\n",
    ")\n",
    "\n",
    "# LDP results\n",
    "ldp_files = [f\"retail_2_ldp_{eps}.csv\" for eps in epsilon_values]\n",
    "ldp_median, ldp_q25, ldp_q75 = collect_results(\n",
    "    field_to_collect=type_of_error,\n",
    "    file_names=ldp_files,\n",
    "    dir_path=\"../results/accuracy\"\n",
    ")\n",
    "\n",
    "# GRR results\n",
    "grr_files = [f\"retail_2_grr_{eps}.csv\" for eps in epsilon_values]\n",
    "grr_median, grr_q25, grr_q75 = collect_results(\n",
    "    field_to_collect=type_of_error,\n",
    "    file_names=grr_files,\n",
    "    dir_path=\"../results/accuracy\"\n",
    ")"
   ]
  },
  {
   "cell_type": "code",
   "execution_count": 157,
   "id": "ab683fac",
   "metadata": {},
   "outputs": [
    {
     "data": {
      "image/png": "[encoded data removed]",
      "text/plain": [
       "<Figure size 432x288 with 1 Axes>"
      ]
     },
     "metadata": {
      "needs_background": "light"
     },
     "output_type": "display_data"
    }
   ],
   "source": [
    "colors = ['#46a4e8', '#46a4e8', '#46a4e8', 'tab:orange', 'tab:green']\n",
    "hatches = ['', '//', '..', '', '']\n",
    "methods = ['Pacha Sketch (No DP)', 'Pacha Sketch (Central DP)', 'Pacha Sketch (LDP)', 'LDP Server', 'GRR']\n",
    "medians = [p_sketch_median, p_sketch_dp_median, p_sketch_ldp_median, ldp_median, grr_median]\n",
    "q25 = [p_sketch_q25, p_sketch_dp_q25, p_sketch_ldp_q25, ldp_q25, grr_q25]\n",
    "q75 = [p_sketch_q75, p_sketch_dp_q75, p_sketch_ldp_q75, ldp_q75, grr_q75]\n",
    "\n",
    "x = np.arange(len(epsilon_values))\n",
    "width = 0.16\n",
    "\n",
    "plt.figure(figsize=(6, 4))\n",
    "for i, (median, lower, upper, color, hatch, label) in enumerate(zip(medians, q25, q75, colors, hatches, methods)):\n",
    "    err = [median - lower, upper - median]\n",
    "    # plt.bar(x + i*width - width*2, median, width=width, yerr=err, label=label, color=color, hatch=hatch, capsize=4, edgecolor='black')\n",
    "    plt.bar(x + i*width - width*2, median, width=width, label=label, color=color, hatch=hatch, capsize=4, edgecolor='black')\n",
    "\n",
    "label = type_of_error.replace('_', ' ').capitalize()\n",
    "plt.xticks(x, epsilon_values)\n",
    "plt.xlabel(\"Epsilon\")\n",
    "plt.ylabel(label)\n",
    "# plt.yscale(\"log\")\n",
    "# for y in [0.001, 0.01, 0.1, 1]:\n",
    "#     plt.axhline(y, color='gray', linestyle='--', linewidth=0.7, alpha=0.5)\n",
    "plt.grid(True, which='both', axis='y', linestyle='--', linewidth=0.5)\n",
    "\n",
    "plt.legend()\n",
    "plt.title(f\"{label} vs Epsilon (Bar Plot)\")\n",
    "plt.tight_layout()\n",
    "plt.savefig(\"../figures/accuracy/accuracy_vs_epsilon_bar_plot.png\", dpi=300)\n",
    "plt.show()\n"
   ]
  },
  {
   "cell_type": "code",
   "execution_count": 158,
   "id": "df8410a5",
   "metadata": {},
   "outputs": [
    {
     "data": {
      "image/png": "[encoded data removed]",
      "text/plain": [
       "<Figure size 432x288 with 1 Axes>"
      ]
     },
     "metadata": {
      "needs_background": "light"
     },
     "output_type": "display_data"
    }
   ],
   "source": [
    "epsilon_values = [0.5, 1.0, 2.0, 4.0]\n",
    "# type_of_error = \"relative_error\"\n",
    "type_of_error = \"normalized_error\"\n",
    "# type_of_error = \"absolute_error\"\n",
    "\n",
    "# Normal Pacha Sketch results\n",
    "p_sketch_results_2_df = pd.read_csv(\"../results/accuracy/retail_4_p_sketch.csv\")\n",
    "p_sketch_median = p_sketch_results_2_df[type_of_error].median()\n",
    "p_sketch_q25 = p_sketch_results_2_df[type_of_error].quantile(0.25)\n",
    "p_sketch_q75 = p_sketch_results_2_df[type_of_error].quantile(0.75)\n",
    "\n",
    "p_sketch_median = np.full(len(epsilon_values), p_sketch_median)\n",
    "p_sketch_q25 = np.full(len(epsilon_values), p_sketch_q25)\n",
    "p_sketch_q75 = np.full(len(epsilon_values), p_sketch_q75)\n",
    "\n",
    "# Pacha Sketch DP results\n",
    "p_sketch_dp_files = [f\"retail_4_p_sketch_dp_{eps}.csv\" for eps in epsilon_values]\n",
    "p_sketch_dp_median, p_sketch_dp_q25, p_sketch_dp_q75 = collect_results(\n",
    "    field_to_collect=type_of_error,\n",
    "    file_names=p_sketch_dp_files,\n",
    "    dir_path=\"../results/accuracy\"\n",
    ")\n",
    "\n",
    "# Pacha Sketch LDP results\n",
    "p_sketch_ldp_files = [f\"retail_4_p_sketch_ldp_{eps}.csv\" for eps in epsilon_values]\n",
    "p_sketch_ldp_median, p_sketch_ldp_q25, p_sketch_ldp_q75 = collect_results(\n",
    "    field_to_collect=type_of_error,\n",
    "    file_names=p_sketch_ldp_files,\n",
    "    dir_path=\"../results/accuracy\"\n",
    ")\n",
    "\n",
    "# LDP results\n",
    "ldp_files = [f\"retail_4_ldp_{eps}.csv\" for eps in epsilon_values]\n",
    "ldp_median, ldp_q25, ldp_q75 = collect_results(\n",
    "    field_to_collect=type_of_error,\n",
    "    file_names=ldp_files,\n",
    "    dir_path=\"../results/accuracy\"\n",
    ")\n",
    "\n",
    "# GRR results\n",
    "grr_files = [f\"retail_4_grr_{eps}.csv\" for eps in epsilon_values]\n",
    "grr_median, grr_q25, grr_q75 = collect_results(\n",
    "    field_to_collect=type_of_error,\n",
    "    file_names=grr_files,\n",
    "    dir_path=\"../results/accuracy\"\n",
    ")\n",
    "\n",
    "colors = ['#46a4e8', '#46a4e8', '#46a4e8', 'tab:orange', 'tab:green']\n",
    "hatches = ['', '//', '..', '', '']\n",
    "methods = ['Pacha Sketch (No DP)', 'Pacha Sketch (Central DP)', 'Pacha Sketch (LDP)', 'LDP Server', 'GRR']\n",
    "medians = [p_sketch_median, p_sketch_dp_median, p_sketch_ldp_median, ldp_median, grr_median]\n",
    "q25 = [p_sketch_q25, p_sketch_dp_q25, p_sketch_ldp_q25, ldp_q25, grr_q25]\n",
    "q75 = [p_sketch_q75, p_sketch_dp_q75, p_sketch_ldp_q75, ldp_q75, grr_q75]\n",
    "\n",
    "x = np.arange(len(epsilon_values))\n",
    "width = 0.16\n",
    "\n",
    "plt.figure(figsize=(6, 4))\n",
    "for i, (median, lower, upper, color, hatch, label) in enumerate(zip(medians, q25, q75, colors, hatches, methods)):\n",
    "    err = [median - lower, upper - median]\n",
    "    # plt.bar(x + i*width - width*2, median, width=width, yerr=err, label=label, color=color, hatch=hatch, capsize=4, edgecolor='black')\n",
    "    plt.bar(x + i*width - width*2, median, width=width, label=label, color=color, hatch=hatch, capsize=4, edgecolor='black')\n",
    "\n",
    "label = type_of_error.replace('_', ' ').capitalize()\n",
    "plt.xticks(x, epsilon_values)\n",
    "plt.xlabel(\"Epsilon\")\n",
    "plt.ylabel(label)\n",
    "# plt.yscale(\"log\")\n",
    "# for y in [0.001, 0.01, 0.1, 1]:\n",
    "#     plt.axhline(y, color='gray', linestyle='--', linewidth=0.7, alpha=0.5)\n",
    "plt.grid(True, which='both', axis='y', linestyle='--', linewidth=0.5)\n",
    "\n",
    "plt.legend()\n",
    "plt.title(f\"{label} vs Epsilon (Bar Plot)\")\n",
    "plt.tight_layout()\n",
    "plt.savefig(\"../figures/accuracy/accuracy_vs_epsilon_bar_plot_4_predicates.png\", dpi=300)\n",
    "plt.show()"
   ]
  },
  {
   "cell_type": "markdown",
   "id": "79c1498d",
   "metadata": {},
   "source": [
    "## Relative entropy increasing epsilon"
   ]
  },
  {
   "cell_type": "code",
   "execution_count": 159,
   "id": "56f1d698",
   "metadata": {},
   "outputs": [],
   "source": [
    "epsilon_values = [0.5, 1.0, 2.0, 4.0]\n",
    "\n",
    "# Normal Pacha Sketch results\n",
    "p_sketch_results_2_df = pd.read_csv(\"../results/accuracy/retail_2_p_sketch.csv\")\n",
    "p_sketch_rel_entropy = compute_relative_entropy(p_sketch_results_2_df)\n",
    "p_sketch_rel_entropy = np.full(len(epsilon_values), p_sketch_rel_entropy)\n",
    "\n",
    "# Pacha Sketch DP results\n",
    "p_sketch_dp_files = [f\"retail_2_p_sketch_dp_{eps}.csv\" for eps in epsilon_values]\n",
    "p_sketch_dp_rel_entropy = collect_relative_entropies(\n",
    "    file_names=p_sketch_dp_files,\n",
    "    dir_path=\"../results/accuracy\"\n",
    ")\n",
    "\n",
    "# Pacha Sketch LDP results\n",
    "p_sketch_ldp_files = [f\"retail_2_p_sketch_ldp_{eps}.csv\" for eps in epsilon_values]\n",
    "p_sketch_ldp_rel_entropy = collect_relative_entropies(\n",
    "    file_names=p_sketch_ldp_files,\n",
    "    dir_path=\"../results/accuracy\"\n",
    ")\n",
    "\n",
    "# LDP results\n",
    "ldp_files = [f\"retail_2_ldp_{eps}.csv\" for eps in epsilon_values]\n",
    "ldp_rel_entropy = collect_relative_entropies(\n",
    "    file_names=ldp_files,\n",
    "    dir_path=\"../results/accuracy\"\n",
    ")\n",
    "\n",
    "# GRR results\n",
    "grr_files = [f\"retail_2_grr_{eps}.csv\" for eps in epsilon_values]\n",
    "grr_rel_entropy = collect_relative_entropies(\n",
    "    file_names=grr_files,\n",
    "    dir_path=\"../results/accuracy\"\n",
    ")"
   ]
  },
  {
   "cell_type": "code",
   "execution_count": 160,
   "id": "17003dcf",
   "metadata": {},
   "outputs": [
    {
     "data": {
      "image/png": "[encoded data removed]",
      "text/plain": [
       "<Figure size 432x288 with 1 Axes>"
      ]
     },
     "metadata": {
      "needs_background": "light"
     },
     "output_type": "display_data"
    }
   ],
   "source": [
    "colors = ['#46a4e8', '#46a4e8', '#46a4e8', 'tab:orange', 'tab:green']\n",
    "hatches = ['', '//', '..', '', '']\n",
    "methods = ['Pacha Sketch (No DP)', 'Pacha Sketch (Central DP)', 'Pacha Sketch (LDP)', 'LDP Server', 'GRR']\n",
    "rel_entropies = [p_sketch_rel_entropy, p_sketch_dp_rel_entropy, p_sketch_ldp_rel_entropy, ldp_rel_entropy, grr_rel_entropy]\n",
    "\n",
    "x = np.arange(len(epsilon_values))\n",
    "width = 0.16\n",
    "\n",
    "plt.figure(figsize=(6, 4))\n",
    "for i, (rel_entropy, color, hatch, label) in enumerate(zip(rel_entropies, colors, hatches, methods)):\n",
    "    plt.bar(x + i*width - width*2, rel_entropy, width=width, label=label, color=color, hatch=hatch, capsize=4, edgecolor='black')\n",
    "\n",
    "plt.xticks(x, epsilon_values)\n",
    "plt.xlabel(\"Epsilon\")\n",
    "plt.ylabel(\"Relative Entropy\")\n",
    "# plt.yscale(\"log\")\n",
    "# for y in 10.0 ** np.arange(-4, 1):\n",
    "#     plt.axhline(y, color='gray', linestyle='--', linewidth=0.7, alpha=0.5)\n",
    "plt.legend()\n",
    "plt.title(f\"Relative Entropy vs Epsilon\")\n",
    "plt.savefig(\"../figures/accuracy/entropy_vs_epsilon_bar_plot.png\", dpi=300)\n",
    "plt.tight_layout()\n",
    "plt.show()"
   ]
  },
  {
   "cell_type": "markdown",
   "id": "9be03be7",
   "metadata": {},
   "source": [
    "## Accuracy increasing number of queries"
   ]
  },
  {
   "cell_type": "code",
   "execution_count": 168,
   "id": "4246e141",
   "metadata": {},
   "outputs": [],
   "source": [
    "n_queries = 2**np.arange(0, 13)\n",
    "type_of_error = \"normalized_error\"\n",
    "# type_of_error = \"relative_error\"\n",
    "\n",
    "# Normal Pacha Sketch results\n",
    "p_sketch_results_2_df = pd.read_csv(\"../results/accuracy/retail_2_p_sketch.csv\")\n",
    "p_sketch_median = p_sketch_results_2_df[type_of_error].median()\n",
    "p_sketch_q25 = p_sketch_results_2_df[type_of_error].quantile(0.25)\n",
    "p_sketch_q75 = p_sketch_results_2_df[type_of_error].quantile(0.75)\n",
    "\n",
    "p_sketch_median = np.full(len(n_queries), p_sketch_median)\n",
    "p_sketch_q25 = np.full(len(n_queries), p_sketch_q25)\n",
    "p_sketch_q75 = np.full(len(n_queries), p_sketch_q75)\n",
    "\n",
    "# Pacha Sketch DP results\n",
    "p_sketch_dp_results_2_df = pd.read_csv(\"../results/accuracy/retail_2_p_sketch_dp_0.5.csv\")\n",
    "p_sketch_dp_median = p_sketch_dp_results_2_df[type_of_error].median()\n",
    "p_sketch_dp_q25 = p_sketch_dp_results_2_df[type_of_error].quantile(0.25)\n",
    "p_sketch_dp_q75 = p_sketch_dp_results_2_df[type_of_error].quantile(0.75)\n",
    "\n",
    "p_sketch_dp_median = np.full(len(n_queries), p_sketch_dp_median)\n",
    "p_sketch_dp_q25 = np.full(len(n_queries), p_sketch_dp_q25)\n",
    "p_sketch_dp_q75 = np.full(len(n_queries), p_sketch_dp_q75)\n",
    "\n",
    "# Pacha Sketch LDP results\n",
    "p_sketch_ldp_results_2_df = pd.read_csv(\"../results/accuracy/retail_2_p_sketch_ldp_0.5.csv\")\n",
    "p_sketch_ldp_median = p_sketch_ldp_results_2_df[type_of_error].median()\n",
    "p_sketch_ldp_q25 = p_sketch_ldp_results_2_df[type_of_error].quantile(0.25)\n",
    "p_sketch_ldp_q75 = p_sketch_ldp_results_2_df[type_of_error].quantile(0.75)\n",
    "\n",
    "p_sketch_ldp_median = np.full(len(n_queries), p_sketch_ldp_median)\n",
    "p_sketch_ldp_q25 = np.full(len(n_queries), p_sketch_ldp_q25)\n",
    "p_sketch_ldp_q75 = np.full(len(n_queries), p_sketch_ldp_q75)\n",
    "\n",
    "# GRR results\n",
    "grr_results_2_df = pd.read_csv(\"../results/accuracy/retail_2_grr_0.5.csv\")\n",
    "grr_median = grr_results_2_df[type_of_error].median()\n",
    "grr_q25 = grr_results_2_df[type_of_error].quantile(0.25)\n",
    "grr_q75 = grr_results_2_df[type_of_error].quantile(0.75)\n",
    "grr_median = np.full(len(n_queries), grr_median)\n",
    "grr_q25 = np.full(len(n_queries), grr_q25)\n",
    "grr_q75 = np.full(len(n_queries), grr_q75)\n",
    "\n",
    "# LDP results\n",
    "# ldp_files = [f\"retail_2_ldp_nq_{n}.csv\" for n in n_queries]\n",
    "ldp_files = [f\"retail_2_ldp_0.5_nq_{n}.csv\" for n in n_queries]\n",
    "ldp_median, ldp_q25, ldp_q75 = collect_results(\n",
    "    field_to_collect=type_of_error,\n",
    "    file_names=ldp_files,\n",
    "    dir_path=\"../results/accuracy\"\n",
    ")\n"
   ]
  },
  {
   "cell_type": "code",
   "execution_count": 169,
   "id": "9be5df9a",
   "metadata": {},
   "outputs": [
    {
     "data": {
      "image/png": "[encoded data removed]",
      "text/plain": [
       "<Figure size 504x288 with 1 Axes>"
      ]
     },
     "metadata": {
      "needs_background": "light"
     },
     "output_type": "display_data"
    }
   ],
   "source": [
    "colors = ['#46a4e8', '#46a4e8', '#46a4e8', 'tab:orange', 'tab:green']\n",
    "methods = ['Pacha Sketch (No DP)', 'Pacha Sketch (Central DP)', 'Pacha Sketch (LDP)', 'LDP Server', 'GRR']\n",
    "markers = ['o', 's', 'D', 'x', '^']\n",
    "medians = [p_sketch_median, p_sketch_dp_median, p_sketch_ldp_median, ldp_median, grr_median]\n",
    "q25 = [p_sketch_q25, p_sketch_dp_q25, p_sketch_ldp_q25, ldp_q25, grr_q25]\n",
    "q75 = [p_sketch_q75, p_sketch_dp_q75, p_sketch_ldp_q75, ldp_q75, grr_q75]\n",
    "\n",
    "plt.figure(figsize=(7, 4))\n",
    "for median, lower, upper, label, color, marker in zip(medians, q25, q75, methods, colors, markers):\n",
    "    plt.plot(n_queries, median, marker=marker, label=label, color=color)\n",
    "    # plt.fill_between(n_queries, lower, upper, alpha=0.2, color=color)\n",
    "\n",
    "type_of_error_label = type_of_error.replace('_', ' ').capitalize()\n",
    "plt.xlabel(\"Number of Queries\")\n",
    "plt.ylabel(type_of_error_label)\n",
    "# plt.yscale(\"log\")\n",
    "# for y in [0.00001,0.0001, 0.001, 0.01]:\n",
    "#     plt.axhline(y, color='gray', linestyle='--', linewidth=0.7, alpha=0.5)\n",
    "\n",
    "plt.grid(True, which='both', axis='x', linestyle='--', linewidth=0.5)\n",
    "# plt.xticks(n_queries)\n",
    "plt.title(f\"{type_of_error_label} vs Number of Queries\")\n",
    "plt.legend()\n",
    "plt.tight_layout()\n",
    "plt.savefig(\"../figures/accuracy/accuracy_vs_n_queries_0.5.png\", dpi=300)\n",
    "plt.show()"
   ]
  },
  {
   "cell_type": "markdown",
   "id": "721b4197",
   "metadata": {},
   "source": [
    "## Increasing N-Silos"
   ]
  },
  {
   "cell_type": "code",
   "execution_count": 52,
   "id": "007236aa",
   "metadata": {},
   "outputs": [],
   "source": [
    "silos = [1,5,10,20]\n",
    "# type_of_error = \"relative_error\"\n",
    "type_of_error = \"normalized_error\"\n",
    "\n",
    "# Normal Pacha Sketch results\n",
    "p_sketch_median, p_sketch_q25, p_sketch_q75 = repeat_results(field_to_collect=type_of_error, \n",
    "                                                             n_repetitions=len(silos), \n",
    "                                                             file_name=\"../results/accuracy/retail_2_p_sketch.csv\")\n",
    "\n",
    "# Pacha Sketch DP results\n",
    "\n",
    "p_sketch_dp_median, p_sketch_dp_q25, p_sketch_dp_q75 = repeat_results(field_to_collect=type_of_error, \n",
    "                                                             n_repetitions=len(silos), \n",
    "                                                             file_name=\"../results/accuracy/retail_2_p_sketch_dp_1.0.csv\")\n",
    "\n",
    "# Pacha Sketch LDP results\n",
    "p_sketch_ldp_files = [f\"retail_2_p_sketch_ldp_1.0_{n_silos}.csv\" for n_silos in silos]\n",
    "p_sketch_ldp_median, p_sketch_ldp_q25, p_sketch_ldp_q75 = collect_results(\n",
    "    field_to_collect=type_of_error,\n",
    "    file_names=p_sketch_ldp_files,\n",
    "    dir_path=\"../results/accuracy\"\n",
    ")\n",
    "\n",
    "# LDP results\n",
    "ldp_files = [f\"retail_2_ldp_1.0_{n_silos}.csv\" for n_silos in silos]\n",
    "ldp_median, ldp_q25, ldp_q75 = collect_results(\n",
    "    field_to_collect=type_of_error,\n",
    "    file_names=ldp_files,\n",
    "    dir_path=\"../results/accuracy\"\n",
    ")\n",
    "\n",
    "# GRR results\n",
    "grr_median, grr_q25, grr_q75 = repeat_results(field_to_collect=type_of_error,\n",
    "                                              n_repetitions=len(silos),\n",
    "                                              file_name=\"../results/accuracy/retail_2_grr_1.0.csv\")"
   ]
  },
  {
   "cell_type": "code",
   "execution_count": 47,
   "id": "306c297c",
   "metadata": {},
   "outputs": [
    {
     "data": {
      "text/plain": [
       "array([0.0035238 , 0.00949125, 0.01388739, 0.02078868])"
      ]
     },
     "execution_count": 47,
     "metadata": {},
     "output_type": "execute_result"
    }
   ],
   "source": [
    "p_sketch_ldp_median"
   ]
  },
  {
   "cell_type": "code",
   "execution_count": 53,
   "id": "73650097",
   "metadata": {},
   "outputs": [
    {
     "data": {
      "image/png": "[encoded data removed]",
      "text/plain": [
       "<Figure size 432x288 with 1 Axes>"
      ]
     },
     "metadata": {
      "needs_background": "light"
     },
     "output_type": "display_data"
    }
   ],
   "source": [
    "colors = ['#46a4e8', '#46a4e8', '#46a4e8', 'tab:orange', 'tab:green']\n",
    "hatches = ['', '//', '..', '', '']\n",
    "methods = ['Pacha Sketch (No DP)', 'Pacha Sketch (Central DP)', 'Pacha Sketch (LDP)', 'LDP Server', 'GRR']\n",
    "medians = [p_sketch_median, p_sketch_dp_median, p_sketch_ldp_median, ldp_median, grr_median]\n",
    "q25 = [p_sketch_q25, p_sketch_dp_q25, p_sketch_ldp_q25, ldp_q25, grr_q25]\n",
    "q75 = [p_sketch_q75, p_sketch_dp_q75, p_sketch_ldp_q75, ldp_q75, grr_q75]\n",
    "\n",
    "x = np.arange(len(silos))\n",
    "width = 0.16\n",
    "\n",
    "plt.figure(figsize=(6, 4))\n",
    "for i, (median, lower, upper, color, hatch, label) in enumerate(zip(medians, q25, q75, colors, hatches, methods)):\n",
    "    err = [median - lower, upper - median]\n",
    "    # plt.bar(x + i*width - width*2, median, width=width, yerr=err, label=label, color=color, hatch=hatch, capsize=4, edgecolor='black')\n",
    "    plt.bar(x + i*width - width*2, median, width=width, label=label, color=color, hatch=hatch, capsize=4, edgecolor='black')\n",
    "\n",
    "label = type_of_error.replace('_', ' ').capitalize()\n",
    "plt.xticks(x, silos)\n",
    "plt.xlabel(\"Nr. Silos\")\n",
    "plt.ylabel(label)\n",
    "# plt.yscale(\"log\")\n",
    "# for y in [0.001, 0.01, 0.1, 1]:\n",
    "#     plt.axhline(y, color='gray', linestyle='--', linewidth=0.7, alpha=0.5)\n",
    "plt.grid(True, which='both', axis='y', linestyle='--', linewidth=0.5)\n",
    "\n",
    "plt.legend()\n",
    "plt.title(f\"{label} vs Nr. Silos\")\n",
    "plt.tight_layout()\n",
    "plt.savefig(\"../figures/accuracy/accuracy_vs_silos_bar_plot.png\", dpi=300)\n",
    "plt.show()\n"
   ]
  }
 ],
 "metadata": {
  "kernelspec": {
   "display_name": "Python 3",
   "language": "python",
   "name": "python3"
  },
  "language_info": {
   "codemirror_mode": {
    "name": "ipython",
    "version": 3
   },
   "file_extension": ".py",
   "mimetype": "text/x-python",
   "name": "python",
   "nbconvert_exporter": "python",
   "pygments_lexer": "ipython3",
   "version": "3.12.3"
  }
 },
 "nbformat": 4,
 "nbformat_minor": 5
}
