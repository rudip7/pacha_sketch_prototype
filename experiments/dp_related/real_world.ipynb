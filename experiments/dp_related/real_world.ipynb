{
 "cells": [
  {
   "cell_type": "code",
   "execution_count": 1,
   "id": "63b27858",
   "metadata": {},
   "outputs": [],
   "source": [
    "import sys\n",
    "# append the path of the parent directory\n",
    "sys.path.append(\"..\")"
   ]
  },
  {
   "cell_type": "code",
   "execution_count": 2,
   "id": "98217a93",
   "metadata": {},
   "outputs": [
    {
     "name": "stderr",
     "output_type": "stream",
     "text": [
      "/home/rudi/.local/lib/python3.12/site-packages/matplotlib/projections/__init__.py:63: UserWarning: Unable to import Axes3D. This may be due to multiple versions of Matplotlib being installed (e.g. as a system package and as a pip package). As a result, the 3D projection is not available.\n",
      "  warnings.warn(\"Unable to import Axes3D. This may be due to multiple versions of \"\n",
      "/usr/lib/python3/dist-packages/pytz/__init__.py:31: SyntaxWarning: invalid escape sequence '\\s'\n",
      "  match = re.match(\"^#\\s*version\\s*([0-9a-z]*)\\s*$\", line)\n"
     ]
    }
   ],
   "source": [
    "import math\n",
    "import os\n",
    "import time\n",
    "\n",
    "\n",
    "import numpy as np\n",
    "np.set_printoptions(legacy='1.25')\n",
    "\n",
    "import matplotlib.pyplot as plt\n",
    "from matplotlib.patches import Rectangle\n",
    "import matplotlib.patches as patches\n",
    "\n",
    "import seaborn as sns\n",
    "import time\n",
    "import json\n",
    "import pandas as pd\n",
    "from ctypes import c_int32\n",
    "from itertools import product\n",
    "import copy\n",
    "\n",
    "\n",
    "from tqdm import tqdm\n",
    "\n",
    "from scipy.stats import pearsonr\n",
    "from importlib import reload\n",
    "\n",
    "import orjson\n",
    "import gzip\n",
    "\n",
    "\n",
    "\n",
    "from lib import sketches, visualization_utils, encoders, ploting, pacha_sketch\n",
    "reload(ploting)\n",
    "reload(sketches)\n",
    "reload(visualization_utils)\n",
    "reload(encoders)\n",
    "\n",
    "reload(pacha_sketch)\n",
    "\n",
    "from lib.sketches import BloomFilter, CountMinSketch, H3HashFunctions, HashFunctionFamily,\\\n",
    "      CountMinSketchHadamard, CountMinSketchLocalHashing, deterministic_hash, simple_deterministic_hash\n",
    "from lib.visualization_utils import visualize_badic_cover, plot_b_adic_cubes\n",
    "from lib.encoders import minimal_b_adic_cover, minimal_spatial_b_adic_cover, BAdicCube, BAdicRange, \\\n",
    "      minimal_b_adic_cover_array, downgrade_b_adic_range_indices\n",
    "from lib.pacha_sketch import PachaSketch, ADTree, BFParameters, CMParameters, cartesian_product\n",
    "\n",
    "from lib.ploting import set_style, plot_ylabel, plot_legend\n",
    "\n",
    "from lib import baselines\n",
    "reload(baselines)\n",
    "\n",
    "from lib.baselines import CentralDPServer, LDPServer, LDPEncoderGRR, filter_df, query_df, \\\n",
    "      infer_domains_and_ranges, translate_query_region, evaluate_queries, check_accruracy, \\\n",
    "      evaluate_queries_baselines\n",
    "\n",
    "# set_style()"
   ]
  },
  {
   "cell_type": "code",
   "execution_count": 17,
   "id": "09ff309f",
   "metadata": {},
   "outputs": [],
   "source": [
    "delta = 0.05\n",
    "abs_error_eps = 1.0\n",
    "epsilon = 0.5"
   ]
  },
  {
   "cell_type": "markdown",
   "id": "857f97a6",
   "metadata": {},
   "source": [
    "# Online Retail"
   ]
  },
  {
   "cell_type": "code",
   "execution_count": 4,
   "id": "91ec14ce",
   "metadata": {},
   "outputs": [],
   "source": [
    "retail_df = pd.read_parquet(\"../data/clean/online_retail_no_outliers.parquet\")"
   ]
  },
  {
   "cell_type": "code",
   "execution_count": null,
   "id": "5adead49",
   "metadata": {},
   "outputs": [],
   "source": [
    "query_path = \"../queries/online_retail_2_cols.json\"\n",
    "with open(query_path, 'rb') as f:\n",
    "    queries = orjson.loads(f.read())\n",
    "\n",
    "query_path = \"../queries/online_retail_4_cols.json\"\n",
    "with open(query_path, 'rb') as f:\n",
    "    queries_4 = orjson.loads(f.read())\n",
    "\n",
    "queries[\"queries\"] = queries[\"queries\"]\n",
    "queries_4[\"queries\"] = queries_4[\"queries\"]\n",
    "\n",
    "ad_tree = ADTree.from_json(\"../sketches/ad_trees/online_retail.json\")\n"
   ]
  },
  {
   "cell_type": "markdown",
   "id": "f6b497dc",
   "metadata": {},
   "source": [
    "# Pacha Sketches"
   ]
  },
  {
   "cell_type": "markdown",
   "id": "965cb93a",
   "metadata": {},
   "source": [
    "## Normal"
   ]
  },
  {
   "cell_type": "code",
   "execution_count": 10,
   "id": "221d454b",
   "metadata": {},
   "outputs": [
    {
     "data": {
      "text/plain": [
       "111.24216079711914"
      ]
     },
     "execution_count": 10,
     "metadata": {},
     "output_type": "execute_result"
    }
   ],
   "source": [
    "p_sketch = PachaSketch.build_with_uniform_size(\n",
    "    levels=6,\n",
    "    num_dimensions=6,\n",
    "    cat_col_map=[0,1,2],\n",
    "    num_col_map=[3,4,5],\n",
    "    bases=[2,2,2],\n",
    "    ad_tree=ad_tree,\n",
    "    cm_params=CMParameters(delta=delta, error_eps=abs_error_eps / len(retail_df)),\n",
    "    cat_index_parameters=BFParameters(n_values=len(retail_df)*4, p=0.01),\n",
    "    num_index_parameters=BFParameters(n_values=len(retail_df)*5, p=0.01),\n",
    "    region_index_parameters= BFParameters(n_values=len(retail_df)*(5+4), p=0.01))\n",
    "p_sketch.get_size()"
   ]
  },
  {
   "cell_type": "code",
   "execution_count": 11,
   "id": "459cb769",
   "metadata": {},
   "outputs": [
    {
     "name": "stderr",
     "output_type": "stream",
     "text": [
      "Updating:   0%|          | 0/536494 [00:00<?, ?it/s]"
     ]
    },
    {
     "name": "stderr",
     "output_type": "stream",
     "text": [
      "/home/rudi/artifacts/pacha_sketch_prototype/experiments/../lib/pacha_sketch.py:623: FutureWarning: Series.__getitem__ treating keys as positions is deprecated. In a future version, integer keys will always be treated as labels (consistent with DataFrame behavior). To access a value by position, use `ser.iloc[pos]`\n",
      "  cat_values = tuple(element[i] for i in self.cat_col_map)\n",
      "/home/rudi/artifacts/pacha_sketch_prototype/experiments/../lib/pacha_sketch.py:624: FutureWarning: Series.__getitem__ treating keys as positions is deprecated. In a future version, integer keys will always be treated as labels (consistent with DataFrame behavior). To access a value by position, use `ser.iloc[pos]`\n",
      "  num_values = tuple(element[i] for i in self.num_col_map)\n",
      "Updating: 100%|██████████| 536494/536494 [02:44<00:00, 3254.79it/s]\n"
     ]
    },
    {
     "data": {
      "text/plain": [
       "<lib.pacha_sketch.PachaSketch at 0x7757a59bffe0>"
      ]
     },
     "execution_count": 11,
     "metadata": {},
     "output_type": "execute_result"
    }
   ],
   "source": [
    "p_sketch.update_data_frame(retail_df)"
   ]
  },
  {
   "cell_type": "code",
   "execution_count": 80,
   "id": "be8b1ea2",
   "metadata": {},
   "outputs": [],
   "source": [
    "p_sketch.save_to_file(\"../sketches/real_world/online_retail_uniform_array.json.gz\")"
   ]
  },
  {
   "cell_type": "code",
   "execution_count": 87,
   "id": "ec40b350",
   "metadata": {},
   "outputs": [],
   "source": [
    "p_sketch2 = PachaSketch.from_json(\"../sketches/real_world/online_retail_uniform.json.gz\")"
   ]
  },
  {
   "cell_type": "code",
   "execution_count": 12,
   "id": "fbae23fd",
   "metadata": {},
   "outputs": [
    {
     "name": "stdout",
     "output_type": "stream",
     "text": [
      "Computing true counts...\n"
     ]
    },
    {
     "name": "stderr",
     "output_type": "stream",
     "text": [
      "True Count: 100%|██████████| 100/100 [00:02<00:00, 43.25it/s]\n"
     ]
    },
    {
     "name": "stdout",
     "output_type": "stream",
     "text": [
      "Computing estimates...\n"
     ]
    },
    {
     "name": "stderr",
     "output_type": "stream",
     "text": [
      "Estimates: 100%|██████████| 100/100 [03:28<00:00,  2.09s/it]\n"
     ]
    }
   ],
   "source": [
    "ps_results_2 = evaluate_queries(retail_df, queries[\"queries\"], p_sketch, path_to_file=\"../results/real_world/online_retail_2_p_sketch_uniform.csv\")"
   ]
  },
  {
   "cell_type": "code",
   "execution_count": 13,
   "id": "0dd2f38e",
   "metadata": {},
   "outputs": [
    {
     "data": {
      "text/html": [
       "<div>\n",
       "<style scoped>\n",
       "    .dataframe tbody tr th:only-of-type {\n",
       "        vertical-align: middle;\n",
       "    }\n",
       "\n",
       "    .dataframe tbody tr th {\n",
       "        vertical-align: top;\n",
       "    }\n",
       "\n",
       "    .dataframe thead th {\n",
       "        text-align: right;\n",
       "    }\n",
       "</style>\n",
       "<table border=\"1\" class=\"dataframe\">\n",
       "  <thead>\n",
       "    <tr style=\"text-align: right;\">\n",
       "      <th></th>\n",
       "      <th>absolute_error</th>\n",
       "      <th>normalized_error</th>\n",
       "      <th>relative_error</th>\n",
       "    </tr>\n",
       "  </thead>\n",
       "  <tbody>\n",
       "    <tr>\n",
       "      <th>count</th>\n",
       "      <td>100.000000</td>\n",
       "      <td>100.000000</td>\n",
       "      <td>100.000000</td>\n",
       "    </tr>\n",
       "    <tr>\n",
       "      <th>mean</th>\n",
       "      <td>1525.380000</td>\n",
       "      <td>0.002843</td>\n",
       "      <td>0.027004</td>\n",
       "    </tr>\n",
       "    <tr>\n",
       "      <th>std</th>\n",
       "      <td>3308.341819</td>\n",
       "      <td>0.006167</td>\n",
       "      <td>0.026000</td>\n",
       "    </tr>\n",
       "    <tr>\n",
       "      <th>min</th>\n",
       "      <td>2.000000</td>\n",
       "      <td>0.000004</td>\n",
       "      <td>0.002201</td>\n",
       "    </tr>\n",
       "    <tr>\n",
       "      <th>25%</th>\n",
       "      <td>35.000000</td>\n",
       "      <td>0.000065</td>\n",
       "      <td>0.006763</td>\n",
       "    </tr>\n",
       "    <tr>\n",
       "      <th>50%</th>\n",
       "      <td>231.000000</td>\n",
       "      <td>0.000431</td>\n",
       "      <td>0.012551</td>\n",
       "    </tr>\n",
       "    <tr>\n",
       "      <th>75%</th>\n",
       "      <td>849.750000</td>\n",
       "      <td>0.001584</td>\n",
       "      <td>0.052901</td>\n",
       "    </tr>\n",
       "    <tr>\n",
       "      <th>max</th>\n",
       "      <td>14988.000000</td>\n",
       "      <td>0.027937</td>\n",
       "      <td>0.117547</td>\n",
       "    </tr>\n",
       "  </tbody>\n",
       "</table>\n",
       "</div>"
      ],
      "text/plain": [
       "       absolute_error  normalized_error  relative_error\n",
       "count      100.000000        100.000000      100.000000\n",
       "mean      1525.380000          0.002843        0.027004\n",
       "std       3308.341819          0.006167        0.026000\n",
       "min          2.000000          0.000004        0.002201\n",
       "25%         35.000000          0.000065        0.006763\n",
       "50%        231.000000          0.000431        0.012551\n",
       "75%        849.750000          0.001584        0.052901\n",
       "max      14988.000000          0.027937        0.117547"
      ]
     },
     "execution_count": 13,
     "metadata": {},
     "output_type": "execute_result"
    }
   ],
   "source": [
    "ps_results_2[[\"absolute_error\",\"normalized_error\",\"relative_error\"]].describe()"
   ]
  },
  {
   "cell_type": "code",
   "execution_count": 14,
   "id": "78b0f1d7",
   "metadata": {},
   "outputs": [
    {
     "name": "stdout",
     "output_type": "stream",
     "text": [
      "Computing true counts...\n"
     ]
    },
    {
     "name": "stderr",
     "output_type": "stream",
     "text": [
      "True Count: 100%|██████████| 100/100 [00:03<00:00, 32.14it/s]\n"
     ]
    },
    {
     "name": "stdout",
     "output_type": "stream",
     "text": [
      "Computing estimates...\n"
     ]
    },
    {
     "name": "stderr",
     "output_type": "stream",
     "text": [
      "Estimates: 100%|██████████| 100/100 [00:10<00:00,  9.55it/s]\n"
     ]
    }
   ],
   "source": [
    "ps_results_4 = evaluate_queries(retail_df, queries_4[\"queries\"], p_sketch, path_to_file=\"../results/real_world/online_retail_4_p_sketch_uniform.csv\")"
   ]
  },
  {
   "cell_type": "code",
   "execution_count": 16,
   "id": "57b0aef6",
   "metadata": {},
   "outputs": [
    {
     "data": {
      "text/html": [
       "<div>\n",
       "<style scoped>\n",
       "    .dataframe tbody tr th:only-of-type {\n",
       "        vertical-align: middle;\n",
       "    }\n",
       "\n",
       "    .dataframe tbody tr th {\n",
       "        vertical-align: top;\n",
       "    }\n",
       "\n",
       "    .dataframe thead th {\n",
       "        text-align: right;\n",
       "    }\n",
       "</style>\n",
       "<table border=\"1\" class=\"dataframe\">\n",
       "  <thead>\n",
       "    <tr style=\"text-align: right;\">\n",
       "      <th></th>\n",
       "      <th>absolute_error</th>\n",
       "      <th>normalized_error</th>\n",
       "      <th>relative_error</th>\n",
       "    </tr>\n",
       "  </thead>\n",
       "  <tbody>\n",
       "    <tr>\n",
       "      <th>count</th>\n",
       "      <td>100.000000</td>\n",
       "      <td>100.000000</td>\n",
       "      <td>100.000000</td>\n",
       "    </tr>\n",
       "    <tr>\n",
       "      <th>mean</th>\n",
       "      <td>144.900000</td>\n",
       "      <td>0.000270</td>\n",
       "      <td>0.090180</td>\n",
       "    </tr>\n",
       "    <tr>\n",
       "      <th>std</th>\n",
       "      <td>370.156737</td>\n",
       "      <td>0.000690</td>\n",
       "      <td>0.141696</td>\n",
       "    </tr>\n",
       "    <tr>\n",
       "      <th>min</th>\n",
       "      <td>0.000000</td>\n",
       "      <td>0.000000</td>\n",
       "      <td>0.000000</td>\n",
       "    </tr>\n",
       "    <tr>\n",
       "      <th>25%</th>\n",
       "      <td>29.000000</td>\n",
       "      <td>0.000054</td>\n",
       "      <td>0.040741</td>\n",
       "    </tr>\n",
       "    <tr>\n",
       "      <th>50%</th>\n",
       "      <td>46.500000</td>\n",
       "      <td>0.000087</td>\n",
       "      <td>0.063139</td>\n",
       "    </tr>\n",
       "    <tr>\n",
       "      <th>75%</th>\n",
       "      <td>84.250000</td>\n",
       "      <td>0.000157</td>\n",
       "      <td>0.087078</td>\n",
       "    </tr>\n",
       "    <tr>\n",
       "      <th>max</th>\n",
       "      <td>2342.000000</td>\n",
       "      <td>0.004365</td>\n",
       "      <td>1.000000</td>\n",
       "    </tr>\n",
       "  </tbody>\n",
       "</table>\n",
       "</div>"
      ],
      "text/plain": [
       "       absolute_error  normalized_error  relative_error\n",
       "count      100.000000        100.000000      100.000000\n",
       "mean       144.900000          0.000270        0.090180\n",
       "std        370.156737          0.000690        0.141696\n",
       "min          0.000000          0.000000        0.000000\n",
       "25%         29.000000          0.000054        0.040741\n",
       "50%         46.500000          0.000087        0.063139\n",
       "75%         84.250000          0.000157        0.087078\n",
       "max       2342.000000          0.004365        1.000000"
      ]
     },
     "execution_count": 16,
     "metadata": {},
     "output_type": "execute_result"
    }
   ],
   "source": [
    "ps_results_4[[\"absolute_error\",\"normalized_error\",\"relative_error\"]].describe()"
   ]
  },
  {
   "cell_type": "markdown",
   "id": "3e264929",
   "metadata": {},
   "source": [
    "## Differentially Private"
   ]
  },
  {
   "cell_type": "code",
   "execution_count": 18,
   "id": "6fe44028",
   "metadata": {},
   "outputs": [
    {
     "data": {
      "text/plain": [
       "111.24216079711914"
      ]
     },
     "execution_count": 18,
     "metadata": {},
     "output_type": "execute_result"
    }
   ],
   "source": [
    "p_sketch_dp = PachaSketch.build_with_uniform_size(\n",
    "    levels=6,\n",
    "    num_dimensions=6,\n",
    "    cat_col_map=[0,1,2],\n",
    "    num_col_map=[3,4,5],\n",
    "    bases=[2,2,2],\n",
    "    ad_tree=ad_tree,\n",
    "    cm_params=CMParameters(delta=delta, error_eps=abs_error_eps / len(retail_df)),\n",
    "    cat_index_parameters=BFParameters(n_values=len(retail_df)*4, p=0.01),\n",
    "    num_index_parameters=BFParameters(n_values=len(retail_df)*5, p=0.01),\n",
    "    region_index_parameters= BFParameters(n_values=len(retail_df)*(5+4), p=0.01),\n",
    "    epsilon=epsilon\n",
    "    )\n",
    "p_sketch_dp.get_size()"
   ]
  },
  {
   "cell_type": "code",
   "execution_count": 19,
   "id": "caa19173",
   "metadata": {},
   "outputs": [
    {
     "name": "stderr",
     "output_type": "stream",
     "text": [
      "Updating:   0%|          | 0/536494 [00:00<?, ?it/s]/home/rudi/artifacts/pacha_sketch_prototype/experiments/../lib/pacha_sketch.py:623: FutureWarning: Series.__getitem__ treating keys as positions is deprecated. In a future version, integer keys will always be treated as labels (consistent with DataFrame behavior). To access a value by position, use `ser.iloc[pos]`\n",
      "  cat_values = tuple(element[i] for i in self.cat_col_map)\n",
      "/home/rudi/artifacts/pacha_sketch_prototype/experiments/../lib/pacha_sketch.py:624: FutureWarning: Series.__getitem__ treating keys as positions is deprecated. In a future version, integer keys will always be treated as labels (consistent with DataFrame behavior). To access a value by position, use `ser.iloc[pos]`\n",
      "  num_values = tuple(element[i] for i in self.num_col_map)\n",
      "Updating: 100%|██████████| 536494/536494 [02:51<00:00, 3131.78it/s]\n"
     ]
    },
    {
     "data": {
      "text/plain": [
       "<lib.pacha_sketch.PachaSketch at 0x7757a59a4e30>"
      ]
     },
     "execution_count": 19,
     "metadata": {},
     "output_type": "execute_result"
    }
   ],
   "source": [
    "p_sketch_dp.update_data_frame(retail_df, workers=os.cpu_count())"
   ]
  },
  {
   "cell_type": "code",
   "execution_count": 20,
   "id": "08079df9",
   "metadata": {},
   "outputs": [
    {
     "name": "stdout",
     "output_type": "stream",
     "text": [
      "Computing true counts...\n"
     ]
    },
    {
     "name": "stderr",
     "output_type": "stream",
     "text": [
      "True Count: 100%|██████████| 100/100 [00:02<00:00, 42.94it/s]\n"
     ]
    },
    {
     "name": "stdout",
     "output_type": "stream",
     "text": [
      "Computing estimates...\n"
     ]
    },
    {
     "name": "stderr",
     "output_type": "stream",
     "text": [
      "Estimates: 100%|██████████| 100/100 [03:39<00:00,  2.19s/it]\n"
     ]
    }
   ],
   "source": [
    "ps_dp_results_2 = evaluate_queries(retail_df, queries[\"queries\"], p_sketch_dp, path_to_file=\"../results/real_world/online_retail_2_p_sketch_uniform_dp_05.csv\")"
   ]
  },
  {
   "cell_type": "code",
   "execution_count": 21,
   "id": "465d0879",
   "metadata": {},
   "outputs": [
    {
     "name": "stdout",
     "output_type": "stream",
     "text": [
      "Computing true counts...\n"
     ]
    },
    {
     "name": "stderr",
     "output_type": "stream",
     "text": [
      "True Count: 100%|██████████| 100/100 [00:03<00:00, 31.10it/s]\n"
     ]
    },
    {
     "name": "stdout",
     "output_type": "stream",
     "text": [
      "Computing estimates...\n"
     ]
    },
    {
     "name": "stderr",
     "output_type": "stream",
     "text": [
      "Estimates: 100%|██████████| 100/100 [00:11<00:00,  9.05it/s]\n"
     ]
    }
   ],
   "source": [
    "ps_dp_results_4 = evaluate_queries(retail_df, queries_4[\"queries\"], p_sketch_dp, path_to_file=\"../results/real_world/online_retail_4_p_sketch_uniform_dp_05.csv\")"
   ]
  },
  {
   "cell_type": "markdown",
   "id": "e1e1284f",
   "metadata": {},
   "source": [
    "## Local Differentially Private"
   ]
  },
  {
   "cell_type": "code",
   "execution_count": 27,
   "id": "fb0d79dc",
   "metadata": {},
   "outputs": [
    {
     "data": {
      "text/plain": [
       "111.24216079711914"
      ]
     },
     "execution_count": 27,
     "metadata": {},
     "output_type": "execute_result"
    }
   ],
   "source": [
    "p_sketch_ldp = PachaSketch.build_with_uniform_size_ldp(\n",
    "    levels=6,\n",
    "    num_dimensions=6,\n",
    "    cat_col_map=[0,1,2],\n",
    "    num_col_map=[3,4,5],\n",
    "    bases=[2,2,2],\n",
    "    ad_tree=ad_tree,\n",
    "    cm_params=CMParameters(delta=delta, error_eps=abs_error_eps / len(retail_df)),\n",
    "    cat_index_parameters=BFParameters(n_values=len(retail_df)*4, p=0.01),\n",
    "    num_index_parameters=BFParameters(n_values=len(retail_df)*5, p=0.01),\n",
    "    region_index_parameters= BFParameters(n_values=len(retail_df)*(5+4), p=0.01),\n",
    "    epsilon=epsilon,\n",
    "    n_silos=10\n",
    "    )\n",
    "p_sketch_ldp.get_size()"
   ]
  },
  {
   "cell_type": "code",
   "execution_count": 28,
   "id": "b745c620",
   "metadata": {},
   "outputs": [
    {
     "name": "stderr",
     "output_type": "stream",
     "text": [
      "Updating:   0%|          | 0/536494 [00:00<?, ?it/s]/home/rudi/artifacts/pacha_sketch_prototype/experiments/../lib/pacha_sketch.py:623: FutureWarning: Series.__getitem__ treating keys as positions is deprecated. In a future version, integer keys will always be treated as labels (consistent with DataFrame behavior). To access a value by position, use `ser.iloc[pos]`\n",
      "  cat_values = tuple(element[i] for i in self.cat_col_map)\n",
      "/home/rudi/artifacts/pacha_sketch_prototype/experiments/../lib/pacha_sketch.py:624: FutureWarning: Series.__getitem__ treating keys as positions is deprecated. In a future version, integer keys will always be treated as labels (consistent with DataFrame behavior). To access a value by position, use `ser.iloc[pos]`\n",
      "  num_values = tuple(element[i] for i in self.num_col_map)\n",
      "Updating: 100%|██████████| 536494/536494 [02:46<00:00, 3226.12it/s]\n"
     ]
    },
    {
     "data": {
      "text/plain": [
       "<lib.pacha_sketch.PachaSketch at 0x7757427f2a20>"
      ]
     },
     "execution_count": 28,
     "metadata": {},
     "output_type": "execute_result"
    }
   ],
   "source": [
    "p_sketch_ldp.update_data_frame(retail_df)"
   ]
  },
  {
   "cell_type": "code",
   "execution_count": 29,
   "id": "91748835",
   "metadata": {},
   "outputs": [
    {
     "name": "stdout",
     "output_type": "stream",
     "text": [
      "Computing true counts...\n"
     ]
    },
    {
     "name": "stderr",
     "output_type": "stream",
     "text": [
      "True Count: 100%|██████████| 100/100 [00:02<00:00, 44.49it/s]\n"
     ]
    },
    {
     "name": "stdout",
     "output_type": "stream",
     "text": [
      "Computing estimates...\n"
     ]
    },
    {
     "name": "stderr",
     "output_type": "stream",
     "text": [
      "Estimates: 100%|██████████| 100/100 [03:32<00:00,  2.13s/it]\n"
     ]
    }
   ],
   "source": [
    "ps_ldp_results_2 = evaluate_queries(retail_df, queries[\"queries\"], p_sketch_ldp, path_to_file=\"../results/real_world/online_retail_2_p_sketch_uniform_ldp_05.csv\")"
   ]
  },
  {
   "cell_type": "code",
   "execution_count": 30,
   "id": "08658659",
   "metadata": {},
   "outputs": [
    {
     "name": "stdout",
     "output_type": "stream",
     "text": [
      "Computing true counts...\n"
     ]
    },
    {
     "name": "stderr",
     "output_type": "stream",
     "text": [
      "True Count: 100%|██████████| 100/100 [00:03<00:00, 31.76it/s]\n"
     ]
    },
    {
     "name": "stdout",
     "output_type": "stream",
     "text": [
      "Computing estimates...\n"
     ]
    },
    {
     "name": "stderr",
     "output_type": "stream",
     "text": [
      "Estimates: 100%|██████████| 100/100 [00:10<00:00,  9.70it/s]\n"
     ]
    }
   ],
   "source": [
    "ps_ldp_results_4 = evaluate_queries(retail_df, queries_4[\"queries\"], p_sketch_ldp, path_to_file=\"../results/real_world/online_retail_4_p_sketch_uniform_ldp_05.csv\")"
   ]
  },
  {
   "cell_type": "markdown",
   "id": "16a2ee13",
   "metadata": {},
   "source": [
    "# Baselines"
   ]
  },
  {
   "cell_type": "markdown",
   "id": "4c5bcdaf",
   "metadata": {},
   "source": [
    "## Central DP"
   ]
  },
  {
   "cell_type": "code",
   "execution_count": 43,
   "id": "9460bd02",
   "metadata": {},
   "outputs": [
    {
     "name": "stdout",
     "output_type": "stream",
     "text": [
      "Computing true counts...\n"
     ]
    },
    {
     "name": "stderr",
     "output_type": "stream",
     "text": [
      "True Count: 100%|██████████| 100/100 [00:03<00:00, 27.05it/s]\n"
     ]
    },
    {
     "name": "stdout",
     "output_type": "stream",
     "text": [
      "Computing estimates...\n"
     ]
    },
    {
     "name": "stderr",
     "output_type": "stream",
     "text": [
      "Estimates: 100%|██████████| 100/100 [00:03<00:00, 25.49it/s]\n"
     ]
    },
    {
     "name": "stdout",
     "output_type": "stream",
     "text": [
      "Computing true counts...\n"
     ]
    },
    {
     "name": "stderr",
     "output_type": "stream",
     "text": [
      "True Count: 100%|██████████| 100/100 [00:05<00:00, 19.52it/s]\n"
     ]
    },
    {
     "name": "stdout",
     "output_type": "stream",
     "text": [
      "Computing estimates...\n"
     ]
    },
    {
     "name": "stderr",
     "output_type": "stream",
     "text": [
      "Estimates: 100%|██████████| 100/100 [00:05<00:00, 19.97it/s]\n"
     ]
    }
   ],
   "source": [
    "# epsilon = 0.5*(len(queries[\"queries\"])+1)\n",
    "# per_query_epsilon=0.5\n",
    "\n",
    "epsilon = 0.5\n",
    "per_query_epsilon=0.5/(len(queries[\"queries\"])+1)\n",
    "central_dp = CentralDPServer(retail_df, epsilon=epsilon, per_query_epsilon=per_query_epsilon)\n",
    "\n",
    "central_dp_results_2 = evaluate_queries_baselines(df=retail_df, queries=queries[\"queries\"], baseline=central_dp, path_to_file=\"../results/real_world/online_retail_2_central_dp_05.csv\")\n",
    "central_dp.reset_budget()\n",
    "central_dp_results_4 = evaluate_queries_baselines(df=retail_df, queries=queries_4[\"queries\"], baseline=central_dp, path_to_file=\"../results/real_world/online_retail_4_central_dp_05.csv\")\n",
    "central_dp.reset_budget()"
   ]
  },
  {
   "cell_type": "code",
   "execution_count": 90,
   "id": "7860951b",
   "metadata": {},
   "outputs": [
    {
     "data": {
      "text/html": [
       "<div>\n",
       "<style scoped>\n",
       "    .dataframe tbody tr th:only-of-type {\n",
       "        vertical-align: middle;\n",
       "    }\n",
       "\n",
       "    .dataframe tbody tr th {\n",
       "        vertical-align: top;\n",
       "    }\n",
       "\n",
       "    .dataframe thead th {\n",
       "        text-align: right;\n",
       "    }\n",
       "</style>\n",
       "<table border=\"1\" class=\"dataframe\">\n",
       "  <thead>\n",
       "    <tr style=\"text-align: right;\">\n",
       "      <th></th>\n",
       "      <th>absolute_error</th>\n",
       "      <th>normalized_error</th>\n",
       "      <th>relative_error</th>\n",
       "    </tr>\n",
       "  </thead>\n",
       "  <tbody>\n",
       "    <tr>\n",
       "      <th>count</th>\n",
       "      <td>200.000000</td>\n",
       "      <td>200.000000</td>\n",
       "      <td>200.000000</td>\n",
       "    </tr>\n",
       "    <tr>\n",
       "      <th>mean</th>\n",
       "      <td>41.945000</td>\n",
       "      <td>0.000077</td>\n",
       "      <td>0.010200</td>\n",
       "    </tr>\n",
       "    <tr>\n",
       "      <th>std</th>\n",
       "      <td>43.599271</td>\n",
       "      <td>0.000080</td>\n",
       "      <td>0.025772</td>\n",
       "    </tr>\n",
       "    <tr>\n",
       "      <th>min</th>\n",
       "      <td>0.000000</td>\n",
       "      <td>0.000000</td>\n",
       "      <td>0.000000</td>\n",
       "    </tr>\n",
       "    <tr>\n",
       "      <th>25%</th>\n",
       "      <td>12.000000</td>\n",
       "      <td>0.000022</td>\n",
       "      <td>0.000342</td>\n",
       "    </tr>\n",
       "    <tr>\n",
       "      <th>50%</th>\n",
       "      <td>32.000000</td>\n",
       "      <td>0.000059</td>\n",
       "      <td>0.002145</td>\n",
       "    </tr>\n",
       "    <tr>\n",
       "      <th>75%</th>\n",
       "      <td>58.250000</td>\n",
       "      <td>0.000107</td>\n",
       "      <td>0.009703</td>\n",
       "    </tr>\n",
       "    <tr>\n",
       "      <th>max</th>\n",
       "      <td>267.000000</td>\n",
       "      <td>0.000493</td>\n",
       "      <td>0.261324</td>\n",
       "    </tr>\n",
       "  </tbody>\n",
       "</table>\n",
       "</div>"
      ],
      "text/plain": [
       "       absolute_error  normalized_error  relative_error\n",
       "count      200.000000        200.000000      200.000000\n",
       "mean        41.945000          0.000077        0.010200\n",
       "std         43.599271          0.000080        0.025772\n",
       "min          0.000000          0.000000        0.000000\n",
       "25%         12.000000          0.000022        0.000342\n",
       "50%         32.000000          0.000059        0.002145\n",
       "75%         58.250000          0.000107        0.009703\n",
       "max        267.000000          0.000493        0.261324"
      ]
     },
     "execution_count": 90,
     "metadata": {},
     "output_type": "execute_result"
    }
   ],
   "source": [
    "central_dp_results_2[[\"absolute_error\",\"normalized_error\",\"relative_error\"]].describe()"
   ]
  },
  {
   "cell_type": "code",
   "execution_count": 91,
   "id": "052aff41",
   "metadata": {},
   "outputs": [
    {
     "name": "stderr",
     "output_type": "stream",
     "text": [
      "/home/rudi/.local/lib/python3.12/site-packages/pandas/core/nanops.py:1016: RuntimeWarning: invalid value encountered in subtract\n",
      "  sqr = _ensure_numeric((avg - values) ** 2)\n"
     ]
    },
    {
     "data": {
      "text/html": [
       "<div>\n",
       "<style scoped>\n",
       "    .dataframe tbody tr th:only-of-type {\n",
       "        vertical-align: middle;\n",
       "    }\n",
       "\n",
       "    .dataframe tbody tr th {\n",
       "        vertical-align: top;\n",
       "    }\n",
       "\n",
       "    .dataframe thead th {\n",
       "        text-align: right;\n",
       "    }\n",
       "</style>\n",
       "<table border=\"1\" class=\"dataframe\">\n",
       "  <thead>\n",
       "    <tr style=\"text-align: right;\">\n",
       "      <th></th>\n",
       "      <th>absolute_error</th>\n",
       "      <th>normalized_error</th>\n",
       "      <th>relative_error</th>\n",
       "    </tr>\n",
       "  </thead>\n",
       "  <tbody>\n",
       "    <tr>\n",
       "      <th>count</th>\n",
       "      <td>200.000000</td>\n",
       "      <td>200.000000</td>\n",
       "      <td>196.000000</td>\n",
       "    </tr>\n",
       "    <tr>\n",
       "      <th>mean</th>\n",
       "      <td>42.135000</td>\n",
       "      <td>0.000078</td>\n",
       "      <td>inf</td>\n",
       "    </tr>\n",
       "    <tr>\n",
       "      <th>std</th>\n",
       "      <td>41.330836</td>\n",
       "      <td>0.000076</td>\n",
       "      <td>NaN</td>\n",
       "    </tr>\n",
       "    <tr>\n",
       "      <th>min</th>\n",
       "      <td>0.000000</td>\n",
       "      <td>0.000000</td>\n",
       "      <td>0.000045</td>\n",
       "    </tr>\n",
       "    <tr>\n",
       "      <th>25%</th>\n",
       "      <td>11.750000</td>\n",
       "      <td>0.000022</td>\n",
       "      <td>0.010163</td>\n",
       "    </tr>\n",
       "    <tr>\n",
       "      <th>50%</th>\n",
       "      <td>28.000000</td>\n",
       "      <td>0.000052</td>\n",
       "      <td>0.029956</td>\n",
       "    </tr>\n",
       "    <tr>\n",
       "      <th>75%</th>\n",
       "      <td>60.000000</td>\n",
       "      <td>0.000111</td>\n",
       "      <td>0.092788</td>\n",
       "    </tr>\n",
       "    <tr>\n",
       "      <th>max</th>\n",
       "      <td>229.000000</td>\n",
       "      <td>0.000423</td>\n",
       "      <td>inf</td>\n",
       "    </tr>\n",
       "  </tbody>\n",
       "</table>\n",
       "</div>"
      ],
      "text/plain": [
       "       absolute_error  normalized_error  relative_error\n",
       "count      200.000000        200.000000      196.000000\n",
       "mean        42.135000          0.000078             inf\n",
       "std         41.330836          0.000076             NaN\n",
       "min          0.000000          0.000000        0.000045\n",
       "25%         11.750000          0.000022        0.010163\n",
       "50%         28.000000          0.000052        0.029956\n",
       "75%         60.000000          0.000111        0.092788\n",
       "max        229.000000          0.000423             inf"
      ]
     },
     "execution_count": 91,
     "metadata": {},
     "output_type": "execute_result"
    }
   ],
   "source": [
    "central_dp_results_4[[\"absolute_error\",\"normalized_error\",\"relative_error\"]].describe()"
   ]
  },
  {
   "cell_type": "markdown",
   "id": "1cf5d034",
   "metadata": {},
   "source": [
    "## Local DP"
   ]
  },
  {
   "cell_type": "code",
   "execution_count": 41,
   "id": "bc8d06f1",
   "metadata": {},
   "outputs": [
    {
     "name": "stdout",
     "output_type": "stream",
     "text": [
      "Computing true counts...\n"
     ]
    },
    {
     "name": "stderr",
     "output_type": "stream",
     "text": [
      "True Count:   0%|          | 0/100 [00:00<?, ?it/s]"
     ]
    },
    {
     "name": "stderr",
     "output_type": "stream",
     "text": [
      "True Count: 100%|██████████| 100/100 [00:03<00:00, 26.42it/s]\n"
     ]
    },
    {
     "name": "stdout",
     "output_type": "stream",
     "text": [
      "Computing estimates...\n"
     ]
    },
    {
     "name": "stderr",
     "output_type": "stream",
     "text": [
      "Estimates: 100%|██████████| 100/100 [00:04<00:00, 22.32it/s]\n"
     ]
    },
    {
     "name": "stdout",
     "output_type": "stream",
     "text": [
      "Computing true counts...\n"
     ]
    },
    {
     "name": "stderr",
     "output_type": "stream",
     "text": [
      "True Count: 100%|██████████| 100/100 [00:05<00:00, 19.63it/s]\n"
     ]
    },
    {
     "name": "stdout",
     "output_type": "stream",
     "text": [
      "Computing estimates...\n"
     ]
    },
    {
     "name": "stderr",
     "output_type": "stream",
     "text": [
      "Estimates: 100%|██████████| 100/100 [00:06<00:00, 16.59it/s]\n"
     ]
    }
   ],
   "source": [
    "# epsilon = 0.5*(len(queries[\"queries\"])+1)\n",
    "# per_query_epsilon=0.5\n",
    "\n",
    "epsilon = 0.5\n",
    "per_query_epsilon=0.5/(len(queries[\"queries\"])+1)\n",
    "ldp = LDPServer(retail_df, epsilon=epsilon, number_of_partitions=10, per_query_epsilon=per_query_epsilon)\n",
    "\n",
    "ldp_results_2 = evaluate_queries_baselines(df=retail_df, queries=queries[\"queries\"], baseline=ldp, path_to_file=\"../results/real_world/online_retail_2_ldp_05.csv\")\n",
    "ldp.reset_budget()\n",
    "ldp_results_4 = evaluate_queries_baselines(df=retail_df, queries=queries_4[\"queries\"], baseline=ldp, path_to_file=\"../results/real_world/online_retail_4_ldp_05.csv\")\n",
    "ldp.reset_budget()"
   ]
  },
  {
   "cell_type": "code",
   "execution_count": 93,
   "id": "141e349d",
   "metadata": {},
   "outputs": [
    {
     "data": {
      "text/html": [
       "<div>\n",
       "<style scoped>\n",
       "    .dataframe tbody tr th:only-of-type {\n",
       "        vertical-align: middle;\n",
       "    }\n",
       "\n",
       "    .dataframe tbody tr th {\n",
       "        vertical-align: top;\n",
       "    }\n",
       "\n",
       "    .dataframe thead th {\n",
       "        text-align: right;\n",
       "    }\n",
       "</style>\n",
       "<table border=\"1\" class=\"dataframe\">\n",
       "  <thead>\n",
       "    <tr style=\"text-align: right;\">\n",
       "      <th></th>\n",
       "      <th>absolute_error</th>\n",
       "      <th>normalized_error</th>\n",
       "      <th>relative_error</th>\n",
       "    </tr>\n",
       "  </thead>\n",
       "  <tbody>\n",
       "    <tr>\n",
       "      <th>count</th>\n",
       "      <td>200.000000</td>\n",
       "      <td>200.000000</td>\n",
       "      <td>200.000000</td>\n",
       "    </tr>\n",
       "    <tr>\n",
       "      <th>mean</th>\n",
       "      <td>39521.200000</td>\n",
       "      <td>0.072930</td>\n",
       "      <td>0.840484</td>\n",
       "    </tr>\n",
       "    <tr>\n",
       "      <th>std</th>\n",
       "      <td>54223.788555</td>\n",
       "      <td>0.100061</td>\n",
       "      <td>0.209928</td>\n",
       "    </tr>\n",
       "    <tr>\n",
       "      <th>min</th>\n",
       "      <td>56.000000</td>\n",
       "      <td>0.000103</td>\n",
       "      <td>0.050088</td>\n",
       "    </tr>\n",
       "    <tr>\n",
       "      <th>25%</th>\n",
       "      <td>2936.250000</td>\n",
       "      <td>0.005418</td>\n",
       "      <td>0.794086</td>\n",
       "    </tr>\n",
       "    <tr>\n",
       "      <th>50%</th>\n",
       "      <td>5668.500000</td>\n",
       "      <td>0.010460</td>\n",
       "      <td>0.930375</td>\n",
       "    </tr>\n",
       "    <tr>\n",
       "      <th>75%</th>\n",
       "      <td>79390.000000</td>\n",
       "      <td>0.146501</td>\n",
       "      <td>0.977298</td>\n",
       "    </tr>\n",
       "    <tr>\n",
       "      <th>max</th>\n",
       "      <td>191591.000000</td>\n",
       "      <td>0.353548</td>\n",
       "      <td>1.000000</td>\n",
       "    </tr>\n",
       "  </tbody>\n",
       "</table>\n",
       "</div>"
      ],
      "text/plain": [
       "       absolute_error  normalized_error  relative_error\n",
       "count      200.000000        200.000000      200.000000\n",
       "mean     39521.200000          0.072930        0.840484\n",
       "std      54223.788555          0.100061        0.209928\n",
       "min         56.000000          0.000103        0.050088\n",
       "25%       2936.250000          0.005418        0.794086\n",
       "50%       5668.500000          0.010460        0.930375\n",
       "75%      79390.000000          0.146501        0.977298\n",
       "max     191591.000000          0.353548        1.000000"
      ]
     },
     "execution_count": 93,
     "metadata": {},
     "output_type": "execute_result"
    }
   ],
   "source": [
    "ldp_results_2[[\"absolute_error\",\"normalized_error\",\"relative_error\"]].describe()"
   ]
  },
  {
   "cell_type": "code",
   "execution_count": 94,
   "id": "0070971e",
   "metadata": {},
   "outputs": [
    {
     "name": "stderr",
     "output_type": "stream",
     "text": [
      "/home/rudi/.local/lib/python3.12/site-packages/pandas/core/nanops.py:1016: RuntimeWarning: invalid value encountered in subtract\n",
      "  sqr = _ensure_numeric((avg - values) ** 2)\n"
     ]
    },
    {
     "data": {
      "text/html": [
       "<div>\n",
       "<style scoped>\n",
       "    .dataframe tbody tr th:only-of-type {\n",
       "        vertical-align: middle;\n",
       "    }\n",
       "\n",
       "    .dataframe tbody tr th {\n",
       "        vertical-align: top;\n",
       "    }\n",
       "\n",
       "    .dataframe thead th {\n",
       "        text-align: right;\n",
       "    }\n",
       "</style>\n",
       "<table border=\"1\" class=\"dataframe\">\n",
       "  <thead>\n",
       "    <tr style=\"text-align: right;\">\n",
       "      <th></th>\n",
       "      <th>absolute_error</th>\n",
       "      <th>normalized_error</th>\n",
       "      <th>relative_error</th>\n",
       "    </tr>\n",
       "  </thead>\n",
       "  <tbody>\n",
       "    <tr>\n",
       "      <th>count</th>\n",
       "      <td>200.000000</td>\n",
       "      <td>200.000000</td>\n",
       "      <td>198.000000</td>\n",
       "    </tr>\n",
       "    <tr>\n",
       "      <th>mean</th>\n",
       "      <td>2883.770000</td>\n",
       "      <td>0.005322</td>\n",
       "      <td>inf</td>\n",
       "    </tr>\n",
       "    <tr>\n",
       "      <th>std</th>\n",
       "      <td>7874.113824</td>\n",
       "      <td>0.014530</td>\n",
       "      <td>NaN</td>\n",
       "    </tr>\n",
       "    <tr>\n",
       "      <th>min</th>\n",
       "      <td>0.000000</td>\n",
       "      <td>0.000000</td>\n",
       "      <td>0.141414</td>\n",
       "    </tr>\n",
       "    <tr>\n",
       "      <th>25%</th>\n",
       "      <td>347.750000</td>\n",
       "      <td>0.000642</td>\n",
       "      <td>0.885487</td>\n",
       "    </tr>\n",
       "    <tr>\n",
       "      <th>50%</th>\n",
       "      <td>836.500000</td>\n",
       "      <td>0.001544</td>\n",
       "      <td>0.998182</td>\n",
       "    </tr>\n",
       "    <tr>\n",
       "      <th>75%</th>\n",
       "      <td>1569.500000</td>\n",
       "      <td>0.002896</td>\n",
       "      <td>1.000000</td>\n",
       "    </tr>\n",
       "    <tr>\n",
       "      <th>max</th>\n",
       "      <td>45603.000000</td>\n",
       "      <td>0.084153</td>\n",
       "      <td>inf</td>\n",
       "    </tr>\n",
       "  </tbody>\n",
       "</table>\n",
       "</div>"
      ],
      "text/plain": [
       "       absolute_error  normalized_error  relative_error\n",
       "count      200.000000        200.000000      198.000000\n",
       "mean      2883.770000          0.005322             inf\n",
       "std       7874.113824          0.014530             NaN\n",
       "min          0.000000          0.000000        0.141414\n",
       "25%        347.750000          0.000642        0.885487\n",
       "50%        836.500000          0.001544        0.998182\n",
       "75%       1569.500000          0.002896        1.000000\n",
       "max      45603.000000          0.084153             inf"
      ]
     },
     "execution_count": 94,
     "metadata": {},
     "output_type": "execute_result"
    }
   ],
   "source": [
    "ldp_results_4[[\"absolute_error\",\"normalized_error\",\"relative_error\"]].describe()"
   ]
  },
  {
   "cell_type": "markdown",
   "id": "1aa65f9d",
   "metadata": {},
   "source": [
    "## Local DP - GRR"
   ]
  },
  {
   "cell_type": "code",
   "execution_count": 33,
   "id": "2fabf48f",
   "metadata": {},
   "outputs": [
    {
     "name": "stderr",
     "output_type": "stream",
     "text": [
      "Privatizing rows: 100%|██████████| 536494/536494 [00:48<00:00, 11037.64it/s]\n"
     ]
    },
    {
     "name": "stdout",
     "output_type": "stream",
     "text": [
      "Computing true counts...\n"
     ]
    },
    {
     "name": "stderr",
     "output_type": "stream",
     "text": [
      "True Count: 100%|██████████| 100/100 [00:02<00:00, 41.47it/s]\n"
     ]
    },
    {
     "name": "stdout",
     "output_type": "stream",
     "text": [
      "Computing estimates...\n"
     ]
    },
    {
     "name": "stderr",
     "output_type": "stream",
     "text": [
      "Estimates: 100%|██████████| 100/100 [00:03<00:00, 30.45it/s]\n"
     ]
    },
    {
     "name": "stdout",
     "output_type": "stream",
     "text": [
      "Computing true counts...\n"
     ]
    },
    {
     "name": "stderr",
     "output_type": "stream",
     "text": [
      "True Count: 100%|██████████| 100/100 [00:03<00:00, 32.03it/s]\n"
     ]
    },
    {
     "name": "stdout",
     "output_type": "stream",
     "text": [
      "Computing estimates...\n"
     ]
    },
    {
     "name": "stderr",
     "output_type": "stream",
     "text": [
      "Estimates: 100%|██████████| 100/100 [00:04<00:00, 20.23it/s]\n"
     ]
    }
   ],
   "source": [
    "epsilon = 0.5\n",
    "categorical_domains, numerical_ranges = infer_domains_and_ranges(retail_df)\n",
    "\n",
    "grr = LDPEncoderGRR(df=retail_df, epsilon=epsilon, categorical_domains=categorical_domains, numerical_ranges=numerical_ranges)\n",
    "\n",
    "grr_results_2 = evaluate_queries_baselines(df=retail_df, queries=queries[\"queries\"], baseline=grr, path_to_file=\"../results/real_world/online_retail_2_grr_05.csv\")\n",
    "grr_results_4 = evaluate_queries_baselines(df=retail_df, queries=queries_4[\"queries\"], baseline=grr, path_to_file=\"../results/real_world/online_retail_4_grr_05.csv\")"
   ]
  },
  {
   "cell_type": "code",
   "execution_count": 96,
   "id": "44b7a5cd",
   "metadata": {},
   "outputs": [
    {
     "data": {
      "text/html": [
       "<div>\n",
       "<style scoped>\n",
       "    .dataframe tbody tr th:only-of-type {\n",
       "        vertical-align: middle;\n",
       "    }\n",
       "\n",
       "    .dataframe tbody tr th {\n",
       "        vertical-align: top;\n",
       "    }\n",
       "\n",
       "    .dataframe thead th {\n",
       "        text-align: right;\n",
       "    }\n",
       "</style>\n",
       "<table border=\"1\" class=\"dataframe\">\n",
       "  <thead>\n",
       "    <tr style=\"text-align: right;\">\n",
       "      <th></th>\n",
       "      <th>absolute_error</th>\n",
       "      <th>normalized_error</th>\n",
       "      <th>relative_error</th>\n",
       "    </tr>\n",
       "  </thead>\n",
       "  <tbody>\n",
       "    <tr>\n",
       "      <th>count</th>\n",
       "      <td>200.000000</td>\n",
       "      <td>200.000000</td>\n",
       "      <td>200.000000</td>\n",
       "    </tr>\n",
       "    <tr>\n",
       "      <th>mean</th>\n",
       "      <td>44468.655000</td>\n",
       "      <td>0.082059</td>\n",
       "      <td>0.930654</td>\n",
       "    </tr>\n",
       "    <tr>\n",
       "      <th>std</th>\n",
       "      <td>62673.184972</td>\n",
       "      <td>0.115653</td>\n",
       "      <td>0.257347</td>\n",
       "    </tr>\n",
       "    <tr>\n",
       "      <th>min</th>\n",
       "      <td>16.000000</td>\n",
       "      <td>0.000030</td>\n",
       "      <td>0.042328</td>\n",
       "    </tr>\n",
       "    <tr>\n",
       "      <th>25%</th>\n",
       "      <td>3323.750000</td>\n",
       "      <td>0.006133</td>\n",
       "      <td>0.887105</td>\n",
       "    </tr>\n",
       "    <tr>\n",
       "      <th>50%</th>\n",
       "      <td>6230.500000</td>\n",
       "      <td>0.011497</td>\n",
       "      <td>0.960060</td>\n",
       "    </tr>\n",
       "    <tr>\n",
       "      <th>75%</th>\n",
       "      <td>83535.000000</td>\n",
       "      <td>0.154149</td>\n",
       "      <td>0.987321</td>\n",
       "    </tr>\n",
       "    <tr>\n",
       "      <th>max</th>\n",
       "      <td>219330.000000</td>\n",
       "      <td>0.404736</td>\n",
       "      <td>4.100422</td>\n",
       "    </tr>\n",
       "  </tbody>\n",
       "</table>\n",
       "</div>"
      ],
      "text/plain": [
       "       absolute_error  normalized_error  relative_error\n",
       "count      200.000000        200.000000      200.000000\n",
       "mean     44468.655000          0.082059        0.930654\n",
       "std      62673.184972          0.115653        0.257347\n",
       "min         16.000000          0.000030        0.042328\n",
       "25%       3323.750000          0.006133        0.887105\n",
       "50%       6230.500000          0.011497        0.960060\n",
       "75%      83535.000000          0.154149        0.987321\n",
       "max     219330.000000          0.404736        4.100422"
      ]
     },
     "execution_count": 96,
     "metadata": {},
     "output_type": "execute_result"
    }
   ],
   "source": [
    "grr_results_2[[\"absolute_error\",\"normalized_error\",\"relative_error\"]].describe()"
   ]
  },
  {
   "cell_type": "code",
   "execution_count": 97,
   "id": "12fdde2c",
   "metadata": {},
   "outputs": [
    {
     "name": "stderr",
     "output_type": "stream",
     "text": [
      "/home/rudi/.local/lib/python3.12/site-packages/pandas/core/nanops.py:1016: RuntimeWarning: invalid value encountered in subtract\n",
      "  sqr = _ensure_numeric((avg - values) ** 2)\n"
     ]
    },
    {
     "data": {
      "text/html": [
       "<div>\n",
       "<style scoped>\n",
       "    .dataframe tbody tr th:only-of-type {\n",
       "        vertical-align: middle;\n",
       "    }\n",
       "\n",
       "    .dataframe tbody tr th {\n",
       "        vertical-align: top;\n",
       "    }\n",
       "\n",
       "    .dataframe thead th {\n",
       "        text-align: right;\n",
       "    }\n",
       "</style>\n",
       "<table border=\"1\" class=\"dataframe\">\n",
       "  <thead>\n",
       "    <tr style=\"text-align: right;\">\n",
       "      <th></th>\n",
       "      <th>absolute_error</th>\n",
       "      <th>normalized_error</th>\n",
       "      <th>relative_error</th>\n",
       "    </tr>\n",
       "  </thead>\n",
       "  <tbody>\n",
       "    <tr>\n",
       "      <th>count</th>\n",
       "      <td>200.000000</td>\n",
       "      <td>200.000000</td>\n",
       "      <td>196.00000</td>\n",
       "    </tr>\n",
       "    <tr>\n",
       "      <th>mean</th>\n",
       "      <td>2962.560000</td>\n",
       "      <td>0.005467</td>\n",
       "      <td>inf</td>\n",
       "    </tr>\n",
       "    <tr>\n",
       "      <th>std</th>\n",
       "      <td>7907.365946</td>\n",
       "      <td>0.014592</td>\n",
       "      <td>NaN</td>\n",
       "    </tr>\n",
       "    <tr>\n",
       "      <th>min</th>\n",
       "      <td>0.000000</td>\n",
       "      <td>0.000000</td>\n",
       "      <td>0.00000</td>\n",
       "    </tr>\n",
       "    <tr>\n",
       "      <th>25%</th>\n",
       "      <td>413.250000</td>\n",
       "      <td>0.000763</td>\n",
       "      <td>0.99875</td>\n",
       "    </tr>\n",
       "    <tr>\n",
       "      <th>50%</th>\n",
       "      <td>963.500000</td>\n",
       "      <td>0.001778</td>\n",
       "      <td>1.00000</td>\n",
       "    </tr>\n",
       "    <tr>\n",
       "      <th>75%</th>\n",
       "      <td>1700.750000</td>\n",
       "      <td>0.003138</td>\n",
       "      <td>1.00000</td>\n",
       "    </tr>\n",
       "    <tr>\n",
       "      <th>max</th>\n",
       "      <td>45572.000000</td>\n",
       "      <td>0.084095</td>\n",
       "      <td>inf</td>\n",
       "    </tr>\n",
       "  </tbody>\n",
       "</table>\n",
       "</div>"
      ],
      "text/plain": [
       "       absolute_error  normalized_error  relative_error\n",
       "count      200.000000        200.000000       196.00000\n",
       "mean      2962.560000          0.005467             inf\n",
       "std       7907.365946          0.014592             NaN\n",
       "min          0.000000          0.000000         0.00000\n",
       "25%        413.250000          0.000763         0.99875\n",
       "50%        963.500000          0.001778         1.00000\n",
       "75%       1700.750000          0.003138         1.00000\n",
       "max      45572.000000          0.084095             inf"
      ]
     },
     "execution_count": 97,
     "metadata": {},
     "output_type": "execute_result"
    }
   ],
   "source": [
    "grr_results_4[[\"absolute_error\",\"normalized_error\",\"relative_error\"]].describe()"
   ]
  },
  {
   "cell_type": "markdown",
   "id": "cc2a9620",
   "metadata": {},
   "source": [
    "# Plots"
   ]
  },
  {
   "cell_type": "code",
   "execution_count": 48,
   "id": "9932ff82",
   "metadata": {},
   "outputs": [],
   "source": [
    "level_cols = [f'level_{L}_queries' for L in range(6)]\n",
    "for L, col in enumerate(level_cols):\n",
    "    ps_results_2[f'level_{L}_volume'] = ps_results_2[col] / (2 ** (3 * L))\n",
    "ps_results_2['total_volume'] = ps_results_2[[f'level_{L}_volume' for L in range(6)]].sum(axis=1)\n",
    "\n",
    "for L, col in enumerate(level_cols):\n",
    "    ps_results_2[f'level_{L}_relative_volume'] = ps_results_2[f'level_{L}_volume'] / ps_results_2['total_volume'] "
   ]
  },
  {
   "cell_type": "code",
   "execution_count": 50,
   "id": "c20ac72c",
   "metadata": {},
   "outputs": [
    {
     "data": {
      "text/html": [
       "<div>\n",
       "<style scoped>\n",
       "    .dataframe tbody tr th:only-of-type {\n",
       "        vertical-align: middle;\n",
       "    }\n",
       "\n",
       "    .dataframe tbody tr th {\n",
       "        vertical-align: top;\n",
       "    }\n",
       "\n",
       "    .dataframe thead th {\n",
       "        text-align: right;\n",
       "    }\n",
       "</style>\n",
       "<table border=\"1\" class=\"dataframe\">\n",
       "  <thead>\n",
       "    <tr style=\"text-align: right;\">\n",
       "      <th></th>\n",
       "      <th>level_0_relative_volume</th>\n",
       "      <th>level_1_relative_volume</th>\n",
       "      <th>level_2_relative_volume</th>\n",
       "      <th>level_3_relative_volume</th>\n",
       "      <th>level_4_relative_volume</th>\n",
       "      <th>level_5_relative_volume</th>\n",
       "    </tr>\n",
       "  </thead>\n",
       "  <tbody>\n",
       "    <tr>\n",
       "      <th>count</th>\n",
       "      <td>100.000000</td>\n",
       "      <td>100.000000</td>\n",
       "      <td>100.000000</td>\n",
       "      <td>100.000000</td>\n",
       "      <td>100.000000</td>\n",
       "      <td>100.000000</td>\n",
       "    </tr>\n",
       "    <tr>\n",
       "      <th>mean</th>\n",
       "      <td>0.524109</td>\n",
       "      <td>0.416067</td>\n",
       "      <td>0.054095</td>\n",
       "      <td>0.005630</td>\n",
       "      <td>0.000088</td>\n",
       "      <td>0.000011</td>\n",
       "    </tr>\n",
       "    <tr>\n",
       "      <th>std</th>\n",
       "      <td>0.389781</td>\n",
       "      <td>0.339816</td>\n",
       "      <td>0.054128</td>\n",
       "      <td>0.006831</td>\n",
       "      <td>0.000179</td>\n",
       "      <td>0.000019</td>\n",
       "    </tr>\n",
       "    <tr>\n",
       "      <th>min</th>\n",
       "      <td>0.000000</td>\n",
       "      <td>0.000000</td>\n",
       "      <td>0.000000</td>\n",
       "      <td>0.000000</td>\n",
       "      <td>0.000000</td>\n",
       "      <td>0.000000</td>\n",
       "    </tr>\n",
       "    <tr>\n",
       "      <th>25%</th>\n",
       "      <td>0.021953</td>\n",
       "      <td>0.110915</td>\n",
       "      <td>0.010987</td>\n",
       "      <td>0.000000</td>\n",
       "      <td>0.000000</td>\n",
       "      <td>0.000000</td>\n",
       "    </tr>\n",
       "    <tr>\n",
       "      <th>50%</th>\n",
       "      <td>0.672940</td>\n",
       "      <td>0.292985</td>\n",
       "      <td>0.030891</td>\n",
       "      <td>0.002574</td>\n",
       "      <td>0.000000</td>\n",
       "      <td>0.000003</td>\n",
       "    </tr>\n",
       "    <tr>\n",
       "      <th>75%</th>\n",
       "      <td>0.869735</td>\n",
       "      <td>0.826902</td>\n",
       "      <td>0.109089</td>\n",
       "      <td>0.011464</td>\n",
       "      <td>0.000080</td>\n",
       "      <td>0.000012</td>\n",
       "    </tr>\n",
       "    <tr>\n",
       "      <th>max</th>\n",
       "      <td>0.984703</td>\n",
       "      <td>0.901844</td>\n",
       "      <td>0.185010</td>\n",
       "      <td>0.027945</td>\n",
       "      <td>0.000784</td>\n",
       "      <td>0.000095</td>\n",
       "    </tr>\n",
       "  </tbody>\n",
       "</table>\n",
       "</div>"
      ],
      "text/plain": [
       "       level_0_relative_volume  level_1_relative_volume  \\\n",
       "count               100.000000               100.000000   \n",
       "mean                  0.524109                 0.416067   \n",
       "std                   0.389781                 0.339816   \n",
       "min                   0.000000                 0.000000   \n",
       "25%                   0.021953                 0.110915   \n",
       "50%                   0.672940                 0.292985   \n",
       "75%                   0.869735                 0.826902   \n",
       "max                   0.984703                 0.901844   \n",
       "\n",
       "       level_2_relative_volume  level_3_relative_volume  \\\n",
       "count               100.000000               100.000000   \n",
       "mean                  0.054095                 0.005630   \n",
       "std                   0.054128                 0.006831   \n",
       "min                   0.000000                 0.000000   \n",
       "25%                   0.010987                 0.000000   \n",
       "50%                   0.030891                 0.002574   \n",
       "75%                   0.109089                 0.011464   \n",
       "max                   0.185010                 0.027945   \n",
       "\n",
       "       level_4_relative_volume  level_5_relative_volume  \n",
       "count               100.000000               100.000000  \n",
       "mean                  0.000088                 0.000011  \n",
       "std                   0.000179                 0.000019  \n",
       "min                   0.000000                 0.000000  \n",
       "25%                   0.000000                 0.000000  \n",
       "50%                   0.000000                 0.000003  \n",
       "75%                   0.000080                 0.000012  \n",
       "max                   0.000784                 0.000095  "
      ]
     },
     "execution_count": 50,
     "metadata": {},
     "output_type": "execute_result"
    }
   ],
   "source": [
    "ps_results_2[['level_0_relative_volume', 'level_1_relative_volume', 'level_2_relative_volume',\n",
    "              'level_3_relative_volume', 'level_4_relative_volume', 'level_5_relative_volume']].describe()"
   ]
  },
  {
   "cell_type": "code",
   "execution_count": 53,
   "id": "ed80798a",
   "metadata": {},
   "outputs": [
    {
     "data": {
      "image/png": "[encoded data removed]",
      "text/plain": [
       "<Figure size 576x432 with 1 Axes>"
      ]
     },
     "metadata": {
      "needs_background": "light"
     },
     "output_type": "display_data"
    }
   ],
   "source": [
    "# Label the sources as '2' and '4' (corresponding to number of predicates)\n",
    "ps_results_2['approach'] = 'Pacha Sketch'\n",
    "ps_dp_results_2['approach'] = 'Pacha Sketch - DP'\n",
    "ps_ldp_results_2['approach'] = 'Pacha Sketch - LDP'\n",
    "central_dp_results_2['approach'] = 'Central DP'\n",
    "ldp_results_2['approach'] = 'Local DP'\n",
    "grr_results_2['approach'] = 'Local DP - GRR'\n",
    "\n",
    "custom_palette = {\n",
    "    'Pacha Sketch': 'tab:blue',\n",
    "    'Pacha Sketch - DP': 'tab:purple',\n",
    "    'Pacha Sketch - LDP': 'tab:cyan', \n",
    "    'Central DP': 'tab:orange',\n",
    "    'Local DP': 'tab:green',\n",
    "    'Local DP - GRR': 'tab:red'\n",
    "    }\n",
    "\n",
    "# Combine the DataFrames\n",
    "combined_df = pd.concat([ps_results_2, ps_dp_results_2,ps_ldp_results_2, central_dp_results_2, ldp_results_2, grr_results_2], ignore_index=True)\n",
    "\n",
    "# Create the boxplot\n",
    "plt.figure(figsize=(8, 6))\n",
    "sns.boxplot(x='approach', y='normalized_error', hue='approach', data=combined_df, palette=custom_palette)\n",
    "\n",
    "# Set axis labels and title\n",
    "plt.xlabel('Approach')\n",
    "plt.ylabel('Normalized Error')\n",
    "plt.title('Comparison of Normalized Error by Approach')\n",
    "plt.grid(True)\n",
    "plt.tight_layout()\n",
    "plt.yscale('log')  \n",
    "plt.xticks(rotation=-45)\n",
    "plt.show()"
   ]
  },
  {
   "cell_type": "code",
   "execution_count": 119,
   "id": "7a4930f1",
   "metadata": {},
   "outputs": [
    {
     "data": {
      "text/plain": [
       "array([[ 125,    3,    0,  -77,  -25,    0,   18,   37,  -11,  -81],\n",
       "       [ -22,   68,  -34,   -4,   79, -120,    9,   92,  -31,    4],\n",
       "       [  68,  -53,    2,   28,   17,   -3,  -36,   -1,  -12,   -2]])"
      ]
     },
     "execution_count": 119,
     "metadata": {},
     "output_type": "execute_result"
    }
   ],
   "source": [
    "CMParameters(width=10, depth=3, epsilon=5.0/200.0).build_sketch().counters"
   ]
  },
  {
   "cell_type": "code",
   "execution_count": 45,
   "id": "01629bbc",
   "metadata": {},
   "outputs": [
    {
     "data": {
      "image/png": "[encoded data removed]",
      "text/plain": [
       "<Figure size 576x432 with 1 Axes>"
      ]
     },
     "metadata": {
      "needs_background": "light"
     },
     "output_type": "display_data"
    }
   ],
   "source": [
    "# Label the sources as '2' and '4' (corresponding to number of predicates)\n",
    "ps_results_4['approach'] = 'Pacha Sketch'\n",
    "ps_dp_results_4['approach'] = 'Pacha Sketch - DP'\n",
    "ps_ldp_results_4['approach'] = 'Pacha Sketch - LDP'\n",
    "central_dp_results_4['approach'] = 'Central DP'\n",
    "ldp_results_4['approach'] = 'Local DP'\n",
    "grr_results_4['approach'] = 'Local DP - GRR'\n",
    "\n",
    "custom_palette = {\n",
    "    'Pacha Sketch': 'tab:blue',\n",
    "    'Pacha Sketch - DP': 'tab:purple',\n",
    "    'Pacha Sketch - LDP': 'tab:cyan', \n",
    "    'Central DP': 'tab:orange',\n",
    "    'Local DP': 'tab:green',\n",
    "    'Local DP - GRR': 'tab:red'\n",
    "    }\n",
    "\n",
    "# Combine the DataFrames\n",
    "combined_df = pd.concat([ps_results_4, ps_dp_results_4,ps_ldp_results_4, central_dp_results_4, ldp_results_4, grr_results_4], ignore_index=True)\n",
    "\n",
    "# Create the boxplot\n",
    "plt.figure(figsize=(8, 6))\n",
    "sns.boxplot(x='approach', y='normalized_error', hue='approach', data=combined_df, palette=custom_palette)\n",
    "\n",
    "# Set axis labels and title\n",
    "plt.xlabel('Approach')\n",
    "plt.ylabel('Normalized Error')\n",
    "plt.title('Comparison of Normalized Error by Approach')\n",
    "plt.grid(True)\n",
    "plt.tight_layout()\n",
    "plt.yscale('log')  \n",
    "plt.xticks(rotation=-45)\n",
    "plt.show()"
   ]
  },
  {
   "cell_type": "markdown",
   "id": "d9c6c93a",
   "metadata": {},
   "source": [
    "# Performance Improvements"
   ]
  },
  {
   "cell_type": "code",
   "execution_count": 362,
   "id": "312dd425",
   "metadata": {},
   "outputs": [],
   "source": [
    "p_sketch_new = PachaSketch.build_with_uniform_size(\n",
    "    levels=5,\n",
    "    num_dimensions=6,\n",
    "    cat_col_map=[0,1,2],\n",
    "    num_col_map=[3,4,5],\n",
    "    bases=[2,2,2],\n",
    "    ad_tree=ad_tree,\n",
    "    cm_params=CMParameters(delta=delta, error_eps=abs_error_eps / len(retail_df)),\n",
    "    cat_index_parameters=BFParameters(n_values=len(retail_df)*4, p=0.01),\n",
    "    num_index_parameters=BFParameters(n_values=len(retail_df)*5, p=0.01),\n",
    "    region_index_parameters= BFParameters(n_values=len(retail_df)*(5+4), p=0.01))"
   ]
  },
  {
   "cell_type": "code",
   "execution_count": 363,
   "id": "874559b0",
   "metadata": {},
   "outputs": [],
   "source": [
    "for i, bm in enumerate(p_sketch.numerical_bitmaps):\n",
    "    p_sketch_new.numerical_bitmaps[i].exponent = bm.exponent\n",
    "    p_sketch_new.numerical_bitmaps[i].bucket_size = bm.bucket_size\n",
    "    p_sketch_new.numerical_bitmaps[i].base = bm.base\n",
    "    p_sketch_new.numerical_bitmaps[i].positive_bitmap = bm.positive_bitmap\n",
    "    p_sketch_new.numerical_bitmaps[i].negative_bitmap = bm.negative_bitmap\n",
    "    p_sketch_new.numerical_bitmaps[i].size_per_side = bm.size_per_side\n",
    "    p_sketch_new.numerical_bitmaps[i].limit = bm.limit\n",
    "# p_sketch_new.numerical_bitmaps = p_sketch.numerical_bitmaps"
   ]
  },
  {
   "cell_type": "code",
   "execution_count": 364,
   "id": "f13a6556",
   "metadata": {},
   "outputs": [],
   "source": [
    "result_array = p_sketch_new.minimal_spatial_b_adic_cover_array(test_region)"
   ]
  },
  {
   "cell_type": "code",
   "execution_count": 365,
   "id": "de0afcb9",
   "metadata": {},
   "outputs": [
    {
     "data": {
      "text/plain": [
       "240926"
      ]
     },
     "execution_count": 365,
     "metadata": {},
     "output_type": "execute_result"
    }
   ],
   "source": [
    "len(result_array)"
   ]
  },
  {
   "cell_type": "code",
   "execution_count": null,
   "id": "31c0da1e",
   "metadata": {},
   "outputs": [],
   "source": [
    "b_cubes = p_sketch.minimal_spatial_b_adic_cover([[93, 170], (18, 71), (0, 168469)])\n"
   ]
  },
  {
   "cell_type": "code",
   "execution_count": 342,
   "id": "f7b610f6",
   "metadata": {},
   "outputs": [
    {
     "name": "stdout",
     "output_type": "stream",
     "text": [
      "Old method time: 7.607994 seconds\n",
      "New method time: 5.088587 seconds\n",
      "Array method time: 0.017456 seconds\n",
      "Results equivalent: [ True  True  True ...  True  True  True]\n",
      "Number of B-adic cubes: (240926, 240926, 240926)\n"
     ]
    }
   ],
   "source": [
    "import time\n",
    "\n",
    "# Define the test input\n",
    "test_region = [[93, 170], (18, 71), (0, 168469)]\n",
    "\n",
    "# Time the original method\n",
    "start_time = time.time()\n",
    "result_old = p_sketch.minimal_spatial_b_adic_cover(test_region)\n",
    "old_time = time.time() - start_time\n",
    "\n",
    "# Time the new method\n",
    "start_time = time.time()\n",
    "result_new = p_sketch_new.new_minimal_spatial_b_adic_cover(test_region)\n",
    "new_time = time.time() - start_time\n",
    "\n",
    "start_time = time.time()\n",
    "result_array = p_sketch_new.minimal_spatial_b_adic_cover_array(test_region)\n",
    "array_time = time.time() - start_time\n",
    "\n",
    "# Compare results for equivalence\n",
    "are_equivalent = (result_old == result_new)\n",
    "\n",
    "print(f\"Old method time: {old_time:.6f} seconds\")\n",
    "print(f\"New method time: {new_time:.6f} seconds\")\n",
    "print(f\"Array method time: {array_time:.6f} seconds\")\n",
    "print(f\"Results equivalent: {are_equivalent}\")\n",
    "print(f\"Number of B-adic cubes: {len(result_old), len(result_new), len(result_array)}\")\n"
   ]
  },
  {
   "cell_type": "code",
   "execution_count": 346,
   "id": "1470ca4a",
   "metadata": {},
   "outputs": [
    {
     "name": "stdout",
     "output_type": "stream",
     "text": [
      "(240926, 4)\n",
      "[[ 0 93 18  0]\n",
      " [ 0 93 18  1]\n",
      " [ 0 93 18  2]\n",
      " [ 0 93 18  3]\n",
      " [ 0 93 18  4]]\n"
     ]
    }
   ],
   "source": [
    "# Assuming result_old is a numpy array of BAdicCube objects\n",
    "# Each BAdicCube has attributes: level and indeces (tuple of ints)\n",
    "\n",
    "def badicube_to_array(badicubes):\n",
    "    # badicubes: array-like of BAdicCube\n",
    "    # Returns: np.ndarray of shape (n, 1 + len(indeces))\n",
    "    arr = np.array([\n",
    "        (cube.level, *cube.indeces)\n",
    "        for cube in badicubes\n",
    "    ])\n",
    "    return arr\n",
    "\n",
    "badicube_array = badicube_to_array(result_old)\n",
    "print(badicube_array.shape)\n",
    "print(badicube_array[:5])"
   ]
  },
  {
   "cell_type": "code",
   "execution_count": 382,
   "id": "fca3ae40",
   "metadata": {},
   "outputs": [],
   "source": [
    "# def get_relevant_nodes_array(ad_tree, predicates, for_query=False) -> np.ndarray:\n",
    "predicates=[{'*'}, {'France'}, {'*'}]\n",
    "if len(predicates) != ad_tree.num_dimensions:\n",
    "    raise ValueError(\"Predicates length does not match the number of dimensions.\")\n",
    "\n",
    "# if predicates == list({\"*\"} for _ in range(ad_tree.num_dimensions)):\n",
    "#     return [tuple(\"*\" for _ in range(ad_tree.num_dimensions))]\n",
    "\n",
    "last_predicate = ad_tree.num_dimensions - 1\n",
    "for predicate in reversed(predicates):\n",
    "    if predicate != {\"*\"}:\n",
    "        break\n",
    "    last_predicate -= 1\n",
    "\n",
    "for i in range(ad_tree.num_dimensions):\n",
    "    if predicates[i] == {\"*\"}:\n",
    "        if i < last_predicate:\n",
    "            predicates[i] = ad_tree.possible_values[i]\n",
    "        continue\n",
    "    elif not predicates[i].issubset(ad_tree.possible_values[i]):\n",
    "        raise ValueError(f\"Predicate {predicates[i]} at index {i} is not in the possible values.\")\n",
    "\n",
    "# Use NumPy for cartesian product\n",
    "\n",
    "\n",
    "# if not for_query:\n",
    "#     relevant_nodes = np.vstack([tuple(\"*\" for _ in range(ad_tree.num_dimensions)), relevant_nodes])\n",
    "\n",
    "    # return relevant_nodes "
   ]
  },
  {
   "cell_type": "code",
   "execution_count": 388,
   "id": "d026d616",
   "metadata": {},
   "outputs": [],
   "source": [
    "arrays = [np.array(list(p)) for p in predicates]\n",
    "mesh = np.meshgrid(*arrays, indexing=\"ij\")\n",
    "flat = np.stack(mesh, axis=-1).reshape(-1, ad_tree.num_dimensions)\n",
    "relevant_nodes = [tuple(row) for row in flat]"
   ]
  },
  {
   "cell_type": "code",
   "execution_count": 397,
   "id": "27b4d1f8",
   "metadata": {},
   "outputs": [
    {
     "data": {
      "text/plain": [
       "125"
      ]
     },
     "execution_count": 397,
     "metadata": {},
     "output_type": "execute_result"
    }
   ],
   "source": [
    "len(ad_tree.get_relevant_nodes_array([{'*'}, {'France'}, {'*'}], for_query=True))"
   ]
  },
  {
   "cell_type": "code",
   "execution_count": 395,
   "id": "545c774e",
   "metadata": {},
   "outputs": [],
   "source": [
    "rel_nodes = p_sketch_new.ad_tree.get_relevant_nodes([{'*'}, {'France'}, {'*'}])"
   ]
  },
  {
   "cell_type": "code",
   "execution_count": 399,
   "id": "b278e653",
   "metadata": {},
   "outputs": [],
   "source": [
    "query_regions = np.asarray([['*', '*', '*', 1, 2, 3],\n",
    "            ['*', '*', '*', 1, 2, 4],\n",
    "            ['*', '*', '*', 1, 2, 5],\n",
    "            ['*', '*', '*', 2, 3, 3],\n",
    "            ['*', '*', '*', 2, 3, 4]])"
   ]
  },
  {
   "cell_type": "code",
   "execution_count": null,
   "id": "f2523b58",
   "metadata": {},
   "outputs": [],
   "source": []
  },
  {
   "cell_type": "code",
   "execution_count": null,
   "id": "706240fa",
   "metadata": {},
   "outputs": [],
   "source": [
    "levels = 5\n",
    "bases = np.asarray([2, 2, 2], dtype=int)\n",
    "element = np.asarray([1, 2, 3], dtype=int)\n",
    "\n",
    "all_levels = np.arange(levels)"
   ]
  },
  {
   "cell_type": "code",
   "execution_count": 413,
   "id": "0402b99f",
   "metadata": {},
   "outputs": [],
   "source": [
    "num_mappings = []\n",
    "for level in range(levels):\n",
    "    b_adic_ranges = []\n",
    "    for i, base in enumerate(bases):\n",
    "        b_adic_ranges.append(BAdicRange(base, level, element[i] // base**level))\n",
    "    num_mappings.append(BAdicCube(b_adic_ranges))"
   ]
  },
  {
   "cell_type": "code",
   "execution_count": 427,
   "id": "5a6db228",
   "metadata": {},
   "outputs": [
    {
     "ename": "ValueError",
     "evalue": "all the input array dimensions except for the concatenation axis must match exactly, but along dimension 1, the array at index 0 has size 1 and the array at index 1 has size 3",
     "output_type": "error",
     "traceback": [
      "\u001b[0;31m---------------------------------------------------------------------------\u001b[0m",
      "\u001b[0;31mValueError\u001b[0m                                Traceback (most recent call last)",
      "\u001b[0;32m/tmp/ipykernel_640197/1066743988.py\u001b[0m in \u001b[0;36m<module>\u001b[0;34m\u001b[0m\n\u001b[1;32m      6\u001b[0m \u001b[0mmatrix\u001b[0m \u001b[0;34m=\u001b[0m \u001b[0mbases\u001b[0m\u001b[0;34m[\u001b[0m\u001b[0;34m:\u001b[0m\u001b[0;34m,\u001b[0m \u001b[0;32mNone\u001b[0m\u001b[0;34m]\u001b[0m \u001b[0;34m**\u001b[0m \u001b[0mall_levels\u001b[0m\u001b[0;34m[\u001b[0m\u001b[0;32mNone\u001b[0m\u001b[0;34m,\u001b[0m \u001b[0;34m:\u001b[0m\u001b[0;34m]\u001b[0m\u001b[0;34m\u001b[0m\u001b[0;34m\u001b[0m\u001b[0m\n\u001b[1;32m      7\u001b[0m \u001b[0mcubes\u001b[0m \u001b[0;34m=\u001b[0m \u001b[0mnp\u001b[0m\u001b[0;34m.\u001b[0m\u001b[0mfloor\u001b[0m\u001b[0;34m(\u001b[0m\u001b[0melement\u001b[0m\u001b[0;34m[\u001b[0m\u001b[0;34m:\u001b[0m\u001b[0;34m,\u001b[0m \u001b[0;32mNone\u001b[0m\u001b[0;34m]\u001b[0m \u001b[0;34m/\u001b[0m \u001b[0mmatrix\u001b[0m\u001b[0;34m[\u001b[0m\u001b[0;36m0\u001b[0m\u001b[0;34m,\u001b[0m \u001b[0;34m:\u001b[0m\u001b[0;34m]\u001b[0m\u001b[0;34m)\u001b[0m\u001b[0;34m.\u001b[0m\u001b[0mastype\u001b[0m\u001b[0;34m(\u001b[0m\u001b[0mint\u001b[0m\u001b[0;34m)\u001b[0m\u001b[0;34m\u001b[0m\u001b[0;34m\u001b[0m\u001b[0m\n\u001b[0;32m----> 8\u001b[0;31m \u001b[0mprint\u001b[0m\u001b[0;34m(\u001b[0m\u001b[0mnp\u001b[0m\u001b[0;34m.\u001b[0m\u001b[0mvstack\u001b[0m\u001b[0;34m(\u001b[0m\u001b[0;34m[\u001b[0m\u001b[0mall_levels\u001b[0m\u001b[0;34m[\u001b[0m\u001b[0;34m:\u001b[0m\u001b[0;34m,\u001b[0m \u001b[0;32mNone\u001b[0m\u001b[0;34m]\u001b[0m\u001b[0;34m,\u001b[0m \u001b[0mcubes\u001b[0m\u001b[0;34m.\u001b[0m\u001b[0mT\u001b[0m\u001b[0;34m]\u001b[0m\u001b[0;34m)\u001b[0m\u001b[0;34m)\u001b[0m\u001b[0;34m\u001b[0m\u001b[0;34m\u001b[0m\u001b[0m\n\u001b[0m",
      "\u001b[0;32m~/.local/lib/python3.12/site-packages/numpy/_core/shape_base.py\u001b[0m in \u001b[0;36mvstack\u001b[0;34m(tup, dtype, casting)\u001b[0m\n\u001b[1;32m    285\u001b[0m     \u001b[0;32mif\u001b[0m \u001b[0;32mnot\u001b[0m \u001b[0misinstance\u001b[0m\u001b[0;34m(\u001b[0m\u001b[0marrs\u001b[0m\u001b[0;34m,\u001b[0m \u001b[0mtuple\u001b[0m\u001b[0;34m)\u001b[0m\u001b[0;34m:\u001b[0m\u001b[0;34m\u001b[0m\u001b[0;34m\u001b[0m\u001b[0m\n\u001b[1;32m    286\u001b[0m         \u001b[0marrs\u001b[0m \u001b[0;34m=\u001b[0m \u001b[0;34m(\u001b[0m\u001b[0marrs\u001b[0m\u001b[0;34m,\u001b[0m\u001b[0;34m)\u001b[0m\u001b[0;34m\u001b[0m\u001b[0;34m\u001b[0m\u001b[0m\n\u001b[0;32m--> 287\u001b[0;31m     \u001b[0;32mreturn\u001b[0m \u001b[0m_nx\u001b[0m\u001b[0;34m.\u001b[0m\u001b[0mconcatenate\u001b[0m\u001b[0;34m(\u001b[0m\u001b[0marrs\u001b[0m\u001b[0;34m,\u001b[0m \u001b[0;36m0\u001b[0m\u001b[0;34m,\u001b[0m \u001b[0mdtype\u001b[0m\u001b[0;34m=\u001b[0m\u001b[0mdtype\u001b[0m\u001b[0;34m,\u001b[0m \u001b[0mcasting\u001b[0m\u001b[0;34m=\u001b[0m\u001b[0mcasting\u001b[0m\u001b[0;34m)\u001b[0m\u001b[0;34m\u001b[0m\u001b[0;34m\u001b[0m\u001b[0m\n\u001b[0m\u001b[1;32m    288\u001b[0m \u001b[0;34m\u001b[0m\u001b[0m\n\u001b[1;32m    289\u001b[0m \u001b[0;34m\u001b[0m\u001b[0m\n",
      "\u001b[0;31mValueError\u001b[0m: all the input array dimensions except for the concatenation axis must match exactly, but along dimension 1, the array at index 0 has size 1 and the array at index 1 has size 3"
     ]
    }
   ],
   "source": [
    "# bases and all_levels are already defined in cell 55\n",
    "# bases: np.ndarray of shape (3,) with values [2, 2, 2]\n",
    "# all_levels: np.ndarray of shape (5,) with values [0, 1, 2, 3, 4]\n",
    "\n",
    "# Compute the matrix where each cell is bases ** all_levels\n",
    "matrix = bases[:, None] ** all_levels[None, :]\n",
    "cubes = np.floor(element[:, None] / matrix[0, :]).astype(int)\n",
    "print(np.vstack([all_levels[:, None], cubes.T]))"
   ]
  },
  {
   "cell_type": "code",
   "execution_count": 428,
   "id": "20584cf3",
   "metadata": {},
   "outputs": [
    {
     "data": {
      "text/plain": [
       "array([[0, 1, 2, 3],\n",
       "       [1, 0, 1, 1],\n",
       "       [2, 0, 0, 0],\n",
       "       [3, 0, 0, 0],\n",
       "       [4, 0, 0, 0]])"
      ]
     },
     "execution_count": 428,
     "metadata": {},
     "output_type": "execute_result"
    }
   ],
   "source": [
    "np.column_stack([all_levels, cubes.T])"
   ]
  },
  {
   "cell_type": "code",
   "execution_count": 421,
   "id": "4d6676f1",
   "metadata": {},
   "outputs": [
    {
     "data": {
      "text/plain": [
       "[BAdicCube(bases=(2, 2, 2), level=0, indeces=(1, 2, 3)),\n",
       " BAdicCube(bases=(2, 2, 2), level=1, indeces=(0, 1, 1)),\n",
       " BAdicCube(bases=(2, 2, 2), level=2, indeces=(0, 0, 0)),\n",
       " BAdicCube(bases=(2, 2, 2), level=3, indeces=(0, 0, 0)),\n",
       " BAdicCube(bases=(2, 2, 2), level=4, indeces=(0, 0, 0))]"
      ]
     },
     "execution_count": 421,
     "metadata": {},
     "output_type": "execute_result"
    }
   ],
   "source": [
    "num_mappings"
   ]
  },
  {
   "cell_type": "code",
   "execution_count": 406,
   "id": "213fc8b2",
   "metadata": {},
   "outputs": [
    {
     "data": {
      "text/plain": [
       "array([['*', '*', '*'],\n",
       "       ['*', '*', '*'],\n",
       "       ['*', '*', '*']], dtype='<U1')"
      ]
     },
     "execution_count": 406,
     "metadata": {},
     "output_type": "execute_result"
    }
   ],
   "source": [
    "np.asarray([('*', '*', '*'), ('*', '*', '*'), ('*', '*', '*')])"
   ]
  },
  {
   "cell_type": "code",
   "execution_count": 360,
   "id": "84a210f7",
   "metadata": {},
   "outputs": [
    {
     "data": {
      "text/plain": [
       "[-6369975529614288558,\n",
       " 5232533906751378970,\n",
       " -5071030604092948102,\n",
       " 1809467772968732216,\n",
       " -2359857282008225136,\n",
       " 1888784957364193609,\n",
       " 7587066775183003426,\n",
       " 207939327853269914,\n",
       " -6306635221017925988,\n",
       " 3457098219362671120,\n",
       " 7947468953557346695,\n",
       " -5035502041935406681,\n",
       " 454023946504616242,\n",
       " 4402880704068234458,\n",
       " -3903412620359786380,\n",
       " 6241984740828599253,\n",
       " 8643386876762453262,\n",
       " -8853514264951912250,\n",
       " -4340151331073075588,\n",
       " 70147821319762893,\n",
       " 153051910942655200,\n",
       " 1774741698661199909,\n",
       " 3935330896207654221,\n",
       " 6428147012758078230,\n",
       " -5859787539302264284,\n",
       " 2452702191699536075,\n",
       " -699899837822465057,\n",
       " 5606691342817734429,\n",
       " -9131013447521673732,\n",
       " 2359319989459239802,\n",
       " -1214500100187482111,\n",
       " -7442215466746353801,\n",
       " -7592077228266645601,\n",
       " -6538292622383240900,\n",
       " 1419297611110391312,\n",
       " 2817701366301346130,\n",
       " -3012049416590788066,\n",
       " 3579080440426215660,\n",
       " -1238323115115579217,\n",
       " 3663354385479941344,\n",
       " 304780146055736053,\n",
       " 2359791114716061915,\n",
       " 5598801675400939141,\n",
       " 944734019951195201,\n",
       " 596035380402092192,\n",
       " 7223202494552038542,\n",
       " -8607749419390226839,\n",
       " -6819202308848129293,\n",
       " 9082753020381764373,\n",
       " -2219636053742220752,\n",
       " 9202405275374438642,\n",
       " 8129119169039935912,\n",
       " -1763988932493807918,\n",
       " 5836879087832398791,\n",
       " 2840313573658154253,\n",
       " -8390625158660084920,\n",
       " -1589292897034038055,\n",
       " -6656053737091233978,\n",
       " -2010844345182961546,\n",
       " 5948324687256746758,\n",
       " -8846451582510415576,\n",
       " 5942185876040817549,\n",
       " -61097633447245585,\n",
       " 6254745008984383601,\n",
       " -5189379687640822467,\n",
       " 3015513984381892878,\n",
       " 10417249114396637,\n",
       " -7884112073132544986,\n",
       " -4268927236951864962,\n",
       " 5816674839260921248,\n",
       " 6126037643006806210,\n",
       " 5320208772478828258,\n",
       " 7645590919375883241,\n",
       " 5701939550648548843,\n",
       " -3909514547902678676,\n",
       " 7118388143362962370,\n",
       " -6484441165789388259,\n",
       " 8721603725690524496,\n",
       " -3107796114051648702,\n",
       " -2055024122750135154,\n",
       " 7768325835962797784,\n",
       " 4035773402877048250,\n",
       " -6241746670834567682,\n",
       " 863947764257075429,\n",
       " -1833794911132293700,\n",
       " 1982191509714701262,\n",
       " 1279822369579868377,\n",
       " -5170216436375245552,\n",
       " -5326943346432960145,\n",
       " 178839692928684500,\n",
       " 6868292784686931513,\n",
       " -5043851466320081005,\n",
       " 717259672693037210,\n",
       " 348187121240217201,\n",
       " -5712493372643768245,\n",
       " 321076969114059117,\n",
       " -4519262378535633207,\n",
       " 5132407168560311406,\n",
       " 4851637108310903367,\n",
       " 2687874021422599326,\n",
       " -8306194784901298132,\n",
       " 5143997132598742994,\n",
       " -7132415464279236874,\n",
       " -8000002512501027632,\n",
       " 9119142066068913925,\n",
       " 6467207727948546771,\n",
       " 8268737962355255436,\n",
       " 5381342586622704407,\n",
       " 4484420730404577703,\n",
       " 8570416378529615788,\n",
       " -2397711590510197831,\n",
       " -7147253623541968587,\n",
       " 8556207397613901692,\n",
       " 2113679678233205780,\n",
       " -1585914241995447665,\n",
       " -7194668705322798589,\n",
       " -7948655365042656949,\n",
       " -8665366746487587735,\n",
       " 491478083307247319,\n",
       " 8883683124154599244,\n",
       " 8349232022156422456,\n",
       " -3680475807825966154,\n",
       " -3651556198740962102,\n",
       " -2200969898201126278,\n",
       " -7215714536138697115,\n",
       " -7944704072195627869]"
      ]
     },
     "execution_count": 360,
     "metadata": {},
     "output_type": "execute_result"
    }
   ],
   "source": [
    "[hash(tuple(val)) for val in np.asarray(rel_nodes)]"
   ]
  },
  {
   "cell_type": "code",
   "execution_count": 358,
   "id": "1283c33c",
   "metadata": {},
   "outputs": [
    {
     "data": {
      "text/plain": [
       "[-6369975529614288558,\n",
       " 1662205864044147147,\n",
       " 1916536311189106074,\n",
       " -1760860269738499607,\n",
       " -5930185324715456959,\n",
       " -8727572373977895039,\n",
       " 4016738732475771603,\n",
       " -3362388714853961909,\n",
       " 8569780809984393805,\n",
       " -113229823344560703,\n",
       " -7910065587854518873,\n",
       " -8605830084642638504,\n",
       " 7441590861786670418,\n",
       " 832552661361002635,\n",
       " 3926974122007676588,\n",
       " -4374372590513489395,\n",
       " -1972970454579635386,\n",
       " -1865947349669858074,\n",
       " -7910479373780307411,\n",
       " -3500180221387468930,\n",
       " -9147851329572399325,\n",
       " -8841615632680888739,\n",
       " 365002853500422398,\n",
       " -4188210318584010418,\n",
       " 9016628491700055509,\n",
       " -9006474966727961365,\n",
       " 7130486904544997911,\n",
       " 2036363300110502606,\n",
       " -8302984107244537427,\n",
       " -3429717581701385549,\n",
       " 1374709432110203937,\n",
       " 388171275621109167,\n",
       " 7284338802735674192,\n",
       " 1292094119984222068,\n",
       " 8406864526392445488,\n",
       " -7798655965040742518,\n",
       " -6582377459298019889,\n",
       " 8752397718983837,\n",
       " -4808651157822811040,\n",
       " -6953002945862147304,\n",
       " 2893989678353422101,\n",
       " -8256566216626026733,\n",
       " -5017555655941149507,\n",
       " -5273265928406525319,\n",
       " -2974292662305139631,\n",
       " -3393154836790050106,\n",
       " -777362677022763871,\n",
       " -4229992776550443245,\n",
       " 5512424977674532550,\n",
       " 369573478555465296,\n",
       " -1413952055967650006,\n",
       " 4558791126332704089,\n",
       " -935959592216671613,\n",
       " -381120860525321729,\n",
       " 5429523105955840301,\n",
       " 6485790872342234873,\n",
       " 6241093845333424913,\n",
       " 8220362293911085815,\n",
       " 5819542397184501422,\n",
       " 6776354027533883063,\n",
       " -1016064840142952608,\n",
       " 2371857833333585726,\n",
       " 7769289108920217383,\n",
       " -4361612322357705047,\n",
       " -8759707730348054290,\n",
       " -7600843346960195770,\n",
       " -3559910793592835186,\n",
       " -53725330765082018,\n",
       " 2718639678330189214,\n",
       " 914128981730234851,\n",
       " 6954066983283942515,\n",
       " -6138968385948669182,\n",
       " -2970766411966205407,\n",
       " 6529968890925685148,\n",
       " 3078052367379375500,\n",
       " 900388195005241850,\n",
       " 503125749492665917,\n",
       " -1894753605651564152,\n",
       " -6678124156758880525,\n",
       " 4932542792531919022,\n",
       " 4197997793255565961,\n",
       " 5292765120351279724,\n",
       " 1588640071532895286,\n",
       " -2706380278450156394,\n",
       " -1005765570855157395,\n",
       " -1588136532992530561,\n",
       " -2290505673127363446,\n",
       " -8740544479082477375,\n",
       " -8897271389140191968,\n",
       " 8009226435296147468,\n",
       " 3297964741979699690,\n",
       " 2786535276047381963,\n",
       " 8547646415060500178,\n",
       " 8178573863607680169,\n",
       " 2117893369723694723,\n",
       " -8979826271400995408,\n",
       " -3262270661061401733,\n",
       " -4168496071954743119,\n",
       " -5764720223031185281,\n",
       " -3530125926935121194,\n",
       " -475808042533835164,\n",
       " 1573669089891511171,\n",
       " -6304386124002100569,\n",
       " -169615770133564664,\n",
       " 2901142117711193405,\n",
       " -4991969430478950669,\n",
       " 4698409919648023613,\n",
       " 1811014543915472584,\n",
       " 914092687697345880,\n",
       " 2352416430171895268,\n",
       " 5432675151857265137,\n",
       " -159686708259914411,\n",
       " -2060149933728186956,\n",
       " -1456648364474026043,\n",
       " -5156242284702679488,\n",
       " 7681747325679521204,\n",
       " -118268622675193981,\n",
       " 5324557570884793104,\n",
       " 2591289627866887585,\n",
       " -7463249404995312106,\n",
       " 9177261362433558761,\n",
       " -2852446467548829849,\n",
       " -7221884241448193925,\n",
       " -5771297940908358101,\n",
       " 614672206228765853,\n",
       " 5599494143983237350]"
      ]
     },
     "execution_count": 358,
     "metadata": {},
     "output_type": "execute_result"
    }
   ],
   "source": [
    "[hash(tuple(val)) for val in np.asarray(rel_nodes)]"
   ]
  },
  {
   "cell_type": "code",
   "execution_count": 186,
   "id": "77c518c7",
   "metadata": {},
   "outputs": [],
   "source": [
    "bm = p_sketch.numerical_bitmaps[2]"
   ]
  },
  {
   "cell_type": "code",
   "execution_count": 262,
   "id": "211700ac",
   "metadata": {},
   "outputs": [
    {
     "name": "stdout",
     "output_type": "stream",
     "text": [
      "downgrade_b_adic_range(0): 0.183764 seconds, 131072 ranges\n",
      "downgrade_b_adic_range_indices(...): 0.000654 seconds, 131072 indices\n",
      "prune_b_adic: 0.192881 seconds, 1506 unpruned\n",
      "prune_b_adic_indices: 0.000819 seconds, 1506 unpruned\n"
     ]
    }
   ],
   "source": [
    "import time\n",
    "\n",
    "# Benchmark downgrade_b_adic_range vs downgrade_b_adic_range_indices\n",
    "b_range = BAdicRange(2, 17, 0)\n",
    "\n",
    "# Time downgrade_b_adic_range (returns list of BAdicRange)\n",
    "start = time.time()\n",
    "downgraded_ranges = b_range.downgrade_b_adic_range(0)\n",
    "time_downgrade_range = time.time() - start\n",
    "\n",
    "# Time downgrade_b_adic_range_indices (returns np.ndarray of indices)\n",
    "start = time.time()\n",
    "b_adic_indices = downgrade_b_adic_range_indices(base=b_range.base, level=b_range.level, idx=b_range.index, new_level=0)\n",
    "time_downgrade_indices = time.time() - start\n",
    "\n",
    "print(f\"downgrade_b_adic_range(0): {time_downgrade_range:.6f} seconds, {len(downgraded_ranges)} ranges\")\n",
    "print(f\"downgrade_b_adic_range_indices(...): {time_downgrade_indices:.6f} seconds, {len(b_adic_indices)} indices\")\n",
    "\n",
    "# Benchmark prune_b_adic vs prune_b_adic_indices\n",
    "# prune_b_adic returns list of BAdicRange, prune_b_adic_indices returns np.ndarray of indices\n",
    "start = time.time()\n",
    "unpruned_ranges = prune_b_adic(bm, downgraded_ranges)\n",
    "time_prune_ranges = time.time() - start\n",
    "\n",
    "start = time.time()\n",
    "unpruned_indices = prune_b_adic_indices(bm, 0, b_adic_indices)\n",
    "time_prune_indices = time.time() - start\n",
    "\n",
    "print(f\"prune_b_adic: {time_prune_ranges:.6f} seconds, {len(unpruned_ranges)} unpruned\")\n",
    "print(f\"prune_b_adic_indices: {time_prune_indices:.6f} seconds, {len(unpruned_indices)} unpruned\")"
   ]
  },
  {
   "cell_type": "markdown",
   "id": "3e4273cc",
   "metadata": {},
   "source": [
    "## Local DP"
   ]
  },
  {
   "cell_type": "code",
   "execution_count": null,
   "id": "e4c23ccb",
   "metadata": {},
   "outputs": [
    {
     "name": "stdout",
     "output_type": "stream",
     "text": [
      "Computing true counts...\n"
     ]
    },
    {
     "name": "stderr",
     "output_type": "stream",
     "text": [
      "True Count:   0%|          | 0/200 [00:00<?, ?it/s]"
     ]
    },
    {
     "name": "stderr",
     "output_type": "stream",
     "text": [
      "True Count: 100%|██████████| 200/200 [00:04<00:00, 42.02it/s]\n"
     ]
    },
    {
     "name": "stdout",
     "output_type": "stream",
     "text": [
      "Computing estimates...\n"
     ]
    },
    {
     "name": "stderr",
     "output_type": "stream",
     "text": [
      "Estimates: 100%|██████████| 200/200 [00:06<00:00, 31.73it/s]\n"
     ]
    },
    {
     "name": "stdout",
     "output_type": "stream",
     "text": [
      "Computing true counts...\n"
     ]
    },
    {
     "name": "stderr",
     "output_type": "stream",
     "text": [
      "True Count: 100%|██████████| 200/200 [00:06<00:00, 29.51it/s]\n"
     ]
    },
    {
     "name": "stdout",
     "output_type": "stream",
     "text": [
      "Computing estimates...\n"
     ]
    },
    {
     "name": "stderr",
     "output_type": "stream",
     "text": [
      "Estimates: 100%|██████████| 200/200 [00:09<00:00, 21.67it/s]\n"
     ]
    }
   ],
   "source": [
    "epsilon = 5.0\n",
    "per_query_epsilon=epsilon/(len(queries[\"queries\"])+1)\n",
    "ldp = LDPServer(retail_df, epsilon=epsilon, number_of_partitions=10, per_query_epsilon=per_query_epsilon)\n",
    "\n",
    "ldp_results_2 = evaluate_queries_baselines(df=retail_df, queries=queries[\"queries\"], baseline=ldp, path_to_file=\"../results/real_world/online_retail_2_ldp_5.csv\")\n",
    "ldp.reset_budget()\n",
    "ldp_results_4 = evaluate_queries_baselines(df=retail_df, queries=queries_4[\"queries\"], baseline=ldp, path_to_file=\"../results/real_world/online_retail_4_ldp_5.csv\")\n",
    "ldp.reset_budget()"
   ]
  },
  {
   "cell_type": "code",
   "execution_count": null,
   "id": "6040b857",
   "metadata": {},
   "outputs": [
    {
     "data": {
      "text/html": [
       "<div>\n",
       "<style scoped>\n",
       "    .dataframe tbody tr th:only-of-type {\n",
       "        vertical-align: middle;\n",
       "    }\n",
       "\n",
       "    .dataframe tbody tr th {\n",
       "        vertical-align: top;\n",
       "    }\n",
       "\n",
       "    .dataframe thead th {\n",
       "        text-align: right;\n",
       "    }\n",
       "</style>\n",
       "<table border=\"1\" class=\"dataframe\">\n",
       "  <thead>\n",
       "    <tr style=\"text-align: right;\">\n",
       "      <th></th>\n",
       "      <th>absolute_error</th>\n",
       "      <th>normalized_error</th>\n",
       "      <th>relative_error</th>\n",
       "    </tr>\n",
       "  </thead>\n",
       "  <tbody>\n",
       "    <tr>\n",
       "      <th>count</th>\n",
       "      <td>200.000000</td>\n",
       "      <td>200.000000</td>\n",
       "      <td>200.000000</td>\n",
       "    </tr>\n",
       "    <tr>\n",
       "      <th>mean</th>\n",
       "      <td>39521.200000</td>\n",
       "      <td>0.072930</td>\n",
       "      <td>0.840484</td>\n",
       "    </tr>\n",
       "    <tr>\n",
       "      <th>std</th>\n",
       "      <td>54223.788555</td>\n",
       "      <td>0.100061</td>\n",
       "      <td>0.209928</td>\n",
       "    </tr>\n",
       "    <tr>\n",
       "      <th>min</th>\n",
       "      <td>56.000000</td>\n",
       "      <td>0.000103</td>\n",
       "      <td>0.050088</td>\n",
       "    </tr>\n",
       "    <tr>\n",
       "      <th>25%</th>\n",
       "      <td>2936.250000</td>\n",
       "      <td>0.005418</td>\n",
       "      <td>0.794086</td>\n",
       "    </tr>\n",
       "    <tr>\n",
       "      <th>50%</th>\n",
       "      <td>5668.500000</td>\n",
       "      <td>0.010460</td>\n",
       "      <td>0.930375</td>\n",
       "    </tr>\n",
       "    <tr>\n",
       "      <th>75%</th>\n",
       "      <td>79390.000000</td>\n",
       "      <td>0.146501</td>\n",
       "      <td>0.977298</td>\n",
       "    </tr>\n",
       "    <tr>\n",
       "      <th>max</th>\n",
       "      <td>191591.000000</td>\n",
       "      <td>0.353548</td>\n",
       "      <td>1.000000</td>\n",
       "    </tr>\n",
       "  </tbody>\n",
       "</table>\n",
       "</div>"
      ],
      "text/plain": [
       "       absolute_error  normalized_error  relative_error\n",
       "count      200.000000        200.000000      200.000000\n",
       "mean     39521.200000          0.072930        0.840484\n",
       "std      54223.788555          0.100061        0.209928\n",
       "min         56.000000          0.000103        0.050088\n",
       "25%       2936.250000          0.005418        0.794086\n",
       "50%       5668.500000          0.010460        0.930375\n",
       "75%      79390.000000          0.146501        0.977298\n",
       "max     191591.000000          0.353548        1.000000"
      ]
     },
     "metadata": {},
     "output_type": "display_data"
    }
   ],
   "source": [
    "ldp_results_2[[\"absolute_error\",\"normalized_error\",\"relative_error\"]].describe()"
   ]
  },
  {
   "cell_type": "code",
   "execution_count": null,
   "id": "d437bfcf",
   "metadata": {},
   "outputs": [
    {
     "name": "stderr",
     "output_type": "stream",
     "text": [
      "/home/rudi/.local/lib/python3.12/site-packages/pandas/core/nanops.py:1016: RuntimeWarning: invalid value encountered in subtract\n",
      "  sqr = _ensure_numeric((avg - values) ** 2)\n"
     ]
    },
    {
     "data": {
      "text/html": [
       "<div>\n",
       "<style scoped>\n",
       "    .dataframe tbody tr th:only-of-type {\n",
       "        vertical-align: middle;\n",
       "    }\n",
       "\n",
       "    .dataframe tbody tr th {\n",
       "        vertical-align: top;\n",
       "    }\n",
       "\n",
       "    .dataframe thead th {\n",
       "        text-align: right;\n",
       "    }\n",
       "</style>\n",
       "<table border=\"1\" class=\"dataframe\">\n",
       "  <thead>\n",
       "    <tr style=\"text-align: right;\">\n",
       "      <th></th>\n",
       "      <th>absolute_error</th>\n",
       "      <th>normalized_error</th>\n",
       "      <th>relative_error</th>\n",
       "    </tr>\n",
       "  </thead>\n",
       "  <tbody>\n",
       "    <tr>\n",
       "      <th>count</th>\n",
       "      <td>200.000000</td>\n",
       "      <td>200.000000</td>\n",
       "      <td>198.000000</td>\n",
       "    </tr>\n",
       "    <tr>\n",
       "      <th>mean</th>\n",
       "      <td>2883.770000</td>\n",
       "      <td>0.005322</td>\n",
       "      <td>inf</td>\n",
       "    </tr>\n",
       "    <tr>\n",
       "      <th>std</th>\n",
       "      <td>7874.113824</td>\n",
       "      <td>0.014530</td>\n",
       "      <td>NaN</td>\n",
       "    </tr>\n",
       "    <tr>\n",
       "      <th>min</th>\n",
       "      <td>0.000000</td>\n",
       "      <td>0.000000</td>\n",
       "      <td>0.141414</td>\n",
       "    </tr>\n",
       "    <tr>\n",
       "      <th>25%</th>\n",
       "      <td>347.750000</td>\n",
       "      <td>0.000642</td>\n",
       "      <td>0.885487</td>\n",
       "    </tr>\n",
       "    <tr>\n",
       "      <th>50%</th>\n",
       "      <td>836.500000</td>\n",
       "      <td>0.001544</td>\n",
       "      <td>0.998182</td>\n",
       "    </tr>\n",
       "    <tr>\n",
       "      <th>75%</th>\n",
       "      <td>1569.500000</td>\n",
       "      <td>0.002896</td>\n",
       "      <td>1.000000</td>\n",
       "    </tr>\n",
       "    <tr>\n",
       "      <th>max</th>\n",
       "      <td>45603.000000</td>\n",
       "      <td>0.084153</td>\n",
       "      <td>inf</td>\n",
       "    </tr>\n",
       "  </tbody>\n",
       "</table>\n",
       "</div>"
      ],
      "text/plain": [
       "       absolute_error  normalized_error  relative_error\n",
       "count      200.000000        200.000000      198.000000\n",
       "mean      2883.770000          0.005322             inf\n",
       "std       7874.113824          0.014530             NaN\n",
       "min          0.000000          0.000000        0.141414\n",
       "25%        347.750000          0.000642        0.885487\n",
       "50%        836.500000          0.001544        0.998182\n",
       "75%       1569.500000          0.002896        1.000000\n",
       "max      45603.000000          0.084153             inf"
      ]
     },
     "metadata": {},
     "output_type": "display_data"
    }
   ],
   "source": [
    "ldp_results_4[[\"absolute_error\",\"normalized_error\",\"relative_error\"]].describe()"
   ]
  }
 ],
 "metadata": {
  "kernelspec": {
   "display_name": "Python 3",
   "language": "python",
   "name": "python3"
  },
  "language_info": {
   "codemirror_mode": {
    "name": "ipython",
    "version": 3
   },
   "file_extension": ".py",
   "mimetype": "text/x-python",
   "name": "python",
   "nbconvert_exporter": "python",
   "pygments_lexer": "ipython3",
   "version": "3.12.3"
  }
 },
 "nbformat": 4,
 "nbformat_minor": 5
}
