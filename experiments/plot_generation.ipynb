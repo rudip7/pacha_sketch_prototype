{
 "cells": [
  {
   "cell_type": "code",
   "execution_count": 2,
   "id": "d9d49408",
   "metadata": {},
   "outputs": [],
   "source": [
    "import sys\n",
    "# append the path of the parent directory\n",
    "sys.path.append(\"..\")"
   ]
  },
  {
   "cell_type": "code",
   "execution_count": 84,
   "id": "b8481d14",
   "metadata": {},
   "outputs": [],
   "source": [
    "import math\n",
    "import os\n",
    "import time\n",
    "\n",
    "\n",
    "import numpy as np\n",
    "np.set_printoptions(legacy='1.25')\n",
    "\n",
    "import matplotlib.pyplot as plt\n",
    "from matplotlib.patches import Rectangle\n",
    "import matplotlib.patches as patches\n",
    "\n",
    "import seaborn as sns\n",
    "import time\n",
    "import json\n",
    "import pandas as pd\n",
    "from ctypes import c_int32\n",
    "from itertools import product\n",
    "import copy\n",
    "\n",
    "\n",
    "from tqdm import tqdm\n",
    "\n",
    "from scipy.stats import pearsonr\n",
    "from importlib import reload\n",
    "\n",
    "import orjson\n",
    "import gzip\n",
    "\n",
    "from scipy.stats import entropy\n",
    "from pympler import asizeof\n",
    "\n",
    "from lib import sketches, visualization_utils, encoders, ploting, pacha_sketch\n",
    "reload(ploting)\n",
    "reload(sketches)\n",
    "reload(visualization_utils)\n",
    "reload(encoders)\n",
    "\n",
    "reload(pacha_sketch)\n",
    "\n",
    "from lib.sketches import BloomFilter, CountMinSketch, H3HashFunctions, HashFunctionFamily,\\\n",
    "      CountMinSketchHadamard, CountMinSketchLocalHashing, deterministic_hash, simple_deterministic_hash, \\\n",
    "      fast_hash_xx\n",
    "from lib.visualization_utils import plot_boxplot\n",
    "\n",
    "from lib.encoders import minimal_b_adic_cover, minimal_spatial_b_adic_cover, BAdicCube, BAdicRange, \\\n",
    "      minimal_b_adic_cover_array, downgrade_b_adic_range_indices\n",
    "from lib.pacha_sketch import PachaSketch, ADTree, BFParameters, CMParameters, \\\n",
    "      cartesian_product, get_n_updates, MaterializedCombinations, get_n_updates_customized\n",
    "\n",
    "from lib.ploting import set_style, plot_ylabel, plot_legend\n",
    "\n",
    "from lib import baselines\n",
    "reload(baselines)\n",
    "\n",
    "from lib.baselines import CentralDPServer, LDPServer, LDPEncoderGRR, filter_df, query_df, \\\n",
    "      infer_domains_and_ranges, translate_query_region, evaluate_queries, check_accruracy, \\\n",
    "      evaluate_queries_baselines, evaluate_equivalent_pacha_sketches, compute_relative_entropy\n",
    "\n",
    "# set_style()"
   ]
  },
  {
   "cell_type": "code",
   "execution_count": 64,
   "id": "b25c05cf",
   "metadata": {},
   "outputs": [],
   "source": [
    "def remove_ourliers(result_df):\n",
    "    q1 = result_df['normalized_error'].quantile(0.25)\n",
    "    q3 = result_df['normalized_error'].quantile(0.75)\n",
    "    iqr = q3 - q1\n",
    "    lower_bound = q1 - 1.5 * iqr\n",
    "    upper_bound = q3 + 1.5 * iqr\n",
    "\n",
    "    result_df_no_outliers = result_df[(result_df['normalized_error'] >= lower_bound) & (result_df['normalized_error'] <= upper_bound)].copy()\n",
    "    return result_df_no_outliers"
   ]
  },
  {
   "cell_type": "markdown",
   "id": "99afd8fa",
   "metadata": {},
   "source": [
    "## Lineitem Scale"
   ]
  },
  {
   "cell_type": "code",
   "execution_count": 59,
   "id": "a3ce6b02",
   "metadata": {},
   "outputs": [],
   "source": [
    "scale_factors = 4**np.arange(4) * 0.03125\n",
    "n_elements = ['187 k', '750 k', '3 M', '12 M']\n",
    "\n",
    "results = []\n",
    "for sf, n in zip(scale_factors, n_elements):\n",
    "    result_df = pd.read_csv(f\"../results/tpch/scale/tpch_random_results_2_{sf}.csv\")\n",
    "    result_df_2 = pd.read_csv(f\"../results/tpch/scale/tpch_random_results_{sf}.csv\")\n",
    "    result_df = pd.concat([result_df, result_df_2], ignore_index=True)\n",
    "    result_df['approach'] = n\n",
    "    results.append(result_df)"
   ]
  },
  {
   "cell_type": "code",
   "execution_count": 60,
   "id": "d5c03f74",
   "metadata": {
    "vscode": {
     "languageId": "javascript"
    }
   },
   "outputs": [
    {
     "data": {
      "image/png": "[encoded data removed]",
      "text/plain": [
       "<Figure size 288x288 with 1 Axes>"
      ]
     },
     "metadata": {
      "needs_background": "light"
     },
     "output_type": "display_data"
    }
   ],
   "source": [
    "custom_palette = {\n",
    "    '187 k': 'tab:blue',\n",
    "    '750 k': 'tab:blue',\n",
    "    '3 M': 'tab:blue',\n",
    "    '12 M': 'tab:blue',\n",
    "}\n",
    "plot_boxplot(results, target=0.0005, log_scale=True, x_label='~ nr. rows', figsize=(4, 4), palette=custom_palette)"
   ]
  },
  {
   "cell_type": "code",
   "execution_count": 65,
   "id": "27f5156e",
   "metadata": {},
   "outputs": [],
   "source": [
    "rel_entropies = []\n",
    "rel_entropies_no_outliers = []\n",
    "for result_df in results:\n",
    "    rel_entropies.append(compute_relative_entropy(result_df))\n",
    "    rel_entropies_no_outliers.append(compute_relative_entropy(remove_ourliers(result_df)))"
   ]
  },
  {
   "cell_type": "code",
   "execution_count": 73,
   "id": "cf88b55c",
   "metadata": {},
   "outputs": [
    {
     "data": {
      "image/png": "[encoded data removed]",
      "text/plain": [
       "<Figure size 288x216 with 1 Axes>"
      ]
     },
     "metadata": {
      "needs_background": "light"
     },
     "output_type": "display_data"
    }
   ],
   "source": [
    "labels = n_elements\n",
    "x = np.arange(len(labels))\n",
    "width = 0.35\n",
    "\n",
    "fig, ax = plt.subplots(figsize=(4, 3))\n",
    "rects1 = ax.bar(x - width/2, rel_entropies, width, label='With Outliers')\n",
    "rects2 = ax.bar(x + width/2, rel_entropies_no_outliers, width, label='No Outliers')\n",
    "\n",
    "ax.set_ylabel('Relative Entropy')\n",
    "ax.set_xlabel('~ nr. rows')\n",
    "ax.set_xticks(x)\n",
    "ax.set_xticklabels(labels)\n",
    "ax.legend()\n",
    "plt.grid(True, axis='y', alpha=0.5, linestyle='--')\n",
    "ax.set_title('Relative Entropy Comparison')\n",
    "\n",
    "plt.tight_layout()\n",
    "plt.show()"
   ]
  },
  {
   "cell_type": "code",
   "execution_count": 85,
   "id": "c8890e06",
   "metadata": {},
   "outputs": [],
   "source": [
    "rel_eps = 0.0005\n",
    "levels = 5\n",
    "delta = 0.01\n",
    "bloom_p = 0.01\n",
    "cat_col_map_tpch = [0, 1, 2, 3, 4]\n",
    "n_cat_tpch = len(cat_col_map_tpch)\n",
    "num_col_map_tpch = [5, 6, 7, 8, 9]\n",
    "n_num_tpch = len(num_col_map_tpch)\n",
    "bases_tpch = [5,5,5,10,2]\n",
    "\n",
    "ad_tree_levels = len(cat_col_map_tpch)\n",
    "num_combinations = 13\n",
    "cat_updates_tpch, num_updates_tpch, region_updates_tpch = get_n_updates_customized(ad_tree_levels, num_combinations, levels)\n",
    "\n",
    "error_eps = rel_eps / region_updates_tpch\n",
    "sizes = []\n",
    "for len_df in (4**np.arange(4) * 187500):\n",
    "    size_details = []\n",
    "    size_details.append(BFParameters(n_values=len_df * num_updates_tpch, p=bloom_p).peek_memory())\n",
    "    size_details.append(BFParameters(n_values=len_df * region_updates_tpch, p=bloom_p).peek_memory())\n",
    "    cm_size = CMParameters(delta=delta, error_eps=error_eps).peek_memory()\n",
    "    size_details.append(cm_size * (levels - 1))\n",
    "    size_details.append(cm_size)\n",
    "    sizes.append(size_details)\n",
    "sizes = np.array(sizes)"
   ]
  },
  {
   "cell_type": "code",
   "execution_count": 94,
   "id": "06f65364",
   "metadata": {},
   "outputs": [
    {
     "data": {
      "image/png": "[encoded data removed]",
      "text/plain": [
       "<Figure size 288x216 with 1 Axes>"
      ]
     },
     "metadata": {
      "needs_background": "light"
     },
     "output_type": "display_data"
    }
   ],
   "source": [
    "fig, ax = plt.subplots(figsize=(4, 3))\n",
    "bottom = np.zeros(sizes.shape[0])\n",
    "labels_stack = ['BloomFilter (num)', 'BloomFilter (region)', 'CountMinSketch', 'CountMinSketch/level']\n",
    "\n",
    "for i in reversed(range(sizes.shape[1])):\n",
    "    ax.bar(x, sizes[:, i], width, bottom=bottom, label=labels_stack[i])\n",
    "    bottom += sizes[:, i]\n",
    "\n",
    "ax.set_ylabel('memory in MB')\n",
    "ax.set_xlabel('~ nr. rows')\n",
    "ax.set_xticks(x)\n",
    "ax.set_xticklabels(n_elements)\n",
    "handles, legend_labels = ax.get_legend_handles_labels()\n",
    "ax.legend(handles[::-1], legend_labels[::-1])\n",
    "# plt.yscale('log')\n",
    "plt.grid(True, axis='y', alpha=0.5, linestyle='--')\n",
    "plt.title('Stacked Sketch Size Breakdown')\n",
    "plt.tight_layout()\n",
    "plt.show()"
   ]
  },
  {
   "cell_type": "markdown",
   "id": "f665f026",
   "metadata": {},
   "source": [
    "## Sketch Size"
   ]
  },
  {
   "cell_type": "code",
   "execution_count": null,
   "id": "0cbe179e",
   "metadata": {},
   "outputs": [],
   "source": []
  }
 ],
 "metadata": {
  "kernelspec": {
   "display_name": "Python 3",
   "language": "python",
   "name": "python3"
  },
  "language_info": {
   "codemirror_mode": {
    "name": "ipython",
    "version": 3
   },
   "file_extension": ".py",
   "mimetype": "text/x-python",
   "name": "python",
   "nbconvert_exporter": "python",
   "pygments_lexer": "ipython3",
   "version": "3.12.3"
  }
 },
 "nbformat": 4,
 "nbformat_minor": 5
}
