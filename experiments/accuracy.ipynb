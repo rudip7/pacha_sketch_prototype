{
 "cells": [
  {
   "cell_type": "code",
   "execution_count": 612,
   "id": "cfc5e2d3",
   "metadata": {},
   "outputs": [],
   "source": [
    "import sys\n",
    "# append the path of the parent directory\n",
    "sys.path.append(\"..\")"
   ]
  },
  {
   "cell_type": "code",
   "execution_count": 663,
   "id": "9a11a8ba",
   "metadata": {},
   "outputs": [],
   "source": [
    "import math\n",
    "import os\n",
    "import time\n",
    "\n",
    "\n",
    "import numpy as np\n",
    "np.set_printoptions(legacy='1.25')\n",
    "\n",
    "import matplotlib.pyplot as plt\n",
    "from matplotlib.patches import Rectangle\n",
    "import matplotlib.patches as patches\n",
    "\n",
    "import seaborn as sns\n",
    "import time\n",
    "import json\n",
    "import pandas as pd\n",
    "from ctypes import c_int32\n",
    "from itertools import product\n",
    "import copy\n",
    "\n",
    "\n",
    "from tqdm import tqdm\n",
    "\n",
    "from scipy.stats import pearsonr\n",
    "from importlib import reload\n",
    "\n",
    "import orjson\n",
    "import gzip\n",
    "\n",
    "from scipy.stats import entropy\n",
    "\n",
    "\n",
    "\n",
    "from lib import sketches, visualization_utils, encoders, ploting, pacha_sketch\n",
    "reload(ploting)\n",
    "reload(sketches)\n",
    "reload(visualization_utils)\n",
    "reload(encoders)\n",
    "\n",
    "reload(pacha_sketch)\n",
    "\n",
    "from lib.sketches import BloomFilter, CountMinSketch, H3HashFunctions, HashFunctionFamily,\\\n",
    "      CountMinSketchHadamard, CountMinSketchLocalHashing, deterministic_hash, simple_deterministic_hash\n",
    "from lib.visualization_utils import visualize_badic_cover, plot_b_adic_cubes\n",
    "from lib.encoders import minimal_b_adic_cover, minimal_spatial_b_adic_cover, BAdicCube, BAdicRange, \\\n",
    "      minimal_b_adic_cover_array, downgrade_b_adic_range_indices\n",
    "from lib.pacha_sketch import PachaSketch, ADTree, BFParameters, CMParameters, cartesian_product\n",
    "\n",
    "from lib.ploting import set_style, plot_ylabel, plot_legend\n",
    "\n",
    "from lib import baselines\n",
    "reload(baselines)\n",
    "\n",
    "from lib.baselines import CentralDPServer, LDPServer, LDPEncoderGRR, filter_df, query_df, \\\n",
    "      infer_domains_and_ranges, translate_query_region, evaluate_queries, check_accruracy, \\\n",
    "      evaluate_queries_baselines, evaluate_equivalent_pacha_sketches\n",
    "\n",
    "# set_style()"
   ]
  },
  {
   "cell_type": "markdown",
   "id": "e50cba97",
   "metadata": {},
   "source": [
    "# Different Datasets"
   ]
  },
  {
   "cell_type": "code",
   "execution_count": 581,
   "id": "71ac3d43",
   "metadata": {},
   "outputs": [],
   "source": [
    "delta = 0.01\n",
    "abs_error_eps = 1.0\n",
    "bloom_p = 0.01"
   ]
  },
  {
   "cell_type": "markdown",
   "id": "9a67ef93",
   "metadata": {},
   "source": [
    "## Retail"
   ]
  },
  {
   "cell_type": "code",
   "execution_count": 585,
   "id": "08b9c111",
   "metadata": {},
   "outputs": [],
   "source": [
    "cat_updates = 4\n",
    "num_updates = 6"
   ]
  },
  {
   "cell_type": "code",
   "execution_count": 617,
   "id": "36108d9f",
   "metadata": {},
   "outputs": [],
   "source": [
    "retail_df = pd.read_parquet(\"../data/clean/online_retail_no_outliers.parquet\")"
   ]
  },
  {
   "cell_type": "code",
   "execution_count": 618,
   "id": "0876b2b9",
   "metadata": {},
   "outputs": [],
   "source": [
    "query_path = \"../queries/online_retail_2_cols.json\"\n",
    "with open(query_path, 'rb') as f:\n",
    "    retail_queries_2 = orjson.loads(f.read())\n",
    "\n",
    "query_path = \"../queries/online_retail_4_cols.json\"\n",
    "with open(query_path, 'rb') as f:\n",
    "    retail_queries_4 = orjson.loads(f.read())\n",
    "\n",
    "retail_ad_tree = ADTree.from_json(\"../sketches/ad_trees/online_retail.json\")\n"
   ]
  },
  {
   "cell_type": "code",
   "execution_count": 619,
   "id": "94da2bfc",
   "metadata": {},
   "outputs": [
    {
     "data": {
      "text/plain": [
       "179.22578525543213"
      ]
     },
     "execution_count": 619,
     "metadata": {},
     "output_type": "execute_result"
    }
   ],
   "source": [
    "retail_p_sketch = PachaSketch.build_with_uniform_size(\n",
    "    levels=6,\n",
    "    num_dimensions=6,\n",
    "    cat_col_map=[0,1,2],\n",
    "    num_col_map=[3,4,5],\n",
    "    bases=[2,2,2],\n",
    "    ad_tree=retail_ad_tree,\n",
    "    cm_params=CMParameters(delta=delta, error_eps=abs_error_eps / len(retail_df)),\n",
    "    cat_index_parameters=BFParameters(n_values=len(retail_df)*cat_updates, p=bloom_p),\n",
    "    num_index_parameters=BFParameters(n_values=len(retail_df)*num_updates, p=bloom_p),\n",
    "    region_index_parameters= BFParameters(n_values=len(retail_df)*(cat_updates+num_updates), p=bloom_p))\n",
    "retail_p_sketch.get_size()"
   ]
  },
  {
   "cell_type": "code",
   "execution_count": 620,
   "id": "be1abc89",
   "metadata": {},
   "outputs": [
    {
     "name": "stderr",
     "output_type": "stream",
     "text": [
      "Updating: 100%|██████████| 536494/536494 [09:19<00:00, 958.87it/s] \n"
     ]
    },
    {
     "data": {
      "text/plain": [
       "<lib.pacha_sketch.PachaSketch at 0x73489ca69df0>"
      ]
     },
     "execution_count": 620,
     "metadata": {},
     "output_type": "execute_result"
    }
   ],
   "source": [
    "retail_p_sketch.update_data_frame(retail_df)"
   ]
  },
  {
   "cell_type": "code",
   "execution_count": 628,
   "id": "5e11bc03",
   "metadata": {},
   "outputs": [],
   "source": [
    "retail_p_sketch.save_to_file(\"../sketches/temp.json.gz\")\n",
    "retail_p_sketch2 = PachaSketch.from_json(\"../sketches/temp.json.gz\")"
   ]
  },
  {
   "cell_type": "code",
   "execution_count": 664,
   "id": "62e65bde",
   "metadata": {},
   "outputs": [],
   "source": [
    "retail_p_sketch2 = PachaSketch.from_json(\"../sketches/temp.json.gz\")"
   ]
  },
  {
   "cell_type": "code",
   "execution_count": 621,
   "id": "6a097d91",
   "metadata": {},
   "outputs": [
    {
     "name": "stdout",
     "output_type": "stream",
     "text": [
      "Computing true counts...\n"
     ]
    },
    {
     "name": "stderr",
     "output_type": "stream",
     "text": [
      "True Count: 100%|██████████| 200/200 [00:04<00:00, 41.48it/s]\n"
     ]
    },
    {
     "name": "stdout",
     "output_type": "stream",
     "text": [
      "Computing estimates...\n"
     ]
    },
    {
     "name": "stderr",
     "output_type": "stream",
     "text": [
      "Estimates: 100%|██████████| 200/200 [00:00<00:00, 336.80it/s]\n"
     ]
    }
   ],
   "source": [
    "retail_results_2 = evaluate_queries(retail_df, retail_queries_2[\"queries\"], retail_p_sketch, path_to_file=\"../results/accuracy/retail_2_p_sketch_new.csv\")"
   ]
  },
  {
   "cell_type": "code",
   "execution_count": 674,
   "id": "54f8309f",
   "metadata": {},
   "outputs": [
    {
     "data": {
      "text/plain": [
       "544.0"
      ]
     },
     "execution_count": 674,
     "metadata": {},
     "output_type": "execute_result"
    }
   ],
   "source": [
    "8*60+32 / 0.5"
   ]
  },
  {
   "cell_type": "code",
   "execution_count": 634,
   "id": "5e34401a",
   "metadata": {},
   "outputs": [
    {
     "data": {
      "text/plain": [
       "True"
      ]
     },
     "execution_count": 634,
     "metadata": {},
     "output_type": "execute_result"
    }
   ],
   "source": [
    "retail_p_sketch2 == retail_p_sketch"
   ]
  },
  {
   "cell_type": "code",
   "execution_count": 649,
   "id": "96161b8c",
   "metadata": {},
   "outputs": [
    {
     "data": {
      "text/plain": [
       "[['229'], ['United Kingdom'], '*', [102, 179], '*', [5, 12]]"
      ]
     },
     "execution_count": 649,
     "metadata": {},
     "output_type": "execute_result"
    }
   ],
   "source": [
    "retail_queries_4[\"queries\"][2]"
   ]
  },
  {
   "cell_type": "code",
   "execution_count": 665,
   "id": "04027a07",
   "metadata": {},
   "outputs": [
    {
     "data": {
      "text/plain": [
       "1840"
      ]
     },
     "execution_count": 665,
     "metadata": {},
     "output_type": "execute_result"
    }
   ],
   "source": [
    "retail_p_sketch2.query(retail_queries_4[\"queries\"][2])"
   ]
  },
  {
   "cell_type": "code",
   "execution_count": 666,
   "id": "7471dc6e",
   "metadata": {},
   "outputs": [
    {
     "name": "stdout",
     "output_type": "stream",
     "text": [
      "Computing true counts...\n"
     ]
    },
    {
     "name": "stderr",
     "output_type": "stream",
     "text": [
      "True Count: 100%|██████████| 200/200 [00:06<00:00, 31.39it/s]\n"
     ]
    },
    {
     "name": "stdout",
     "output_type": "stream",
     "text": [
      "Computing estimates...\n"
     ]
    },
    {
     "name": "stderr",
     "output_type": "stream",
     "text": [
      "Estimates: 100%|██████████| 200/200 [00:01<00:00, 199.33it/s]\n"
     ]
    }
   ],
   "source": [
    "retail_results_4 = evaluate_queries(retail_df, retail_queries_4[\"queries\"], retail_p_sketch2, path_to_file=\"../results/accuracy/retail_4_p_sketch_new.csv\")"
   ]
  },
  {
   "cell_type": "code",
   "execution_count": 636,
   "id": "c7933c90",
   "metadata": {},
   "outputs": [],
   "source": [
    "retail_results_2_old = pd.read_csv(\"../results/accuracy/retail_2_p_sketch.csv\")\n",
    "retail_results_4_old = pd.read_csv(\"../results/accuracy/retail_4_p_sketch.csv\")"
   ]
  },
  {
   "cell_type": "code",
   "execution_count": 667,
   "id": "debce7d5",
   "metadata": {},
   "outputs": [
    {
     "data": {
      "image/png": "[encoded data removed]",
      "text/plain": [
       "<Figure size 576x432 with 1 Axes>"
      ]
     },
     "metadata": {
      "needs_background": "light"
     },
     "output_type": "display_data"
    }
   ],
   "source": [
    "retail_results_2_old['approach'] = 'Pacha Sketch - 2 cols'\n",
    "retail_results_2['approach'] = '(New) Pacha Sketch - 2 cols'\n",
    "\n",
    "retail_results_4_old['approach'] = 'Pacha Sketch - 4 cols'\n",
    "retail_results_4['approach'] = '(New) Pacha Sketch - 4 cols'\n",
    "\n",
    "custom_palette = {\n",
    "    'Pacha Sketch - 2 cols': 'tab:blue',\n",
    "    '(New) Pacha Sketch - 2 cols': 'tab:orange',\n",
    "    'Pacha Sketch - 4 cols': 'tab:blue',\n",
    "    '(New) Pacha Sketch - 4 cols': 'tab:orange',\n",
    "    }\n",
    "\n",
    "# Combine the DataFrames\n",
    "combined_df = pd.concat([retail_results_2_old, retail_results_2, retail_results_4_old, retail_results_4], ignore_index=True)\n",
    "\n",
    "# Create the boxplot\n",
    "plt.figure(figsize=(8, 6))\n",
    "sns.boxplot(x='approach', y='normalized_error', hue='approach', data=combined_df, palette=custom_palette)\n",
    "\n",
    "# Set axis labels and title\n",
    "plt.xlabel('Approach')\n",
    "plt.ylabel('Normalized Error')\n",
    "plt.title('Comparison of Normalized Error by Approach')\n",
    "plt.grid(True)\n",
    "plt.tight_layout()\n",
    "plt.yscale('log')  \n",
    "plt.xticks(rotation=-45)\n",
    "plt.show()"
   ]
  },
  {
   "cell_type": "code",
   "execution_count": 638,
   "id": "f52764d1",
   "metadata": {},
   "outputs": [],
   "source": [
    "def compute_relative_entropy(results_df: pd.DataFrame) -> float:\n",
    "    # Ensure no negative or zero values for entropy calculation\n",
    "    true_counts = results_df['true_counts'].clip(lower=1).astype(float)\n",
    "    estimates = results_df['estimates'].clip(lower=1).astype(float)\n",
    "\n",
    "    # Normalize to probability distributions\n",
    "    true_dist = true_counts / true_counts.sum()\n",
    "    est_dist = estimates / estimates.sum()\n",
    "\n",
    "    # Compute relative entropy (Kullback-Leibler divergence)\n",
    "    relative_entropy = entropy(true_dist, est_dist)\n",
    "    return relative_entropy"
   ]
  },
  {
   "cell_type": "code",
   "execution_count": 673,
   "id": "755cb736",
   "metadata": {},
   "outputs": [
    {
     "data": {
      "text/html": [
       "<div>\n",
       "<style scoped>\n",
       "    .dataframe tbody tr th:only-of-type {\n",
       "        vertical-align: middle;\n",
       "    }\n",
       "\n",
       "    .dataframe tbody tr th {\n",
       "        vertical-align: top;\n",
       "    }\n",
       "\n",
       "    .dataframe thead th {\n",
       "        text-align: right;\n",
       "    }\n",
       "</style>\n",
       "<table border=\"1\" class=\"dataframe\">\n",
       "  <thead>\n",
       "    <tr style=\"text-align: right;\">\n",
       "      <th></th>\n",
       "      <th>runtimes</th>\n",
       "      <th>true_counts</th>\n",
       "      <th>estimates</th>\n",
       "      <th>relevant_nodes</th>\n",
       "      <th>cat_regions</th>\n",
       "      <th>b_adic_cubes</th>\n",
       "      <th>num_regions</th>\n",
       "      <th>candidate_regions</th>\n",
       "      <th>query_regions</th>\n",
       "      <th>level_0_queries</th>\n",
       "      <th>level_1_queries</th>\n",
       "      <th>level_2_queries</th>\n",
       "      <th>level_3_queries</th>\n",
       "      <th>level_4_queries</th>\n",
       "      <th>level_5_queries</th>\n",
       "      <th>absolute_error</th>\n",
       "      <th>normalized_error</th>\n",
       "      <th>relative_error</th>\n",
       "      <th>total_sketch_queries</th>\n",
       "      <th>approach</th>\n",
       "    </tr>\n",
       "  </thead>\n",
       "  <tbody>\n",
       "    <tr>\n",
       "      <th>93</th>\n",
       "      <td>0.035217</td>\n",
       "      <td>23005</td>\n",
       "      <td>26563.0</td>\n",
       "      <td>125</td>\n",
       "      <td>123</td>\n",
       "      <td>216</td>\n",
       "      <td>216</td>\n",
       "      <td>26568</td>\n",
       "      <td>6449</td>\n",
       "      <td>3563</td>\n",
       "      <td>1728</td>\n",
       "      <td>1158</td>\n",
       "      <td>0</td>\n",
       "      <td>0</td>\n",
       "      <td>0</td>\n",
       "      <td>3558.0</td>\n",
       "      <td>0.006632</td>\n",
       "      <td>0.154662</td>\n",
       "      <td>33358</td>\n",
       "      <td>(New) Pacha Sketch - 4 cols</td>\n",
       "    </tr>\n",
       "  </tbody>\n",
       "</table>\n",
       "</div>"
      ],
      "text/plain": [
       "    runtimes  true_counts  estimates  relevant_nodes  cat_regions  \\\n",
       "93  0.035217        23005    26563.0             125          123   \n",
       "\n",
       "    b_adic_cubes  num_regions  candidate_regions  query_regions  \\\n",
       "93           216          216              26568           6449   \n",
       "\n",
       "    level_0_queries  level_1_queries  level_2_queries  level_3_queries  \\\n",
       "93             3563             1728             1158                0   \n",
       "\n",
       "    level_4_queries  level_5_queries  absolute_error  normalized_error  \\\n",
       "93                0                0          3558.0          0.006632   \n",
       "\n",
       "    relative_error  total_sketch_queries                     approach  \n",
       "93        0.154662                 33358  (New) Pacha Sketch - 4 cols  "
      ]
     },
     "execution_count": 673,
     "metadata": {},
     "output_type": "execute_result"
    }
   ],
   "source": [
    "retail_results_4[retail_results_4['absolute_error'] == retail_results_4['absolute_error'].max()]"
   ]
  },
  {
   "cell_type": "code",
   "execution_count": 668,
   "id": "267ce49e",
   "metadata": {},
   "outputs": [],
   "source": [
    "relative_entropy_2_old = compute_relative_entropy(retail_results_2_old)\n",
    "relative_entropy_2 = compute_relative_entropy(retail_results_2)\n",
    "relative_entropy_4_old = compute_relative_entropy(retail_results_4_old)\n",
    "relative_entropy_4 = compute_relative_entropy(retail_results_4)"
   ]
  },
  {
   "cell_type": "code",
   "execution_count": 677,
   "id": "017f970f",
   "metadata": {},
   "outputs": [
    {
     "data": {
      "text/plain": [
       "0.0021490677257955844"
      ]
     },
     "execution_count": 677,
     "metadata": {},
     "output_type": "execute_result"
    }
   ],
   "source": [
    "relative_entropy_4"
   ]
  },
  {
   "cell_type": "code",
   "execution_count": 675,
   "id": "d5379b5d",
   "metadata": {},
   "outputs": [
    {
     "data": {
      "image/png": "[encoded data removed]",
      "text/plain": [
       "<Figure size 432x288 with 1 Axes>"
      ]
     },
     "metadata": {
      "needs_background": "light"
     },
     "output_type": "display_data"
    }
   ],
   "source": [
    "colors = ['tab:blue', 'tab:orange', 'tab:blue', 'tab:orange']\n",
    "methods = ['Pacha Sketch - 2 cols', '(New) Pacha Sketch - 2 cols', 'Pacha Sketch - 4 cols', '(New) Pacha Sketch - 4 cols']\n",
    "rel_entropies = [relative_entropy_2_old, relative_entropy_2, relative_entropy_4_old, relative_entropy_4]\n",
    "\n",
    "x = np.arange(len(rel_entropies))\n",
    "width = 0.16\n",
    "\n",
    "plt.figure(figsize=(6, 4))\n",
    "plt.bar(x, rel_entropies, color=colors, width=width, edgecolor='black')\n",
    "plt.xticks(x, methods, rotation=-45)\n",
    "plt.ylabel(\"Relative Entropy\")\n",
    "plt.title(\"Relative Entropy\")\n",
    "plt.yscale('log')  \n",
    "plt.tight_layout()\n",
    "plt.show()"
   ]
  },
  {
   "cell_type": "markdown",
   "id": "76f38185",
   "metadata": {},
   "source": [
    "## Bank Marketing"
   ]
  },
  {
   "cell_type": "code",
   "execution_count": 5,
   "id": "67826162",
   "metadata": {},
   "outputs": [],
   "source": [
    "cat_updates = 7\n",
    "num_updates = 6"
   ]
  },
  {
   "cell_type": "code",
   "execution_count": 6,
   "id": "8e20284b",
   "metadata": {},
   "outputs": [],
   "source": [
    "bank_df = pd.read_parquet(\"../data/clean/bank_marketing.parquet\")\n",
    "\n",
    "query_path = \"../queries/bank_marketing_2_cols.json\"\n",
    "with open(query_path, 'rb') as f:\n",
    "    bank_queries_2 = orjson.loads(f.read())\n",
    "\n",
    "query_path = \"../queries/bank_marketing_4_cols.json\"\n",
    "with open(query_path, 'rb') as f:\n",
    "    bank_queries_4 = orjson.loads(f.read())\n",
    "bank_ad_tree = ADTree.from_json(\"../sketches/ad_trees/bank_marketing.json\")"
   ]
  },
  {
   "cell_type": "code",
   "execution_count": 98,
   "id": "8f1e6b88",
   "metadata": {},
   "outputs": [
    {
     "data": {
      "text/plain": [
       "15.502957344055176"
      ]
     },
     "execution_count": 98,
     "metadata": {},
     "output_type": "execute_result"
    }
   ],
   "source": [
    "bank_p_sketch = PachaSketch.build_with_uniform_size(\n",
    "    levels=6,\n",
    "    num_dimensions=10,\n",
    "    cat_col_map=[0,1,2,3,4,5],\n",
    "    num_col_map=[6,7,8,9],\n",
    "    bases=[4, 5, 2, 2],\n",
    "    # bases=[5, 5, 5, 5],\n",
    "    ad_tree=bank_ad_tree,\n",
    "    cm_params=CMParameters(delta=delta, error_eps=abs_error_eps / len(bank_df)),\n",
    "    cat_index_parameters=BFParameters(n_values=len(bank_df)*cat_updates, p=bloom_p),\n",
    "    num_index_parameters=BFParameters(n_values=len(bank_df)*num_updates, p=bloom_p),\n",
    "    region_index_parameters= BFParameters(n_values=len(bank_df)*(cat_updates+num_updates), p=bloom_p))\n",
    "bank_p_sketch.get_size()"
   ]
  },
  {
   "cell_type": "code",
   "execution_count": 99,
   "id": "12e447cb",
   "metadata": {},
   "outputs": [
    {
     "name": "stderr",
     "output_type": "stream",
     "text": [
      "Updating: 100%|██████████| 45211/45211 [06:47<00:00, 111.04it/s] \n"
     ]
    },
    {
     "data": {
      "text/plain": [
       "<lib.pacha_sketch.PachaSketch at 0x734a580d6750>"
      ]
     },
     "execution_count": 99,
     "metadata": {},
     "output_type": "execute_result"
    }
   ],
   "source": [
    "bank_p_sketch.update_data_frame(bank_df)"
   ]
  },
  {
   "cell_type": "code",
   "execution_count": 110,
   "id": "26eb4195",
   "metadata": {},
   "outputs": [],
   "source": [
    "def compute_number_of_updates(levels, n_cat, n_num):\n",
    "    curr_cat_index = n_cat + 1\n",
    "    curr_num_index = levels\n",
    "    curr_region_index = curr_cat_index * curr_num_index\n",
    "    curr_base_sketches = curr_region_index\n",
    "    curr_total = curr_cat_index + curr_num_index + curr_region_index + curr_base_sketches\n",
    "\n",
    "    print(\"Nr. of updates in current solution:\")\n",
    "    print(f\"cat_index: {curr_cat_index}\")\n",
    "    print(f\"num_index: {curr_num_index}\")\n",
    "    print(f\"region_index: {curr_region_index}\")\n",
    "    print(f\"base_sketches: {curr_base_sketches}\")\n",
    "    print(f\"Total: {curr_total}\\n\")\n",
    "\n",
    "    new1_cat_index = n_cat + 1\n",
    "    new1_num_index = levels**n_num\n",
    "    new1_region_index = new1_cat_index * new1_num_index\n",
    "    new1_base_sketches = new1_region_index\n",
    "    new1_total = new1_cat_index + new1_num_index + new1_region_index + new1_base_sketches\n",
    "\n",
    "    print(\"Nr. of updates in new solution 1:\")\n",
    "    print(f\"cat_index: {new1_cat_index}\")\n",
    "    print(f\"num_index: {new1_num_index}\")\n",
    "    print(f\"region_index: {new1_region_index}\")\n",
    "    print(f\"base_sketches: {new1_base_sketches}\")\n",
    "    print(f\"Total: {new1_total}\")\n",
    "    print(f\"Ratio: {new1_total / curr_total}\\n\")\n",
    "\n",
    "    new2_cat_index = n_cat + 1\n",
    "    new2_num_index = 2**n_num * levels\n",
    "    new2_region_index = new2_cat_index * new2_num_index\n",
    "    new2_base_sketches = new2_region_index\n",
    "    new2_total = new2_cat_index + new2_num_index + new2_region_index + new2_base_sketches\n",
    "\n",
    "    print(\"Nr. of updates in new solution 2:\")\n",
    "    print(f\"cat_index: {new2_cat_index}\")\n",
    "    print(f\"num_index: {new2_num_index}\")\n",
    "    print(f\"region_index: {new2_region_index}\")\n",
    "    print(f\"base_sketches: {new2_base_sketches}\")\n",
    "    print(f\"Total: {new2_total}\")\n",
    "    print(f\"Ratio: {new2_total / curr_total}\\n\")\n",
    "\n",
    "    new3_cat_index = n_cat + 1\n",
    "    new3_num_index = (n_num + 1) * levels\n",
    "    new3_region_index = new3_cat_index * new3_num_index\n",
    "    new3_base_sketches = new3_region_index\n",
    "    new3_total = new3_cat_index + new3_num_index + new3_region_index\n",
    "    print(\"Nr. of updates in new solution 3:\")\n",
    "    print(f\"cat_index: {new3_cat_index}\")\n",
    "    print(f\"num_index: {new3_num_index}\")\n",
    "    print(f\"region_index: {new3_region_index}\")\n",
    "    print(f\"base_sketches: {new3_base_sketches}\")\n",
    "    print(f\"Total: {new3_total}\")\n",
    "    print(f\"Ratio: {new3_total / curr_total}\\n\")\n",
    "\n",
    "    new4_cat_index = n_cat + 1\n",
    "    new4_num_index = (2+n_num+(n_num*(n_num-1)/2)) * levels\n",
    "    new4_region_index = new4_cat_index * new4_num_index \n",
    "    new4_base_sketches = new4_region_index\n",
    "    new4_total = new4_cat_index + new4_num_index + new4_region_index + new4_base_sketches\n",
    "    print(\"Nr. of updates in new solution 4:\")\n",
    "    print(f\"cat_index: {new4_cat_index}\")\n",
    "    print(f\"num_index: {new4_num_index}\")   \n",
    "    print(f\"region_index: {new4_region_index}\")\n",
    "    print(f\"base_sketches: {new4_base_sketches}\")\n",
    "    print(f\"Total: {new4_total}\")\n",
    "    print(f\"Ratio: {new4_total / curr_total}\\n\")"
   ]
  },
  {
   "cell_type": "code",
   "execution_count": 111,
   "id": "af1cb46a",
   "metadata": {},
   "outputs": [
    {
     "name": "stdout",
     "output_type": "stream",
     "text": [
      "--------------------------------------------------------\n",
      "Retail Dataset\n",
      "Nr. of updates in current solution:\n",
      "cat_index: 4\n",
      "num_index: 6\n",
      "region_index: 24\n",
      "base_sketches: 24\n",
      "Total: 58\n",
      "\n",
      "Nr. of updates in new solution 1:\n",
      "cat_index: 4\n",
      "num_index: 216\n",
      "region_index: 864\n",
      "base_sketches: 864\n",
      "Total: 1948\n",
      "Ratio: 33.58620689655172\n",
      "\n",
      "Nr. of updates in new solution 2:\n",
      "cat_index: 4\n",
      "num_index: 48\n",
      "region_index: 192\n",
      "base_sketches: 192\n",
      "Total: 436\n",
      "Ratio: 7.517241379310345\n",
      "\n",
      "Nr. of updates in new solution 3:\n",
      "cat_index: 4\n",
      "num_index: 24\n",
      "region_index: 96\n",
      "base_sketches: 96\n",
      "Total: 124\n",
      "Ratio: 2.1379310344827585\n",
      "\n",
      "Nr. of updates in new solution 4:\n",
      "cat_index: 4\n",
      "num_index: 48.0\n",
      "region_index: 192.0\n",
      "base_sketches: 192.0\n",
      "Total: 436.0\n",
      "Ratio: 7.517241379310345\n",
      "\n",
      "--------------------------------------------------------\n",
      "Bank Dataset\n",
      "Nr. of updates in current solution:\n",
      "cat_index: 7\n",
      "num_index: 6\n",
      "region_index: 42\n",
      "base_sketches: 42\n",
      "Total: 97\n",
      "\n",
      "Nr. of updates in new solution 1:\n",
      "cat_index: 7\n",
      "num_index: 1296\n",
      "region_index: 9072\n",
      "base_sketches: 9072\n",
      "Total: 19447\n",
      "Ratio: 200.48453608247422\n",
      "\n",
      "Nr. of updates in new solution 2:\n",
      "cat_index: 7\n",
      "num_index: 96\n",
      "region_index: 672\n",
      "base_sketches: 672\n",
      "Total: 1447\n",
      "Ratio: 14.917525773195877\n",
      "\n",
      "Nr. of updates in new solution 3:\n",
      "cat_index: 7\n",
      "num_index: 30\n",
      "region_index: 210\n",
      "base_sketches: 210\n",
      "Total: 247\n",
      "Ratio: 2.5463917525773194\n",
      "\n",
      "Nr. of updates in new solution 4:\n",
      "cat_index: 7\n",
      "num_index: 72.0\n",
      "region_index: 504.0\n",
      "base_sketches: 504.0\n",
      "Total: 1087.0\n",
      "Ratio: 11.206185567010309\n",
      "\n",
      "--------------------------------------------------------\n",
      "Folktables Dataset\n",
      "Nr. of updates in current solution:\n",
      "cat_index: 8\n",
      "num_index: 6\n",
      "region_index: 48\n",
      "base_sketches: 48\n",
      "Total: 110\n",
      "\n",
      "Nr. of updates in new solution 1:\n",
      "cat_index: 8\n",
      "num_index: 216\n",
      "region_index: 1728\n",
      "base_sketches: 1728\n",
      "Total: 3680\n",
      "Ratio: 33.45454545454545\n",
      "\n",
      "Nr. of updates in new solution 2:\n",
      "cat_index: 8\n",
      "num_index: 48\n",
      "region_index: 384\n",
      "base_sketches: 384\n",
      "Total: 824\n",
      "Ratio: 7.490909090909091\n",
      "\n",
      "Nr. of updates in new solution 3:\n",
      "cat_index: 8\n",
      "num_index: 24\n",
      "region_index: 192\n",
      "base_sketches: 192\n",
      "Total: 224\n",
      "Ratio: 2.036363636363636\n",
      "\n",
      "Nr. of updates in new solution 4:\n",
      "cat_index: 8\n",
      "num_index: 48.0\n",
      "region_index: 384.0\n",
      "base_sketches: 384.0\n",
      "Total: 824.0\n",
      "Ratio: 7.490909090909091\n",
      "\n"
     ]
    }
   ],
   "source": [
    "levels = 6\n",
    "# Retail\n",
    "n_cat = 3\n",
    "n_num = 3\n",
    "\n",
    "print(\"--------------------------------------------------------\")\n",
    "print(\"Retail Dataset\")\n",
    "compute_number_of_updates(levels, n_cat, n_num)\n",
    "\n",
    "# Bank\n",
    "n_cat = 6\n",
    "n_num = 4\n",
    "\n",
    "print(\"--------------------------------------------------------\")\n",
    "print(\"Bank Dataset\")\n",
    "compute_number_of_updates(levels, n_cat, n_num)\n",
    "\n",
    "# Folktables\n",
    "n_cat = 7\n",
    "n_num = 3\n",
    "\n",
    "print(\"--------------------------------------------------------\")\n",
    "print(\"Folktables Dataset\")\n",
    "compute_number_of_updates(levels, n_cat, n_num)\n",
    "\n"
   ]
  },
  {
   "cell_type": "code",
   "execution_count": null,
   "id": "b9002257",
   "metadata": {},
   "outputs": [],
   "source": [
    "delta = 0.01\n",
    "abs_error_eps = 1.0\n",
    "bloom_p = 0.01"
   ]
  },
  {
   "cell_type": "markdown",
   "id": "46a68d58",
   "metadata": {},
   "source": [
    "## Retail"
   ]
  },
  {
   "cell_type": "code",
   "execution_count": null,
   "id": "2eba880a",
   "metadata": {},
   "outputs": [],
   "source": [
    "cat_updates = 4\n",
    "num_updates = 6"
   ]
  },
  {
   "cell_type": "code",
   "execution_count": null,
   "id": "63f220ec",
   "metadata": {},
   "outputs": [],
   "source": [
    "retail_df = pd.read_parquet(\"../data/clean/online_retail_no_outliers.parquet\")"
   ]
  },
  {
   "cell_type": "code",
   "execution_count": null,
   "id": "a66e22d3",
   "metadata": {},
   "outputs": [],
   "source": [
    "query_path = \"../queries/online_retail_2_cols.json\"\n",
    "with open(query_path, 'rb') as f:\n",
    "    retail_queries_2 = orjson.loads(f.read())\n",
    "\n",
    "query_path = \"../queries/online_retail_4_cols.json\"\n",
    "with open(query_path, 'rb') as f:\n",
    "    retail_queries_4 = orjson.loads(f.read())\n",
    "\n",
    "retail_ad_tree = ADTree.from_json(\"../sketches/ad_trees/online_retail.json\")\n"
   ]
  },
  {
   "cell_type": "code",
   "execution_count": null,
   "id": "3356ce49",
   "metadata": {},
   "outputs": [
    {
     "data": {
      "text/plain": [
       "179.22578525543213"
      ]
     },
     "metadata": {},
     "output_type": "display_data"
    }
   ],
   "source": [
    "retail_p_sketch = PachaSketch.build_with_uniform_size(\n",
    "    levels=6,\n",
    "    num_dimensions=6,\n",
    "    cat_col_map=[0,1,2],\n",
    "    num_col_map=[3,4,5],\n",
    "    bases=[2,2,2],\n",
    "    ad_tree=retail_ad_tree,\n",
    "    cm_params=CMParameters(delta=delta, error_eps=abs_error_eps / len(retail_df)),\n",
    "    cat_index_parameters=BFParameters(n_values=len(retail_df)*cat_updates, p=bloom_p),\n",
    "    num_index_parameters=BFParameters(n_values=len(retail_df)*num_updates, p=bloom_p),\n",
    "    region_index_parameters= BFParameters(n_values=len(retail_df)*(cat_updates+num_updates), p=bloom_p))\n",
    "retail_p_sketch.get_size()"
   ]
  },
  {
   "cell_type": "code",
   "execution_count": null,
   "id": "2ce0ebfe",
   "metadata": {},
   "outputs": [
    {
     "name": "stderr",
     "output_type": "stream",
     "text": [
      "Updating:   0%|          | 0/536494 [00:00<?, ?it/s]/home/rudi/artifacts/pacha_sketch_prototype/experiments/../lib/pacha_sketch.py:623: FutureWarning: Series.__getitem__ treating keys as positions is deprecated. In a future version, integer keys will always be treated as labels (consistent with DataFrame behavior). To access a value by position, use `ser.iloc[pos]`\n",
      "  cat_values = tuple(element[i] for i in self.cat_col_map)\n",
      "/home/rudi/artifacts/pacha_sketch_prototype/experiments/../lib/pacha_sketch.py:624: FutureWarning: Series.__getitem__ treating keys as positions is deprecated. In a future version, integer keys will always be treated as labels (consistent with DataFrame behavior). To access a value by position, use `ser.iloc[pos]`\n",
      "  num_values = tuple(element[i] for i in self.num_col_map)\n",
      "Updating: 100%|██████████| 536494/536494 [03:02<00:00, 2942.80it/s]\n"
     ]
    },
    {
     "data": {
      "text/plain": [
       "<lib.pacha_sketch.PachaSketch at 0x706ae028ae70>"
      ]
     },
     "metadata": {},
     "output_type": "display_data"
    }
   ],
   "source": [
    "retail_p_sketch.update_data_frame(retail_df)"
   ]
  },
  {
   "cell_type": "code",
   "execution_count": null,
   "id": "64fab640",
   "metadata": {},
   "outputs": [
    {
     "name": "stdout",
     "output_type": "stream",
     "text": [
      "Computing true counts...\n"
     ]
    },
    {
     "name": "stderr",
     "output_type": "stream",
     "text": [
      "True Count: 100%|██████████| 200/200 [00:05<00:00, 39.52it/s]\n"
     ]
    },
    {
     "name": "stdout",
     "output_type": "stream",
     "text": [
      "Computing estimates...\n"
     ]
    },
    {
     "name": "stderr",
     "output_type": "stream",
     "text": [
      "Estimates: 100%|██████████| 200/200 [08:19<00:00,  2.50s/it]\n"
     ]
    }
   ],
   "source": [
    "retail_results_2 = evaluate_queries(retail_df, retail_queries_2[\"queries\"], retail_p_sketch, path_to_file=\"../results/accuracy/retail_2_p_sketch.csv\")"
   ]
  },
  {
   "cell_type": "code",
   "execution_count": null,
   "id": "cb50da27",
   "metadata": {},
   "outputs": [
    {
     "name": "stdout",
     "output_type": "stream",
     "text": [
      "Computing true counts...\n"
     ]
    },
    {
     "name": "stderr",
     "output_type": "stream",
     "text": [
      "True Count: 100%|██████████| 200/200 [00:06<00:00, 29.57it/s]\n"
     ]
    },
    {
     "name": "stdout",
     "output_type": "stream",
     "text": [
      "Computing estimates...\n"
     ]
    },
    {
     "name": "stderr",
     "output_type": "stream",
     "text": [
      "Estimates: 100%|██████████| 200/200 [00:26<00:00,  7.47it/s]\n"
     ]
    }
   ],
   "source": [
    "retail_results_4 = evaluate_queries(retail_df, retail_queries_4[\"queries\"], retail_p_sketch, path_to_file=\"../results/accuracy/retail_4_p_sketch.csv\")"
   ]
  },
  {
   "cell_type": "code",
   "execution_count": 35,
   "id": "6892391e",
   "metadata": {},
   "outputs": [
    {
     "data": {
      "text/plain": [
       "4224"
      ]
     },
     "execution_count": 35,
     "metadata": {},
     "output_type": "execute_result"
    }
   ],
   "source": [
    "np.prod([len(cover) for cover in covers_down])"
   ]
  },
  {
   "cell_type": "code",
   "execution_count": 11,
   "id": "c58b7731",
   "metadata": {},
   "outputs": [
    {
     "data": {
      "text/plain": [
       "[['unknown'], '*', '*', '*', '*', '*', '*', [125, 803], '*', '*']"
      ]
     },
     "execution_count": 11,
     "metadata": {},
     "output_type": "execute_result"
    }
   ],
   "source": [
    "bank_queries_2[\"queries\"][0]"
   ]
  },
  {
   "cell_type": "code",
   "execution_count": 12,
   "id": "97f79ef1",
   "metadata": {},
   "outputs": [
    {
     "ename": "KeyboardInterrupt",
     "evalue": "",
     "output_type": "error",
     "traceback": [
      "\u001b[0;31m---------------------------------------------------------------------------\u001b[0m",
      "\u001b[0;31mKeyboardInterrupt\u001b[0m                         Traceback (most recent call last)",
      "\u001b[0;32m/tmp/ipykernel_135760/983173895.py\u001b[0m in \u001b[0;36m<module>\u001b[0;34m\u001b[0m\n\u001b[0;32m----> 1\u001b[0;31m \u001b[0mbank_p_sketch\u001b[0m\u001b[0;34m.\u001b[0m\u001b[0mget_subqueries\u001b[0m\u001b[0;34m(\u001b[0m\u001b[0mbank_queries_2\u001b[0m\u001b[0;34m[\u001b[0m\u001b[0;34m\"queries\"\u001b[0m\u001b[0;34m]\u001b[0m\u001b[0;34m[\u001b[0m\u001b[0;36m0\u001b[0m\u001b[0;34m]\u001b[0m\u001b[0;34m)\u001b[0m\u001b[0;34m\u001b[0m\u001b[0;34m\u001b[0m\u001b[0m\n\u001b[0m",
      "\u001b[0;32m~/artifacts/pacha_sketch_prototype/experiments/../lib/pacha_sketch.py\u001b[0m in \u001b[0;36mget_subqueries\u001b[0;34m(self, query, detailed, debug)\u001b[0m\n\u001b[1;32m    754\u001b[0m \u001b[0;34m\u001b[0m\u001b[0m\n\u001b[1;32m    755\u001b[0m         \u001b[0mcat_regions\u001b[0m \u001b[0;34m=\u001b[0m \u001b[0mrelevant_nodes\u001b[0m\u001b[0;34m[\u001b[0m\u001b[0mself\u001b[0m\u001b[0;34m.\u001b[0m\u001b[0mcat_index\u001b[0m\u001b[0;34m.\u001b[0m\u001b[0mquery_batch\u001b[0m\u001b[0;34m(\u001b[0m\u001b[0mrelevant_nodes\u001b[0m\u001b[0;34m)\u001b[0m\u001b[0;34m]\u001b[0m\u001b[0;34m\u001b[0m\u001b[0;34m\u001b[0m\u001b[0m\n\u001b[0;32m--> 756\u001b[0;31m         \u001b[0mnum_regions\u001b[0m \u001b[0;34m=\u001b[0m \u001b[0mb_adic_cubes\u001b[0m\u001b[0;34m[\u001b[0m\u001b[0mself\u001b[0m\u001b[0;34m.\u001b[0m\u001b[0mnum_index\u001b[0m\u001b[0;34m.\u001b[0m\u001b[0mquery_batch\u001b[0m\u001b[0;34m(\u001b[0m\u001b[0mb_adic_cubes\u001b[0m\u001b[0;34m)\u001b[0m\u001b[0;34m]\u001b[0m\u001b[0;34m\u001b[0m\u001b[0;34m\u001b[0m\u001b[0m\n\u001b[0m\u001b[1;32m    757\u001b[0m \u001b[0;34m\u001b[0m\u001b[0m\n\u001b[1;32m    758\u001b[0m         \u001b[0mcandidate_regions\u001b[0m \u001b[0;34m=\u001b[0m \u001b[0mregion_cross_product\u001b[0m\u001b[0;34m(\u001b[0m\u001b[0mcat_regions\u001b[0m\u001b[0;34m,\u001b[0m \u001b[0mnum_regions\u001b[0m\u001b[0;34m)\u001b[0m\u001b[0;34m\u001b[0m\u001b[0;34m\u001b[0m\u001b[0m\n",
      "\u001b[0;32m~/artifacts/pacha_sketch_prototype/experiments/../lib/sketches.py\u001b[0m in \u001b[0;36mquery_batch\u001b[0;34m(self, elements)\u001b[0m\n\u001b[1;32m    879\u001b[0m         \u001b[0mReturns\u001b[0m \u001b[0ma\u001b[0m \u001b[0mboolean\u001b[0m \u001b[0marray\u001b[0m \u001b[0mindicating\u001b[0m \u001b[0mpresence\u001b[0m \u001b[0;32mfor\u001b[0m \u001b[0meach\u001b[0m \u001b[0mitem\u001b[0m\u001b[0;34m.\u001b[0m\u001b[0;34m\u001b[0m\u001b[0;34m\u001b[0m\u001b[0m\n\u001b[1;32m    880\u001b[0m         \"\"\"\n\u001b[0;32m--> 881\u001b[0;31m         \u001b[0mhash_matrix\u001b[0m \u001b[0;34m=\u001b[0m \u001b[0mself\u001b[0m\u001b[0;34m.\u001b[0m\u001b[0mhash_functions\u001b[0m\u001b[0;34m.\u001b[0m\u001b[0mhash_values_batch\u001b[0m\u001b[0;34m(\u001b[0m\u001b[0melements\u001b[0m\u001b[0;34m)\u001b[0m\u001b[0;34m\u001b[0m\u001b[0;34m\u001b[0m\u001b[0m\n\u001b[0m\u001b[1;32m    882\u001b[0m         \u001b[0;32mreturn\u001b[0m \u001b[0mnp\u001b[0m\u001b[0;34m.\u001b[0m\u001b[0mall\u001b[0m\u001b[0;34m(\u001b[0m\u001b[0mself\u001b[0m\u001b[0;34m.\u001b[0m\u001b[0mbit_array\u001b[0m\u001b[0;34m[\u001b[0m\u001b[0mhash_matrix\u001b[0m\u001b[0;34m]\u001b[0m\u001b[0;34m,\u001b[0m \u001b[0maxis\u001b[0m\u001b[0;34m=\u001b[0m\u001b[0;36m1\u001b[0m\u001b[0;34m)\u001b[0m\u001b[0;34m\u001b[0m\u001b[0;34m\u001b[0m\u001b[0m\n\u001b[1;32m    883\u001b[0m \u001b[0;34m\u001b[0m\u001b[0m\n",
      "\u001b[0;32m~/artifacts/pacha_sketch_prototype/experiments/../lib/sketches.py\u001b[0m in \u001b[0;36mhash_values_batch\u001b[0;34m(self, elements)\u001b[0m\n\u001b[1;32m    222\u001b[0m         \u001b[0;31m# Step 1: Compute base hashes for all elements\u001b[0m\u001b[0;34m\u001b[0m\u001b[0;34m\u001b[0m\u001b[0m\n\u001b[1;32m    223\u001b[0m         \u001b[0;32mif\u001b[0m \u001b[0misinstance\u001b[0m\u001b[0;34m(\u001b[0m\u001b[0melements\u001b[0m\u001b[0;34m,\u001b[0m \u001b[0mnp\u001b[0m\u001b[0;34m.\u001b[0m\u001b[0mndarray\u001b[0m\u001b[0;34m)\u001b[0m\u001b[0;34m:\u001b[0m\u001b[0;34m\u001b[0m\u001b[0;34m\u001b[0m\u001b[0m\n\u001b[0;32m--> 224\u001b[0;31m             \u001b[0mbase_hashes\u001b[0m \u001b[0;34m=\u001b[0m \u001b[0mnp\u001b[0m\u001b[0;34m.\u001b[0m\u001b[0marray\u001b[0m\u001b[0;34m(\u001b[0m\u001b[0;34m[\u001b[0m\u001b[0mhash\u001b[0m\u001b[0;34m(\u001b[0m\u001b[0mtuple\u001b[0m\u001b[0;34m(\u001b[0m\u001b[0mx\u001b[0m\u001b[0;34m)\u001b[0m\u001b[0;34m)\u001b[0m \u001b[0;32mfor\u001b[0m \u001b[0mx\u001b[0m \u001b[0;32min\u001b[0m \u001b[0melements\u001b[0m\u001b[0;34m]\u001b[0m\u001b[0;34m)\u001b[0m\u001b[0;34m\u001b[0m\u001b[0;34m\u001b[0m\u001b[0m\n\u001b[0m\u001b[1;32m    225\u001b[0m         \u001b[0;32melse\u001b[0m\u001b[0;34m:\u001b[0m\u001b[0;34m\u001b[0m\u001b[0;34m\u001b[0m\u001b[0m\n\u001b[1;32m    226\u001b[0m             \u001b[0mbase_hashes\u001b[0m \u001b[0;34m=\u001b[0m \u001b[0mnp\u001b[0m\u001b[0;34m.\u001b[0m\u001b[0marray\u001b[0m\u001b[0;34m(\u001b[0m\u001b[0;34m[\u001b[0m\u001b[0mhash\u001b[0m\u001b[0;34m(\u001b[0m\u001b[0mx\u001b[0m\u001b[0;34m)\u001b[0m \u001b[0;32mfor\u001b[0m \u001b[0mx\u001b[0m \u001b[0;32min\u001b[0m \u001b[0melements\u001b[0m\u001b[0;34m]\u001b[0m\u001b[0;34m)\u001b[0m  \u001b[0;31m# shape: (n_elements,)\u001b[0m\u001b[0;34m\u001b[0m\u001b[0;34m\u001b[0m\u001b[0m\n",
      "\u001b[0;31mKeyboardInterrupt\u001b[0m: "
     ]
    }
   ],
   "source": [
    "bank_p_sketch.get_subqueries(bank_queries_2[\"queries\"][0])"
   ]
  },
  {
   "cell_type": "code",
   "execution_count": 28,
   "id": "7838c61c",
   "metadata": {},
   "outputs": [
    {
     "name": "stdout",
     "output_type": "stream",
     "text": [
      "Computing true counts...\n"
     ]
    },
    {
     "name": "stderr",
     "output_type": "stream",
     "text": [
      "True Count: 100%|██████████| 200/200 [00:00<00:00, 456.91it/s]\n"
     ]
    },
    {
     "name": "stdout",
     "output_type": "stream",
     "text": [
      "Computing estimates...\n"
     ]
    },
    {
     "name": "stderr",
     "output_type": "stream",
     "text": [
      "Estimates:   0%|          | 0/200 [00:57<?, ?it/s]\n"
     ]
    },
    {
     "ename": "KeyboardInterrupt",
     "evalue": "",
     "output_type": "error",
     "traceback": [
      "\u001b[0;31m---------------------------------------------------------------------------\u001b[0m",
      "\u001b[0;31mKeyboardInterrupt\u001b[0m                         Traceback (most recent call last)",
      "\u001b[0;32m/tmp/ipykernel_93830/3268449308.py\u001b[0m in \u001b[0;36m<module>\u001b[0;34m\u001b[0m\n\u001b[0;32m----> 1\u001b[0;31m \u001b[0mbank_results_2\u001b[0m \u001b[0;34m=\u001b[0m \u001b[0mevaluate_queries\u001b[0m\u001b[0;34m(\u001b[0m\u001b[0mbank_df\u001b[0m\u001b[0;34m,\u001b[0m \u001b[0mbank_queries_2\u001b[0m\u001b[0;34m[\u001b[0m\u001b[0;34m\"queries\"\u001b[0m\u001b[0;34m]\u001b[0m\u001b[0;34m,\u001b[0m \u001b[0mbank_p_sketch\u001b[0m\u001b[0;34m,\u001b[0m \u001b[0mpath_to_file\u001b[0m\u001b[0;34m=\u001b[0m\u001b[0;34m\"../results/accuracy/bank_2_p_sketch.csv\"\u001b[0m\u001b[0;34m)\u001b[0m\u001b[0;34m\u001b[0m\u001b[0;34m\u001b[0m\u001b[0m\n\u001b[0m",
      "\u001b[0;32m~/artifacts/pacha_sketch_prototype/experiments/../lib/baselines.py\u001b[0m in \u001b[0;36mevaluate_queries\u001b[0;34m(df, queries, p_sketch, path_to_file)\u001b[0m\n\u001b[1;32m    209\u001b[0m     \u001b[0;32mfor\u001b[0m \u001b[0mi\u001b[0m\u001b[0;34m,\u001b[0m \u001b[0mquery\u001b[0m \u001b[0;32min\u001b[0m \u001b[0menumerate\u001b[0m\u001b[0;34m(\u001b[0m\u001b[0mtqdm\u001b[0m\u001b[0;34m(\u001b[0m\u001b[0mqueries\u001b[0m\u001b[0;34m,\u001b[0m \u001b[0mdesc\u001b[0m\u001b[0;34m=\u001b[0m\u001b[0;34m\"Estimates\"\u001b[0m\u001b[0;34m)\u001b[0m\u001b[0;34m)\u001b[0m\u001b[0;34m:\u001b[0m\u001b[0;34m\u001b[0m\u001b[0;34m\u001b[0m\u001b[0m\n\u001b[1;32m    210\u001b[0m         \u001b[0mstart_time\u001b[0m \u001b[0;34m=\u001b[0m \u001b[0mtime\u001b[0m\u001b[0;34m.\u001b[0m\u001b[0mtime\u001b[0m\u001b[0;34m(\u001b[0m\u001b[0;34m)\u001b[0m\u001b[0;34m\u001b[0m\u001b[0;34m\u001b[0m\u001b[0m\n\u001b[0;32m--> 211\u001b[0;31m         \u001b[0mest\u001b[0m\u001b[0;34m,\u001b[0m \u001b[0mdetails\u001b[0m \u001b[0;34m=\u001b[0m \u001b[0mp_sketch\u001b[0m\u001b[0;34m.\u001b[0m\u001b[0mquery\u001b[0m\u001b[0;34m(\u001b[0m\u001b[0mquery\u001b[0m\u001b[0;34m,\u001b[0m \u001b[0mdetailed\u001b[0m\u001b[0;34m=\u001b[0m\u001b[0;32mTrue\u001b[0m\u001b[0;34m)\u001b[0m\u001b[0;34m\u001b[0m\u001b[0;34m\u001b[0m\u001b[0m\n\u001b[0m\u001b[1;32m    212\u001b[0m         \u001b[0mruntimes\u001b[0m\u001b[0;34m[\u001b[0m\u001b[0mi\u001b[0m\u001b[0;34m]\u001b[0m \u001b[0;34m=\u001b[0m \u001b[0mtime\u001b[0m\u001b[0;34m.\u001b[0m\u001b[0mtime\u001b[0m\u001b[0;34m(\u001b[0m\u001b[0;34m)\u001b[0m \u001b[0;34m-\u001b[0m \u001b[0mstart_time\u001b[0m\u001b[0;34m\u001b[0m\u001b[0;34m\u001b[0m\u001b[0m\n\u001b[1;32m    213\u001b[0m         \u001b[0mestimates\u001b[0m\u001b[0;34m[\u001b[0m\u001b[0mi\u001b[0m\u001b[0;34m]\u001b[0m \u001b[0;34m=\u001b[0m \u001b[0mest\u001b[0m\u001b[0;34m\u001b[0m\u001b[0;34m\u001b[0m\u001b[0m\n",
      "\u001b[0;32m~/artifacts/pacha_sketch_prototype/experiments/../lib/pacha_sketch.py\u001b[0m in \u001b[0;36mquery\u001b[0;34m(self, query, detailed, debug)\u001b[0m\n\u001b[1;32m    781\u001b[0m \u001b[0;34m\u001b[0m\u001b[0m\n\u001b[1;32m    782\u001b[0m     \u001b[0;32mdef\u001b[0m \u001b[0mquery\u001b[0m\u001b[0;34m(\u001b[0m\u001b[0mself\u001b[0m\u001b[0;34m,\u001b[0m \u001b[0mquery\u001b[0m\u001b[0;34m:\u001b[0m \u001b[0mList\u001b[0m\u001b[0;34m[\u001b[0m\u001b[0mAny\u001b[0m\u001b[0;34m]\u001b[0m\u001b[0;34m,\u001b[0m \u001b[0mdetailed\u001b[0m \u001b[0;34m=\u001b[0m \u001b[0;32mFalse\u001b[0m\u001b[0;34m,\u001b[0m \u001b[0mdebug\u001b[0m\u001b[0;34m=\u001b[0m\u001b[0;32mFalse\u001b[0m\u001b[0;34m)\u001b[0m \u001b[0;34m->\u001b[0m \u001b[0mint\u001b[0m\u001b[0;34m:\u001b[0m\u001b[0;34m\u001b[0m\u001b[0;34m\u001b[0m\u001b[0m\n\u001b[0;32m--> 783\u001b[0;31m         \u001b[0mquery_regions\u001b[0m\u001b[0;34m,\u001b[0m \u001b[0mdetails\u001b[0m \u001b[0;34m=\u001b[0m \u001b[0mself\u001b[0m\u001b[0;34m.\u001b[0m\u001b[0mget_subqueries\u001b[0m\u001b[0;34m(\u001b[0m\u001b[0mquery\u001b[0m\u001b[0;34m,\u001b[0m \u001b[0mdetailed\u001b[0m\u001b[0;34m=\u001b[0m\u001b[0mdetailed\u001b[0m\u001b[0;34m,\u001b[0m \u001b[0mdebug\u001b[0m\u001b[0;34m=\u001b[0m\u001b[0mdebug\u001b[0m\u001b[0;34m)\u001b[0m\u001b[0;34m\u001b[0m\u001b[0;34m\u001b[0m\u001b[0m\n\u001b[0m\u001b[1;32m    784\u001b[0m \u001b[0;34m\u001b[0m\u001b[0m\n\u001b[1;32m    785\u001b[0m         \u001b[0mlevel_col\u001b[0m \u001b[0;34m=\u001b[0m \u001b[0mquery_regions\u001b[0m\u001b[0;34m[\u001b[0m\u001b[0;34m:\u001b[0m\u001b[0;34m,\u001b[0m \u001b[0mlen\u001b[0m\u001b[0;34m(\u001b[0m\u001b[0mself\u001b[0m\u001b[0;34m.\u001b[0m\u001b[0mcat_col_map\u001b[0m\u001b[0;34m)\u001b[0m\u001b[0;34m]\u001b[0m\u001b[0;34m\u001b[0m\u001b[0;34m\u001b[0m\u001b[0m\n",
      "\u001b[0;32m~/artifacts/pacha_sketch_prototype/experiments/../lib/pacha_sketch.py\u001b[0m in \u001b[0;36mget_subqueries\u001b[0;34m(self, query, detailed, debug)\u001b[0m\n\u001b[1;32m    744\u001b[0m \u001b[0;34m\u001b[0m\u001b[0m\n\u001b[1;32m    745\u001b[0m         \u001b[0mcat_regions\u001b[0m \u001b[0;34m=\u001b[0m \u001b[0mrelevant_nodes\u001b[0m\u001b[0;34m[\u001b[0m\u001b[0mself\u001b[0m\u001b[0;34m.\u001b[0m\u001b[0mcat_index\u001b[0m\u001b[0;34m.\u001b[0m\u001b[0mquery_batch\u001b[0m\u001b[0;34m(\u001b[0m\u001b[0mrelevant_nodes\u001b[0m\u001b[0;34m)\u001b[0m\u001b[0;34m]\u001b[0m\u001b[0;34m\u001b[0m\u001b[0;34m\u001b[0m\u001b[0m\n\u001b[0;32m--> 746\u001b[0;31m         \u001b[0mnum_regions\u001b[0m \u001b[0;34m=\u001b[0m \u001b[0mb_adic_cubes\u001b[0m\u001b[0;34m[\u001b[0m\u001b[0mself\u001b[0m\u001b[0;34m.\u001b[0m\u001b[0mnum_index\u001b[0m\u001b[0;34m.\u001b[0m\u001b[0mquery_batch\u001b[0m\u001b[0;34m(\u001b[0m\u001b[0mb_adic_cubes\u001b[0m\u001b[0;34m)\u001b[0m\u001b[0;34m]\u001b[0m\u001b[0;34m\u001b[0m\u001b[0;34m\u001b[0m\u001b[0m\n\u001b[0m\u001b[1;32m    747\u001b[0m \u001b[0;34m\u001b[0m\u001b[0m\n\u001b[1;32m    748\u001b[0m         \u001b[0mcandidate_regions\u001b[0m \u001b[0;34m=\u001b[0m \u001b[0mregion_cross_product\u001b[0m\u001b[0;34m(\u001b[0m\u001b[0mcat_regions\u001b[0m\u001b[0;34m,\u001b[0m \u001b[0mnum_regions\u001b[0m\u001b[0;34m)\u001b[0m\u001b[0;34m\u001b[0m\u001b[0;34m\u001b[0m\u001b[0m\n",
      "\u001b[0;32m~/artifacts/pacha_sketch_prototype/experiments/../lib/sketches.py\u001b[0m in \u001b[0;36mquery_batch\u001b[0;34m(self, elements)\u001b[0m\n\u001b[1;32m    879\u001b[0m         \u001b[0mReturns\u001b[0m \u001b[0ma\u001b[0m \u001b[0mboolean\u001b[0m \u001b[0marray\u001b[0m \u001b[0mindicating\u001b[0m \u001b[0mpresence\u001b[0m \u001b[0;32mfor\u001b[0m \u001b[0meach\u001b[0m \u001b[0mitem\u001b[0m\u001b[0;34m.\u001b[0m\u001b[0;34m\u001b[0m\u001b[0;34m\u001b[0m\u001b[0m\n\u001b[1;32m    880\u001b[0m         \"\"\"\n\u001b[0;32m--> 881\u001b[0;31m         \u001b[0mhash_matrix\u001b[0m \u001b[0;34m=\u001b[0m \u001b[0mself\u001b[0m\u001b[0;34m.\u001b[0m\u001b[0mhash_functions\u001b[0m\u001b[0;34m.\u001b[0m\u001b[0mhash_values_batch\u001b[0m\u001b[0;34m(\u001b[0m\u001b[0melements\u001b[0m\u001b[0;34m)\u001b[0m\u001b[0;34m\u001b[0m\u001b[0;34m\u001b[0m\u001b[0m\n\u001b[0m\u001b[1;32m    882\u001b[0m         \u001b[0;32mreturn\u001b[0m \u001b[0mnp\u001b[0m\u001b[0;34m.\u001b[0m\u001b[0mall\u001b[0m\u001b[0;34m(\u001b[0m\u001b[0mself\u001b[0m\u001b[0;34m.\u001b[0m\u001b[0mbit_array\u001b[0m\u001b[0;34m[\u001b[0m\u001b[0mhash_matrix\u001b[0m\u001b[0;34m]\u001b[0m\u001b[0;34m,\u001b[0m \u001b[0maxis\u001b[0m\u001b[0;34m=\u001b[0m\u001b[0;36m1\u001b[0m\u001b[0;34m)\u001b[0m\u001b[0;34m\u001b[0m\u001b[0;34m\u001b[0m\u001b[0m\n\u001b[1;32m    883\u001b[0m \u001b[0;34m\u001b[0m\u001b[0m\n",
      "\u001b[0;32m~/artifacts/pacha_sketch_prototype/experiments/../lib/sketches.py\u001b[0m in \u001b[0;36mhash_values_batch\u001b[0;34m(self, elements)\u001b[0m\n\u001b[1;32m    222\u001b[0m         \u001b[0;31m# Step 1: Compute base hashes for all elements\u001b[0m\u001b[0;34m\u001b[0m\u001b[0;34m\u001b[0m\u001b[0m\n\u001b[1;32m    223\u001b[0m         \u001b[0;32mif\u001b[0m \u001b[0misinstance\u001b[0m\u001b[0;34m(\u001b[0m\u001b[0melements\u001b[0m\u001b[0;34m,\u001b[0m \u001b[0mnp\u001b[0m\u001b[0;34m.\u001b[0m\u001b[0mndarray\u001b[0m\u001b[0;34m)\u001b[0m\u001b[0;34m:\u001b[0m\u001b[0;34m\u001b[0m\u001b[0;34m\u001b[0m\u001b[0m\n\u001b[0;32m--> 224\u001b[0;31m             \u001b[0mbase_hashes\u001b[0m \u001b[0;34m=\u001b[0m \u001b[0mnp\u001b[0m\u001b[0;34m.\u001b[0m\u001b[0marray\u001b[0m\u001b[0;34m(\u001b[0m\u001b[0;34m[\u001b[0m\u001b[0mhash\u001b[0m\u001b[0;34m(\u001b[0m\u001b[0mtuple\u001b[0m\u001b[0;34m(\u001b[0m\u001b[0mx\u001b[0m\u001b[0;34m)\u001b[0m\u001b[0;34m)\u001b[0m \u001b[0;32mfor\u001b[0m \u001b[0mx\u001b[0m \u001b[0;32min\u001b[0m \u001b[0melements\u001b[0m\u001b[0;34m]\u001b[0m\u001b[0;34m)\u001b[0m\u001b[0;34m\u001b[0m\u001b[0;34m\u001b[0m\u001b[0m\n\u001b[0m\u001b[1;32m    225\u001b[0m         \u001b[0;32melse\u001b[0m\u001b[0;34m:\u001b[0m\u001b[0;34m\u001b[0m\u001b[0;34m\u001b[0m\u001b[0m\n\u001b[1;32m    226\u001b[0m             \u001b[0mbase_hashes\u001b[0m \u001b[0;34m=\u001b[0m \u001b[0mnp\u001b[0m\u001b[0;34m.\u001b[0m\u001b[0marray\u001b[0m\u001b[0;34m(\u001b[0m\u001b[0;34m[\u001b[0m\u001b[0mhash\u001b[0m\u001b[0;34m(\u001b[0m\u001b[0mx\u001b[0m\u001b[0;34m)\u001b[0m \u001b[0;32mfor\u001b[0m \u001b[0mx\u001b[0m \u001b[0;32min\u001b[0m \u001b[0melements\u001b[0m\u001b[0;34m]\u001b[0m\u001b[0;34m)\u001b[0m  \u001b[0;31m# shape: (n_elements,)\u001b[0m\u001b[0;34m\u001b[0m\u001b[0;34m\u001b[0m\u001b[0m\n",
      "\u001b[0;31mKeyboardInterrupt\u001b[0m: "
     ]
    }
   ],
   "source": [
    "bank_results_2 = evaluate_queries(bank_df, bank_queries_2[\"queries\"], bank_p_sketch, path_to_file=\"../results/accuracy/bank_2_p_sketch.csv\")"
   ]
  },
  {
   "cell_type": "code",
   "execution_count": null,
   "id": "0331da79",
   "metadata": {},
   "outputs": [],
   "source": [
    "bank_results_4 = evaluate_queries(bank_df, bank_queries_4[\"queries\"], bank_p_sketch, path_to_file=\"../results/accuracy/bank_4_p_sketch.csv\")"
   ]
  }
 ],
 "metadata": {
  "kernelspec": {
   "display_name": "Python 3",
   "language": "python",
   "name": "python3"
  },
  "language_info": {
   "codemirror_mode": {
    "name": "ipython",
    "version": 3
   },
   "file_extension": ".py",
   "mimetype": "text/x-python",
   "name": "python",
   "nbconvert_exporter": "python",
   "pygments_lexer": "ipython3",
   "version": "3.12.3"
  }
 },
 "nbformat": 4,
 "nbformat_minor": 5
}
