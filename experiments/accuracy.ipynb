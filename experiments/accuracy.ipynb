{
 "cells": [
  {
   "cell_type": "code",
   "execution_count": 2,
   "id": "fe74a474",
   "metadata": {},
   "outputs": [],
   "source": [
    "import sys\n",
    "# append the path of the parent directory\n",
    "sys.path.append(\"..\")"
   ]
  },
  {
   "cell_type": "code",
   "execution_count": 204,
   "id": "7f40a6e0",
   "metadata": {},
   "outputs": [],
   "source": [
    "import math\n",
    "import os\n",
    "import time\n",
    "\n",
    "\n",
    "import numpy as np\n",
    "np.set_printoptions(legacy='1.25')\n",
    "\n",
    "import matplotlib.pyplot as plt\n",
    "from matplotlib.patches import Rectangle\n",
    "import matplotlib.patches as patches\n",
    "\n",
    "import seaborn as sns\n",
    "import time\n",
    "import json\n",
    "import pandas as pd\n",
    "from ctypes import c_int32\n",
    "from itertools import product\n",
    "import copy\n",
    "\n",
    "\n",
    "from tqdm import tqdm\n",
    "\n",
    "from scipy.stats import pearsonr\n",
    "from importlib import reload\n",
    "\n",
    "import orjson\n",
    "import gzip\n",
    "\n",
    "from scipy.stats import entropy\n",
    "from pympler import asizeof\n",
    "\n",
    "from lib import sketches, visualization_utils, encoders, ploting, pacha_sketch\n",
    "reload(ploting)\n",
    "reload(sketches)\n",
    "reload(visualization_utils)\n",
    "reload(encoders)\n",
    "\n",
    "reload(pacha_sketch)\n",
    "\n",
    "from lib.sketches import BloomFilter, CountMinSketch, H3HashFunctions, HashFunctionFamily,\\\n",
    "      CountMinSketchHadamard, CountMinSketchLocalHashing, deterministic_hash, simple_deterministic_hash, \\\n",
    "      fast_hash_xx\n",
    "from lib.visualization_utils import visualize_badic_cover, plot_b_adic_cubes\n",
    "from lib.encoders import minimal_b_adic_cover, minimal_spatial_b_adic_cover, BAdicCube, BAdicRange, \\\n",
    "      minimal_b_adic_cover_array, downgrade_b_adic_range_indices\n",
    "from lib.pacha_sketch import PachaSketch, ADTree, BFParameters, CMParameters, \\\n",
    "      cartesian_product, get_n_updates, MaterializedCombinations\n",
    "\n",
    "from lib.ploting import set_style, plot_ylabel, plot_legend\n",
    "\n",
    "from lib import baselines\n",
    "reload(baselines)\n",
    "\n",
    "from lib.baselines import CentralDPServer, LDPServer, LDPEncoderGRR, filter_df, query_df, \\\n",
    "      infer_domains_and_ranges, translate_query_region, evaluate_queries, check_accruracy, \\\n",
    "      evaluate_queries_baselines, evaluate_equivalent_pacha_sketches, compute_relative_entropy\n",
    "\n",
    "# set_style()"
   ]
  },
  {
   "cell_type": "code",
   "execution_count": 168,
   "id": "a37beff9",
   "metadata": {},
   "outputs": [
    {
     "data": {
      "text/plain": [
       "1"
      ]
     },
     "execution_count": 168,
     "metadata": {},
     "output_type": "execute_result"
    }
   ],
   "source": [
    "(240 * 1024) // (150 * 1024)"
   ]
  },
  {
   "cell_type": "markdown",
   "id": "41f70ada",
   "metadata": {},
   "source": [
    "# Different Datasets"
   ]
  },
  {
   "cell_type": "markdown",
   "id": "ed935ed5",
   "metadata": {},
   "source": [
    "## Retail"
   ]
  },
  {
   "cell_type": "code",
   "execution_count": null,
   "id": "9663cdda",
   "metadata": {},
   "outputs": [],
   "source": [
    "retail_df = pd.read_parquet(\"../data/clean/online_retail.parquet\")\n",
    "query_path = \"../queries/retail/online_retail_random.json\"\n",
    "with open(query_path, 'rb') as f:\n",
    "    retail_queries_rand = orjson.loads(f.read())\n",
    "\n",
    "retail_ad_tree = ADTree.from_json(\"../sketches/ad_trees/online_retail.json\")"
   ]
  },
  {
   "cell_type": "code",
   "execution_count": null,
   "id": "e67dc46e",
   "metadata": {},
   "outputs": [],
   "source": [
    "retail_p_sketch = PachaSketch.from_json(\"../sketches/retail/retail_p0.01_eps0.0005.json\")"
   ]
  },
  {
   "cell_type": "code",
   "execution_count": 10,
   "id": "6ec85883",
   "metadata": {},
   "outputs": [
    {
     "name": "stdout",
     "output_type": "stream",
     "text": [
      "Computing true counts...\n"
     ]
    },
    {
     "name": "stderr",
     "output_type": "stream",
     "text": [
      "True Count: 100%|██████████| 500/500 [00:12<00:00, 39.89it/s]\n"
     ]
    },
    {
     "name": "stdout",
     "output_type": "stream",
     "text": [
      "Computing estimates...\n"
     ]
    },
    {
     "name": "stderr",
     "output_type": "stream",
     "text": [
      "Estimates: 100%|██████████| 500/500 [00:20<00:00, 24.79it/s]\n"
     ]
    }
   ],
   "source": [
    "retail_results_rand = evaluate_queries(retail_df, retail_queries_rand[\"queries\"], retail_p_sketch, path_to_file=\"../results/accuracy/retail_rand_p_sketch.csv\")"
   ]
  },
  {
   "cell_type": "code",
   "execution_count": 11,
   "id": "d2e7aa46",
   "metadata": {},
   "outputs": [
    {
     "data": {
      "text/html": [
       "<div>\n",
       "<style scoped>\n",
       "    .dataframe tbody tr th:only-of-type {\n",
       "        vertical-align: middle;\n",
       "    }\n",
       "\n",
       "    .dataframe tbody tr th {\n",
       "        vertical-align: top;\n",
       "    }\n",
       "\n",
       "    .dataframe thead th {\n",
       "        text-align: right;\n",
       "    }\n",
       "</style>\n",
       "<table border=\"1\" class=\"dataframe\">\n",
       "  <thead>\n",
       "    <tr style=\"text-align: right;\">\n",
       "      <th></th>\n",
       "      <th>absolute_error</th>\n",
       "      <th>normalized_error</th>\n",
       "      <th>relative_error</th>\n",
       "    </tr>\n",
       "  </thead>\n",
       "  <tbody>\n",
       "    <tr>\n",
       "      <th>count</th>\n",
       "      <td>500.000000</td>\n",
       "      <td>500.000000</td>\n",
       "      <td>500.000000</td>\n",
       "    </tr>\n",
       "    <tr>\n",
       "      <th>mean</th>\n",
       "      <td>250.244000</td>\n",
       "      <td>0.000462</td>\n",
       "      <td>0.087994</td>\n",
       "    </tr>\n",
       "    <tr>\n",
       "      <th>std</th>\n",
       "      <td>815.691799</td>\n",
       "      <td>0.001505</td>\n",
       "      <td>0.321107</td>\n",
       "    </tr>\n",
       "    <tr>\n",
       "      <th>min</th>\n",
       "      <td>0.000000</td>\n",
       "      <td>0.000000</td>\n",
       "      <td>0.000000</td>\n",
       "    </tr>\n",
       "    <tr>\n",
       "      <th>25%</th>\n",
       "      <td>0.000000</td>\n",
       "      <td>0.000000</td>\n",
       "      <td>0.000000</td>\n",
       "    </tr>\n",
       "    <tr>\n",
       "      <th>50%</th>\n",
       "      <td>1.000000</td>\n",
       "      <td>0.000002</td>\n",
       "      <td>0.000008</td>\n",
       "    </tr>\n",
       "    <tr>\n",
       "      <th>75%</th>\n",
       "      <td>56.000000</td>\n",
       "      <td>0.000103</td>\n",
       "      <td>0.024908</td>\n",
       "    </tr>\n",
       "    <tr>\n",
       "      <th>max</th>\n",
       "      <td>10015.000000</td>\n",
       "      <td>0.018481</td>\n",
       "      <td>5.000000</td>\n",
       "    </tr>\n",
       "  </tbody>\n",
       "</table>\n",
       "</div>"
      ],
      "text/plain": [
       "       absolute_error  normalized_error  relative_error\n",
       "count      500.000000        500.000000      500.000000\n",
       "mean       250.244000          0.000462        0.087994\n",
       "std        815.691799          0.001505        0.321107\n",
       "min          0.000000          0.000000        0.000000\n",
       "25%          0.000000          0.000000        0.000000\n",
       "50%          1.000000          0.000002        0.000008\n",
       "75%         56.000000          0.000103        0.024908\n",
       "max      10015.000000          0.018481        5.000000"
      ]
     },
     "execution_count": 11,
     "metadata": {},
     "output_type": "execute_result"
    }
   ],
   "source": [
    "retail_results_rand[['absolute_error', 'normalized_error', 'relative_error']].describe()"
   ]
  },
  {
   "cell_type": "markdown",
   "id": "d45e3dc8",
   "metadata": {},
   "source": [
    "## Bank"
   ]
  },
  {
   "cell_type": "code",
   "execution_count": 28,
   "id": "3a8386dc",
   "metadata": {},
   "outputs": [],
   "source": [
    "bank_df = pd.read_parquet(\"../data/clean/bank_marketing.parquet\")\n",
    "query_path = \"../queries/bank/bank_random.json\"\n",
    "with open(query_path, 'rb') as f:\n",
    "    bank_queries_rand = orjson.loads(f.read())\n",
    "\n",
    "query_path = \"../queries/bank_marketing_2_cols.json\"\n",
    "with open(query_path, 'rb') as f:\n",
    "    bank_queries_2_cols = orjson.loads(f.read())\n",
    "\n",
    "bank_ad_tree = ADTree.from_json(\"../sketches/ad_trees/bank_marketing.json\")"
   ]
  },
  {
   "cell_type": "code",
   "execution_count": 10,
   "id": "cfffb967",
   "metadata": {},
   "outputs": [],
   "source": [
    "bank_p_sketch = PachaSketch.from_json(\"../sketches/bank/bank_p0.01_eps0.0005.json\")"
   ]
  },
  {
   "cell_type": "code",
   "execution_count": 21,
   "id": "245a5263",
   "metadata": {},
   "outputs": [],
   "source": [
    "bank_p_sketch_big = PachaSketch.from_json(\"../sketches/bank/bank_p0.005_eps0.00025.json\")"
   ]
  },
  {
   "cell_type": "code",
   "execution_count": 15,
   "id": "348fa0ea",
   "metadata": {},
   "outputs": [
    {
     "name": "stdout",
     "output_type": "stream",
     "text": [
      "Computing true counts...\n"
     ]
    },
    {
     "name": "stderr",
     "output_type": "stream",
     "text": [
      "True Count: 100%|██████████| 500/500 [00:01<00:00, 444.71it/s]\n"
     ]
    },
    {
     "name": "stdout",
     "output_type": "stream",
     "text": [
      "Computing estimates...\n"
     ]
    },
    {
     "name": "stderr",
     "output_type": "stream",
     "text": [
      "Estimates: 100%|██████████| 500/500 [03:16<00:00,  2.54it/s]\n"
     ]
    }
   ],
   "source": [
    "bank_results_rand = evaluate_queries(bank_df, bank_queries_rand[\"queries\"], bank_p_sketch, path_to_file=\"../results/accuracy/bank_rand_p_sketch.csv\")"
   ]
  },
  {
   "cell_type": "code",
   "execution_count": 32,
   "id": "a1e607ea",
   "metadata": {},
   "outputs": [
    {
     "name": "stdout",
     "output_type": "stream",
     "text": [
      "Computing true counts...\n"
     ]
    },
    {
     "name": "stderr",
     "output_type": "stream",
     "text": [
      "True Count: 100%|██████████| 100/100 [00:00<00:00, 439.03it/s]\n"
     ]
    },
    {
     "name": "stdout",
     "output_type": "stream",
     "text": [
      "Computing estimates...\n"
     ]
    },
    {
     "name": "stderr",
     "output_type": "stream",
     "text": [
      "Estimates: 100%|██████████| 100/100 [00:00<00:00, 1312.35it/s]\n"
     ]
    }
   ],
   "source": [
    "bank_results_rand_big = evaluate_queries(bank_df, bank_queries_2_cols[\"queries\"][:100], bank_p_sketch)"
   ]
  },
  {
   "cell_type": "code",
   "execution_count": 33,
   "id": "0ee5d6cf",
   "metadata": {},
   "outputs": [
    {
     "data": {
      "text/html": [
       "<div>\n",
       "<style scoped>\n",
       "    .dataframe tbody tr th:only-of-type {\n",
       "        vertical-align: middle;\n",
       "    }\n",
       "\n",
       "    .dataframe tbody tr th {\n",
       "        vertical-align: top;\n",
       "    }\n",
       "\n",
       "    .dataframe thead th {\n",
       "        text-align: right;\n",
       "    }\n",
       "</style>\n",
       "<table border=\"1\" class=\"dataframe\">\n",
       "  <thead>\n",
       "    <tr style=\"text-align: right;\">\n",
       "      <th></th>\n",
       "      <th>absolute_error</th>\n",
       "      <th>normalized_error</th>\n",
       "      <th>relative_error</th>\n",
       "    </tr>\n",
       "  </thead>\n",
       "  <tbody>\n",
       "    <tr>\n",
       "      <th>count</th>\n",
       "      <td>100.000000</td>\n",
       "      <td>100.000000</td>\n",
       "      <td>100.0</td>\n",
       "    </tr>\n",
       "    <tr>\n",
       "      <th>mean</th>\n",
       "      <td>5127.600000</td>\n",
       "      <td>0.113415</td>\n",
       "      <td>1.0</td>\n",
       "    </tr>\n",
       "    <tr>\n",
       "      <th>std</th>\n",
       "      <td>3692.989036</td>\n",
       "      <td>0.081683</td>\n",
       "      <td>0.0</td>\n",
       "    </tr>\n",
       "    <tr>\n",
       "      <th>min</th>\n",
       "      <td>69.000000</td>\n",
       "      <td>0.001526</td>\n",
       "      <td>1.0</td>\n",
       "    </tr>\n",
       "    <tr>\n",
       "      <th>25%</th>\n",
       "      <td>1893.250000</td>\n",
       "      <td>0.041876</td>\n",
       "      <td>1.0</td>\n",
       "    </tr>\n",
       "    <tr>\n",
       "      <th>50%</th>\n",
       "      <td>4247.000000</td>\n",
       "      <td>0.093937</td>\n",
       "      <td>1.0</td>\n",
       "    </tr>\n",
       "    <tr>\n",
       "      <th>75%</th>\n",
       "      <td>8508.500000</td>\n",
       "      <td>0.188195</td>\n",
       "      <td>1.0</td>\n",
       "    </tr>\n",
       "    <tr>\n",
       "      <th>max</th>\n",
       "      <td>12833.000000</td>\n",
       "      <td>0.283847</td>\n",
       "      <td>1.0</td>\n",
       "    </tr>\n",
       "  </tbody>\n",
       "</table>\n",
       "</div>"
      ],
      "text/plain": [
       "       absolute_error  normalized_error  relative_error\n",
       "count      100.000000        100.000000           100.0\n",
       "mean      5127.600000          0.113415             1.0\n",
       "std       3692.989036          0.081683             0.0\n",
       "min         69.000000          0.001526             1.0\n",
       "25%       1893.250000          0.041876             1.0\n",
       "50%       4247.000000          0.093937             1.0\n",
       "75%       8508.500000          0.188195             1.0\n",
       "max      12833.000000          0.283847             1.0"
      ]
     },
     "execution_count": 33,
     "metadata": {},
     "output_type": "execute_result"
    }
   ],
   "source": [
    "bank_results_rand_big[['absolute_error', 'normalized_error', 'relative_error']].describe()"
   ]
  },
  {
   "cell_type": "code",
   "execution_count": 31,
   "id": "be9ff57f",
   "metadata": {},
   "outputs": [
    {
     "data": {
      "text/html": [
       "<div>\n",
       "<style scoped>\n",
       "    .dataframe tbody tr th:only-of-type {\n",
       "        vertical-align: middle;\n",
       "    }\n",
       "\n",
       "    .dataframe tbody tr th {\n",
       "        vertical-align: top;\n",
       "    }\n",
       "\n",
       "    .dataframe thead th {\n",
       "        text-align: right;\n",
       "    }\n",
       "</style>\n",
       "<table border=\"1\" class=\"dataframe\">\n",
       "  <thead>\n",
       "    <tr style=\"text-align: right;\">\n",
       "      <th></th>\n",
       "      <th>runtimes</th>\n",
       "      <th>true_counts</th>\n",
       "      <th>estimates</th>\n",
       "      <th>relevant_nodes</th>\n",
       "      <th>cat_regions</th>\n",
       "      <th>b_adic_cubes</th>\n",
       "      <th>num_regions</th>\n",
       "      <th>candidate_regions</th>\n",
       "      <th>query_regions</th>\n",
       "      <th>level_0_queries</th>\n",
       "      <th>level_1_queries</th>\n",
       "      <th>level_2_queries</th>\n",
       "      <th>level_3_queries</th>\n",
       "      <th>level_4_queries</th>\n",
       "      <th>level_5_queries</th>\n",
       "      <th>absolute_error</th>\n",
       "      <th>normalized_error</th>\n",
       "      <th>relative_error</th>\n",
       "      <th>total_sketch_queries</th>\n",
       "    </tr>\n",
       "  </thead>\n",
       "  <tbody>\n",
       "    <tr>\n",
       "      <th>0</th>\n",
       "      <td>0.001190</td>\n",
       "      <td>12241</td>\n",
       "      <td>0.0</td>\n",
       "      <td>1</td>\n",
       "      <td>1</td>\n",
       "      <td>11</td>\n",
       "      <td>0</td>\n",
       "      <td>0</td>\n",
       "      <td>0</td>\n",
       "      <td>0</td>\n",
       "      <td>0</td>\n",
       "      <td>0</td>\n",
       "      <td>0</td>\n",
       "      <td>0</td>\n",
       "      <td>0</td>\n",
       "      <td>12241.0</td>\n",
       "      <td>0.270753</td>\n",
       "      <td>1.0</td>\n",
       "      <td>12</td>\n",
       "    </tr>\n",
       "    <tr>\n",
       "      <th>1</th>\n",
       "      <td>0.000556</td>\n",
       "      <td>11344</td>\n",
       "      <td>0.0</td>\n",
       "      <td>1</td>\n",
       "      <td>1</td>\n",
       "      <td>7</td>\n",
       "      <td>0</td>\n",
       "      <td>0</td>\n",
       "      <td>0</td>\n",
       "      <td>0</td>\n",
       "      <td>0</td>\n",
       "      <td>0</td>\n",
       "      <td>0</td>\n",
       "      <td>0</td>\n",
       "      <td>0</td>\n",
       "      <td>11344.0</td>\n",
       "      <td>0.250912</td>\n",
       "      <td>1.0</td>\n",
       "      <td>8</td>\n",
       "    </tr>\n",
       "    <tr>\n",
       "      <th>2</th>\n",
       "      <td>0.000931</td>\n",
       "      <td>7620</td>\n",
       "      <td>0.0</td>\n",
       "      <td>48</td>\n",
       "      <td>48</td>\n",
       "      <td>7</td>\n",
       "      <td>0</td>\n",
       "      <td>0</td>\n",
       "      <td>0</td>\n",
       "      <td>0</td>\n",
       "      <td>0</td>\n",
       "      <td>0</td>\n",
       "      <td>0</td>\n",
       "      <td>0</td>\n",
       "      <td>0</td>\n",
       "      <td>7620.0</td>\n",
       "      <td>0.168543</td>\n",
       "      <td>1.0</td>\n",
       "      <td>55</td>\n",
       "    </tr>\n",
       "    <tr>\n",
       "      <th>3</th>\n",
       "      <td>0.002183</td>\n",
       "      <td>3001</td>\n",
       "      <td>0.0</td>\n",
       "      <td>192</td>\n",
       "      <td>178</td>\n",
       "      <td>19</td>\n",
       "      <td>0</td>\n",
       "      <td>0</td>\n",
       "      <td>0</td>\n",
       "      <td>0</td>\n",
       "      <td>0</td>\n",
       "      <td>0</td>\n",
       "      <td>0</td>\n",
       "      <td>0</td>\n",
       "      <td>0</td>\n",
       "      <td>3001.0</td>\n",
       "      <td>0.066378</td>\n",
       "      <td>1.0</td>\n",
       "      <td>211</td>\n",
       "    </tr>\n",
       "    <tr>\n",
       "      <th>4</th>\n",
       "      <td>0.001035</td>\n",
       "      <td>10344</td>\n",
       "      <td>0.0</td>\n",
       "      <td>1</td>\n",
       "      <td>1</td>\n",
       "      <td>15</td>\n",
       "      <td>0</td>\n",
       "      <td>0</td>\n",
       "      <td>0</td>\n",
       "      <td>0</td>\n",
       "      <td>0</td>\n",
       "      <td>0</td>\n",
       "      <td>0</td>\n",
       "      <td>0</td>\n",
       "      <td>0</td>\n",
       "      <td>10344.0</td>\n",
       "      <td>0.228794</td>\n",
       "      <td>1.0</td>\n",
       "      <td>16</td>\n",
       "    </tr>\n",
       "    <tr>\n",
       "      <th>...</th>\n",
       "      <td>...</td>\n",
       "      <td>...</td>\n",
       "      <td>...</td>\n",
       "      <td>...</td>\n",
       "      <td>...</td>\n",
       "      <td>...</td>\n",
       "      <td>...</td>\n",
       "      <td>...</td>\n",
       "      <td>...</td>\n",
       "      <td>...</td>\n",
       "      <td>...</td>\n",
       "      <td>...</td>\n",
       "      <td>...</td>\n",
       "      <td>...</td>\n",
       "      <td>...</td>\n",
       "      <td>...</td>\n",
       "      <td>...</td>\n",
       "      <td>...</td>\n",
       "      <td>...</td>\n",
       "    </tr>\n",
       "    <tr>\n",
       "      <th>95</th>\n",
       "      <td>0.000815</td>\n",
       "      <td>6418</td>\n",
       "      <td>0.0</td>\n",
       "      <td>1</td>\n",
       "      <td>1</td>\n",
       "      <td>16</td>\n",
       "      <td>0</td>\n",
       "      <td>0</td>\n",
       "      <td>0</td>\n",
       "      <td>0</td>\n",
       "      <td>0</td>\n",
       "      <td>0</td>\n",
       "      <td>0</td>\n",
       "      <td>0</td>\n",
       "      <td>0</td>\n",
       "      <td>6418.0</td>\n",
       "      <td>0.141957</td>\n",
       "      <td>1.0</td>\n",
       "      <td>17</td>\n",
       "    </tr>\n",
       "    <tr>\n",
       "      <th>96</th>\n",
       "      <td>0.000468</td>\n",
       "      <td>1675</td>\n",
       "      <td>0.0</td>\n",
       "      <td>4</td>\n",
       "      <td>4</td>\n",
       "      <td>4</td>\n",
       "      <td>0</td>\n",
       "      <td>0</td>\n",
       "      <td>0</td>\n",
       "      <td>0</td>\n",
       "      <td>0</td>\n",
       "      <td>0</td>\n",
       "      <td>0</td>\n",
       "      <td>0</td>\n",
       "      <td>0</td>\n",
       "      <td>1675.0</td>\n",
       "      <td>0.037049</td>\n",
       "      <td>1.0</td>\n",
       "      <td>8</td>\n",
       "    </tr>\n",
       "    <tr>\n",
       "      <th>97</th>\n",
       "      <td>0.001096</td>\n",
       "      <td>8602</td>\n",
       "      <td>0.0</td>\n",
       "      <td>1</td>\n",
       "      <td>1</td>\n",
       "      <td>7</td>\n",
       "      <td>0</td>\n",
       "      <td>0</td>\n",
       "      <td>0</td>\n",
       "      <td>0</td>\n",
       "      <td>0</td>\n",
       "      <td>0</td>\n",
       "      <td>0</td>\n",
       "      <td>0</td>\n",
       "      <td>0</td>\n",
       "      <td>8602.0</td>\n",
       "      <td>0.190263</td>\n",
       "      <td>1.0</td>\n",
       "      <td>8</td>\n",
       "    </tr>\n",
       "    <tr>\n",
       "      <th>98</th>\n",
       "      <td>0.000599</td>\n",
       "      <td>1043</td>\n",
       "      <td>0.0</td>\n",
       "      <td>4</td>\n",
       "      <td>4</td>\n",
       "      <td>10</td>\n",
       "      <td>0</td>\n",
       "      <td>0</td>\n",
       "      <td>0</td>\n",
       "      <td>0</td>\n",
       "      <td>0</td>\n",
       "      <td>0</td>\n",
       "      <td>0</td>\n",
       "      <td>0</td>\n",
       "      <td>0</td>\n",
       "      <td>1043.0</td>\n",
       "      <td>0.023070</td>\n",
       "      <td>1.0</td>\n",
       "      <td>14</td>\n",
       "    </tr>\n",
       "    <tr>\n",
       "      <th>99</th>\n",
       "      <td>0.000492</td>\n",
       "      <td>2684</td>\n",
       "      <td>0.0</td>\n",
       "      <td>4</td>\n",
       "      <td>4</td>\n",
       "      <td>7</td>\n",
       "      <td>0</td>\n",
       "      <td>0</td>\n",
       "      <td>0</td>\n",
       "      <td>0</td>\n",
       "      <td>0</td>\n",
       "      <td>0</td>\n",
       "      <td>0</td>\n",
       "      <td>0</td>\n",
       "      <td>0</td>\n",
       "      <td>2684.0</td>\n",
       "      <td>0.059366</td>\n",
       "      <td>1.0</td>\n",
       "      <td>11</td>\n",
       "    </tr>\n",
       "  </tbody>\n",
       "</table>\n",
       "<p>100 rows × 19 columns</p>\n",
       "</div>"
      ],
      "text/plain": [
       "    runtimes  true_counts  estimates  relevant_nodes  cat_regions  \\\n",
       "0   0.001190        12241        0.0               1            1   \n",
       "1   0.000556        11344        0.0               1            1   \n",
       "2   0.000931         7620        0.0              48           48   \n",
       "3   0.002183         3001        0.0             192          178   \n",
       "4   0.001035        10344        0.0               1            1   \n",
       "..       ...          ...        ...             ...          ...   \n",
       "95  0.000815         6418        0.0               1            1   \n",
       "96  0.000468         1675        0.0               4            4   \n",
       "97  0.001096         8602        0.0               1            1   \n",
       "98  0.000599         1043        0.0               4            4   \n",
       "99  0.000492         2684        0.0               4            4   \n",
       "\n",
       "    b_adic_cubes  num_regions  candidate_regions  query_regions  \\\n",
       "0             11            0                  0              0   \n",
       "1              7            0                  0              0   \n",
       "2              7            0                  0              0   \n",
       "3             19            0                  0              0   \n",
       "4             15            0                  0              0   \n",
       "..           ...          ...                ...            ...   \n",
       "95            16            0                  0              0   \n",
       "96             4            0                  0              0   \n",
       "97             7            0                  0              0   \n",
       "98            10            0                  0              0   \n",
       "99             7            0                  0              0   \n",
       "\n",
       "    level_0_queries  level_1_queries  level_2_queries  level_3_queries  \\\n",
       "0                 0                0                0                0   \n",
       "1                 0                0                0                0   \n",
       "2                 0                0                0                0   \n",
       "3                 0                0                0                0   \n",
       "4                 0                0                0                0   \n",
       "..              ...              ...              ...              ...   \n",
       "95                0                0                0                0   \n",
       "96                0                0                0                0   \n",
       "97                0                0                0                0   \n",
       "98                0                0                0                0   \n",
       "99                0                0                0                0   \n",
       "\n",
       "    level_4_queries  level_5_queries  absolute_error  normalized_error  \\\n",
       "0                 0                0         12241.0          0.270753   \n",
       "1                 0                0         11344.0          0.250912   \n",
       "2                 0                0          7620.0          0.168543   \n",
       "3                 0                0          3001.0          0.066378   \n",
       "4                 0                0         10344.0          0.228794   \n",
       "..              ...              ...             ...               ...   \n",
       "95                0                0          6418.0          0.141957   \n",
       "96                0                0          1675.0          0.037049   \n",
       "97                0                0          8602.0          0.190263   \n",
       "98                0                0          1043.0          0.023070   \n",
       "99                0                0          2684.0          0.059366   \n",
       "\n",
       "    relative_error  total_sketch_queries  \n",
       "0              1.0                    12  \n",
       "1              1.0                     8  \n",
       "2              1.0                    55  \n",
       "3              1.0                   211  \n",
       "4              1.0                    16  \n",
       "..             ...                   ...  \n",
       "95             1.0                    17  \n",
       "96             1.0                     8  \n",
       "97             1.0                     8  \n",
       "98             1.0                    14  \n",
       "99             1.0                    11  \n",
       "\n",
       "[100 rows x 19 columns]"
      ]
     },
     "execution_count": 31,
     "metadata": {},
     "output_type": "execute_result"
    }
   ],
   "source": [
    "bank_results_rand_big"
   ]
  },
  {
   "cell_type": "code",
   "execution_count": 16,
   "id": "2a66e5dd",
   "metadata": {},
   "outputs": [
    {
     "data": {
      "text/html": [
       "<div>\n",
       "<style scoped>\n",
       "    .dataframe tbody tr th:only-of-type {\n",
       "        vertical-align: middle;\n",
       "    }\n",
       "\n",
       "    .dataframe tbody tr th {\n",
       "        vertical-align: top;\n",
       "    }\n",
       "\n",
       "    .dataframe thead th {\n",
       "        text-align: right;\n",
       "    }\n",
       "</style>\n",
       "<table border=\"1\" class=\"dataframe\">\n",
       "  <thead>\n",
       "    <tr style=\"text-align: right;\">\n",
       "      <th></th>\n",
       "      <th>absolute_error</th>\n",
       "      <th>normalized_error</th>\n",
       "      <th>relative_error</th>\n",
       "    </tr>\n",
       "  </thead>\n",
       "  <tbody>\n",
       "    <tr>\n",
       "      <th>count</th>\n",
       "      <td>500.000000</td>\n",
       "      <td>500.000000</td>\n",
       "      <td>500.000000</td>\n",
       "    </tr>\n",
       "    <tr>\n",
       "      <th>mean</th>\n",
       "      <td>1657.958000</td>\n",
       "      <td>0.036672</td>\n",
       "      <td>0.549317</td>\n",
       "    </tr>\n",
       "    <tr>\n",
       "      <th>std</th>\n",
       "      <td>3611.460402</td>\n",
       "      <td>0.079880</td>\n",
       "      <td>0.469477</td>\n",
       "    </tr>\n",
       "    <tr>\n",
       "      <th>min</th>\n",
       "      <td>0.000000</td>\n",
       "      <td>0.000000</td>\n",
       "      <td>0.000000</td>\n",
       "    </tr>\n",
       "    <tr>\n",
       "      <th>25%</th>\n",
       "      <td>0.000000</td>\n",
       "      <td>0.000000</td>\n",
       "      <td>0.000000</td>\n",
       "    </tr>\n",
       "    <tr>\n",
       "      <th>50%</th>\n",
       "      <td>42.500000</td>\n",
       "      <td>0.000940</td>\n",
       "      <td>0.893872</td>\n",
       "    </tr>\n",
       "    <tr>\n",
       "      <th>75%</th>\n",
       "      <td>686.000000</td>\n",
       "      <td>0.015173</td>\n",
       "      <td>1.000000</td>\n",
       "    </tr>\n",
       "    <tr>\n",
       "      <th>max</th>\n",
       "      <td>15747.000000</td>\n",
       "      <td>0.348300</td>\n",
       "      <td>1.000000</td>\n",
       "    </tr>\n",
       "  </tbody>\n",
       "</table>\n",
       "</div>"
      ],
      "text/plain": [
       "       absolute_error  normalized_error  relative_error\n",
       "count      500.000000        500.000000      500.000000\n",
       "mean      1657.958000          0.036672        0.549317\n",
       "std       3611.460402          0.079880        0.469477\n",
       "min          0.000000          0.000000        0.000000\n",
       "25%          0.000000          0.000000        0.000000\n",
       "50%         42.500000          0.000940        0.893872\n",
       "75%        686.000000          0.015173        1.000000\n",
       "max      15747.000000          0.348300        1.000000"
      ]
     },
     "execution_count": 16,
     "metadata": {},
     "output_type": "execute_result"
    }
   ],
   "source": [
    "bank_results_rand[['absolute_error', 'normalized_error', 'relative_error']].describe()"
   ]
  },
  {
   "cell_type": "code",
   "execution_count": 20,
   "id": "f66b2dec",
   "metadata": {},
   "outputs": [
    {
     "data": {
      "text/plain": [
       "3.4211743207243894"
      ]
     },
     "execution_count": 20,
     "metadata": {},
     "output_type": "execute_result"
    }
   ],
   "source": [
    "compute_relative_entropy(bank_results_rand)"
   ]
  },
  {
   "cell_type": "markdown",
   "id": "e9abe000",
   "metadata": {},
   "source": [
    "## Census"
   ]
  },
  {
   "cell_type": "code",
   "execution_count": 34,
   "id": "5bda1307",
   "metadata": {},
   "outputs": [],
   "source": [
    "census_df = pd.read_parquet(\"../data/clean/acs_folktables.parquet\")\n",
    "query_path = \"../queries/census/census_random.json\"\n",
    "with open(query_path, 'rb') as f:\n",
    "    census_queries_rand = orjson.loads(f.read())\n",
    "census_ad_tree = ADTree.from_json(\"../sketches/ad_trees/acs_folktables.json\")"
   ]
  },
  {
   "cell_type": "code",
   "execution_count": 35,
   "id": "35302b25",
   "metadata": {},
   "outputs": [],
   "source": [
    "census_p_sketch = PachaSketch.from_json(\"../sketches/census/census_p0.01_eps0.0005.json\")"
   ]
  },
  {
   "cell_type": "code",
   "execution_count": 40,
   "id": "911fce2a",
   "metadata": {},
   "outputs": [
    {
     "name": "stdout",
     "output_type": "stream",
     "text": [
      "Computing true counts...\n"
     ]
    },
    {
     "name": "stderr",
     "output_type": "stream",
     "text": [
      "True Count: 100%|██████████| 500/500 [00:07<00:00, 71.26it/s]\n"
     ]
    },
    {
     "name": "stdout",
     "output_type": "stream",
     "text": [
      "Computing estimates...\n"
     ]
    },
    {
     "name": "stderr",
     "output_type": "stream",
     "text": [
      "Estimates: 100%|██████████| 500/500 [03:37<00:00,  2.30it/s]\n"
     ]
    }
   ],
   "source": [
    "census_results_rand = evaluate_queries(census_df, census_queries_rand[\"queries\"], census_p_sketch, path_to_file=\"../results/accuracy/census_rand_p_sketch.csv\")"
   ]
  },
  {
   "cell_type": "code",
   "execution_count": 41,
   "id": "2e01b37f",
   "metadata": {},
   "outputs": [
    {
     "data": {
      "text/html": [
       "<div>\n",
       "<style scoped>\n",
       "    .dataframe tbody tr th:only-of-type {\n",
       "        vertical-align: middle;\n",
       "    }\n",
       "\n",
       "    .dataframe tbody tr th {\n",
       "        vertical-align: top;\n",
       "    }\n",
       "\n",
       "    .dataframe thead th {\n",
       "        text-align: right;\n",
       "    }\n",
       "</style>\n",
       "<table border=\"1\" class=\"dataframe\">\n",
       "  <thead>\n",
       "    <tr style=\"text-align: right;\">\n",
       "      <th></th>\n",
       "      <th>absolute_error</th>\n",
       "      <th>normalized_error</th>\n",
       "      <th>relative_error</th>\n",
       "    </tr>\n",
       "  </thead>\n",
       "  <tbody>\n",
       "    <tr>\n",
       "      <th>count</th>\n",
       "      <td>500.000000</td>\n",
       "      <td>500.000000</td>\n",
       "      <td>500.000000</td>\n",
       "    </tr>\n",
       "    <tr>\n",
       "      <th>mean</th>\n",
       "      <td>5719.480000</td>\n",
       "      <td>0.015148</td>\n",
       "      <td>0.362624</td>\n",
       "    </tr>\n",
       "    <tr>\n",
       "      <th>std</th>\n",
       "      <td>15185.343836</td>\n",
       "      <td>0.040218</td>\n",
       "      <td>0.482742</td>\n",
       "    </tr>\n",
       "    <tr>\n",
       "      <th>min</th>\n",
       "      <td>0.000000</td>\n",
       "      <td>0.000000</td>\n",
       "      <td>0.000000</td>\n",
       "    </tr>\n",
       "    <tr>\n",
       "      <th>25%</th>\n",
       "      <td>8.000000</td>\n",
       "      <td>0.000021</td>\n",
       "      <td>0.000204</td>\n",
       "    </tr>\n",
       "    <tr>\n",
       "      <th>50%</th>\n",
       "      <td>105.000000</td>\n",
       "      <td>0.000278</td>\n",
       "      <td>0.041487</td>\n",
       "    </tr>\n",
       "    <tr>\n",
       "      <th>75%</th>\n",
       "      <td>2955.250000</td>\n",
       "      <td>0.007827</td>\n",
       "      <td>0.716415</td>\n",
       "    </tr>\n",
       "    <tr>\n",
       "      <th>max</th>\n",
       "      <td>104146.000000</td>\n",
       "      <td>0.275829</td>\n",
       "      <td>3.600000</td>\n",
       "    </tr>\n",
       "  </tbody>\n",
       "</table>\n",
       "</div>"
      ],
      "text/plain": [
       "       absolute_error  normalized_error  relative_error\n",
       "count      500.000000        500.000000      500.000000\n",
       "mean      5719.480000          0.015148        0.362624\n",
       "std      15185.343836          0.040218        0.482742\n",
       "min          0.000000          0.000000        0.000000\n",
       "25%          8.000000          0.000021        0.000204\n",
       "50%        105.000000          0.000278        0.041487\n",
       "75%       2955.250000          0.007827        0.716415\n",
       "max     104146.000000          0.275829        3.600000"
      ]
     },
     "execution_count": 41,
     "metadata": {},
     "output_type": "execute_result"
    }
   ],
   "source": [
    "census_results_rand[['absolute_error', 'normalized_error', 'relative_error']].describe()"
   ]
  },
  {
   "cell_type": "code",
   "execution_count": 43,
   "id": "54b899ef",
   "metadata": {},
   "outputs": [
    {
     "data": {
      "text/plain": [
       "0.29667248160203175"
      ]
     },
     "execution_count": 43,
     "metadata": {},
     "output_type": "execute_result"
    }
   ],
   "source": [
    "compute_relative_entropy(census_results_rand)"
   ]
  },
  {
   "cell_type": "code",
   "execution_count": 44,
   "id": "62f101d3",
   "metadata": {},
   "outputs": [],
   "source": [
    "def plot_normalized_error_boxplot(dfs, palette=None):\n",
    "    # Add 'approach' column if missing (assumes each df has a unique approach)\n",
    "    for df in dfs:\n",
    "        if 'approach' not in df.columns:\n",
    "            raise ValueError(\"Each DataFrame must have an 'approach' column.\")\n",
    "\n",
    "    combined_df = pd.concat(dfs, ignore_index=True)\n",
    "    plt.figure(figsize=(8, 6))\n",
    "    sns.boxplot(x='approach', y='normalized_error', hue='approach', data=combined_df, palette=palette)\n",
    "    plt.xlabel('Approach')\n",
    "    plt.ylabel('Normalized Error')\n",
    "    plt.title('Comparison of Normalized Error by Approach')\n",
    "    plt.grid(True)\n",
    "    plt.tight_layout()\n",
    "    plt.yscale('log')\n",
    "    plt.xticks(rotation=-45)\n",
    "    plt.show()\n"
   ]
  },
  {
   "cell_type": "code",
   "execution_count": 46,
   "id": "abe6055f",
   "metadata": {},
   "outputs": [],
   "source": [
    "retail_results_rand = pd.read_csv(\"../results/accuracy/retail_rand_p_sketch.csv\")"
   ]
  },
  {
   "cell_type": "code",
   "execution_count": 47,
   "id": "a5cbd8a4",
   "metadata": {},
   "outputs": [
    {
     "data": {
      "image/png": "[encoded data removed]",
      "text/plain": [
       "<Figure size 576x432 with 1 Axes>"
      ]
     },
     "metadata": {
      "needs_background": "light"
     },
     "output_type": "display_data"
    }
   ],
   "source": [
    "retail_results_rand['approach'] = 'Online Retail - 6 dimensions'\n",
    "census_results_rand['approach'] = 'Census - 11 dimensions'\n",
    "\n",
    "plot_normalized_error_boxplot([retail_results_rand, census_results_rand])"
   ]
  },
  {
   "cell_type": "code",
   "execution_count": 49,
   "id": "9d6a2c93",
   "metadata": {},
   "outputs": [
    {
     "data": {
      "text/plain": [
       "384.5103816986084"
      ]
     },
     "execution_count": 49,
     "metadata": {},
     "output_type": "execute_result"
    }
   ],
   "source": [
    "census_p_sketch.get_size()"
   ]
  },
  {
   "cell_type": "code",
   "execution_count": null,
   "id": "78a837ea",
   "metadata": {},
   "outputs": [
    {
     "name": "stdout",
     "output_type": "stream",
     "text": [
      "Total size of census_p_sketch: 1792.0141830444336 MB\n"
     ]
    }
   ],
   "source": [
    "\n",
    "\n",
    "total_size = asizeof.asizeof(census_p_sketch)\n",
    "\n",
    "print(f\"Total size of census_p_sketch: {total_size / 1024/1024} MB\")"
   ]
  },
  {
   "cell_type": "code",
   "execution_count": 53,
   "id": "c8636b56",
   "metadata": {},
   "outputs": [
    {
     "data": {
      "text/plain": [
       "148.41115188598633"
      ]
     },
     "execution_count": 53,
     "metadata": {},
     "output_type": "execute_result"
    }
   ],
   "source": [
    "census_p_sketch.region_index.get_size()"
   ]
  },
  {
   "cell_type": "code",
   "execution_count": 54,
   "id": "dd2c1bd6",
   "metadata": {},
   "outputs": [
    {
     "data": {
      "text/plain": [
       "1187.2909927368164"
      ]
     },
     "execution_count": 54,
     "metadata": {},
     "output_type": "execute_result"
    }
   ],
   "source": [
    "asizeof.asizeof(census_p_sketch.region_index)/ 1024/1024"
   ]
  },
  {
   "cell_type": "markdown",
   "id": "fe1f99f0",
   "metadata": {},
   "source": [
    "## Lineitem"
   ]
  },
  {
   "cell_type": "code",
   "execution_count": 7,
   "id": "10e6fc79",
   "metadata": {},
   "outputs": [],
   "source": [
    "cat_cols = ['c_shipmode', 'c_returnflag', 'c_linestatus', 'c_discount', 'c_tax']\n",
    "num_cols = ['n_shipdate', 'n_commitdate', 'n_receiptdate', \n",
    "            'n_extendedprice', 'n_quantity']"
   ]
  },
  {
   "cell_type": "code",
   "execution_count": 8,
   "id": "e563fa59",
   "metadata": {},
   "outputs": [],
   "source": [
    "def get_n_updates_customized(ad_tree_levels, num_combinations, levels, debug=False):\n",
    "    cat_index = ad_tree_levels\n",
    "    num_index = num_combinations * levels + 1\n",
    "    region_index = cat_index * num_index \n",
    "    base_sketches = region_index\n",
    "    total = cat_index + num_index + region_index + base_sketches\n",
    "    if debug:\n",
    "        print(\"Nr. of updates in Pacha Sketch:\")\n",
    "        print(f\"cat_index: {cat_index}\")\n",
    "        print(f\"num_index: {num_index}\")   \n",
    "        print(f\"region_index: {region_index}\")\n",
    "        print(f\"base_sketches: {base_sketches}\")\n",
    "        print(f\"Total: {total}\")\n",
    "\n",
    "    return cat_index, num_index, region_index"
   ]
  },
  {
   "cell_type": "code",
   "execution_count": 213,
   "id": "76fc6172",
   "metadata": {},
   "outputs": [
    {
     "ename": "",
     "evalue": "",
     "output_type": "error",
     "traceback": [
      "\u001b[1;31mThe Kernel crashed while executing code in the current cell or a previous cell. \n",
      "\u001b[1;31mPlease review the code in the cell(s) to identify a possible cause of the failure. \n",
      "\u001b[1;31mClick <a href='https://aka.ms/vscodeJupyterKernelCrash'>here</a> for more info. \n",
      "\u001b[1;31mView Jupyter <a href='command:jupyter.viewOutput'>log</a> for further details."
     ]
    }
   ],
   "source": [
    "reload(pacha_sketch)\n",
    "reload(sketches)\n",
    "from lib.pacha_sketch import PachaSketch, ADTree\n",
    "\n",
    "rel_eps = 0.0005\n",
    "levels = 5\n",
    "delta = 0.01\n",
    "bloom_p = 0.01\n",
    "\n",
    "cat_col_map_tpch = [0, 1, 2, 3, 4]\n",
    "n_cat_tpch = len(cat_col_map_tpch)\n",
    "num_col_map_tpch = [5, 6, 7, 8, 9]\n",
    "n_num_tpch = len(num_col_map_tpch)\n",
    "bases_tpch = [5,5,5,10,2]\n",
    "\n",
    "ad_tree_levels = len(cat_cols)\n",
    "num_combinations = 13\n",
    "cat_updates_tpch, num_updates_tpch, region_updates_tpch = get_n_updates_customized(ad_tree_levels, num_combinations, levels)\n",
    "\n",
    "lineitem_df = pd.read_parquet(\"../data/tpch/lineitem_8.parquet\")\n",
    "len_df = len(lineitem_df)\n",
    "# len_df = 5_000\n",
    "tpch_ad_tree = ADTree.from_json(\"../sketches/ad_trees/tpch_lineitem.json\")\n",
    "\n",
    "error_eps = rel_eps / region_updates_tpch\n",
    "tpch_p_sketch = PachaSketch.build_with_uniform_size(\n",
    "    levels=levels,\n",
    "    num_dimensions=n_cat_tpch + n_num_tpch,\n",
    "    cat_col_map=cat_col_map_tpch,\n",
    "    num_col_map=num_col_map_tpch,\n",
    "    bases=bases_tpch,\n",
    "    ad_tree=tpch_ad_tree,\n",
    "    cm_params=CMParameters(delta=delta, error_eps=error_eps),\n",
    "    cat_index_parameters=BFParameters(n_values=len_df * cat_updates_tpch, p=bloom_p),\n",
    "    num_index_parameters=BFParameters(n_values=len_df * num_updates_tpch, p=bloom_p),\n",
    "    region_index_parameters=BFParameters(n_values=len_df * region_updates_tpch, p=bloom_p))\n",
    "\n",
    "col_names = ['n_shipdate', 'n_commitdate', 'n_receiptdate', 'n_extendedprice', 'n_quantity']\n",
    "relevant_combinations = [\n",
    "    ['n_shipdate'],\n",
    "    ['n_commitdate'],\n",
    "    ['n_receiptdate'],\n",
    "    ['n_extendedprice'],\n",
    "    ['n_quantity'],\n",
    "    \n",
    "    ['n_shipdate', 'n_commitdate'],\n",
    "    ['n_shipdate', 'n_receiptdate'],\n",
    "    ['n_shipdate', 'n_quantity'],\n",
    "    ['n_commitdate', 'n_receiptdate'],\n",
    "    ['n_commitdate', 'n_extendedprice'],\n",
    "    ['n_extendedprice', 'n_quantity'],\n",
    "    \n",
    "    ['n_commitdate', 'n_receiptdate', 'n_extendedprice'],\n",
    "    \n",
    "    ['n_shipdate', 'n_commitdate', 'n_receiptdate', 'n_extendedprice', 'n_quantity']\n",
    "    ]\n",
    "\n",
    "mat_combinations = MaterializedCombinations(col_names=col_names, relevant_combinations=relevant_combinations)\n",
    "tpch_p_sketch.materialized = mat_combinations"
   ]
  },
  {
   "cell_type": "code",
   "execution_count": 210,
   "id": "e7b2311b",
   "metadata": {},
   "outputs": [
    {
     "name": "stdout",
     "output_type": "stream",
     "text": [
      "Nr. of updates in Pacha Sketch:\n",
      "cat_index: 5\n",
      "num_index: 66\n",
      "region_index: 330\n",
      "base_sketches: 330\n",
      "Total: 731\n"
     ]
    }
   ],
   "source": [
    "cat_updates_tpch, num_updates_tpch, region_updates_tpch = get_n_updates_customized(ad_tree_levels, num_combinations, levels, debug=True)"
   ]
  },
  {
   "cell_type": "code",
   "execution_count": 211,
   "id": "43cd77ea",
   "metadata": {},
   "outputs": [
    {
     "data": {
      "text/plain": [
       "365500"
      ]
     },
     "execution_count": 211,
     "metadata": {},
     "output_type": "execute_result"
    }
   ],
   "source": [
    "731 * 500"
   ]
  },
  {
   "cell_type": "code",
   "execution_count": 196,
   "id": "24b434ff",
   "metadata": {},
   "outputs": [
    {
     "name": "stdout",
     "output_type": "stream",
     "text": [
      "Theoretical size: 173.48909664154053\n",
      "Total size of tpch_p_sketch: 361.36195373535156 MB\n"
     ]
    }
   ],
   "source": [
    "tpch_p_sketch.get_size()\n",
    "print(f\"Theoretical size: {tpch_p_sketch.get_size()}\")\n",
    "total_size = asizeof.asizeof(tpch_p_sketch)\n",
    "print(f\"Total size of tpch_p_sketch: {total_size / 1024/1024} MB\")"
   ]
  },
  {
   "cell_type": "code",
   "execution_count": 162,
   "id": "d74e05e5",
   "metadata": {},
   "outputs": [],
   "source": [
    "query_path = \"../queries/tpch/tpch_random.json\"\n",
    "with open(query_path, 'rb') as f:\n",
    "    tpch_queries_rand = orjson.loads(f.read())"
   ]
  },
  {
   "cell_type": "code",
   "execution_count": 198,
   "id": "bd710a4b",
   "metadata": {},
   "outputs": [],
   "source": [
    "short_lineitem_df = lineitem_df.head(5_000)"
   ]
  },
  {
   "cell_type": "code",
   "execution_count": 184,
   "id": "a8089835",
   "metadata": {},
   "outputs": [
    {
     "data": {
      "text/plain": [
       "47994736"
      ]
     },
     "execution_count": 184,
     "metadata": {},
     "output_type": "execute_result"
    }
   ],
   "source": [
    "len(lineitem_df)*16"
   ]
  },
  {
   "cell_type": "code",
   "execution_count": 187,
   "id": "d9154ed2",
   "metadata": {},
   "outputs": [
    {
     "data": {
      "text/plain": [
       "(2299887168, 7)"
      ]
     },
     "execution_count": 187,
     "metadata": {},
     "output_type": "execute_result"
    }
   ],
   "source": [
    "len_df = 47_989_007\n",
    "BFParameters(n_values=len_df * cat_updates_tpch, p=bloom_p).peek_size()"
   ]
  },
  {
   "cell_type": "code",
   "execution_count": 1,
   "id": "fe127ec5",
   "metadata": {},
   "outputs": [
    {
     "data": {
      "text/plain": [
       "7.405710956790123"
      ]
     },
     "execution_count": 1,
     "metadata": {},
     "output_type": "execute_result"
    }
   ],
   "source": [
    "(47_989_007 /4 / 450)/ 60/60"
   ]
  },
  {
   "cell_type": "code",
   "execution_count": 175,
   "id": "19ef693f",
   "metadata": {},
   "outputs": [
    {
     "data": {
      "text/plain": [
       "9.25825925925926"
      ]
     },
     "execution_count": 175,
     "metadata": {},
     "output_type": "execute_result"
    }
   ],
   "source": [
    "(249973 / 450 )/ 60"
   ]
  },
  {
   "cell_type": "code",
   "execution_count": 205,
   "id": "1dde98dc",
   "metadata": {},
   "outputs": [
    {
     "name": "stderr",
     "output_type": "stream",
     "text": [
      "Updating: 100%|██████████| 5000/5000 [00:17<00:00, 277.91it/s]\n"
     ]
    },
    {
     "data": {
      "text/plain": [
       "<lib.pacha_sketch.PachaSketch at 0x70da30685c70>"
      ]
     },
     "execution_count": 205,
     "metadata": {},
     "output_type": "execute_result"
    }
   ],
   "source": [
    "tpch_p_sketch.update_data_frame(short_lineitem_df)"
   ]
  },
  {
   "cell_type": "code",
   "execution_count": 206,
   "id": "b8d892c1",
   "metadata": {},
   "outputs": [
    {
     "name": "stdout",
     "output_type": "stream",
     "text": [
      "Computing true counts...\n"
     ]
    },
    {
     "name": "stderr",
     "output_type": "stream",
     "text": [
      "True Count: 100%|██████████| 100/100 [00:00<00:00, 748.35it/s]\n"
     ]
    },
    {
     "name": "stdout",
     "output_type": "stream",
     "text": [
      "Computing estimates...\n"
     ]
    },
    {
     "name": "stderr",
     "output_type": "stream",
     "text": [
      "Estimates: 100%|██████████| 100/100 [00:02<00:00, 40.84it/s]\n"
     ]
    }
   ],
   "source": [
    "results = evaluate_queries(short_lineitem_df, tpch_queries_rand['queries'], tpch_p_sketch)"
   ]
  },
  {
   "cell_type": "code",
   "execution_count": 167,
   "id": "58287ae7",
   "metadata": {},
   "outputs": [
    {
     "data": {
      "text/plain": [
       "['*', ['A'], '*', '*', '*', '*', [743, 1343], '*', [34881, 52436], '*']"
      ]
     },
     "execution_count": 167,
     "metadata": {},
     "output_type": "execute_result"
    }
   ],
   "source": [
    "tpch_queries_rand['queries'][15]"
   ]
  },
  {
   "cell_type": "code",
   "execution_count": 208,
   "id": "6ecf4702",
   "metadata": {},
   "outputs": [
    {
     "data": {
      "text/html": [
       "<div>\n",
       "<style scoped>\n",
       "    .dataframe tbody tr th:only-of-type {\n",
       "        vertical-align: middle;\n",
       "    }\n",
       "\n",
       "    .dataframe tbody tr th {\n",
       "        vertical-align: top;\n",
       "    }\n",
       "\n",
       "    .dataframe thead th {\n",
       "        text-align: right;\n",
       "    }\n",
       "</style>\n",
       "<table border=\"1\" class=\"dataframe\">\n",
       "  <thead>\n",
       "    <tr style=\"text-align: right;\">\n",
       "      <th></th>\n",
       "      <th>runtimes</th>\n",
       "      <th>true_counts</th>\n",
       "      <th>estimates</th>\n",
       "      <th>relevant_nodes</th>\n",
       "      <th>cat_regions</th>\n",
       "      <th>b_adic_cubes</th>\n",
       "      <th>num_regions</th>\n",
       "      <th>candidate_regions</th>\n",
       "      <th>query_regions</th>\n",
       "      <th>level_0_queries</th>\n",
       "      <th>level_1_queries</th>\n",
       "      <th>level_2_queries</th>\n",
       "      <th>level_3_queries</th>\n",
       "      <th>level_4_queries</th>\n",
       "      <th>absolute_error</th>\n",
       "      <th>normalized_error</th>\n",
       "      <th>relative_error</th>\n",
       "      <th>total_sketch_queries</th>\n",
       "    </tr>\n",
       "  </thead>\n",
       "  <tbody>\n",
       "    <tr>\n",
       "      <th>81</th>\n",
       "      <td>0.057402</td>\n",
       "      <td>278</td>\n",
       "      <td>327.0</td>\n",
       "      <td>1</td>\n",
       "      <td>1</td>\n",
       "      <td>425</td>\n",
       "      <td>134</td>\n",
       "      <td>134</td>\n",
       "      <td>134</td>\n",
       "      <td>0</td>\n",
       "      <td>0</td>\n",
       "      <td>0</td>\n",
       "      <td>134</td>\n",
       "      <td>0</td>\n",
       "      <td>49.0</td>\n",
       "      <td>0.0098</td>\n",
       "      <td>0.176259</td>\n",
       "      <td>694</td>\n",
       "    </tr>\n",
       "  </tbody>\n",
       "</table>\n",
       "</div>"
      ],
      "text/plain": [
       "    runtimes  true_counts  estimates  relevant_nodes  cat_regions  \\\n",
       "81  0.057402          278      327.0               1            1   \n",
       "\n",
       "    b_adic_cubes  num_regions  candidate_regions  query_regions  \\\n",
       "81           425          134                134            134   \n",
       "\n",
       "    level_0_queries  level_1_queries  level_2_queries  level_3_queries  \\\n",
       "81                0                0                0              134   \n",
       "\n",
       "    level_4_queries  absolute_error  normalized_error  relative_error  \\\n",
       "81                0            49.0            0.0098        0.176259   \n",
       "\n",
       "    total_sketch_queries  \n",
       "81                   694  "
      ]
     },
     "execution_count": 208,
     "metadata": {},
     "output_type": "execute_result"
    }
   ],
   "source": [
    "results[results['normalized_error'] == results['normalized_error'].max()] "
   ]
  },
  {
   "cell_type": "code",
   "execution_count": 212,
   "id": "c6565b13",
   "metadata": {},
   "outputs": [
    {
     "data": {
      "text/plain": [
       "0        0\n",
       "1       69\n",
       "2        1\n",
       "3      107\n",
       "4        4\n",
       "      ... \n",
       "95       0\n",
       "96    1128\n",
       "97     232\n",
       "98       2\n",
       "99       0\n",
       "Length: 100, dtype: int32"
      ]
     },
     "execution_count": 212,
     "metadata": {},
     "output_type": "execute_result"
    }
   ],
   "source": [
    "results['candidate_regions'] - results['query_regions']"
   ]
  },
  {
   "cell_type": "code",
   "execution_count": 209,
   "id": "988ddf90",
   "metadata": {},
   "outputs": [
    {
     "data": {
      "text/plain": [
       "count    100.000000\n",
       "mean       2.400000\n",
       "std        8.578809\n",
       "min        0.000000\n",
       "25%        0.000000\n",
       "50%        0.000000\n",
       "75%        0.000000\n",
       "max       49.000000\n",
       "Name: absolute_error, dtype: float64"
      ]
     },
     "execution_count": 209,
     "metadata": {},
     "output_type": "execute_result"
    }
   ],
   "source": [
    "results['absolute_error'].describe()"
   ]
  },
  {
   "cell_type": "code",
   "execution_count": 151,
   "id": "e408845d",
   "metadata": {},
   "outputs": [
    {
     "data": {
      "text/plain": [
       "count    100.000000\n",
       "mean       0.710000\n",
       "std        3.701747\n",
       "min        0.000000\n",
       "25%        0.000000\n",
       "50%        0.000000\n",
       "75%        0.000000\n",
       "max       27.000000\n",
       "Name: absolute_error, dtype: float64"
      ]
     },
     "execution_count": 151,
     "metadata": {},
     "output_type": "execute_result"
    }
   ],
   "source": [
    "results['absolute_error'].describe()"
   ]
  }
 ],
 "metadata": {
  "kernelspec": {
   "display_name": "Python 3",
   "language": "python",
   "name": "python3"
  },
  "language_info": {
   "codemirror_mode": {
    "name": "ipython",
    "version": 3
   },
   "file_extension": ".py",
   "mimetype": "text/x-python",
   "name": "python",
   "nbconvert_exporter": "python",
   "pygments_lexer": "ipython3",
   "version": "3.12.3"
  }
 },
 "nbformat": 4,
 "nbformat_minor": 5
}
