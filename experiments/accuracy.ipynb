{
 "cells": [
  {
   "cell_type": "code",
   "execution_count": 1,
   "id": "cfc5e2d3",
   "metadata": {},
   "outputs": [],
   "source": [
    "import sys\n",
    "# append the path of the parent directory\n",
    "sys.path.append(\"..\")"
   ]
  },
  {
   "cell_type": "code",
   "execution_count": 2,
   "id": "9a11a8ba",
   "metadata": {},
   "outputs": [
    {
     "name": "stderr",
     "output_type": "stream",
     "text": [
      "/home/rudi/.local/lib/python3.12/site-packages/matplotlib/projections/__init__.py:63: UserWarning: Unable to import Axes3D. This may be due to multiple versions of Matplotlib being installed (e.g. as a system package and as a pip package). As a result, the 3D projection is not available.\n",
      "  warnings.warn(\"Unable to import Axes3D. This may be due to multiple versions of \"\n",
      "/usr/lib/python3/dist-packages/pytz/__init__.py:31: SyntaxWarning: invalid escape sequence '\\s'\n",
      "  match = re.match(\"^#\\s*version\\s*([0-9a-z]*)\\s*$\", line)\n"
     ]
    }
   ],
   "source": [
    "import math\n",
    "import os\n",
    "import time\n",
    "\n",
    "\n",
    "import numpy as np\n",
    "np.set_printoptions(legacy='1.25')\n",
    "\n",
    "import matplotlib.pyplot as plt\n",
    "from matplotlib.patches import Rectangle\n",
    "import matplotlib.patches as patches\n",
    "\n",
    "import seaborn as sns\n",
    "import time\n",
    "import json\n",
    "import pandas as pd\n",
    "from ctypes import c_int32\n",
    "from itertools import product\n",
    "import copy\n",
    "\n",
    "\n",
    "from tqdm import tqdm\n",
    "\n",
    "from scipy.stats import pearsonr\n",
    "from importlib import reload\n",
    "\n",
    "import orjson\n",
    "import gzip\n",
    "\n",
    "from scipy.stats import entropy\n",
    "\n",
    "\n",
    "\n",
    "from lib import sketches, visualization_utils, encoders, ploting, pacha_sketch\n",
    "reload(ploting)\n",
    "reload(sketches)\n",
    "reload(visualization_utils)\n",
    "reload(encoders)\n",
    "\n",
    "reload(pacha_sketch)\n",
    "\n",
    "from lib.sketches import BloomFilter, CountMinSketch, H3HashFunctions, HashFunctionFamily,\\\n",
    "      CountMinSketchHadamard, CountMinSketchLocalHashing, deterministic_hash, simple_deterministic_hash\n",
    "from lib.visualization_utils import visualize_badic_cover, plot_b_adic_cubes\n",
    "from lib.encoders import minimal_b_adic_cover, minimal_spatial_b_adic_cover, BAdicCube, BAdicRange, \\\n",
    "      minimal_b_adic_cover_array, downgrade_b_adic_range_indices\n",
    "from lib.pacha_sketch import PachaSketch, ADTree, BFParameters, CMParameters, cartesian_product\n",
    "\n",
    "from lib.ploting import set_style, plot_ylabel, plot_legend\n",
    "\n",
    "from lib import baselines\n",
    "reload(baselines)\n",
    "\n",
    "from lib.baselines import CentralDPServer, LDPServer, LDPEncoderGRR, filter_df, query_df, \\\n",
    "      infer_domains_and_ranges, translate_query_region, evaluate_queries, check_accruracy, \\\n",
    "      evaluate_queries_baselines, evaluate_equivalent_pacha_sketches\n",
    "\n",
    "# set_style()"
   ]
  },
  {
   "cell_type": "markdown",
   "id": "e50cba97",
   "metadata": {},
   "source": [
    "# Different Datasets"
   ]
  },
  {
   "cell_type": "code",
   "execution_count": 3,
   "id": "71ac3d43",
   "metadata": {},
   "outputs": [],
   "source": [
    "delta = 0.01\n",
    "abs_error_eps = 1.0\n",
    "bloom_p = 0.01"
   ]
  },
  {
   "cell_type": "markdown",
   "id": "9a67ef93",
   "metadata": {},
   "source": [
    "## Retail"
   ]
  },
  {
   "cell_type": "code",
   "execution_count": 9,
   "id": "08b9c111",
   "metadata": {},
   "outputs": [],
   "source": [
    "cat_updates = 4\n",
    "num_updates = 6"
   ]
  },
  {
   "cell_type": "code",
   "execution_count": 4,
   "id": "36108d9f",
   "metadata": {},
   "outputs": [],
   "source": [
    "retail_df = pd.read_parquet(\"../data/clean/online_retail_no_outliers.parquet\")"
   ]
  },
  {
   "cell_type": "code",
   "execution_count": 7,
   "id": "0876b2b9",
   "metadata": {},
   "outputs": [],
   "source": [
    "query_path = \"../queries/online_retail_2_cols.json\"\n",
    "with open(query_path, 'rb') as f:\n",
    "    retail_queries_2 = orjson.loads(f.read())\n",
    "\n",
    "query_path = \"../queries/online_retail_4_cols.json\"\n",
    "with open(query_path, 'rb') as f:\n",
    "    retail_queries_4 = orjson.loads(f.read())\n",
    "\n",
    "retail_ad_tree = ADTree.from_json(\"../sketches/ad_trees/online_retail.json\")\n"
   ]
  },
  {
   "cell_type": "code",
   "execution_count": 14,
   "id": "94da2bfc",
   "metadata": {},
   "outputs": [
    {
     "data": {
      "text/plain": [
       "179.22578525543213"
      ]
     },
     "execution_count": 14,
     "metadata": {},
     "output_type": "execute_result"
    }
   ],
   "source": [
    "retail_p_sketch = PachaSketch.build_with_uniform_size(\n",
    "    levels=6,\n",
    "    num_dimensions=6,\n",
    "    cat_col_map=[0,1,2],\n",
    "    num_col_map=[3,4,5],\n",
    "    bases=[2,2,2],\n",
    "    ad_tree=retail_ad_tree,\n",
    "    cm_params=CMParameters(delta=delta, error_eps=abs_error_eps / len(retail_df)),\n",
    "    cat_index_parameters=BFParameters(n_values=len(retail_df)*cat_updates, p=bloom_p),\n",
    "    num_index_parameters=BFParameters(n_values=len(retail_df)*num_updates, p=bloom_p),\n",
    "    region_index_parameters= BFParameters(n_values=len(retail_df)*(cat_updates+num_updates), p=bloom_p))\n",
    "retail_p_sketch.get_size()"
   ]
  },
  {
   "cell_type": "code",
   "execution_count": 15,
   "id": "be1abc89",
   "metadata": {},
   "outputs": [
    {
     "name": "stderr",
     "output_type": "stream",
     "text": [
      "Updating:   0%|          | 0/536494 [00:00<?, ?it/s]/home/rudi/artifacts/pacha_sketch_prototype/experiments/../lib/pacha_sketch.py:623: FutureWarning: Series.__getitem__ treating keys as positions is deprecated. In a future version, integer keys will always be treated as labels (consistent with DataFrame behavior). To access a value by position, use `ser.iloc[pos]`\n",
      "  cat_values = tuple(element[i] for i in self.cat_col_map)\n",
      "/home/rudi/artifacts/pacha_sketch_prototype/experiments/../lib/pacha_sketch.py:624: FutureWarning: Series.__getitem__ treating keys as positions is deprecated. In a future version, integer keys will always be treated as labels (consistent with DataFrame behavior). To access a value by position, use `ser.iloc[pos]`\n",
      "  num_values = tuple(element[i] for i in self.num_col_map)\n",
      "Updating: 100%|██████████| 536494/536494 [03:02<00:00, 2942.80it/s]\n"
     ]
    },
    {
     "data": {
      "text/plain": [
       "<lib.pacha_sketch.PachaSketch at 0x706ae028ae70>"
      ]
     },
     "execution_count": 15,
     "metadata": {},
     "output_type": "execute_result"
    }
   ],
   "source": [
    "retail_p_sketch.update_data_frame(retail_df)"
   ]
  },
  {
   "cell_type": "code",
   "execution_count": 19,
   "id": "6a097d91",
   "metadata": {},
   "outputs": [
    {
     "name": "stdout",
     "output_type": "stream",
     "text": [
      "Computing true counts...\n"
     ]
    },
    {
     "name": "stderr",
     "output_type": "stream",
     "text": [
      "True Count: 100%|██████████| 200/200 [00:05<00:00, 39.52it/s]\n"
     ]
    },
    {
     "name": "stdout",
     "output_type": "stream",
     "text": [
      "Computing estimates...\n"
     ]
    },
    {
     "name": "stderr",
     "output_type": "stream",
     "text": [
      "Estimates: 100%|██████████| 200/200 [08:19<00:00,  2.50s/it]\n"
     ]
    }
   ],
   "source": [
    "retail_results_2 = evaluate_queries(retail_df, retail_queries_2[\"queries\"], retail_p_sketch, path_to_file=\"../results/accuracy/retail_2_p_sketch.csv\")"
   ]
  },
  {
   "cell_type": "code",
   "execution_count": 20,
   "id": "7471dc6e",
   "metadata": {},
   "outputs": [
    {
     "name": "stdout",
     "output_type": "stream",
     "text": [
      "Computing true counts...\n"
     ]
    },
    {
     "name": "stderr",
     "output_type": "stream",
     "text": [
      "True Count: 100%|██████████| 200/200 [00:06<00:00, 29.57it/s]\n"
     ]
    },
    {
     "name": "stdout",
     "output_type": "stream",
     "text": [
      "Computing estimates...\n"
     ]
    },
    {
     "name": "stderr",
     "output_type": "stream",
     "text": [
      "Estimates: 100%|██████████| 200/200 [00:26<00:00,  7.47it/s]\n"
     ]
    }
   ],
   "source": [
    "retail_results_4 = evaluate_queries(retail_df, retail_queries_4[\"queries\"], retail_p_sketch, path_to_file=\"../results/accuracy/retail_4_p_sketch.csv\")"
   ]
  },
  {
   "cell_type": "markdown",
   "id": "76f38185",
   "metadata": {},
   "source": [
    "## Bank Marketing"
   ]
  },
  {
   "cell_type": "code",
   "execution_count": 5,
   "id": "67826162",
   "metadata": {},
   "outputs": [],
   "source": [
    "cat_updates = 7\n",
    "num_updates = 6"
   ]
  },
  {
   "cell_type": "code",
   "execution_count": 6,
   "id": "8e20284b",
   "metadata": {},
   "outputs": [],
   "source": [
    "bank_df = pd.read_parquet(\"../data/clean/bank_marketing.parquet\")\n",
    "\n",
    "query_path = \"../queries/bank_marketing_2_cols.json\"\n",
    "with open(query_path, 'rb') as f:\n",
    "    bank_queries_2 = orjson.loads(f.read())\n",
    "\n",
    "query_path = \"../queries/bank_marketing_4_cols.json\"\n",
    "with open(query_path, 'rb') as f:\n",
    "    bank_queries_4 = orjson.loads(f.read())\n",
    "bank_ad_tree = ADTree.from_json(\"../sketches/ad_trees/bank_marketing.json\")"
   ]
  },
  {
   "cell_type": "code",
   "execution_count": 39,
   "id": "8f1e6b88",
   "metadata": {},
   "outputs": [
    {
     "data": {
      "text/plain": [
       "15.502957344055176"
      ]
     },
     "execution_count": 39,
     "metadata": {},
     "output_type": "execute_result"
    }
   ],
   "source": [
    "bank_p_sketch = PachaSketch.build_with_uniform_size(\n",
    "    levels=6,\n",
    "    num_dimensions=10,\n",
    "    cat_col_map=[0,1,2,3,4,5],\n",
    "    num_col_map=[6,7,8,9],\n",
    "    bases=[4, 5, 2, 2],\n",
    "    # bases=[5, 5, 5, 5],\n",
    "    ad_tree=bank_ad_tree,\n",
    "    cm_params=CMParameters(delta=delta, error_eps=abs_error_eps / len(bank_df)),\n",
    "    cat_index_parameters=BFParameters(n_values=len(bank_df)*cat_updates, p=bloom_p),\n",
    "    num_index_parameters=BFParameters(n_values=len(bank_df)*num_updates, p=bloom_p),\n",
    "    region_index_parameters= BFParameters(n_values=len(bank_df)*(cat_updates+num_updates), p=bloom_p))\n",
    "bank_p_sketch.get_size()"
   ]
  },
  {
   "cell_type": "code",
   "execution_count": 40,
   "id": "12e447cb",
   "metadata": {},
   "outputs": [
    {
     "name": "stderr",
     "output_type": "stream",
     "text": [
      "Updating: 100%|██████████| 45211/45211 [00:21<00:00, 2131.08it/s]\n"
     ]
    },
    {
     "data": {
      "text/plain": [
       "<lib.pacha_sketch.PachaSketch at 0x734a593065d0>"
      ]
     },
     "execution_count": 40,
     "metadata": {},
     "output_type": "execute_result"
    }
   ],
   "source": [
    "bank_p_sketch.update_data_frame(bank_df)"
   ]
  },
  {
   "cell_type": "code",
   "execution_count": 15,
   "id": "ee981397",
   "metadata": {},
   "outputs": [],
   "source": [
    "cover = bank_p_sketch.minimal_spatial_b_adic_cover([(0.0, 8191.0), [125, 803], (0.0, 127.0), (0.0, 383.0)])"
   ]
  },
  {
   "cell_type": "code",
   "execution_count": 13,
   "id": "60d7a921",
   "metadata": {},
   "outputs": [
    {
     "data": {
      "text/plain": [
       "(154789372, 5)"
      ]
     },
     "execution_count": 13,
     "metadata": {},
     "output_type": "execute_result"
    }
   ],
   "source": [
    "cover.shape"
   ]
  },
  {
   "cell_type": "code",
   "execution_count": 16,
   "id": "5529546b",
   "metadata": {},
   "outputs": [],
   "source": [
    "num_predicates = [(0.0, 8191.0), [125, 803], (0.0, 127.0), (0.0, 383.0)]\n",
    "minimal_b_adic_covers = []\n",
    "for i in range(len(num_predicates)):\n",
    "    cover_ranges = minimal_b_adic_cover_array(bank_p_sketch.bases[i], num_predicates[i][0], num_predicates[i][1])\n",
    "    unpruned_ranges = bank_p_sketch.numerical_bitmaps[i].prune_b_adic_array(cover_ranges)\n",
    "    minimal_b_adic_covers.append(unpruned_ranges)"
   ]
  },
  {
   "cell_type": "code",
   "execution_count": 33,
   "id": "00d0bf71",
   "metadata": {},
   "outputs": [],
   "source": [
    "covers_down = []\n",
    "for i, cover in enumerate(minimal_b_adic_covers):\n",
    "    new_cover = []\n",
    "    for (level, idx) in cover:\n",
    "        if level > bank_p_sketch.levels - 1:\n",
    "            indices = downgrade_b_adic_range_indices(base=bank_p_sketch.bases[i], level=level, idx=idx, new_level=bank_p_sketch.levels-1)\n",
    "            new_cover.append(np.vstack([np.full(len(indices), bank_p_sketch.levels-1), indices]).T)\n",
    "        else:\n",
    "            new_cover.append(np.array([[level, idx]]))\n",
    "    covers_down.append(np.concatenate(new_cover))"
   ]
  },
  {
   "cell_type": "code",
   "execution_count": 34,
   "id": "de592f0b",
   "metadata": {},
   "outputs": [
    {
     "data": {
      "text/plain": [
       "[array([[5, 0],\n",
       "        [5, 1],\n",
       "        [5, 2],\n",
       "        [5, 3],\n",
       "        [5, 4],\n",
       "        [5, 5],\n",
       "        [5, 6],\n",
       "        [5, 7]]),\n",
       " array([[  3,   1],\n",
       "        [  3,   2],\n",
       "        [  3,   3],\n",
       "        [  3,   4],\n",
       "        [  3,   5],\n",
       "        [  2,  30],\n",
       "        [  2,  31],\n",
       "        [  0, 800],\n",
       "        [  0, 801],\n",
       "        [  0, 802],\n",
       "        [  0, 803]]),\n",
       " array([[5, 0],\n",
       "        [5, 1],\n",
       "        [5, 2],\n",
       "        [5, 3]]),\n",
       " array([[ 5,  0],\n",
       "        [ 5,  1],\n",
       "        [ 5,  2],\n",
       "        [ 5,  3],\n",
       "        [ 5,  4],\n",
       "        [ 5,  5],\n",
       "        [ 5,  6],\n",
       "        [ 5,  7],\n",
       "        [ 5,  8],\n",
       "        [ 5,  9],\n",
       "        [ 5, 10],\n",
       "        [ 5, 11]])]"
      ]
     },
     "execution_count": 34,
     "metadata": {},
     "output_type": "execute_result"
    }
   ],
   "source": [
    "covers_down"
   ]
  },
  {
   "cell_type": "code",
   "execution_count": 36,
   "id": "3f71d0cc",
   "metadata": {},
   "outputs": [
    {
     "data": {
      "text/plain": [
       "[8, 11, 4, 12]"
      ]
     },
     "execution_count": 36,
     "metadata": {},
     "output_type": "execute_result"
    }
   ],
   "source": [
    "[len(cover) for cover in covers_down]"
   ]
  },
  {
   "cell_type": "code",
   "execution_count": 44,
   "id": "26eb4195",
   "metadata": {},
   "outputs": [],
   "source": [
    "def compute_number_of_updates(levels, n_cat, n_num):\n",
    "    curr_cat_index = n_cat + 1\n",
    "    curr_num_index = levels\n",
    "    curr_region_index = curr_cat_index * curr_num_index\n",
    "    curr_base_sketches = curr_region_index\n",
    "    curr_total = curr_cat_index + curr_num_index + curr_region_index + curr_base_sketches\n",
    "\n",
    "    print(\"Nr. of updates in current solution:\")\n",
    "    print(f\"cat_index: {curr_cat_index}\")\n",
    "    print(f\"num_index: {curr_num_index}\")\n",
    "    print(f\"region_index: {curr_region_index}\")\n",
    "    print(f\"base_sketches: {curr_base_sketches}\")\n",
    "    print(f\"Total: {curr_total}\\n\")\n",
    "\n",
    "    new1_cat_index = n_cat + 1\n",
    "    new1_num_index = levels**n_num\n",
    "    new1_region_index = new1_cat_index * new1_num_index\n",
    "    new1_base_sketches = new1_region_index\n",
    "    new1_total = new1_cat_index + new1_num_index + new1_region_index + new1_base_sketches\n",
    "\n",
    "    print(\"Nr. of updates in new solution 1:\")\n",
    "    print(f\"cat_index: {new1_cat_index}\")\n",
    "    print(f\"num_index: {new1_num_index}\")\n",
    "    print(f\"region_index: {new1_region_index}\")\n",
    "    print(f\"base_sketches: {new1_base_sketches}\")\n",
    "    print(f\"Total: {new1_total}\\n\")\n",
    "\n",
    "    new2_cat_index = n_cat + 1\n",
    "    new2_num_index = 2**n_num * levels\n",
    "    new2_region_index = new2_cat_index * new2_num_index\n",
    "    new2_base_sketches = new2_region_index\n",
    "    new2_total = new2_cat_index + new2_num_index + new2_region_index + new2_base_sketches\n",
    "\n",
    "    print(\"Nr. of updates in new solution 2:\")\n",
    "    print(f\"cat_index: {new2_cat_index}\")\n",
    "    print(f\"num_index: {new2_num_index}\")\n",
    "    print(f\"region_index: {new2_region_index}\")\n",
    "    print(f\"base_sketches: {new2_base_sketches}\")\n",
    "    print(f\"Total: {new2_total}\\n\")"
   ]
  },
  {
   "cell_type": "code",
   "execution_count": 46,
   "id": "af1cb46a",
   "metadata": {},
   "outputs": [
    {
     "name": "stdout",
     "output_type": "stream",
     "text": [
      "--------------------------------------------------------\n",
      "Retail Dataset\n",
      "Nr. of updates in current solution:\n",
      "cat_index: 4\n",
      "num_index: 6\n",
      "region_index: 24\n",
      "base_sketches: 24\n",
      "Total: 58\n",
      "\n",
      "Nr. of updates in new solution 1:\n",
      "cat_index: 4\n",
      "num_index: 216\n",
      "region_index: 864\n",
      "base_sketches: 864\n",
      "Total: 1948\n",
      "\n",
      "Nr. of updates in new solution 2:\n",
      "cat_index: 4\n",
      "num_index: 48\n",
      "region_index: 192\n",
      "base_sketches: 192\n",
      "Total: 436\n",
      "\n",
      "--------------------------------------------------------\n",
      "Bank Dataset\n",
      "Nr. of updates in current solution:\n",
      "cat_index: 7\n",
      "num_index: 6\n",
      "region_index: 42\n",
      "base_sketches: 42\n",
      "Total: 97\n",
      "\n",
      "Nr. of updates in new solution 1:\n",
      "cat_index: 7\n",
      "num_index: 1296\n",
      "region_index: 9072\n",
      "base_sketches: 9072\n",
      "Total: 19447\n",
      "\n",
      "Nr. of updates in new solution 2:\n",
      "cat_index: 7\n",
      "num_index: 96\n",
      "region_index: 672\n",
      "base_sketches: 672\n",
      "Total: 1447\n",
      "\n",
      "--------------------------------------------------------\n",
      "Folktables Dataset\n",
      "Nr. of updates in current solution:\n",
      "cat_index: 8\n",
      "num_index: 6\n",
      "region_index: 48\n",
      "base_sketches: 48\n",
      "Total: 110\n",
      "\n",
      "Nr. of updates in new solution 1:\n",
      "cat_index: 8\n",
      "num_index: 216\n",
      "region_index: 1728\n",
      "base_sketches: 1728\n",
      "Total: 3680\n",
      "\n",
      "Nr. of updates in new solution 2:\n",
      "cat_index: 8\n",
      "num_index: 48\n",
      "region_index: 384\n",
      "base_sketches: 384\n",
      "Total: 824\n",
      "\n"
     ]
    }
   ],
   "source": [
    "levels = 6\n",
    "# Retail\n",
    "n_cat = 3\n",
    "n_num = 3\n",
    "\n",
    "print(\"--------------------------------------------------------\")\n",
    "print(\"Retail Dataset\")\n",
    "compute_number_of_updates(levels, n_cat, n_num)\n",
    "\n",
    "# Bank\n",
    "n_cat = 6\n",
    "n_num = 4\n",
    "\n",
    "print(\"--------------------------------------------------------\")\n",
    "print(\"Bank Dataset\")\n",
    "compute_number_of_updates(levels, n_cat, n_num)\n",
    "\n",
    "# Folktables\n",
    "n_cat = 7\n",
    "n_num = 3\n",
    "\n",
    "print(\"--------------------------------------------------------\")\n",
    "print(\"Folktables Dataset\")\n",
    "compute_number_of_updates(levels, n_cat, n_num)\n",
    "\n"
   ]
  },
  {
   "cell_type": "code",
   "execution_count": null,
   "id": "b9002257",
   "metadata": {},
   "outputs": [],
   "source": [
    "delta = 0.01\n",
    "abs_error_eps = 1.0\n",
    "bloom_p = 0.01"
   ]
  },
  {
   "cell_type": "markdown",
   "id": "46a68d58",
   "metadata": {},
   "source": [
    "## Retail"
   ]
  },
  {
   "cell_type": "code",
   "execution_count": null,
   "id": "2eba880a",
   "metadata": {},
   "outputs": [],
   "source": [
    "cat_updates = 4\n",
    "num_updates = 6"
   ]
  },
  {
   "cell_type": "code",
   "execution_count": null,
   "id": "63f220ec",
   "metadata": {},
   "outputs": [],
   "source": [
    "retail_df = pd.read_parquet(\"../data/clean/online_retail_no_outliers.parquet\")"
   ]
  },
  {
   "cell_type": "code",
   "execution_count": null,
   "id": "a66e22d3",
   "metadata": {},
   "outputs": [],
   "source": [
    "query_path = \"../queries/online_retail_2_cols.json\"\n",
    "with open(query_path, 'rb') as f:\n",
    "    retail_queries_2 = orjson.loads(f.read())\n",
    "\n",
    "query_path = \"../queries/online_retail_4_cols.json\"\n",
    "with open(query_path, 'rb') as f:\n",
    "    retail_queries_4 = orjson.loads(f.read())\n",
    "\n",
    "retail_ad_tree = ADTree.from_json(\"../sketches/ad_trees/online_retail.json\")\n"
   ]
  },
  {
   "cell_type": "code",
   "execution_count": null,
   "id": "3356ce49",
   "metadata": {},
   "outputs": [
    {
     "data": {
      "text/plain": [
       "179.22578525543213"
      ]
     },
     "metadata": {},
     "output_type": "display_data"
    }
   ],
   "source": [
    "retail_p_sketch = PachaSketch.build_with_uniform_size(\n",
    "    levels=6,\n",
    "    num_dimensions=6,\n",
    "    cat_col_map=[0,1,2],\n",
    "    num_col_map=[3,4,5],\n",
    "    bases=[2,2,2],\n",
    "    ad_tree=retail_ad_tree,\n",
    "    cm_params=CMParameters(delta=delta, error_eps=abs_error_eps / len(retail_df)),\n",
    "    cat_index_parameters=BFParameters(n_values=len(retail_df)*cat_updates, p=bloom_p),\n",
    "    num_index_parameters=BFParameters(n_values=len(retail_df)*num_updates, p=bloom_p),\n",
    "    region_index_parameters= BFParameters(n_values=len(retail_df)*(cat_updates+num_updates), p=bloom_p))\n",
    "retail_p_sketch.get_size()"
   ]
  },
  {
   "cell_type": "code",
   "execution_count": null,
   "id": "2ce0ebfe",
   "metadata": {},
   "outputs": [
    {
     "name": "stderr",
     "output_type": "stream",
     "text": [
      "Updating:   0%|          | 0/536494 [00:00<?, ?it/s]/home/rudi/artifacts/pacha_sketch_prototype/experiments/../lib/pacha_sketch.py:623: FutureWarning: Series.__getitem__ treating keys as positions is deprecated. In a future version, integer keys will always be treated as labels (consistent with DataFrame behavior). To access a value by position, use `ser.iloc[pos]`\n",
      "  cat_values = tuple(element[i] for i in self.cat_col_map)\n",
      "/home/rudi/artifacts/pacha_sketch_prototype/experiments/../lib/pacha_sketch.py:624: FutureWarning: Series.__getitem__ treating keys as positions is deprecated. In a future version, integer keys will always be treated as labels (consistent with DataFrame behavior). To access a value by position, use `ser.iloc[pos]`\n",
      "  num_values = tuple(element[i] for i in self.num_col_map)\n",
      "Updating: 100%|██████████| 536494/536494 [03:02<00:00, 2942.80it/s]\n"
     ]
    },
    {
     "data": {
      "text/plain": [
       "<lib.pacha_sketch.PachaSketch at 0x706ae028ae70>"
      ]
     },
     "metadata": {},
     "output_type": "display_data"
    }
   ],
   "source": [
    "retail_p_sketch.update_data_frame(retail_df)"
   ]
  },
  {
   "cell_type": "code",
   "execution_count": null,
   "id": "64fab640",
   "metadata": {},
   "outputs": [
    {
     "name": "stdout",
     "output_type": "stream",
     "text": [
      "Computing true counts...\n"
     ]
    },
    {
     "name": "stderr",
     "output_type": "stream",
     "text": [
      "True Count: 100%|██████████| 200/200 [00:05<00:00, 39.52it/s]\n"
     ]
    },
    {
     "name": "stdout",
     "output_type": "stream",
     "text": [
      "Computing estimates...\n"
     ]
    },
    {
     "name": "stderr",
     "output_type": "stream",
     "text": [
      "Estimates: 100%|██████████| 200/200 [08:19<00:00,  2.50s/it]\n"
     ]
    }
   ],
   "source": [
    "retail_results_2 = evaluate_queries(retail_df, retail_queries_2[\"queries\"], retail_p_sketch, path_to_file=\"../results/accuracy/retail_2_p_sketch.csv\")"
   ]
  },
  {
   "cell_type": "code",
   "execution_count": null,
   "id": "cb50da27",
   "metadata": {},
   "outputs": [
    {
     "name": "stdout",
     "output_type": "stream",
     "text": [
      "Computing true counts...\n"
     ]
    },
    {
     "name": "stderr",
     "output_type": "stream",
     "text": [
      "True Count: 100%|██████████| 200/200 [00:06<00:00, 29.57it/s]\n"
     ]
    },
    {
     "name": "stdout",
     "output_type": "stream",
     "text": [
      "Computing estimates...\n"
     ]
    },
    {
     "name": "stderr",
     "output_type": "stream",
     "text": [
      "Estimates: 100%|██████████| 200/200 [00:26<00:00,  7.47it/s]\n"
     ]
    }
   ],
   "source": [
    "retail_results_4 = evaluate_queries(retail_df, retail_queries_4[\"queries\"], retail_p_sketch, path_to_file=\"../results/accuracy/retail_4_p_sketch.csv\")"
   ]
  },
  {
   "cell_type": "code",
   "execution_count": 35,
   "id": "6892391e",
   "metadata": {},
   "outputs": [
    {
     "data": {
      "text/plain": [
       "4224"
      ]
     },
     "execution_count": 35,
     "metadata": {},
     "output_type": "execute_result"
    }
   ],
   "source": [
    "np.prod([len(cover) for cover in covers_down])"
   ]
  },
  {
   "cell_type": "code",
   "execution_count": 11,
   "id": "c58b7731",
   "metadata": {},
   "outputs": [
    {
     "data": {
      "text/plain": [
       "[['unknown'], '*', '*', '*', '*', '*', '*', [125, 803], '*', '*']"
      ]
     },
     "execution_count": 11,
     "metadata": {},
     "output_type": "execute_result"
    }
   ],
   "source": [
    "bank_queries_2[\"queries\"][0]"
   ]
  },
  {
   "cell_type": "code",
   "execution_count": 12,
   "id": "97f79ef1",
   "metadata": {},
   "outputs": [
    {
     "ename": "KeyboardInterrupt",
     "evalue": "",
     "output_type": "error",
     "traceback": [
      "\u001b[0;31m---------------------------------------------------------------------------\u001b[0m",
      "\u001b[0;31mKeyboardInterrupt\u001b[0m                         Traceback (most recent call last)",
      "\u001b[0;32m/tmp/ipykernel_135760/983173895.py\u001b[0m in \u001b[0;36m<module>\u001b[0;34m\u001b[0m\n\u001b[0;32m----> 1\u001b[0;31m \u001b[0mbank_p_sketch\u001b[0m\u001b[0;34m.\u001b[0m\u001b[0mget_subqueries\u001b[0m\u001b[0;34m(\u001b[0m\u001b[0mbank_queries_2\u001b[0m\u001b[0;34m[\u001b[0m\u001b[0;34m\"queries\"\u001b[0m\u001b[0;34m]\u001b[0m\u001b[0;34m[\u001b[0m\u001b[0;36m0\u001b[0m\u001b[0;34m]\u001b[0m\u001b[0;34m)\u001b[0m\u001b[0;34m\u001b[0m\u001b[0;34m\u001b[0m\u001b[0m\n\u001b[0m",
      "\u001b[0;32m~/artifacts/pacha_sketch_prototype/experiments/../lib/pacha_sketch.py\u001b[0m in \u001b[0;36mget_subqueries\u001b[0;34m(self, query, detailed, debug)\u001b[0m\n\u001b[1;32m    754\u001b[0m \u001b[0;34m\u001b[0m\u001b[0m\n\u001b[1;32m    755\u001b[0m         \u001b[0mcat_regions\u001b[0m \u001b[0;34m=\u001b[0m \u001b[0mrelevant_nodes\u001b[0m\u001b[0;34m[\u001b[0m\u001b[0mself\u001b[0m\u001b[0;34m.\u001b[0m\u001b[0mcat_index\u001b[0m\u001b[0;34m.\u001b[0m\u001b[0mquery_batch\u001b[0m\u001b[0;34m(\u001b[0m\u001b[0mrelevant_nodes\u001b[0m\u001b[0;34m)\u001b[0m\u001b[0;34m]\u001b[0m\u001b[0;34m\u001b[0m\u001b[0;34m\u001b[0m\u001b[0m\n\u001b[0;32m--> 756\u001b[0;31m         \u001b[0mnum_regions\u001b[0m \u001b[0;34m=\u001b[0m \u001b[0mb_adic_cubes\u001b[0m\u001b[0;34m[\u001b[0m\u001b[0mself\u001b[0m\u001b[0;34m.\u001b[0m\u001b[0mnum_index\u001b[0m\u001b[0;34m.\u001b[0m\u001b[0mquery_batch\u001b[0m\u001b[0;34m(\u001b[0m\u001b[0mb_adic_cubes\u001b[0m\u001b[0;34m)\u001b[0m\u001b[0;34m]\u001b[0m\u001b[0;34m\u001b[0m\u001b[0;34m\u001b[0m\u001b[0m\n\u001b[0m\u001b[1;32m    757\u001b[0m \u001b[0;34m\u001b[0m\u001b[0m\n\u001b[1;32m    758\u001b[0m         \u001b[0mcandidate_regions\u001b[0m \u001b[0;34m=\u001b[0m \u001b[0mregion_cross_product\u001b[0m\u001b[0;34m(\u001b[0m\u001b[0mcat_regions\u001b[0m\u001b[0;34m,\u001b[0m \u001b[0mnum_regions\u001b[0m\u001b[0;34m)\u001b[0m\u001b[0;34m\u001b[0m\u001b[0;34m\u001b[0m\u001b[0m\n",
      "\u001b[0;32m~/artifacts/pacha_sketch_prototype/experiments/../lib/sketches.py\u001b[0m in \u001b[0;36mquery_batch\u001b[0;34m(self, elements)\u001b[0m\n\u001b[1;32m    879\u001b[0m         \u001b[0mReturns\u001b[0m \u001b[0ma\u001b[0m \u001b[0mboolean\u001b[0m \u001b[0marray\u001b[0m \u001b[0mindicating\u001b[0m \u001b[0mpresence\u001b[0m \u001b[0;32mfor\u001b[0m \u001b[0meach\u001b[0m \u001b[0mitem\u001b[0m\u001b[0;34m.\u001b[0m\u001b[0;34m\u001b[0m\u001b[0;34m\u001b[0m\u001b[0m\n\u001b[1;32m    880\u001b[0m         \"\"\"\n\u001b[0;32m--> 881\u001b[0;31m         \u001b[0mhash_matrix\u001b[0m \u001b[0;34m=\u001b[0m \u001b[0mself\u001b[0m\u001b[0;34m.\u001b[0m\u001b[0mhash_functions\u001b[0m\u001b[0;34m.\u001b[0m\u001b[0mhash_values_batch\u001b[0m\u001b[0;34m(\u001b[0m\u001b[0melements\u001b[0m\u001b[0;34m)\u001b[0m\u001b[0;34m\u001b[0m\u001b[0;34m\u001b[0m\u001b[0m\n\u001b[0m\u001b[1;32m    882\u001b[0m         \u001b[0;32mreturn\u001b[0m \u001b[0mnp\u001b[0m\u001b[0;34m.\u001b[0m\u001b[0mall\u001b[0m\u001b[0;34m(\u001b[0m\u001b[0mself\u001b[0m\u001b[0;34m.\u001b[0m\u001b[0mbit_array\u001b[0m\u001b[0;34m[\u001b[0m\u001b[0mhash_matrix\u001b[0m\u001b[0;34m]\u001b[0m\u001b[0;34m,\u001b[0m \u001b[0maxis\u001b[0m\u001b[0;34m=\u001b[0m\u001b[0;36m1\u001b[0m\u001b[0;34m)\u001b[0m\u001b[0;34m\u001b[0m\u001b[0;34m\u001b[0m\u001b[0m\n\u001b[1;32m    883\u001b[0m \u001b[0;34m\u001b[0m\u001b[0m\n",
      "\u001b[0;32m~/artifacts/pacha_sketch_prototype/experiments/../lib/sketches.py\u001b[0m in \u001b[0;36mhash_values_batch\u001b[0;34m(self, elements)\u001b[0m\n\u001b[1;32m    222\u001b[0m         \u001b[0;31m# Step 1: Compute base hashes for all elements\u001b[0m\u001b[0;34m\u001b[0m\u001b[0;34m\u001b[0m\u001b[0m\n\u001b[1;32m    223\u001b[0m         \u001b[0;32mif\u001b[0m \u001b[0misinstance\u001b[0m\u001b[0;34m(\u001b[0m\u001b[0melements\u001b[0m\u001b[0;34m,\u001b[0m \u001b[0mnp\u001b[0m\u001b[0;34m.\u001b[0m\u001b[0mndarray\u001b[0m\u001b[0;34m)\u001b[0m\u001b[0;34m:\u001b[0m\u001b[0;34m\u001b[0m\u001b[0;34m\u001b[0m\u001b[0m\n\u001b[0;32m--> 224\u001b[0;31m             \u001b[0mbase_hashes\u001b[0m \u001b[0;34m=\u001b[0m \u001b[0mnp\u001b[0m\u001b[0;34m.\u001b[0m\u001b[0marray\u001b[0m\u001b[0;34m(\u001b[0m\u001b[0;34m[\u001b[0m\u001b[0mhash\u001b[0m\u001b[0;34m(\u001b[0m\u001b[0mtuple\u001b[0m\u001b[0;34m(\u001b[0m\u001b[0mx\u001b[0m\u001b[0;34m)\u001b[0m\u001b[0;34m)\u001b[0m \u001b[0;32mfor\u001b[0m \u001b[0mx\u001b[0m \u001b[0;32min\u001b[0m \u001b[0melements\u001b[0m\u001b[0;34m]\u001b[0m\u001b[0;34m)\u001b[0m\u001b[0;34m\u001b[0m\u001b[0;34m\u001b[0m\u001b[0m\n\u001b[0m\u001b[1;32m    225\u001b[0m         \u001b[0;32melse\u001b[0m\u001b[0;34m:\u001b[0m\u001b[0;34m\u001b[0m\u001b[0;34m\u001b[0m\u001b[0m\n\u001b[1;32m    226\u001b[0m             \u001b[0mbase_hashes\u001b[0m \u001b[0;34m=\u001b[0m \u001b[0mnp\u001b[0m\u001b[0;34m.\u001b[0m\u001b[0marray\u001b[0m\u001b[0;34m(\u001b[0m\u001b[0;34m[\u001b[0m\u001b[0mhash\u001b[0m\u001b[0;34m(\u001b[0m\u001b[0mx\u001b[0m\u001b[0;34m)\u001b[0m \u001b[0;32mfor\u001b[0m \u001b[0mx\u001b[0m \u001b[0;32min\u001b[0m \u001b[0melements\u001b[0m\u001b[0;34m]\u001b[0m\u001b[0;34m)\u001b[0m  \u001b[0;31m# shape: (n_elements,)\u001b[0m\u001b[0;34m\u001b[0m\u001b[0;34m\u001b[0m\u001b[0m\n",
      "\u001b[0;31mKeyboardInterrupt\u001b[0m: "
     ]
    }
   ],
   "source": [
    "bank_p_sketch.get_subqueries(bank_queries_2[\"queries\"][0])"
   ]
  },
  {
   "cell_type": "code",
   "execution_count": 28,
   "id": "7838c61c",
   "metadata": {},
   "outputs": [
    {
     "name": "stdout",
     "output_type": "stream",
     "text": [
      "Computing true counts...\n"
     ]
    },
    {
     "name": "stderr",
     "output_type": "stream",
     "text": [
      "True Count: 100%|██████████| 200/200 [00:00<00:00, 456.91it/s]\n"
     ]
    },
    {
     "name": "stdout",
     "output_type": "stream",
     "text": [
      "Computing estimates...\n"
     ]
    },
    {
     "name": "stderr",
     "output_type": "stream",
     "text": [
      "Estimates:   0%|          | 0/200 [00:57<?, ?it/s]\n"
     ]
    },
    {
     "ename": "KeyboardInterrupt",
     "evalue": "",
     "output_type": "error",
     "traceback": [
      "\u001b[0;31m---------------------------------------------------------------------------\u001b[0m",
      "\u001b[0;31mKeyboardInterrupt\u001b[0m                         Traceback (most recent call last)",
      "\u001b[0;32m/tmp/ipykernel_93830/3268449308.py\u001b[0m in \u001b[0;36m<module>\u001b[0;34m\u001b[0m\n\u001b[0;32m----> 1\u001b[0;31m \u001b[0mbank_results_2\u001b[0m \u001b[0;34m=\u001b[0m \u001b[0mevaluate_queries\u001b[0m\u001b[0;34m(\u001b[0m\u001b[0mbank_df\u001b[0m\u001b[0;34m,\u001b[0m \u001b[0mbank_queries_2\u001b[0m\u001b[0;34m[\u001b[0m\u001b[0;34m\"queries\"\u001b[0m\u001b[0;34m]\u001b[0m\u001b[0;34m,\u001b[0m \u001b[0mbank_p_sketch\u001b[0m\u001b[0;34m,\u001b[0m \u001b[0mpath_to_file\u001b[0m\u001b[0;34m=\u001b[0m\u001b[0;34m\"../results/accuracy/bank_2_p_sketch.csv\"\u001b[0m\u001b[0;34m)\u001b[0m\u001b[0;34m\u001b[0m\u001b[0;34m\u001b[0m\u001b[0m\n\u001b[0m",
      "\u001b[0;32m~/artifacts/pacha_sketch_prototype/experiments/../lib/baselines.py\u001b[0m in \u001b[0;36mevaluate_queries\u001b[0;34m(df, queries, p_sketch, path_to_file)\u001b[0m\n\u001b[1;32m    209\u001b[0m     \u001b[0;32mfor\u001b[0m \u001b[0mi\u001b[0m\u001b[0;34m,\u001b[0m \u001b[0mquery\u001b[0m \u001b[0;32min\u001b[0m \u001b[0menumerate\u001b[0m\u001b[0;34m(\u001b[0m\u001b[0mtqdm\u001b[0m\u001b[0;34m(\u001b[0m\u001b[0mqueries\u001b[0m\u001b[0;34m,\u001b[0m \u001b[0mdesc\u001b[0m\u001b[0;34m=\u001b[0m\u001b[0;34m\"Estimates\"\u001b[0m\u001b[0;34m)\u001b[0m\u001b[0;34m)\u001b[0m\u001b[0;34m:\u001b[0m\u001b[0;34m\u001b[0m\u001b[0;34m\u001b[0m\u001b[0m\n\u001b[1;32m    210\u001b[0m         \u001b[0mstart_time\u001b[0m \u001b[0;34m=\u001b[0m \u001b[0mtime\u001b[0m\u001b[0;34m.\u001b[0m\u001b[0mtime\u001b[0m\u001b[0;34m(\u001b[0m\u001b[0;34m)\u001b[0m\u001b[0;34m\u001b[0m\u001b[0;34m\u001b[0m\u001b[0m\n\u001b[0;32m--> 211\u001b[0;31m         \u001b[0mest\u001b[0m\u001b[0;34m,\u001b[0m \u001b[0mdetails\u001b[0m \u001b[0;34m=\u001b[0m \u001b[0mp_sketch\u001b[0m\u001b[0;34m.\u001b[0m\u001b[0mquery\u001b[0m\u001b[0;34m(\u001b[0m\u001b[0mquery\u001b[0m\u001b[0;34m,\u001b[0m \u001b[0mdetailed\u001b[0m\u001b[0;34m=\u001b[0m\u001b[0;32mTrue\u001b[0m\u001b[0;34m)\u001b[0m\u001b[0;34m\u001b[0m\u001b[0;34m\u001b[0m\u001b[0m\n\u001b[0m\u001b[1;32m    212\u001b[0m         \u001b[0mruntimes\u001b[0m\u001b[0;34m[\u001b[0m\u001b[0mi\u001b[0m\u001b[0;34m]\u001b[0m \u001b[0;34m=\u001b[0m \u001b[0mtime\u001b[0m\u001b[0;34m.\u001b[0m\u001b[0mtime\u001b[0m\u001b[0;34m(\u001b[0m\u001b[0;34m)\u001b[0m \u001b[0;34m-\u001b[0m \u001b[0mstart_time\u001b[0m\u001b[0;34m\u001b[0m\u001b[0;34m\u001b[0m\u001b[0m\n\u001b[1;32m    213\u001b[0m         \u001b[0mestimates\u001b[0m\u001b[0;34m[\u001b[0m\u001b[0mi\u001b[0m\u001b[0;34m]\u001b[0m \u001b[0;34m=\u001b[0m \u001b[0mest\u001b[0m\u001b[0;34m\u001b[0m\u001b[0;34m\u001b[0m\u001b[0m\n",
      "\u001b[0;32m~/artifacts/pacha_sketch_prototype/experiments/../lib/pacha_sketch.py\u001b[0m in \u001b[0;36mquery\u001b[0;34m(self, query, detailed, debug)\u001b[0m\n\u001b[1;32m    781\u001b[0m \u001b[0;34m\u001b[0m\u001b[0m\n\u001b[1;32m    782\u001b[0m     \u001b[0;32mdef\u001b[0m \u001b[0mquery\u001b[0m\u001b[0;34m(\u001b[0m\u001b[0mself\u001b[0m\u001b[0;34m,\u001b[0m \u001b[0mquery\u001b[0m\u001b[0;34m:\u001b[0m \u001b[0mList\u001b[0m\u001b[0;34m[\u001b[0m\u001b[0mAny\u001b[0m\u001b[0;34m]\u001b[0m\u001b[0;34m,\u001b[0m \u001b[0mdetailed\u001b[0m \u001b[0;34m=\u001b[0m \u001b[0;32mFalse\u001b[0m\u001b[0;34m,\u001b[0m \u001b[0mdebug\u001b[0m\u001b[0;34m=\u001b[0m\u001b[0;32mFalse\u001b[0m\u001b[0;34m)\u001b[0m \u001b[0;34m->\u001b[0m \u001b[0mint\u001b[0m\u001b[0;34m:\u001b[0m\u001b[0;34m\u001b[0m\u001b[0;34m\u001b[0m\u001b[0m\n\u001b[0;32m--> 783\u001b[0;31m         \u001b[0mquery_regions\u001b[0m\u001b[0;34m,\u001b[0m \u001b[0mdetails\u001b[0m \u001b[0;34m=\u001b[0m \u001b[0mself\u001b[0m\u001b[0;34m.\u001b[0m\u001b[0mget_subqueries\u001b[0m\u001b[0;34m(\u001b[0m\u001b[0mquery\u001b[0m\u001b[0;34m,\u001b[0m \u001b[0mdetailed\u001b[0m\u001b[0;34m=\u001b[0m\u001b[0mdetailed\u001b[0m\u001b[0;34m,\u001b[0m \u001b[0mdebug\u001b[0m\u001b[0;34m=\u001b[0m\u001b[0mdebug\u001b[0m\u001b[0;34m)\u001b[0m\u001b[0;34m\u001b[0m\u001b[0;34m\u001b[0m\u001b[0m\n\u001b[0m\u001b[1;32m    784\u001b[0m \u001b[0;34m\u001b[0m\u001b[0m\n\u001b[1;32m    785\u001b[0m         \u001b[0mlevel_col\u001b[0m \u001b[0;34m=\u001b[0m \u001b[0mquery_regions\u001b[0m\u001b[0;34m[\u001b[0m\u001b[0;34m:\u001b[0m\u001b[0;34m,\u001b[0m \u001b[0mlen\u001b[0m\u001b[0;34m(\u001b[0m\u001b[0mself\u001b[0m\u001b[0;34m.\u001b[0m\u001b[0mcat_col_map\u001b[0m\u001b[0;34m)\u001b[0m\u001b[0;34m]\u001b[0m\u001b[0;34m\u001b[0m\u001b[0;34m\u001b[0m\u001b[0m\n",
      "\u001b[0;32m~/artifacts/pacha_sketch_prototype/experiments/../lib/pacha_sketch.py\u001b[0m in \u001b[0;36mget_subqueries\u001b[0;34m(self, query, detailed, debug)\u001b[0m\n\u001b[1;32m    744\u001b[0m \u001b[0;34m\u001b[0m\u001b[0m\n\u001b[1;32m    745\u001b[0m         \u001b[0mcat_regions\u001b[0m \u001b[0;34m=\u001b[0m \u001b[0mrelevant_nodes\u001b[0m\u001b[0;34m[\u001b[0m\u001b[0mself\u001b[0m\u001b[0;34m.\u001b[0m\u001b[0mcat_index\u001b[0m\u001b[0;34m.\u001b[0m\u001b[0mquery_batch\u001b[0m\u001b[0;34m(\u001b[0m\u001b[0mrelevant_nodes\u001b[0m\u001b[0;34m)\u001b[0m\u001b[0;34m]\u001b[0m\u001b[0;34m\u001b[0m\u001b[0;34m\u001b[0m\u001b[0m\n\u001b[0;32m--> 746\u001b[0;31m         \u001b[0mnum_regions\u001b[0m \u001b[0;34m=\u001b[0m \u001b[0mb_adic_cubes\u001b[0m\u001b[0;34m[\u001b[0m\u001b[0mself\u001b[0m\u001b[0;34m.\u001b[0m\u001b[0mnum_index\u001b[0m\u001b[0;34m.\u001b[0m\u001b[0mquery_batch\u001b[0m\u001b[0;34m(\u001b[0m\u001b[0mb_adic_cubes\u001b[0m\u001b[0;34m)\u001b[0m\u001b[0;34m]\u001b[0m\u001b[0;34m\u001b[0m\u001b[0;34m\u001b[0m\u001b[0m\n\u001b[0m\u001b[1;32m    747\u001b[0m \u001b[0;34m\u001b[0m\u001b[0m\n\u001b[1;32m    748\u001b[0m         \u001b[0mcandidate_regions\u001b[0m \u001b[0;34m=\u001b[0m \u001b[0mregion_cross_product\u001b[0m\u001b[0;34m(\u001b[0m\u001b[0mcat_regions\u001b[0m\u001b[0;34m,\u001b[0m \u001b[0mnum_regions\u001b[0m\u001b[0;34m)\u001b[0m\u001b[0;34m\u001b[0m\u001b[0;34m\u001b[0m\u001b[0m\n",
      "\u001b[0;32m~/artifacts/pacha_sketch_prototype/experiments/../lib/sketches.py\u001b[0m in \u001b[0;36mquery_batch\u001b[0;34m(self, elements)\u001b[0m\n\u001b[1;32m    879\u001b[0m         \u001b[0mReturns\u001b[0m \u001b[0ma\u001b[0m \u001b[0mboolean\u001b[0m \u001b[0marray\u001b[0m \u001b[0mindicating\u001b[0m \u001b[0mpresence\u001b[0m \u001b[0;32mfor\u001b[0m \u001b[0meach\u001b[0m \u001b[0mitem\u001b[0m\u001b[0;34m.\u001b[0m\u001b[0;34m\u001b[0m\u001b[0;34m\u001b[0m\u001b[0m\n\u001b[1;32m    880\u001b[0m         \"\"\"\n\u001b[0;32m--> 881\u001b[0;31m         \u001b[0mhash_matrix\u001b[0m \u001b[0;34m=\u001b[0m \u001b[0mself\u001b[0m\u001b[0;34m.\u001b[0m\u001b[0mhash_functions\u001b[0m\u001b[0;34m.\u001b[0m\u001b[0mhash_values_batch\u001b[0m\u001b[0;34m(\u001b[0m\u001b[0melements\u001b[0m\u001b[0;34m)\u001b[0m\u001b[0;34m\u001b[0m\u001b[0;34m\u001b[0m\u001b[0m\n\u001b[0m\u001b[1;32m    882\u001b[0m         \u001b[0;32mreturn\u001b[0m \u001b[0mnp\u001b[0m\u001b[0;34m.\u001b[0m\u001b[0mall\u001b[0m\u001b[0;34m(\u001b[0m\u001b[0mself\u001b[0m\u001b[0;34m.\u001b[0m\u001b[0mbit_array\u001b[0m\u001b[0;34m[\u001b[0m\u001b[0mhash_matrix\u001b[0m\u001b[0;34m]\u001b[0m\u001b[0;34m,\u001b[0m \u001b[0maxis\u001b[0m\u001b[0;34m=\u001b[0m\u001b[0;36m1\u001b[0m\u001b[0;34m)\u001b[0m\u001b[0;34m\u001b[0m\u001b[0;34m\u001b[0m\u001b[0m\n\u001b[1;32m    883\u001b[0m \u001b[0;34m\u001b[0m\u001b[0m\n",
      "\u001b[0;32m~/artifacts/pacha_sketch_prototype/experiments/../lib/sketches.py\u001b[0m in \u001b[0;36mhash_values_batch\u001b[0;34m(self, elements)\u001b[0m\n\u001b[1;32m    222\u001b[0m         \u001b[0;31m# Step 1: Compute base hashes for all elements\u001b[0m\u001b[0;34m\u001b[0m\u001b[0;34m\u001b[0m\u001b[0m\n\u001b[1;32m    223\u001b[0m         \u001b[0;32mif\u001b[0m \u001b[0misinstance\u001b[0m\u001b[0;34m(\u001b[0m\u001b[0melements\u001b[0m\u001b[0;34m,\u001b[0m \u001b[0mnp\u001b[0m\u001b[0;34m.\u001b[0m\u001b[0mndarray\u001b[0m\u001b[0;34m)\u001b[0m\u001b[0;34m:\u001b[0m\u001b[0;34m\u001b[0m\u001b[0;34m\u001b[0m\u001b[0m\n\u001b[0;32m--> 224\u001b[0;31m             \u001b[0mbase_hashes\u001b[0m \u001b[0;34m=\u001b[0m \u001b[0mnp\u001b[0m\u001b[0;34m.\u001b[0m\u001b[0marray\u001b[0m\u001b[0;34m(\u001b[0m\u001b[0;34m[\u001b[0m\u001b[0mhash\u001b[0m\u001b[0;34m(\u001b[0m\u001b[0mtuple\u001b[0m\u001b[0;34m(\u001b[0m\u001b[0mx\u001b[0m\u001b[0;34m)\u001b[0m\u001b[0;34m)\u001b[0m \u001b[0;32mfor\u001b[0m \u001b[0mx\u001b[0m \u001b[0;32min\u001b[0m \u001b[0melements\u001b[0m\u001b[0;34m]\u001b[0m\u001b[0;34m)\u001b[0m\u001b[0;34m\u001b[0m\u001b[0;34m\u001b[0m\u001b[0m\n\u001b[0m\u001b[1;32m    225\u001b[0m         \u001b[0;32melse\u001b[0m\u001b[0;34m:\u001b[0m\u001b[0;34m\u001b[0m\u001b[0;34m\u001b[0m\u001b[0m\n\u001b[1;32m    226\u001b[0m             \u001b[0mbase_hashes\u001b[0m \u001b[0;34m=\u001b[0m \u001b[0mnp\u001b[0m\u001b[0;34m.\u001b[0m\u001b[0marray\u001b[0m\u001b[0;34m(\u001b[0m\u001b[0;34m[\u001b[0m\u001b[0mhash\u001b[0m\u001b[0;34m(\u001b[0m\u001b[0mx\u001b[0m\u001b[0;34m)\u001b[0m \u001b[0;32mfor\u001b[0m \u001b[0mx\u001b[0m \u001b[0;32min\u001b[0m \u001b[0melements\u001b[0m\u001b[0;34m]\u001b[0m\u001b[0;34m)\u001b[0m  \u001b[0;31m# shape: (n_elements,)\u001b[0m\u001b[0;34m\u001b[0m\u001b[0;34m\u001b[0m\u001b[0m\n",
      "\u001b[0;31mKeyboardInterrupt\u001b[0m: "
     ]
    }
   ],
   "source": [
    "bank_results_2 = evaluate_queries(bank_df, bank_queries_2[\"queries\"], bank_p_sketch, path_to_file=\"../results/accuracy/bank_2_p_sketch.csv\")"
   ]
  },
  {
   "cell_type": "code",
   "execution_count": null,
   "id": "0331da79",
   "metadata": {},
   "outputs": [],
   "source": [
    "bank_results_4 = evaluate_queries(bank_df, bank_queries_4[\"queries\"], bank_p_sketch, path_to_file=\"../results/accuracy/bank_4_p_sketch.csv\")"
   ]
  }
 ],
 "metadata": {
  "kernelspec": {
   "display_name": "Python 3",
   "language": "python",
   "name": "python3"
  },
  "language_info": {
   "codemirror_mode": {
    "name": "ipython",
    "version": 3
   },
   "file_extension": ".py",
   "mimetype": "text/x-python",
   "name": "python",
   "nbconvert_exporter": "python",
   "pygments_lexer": "ipython3",
   "version": "3.12.3"
  }
 },
 "nbformat": 4,
 "nbformat_minor": 5
}
