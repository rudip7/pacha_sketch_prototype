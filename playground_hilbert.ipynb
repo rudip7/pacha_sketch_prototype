{
 "cells": [
  {
   "cell_type": "code",
   "execution_count": 1,
   "metadata": {},
   "outputs": [
    {
     "name": "stdout",
     "output_type": "stream",
     "text": [
      "Index 42 maps to coordinates [2, 1, 2]\n",
      "Coordinates [2, 1, 2] map back to index 42\n"
     ]
    }
   ],
   "source": [
    "import numpy as np\n",
    "\n",
    "def bit_interleave(*args):\n",
    "    \"\"\"Interleave bits from multiple coordinates to generate a Hilbert index.\"\"\"\n",
    "    n = len(args)\n",
    "    max_bits = max(arg.bit_length() for arg in args)\n",
    "    result = 0\n",
    "    for i in range(max_bits):\n",
    "        for j in range(n):\n",
    "            if args[j] & (1 << i):\n",
    "                result |= (1 << (i * n + j))\n",
    "    return result\n",
    "\n",
    "def bit_deinterleave(index, dims, bits):\n",
    "    \"\"\"Extract coordinate values from a Hilbert index.\"\"\"\n",
    "    coords = [0] * dims\n",
    "    for i in range(bits):\n",
    "        for j in range(dims):\n",
    "            if index & (1 << (i * dims + j)):\n",
    "                coords[j] |= (1 << i)\n",
    "    return coords\n",
    "\n",
    "def hilbert_index_to_coordinates(index, dims, order):\n",
    "    \"\"\"Convert a Hilbert index into n-dimensional coordinates.\"\"\"\n",
    "    bits = order\n",
    "    return bit_deinterleave(index, dims, bits)\n",
    "\n",
    "def coordinates_to_hilbert_index(coords, order):\n",
    "    \"\"\"Convert n-dimensional coordinates to a Hilbert index.\"\"\"\n",
    "    return bit_interleave(*coords)\n",
    "\n",
    "# Example Usage\n",
    "dims = 3  # 3D Hilbert curve\n",
    "order = 5  # Curve order (higher = finer resolution)\n",
    "index = 42\n",
    "coords = hilbert_index_to_coordinates(index, dims, order)\n",
    "recovered_index = coordinates_to_hilbert_index(coords, order)\n",
    "\n",
    "print(f\"Index {index} maps to coordinates {coords}\")\n",
    "print(f\"Coordinates {coords} map back to index {recovered_index}\")\n"
   ]
  },
  {
   "cell_type": "code",
   "execution_count": 6,
   "metadata": {},
   "outputs": [
    {
     "data": {
      "image/png": "[encoded data removed]",
      "text/plain": [
       "<Figure size 1152x288 with 4 Axes>"
      ]
     },
     "metadata": {
      "needs_background": "light"
     },
     "output_type": "display_data"
    }
   ],
   "source": [
    "import numpy             as np\n",
    "import matplotlib.pyplot as plt\n",
    "\n",
    "from hilbert import decode\n",
    "from hilbert import encode\n",
    "\n",
    "num_dims = 2\n",
    "\n",
    "def draw_curve(ax, num_dims, num_bits):\n",
    "\n",
    "  # The maximum Hilbert integer.\n",
    "  max_h = 2**(num_bits*num_dims)\n",
    "\n",
    "  # Generate a sequence of Hilbert integers.\n",
    "  hilberts = np.arange(max_h)\n",
    "\n",
    "  # Compute the 2-dimensional locations.\n",
    "  locs = decode(hilberts, num_dims, num_bits)\n",
    "\n",
    "  # Draw\n",
    "  ax.plot(locs[:,0], locs[:,1], '.-')\n",
    "  ax.set_aspect('equal')\n",
    "  ax.set_title('%d bits per dimension' % (num_bits))\n",
    "  ax.set_xlabel('dim 1')\n",
    "  ax.set_ylabel('dim 2')\n",
    "\n",
    "\n",
    "fig = plt.figure(figsize=(16,4))\n",
    "for ii, num_bits in enumerate([2, 3, 4, 5]):\n",
    "  ax = fig.add_subplot(1,4,ii+1)\n",
    "  draw_curve(ax, num_dims, num_bits)"
   ]
  },
  {
   "cell_type": "code",
   "execution_count": 7,
   "metadata": {},
   "outputs": [],
   "source": [
    "def draw_hilbert_range(ax, range, num_dims, num_bits):\n",
    "  # Generate a sequence of Hilbert integers.\n",
    "  hilberts = np.arange(range[0], range[1]+1)\n",
    "\n",
    "  # Compute the 2-dimensional locations.\n",
    "  locs = decode(hilberts, num_dims, num_bits)\n",
    "\n",
    "  # Draw\n",
    "  ax.plot(locs[:,0], locs[:,1], 'r.-', )"
   ]
  },
  {
   "cell_type": "code",
   "execution_count": 19,
   "metadata": {},
   "outputs": [
    {
     "data": {
      "text/plain": [
       "array([0])"
      ]
     },
     "execution_count": 19,
     "metadata": {},
     "output_type": "execute_result"
    }
   ],
   "source": [
    "np.arange(0,1)"
   ]
  },
  {
   "cell_type": "code",
   "execution_count": 88,
   "metadata": {},
   "outputs": [],
   "source": [
    "from itertools import product\n",
    "import matplotlib.pyplot as plt\n",
    "import numpy             as np\n",
    "\n",
    "\n",
    "from hilbert import decode\n",
    "from hilbert import encode\n",
    "\n",
    "\n",
    "\n",
    "\n",
    "def get_border_coordinates(query):\n",
    "    dimensions = len(query)\n",
    "    ranges = [list(range(interval[0], interval[1] + 1)) for interval in query]\n",
    "    \n",
    "    border_points = []\n",
    "    \n",
    "    for point in product(*ranges):\n",
    "        for i in range(dimensions):\n",
    "            if point[i] == query[i][0] or point[i] == query[i][1]:\n",
    "                border_points.append(list(point))\n",
    "                break\n",
    "    \n",
    "    return np.asarray(border_points)\n",
    "\n",
    "def get_hilbert_ranges(query, num_dims, num_bits):\n",
    "    query = np.asarray(query)\n",
    "    border_coords = get_border_coordinates(query)\n",
    "    hilbert_indices = np.asarray(sorted(encode(border_coords, num_dims, num_bits)))\n",
    "\n",
    "    # Check where the border points are not contiguous\n",
    "    end_indices = np.where(hilbert_indices[1:] != hilbert_indices[:-1] + 1)[0]\n",
    "    # Special case for point ranges\n",
    "    point_ranges = np.where(end_indices[1:] == end_indices[:-1] + 1)[0] + 1 \n",
    "    hilbert_indices_point_ranges = hilbert_indices[end_indices[point_ranges]]\n",
    "    next_to_point_ranges = hilbert_indices[end_indices[point_ranges] + 1]\n",
    "    next_to_point_ranges = np.setdiff1d(next_to_point_ranges, hilbert_indices_point_ranges)\n",
    "\n",
    "    # Remove point ranges\n",
    "    mask = np.ones(len(end_indices), dtype=bool)\n",
    "    mask[point_ranges] = False\n",
    "    end_indices = end_indices[mask]\n",
    "\n",
    "    # Compute adjecent Hilbert indices\n",
    "    adjecent_hilbert_indices = hilbert_indices[end_indices] + 1\n",
    "\n",
    "    # Compute coordinates of adjecent hilbert indices\n",
    "    adjecent_coords = decode(adjecent_hilbert_indices, num_dims, num_bits)\n",
    "\n",
    "    # Check if the adjecent coordinates fall within the query\n",
    "    inside_mask = np.all((adjecent_coords >= query[:, 0]) & (adjecent_coords <= query[:, 1]), axis=1)\n",
    "    outside_mask = ~inside_mask\n",
    "\n",
    "    # Keep only the Hilbert indices that the adjecent coordinates fall outside the query\n",
    "    cut_indices = np.concatenate([[0], end_indices[outside_mask], [len(hilbert_indices) - 1]])\n",
    "    cut_hilbert_indices = hilbert_indices[cut_indices]\n",
    "\n",
    "    # Add the point ranges\n",
    "    cut_hilbert_indices = np.union1d(cut_hilbert_indices, next_to_point_ranges)\n",
    "    cut_hilbert_indices = np.concatenate([cut_hilbert_indices, np.repeat(hilbert_indices_point_ranges, 2)])\n",
    "    cut_hilbert_indices = np.sort(cut_hilbert_indices)\n",
    "\n",
    "    # Build the ranges\n",
    "    ranges = []\n",
    "    for i in range(0, len(cut_hilbert_indices) - 1, 2):\n",
    "        ranges.append((cut_hilbert_indices[i], cut_hilbert_indices[i+1]))\n",
    "    \n",
    "    return ranges"
   ]
  },
  {
   "cell_type": "code",
   "execution_count": 92,
   "metadata": {},
   "outputs": [
    {
     "data": {
      "text/plain": [
       "[(np.uint64(2), np.uint64(13))]"
      ]
     },
     "execution_count": 92,
     "metadata": {},
     "output_type": "execute_result"
    }
   ],
   "source": [
    "ranges"
   ]
  },
  {
   "cell_type": "code",
   "execution_count": null,
   "metadata": {},
   "outputs": [],
   "source": [
    "num_dims = 2\n",
    "num_bits = 3\n",
    "\n",
    "query = [[1, 6], [0, 3]]\n",
    "\n",
    "ranges = get_hilbert_ranges(query, num_dims, num_bits)\n",
    "\n",
    "fig = plt.figure(figsize=(16,16))\n",
    "ax = fig.add_subplot(1,4,1)\n",
    "draw_curve(ax, num_dims, num_bits)\n",
    "for r in ranges:\n",
    "    draw_hilbert_range(ax, r, num_dims, num_bits)"
   ]
  },
  {
   "cell_type": "code",
   "execution_count": 11,
   "metadata": {},
   "outputs": [
    {
     "data": {
      "text/plain": [
       "array([[0, 0],\n",
       "       [0, 2],\n",
       "       [2, 0],\n",
       "       [2, 2]])"
      ]
     },
     "execution_count": 11,
     "metadata": {},
     "output_type": "execute_result"
    }
   ],
   "source": [
    "from itertools import product\n",
    "\n",
    "query = [(0, 2), (0, 2)]\n",
    "\n",
    "min_corner = [b[0] for b in query]\n",
    "max_corner = [b[1] for b in query]\n",
    "corners = list(product(*[[min_corner[d], max_corner[d]] for d in range(dims)]))\n",
    "np.asarray(corners)"
   ]
  },
  {
   "cell_type": "code",
   "execution_count": 12,
   "metadata": {},
   "outputs": [
    {
     "data": {
      "text/plain": [
       "array([ 0, 14,  4,  8], dtype=uint64)"
      ]
     },
     "execution_count": 12,
     "metadata": {},
     "output_type": "execute_result"
    }
   ],
   "source": [
    "encode(np.asarray(corners), num_dims, num_bits)"
   ]
  },
  {
   "cell_type": "code",
   "execution_count": 13,
   "metadata": {},
   "outputs": [
    {
     "data": {
      "text/plain": [
       "[np.uint64(0), np.uint64(4), np.uint64(8), np.uint64(14)]"
      ]
     },
     "execution_count": 13,
     "metadata": {},
     "output_type": "execute_result"
    }
   ],
   "source": [
    "sorted(encode(np.asarray(corners), num_dims, num_bits))"
   ]
  },
  {
   "cell_type": "code",
   "execution_count": null,
   "metadata": {},
   "outputs": [],
   "source": [
    "import timeit\n",
    "import hashlib\n",
    "\n"
   ]
  }
 ],
 "metadata": {
  "kernelspec": {
   "display_name": "Python 3",
   "language": "python",
   "name": "python3"
  },
  "language_info": {
   "codemirror_mode": {
    "name": "ipython",
    "version": 3
   },
   "file_extension": ".py",
   "mimetype": "text/x-python",
   "name": "python",
   "nbconvert_exporter": "python",
   "pygments_lexer": "ipython3",
   "version": "3.12.3"
  }
 },
 "nbformat": 4,
 "nbformat_minor": 2
}
