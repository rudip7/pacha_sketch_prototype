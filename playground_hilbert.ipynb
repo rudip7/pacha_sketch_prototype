{
 "cells": [
  {
   "cell_type": "code",
   "execution_count": 1,
   "metadata": {},
   "outputs": [
    {
     "name": "stdout",
     "output_type": "stream",
     "text": [
      "Index 42 maps to coordinates [2, 1, 2]\n",
      "Coordinates [2, 1, 2] map back to index 42\n"
     ]
    }
   ],
   "source": [
    "import numpy as np\n",
    "\n",
    "def bit_interleave(*args):\n",
    "    \"\"\"Interleave bits from multiple coordinates to generate a Hilbert index.\"\"\"\n",
    "    n = len(args)\n",
    "    max_bits = max(arg.bit_length() for arg in args)\n",
    "    result = 0\n",
    "    for i in range(max_bits):\n",
    "        for j in range(n):\n",
    "            if args[j] & (1 << i):\n",
    "                result |= (1 << (i * n + j))\n",
    "    return result\n",
    "\n",
    "def bit_deinterleave(index, dims, bits):\n",
    "    \"\"\"Extract coordinate values from a Hilbert index.\"\"\"\n",
    "    coords = [0] * dims\n",
    "    for i in range(bits):\n",
    "        for j in range(dims):\n",
    "            if index & (1 << (i * dims + j)):\n",
    "                coords[j] |= (1 << i)\n",
    "    return coords\n",
    "\n",
    "def hilbert_index_to_coordinates(index, dims, order):\n",
    "    \"\"\"Convert a Hilbert index into n-dimensional coordinates.\"\"\"\n",
    "    bits = order\n",
    "    return bit_deinterleave(index, dims, bits)\n",
    "\n",
    "def coordinates_to_hilbert_index(coords, order):\n",
    "    \"\"\"Convert n-dimensional coordinates to a Hilbert index.\"\"\"\n",
    "    return bit_interleave(*coords)\n",
    "\n",
    "# Example Usage\n",
    "dims = 3  # 3D Hilbert curve\n",
    "order = 5  # Curve order (higher = finer resolution)\n",
    "index = 42\n",
    "coords = hilbert_index_to_coordinates(index, dims, order)\n",
    "recovered_index = coordinates_to_hilbert_index(coords, order)\n",
    "\n",
    "print(f\"Index {index} maps to coordinates {coords}\")\n",
    "print(f\"Coordinates {coords} map back to index {recovered_index}\")\n"
   ]
  },
  {
   "cell_type": "code",
   "execution_count": 6,
   "metadata": {},
   "outputs": [
    {
     "data": {
      "image/png": "[encoded data removed]",
      "text/plain": [
       "<Figure size 1152x288 with 4 Axes>"
      ]
     },
     "metadata": {
      "needs_background": "light"
     },
     "output_type": "display_data"
    }
   ],
   "source": [
    "import numpy             as np\n",
    "import matplotlib.pyplot as plt\n",
    "\n",
    "from hilbert import decode\n",
    "from hilbert import encode\n",
    "\n",
    "num_dims = 2\n",
    "\n",
    "def draw_curve(ax, num_dims, num_bits):\n",
    "\n",
    "  # The maximum Hilbert integer.\n",
    "  max_h = 2**(num_bits*num_dims)\n",
    "\n",
    "  # Generate a sequence of Hilbert integers.\n",
    "  hilberts = np.arange(max_h)\n",
    "\n",
    "  # Compute the 2-dimensional locations.\n",
    "  locs = decode(hilberts, num_dims, num_bits)\n",
    "\n",
    "  # Draw\n",
    "  ax.plot(locs[:,0], locs[:,1], '.-')\n",
    "  ax.set_aspect('equal')\n",
    "  ax.set_title('%d bits per dimension' % (num_bits))\n",
    "  ax.set_xlabel('dim 1')\n",
    "  ax.set_ylabel('dim 2')\n",
    "\n",
    "\n",
    "fig = plt.figure(figsize=(16,4))\n",
    "for ii, num_bits in enumerate([2, 3, 4, 5]):\n",
    "  ax = fig.add_subplot(1,4,ii+1)\n",
    "  draw_curve(ax, num_dims, num_bits)"
   ]
  },
  {
   "cell_type": "code",
   "execution_count": 7,
   "metadata": {},
   "outputs": [],
   "source": [
    "def draw_hilbert_range(ax, range, num_dims, num_bits):\n",
    "  # Generate a sequence of Hilbert integers.\n",
    "  hilberts = np.arange(range[0], range[1]+1)\n",
    "\n",
    "  # Compute the 2-dimensional locations.\n",
    "  locs = decode(hilberts, num_dims, num_bits)\n",
    "\n",
    "  # Draw\n",
    "  ax.plot(locs[:,0], locs[:,1], 'r.-', )"
   ]
  },
  {
   "cell_type": "code",
   "execution_count": 19,
   "metadata": {},
   "outputs": [
    {
     "data": {
      "text/plain": [
       "array([0])"
      ]
     },
     "execution_count": 19,
     "metadata": {},
     "output_type": "execute_result"
    }
   ],
   "source": [
    "np.arange(0,1)"
   ]
  },
  {
   "cell_type": "code",
   "execution_count": 171,
   "metadata": {},
   "outputs": [],
   "source": [
    "from itertools import product\n",
    "import matplotlib.pyplot as plt\n",
    "import numpy             as np\n",
    "\n",
    "\n",
    "from hilbert import decode\n",
    "from hilbert import encode\n",
    "\n",
    "\n",
    "\n",
    "\n",
    "def get_border_coordinates(query):\n",
    "    dimensions = len(query)\n",
    "    ranges = [list(range(interval[0], interval[1] + 1)) for interval in query]\n",
    "    \n",
    "    border_points = []\n",
    "    \n",
    "    for point in product(*ranges):\n",
    "        for i in range(dimensions):\n",
    "            if point[i] == query[i][0] or point[i] == query[i][1]:\n",
    "                border_points.append(list(point))\n",
    "                break\n",
    "    \n",
    "    return np.asarray(border_points)\n",
    "\n",
    "def check_jump(hilbert_1, hilbert_2):\n",
    "    return hilbert_1 != hilbert_2 - 1\n",
    "\n",
    "def get_hilbert_ranges2(query, num_dims, num_bits):\n",
    "    query = np.asarray(query)\n",
    "    border_coords = get_border_coordinates(query)\n",
    "    hilbert_indices = np.asarray(sorted(encode(border_coords, num_dims, num_bits)))\n",
    "\n",
    "    ranges = []\n",
    "    i = 0\n",
    "    start = hilbert_indices[i]\n",
    "    \n",
    "    while i < len(hilbert_indices):\n",
    "        # Case 1: Check if in the current position we have a point range\n",
    "        # Special case where the point range is at the beginning\n",
    "        if start == hilbert_indices[i]:\n",
    "            if i == 0 and check_jump(hilbert_indices[i], hilbert_indices[i+1]):\n",
    "                end = hilbert_indices[i]\n",
    "                ranges.append((start, end))\n",
    "                if i + 1 < len(hilbert_indices):\n",
    "                    start = hilbert_indices[i+1]\n",
    "            # Special case where the point range is at the end\n",
    "            elif i == len(hilbert_indices) - 1 and check_jump(hilbert_indices[i-1], hilbert_indices[i]):\n",
    "                end = hilbert_indices[i]\n",
    "                ranges.append((start, end))\n",
    "            # General case\n",
    "            elif i > 0 and i < len(hilbert_indices) - 1 and check_jump(hilbert_indices[i-1], hilbert_indices[i]) and check_jump(hilbert_indices[i], hilbert_indices[i+1]):\n",
    "                # Check for consecutive point ranges\n",
    "                if check_jump(hilbert_indices[i+1], hilbert_indices[i+2]):\n",
    "                    next_coords = decode(hilbert_indices[i]+1, num_dims, num_bits)\n",
    "                    if np.all((next_coords >= query[:, 0]) & (next_coords <= query[:, 1]), axis=1)[0]:\n",
    "                        end = hilbert_indices[i+1]\n",
    "                        ranges.append((start, end))\n",
    "                        start = hilbert_indices[i+2]\n",
    "                        i += 1\n",
    "                    else:\n",
    "                        end = hilbert_indices[i]\n",
    "                        ranges.append((start, end))\n",
    "                        start = hilbert_indices[i+1]\n",
    "                else:\n",
    "                    end = hilbert_indices[i]\n",
    "                    ranges.append((start, end))\n",
    "                    start = hilbert_indices[i+1]\n",
    "\n",
    "        # Case 2: Build a normal range\n",
    "        # Next boder point is not contiguous in the Hilbert curve\n",
    "        elif i < len(hilbert_indices) - 1 and check_jump(hilbert_indices[i], hilbert_indices[i+1]):\n",
    "            # Check if the next Hilbert index is outside the query's bounds\n",
    "            next_coords = decode(hilbert_indices[i]+1, num_dims, num_bits)\n",
    "            if not np.all((next_coords >= query[:, 0]) & (next_coords <= query[:, 1]), axis=1)[0]:\n",
    "                end = hilbert_indices[i]\n",
    "                ranges.append((start, end))\n",
    "                start = hilbert_indices[i+1]\n",
    "        elif i == len(hilbert_indices) - 1:\n",
    "            end = hilbert_indices[i]\n",
    "            ranges.append((start, end))\n",
    "                \n",
    "        i += 1\n",
    "\n",
    "    return ranges\n",
    "\n",
    "\n",
    "\n",
    "def get_hilbert_ranges(query, num_dims, num_bits):\n",
    "    query = np.asarray(query)\n",
    "    border_coords = get_border_coordinates(query)\n",
    "    hilbert_indices = np.asarray(sorted(encode(border_coords, num_dims, num_bits)))\n",
    "\n",
    "    # Check where the border points are not contiguous\n",
    "    end_indices = np.where(hilbert_indices[1:] != hilbert_indices[:-1] + 1)[0]\n",
    "    # Search for point ranges\n",
    "    point_ranges = np.where(end_indices[1:] == end_indices[:-1] + 1)[0] + 1 \n",
    "    # Remove point ranges that are consecutive\n",
    "    false_point_mask = []\n",
    "    i = 0\n",
    "    while i < len(point_ranges)-1:\n",
    "        if end_indices[point_ranges[i]] == end_indices[point_ranges[i+1]] - 1:\n",
    "            false_point_mask.append(False)\n",
    "            false_point_mask.append(False)\n",
    "            i += 2\n",
    "        else:\n",
    "            false_point_mask.append(True)\n",
    "            i += 1\n",
    "    if len(point_ranges) > len(false_point_mask):\n",
    "        false_point_mask.append(True)\n",
    "    point_ranges = point_ranges[false_point_mask]\n",
    "\n",
    "    # Handle special case where a point range is at the beginning\n",
    "    if end_indices[0] == 0:\n",
    "        point_ranges = np.concatenate([[0], point_ranges])\n",
    "    \n",
    "    next_to_point_ranges = hilbert_indices[end_indices[point_ranges] + 1]\n",
    "    hilbert_indices_point_ranges = hilbert_indices[end_indices[point_ranges]]\n",
    "\n",
    "    # Handle special case where a point range is at the end\n",
    "    if end_indices[-1] == len(hilbert_indices) - 2:\n",
    "        hilbert_indices_point_ranges = np.concatenate([hilbert_indices_point_ranges, [hilbert_indices[-1]]])\n",
    "\n",
    "    next_to_point_ranges = np.setdiff1d(next_to_point_ranges, hilbert_indices_point_ranges)\n",
    "\n",
    "    # Remove point ranges\n",
    "    point_mask = np.ones(len(end_indices), dtype=bool)\n",
    "    point_mask[point_ranges] = False\n",
    "    end_indices = end_indices[point_mask]\n",
    "\n",
    "    # Compute adjecent Hilbert indices\n",
    "    adjecent_hilbert_indices = hilbert_indices[end_indices] + 1\n",
    "\n",
    "    # Compute coordinates of adjecent hilbert indices\n",
    "    adjecent_coords = decode(adjecent_hilbert_indices, num_dims, num_bits)\n",
    "\n",
    "    # Check if the adjecent coordinates fall within the query\n",
    "    inside_mask = np.all((adjecent_coords >= query[:, 0]) & (adjecent_coords <= query[:, 1]), axis=1)\n",
    "    outside_mask = ~inside_mask\n",
    "\n",
    "    # Keep only the Hilbert indices that the adjecent coordinates fall outside the query (exit points) \n",
    "    cut_indices = end_indices[outside_mask]\n",
    "    # and the next following Hilbert indices in the border (re-entry points)\n",
    "    cut_indices = np.concatenate([cut_indices, cut_indices + 1])\n",
    "\n",
    "    cut_indices = np.concatenate([[0], cut_indices, [len(hilbert_indices) - 1]])\n",
    "    cut_hilbert_indices = hilbert_indices[cut_indices]\n",
    "\n",
    "    # Add the point ranges\n",
    "    cut_hilbert_indices = np.setdiff1d(cut_hilbert_indices, hilbert_indices_point_ranges)\n",
    "    cut_hilbert_indices = np.union1d(cut_hilbert_indices, next_to_point_ranges)\n",
    "    cut_hilbert_indices = np.concatenate([cut_hilbert_indices, np.repeat(hilbert_indices_point_ranges, 2)])\n",
    "    cut_hilbert_indices = np.sort(cut_hilbert_indices)\n",
    "\n",
    "    # Build the ranges\n",
    "    ranges = []\n",
    "    for i in range(0, len(cut_hilbert_indices) - 1, 2):\n",
    "        ranges.append((cut_hilbert_indices[i], cut_hilbert_indices[i+1]))\n",
    "    \n",
    "    return ranges"
   ]
  },
  {
   "cell_type": "code",
   "execution_count": 173,
   "metadata": {},
   "outputs": [
    {
     "data": {
      "image/png": "[encoded data removed]",
      "text/plain": [
       "<Figure size 1152x1152 with 1 Axes>"
      ]
     },
     "metadata": {
      "needs_background": "light"
     },
     "output_type": "display_data"
    }
   ],
   "source": [
    "num_dims = 2\n",
    "num_bits = 3\n",
    "\n",
    "query = [[2, 6], [2, 6]]\n",
    "\n",
    "ranges = get_hilbert_ranges2(query, num_dims, num_bits)\n",
    "\n",
    "fig = plt.figure(figsize=(16,16))\n",
    "ax = fig.add_subplot(1,4,1)\n",
    "draw_curve(ax, num_dims, num_bits)\n",
    "for r in ranges:\n",
    "    draw_hilbert_range(ax, r, num_dims, num_bits)"
   ]
  },
  {
   "cell_type": "code",
   "execution_count": 162,
   "metadata": {},
   "outputs": [
    {
     "data": {
      "image/png": "[encoded data removed]",
      "text/plain": [
       "<Figure size 1152x1152 with 1 Axes>"
      ]
     },
     "metadata": {
      "needs_background": "light"
     },
     "output_type": "display_data"
    }
   ],
   "source": [
    "num_dims = 2\n",
    "num_bits = 3\n",
    "\n",
    "query = [[2, 6], [2, 6]]\n",
    "\n",
    "ranges = get_hilbert_ranges(query, num_dims, num_bits)\n",
    "\n",
    "fig = plt.figure(figsize=(16,16))\n",
    "ax = fig.add_subplot(1,4,1)\n",
    "draw_curve(ax, num_dims, num_bits)\n",
    "for r in ranges:\n",
    "    draw_hilbert_range(ax, r, num_dims, num_bits)"
   ]
  },
  {
   "cell_type": "code",
   "execution_count": 11,
   "metadata": {},
   "outputs": [
    {
     "data": {
      "text/plain": [
       "array([[0, 0],\n",
       "       [0, 2],\n",
       "       [2, 0],\n",
       "       [2, 2]])"
      ]
     },
     "execution_count": 11,
     "metadata": {},
     "output_type": "execute_result"
    }
   ],
   "source": [
    "from itertools import product\n",
    "\n",
    "query = [(0, 2), (0, 2)]\n",
    "\n",
    "min_corner = [b[0] for b in query]\n",
    "max_corner = [b[1] for b in query]\n",
    "corners = list(product(*[[min_corner[d], max_corner[d]] for d in range(dims)]))\n",
    "np.asarray(corners)"
   ]
  },
  {
   "cell_type": "code",
   "execution_count": 12,
   "metadata": {},
   "outputs": [
    {
     "data": {
      "text/plain": [
       "array([ 0, 14,  4,  8], dtype=uint64)"
      ]
     },
     "execution_count": 12,
     "metadata": {},
     "output_type": "execute_result"
    }
   ],
   "source": [
    "encode(np.asarray(corners), num_dims, num_bits)"
   ]
  },
  {
   "cell_type": "code",
   "execution_count": 13,
   "metadata": {},
   "outputs": [
    {
     "data": {
      "text/plain": [
       "[np.uint64(0), np.uint64(4), np.uint64(8), np.uint64(14)]"
      ]
     },
     "execution_count": 13,
     "metadata": {},
     "output_type": "execute_result"
    }
   ],
   "source": [
    "sorted(encode(np.asarray(corners), num_dims, num_bits))"
   ]
  },
  {
   "cell_type": "code",
   "execution_count": null,
   "metadata": {},
   "outputs": [],
   "source": [
    "import timeit\n",
    "import hashlib\n",
    "\n"
   ]
  }
 ],
 "metadata": {
  "kernelspec": {
   "display_name": "Python 3",
   "language": "python",
   "name": "python3"
  },
  "language_info": {
   "codemirror_mode": {
    "name": "ipython",
    "version": 3
   },
   "file_extension": ".py",
   "mimetype": "text/x-python",
   "name": "python",
   "nbconvert_exporter": "python",
   "pygments_lexer": "ipython3",
   "version": "3.12.3"
  }
 },
 "nbformat": 4,
 "nbformat_minor": 2
}
